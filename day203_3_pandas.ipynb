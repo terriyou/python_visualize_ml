{
 "cells": [
  {
   "cell_type": "code",
   "execution_count": 5,
   "id": "1f8a52b2",
   "metadata": {},
   "outputs": [
    {
     "data": {
      "text/html": [
       "<style>.container { font-weight: bold !important; }</style>"
      ],
      "text/plain": [
       "<IPython.core.display.HTML object>"
      ]
     },
     "metadata": {},
     "output_type": "display_data"
    },
    {
     "data": {
      "text/html": [
       "<style>.container { width: 100% !important; }</style>"
      ],
      "text/plain": [
       "<IPython.core.display.HTML object>"
      ]
     },
     "metadata": {},
     "output_type": "display_data"
    }
   ],
   "source": [
    "# 쥬피터노트북 셀 스타일 조절 \n",
    "from IPython.core.display import display, HTML\n",
    "display(HTML(\"<style>.container { font-weight: bold !important; }</style>\"))\n",
    "display(HTML(\"<style>.container { width: 100% !important; }</style>\"))\n",
    "\n",
    "# 경고 메세지 숨기기 \n",
    "import warnings\n",
    "warnings.filterwarnings(action='ignore')"
   ]
  },
  {
   "cell_type": "code",
   "execution_count": 6,
   "id": "7fc37ea3",
   "metadata": {},
   "outputs": [],
   "source": [
    "import numpy as np \n",
    "import pandas as pd"
   ]
  },
  {
   "cell_type": "code",
   "execution_count": 3,
   "id": "cc3e38ed",
   "metadata": {},
   "outputs": [
    {
     "data": {
      "text/plain": [
       "'1.2.4'"
      ]
     },
     "execution_count": 3,
     "metadata": {},
     "output_type": "execute_result"
    }
   ],
   "source": [
    "pd.__version__"
   ]
  },
  {
   "cell_type": "code",
   "execution_count": 8,
   "id": "0dc5c3ca",
   "metadata": {},
   "outputs": [],
   "source": [
    "# print(dir(np), len(dir(np)))"
   ]
  },
  {
   "cell_type": "code",
   "execution_count": 9,
   "id": "c5656290",
   "metadata": {},
   "outputs": [],
   "source": [
    "# print(dir(pd), len(dir(pd)))"
   ]
  },
  {
   "cell_type": "markdown",
   "id": "ba215078",
   "metadata": {},
   "source": [
    "# 판다스의 자료 구조 \n",
    "\n",
    "- 넘파이 < 시리즈 < 데이타프레임 \n",
    "- 시리즈 \n",
    "- 데이타프레임 "
   ]
  },
  {
   "cell_type": "markdown",
   "id": "58e115b1",
   "metadata": {},
   "source": [
    "# 시리즈(Series)\n",
    "\n",
    "- 리스트와 딕셔너리 두가지의 장점을 섞어놓은 듯한 자료구조\n",
    "- 리스트나 튜플처럼 숫자인덱싱 \n",
    "- 딕셔너리와 같이 키인덱싱 \n",
    "```\n",
    "pd.Series(data=리스트/튜플/넘파이배열/딕셔너리, index=인덱스리스트)\n",
    "```"
   ]
  },
  {
   "cell_type": "code",
   "execution_count": 11,
   "id": "1e3122b5",
   "metadata": {},
   "outputs": [],
   "source": [
    "pd.Series?"
   ]
  },
  {
   "cell_type": "code",
   "execution_count": 16,
   "id": "c68ac570",
   "metadata": {},
   "outputs": [
    {
     "data": {
      "text/plain": [
       "a    1\n",
       "b    2\n",
       "c    3\n",
       "d    4\n",
       "e    5\n",
       "dtype: int64"
      ]
     },
     "execution_count": 16,
     "metadata": {},
     "output_type": "execute_result"
    }
   ],
   "source": [
    "# 딕셔너리 => 시리즈 \n",
    "mydict = {'a': 1, 'b': 2, 'c': 3, 'd':4, 'e':5}\n",
    "s1 = pd.Series(data=mydict)\n",
    "s1"
   ]
  },
  {
   "cell_type": "code",
   "execution_count": 17,
   "id": "c5db67fd",
   "metadata": {},
   "outputs": [
    {
     "data": {
      "text/plain": [
       "(pandas.core.series.Series, 5)"
      ]
     },
     "execution_count": 17,
     "metadata": {},
     "output_type": "execute_result"
    }
   ],
   "source": [
    "type(s1), len(s1)"
   ]
  },
  {
   "cell_type": "code",
   "execution_count": 22,
   "id": "c3028d0e",
   "metadata": {},
   "outputs": [
    {
     "data": {
      "text/plain": [
       "(1, 1, 5)"
      ]
     },
     "execution_count": 22,
     "metadata": {},
     "output_type": "execute_result"
    }
   ],
   "source": [
    "# 인덱싱 \n",
    "s1['a'] , s1[0] , s1[-1]"
   ]
  },
  {
   "cell_type": "code",
   "execution_count": 28,
   "id": "f6418567",
   "metadata": {},
   "outputs": [
    {
     "name": "stdout",
     "output_type": "stream",
     "text": [
      "a    1\n",
      "b    2\n",
      "dtype: int64\n",
      "\n",
      "a    1\n",
      "b    2\n",
      "c    3\n",
      "dtype: int64\n",
      "\n",
      "a    1\n",
      "c    3\n",
      "e    5\n",
      "dtype: int64\n",
      "\n",
      "e    5\n",
      "d    4\n",
      "c    3\n",
      "b    2\n",
      "a    1\n",
      "dtype: int64\n",
      "\n",
      "a    1\n",
      "d    4\n",
      "a    1\n",
      "b    2\n",
      "dtype: int64\n"
     ]
    }
   ],
   "source": [
    "# 슬라이싱 테스트 \n",
    "print(s1[:2])\n",
    "print()\n",
    "print(s1['a':'c'])\n",
    "print()\n",
    "print(s1[::2])\n",
    "print()\n",
    "print(s1[::-1])\n",
    "print()\n",
    "# 불연속인 데이타 출력 \n",
    "# 시리즈명[[인덱스1, 인덱스2 .... ]]\n",
    "print(s1[[0,3,0, 1]])"
   ]
  },
  {
   "cell_type": "code",
   "execution_count": 29,
   "id": "47bc142d",
   "metadata": {},
   "outputs": [
    {
     "data": {
      "text/plain": [
       "array([10,  9,  8,  7,  6,  5,  4,  3,  2,  1])"
      ]
     },
     "execution_count": 29,
     "metadata": {},
     "output_type": "execute_result"
    }
   ],
   "source": [
    "# 넘파이배열 => 시리즈 \n",
    "matrix = np.arange(10,0,-1)\n",
    "matrix"
   ]
  },
  {
   "cell_type": "code",
   "execution_count": 30,
   "id": "de377087",
   "metadata": {},
   "outputs": [
    {
     "data": {
      "text/plain": [
       "0    10\n",
       "1     9\n",
       "2     8\n",
       "3     7\n",
       "4     6\n",
       "5     5\n",
       "6     4\n",
       "7     3\n",
       "8     2\n",
       "9     1\n",
       "dtype: int32"
      ]
     },
     "execution_count": 30,
     "metadata": {},
     "output_type": "execute_result"
    }
   ],
   "source": [
    "s2 = pd.Series(matrix)\n",
    "s2"
   ]
  },
  {
   "cell_type": "code",
   "execution_count": 32,
   "id": "2c0d20b2",
   "metadata": {},
   "outputs": [
    {
     "data": {
      "text/plain": [
       "(10,\n",
       " 0    10\n",
       " 1     9\n",
       " 2     8\n",
       " 3     7\n",
       " 4     6\n",
       " dtype: int32)"
      ]
     },
     "execution_count": 32,
     "metadata": {},
     "output_type": "execute_result"
    }
   ],
   "source": [
    "s2[0], s2[0:5]"
   ]
  },
  {
   "cell_type": "code",
   "execution_count": 37,
   "id": "417c5ca1",
   "metadata": {},
   "outputs": [
    {
     "data": {
      "text/plain": [
       "(55, 5.5, 5.5, 1, 10)"
      ]
     },
     "execution_count": 37,
     "metadata": {},
     "output_type": "execute_result"
    }
   ],
   "source": [
    "np.sum(s2), np.mean(s2), np.median(s2), np.min(s2), np.max(s2)"
   ]
  },
  {
   "cell_type": "code",
   "execution_count": 38,
   "id": "d3140fec",
   "metadata": {},
   "outputs": [
    {
     "data": {
      "text/plain": [
       "('가', '나', True, 100, 3.14)"
      ]
     },
     "execution_count": 38,
     "metadata": {},
     "output_type": "execute_result"
    }
   ],
   "source": [
    "# 튜플 => 시리즈 \n",
    "# 시리즈의 데이터형은 혼합형이 가능하다. \n",
    "# 혼합형은 object \n",
    "myTuple = ('가', '나', True, 100, 3.14)\n",
    "myTuple"
   ]
  },
  {
   "cell_type": "code",
   "execution_count": 39,
   "id": "7eb674cc",
   "metadata": {},
   "outputs": [
    {
     "data": {
      "text/plain": [
       "0       가\n",
       "1       나\n",
       "2    True\n",
       "3     100\n",
       "4    3.14\n",
       "dtype: object"
      ]
     },
     "execution_count": 39,
     "metadata": {},
     "output_type": "execute_result"
    }
   ],
   "source": [
    "s3 = pd.Series(myTuple)\n",
    "s3"
   ]
  },
  {
   "cell_type": "code",
   "execution_count": 43,
   "id": "149ce28f",
   "metadata": {},
   "outputs": [
    {
     "data": {
      "text/plain": [
       "(bool, int, float)"
      ]
     },
     "execution_count": 43,
     "metadata": {},
     "output_type": "execute_result"
    }
   ],
   "source": [
    "type(s3[2]), type(s3[3]), type(s3[4])"
   ]
  },
  {
   "cell_type": "markdown",
   "id": "d4450ee8",
   "metadata": {},
   "source": [
    "# 시리즈 속성 \n",
    "- dtype 데이타형 확인 \n",
    "- values : 값만 넘파이배열 형태로 출력 \n",
    "- index : 시리즈의 인덱스값만 리스트 형태로 출력 "
   ]
  },
  {
   "cell_type": "code",
   "execution_count": 45,
   "id": "0f4efd52",
   "metadata": {},
   "outputs": [
    {
     "data": {
      "text/plain": [
       "(dtype('O'),\n",
       " array(['가', '나', True, 100, 3.14], dtype=object),\n",
       " RangeIndex(start=0, stop=5, step=1))"
      ]
     },
     "execution_count": 45,
     "metadata": {},
     "output_type": "execute_result"
    }
   ],
   "source": [
    "s3.dtype, s3.values, s3.index"
   ]
  },
  {
   "cell_type": "code",
   "execution_count": 46,
   "id": "c96ee0a8",
   "metadata": {},
   "outputs": [
    {
     "data": {
      "text/plain": [
       "numpy.ndarray"
      ]
     },
     "execution_count": 46,
     "metadata": {},
     "output_type": "execute_result"
    }
   ],
   "source": [
    "type(s3.values)"
   ]
  },
  {
   "cell_type": "code",
   "execution_count": 47,
   "id": "05b83b69",
   "metadata": {},
   "outputs": [
    {
     "data": {
      "text/plain": [
       "a    1\n",
       "b    2\n",
       "c    3\n",
       "d    4\n",
       "e    5\n",
       "dtype: int64"
      ]
     },
     "execution_count": 47,
     "metadata": {},
     "output_type": "execute_result"
    }
   ],
   "source": [
    "s1"
   ]
  },
  {
   "cell_type": "code",
   "execution_count": 48,
   "id": "b312d22d",
   "metadata": {},
   "outputs": [
    {
     "data": {
      "text/plain": [
       "Index(['a', 'b', 'c', 'd', 'e'], dtype='object')"
      ]
     },
     "execution_count": 48,
     "metadata": {},
     "output_type": "execute_result"
    }
   ],
   "source": [
    "s1.index"
   ]
  },
  {
   "cell_type": "code",
   "execution_count": 50,
   "id": "f3266861",
   "metadata": {},
   "outputs": [
    {
     "data": {
      "text/plain": [
       "(['a', 'b', 'c', 'd', 'e'], ('a', 'b', 'c', 'd', 'e'))"
      ]
     },
     "execution_count": 50,
     "metadata": {},
     "output_type": "execute_result"
    }
   ],
   "source": [
    "list(s1.index), tuple(s1.index)"
   ]
  },
  {
   "cell_type": "markdown",
   "id": "18869862",
   "metadata": {},
   "source": [
    "# 인덱스 이름, 시리즈 이름 지정 \n",
    "\n",
    "- 시리즈명.index.name=인덱스이름\n",
    "- 시리즈명.name=시리즈이름\n",
    "- 시리즈명.index = 리스트"
   ]
  },
  {
   "cell_type": "code",
   "execution_count": 56,
   "id": "26637930",
   "metadata": {},
   "outputs": [
    {
     "data": {
      "text/plain": [
       "회원\n",
       "Charles    35000\n",
       "Julia      71000\n",
       "Hayoung    16000\n",
       "Sangjae     5000\n",
       "Name: 보너스, dtype: int64"
      ]
     },
     "execution_count": 56,
     "metadata": {},
     "output_type": "execute_result"
    }
   ],
   "source": [
    "# 딕셔너리 => 시리즈 \n",
    "sdata = {\"Charles\": 35000, \"Julia\":71000, \"Hayoung\":16000, \"Sangjae\":5000}\n",
    "s4 = pd.Series(sdata, name=\"보너스\")\n",
    "s4.index.name=\"회원\"\n",
    "s4"
   ]
  },
  {
   "cell_type": "code",
   "execution_count": 58,
   "id": "e715b512",
   "metadata": {},
   "outputs": [
    {
     "data": {
      "text/plain": [
       "회원\n",
       "Charles    35000\n",
       "Julia      71000\n",
       "Hayoung    16000\n",
       "Sangjae     5000\n",
       "Name: 상여금, dtype: int64"
      ]
     },
     "execution_count": 58,
     "metadata": {},
     "output_type": "execute_result"
    }
   ],
   "source": [
    "s4.name = '상여금'\n",
    "s4"
   ]
  },
  {
   "cell_type": "code",
   "execution_count": 60,
   "id": "dec45ac1",
   "metadata": {},
   "outputs": [
    {
     "data": {
      "text/plain": [
       "메뉴1       라면\n",
       "메뉴2      짜장면\n",
       "메뉴3       짬뽕\n",
       "메뉴4    로제떡볶기\n",
       "dtype: object"
      ]
     },
     "execution_count": 60,
     "metadata": {},
     "output_type": "execute_result"
    }
   ],
   "source": [
    "# 리스트 => 시리즈 \n",
    "# 인덱스명은 별도 설정 \n",
    "myList = ['라면', '짜장면', '짬뽕', '로제떡볶기']\n",
    "s5 = pd.Series(myList, index=['메뉴1', '메뉴2', '메뉴3','메뉴4'])\n",
    "s5"
   ]
  },
  {
   "cell_type": "code",
   "execution_count": 62,
   "id": "619ecae3",
   "metadata": {
    "scrolled": true
   },
   "outputs": [
    {
     "data": {
      "text/plain": [
       "('짬뽕', '짬뽕')"
      ]
     },
     "execution_count": 62,
     "metadata": {},
     "output_type": "execute_result"
    }
   ],
   "source": [
    "s5['메뉴3'], s5[2]"
   ]
  },
  {
   "cell_type": "markdown",
   "id": "028ebb53",
   "metadata": {},
   "source": [
    "# 퀴즈 \n",
    "```\n",
    "Quiz 1\n",
    "1) 딕셔너리 생성 \n",
    "   {'a': 'apart', 'b': 'banana', 'c': 'cat'}\n",
    "2) 리스트 생성 \n",
    "  ['아파트', '바나나', '고양이']\n",
    "3) 1번의 키값 + 2번의 데이타 => 시리즈생성 \n",
    "  'a'   '아파트'\n",
    "  'b'   '바나나'\n",
    "  'c'   '고양이'\n",
    "  \n",
    "  \n",
    "Quiz 2\n",
    "아래와 같은 형태로 시리즈를 생성하고 평균값을 출력하여라\n",
    "\n",
    "과목 \n",
    "---------\n",
    "국어    90\n",
    "수학    80\n",
    "영어    100\n",
    "과학    55\n",
    "역사    70 \n",
    "Name:중간고사성적표, dtype=?\n",
    "---------\n",
    "평균 = ?\n",
    "```"
   ]
  },
  {
   "cell_type": "code",
   "execution_count": 9,
   "id": "d149ff0e",
   "metadata": {},
   "outputs": [],
   "source": [
    "# quiz1\n",
    "myDict = {'a': 'apart', 'b': 'banana', 'c': 'cat'}"
   ]
  },
  {
   "cell_type": "code",
   "execution_count": 10,
   "id": "3897eeb2",
   "metadata": {},
   "outputs": [],
   "source": [
    "myList = ['아파트', '바나나', '고양이']"
   ]
  },
  {
   "cell_type": "code",
   "execution_count": 12,
   "id": "1603f0f8",
   "metadata": {},
   "outputs": [
    {
     "data": {
      "text/plain": [
       "(dict_keys(['a', 'b', 'c']), dict_keys, ['a', 'b', 'c'])"
      ]
     },
     "execution_count": 12,
     "metadata": {},
     "output_type": "execute_result"
    }
   ],
   "source": [
    "# 딕셔너리의 키만 \n",
    "myDict.keys(), type(myDict.keys()), list(myDict.keys())"
   ]
  },
  {
   "cell_type": "code",
   "execution_count": 13,
   "id": "baa1adf1",
   "metadata": {},
   "outputs": [
    {
     "data": {
      "text/plain": [
       "a    아파트\n",
       "b    바나나\n",
       "c    고양이\n",
       "dtype: object"
      ]
     },
     "execution_count": 13,
     "metadata": {},
     "output_type": "execute_result"
    }
   ],
   "source": [
    "mySeries = pd.Series(myList, index=myDict.keys())\n",
    "mySeries"
   ]
  },
  {
   "cell_type": "code",
   "execution_count": null,
   "id": "cac06ac7",
   "metadata": {},
   "outputs": [],
   "source": [
    "# quiz2"
   ]
  },
  {
   "cell_type": "code",
   "execution_count": 15,
   "id": "10723c3c",
   "metadata": {},
   "outputs": [
    {
     "name": "stdout",
     "output_type": "stream",
     "text": [
      "과목\n",
      "국어     90\n",
      "수학     80\n",
      "영어    100\n",
      "과학     55\n",
      "역사     70\n",
      "Name: 중간고사성적표, dtype: int64\n",
      "---------\n",
      "평균 = 79.0\n"
     ]
    }
   ],
   "source": [
    "score = {'국어':90,'수학':80,'영어':100,'과학':55,'역사':70}\n",
    "pd_ave = pd.Series(score)\n",
    "pd_ave.name = '중간고사성적표'\n",
    "pd_ave.index.name = '과목'\n",
    "# ave=0\n",
    "# for i in pd_ave:\n",
    "#     ave = ave + i\n",
    "print(pd_ave)\n",
    "print(\"---------\")\n",
    "# print(\"평균 =\",ave/len(pd_ave))\n",
    "print(\"평균 =\", pd_ave.mean())"
   ]
  },
  {
   "cell_type": "code",
   "execution_count": null,
   "id": "ab17b37a",
   "metadata": {},
   "outputs": [],
   "source": []
  },
  {
   "cell_type": "code",
   "execution_count": null,
   "id": "f1f675d6",
   "metadata": {},
   "outputs": [],
   "source": []
  },
  {
   "cell_type": "code",
   "execution_count": null,
   "id": "b0ed37e1",
   "metadata": {},
   "outputs": [],
   "source": []
  },
  {
   "cell_type": "code",
   "execution_count": null,
   "id": "b750553b",
   "metadata": {},
   "outputs": [],
   "source": []
  }
 ],
 "metadata": {
  "kernelspec": {
   "display_name": "Python 3",
   "language": "python",
   "name": "python3"
  },
  "language_info": {
   "codemirror_mode": {
    "name": "ipython",
    "version": 3
   },
   "file_extension": ".py",
   "mimetype": "text/x-python",
   "name": "python",
   "nbconvert_exporter": "python",
   "pygments_lexer": "ipython3",
   "version": "3.8.8"
  }
 },
 "nbformat": 4,
 "nbformat_minor": 5
}
