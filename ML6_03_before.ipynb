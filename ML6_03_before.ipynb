{
 "cells": [
  {
   "cell_type": "code",
   "execution_count": null,
   "id": "dcbd65f4",
   "metadata": {},
   "outputs": [],
   "source": [
    "# 주피터 노트북 환경설정\n",
    "import warnings\n",
    "warnings.filterwarnings('ignore')\n",
    "warnings.simplefilter('ignore')\n",
    "\n",
    "from IPython.display import set_matplotlib_formats\n",
    "set_matplotlib_formats(\"retina\")\n",
    "\n",
    "from IPython.display import Image\n",
    "\n",
    "from IPython.core.display import display, HTML\n",
    "# display(HTML(\"<style>.container { font-weight: bold !important; font-family:'Malgun Gothic' !important;}</style>\"))\n",
    "display(HTML(\"<style>.container { font-weight: bold !important;}</style>\"))\n",
    "display(HTML(\"<style>.container { width: 98% !important; }</style>\"))"
   ]
  },
  {
   "cell_type": "code",
   "execution_count": null,
   "id": "540342cf",
   "metadata": {},
   "outputs": [],
   "source": [
    "import numpy as np\n",
    "import pandas as pd\n",
    "import os\n",
    "\n",
    "import matplotlib\n",
    "import matplotlib.pyplot as plt\n",
    "import seaborn as sns\n",
    "\n",
    "%matplotlib inline\n",
    "\n",
    "# 관련 라이브러리 임포트 \n",
    "import matplotlib.font_manager as fm\n",
    "\n",
    "#  한글글꼴로 변경\n",
    "# plt.rcParams['font.family'] = '한글글꼴명'\n",
    "plt.rcParams['font.size'] = 11.0\n",
    "# plt.rcParams['font.family'] = 'batang'\n",
    "plt.rcParams['font.family'] = 'Malgun Gothic'\n",
    "\n",
    "# 그래프에서 마이너스 폰트 깨지는 문제에 대한 대처\n",
    "matplotlib.rcParams['axes.unicode_minus'] = False\n",
    "\n",
    "# 그래프 기본 크기 설정 \n",
    "plt.rcParams['figure.figsize'] = [10, 6]"
   ]
  },
  {
   "cell_type": "markdown",
   "id": "863c778e",
   "metadata": {},
   "source": [
    "# 회귀 트리 \n",
    "\n",
    "- 결정 트리 기반의 DecisionTreeRegressor, 앙상블 기반의 GMM Regressor, Light GBM Regressor 등 \n",
    "- 회귀를 위한 트리를 생성하고 이를 기반으로 회귀 예측. \n",
    "\n",
    "### 회귀 Estimator 클래스\t\n",
    "Decision Tree Regressor\t <br>\n",
    "Gradient Boosting Regressor <br>\n",
    "XGBRegressor <br>\n",
    "LGBMRegressor <br>\n",
    "\n",
    "\n",
    "<img src='https://lucy-the-marketer.kr/wp-content/uploads/2021/03/Regression-tree-and-model-tree-example.png'>\n",
    "\n",
    "\n",
    "\n",
    "<img src='https://t1.daumcdn.net/cfile/tistory/99D8E1385F3FC38109'>"
   ]
  },
  {
   "cell_type": "code",
   "execution_count": null,
   "id": "8e230cff",
   "metadata": {},
   "outputs": [],
   "source": [
    "from sklearn.tree import DecisionTreeRegressor\n",
    "from sklearn.ensemble import RandomForestRegressor, GradientBoostingRegressor, AdaBoostRegressor\n",
    "from xgboost import XGBRegressor\n",
    "\n",
    "from sklearn.linear_model import LinearRegression, Ridge, Lasso, LogisticRegression\n",
    "from sklearn.ensemble import VotingRegressor\n",
    "\n",
    "from sklearn.metrics import accuracy_score, mean_absolute_error, r2_score, mean_squared_error\n",
    "from sklearn.metrics import f1_score, recall_score, precision_score, classification_report, r2_score, confusion_matrix\n",
    "\n",
    "from sklearn.preprocessing import PolynomialFeatures, StandardScaler, MinMaxScaler\n",
    "from sklearn.model_selection import train_test_split, cross_val_score, GridSearchCV\n",
    "\n",
    "from sklearn.pipeline import Pipeline"
   ]
  },
  {
   "cell_type": "markdown",
   "id": "5c5285ea",
   "metadata": {},
   "source": [
    "## 보스턴 데이타셋 준비\n",
    "\n",
    "```\n",
    "CRIM: 지역별 범죄 발생률\n",
    "ZN: 25,000평방피트를 초과하는 거주 지역의 비율\n",
    "NDUS: 비상업 지역 넓이 비율\n",
    "CHAS: 찰스강에 대한 더미 변수(강의 경계에 위치한 경우는 1, 아니면 0)\n",
    "NOX: 일산화질소 농도\n",
    "RM: 거주할 수 있는 방 개수\n",
    "AGE: 1940년 이전에 건축된 소유 주택의 비율\n",
    "DIS: 5개 주요 고용센터까지의 가중 거리\n",
    "RAD: 고속도로 접근 용이도\n",
    "TAX: 10,000달러당 재산세율\n",
    "PTRATIO: 지역의 교사와 학생 수 비율\n",
    "B: 지역의 흑인 거주 비율\n",
    "LSTAT: 하위 계층의 비율\n",
    "MEDV: 본인 소유의 주택 가격(중앙값)\n",
    "```"
   ]
  },
  {
   "cell_type": "code",
   "execution_count": null,
   "id": "afc6eb50",
   "metadata": {},
   "outputs": [],
   "source": [
    "from sklearn.datasets import load_boston\n",
    "\n",
    "boston = load_boston()\n",
    "boston_df = pd.DataFrame(boston.data, columns = boston.feature_names)\n",
    "\n",
    "boston_df['PRICE'] = boston.target\n",
    "y_target = boston_df['PRICE']\n",
    "X_data = boston_df.drop(['PRICE'], axis=1,inplace=False)"
   ]
  },
  {
   "cell_type": "code",
   "execution_count": null,
   "id": "57ce7fab",
   "metadata": {},
   "outputs": [],
   "source": [
    "boston_df.columns"
   ]
  },
  {
   "cell_type": "code",
   "execution_count": null,
   "id": "4b9dc5f0",
   "metadata": {},
   "outputs": [],
   "source": [
    "boston_df.describe()"
   ]
  },
  {
   "cell_type": "code",
   "execution_count": null,
   "id": "bc4090b1",
   "metadata": {},
   "outputs": [],
   "source": [
    "boston_df.sample(3)"
   ]
  },
  {
   "cell_type": "code",
   "execution_count": null,
   "id": "7f9a6513",
   "metadata": {},
   "outputs": [],
   "source": [
    "X_train, X_test, y_train, y_test = train_test_split(X_data, y_target, \n",
    "                                                    test_size=0.2, random_state=11)"
   ]
  },
  {
   "cell_type": "code",
   "execution_count": null,
   "id": "7acec460",
   "metadata": {},
   "outputs": [],
   "source": [
    "model_linear = LinearRegression()\n",
    "model_linear.fit(X_train, y_train)\n",
    "model_linear.score(X_test, y_test), r2_score(y_test, model_linear.predict(X_test))"
   ]
  },
  {
   "cell_type": "code",
   "execution_count": null,
   "id": "7fc03a40",
   "metadata": {},
   "outputs": [],
   "source": [
    "model_dtr = DecisionTreeRegressor(random_state=0)\n",
    "model_dtr.fit(X_train, y_train)\n",
    "model_dtr.score(X_test, y_test), r2_score(y_test, model_dtr.predict(X_test))"
   ]
  },
  {
   "cell_type": "code",
   "execution_count": null,
   "id": "940aae3f",
   "metadata": {},
   "outputs": [],
   "source": [
    "model_rfr = RandomForestRegressor(random_state=0, n_estimators=1000)\n",
    "model_rfr.fit(X_train, y_train)\n",
    "model_rfr.score(X_test, y_test), r2_score(y_test, model_rfr.predict(X_test))"
   ]
  },
  {
   "cell_type": "code",
   "execution_count": null,
   "id": "e570db0e",
   "metadata": {},
   "outputs": [],
   "source": [
    "model_gbr = GradientBoostingRegressor(random_state=0, n_estimators=1000)\n",
    "model_gbr.fit(X_train, y_train)\n",
    "model_gbr.score(X_test, y_test), r2_score(y_test, model_gbr.predict(X_test))"
   ]
  },
  {
   "cell_type": "code",
   "execution_count": null,
   "id": "a83d898f",
   "metadata": {},
   "outputs": [],
   "source": [
    "model_xgbr = XGBRegressor(random_state=0, n_estimators=1000)\n",
    "model_xgbr.fit(X_train, y_train)\n",
    "model_xgbr.score(X_test, y_test), r2_score(y_test, model_xgbr.predict(X_test))"
   ]
  },
  {
   "cell_type": "code",
   "execution_count": null,
   "id": "b587d43d",
   "metadata": {},
   "outputs": [],
   "source": [
    "# 랜덤포레스트 중요 피처 속성 \n",
    "feature_series = pd.Series(data=model_rfr.feature_importances_, index=X_data.columns )\n",
    "feature_series = feature_series.sort_values(ascending=False)\n",
    "sns.barplot(x= feature_series, y=feature_series.index)"
   ]
  },
  {
   "cell_type": "code",
   "execution_count": null,
   "id": "9bbe340e",
   "metadata": {},
   "outputs": [],
   "source": [
    "\n",
    "feature_series = pd.Series(data=model_gbr.feature_importances_, index=X_data.columns )\n",
    "feature_series = feature_series.sort_values(ascending=False)\n",
    "sns.barplot(x= feature_series, y=feature_series.index)"
   ]
  },
  {
   "cell_type": "code",
   "execution_count": null,
   "id": "b8c49d29",
   "metadata": {},
   "outputs": [],
   "source": [
    "from sklearn.tree import plot_tree\n",
    "\n",
    "plt.figure(figsize=(20,20))\n",
    "plot_tree(model_dtr, max_depth=3, filled=True, feature_names=X_data.columns, fontsize=12)\n",
    "plt.show()"
   ]
  },
  {
   "cell_type": "code",
   "execution_count": null,
   "id": "d9d48195",
   "metadata": {},
   "outputs": [],
   "source": [
    "model_rfr.get_params()"
   ]
  },
  {
   "cell_type": "code",
   "execution_count": null,
   "id": "7850a59a",
   "metadata": {},
   "outputs": [],
   "source": [
    "plt.figure(figsize=(20,20))\n",
    "plot_tree(model_rfr[999], max_depth=3, filled=True, feature_names=X_data.columns, fontsize=12)\n",
    "plt.show()"
   ]
  },
  {
   "cell_type": "code",
   "execution_count": null,
   "id": "6cbcbce7",
   "metadata": {},
   "outputs": [],
   "source": []
  },
  {
   "cell_type": "code",
   "execution_count": null,
   "id": "082a8f57",
   "metadata": {},
   "outputs": [],
   "source": []
  },
  {
   "cell_type": "code",
   "execution_count": null,
   "id": "e3dc84e1",
   "metadata": {},
   "outputs": [],
   "source": []
  },
  {
   "cell_type": "code",
   "execution_count": null,
   "id": "c4b937dd",
   "metadata": {},
   "outputs": [],
   "source": []
  }
 ],
 "metadata": {
  "kernelspec": {
   "display_name": "Python 3",
   "language": "python",
   "name": "python3"
  },
  "language_info": {
   "codemirror_mode": {
    "name": "ipython",
    "version": 3
   },
   "file_extension": ".py",
   "mimetype": "text/x-python",
   "name": "python",
   "nbconvert_exporter": "python",
   "pygments_lexer": "ipython3",
   "version": "3.8.8"
  }
 },
 "nbformat": 4,
 "nbformat_minor": 5
}
