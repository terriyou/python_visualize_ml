{
 "cells": [
  {
   "cell_type": "code",
   "execution_count": 1,
   "id": "1d62db38",
   "metadata": {},
   "outputs": [
    {
     "data": {
      "text/html": [
       "<style>.container { font-weight: bold !important; }</style>"
      ],
      "text/plain": [
       "<IPython.core.display.HTML object>"
      ]
     },
     "metadata": {},
     "output_type": "display_data"
    },
    {
     "data": {
      "text/html": [
       "<style>.container { width: 100% !important; }</style>"
      ],
      "text/plain": [
       "<IPython.core.display.HTML object>"
      ]
     },
     "metadata": {},
     "output_type": "display_data"
    }
   ],
   "source": [
    "# 쥬피터노트북 셀 스타일 조절 \n",
    "from IPython.core.display import display, HTML\n",
    "display(HTML(\"<style>.container { font-weight: bold !important; }</style>\"))\n",
    "display(HTML(\"<style>.container { width: 100% !important; }</style>\"))\n",
    "\n",
    "# 경고 메세지 숨기기 \n",
    "import warnings\n",
    "warnings.filterwarnings(action='ignore')"
   ]
  },
  {
   "cell_type": "code",
   "execution_count": 2,
   "id": "56c4cdcb",
   "metadata": {},
   "outputs": [],
   "source": [
    "import pandas as pd\n",
    "import numpy as np\n",
    "import os\n",
    "import requests\n",
    "import json"
   ]
  },
  {
   "cell_type": "markdown",
   "id": "69b0b9af",
   "metadata": {},
   "source": [
    "# JSON 이란?\n",
    "```\n",
    "JavaScript Object Notation\n",
    "키와 값으로 구성된 자바스크립트의 데이타 형태\n",
    "파이썬의 JSON 레퍼런스 https://docs.python.org/ko/3/library/json.html\n",
    "\n",
    "    \n",
    "JSON 예시 - 키와 값의 구조\n",
    "{\n",
    "    \"이름\": \"서태웅\",\n",
    "    \"성별\": \"남\",\n",
    "    \"학교\": \"북산 고등학교 1학년 10반 22번\",\n",
    "    \"특기\": \"농구\",\n",
    "    \"포지션\": \"스몰 포워드(SF)\",\n",
    "    \"별명\": \"여우\",\n",
    "    \"체격\": {\"키\": \"187 ㎝\", \"몸무게\": \" 75 ㎏\", \"혈액형\": \" AB형(Rh+)\"},\n",
    "    \"라이벌\": [\"윤대협\", \"정우성\"]\n",
    " }\n",
    " \n",
    " ```"
   ]
  },
  {
   "cell_type": "markdown",
   "id": "d5e0c818",
   "metadata": {},
   "source": [
    "### json 샘플 사이트 이용하기\n",
    "- http://jsonplaceholder.typicode.com/\n",
    "- url 요청 => json text 데이타 => 리스트 딕셔너리 => 데이타프레임"
   ]
  },
  {
   "cell_type": "code",
   "execution_count": 6,
   "id": "6f7c54f6",
   "metadata": {},
   "outputs": [
    {
     "name": "stdout",
     "output_type": "stream",
     "text": [
      "<Response [200]>\n",
      "<class 'str'>\n"
     ]
    }
   ],
   "source": [
    "# (1) url 요청 => json_text\n",
    "url = 'http://jsonplaceholder.typicode.com/todos'\n",
    "res = requests.get(url)\n",
    "print(res)\n",
    "json_text = res.text\n",
    "print(type(json_text))\n",
    "# print(json_text)"
   ]
  },
  {
   "cell_type": "code",
   "execution_count": 9,
   "id": "c08035cd",
   "metadata": {},
   "outputs": [
    {
     "name": "stdout",
     "output_type": "stream",
     "text": [
      "<class 'list'>\n"
     ]
    }
   ],
   "source": [
    "# 2) json text 데이타 => 리스트 딕셔너리\n",
    "# loads(json형태의텍스트)\n",
    "# 리스트안에 딕셔너리 구조 \n",
    "json_list = json.loads(json_text)\n",
    "print(type(json_list))\n",
    "# json_list"
   ]
  },
  {
   "cell_type": "code",
   "execution_count": 11,
   "id": "dc6e6a43",
   "metadata": {},
   "outputs": [
    {
     "data": {
      "text/plain": [
       "({'userId': 1, 'id': 1, 'title': 'delectus aut autem', 'completed': False},\n",
       " dict)"
      ]
     },
     "execution_count": 11,
     "metadata": {},
     "output_type": "execute_result"
    }
   ],
   "source": [
    "json_list[0], type(json_list[0])"
   ]
  },
  {
   "cell_type": "code",
   "execution_count": 12,
   "id": "6e54e493",
   "metadata": {},
   "outputs": [
    {
     "data": {
      "text/plain": [
       "200"
      ]
     },
     "execution_count": 12,
     "metadata": {},
     "output_type": "execute_result"
    }
   ],
   "source": [
    "len(json_list)"
   ]
  },
  {
   "cell_type": "code",
   "execution_count": 13,
   "id": "8ddd39af",
   "metadata": {},
   "outputs": [
    {
     "data": {
      "text/html": [
       "<div>\n",
       "<style scoped>\n",
       "    .dataframe tbody tr th:only-of-type {\n",
       "        vertical-align: middle;\n",
       "    }\n",
       "\n",
       "    .dataframe tbody tr th {\n",
       "        vertical-align: top;\n",
       "    }\n",
       "\n",
       "    .dataframe thead th {\n",
       "        text-align: right;\n",
       "    }\n",
       "</style>\n",
       "<table border=\"1\" class=\"dataframe\">\n",
       "  <thead>\n",
       "    <tr style=\"text-align: right;\">\n",
       "      <th></th>\n",
       "      <th>userId</th>\n",
       "      <th>id</th>\n",
       "      <th>title</th>\n",
       "      <th>completed</th>\n",
       "    </tr>\n",
       "  </thead>\n",
       "  <tbody>\n",
       "    <tr>\n",
       "      <th>156</th>\n",
       "      <td>8</td>\n",
       "      <td>157</td>\n",
       "      <td>dolorem veniam quisquam deserunt repellendus</td>\n",
       "      <td>True</td>\n",
       "    </tr>\n",
       "    <tr>\n",
       "      <th>129</th>\n",
       "      <td>7</td>\n",
       "      <td>130</td>\n",
       "      <td>nulla aliquid eveniet harum laborum libero ali...</td>\n",
       "      <td>True</td>\n",
       "    </tr>\n",
       "    <tr>\n",
       "      <th>184</th>\n",
       "      <td>10</td>\n",
       "      <td>185</td>\n",
       "      <td>voluptates dignissimos sed doloribus animi qua...</td>\n",
       "      <td>False</td>\n",
       "    </tr>\n",
       "    <tr>\n",
       "      <th>138</th>\n",
       "      <td>7</td>\n",
       "      <td>139</td>\n",
       "      <td>consequatur doloribus id possimus voluptas a v...</td>\n",
       "      <td>False</td>\n",
       "    </tr>\n",
       "    <tr>\n",
       "      <th>42</th>\n",
       "      <td>3</td>\n",
       "      <td>43</td>\n",
       "      <td>tempore ut sint quis recusandae</td>\n",
       "      <td>True</td>\n",
       "    </tr>\n",
       "  </tbody>\n",
       "</table>\n",
       "</div>"
      ],
      "text/plain": [
       "     userId   id                                              title  completed\n",
       "156       8  157       dolorem veniam quisquam deserunt repellendus       True\n",
       "129       7  130  nulla aliquid eveniet harum laborum libero ali...       True\n",
       "184      10  185  voluptates dignissimos sed doloribus animi qua...      False\n",
       "138       7  139  consequatur doloribus id possimus voluptas a v...      False\n",
       "42        3   43                    tempore ut sint quis recusandae       True"
      ]
     },
     "execution_count": 13,
     "metadata": {},
     "output_type": "execute_result"
    }
   ],
   "source": [
    "# 리스트 딕셔너리 => 데이타프레임\n",
    "df = pd.DataFrame(json_list)\n",
    "df.sample(5)"
   ]
  },
  {
   "cell_type": "markdown",
   "id": "3602cdca",
   "metadata": {},
   "source": [
    "# Naver API 검색 서비스 \n",
    "\n",
    "- 네이버 계정 보유 \n",
    "- OPEN API 신청 : 네이버 개발자 센터 \n",
    "```\n",
    "https://developers.naver.com/main/\n",
    "\n",
    "1) 네이버 계정으로 로그인 \n",
    "https://developers.naver.com/main/\n",
    "\n",
    "2) 검색 서비스 API 신청 \n",
    "https://developers.naver.com/products/service-api/search/search.md\n",
    "애플리케이션 등록 (API 이용신청)\n",
    "\n",
    "3) 애플리케이션 등록 \n",
    "- [Application]-[애플리케이션 등록] \n",
    "\n",
    "애플리케이션 이름\n",
    "사용이름은? 검색 \n",
    "환경 => 안드로이드 앱 패키지 이름\n",
    "\n",
    "4) 클라이언트아이디와 클라이언트 시크릿 키 정보 확인 \n",
    "2bPOmVkKFf8eygLmGiMk\n",
    "DllokD9yvw\n",
    "```"
   ]
  },
  {
   "cell_type": "code",
   "execution_count": null,
   "id": "ea2607c5",
   "metadata": {},
   "outputs": [],
   "source": [
    "# 블로그 개발 가이드 \n",
    "# https://developers.naver.com/docs/serviceapi/search/blog/blog.md#%EB%B8%94%EB%A1%9C%EA%B7%B8"
   ]
  },
  {
   "cell_type": "code",
   "execution_count": 35,
   "id": "a603f798",
   "metadata": {
    "scrolled": false
   },
   "outputs": [],
   "source": [
    "# 네이버 검색 API예제는 블로그를 비롯 전문자료까지 호출방법이 동일하므로 blog검색만 대표로 예제를 올렸습니다.\n",
    "# 네이버 검색 Open API 예제 - 블로그 검색\n",
    "import os\n",
    "import sys\n",
    "import urllib.request\n",
    "\n",
    "# 신청한 아이디와 시크릿으로 변경 \n",
    "# client_id = \"YOUR_CLIENT_ID\"\n",
    "# client_secret = \"YOUR_CLIENT_SECRET\"\n",
    "client_id = \"2bPOmVkKFf8eygLmGiMk\"\n",
    "client_secret = \"DllokD9yvw\"\n",
    "\n",
    "# 요청변수 display \n",
    "# display\tinteger\tN\t10(기본값),100(최대)\t검색 결과 출력 건수 지정\n",
    "# 기본주소?요청변수1=값1&요청변수2=값2 \n",
    "# https://openapi.naver.com/v1/search/blog?display=갯수&query=\n",
    "\n",
    "# 검색할 단어를 입력하면 자동으로 주소 생성 \n",
    "encText = urllib.parse.quote(\"오징어 게임\")\n",
    "# url = \"https://openapi.naver.com/v1/search/blog?query=\" + encText # json 결과\n",
    "url = \"https://openapi.naver.com/v1/search/blog?display=50&query=\" + encText # json 결과\n",
    "# print(url)\n",
    "\n",
    "# xml 용 주소 \n",
    "# url = \"https://openapi.naver.com/v1/search/blog.xml?query=\" + encText # xml 결과\n",
    "\n",
    "request = urllib.request.Request(url)\n",
    "request.add_header(\"X-Naver-Client-Id\",client_id)\n",
    "request.add_header(\"X-Naver-Client-Secret\",client_secret)\n",
    "response = urllib.request.urlopen(request)\n",
    "rescode = response.getcode()\n",
    "\n",
    "# 페이지가 정상적으로 접근되어진다면 저장 그렇지 않으면 에러메세지와 코드 출력 \n",
    "if(rescode==200):\n",
    "    response_body = response.read()\n",
    "#     print(response_body.decode('utf-8'))\n",
    "else:\n",
    "    print(\"Error Code:\" + rescode)"
   ]
  },
  {
   "cell_type": "markdown",
   "id": "413b7d89",
   "metadata": {},
   "source": [
    "### json => 리스트 딕셔너리 "
   ]
  },
  {
   "cell_type": "code",
   "execution_count": 18,
   "id": "36b5308a",
   "metadata": {},
   "outputs": [
    {
     "data": {
      "text/plain": [
       "bytes"
      ]
     },
     "execution_count": 18,
     "metadata": {},
     "output_type": "execute_result"
    }
   ],
   "source": [
    "type(response_body)"
   ]
  },
  {
   "cell_type": "code",
   "execution_count": 36,
   "id": "6501f44c",
   "metadata": {},
   "outputs": [
    {
     "name": "stdout",
     "output_type": "stream",
     "text": [
      "<class 'list'>\n"
     ]
    },
    {
     "data": {
      "text/plain": [
       "50"
      ]
     },
     "execution_count": 36,
     "metadata": {},
     "output_type": "execute_result"
    }
   ],
   "source": [
    "# json.loads(response_body) => 딕셔너리 => 리스트 \n",
    "blog_list = json.loads(response_body)['items']\n",
    "print(type(blog_list))\n",
    "len(blog_list)"
   ]
  },
  {
   "cell_type": "code",
   "execution_count": 25,
   "id": "63c93d9a",
   "metadata": {},
   "outputs": [
    {
     "data": {
      "text/plain": [
       "{'title': '<b>오징어 게임</b> 학교 공문. 그리고 지옥 Hellbound (스포없음)',\n",
       " 'link': 'https://blog.naver.com/honeymelong?Redirect=Log&logNo=222578796702',\n",
       " 'description': '아이들이 <b>오징어 게임</b> 시청하고 모방하는 일 없도록 집에서 단속 좀 해달라고. 다른 초등학교에서 통지문 받았다는 이야기는 진작 들었었는데 나도 받고보니 <b>오징어 게임</b> 영향력이 정말 상상 이상인가보다.... ',\n",
       " 'bloggername': '독일이 아니라면 좋을텐데~~ 지금은 그렇다고',\n",
       " 'bloggerlink': 'https://blog.naver.com/honeymelong',\n",
       " 'postdate': '20211125'}"
      ]
     },
     "execution_count": 25,
     "metadata": {},
     "output_type": "execute_result"
    }
   ],
   "source": [
    "blog_list[0]"
   ]
  },
  {
   "cell_type": "code",
   "execution_count": 37,
   "id": "d5d69a59",
   "metadata": {},
   "outputs": [
    {
     "data": {
      "text/html": [
       "<div>\n",
       "<style scoped>\n",
       "    .dataframe tbody tr th:only-of-type {\n",
       "        vertical-align: middle;\n",
       "    }\n",
       "\n",
       "    .dataframe tbody tr th {\n",
       "        vertical-align: top;\n",
       "    }\n",
       "\n",
       "    .dataframe thead th {\n",
       "        text-align: right;\n",
       "    }\n",
       "</style>\n",
       "<table border=\"1\" class=\"dataframe\">\n",
       "  <thead>\n",
       "    <tr style=\"text-align: right;\">\n",
       "      <th></th>\n",
       "      <th>title</th>\n",
       "      <th>link</th>\n",
       "      <th>description</th>\n",
       "      <th>bloggername</th>\n",
       "      <th>bloggerlink</th>\n",
       "      <th>postdate</th>\n",
       "    </tr>\n",
       "  </thead>\n",
       "  <tbody>\n",
       "    <tr>\n",
       "      <th>0</th>\n",
       "      <td>&lt;b&gt;오징어 게임&lt;/b&gt; 학교 공문. 그리고 지옥 Hellbound (스포없음)</td>\n",
       "      <td>https://blog.naver.com/honeymelong?Redirect=Lo...</td>\n",
       "      <td>아이들이 &lt;b&gt;오징어 게임&lt;/b&gt; 시청하고 모방하는 일 없도록 집에서 단속 좀 해달...</td>\n",
       "      <td>독일이 아니라면 좋을텐데~~ 지금은 그렇다고</td>\n",
       "      <td>https://blog.naver.com/honeymelong</td>\n",
       "      <td>20211125</td>\n",
       "    </tr>\n",
       "    <tr>\n",
       "      <th>1</th>\n",
       "      <td>엔젤라 &lt;b&gt;오징어게임&lt;/b&gt; 셀프 젤네일 스티커 후기</td>\n",
       "      <td>https://blog.naver.com/a10000du?Redirect=Log&amp;l...</td>\n",
       "      <td>타협해본 &lt;b&gt;오징어게임&lt;/b&gt; 네일을 소개해보려합니다. 엔젤라 셀프 젤네일 스티커...</td>\n",
       "      <td>만두로그</td>\n",
       "      <td>https://blog.naver.com/a10000du</td>\n",
       "      <td>20211102</td>\n",
       "    </tr>\n",
       "    <tr>\n",
       "      <th>2</th>\n",
       "      <td>[40대삶의지혜]&lt;b&gt;오징어게임&lt;/b&gt;으로 알아 본 사망보험금의 종류</td>\n",
       "      <td>https://blog.naver.com/sybangse?Redirect=Log&amp;l...</td>\n",
       "      <td>하지만 오늘 기사를 보니 10년간 169억회의 유튜브 영상 조회수를 기록했던 왕좌의...</td>\n",
       "      <td>서울휘의 SideProject school</td>\n",
       "      <td>https://blog.naver.com/sybangse</td>\n",
       "      <td>20211126</td>\n",
       "    </tr>\n",
       "  </tbody>\n",
       "</table>\n",
       "</div>"
      ],
      "text/plain": [
       "                                          title  \\\n",
       "0  <b>오징어 게임</b> 학교 공문. 그리고 지옥 Hellbound (스포없음)   \n",
       "1                엔젤라 <b>오징어게임</b> 셀프 젤네일 스티커 후기   \n",
       "2        [40대삶의지혜]<b>오징어게임</b>으로 알아 본 사망보험금의 종류   \n",
       "\n",
       "                                                link  \\\n",
       "0  https://blog.naver.com/honeymelong?Redirect=Lo...   \n",
       "1  https://blog.naver.com/a10000du?Redirect=Log&l...   \n",
       "2  https://blog.naver.com/sybangse?Redirect=Log&l...   \n",
       "\n",
       "                                         description  \\\n",
       "0  아이들이 <b>오징어 게임</b> 시청하고 모방하는 일 없도록 집에서 단속 좀 해달...   \n",
       "1  타협해본 <b>오징어게임</b> 네일을 소개해보려합니다. 엔젤라 셀프 젤네일 스티커...   \n",
       "2  하지만 오늘 기사를 보니 10년간 169억회의 유튜브 영상 조회수를 기록했던 왕좌의...   \n",
       "\n",
       "                bloggername                         bloggerlink  postdate  \n",
       "0  독일이 아니라면 좋을텐데~~ 지금은 그렇다고  https://blog.naver.com/honeymelong  20211125  \n",
       "1                      만두로그     https://blog.naver.com/a10000du  20211102  \n",
       "2   서울휘의 SideProject school     https://blog.naver.com/sybangse  20211126  "
      ]
     },
     "execution_count": 37,
     "metadata": {},
     "output_type": "execute_result"
    }
   ],
   "source": [
    "# 리스트 딕셔너리 => 데이타프레임 \n",
    "df_blog = pd.DataFrame(blog_list)\n",
    "df_blog.head(3)"
   ]
  },
  {
   "cell_type": "code",
   "execution_count": 27,
   "id": "9cfb7771",
   "metadata": {},
   "outputs": [
    {
     "data": {
      "text/plain": [
       "Index(['title', 'link', 'description', 'bloggername', 'bloggerlink',\n",
       "       'postdate'],\n",
       "      dtype='object')"
      ]
     },
     "execution_count": 27,
     "metadata": {},
     "output_type": "execute_result"
    }
   ],
   "source": [
    "df_blog.columns"
   ]
  },
  {
   "cell_type": "code",
   "execution_count": 32,
   "id": "3294c15c",
   "metadata": {},
   "outputs": [
    {
     "data": {
      "text/html": [
       "<div>\n",
       "<style scoped>\n",
       "    .dataframe tbody tr th:only-of-type {\n",
       "        vertical-align: middle;\n",
       "    }\n",
       "\n",
       "    .dataframe tbody tr th {\n",
       "        vertical-align: top;\n",
       "    }\n",
       "\n",
       "    .dataframe thead th {\n",
       "        text-align: right;\n",
       "    }\n",
       "</style>\n",
       "<table border=\"1\" class=\"dataframe\">\n",
       "  <thead>\n",
       "    <tr style=\"text-align: right;\">\n",
       "      <th></th>\n",
       "      <th>title</th>\n",
       "      <th>link</th>\n",
       "      <th>description</th>\n",
       "      <th>postdate</th>\n",
       "    </tr>\n",
       "  </thead>\n",
       "  <tbody>\n",
       "  </tbody>\n",
       "</table>\n",
       "</div>"
      ],
      "text/plain": [
       "Empty DataFrame\n",
       "Columns: [title, link, description, postdate]\n",
       "Index: []"
      ]
     },
     "execution_count": 32,
     "metadata": {},
     "output_type": "execute_result"
    }
   ],
   "source": [
    "# <b>~</b> 태그 없애기 \n",
    "# 리스트 딕셔너리 => 데이타프레임 \n",
    "# 1) 비어있는 데이타 프레임 생성 \n",
    "df_blog2 = pd.DataFrame(columns=['title', 'link', 'description', 'postdate'])\n",
    "df_blog2"
   ]
  },
  {
   "cell_type": "code",
   "execution_count": 38,
   "id": "568b5f1b",
   "metadata": {},
   "outputs": [],
   "source": [
    "# 행이름 인덱스\n",
    "idx = 1\n",
    "for dict in blog_list:\n",
    "    title = dict['title'].replace('<b>', '').replace('</b>', '')\n",
    "    link = dict['link']\n",
    "    description = dict['description'].replace('<b>', '').replace('</b>', '')\n",
    "    postdate = dict['postdate']\n",
    "    # 한행씩 추가 \n",
    "    df_blog2.loc[idx] = [title, link, description, postdate]\n",
    "    idx += 1"
   ]
  },
  {
   "cell_type": "code",
   "execution_count": 34,
   "id": "81cc81af",
   "metadata": {},
   "outputs": [
    {
     "data": {
      "text/html": [
       "<div>\n",
       "<style scoped>\n",
       "    .dataframe tbody tr th:only-of-type {\n",
       "        vertical-align: middle;\n",
       "    }\n",
       "\n",
       "    .dataframe tbody tr th {\n",
       "        vertical-align: top;\n",
       "    }\n",
       "\n",
       "    .dataframe thead th {\n",
       "        text-align: right;\n",
       "    }\n",
       "</style>\n",
       "<table border=\"1\" class=\"dataframe\">\n",
       "  <thead>\n",
       "    <tr style=\"text-align: right;\">\n",
       "      <th></th>\n",
       "      <th>title</th>\n",
       "      <th>link</th>\n",
       "      <th>description</th>\n",
       "      <th>postdate</th>\n",
       "    </tr>\n",
       "  </thead>\n",
       "  <tbody>\n",
       "    <tr>\n",
       "      <th>3</th>\n",
       "      <td>[40대삶의지혜]오징어게임으로 알아 본 사망보험금의 종류</td>\n",
       "      <td>https://blog.naver.com/sybangse?Redirect=Log&amp;l...</td>\n",
       "      <td>하지만 오늘 기사를 보니 10년간 169억회의 유튜브 영상 조회수를 기록했던 왕좌의...</td>\n",
       "      <td>20211126</td>\n",
       "    </tr>\n",
       "    <tr>\n",
       "      <th>10</th>\n",
       "      <td>오징어 게임 MBTI 테스트 나와 맞는 참가자 찾아보기</td>\n",
       "      <td>https://blog.naver.com/vvvooo8207?Redirect=Log...</td>\n",
       "      <td>한동안 쉬다가 요새 괜찮은 심리게임이 있다고 해서 한번 참여해봤다. 찾아보니 오징어...</td>\n",
       "      <td>20211029</td>\n",
       "    </tr>\n",
       "    <tr>\n",
       "      <th>2</th>\n",
       "      <td>엔젤라 오징어게임 셀프 젤네일 스티커 후기</td>\n",
       "      <td>https://blog.naver.com/a10000du?Redirect=Log&amp;l...</td>\n",
       "      <td>타협해본 오징어게임 네일을 소개해보려합니다. 엔젤라 셀프 젤네일 스티커 [ 젤리블리...</td>\n",
       "      <td>20211102</td>\n",
       "    </tr>\n",
       "  </tbody>\n",
       "</table>\n",
       "</div>"
      ],
      "text/plain": [
       "                              title  \\\n",
       "3   [40대삶의지혜]오징어게임으로 알아 본 사망보험금의 종류   \n",
       "10   오징어 게임 MBTI 테스트 나와 맞는 참가자 찾아보기   \n",
       "2           엔젤라 오징어게임 셀프 젤네일 스티커 후기   \n",
       "\n",
       "                                                 link  \\\n",
       "3   https://blog.naver.com/sybangse?Redirect=Log&l...   \n",
       "10  https://blog.naver.com/vvvooo8207?Redirect=Log...   \n",
       "2   https://blog.naver.com/a10000du?Redirect=Log&l...   \n",
       "\n",
       "                                          description  postdate  \n",
       "3   하지만 오늘 기사를 보니 10년간 169억회의 유튜브 영상 조회수를 기록했던 왕좌의...  20211126  \n",
       "10  한동안 쉬다가 요새 괜찮은 심리게임이 있다고 해서 한번 참여해봤다. 찾아보니 오징어...  20211029  \n",
       "2   타협해본 오징어게임 네일을 소개해보려합니다. 엔젤라 셀프 젤네일 스티커 [ 젤리블리...  20211102  "
      ]
     },
     "execution_count": 34,
     "metadata": {},
     "output_type": "execute_result"
    }
   ],
   "source": [
    "df_blog2.sample(3)"
   ]
  },
  {
   "cell_type": "code",
   "execution_count": 39,
   "id": "008218ad",
   "metadata": {},
   "outputs": [
    {
     "data": {
      "text/plain": [
       "(50, 4)"
      ]
     },
     "execution_count": 39,
     "metadata": {},
     "output_type": "execute_result"
    }
   ],
   "source": [
    "df_blog2.shape"
   ]
  },
  {
   "cell_type": "code",
   "execution_count": 40,
   "id": "13571c8e",
   "metadata": {},
   "outputs": [],
   "source": [
    "df_blog2.to_csv('output/blog_오징어게임.csv')"
   ]
  },
  {
   "cell_type": "markdown",
   "id": "21e63e2f",
   "metadata": {},
   "source": [
    "# 퀴즈  : 네이버 책 검색 API \n",
    "\n",
    "\n",
    "https://developers.naver.com/docs/serviceapi/search/book/book.md#%EC%B1%85\n",
    "\n",
    "- 함수로 정의 \n",
    "- 함수 실행시 검색어(책제목) => ?\n",
    "- 검색어에 대한 검색 결과가 데이타 프레임으로 출력\n",
    "- 검색 결과의 갯수는 임의 지정 \n",
    "\n",
    "```\n",
    "# 함수 호출 \n",
    "book_api()\n",
    "\n",
    "검색어(책제목) => ?\n",
    "\n",
    "```"
   ]
  },
  {
   "cell_type": "code",
   "execution_count": null,
   "id": "a0fee96c",
   "metadata": {},
   "outputs": [],
   "source": []
  },
  {
   "cell_type": "code",
   "execution_count": null,
   "id": "06d8279a",
   "metadata": {},
   "outputs": [],
   "source": []
  },
  {
   "cell_type": "code",
   "execution_count": null,
   "id": "08a3af9e",
   "metadata": {},
   "outputs": [],
   "source": []
  },
  {
   "cell_type": "code",
   "execution_count": null,
   "id": "9ba4d93b",
   "metadata": {},
   "outputs": [],
   "source": []
  },
  {
   "cell_type": "code",
   "execution_count": null,
   "id": "fa19963f",
   "metadata": {},
   "outputs": [],
   "source": []
  },
  {
   "cell_type": "code",
   "execution_count": null,
   "id": "1c8562ec",
   "metadata": {},
   "outputs": [],
   "source": []
  }
 ],
 "metadata": {
  "kernelspec": {
   "display_name": "Python 3",
   "language": "python",
   "name": "python3"
  },
  "language_info": {
   "codemirror_mode": {
    "name": "ipython",
    "version": 3
   },
   "file_extension": ".py",
   "mimetype": "text/x-python",
   "name": "python",
   "nbconvert_exporter": "python",
   "pygments_lexer": "ipython3",
   "version": "3.8.8"
  }
 },
 "nbformat": 4,
 "nbformat_minor": 5
}
