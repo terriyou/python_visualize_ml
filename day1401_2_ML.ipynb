{
 "cells": [
  {
   "cell_type": "code",
   "execution_count": 1,
   "metadata": {},
   "outputs": [
    {
     "data": {
      "text/html": [
       "<style>.container { font-weight: bold !important;}</style>"
      ],
      "text/plain": [
       "<IPython.core.display.HTML object>"
      ]
     },
     "metadata": {},
     "output_type": "display_data"
    },
    {
     "data": {
      "text/html": [
       "<style>.container { width: 98% !important; }</style>"
      ],
      "text/plain": [
       "<IPython.core.display.HTML object>"
      ]
     },
     "metadata": {},
     "output_type": "display_data"
    }
   ],
   "source": [
    "# 주피터 노트북 환경설정\n",
    "import warnings\n",
    "warnings.filterwarnings('ignore')\n",
    "warnings.simplefilter('ignore')\n",
    "\n",
    "from IPython.display import set_matplotlib_formats\n",
    "set_matplotlib_formats(\"retina\")\n",
    "\n",
    "from IPython.display import Image\n",
    "\n",
    "from IPython.core.display import display, HTML\n",
    "# display(HTML(\"<style>.container { font-weight: bold !important; font-family:'Malgun Gothic' !important;}</style>\"))\n",
    "display(HTML(\"<style>.container { font-weight: bold !important;}</style>\"))\n",
    "display(HTML(\"<style>.container { width: 98% !important; }</style>\"))"
   ]
  },
  {
   "cell_type": "code",
   "execution_count": 2,
   "metadata": {},
   "outputs": [],
   "source": [
    "import numpy as np\n",
    "import pandas as pd\n",
    "import os\n",
    "\n",
    "import matplotlib\n",
    "import matplotlib.pyplot as plt\n",
    "import seaborn as sns\n",
    "\n",
    "%matplotlib inline\n",
    "\n",
    "# 관련 라이브러리 임포트 \n",
    "import matplotlib.font_manager as fm\n",
    "\n",
    "#  한글글꼴로 변경\n",
    "# plt.rcParams['font.family'] = '한글글꼴명'\n",
    "plt.rcParams['font.size'] = 11.0\n",
    "# plt.rcParams['font.family'] = 'batang'\n",
    "# plt.rcParams['font.family'] = 'Malgun Gothic'\n",
    "\n",
    "# 그래프에서 마이너스 폰트 깨지는 문제에 대한 대처\n",
    "matplotlib.rcParams['axes.unicode_minus'] = False\n",
    "\n",
    "# 그래프 기본 크기 설정 \n",
    "plt.rcParams['figure.figsize'] = [10, 6]"
   ]
  },
  {
   "cell_type": "code",
   "execution_count": 3,
   "metadata": {},
   "outputs": [],
   "source": [
    "from sklearn.ensemble import VotingClassifier, VotingRegressor\n",
    "from sklearn.ensemble import RandomForestClassifier, GradientBoostingClassifier\n",
    "\n",
    "\n",
    "from sklearn.linear_model import LinearRegression, Ridge, Lasso, LogisticRegression\n",
    "from sklearn.neighbors import KNeighborsClassifier\n",
    "from sklearn.tree import DecisionTreeClassifier\n",
    "\n",
    "from sklearn.metrics import f1_score, recall_score, precision_score, classification_report, r2_score, confusion_matrix\n",
    "\n",
    "from sklearn.preprocessing import PolynomialFeatures, StandardScaler, MinMaxScaler\n",
    "from sklearn.model_selection import train_test_split, cross_val_score, GridSearchCV\n",
    "\n",
    "from sklearn.pipeline import Pipeline"
   ]
  },
  {
   "cell_type": "markdown",
   "metadata": {},
   "source": [
    "# 배깅(Bagging)\n",
    "- Bootstrap Aggregation. 앙상블 학습 방식 중 하나 \n",
    "- 배깅은 샘플을 여러 번 뽑아(Bootstrap) 각 모델을 학습시켜 결과물을 집계(Aggregration)하는 방법\n",
    "- 데이터로부터 부트스트랩(복원 랜덤 샘플링)을 하고 부트스트랩한 데이터로 모델을 학습. 학습된 모델의 결과를 집계하여 최종 결과 값을 구한다.\n",
    "- Categorical Data는 투표 방식(Votinig)으로 결과를 집계하며, Continuous Data는 평균으로 집계.\n",
    "- Categorical Data일 때, 투표 방식으로 한다는 것은 전체 모델에서 예측한 값 중 가장 많은 값을 최종 예측값으로 선정. \n",
    "- 6개의 결정 트리 모델일 경우 4개는 A로 예측했고, 2개는 B로 예측했다면 투표에 의해 4개의 모델이 선택한 A를 최종 결과로 예측한다\n",
    "- 평균으로 집계한다는 것은 말 그대로 각각의 결정 트리 모델이 예측한 값에 평균을 취해 최종 Bagging Model의 예측값을 결정한다\n",
    "- 배깅 기법을 활용한 모델이 바로 랜덤 포레스트"
   ]
  },
  {
   "cell_type": "markdown",
   "metadata": {},
   "source": [
    "<img src='https://img1.daumcdn.net/thumb/R1280x0/?scode=mtistory2&fname=https%3A%2F%2Fblog.kakaocdn.net%2Fdn%2Fb4wG8O%2FbtqyfYW98AS%2FYZBtUJy3jZLyuik1R0aGNk%2Fimg.png' width='600'>"
   ]
  },
  {
   "cell_type": "markdown",
   "metadata": {},
   "source": [
    "# 랜덤 포레스트(Random Forest)\n",
    "\n",
    "- 여러 개의 분류기를 만들어서 보팅으로 최종 결정하는 알고리즘. \n",
    "- 여러 개의 결정 트리 분류기가 전체 데이터에서 배깅 방식으로 각자의 데이터를 샘플링해 개별적으로 학습을 수행한 뒤 최종적으로 모든 분류기가 보팅을 통해 예측 결정을 내린다.\n",
    "- 개별적인 분류기의 기반 알고리즘은 결정 트리이지만 개별 트리가 학습하는 데이터 세트는 전체 데이터에서 일부가 중첩되게 샘플링된 데이터 세트인데 여러 개의 데이터 세트를 중첩되게 분리하는 것을 부트 스트래핑(bootstrapping) 분할 방식이라고 한다. \n",
    "\n",
    "<img src='https://img1.daumcdn.net/thumb/R1280x0/?scode=mtistory2&fname=https%3A%2F%2Fblog.kakaocdn.net%2Fdn%2Fod2gM%2Fbtq6kMv83oZ%2FsNVWEiA7FWsB2BBt6kn0r1%2Fimg.png'\n",
    "      width='500'>"
   ]
  },
  {
   "cell_type": "raw",
   "metadata": {},
   "source": [
    "# Random Forest 주요 파라미터 \n",
    "\n",
    "n_estimators: 랜덤 포레스트 안의 결정 트리 갯수. 클수록 좋지만 메모리가 많이 소요됨. \n",
    "max_features: 무작위로 선택할 Feature의 개수\n",
    "\n"
   ]
  },
  {
   "cell_type": "code",
   "execution_count": 4,
   "metadata": {},
   "outputs": [],
   "source": [
    "from sklearn.model_selection import train_test_split\n",
    "from sklearn.tree import DecisionTreeClassifier\n",
    "from sklearn.ensemble import RandomForestClassifier, GradientBoostingClassifier\n",
    "from sklearn.metrics import accuracy_score\n",
    "from sklearn.preprocessing import LabelEncoder"
   ]
  },
  {
   "cell_type": "markdown",
   "metadata": {},
   "source": [
    "### 타이타닉 데이타셋"
   ]
  },
  {
   "cell_type": "code",
   "execution_count": 5,
   "metadata": {},
   "outputs": [],
   "source": [
    "titanic_df = pd.read_csv('data/titanic_book.csv')\n",
    "\n",
    "titanic_df['Age'].fillna(titanic_df['Age'].mean(),inplace=True)\n",
    "titanic_df['Cabin'].fillna('N', inplace=True)\n",
    "titanic_df['Embarked'].fillna('N', inplace=True)\n",
    "\n",
    "encoder = LabelEncoder()\n",
    "encoder.fit(titanic_df['Sex'])\n",
    "temp = encoder.transform(titanic_df['Sex'])\n",
    "titanic_df['Sex'] = temp.reshape(-1, 1)\n",
    "\n",
    "encoder.fit(titanic_df['Embarked'])\n",
    "temp = encoder.transform(titanic_df['Embarked'])\n",
    "titanic_df['Embarked'] = temp.reshape(-1, 1)\n",
    "\n",
    "titanic_df['Cabin'] = titanic_df['Cabin'].str[:1]\n",
    "encoder.fit(titanic_df['Cabin'])\n",
    "temp = encoder.transform(titanic_df['Cabin'])\n",
    "titanic_df['Cabin'] = temp.reshape(-1, 1)\n",
    "\n",
    "\n",
    "titanic_df.drop(['PassengerId','Name','Ticket'], axis=1, inplace=True)"
   ]
  },
  {
   "cell_type": "code",
   "execution_count": 6,
   "metadata": {},
   "outputs": [
    {
     "data": {
      "text/html": [
       "<div>\n",
       "<style scoped>\n",
       "    .dataframe tbody tr th:only-of-type {\n",
       "        vertical-align: middle;\n",
       "    }\n",
       "\n",
       "    .dataframe tbody tr th {\n",
       "        vertical-align: top;\n",
       "    }\n",
       "\n",
       "    .dataframe thead th {\n",
       "        text-align: right;\n",
       "    }\n",
       "</style>\n",
       "<table border=\"1\" class=\"dataframe\">\n",
       "  <thead>\n",
       "    <tr style=\"text-align: right;\">\n",
       "      <th></th>\n",
       "      <th>Survived</th>\n",
       "      <th>Pclass</th>\n",
       "      <th>Sex</th>\n",
       "      <th>Age</th>\n",
       "      <th>SibSp</th>\n",
       "      <th>Parch</th>\n",
       "      <th>Fare</th>\n",
       "      <th>Cabin</th>\n",
       "      <th>Embarked</th>\n",
       "    </tr>\n",
       "  </thead>\n",
       "  <tbody>\n",
       "    <tr>\n",
       "      <th>0</th>\n",
       "      <td>0</td>\n",
       "      <td>3</td>\n",
       "      <td>1</td>\n",
       "      <td>22.0</td>\n",
       "      <td>1</td>\n",
       "      <td>0</td>\n",
       "      <td>7.2500</td>\n",
       "      <td>7</td>\n",
       "      <td>3</td>\n",
       "    </tr>\n",
       "    <tr>\n",
       "      <th>1</th>\n",
       "      <td>1</td>\n",
       "      <td>1</td>\n",
       "      <td>0</td>\n",
       "      <td>38.0</td>\n",
       "      <td>1</td>\n",
       "      <td>0</td>\n",
       "      <td>71.2833</td>\n",
       "      <td>2</td>\n",
       "      <td>0</td>\n",
       "    </tr>\n",
       "  </tbody>\n",
       "</table>\n",
       "</div>"
      ],
      "text/plain": [
       "   Survived  Pclass  Sex   Age  SibSp  Parch     Fare  Cabin  Embarked\n",
       "0         0       3    1  22.0      1      0   7.2500      7         3\n",
       "1         1       1    0  38.0      1      0  71.2833      2         0"
      ]
     },
     "execution_count": 6,
     "metadata": {},
     "output_type": "execute_result"
    }
   ],
   "source": [
    "titanic_df.head(2)"
   ]
  },
  {
   "cell_type": "code",
   "execution_count": 7,
   "metadata": {
    "scrolled": true
   },
   "outputs": [
    {
     "data": {
      "text/plain": [
       "Survived    0\n",
       "Pclass      0\n",
       "Sex         0\n",
       "Age         0\n",
       "SibSp       0\n",
       "Parch       0\n",
       "Fare        0\n",
       "Cabin       0\n",
       "Embarked    0\n",
       "dtype: int64"
      ]
     },
     "execution_count": 7,
     "metadata": {},
     "output_type": "execute_result"
    }
   ],
   "source": [
    "titanic_df.isnull().sum()"
   ]
  },
  {
   "cell_type": "code",
   "execution_count": 8,
   "metadata": {},
   "outputs": [],
   "source": [
    "X_titanic_df = titanic_df.loc[:, 'Pclass':]\n",
    "y_titanic_df = titanic_df['Survived']"
   ]
  },
  {
   "cell_type": "markdown",
   "metadata": {},
   "source": [
    "### 학습 데이타와 테스트 데이타로 분리 "
   ]
  },
  {
   "cell_type": "code",
   "execution_count": 9,
   "metadata": {},
   "outputs": [],
   "source": [
    "X_train, X_test, y_train, y_test = train_test_split(X_titanic_df, y_titanic_df, \n",
    "                                                    test_size=0.2, random_state=11,\n",
    "                                                    stratify=y_titanic_df)"
   ]
  },
  {
   "cell_type": "code",
   "execution_count": 10,
   "metadata": {},
   "outputs": [
    {
     "data": {
      "text/plain": [
       "((712, 8), (179, 8))"
      ]
     },
     "execution_count": 10,
     "metadata": {},
     "output_type": "execute_result"
    }
   ],
   "source": [
    "X_train.shape, X_test.shape"
   ]
  },
  {
   "cell_type": "markdown",
   "metadata": {},
   "source": [
    "### DecesionTree 모델 적용과 테스트"
   ]
  },
  {
   "cell_type": "code",
   "execution_count": 11,
   "metadata": {},
   "outputs": [
    {
     "data": {
      "text/plain": [
       "0.7821229050279329"
      ]
     },
     "execution_count": 11,
     "metadata": {},
     "output_type": "execute_result"
    }
   ],
   "source": [
    "model_dt = DecisionTreeClassifier()\n",
    "model_dt.fit(X_train, y_train)\n",
    "model_dt.score(X_test, y_test)"
   ]
  },
  {
   "cell_type": "code",
   "execution_count": 12,
   "metadata": {},
   "outputs": [
    {
     "name": "stdout",
     "output_type": "stream",
     "text": [
      "Fitting 5 folds for each of 8 candidates, totalling 40 fits\n"
     ]
    },
    {
     "data": {
      "text/plain": [
       "{'max_depth': 3}"
      ]
     },
     "execution_count": 12,
     "metadata": {},
     "output_type": "execute_result"
    }
   ],
   "source": [
    "# 그리드 서치 적용 => max_depth : 3\n",
    "model_dt = DecisionTreeClassifier()\n",
    "parameters = {'max_depth':[3, 4, 5, 6, 7, 8, 9, 10]}\n",
    "model_dt_grid = GridSearchCV(model_dt, param_grid=parameters, cv=5,  verbose=1)\n",
    "model_dt_grid.fit(X_train, y_train)\n",
    "model_dt_grid.best_params_"
   ]
  },
  {
   "cell_type": "code",
   "execution_count": 13,
   "metadata": {},
   "outputs": [
    {
     "data": {
      "text/plain": [
       "(0.8132022471910112, 0.8659217877094972)"
      ]
     },
     "execution_count": 13,
     "metadata": {},
     "output_type": "execute_result"
    }
   ],
   "source": [
    "model_dt = DecisionTreeClassifier(max_depth = 3)\n",
    "model_dt.fit(X_train, y_train)\n",
    "model_dt.score(X_train, y_train), model_dt.score(X_test, y_test) "
   ]
  },
  {
   "cell_type": "code",
   "execution_count": 14,
   "metadata": {},
   "outputs": [
    {
     "data": {
      "image/png": "[encoded data removed]",
      "text/plain": [
       "<Figure size 576x432 with 1 Axes>"
      ]
     },
     "metadata": {
      "needs_background": "light"
     },
     "output_type": "display_data"
    }
   ],
   "source": [
    "# 피처 중요도 Sex => Pclass\n",
    "ftr_importances = pd.Series(model_dt.feature_importances_ , index=X_train.columns  )\n",
    "plt.figure(figsize=(8,6))\n",
    "plt.title('Feature importances')\n",
    "sns.barplot(x=ftr_importances , y = ftr_importances.index)\n",
    "plt.show()"
   ]
  },
  {
   "cell_type": "code",
   "execution_count": 16,
   "metadata": {},
   "outputs": [
    {
     "data": {
      "image/png": "[encoded data removed]",
      "text/plain": [
       "<Figure size 1440x1440 with 1 Axes>"
      ]
     },
     "metadata": {
      "needs_background": "light"
     },
     "output_type": "display_data"
    }
   ],
   "source": [
    "from sklearn.tree import plot_tree\n",
    "\n",
    "plt.figure(figsize=(20,20))\n",
    "plot_tree(model_dt, max_depth=3, filled=True, feature_names=X_train.columns, fontsize=12)\n",
    "plt.show()"
   ]
  },
  {
   "cell_type": "code",
   "execution_count": null,
   "metadata": {},
   "outputs": [],
   "source": []
  },
  {
   "cell_type": "code",
   "execution_count": null,
   "metadata": {},
   "outputs": [],
   "source": []
  },
  {
   "cell_type": "markdown",
   "metadata": {},
   "source": [
    "### Random Forest 적용"
   ]
  },
  {
   "cell_type": "code",
   "execution_count": 32,
   "metadata": {},
   "outputs": [
    {
     "data": {
      "text/plain": [
       "0.8268156424581006"
      ]
     },
     "execution_count": 32,
     "metadata": {},
     "output_type": "execute_result"
    }
   ],
   "source": [
    "# n_estimators=100 기본값 \n",
    "model_rf = RandomForestClassifier(n_estimators=100)\n",
    "model_rf.fit(X_train, y_train)\n",
    "model_rf.score(X_test, y_test)"
   ]
  },
  {
   "cell_type": "code",
   "execution_count": 33,
   "metadata": {},
   "outputs": [
    {
     "name": "stdout",
     "output_type": "stream",
     "text": [
      "Fitting 5 folds for each of 8 candidates, totalling 40 fits\n"
     ]
    },
    {
     "data": {
      "text/plain": [
       "{'max_depth': 6}"
      ]
     },
     "execution_count": 33,
     "metadata": {},
     "output_type": "execute_result"
    }
   ],
   "source": [
    "model_rf = RandomForestClassifier()\n",
    "parameters = {'max_depth':[3, 4, 5, 6, 7, 8, 9, 10]}\n",
    "model_rf_grid = GridSearchCV(model_rf, param_grid=parameters, cv=5,  verbose=1)\n",
    "model_rf_grid.fit(X_train, y_train)\n",
    "model_rf_grid.best_params_"
   ]
  },
  {
   "cell_type": "code",
   "execution_count": 34,
   "metadata": {},
   "outputs": [
    {
     "data": {
      "text/plain": [
       "0.8547486033519553"
      ]
     },
     "execution_count": 34,
     "metadata": {},
     "output_type": "execute_result"
    }
   ],
   "source": [
    "model_rf = RandomForestClassifier(max_depth = 8)\n",
    "model_rf.fit(X_train, y_train)\n",
    "model_rf.score(X_test, y_test)"
   ]
  },
  {
   "cell_type": "code",
   "execution_count": 35,
   "metadata": {},
   "outputs": [
    {
     "data": {
      "text/plain": [
       "(array([0, 1], dtype=int64),\n",
       " array([0.09497033, 0.32674448, 0.16243434, 0.05346057, 0.04357363,\n",
       "        0.19571511, 0.08476929, 0.03833226]),\n",
       " Index(['Pclass', 'Sex', 'Age', 'SibSp', 'Parch', 'Fare', 'Cabin', 'Embarked'], dtype='object'))"
      ]
     },
     "execution_count": 35,
     "metadata": {},
     "output_type": "execute_result"
    }
   ],
   "source": [
    "model_rf.classes_ , model_rf.feature_importances_, X_train.columns"
   ]
  },
  {
   "cell_type": "code",
   "execution_count": 36,
   "metadata": {},
   "outputs": [
    {
     "name": "stdout",
     "output_type": "stream",
     "text": [
      "[1 5 2 0 6 3 4 7]\n"
     ]
    },
    {
     "data": {
      "text/plain": [
       "Index(['Sex', 'Fare', 'Age', 'Pclass', 'Cabin', 'SibSp', 'Parch', 'Embarked'], dtype='object')"
      ]
     },
     "execution_count": 36,
     "metadata": {},
     "output_type": "execute_result"
    }
   ],
   "source": [
    "importances_values = model_rf.feature_importances_\n",
    "print(np.argsort(importances_values)[::-1])\n",
    "X_train.columns[np.argsort(importances_values)[::-1][:]]"
   ]
  },
  {
   "cell_type": "code",
   "execution_count": 37,
   "metadata": {},
   "outputs": [
    {
     "data": {
      "image/png": "[encoded data removed]",
      "text/plain": [
       "<Figure size 576x432 with 1 Axes>"
      ]
     },
     "metadata": {
      "needs_background": "light"
     },
     "output_type": "display_data"
    }
   ],
   "source": [
    "ftr_importances = pd.Series(model_rf.feature_importances_ , index=X_train.columns  )\n",
    "plt.figure(figsize=(8,6))\n",
    "plt.title('Feature importances')\n",
    "sns.barplot(x=ftr_importances , y = ftr_importances.index)\n",
    "plt.show()"
   ]
  },
  {
   "cell_type": "code",
   "execution_count": 39,
   "metadata": {},
   "outputs": [
    {
     "data": {
      "image/png": "[encoded data removed]",
      "text/plain": [
       "<Figure size 1440x1440 with 1 Axes>"
      ]
     },
     "metadata": {
      "needs_background": "light"
     },
     "output_type": "display_data"
    }
   ],
   "source": [
    "# 랜덤 포레스트 시각화 \n",
    "# model_rf[0] ~ model_rf[n_estimators-1]\n",
    "from sklearn.tree import plot_tree\n",
    "\n",
    "# 첫번째 결정트리 \n",
    "plt.figure(figsize=(20,20))\n",
    "plot_tree(model_rf[0], max_depth=3, filled=True, feature_names=X_train.columns, fontsize=12)\n",
    "plt.show()"
   ]
  },
  {
   "cell_type": "code",
   "execution_count": 42,
   "metadata": {},
   "outputs": [
    {
     "data": {
      "image/png": "[encoded data removed]",
      "text/plain": [
       "<Figure size 1440x1440 with 1 Axes>"
      ]
     },
     "metadata": {
      "needs_background": "light"
     },
     "output_type": "display_data"
    }
   ],
   "source": [
    "# 마지막 결정트리 \n",
    "plt.figure(figsize=(20,20))\n",
    "plot_tree(model_rf[99], max_depth=3, filled=True, feature_names=X_train.columns, fontsize=12)\n",
    "plt.show()"
   ]
  },
  {
   "cell_type": "code",
   "execution_count": null,
   "metadata": {},
   "outputs": [],
   "source": []
  },
  {
   "cell_type": "code",
   "execution_count": null,
   "metadata": {},
   "outputs": [],
   "source": []
  },
  {
   "cell_type": "markdown",
   "metadata": {},
   "source": [
    "# 부스팅(Boosting)\n",
    "- 부스팅은 가중치를 활용하여 약 분류기를 강 분류기로 만드는 방법. \n",
    "- 배깅은 Deicison Tree1과 Decision Tree2가 서로 독립적으로 결과를 예측하며 여러 개의 독립적인 결정 트리가 각각 값을 예측한 뒤, 그 결과 값을 집계해 최종 결과 값을 예측하는 방식.\n",
    "- 부스팅은 모델 간 팀워크가 이루어져 처음 모델이 예측을 하면 그 예측 결과에 따라 데이터에 가중치가 부여되고, 부여된 가중치가 다음 모델에 영향을 준다. 잘못 분류된 데이터에 집중하여 새로운 분류 규칙을 만드는 단계를 반복한다. \n",
    "- ADA Boosting, Gradient Boosting\n",
    "\n",
    "<img src='https://img1.daumcdn.net/thumb/R1280x0/?scode=mtistory2&fname=https%3A%2F%2Fblog.kakaocdn.net%2Fdn%2FkCejr%2FbtqyghvqEZB%2F9o3rKTEsuSIDHEfelYFJlk%2Fimg.png' width='600'>\n",
    "\n"
   ]
  },
  {
   "cell_type": "markdown",
   "metadata": {},
   "source": [
    "# GBM\n",
    "\n",
    "- Gradient Boosting Machine\n",
    "\n",
    "- max_depth\t: 트리의 최대 깊이. default = 3\n",
    "- min_samples_split\t: 노드를 분할하기 위한 최소한의 샘플 데이터수. → 과적합을 제어하는데 사용\n",
    "    <br> Default = 2 → 작게 설정할 수록 분할 노드가 많아져 과적합 가능성 증가\n",
    "- min_samples_leaf : 리프노드가 되기 위해 필요한 최소한의 샘플 데이터수.  \n",
    "    <br> min_samples_split과 함께 과적합 제어 용도.  default = 1\n",
    "- max_features : 최적의 분할을 위해 고려할 최대 feature 개수.  Default = 'none' → 모든 피처 사용\n",
    "- max_leaf_nodes : 리프노드의 최대 개수.  default = None → 제한없음\n",
    "- n_estimators\t: 생성할 트리의 갯수. Default = 100\n",
    "- learning_rate\t: 학습을 진행할 때마다 적용하는 학습률(0~1). \n",
    "    <br> Weak learner가 순차적으로 오류 값을 보정해나갈 때 적용하는 계수.  Default = 0.1\n",
    "    <br> 낮은 만큼 최소 오류 값을 찾아 예측성능이 높아질 수 있음. 시간이 많이 소요\n",
    "- subsample\t: 개별 트리가 학습에 사용하는 데이터 샘플링 비율(0~1). default=1 (전체 데이터 학습)\n",
    "    <br> 이 값을 조절하여 트리 간의 상관도를 줄일 수 있음"
   ]
  },
  {
   "cell_type": "code",
   "execution_count": 43,
   "metadata": {},
   "outputs": [
    {
     "data": {
      "text/plain": [
       "(0.9030898876404494, 0.8547486033519553)"
      ]
     },
     "execution_count": 43,
     "metadata": {},
     "output_type": "execute_result"
    }
   ],
   "source": [
    "from sklearn.ensemble import GradientBoostingClassifier\n",
    "\n",
    "model_gb = GradientBoostingClassifier()\n",
    "model_gb.fit(X_train, y_train)\n",
    "model_gb.score(X_train, y_train), model_rf.score(X_test, y_test)"
   ]
  },
  {
   "cell_type": "code",
   "execution_count": 44,
   "metadata": {},
   "outputs": [
    {
     "name": "stdout",
     "output_type": "stream",
     "text": [
      "Fitting 5 folds for each of 36 candidates, totalling 180 fits\n"
     ]
    },
    {
     "data": {
      "text/plain": [
       "{'learning_rate': 0.1, 'max_depth': 3, 'n_estimators': 100}"
      ]
     },
     "execution_count": 44,
     "metadata": {},
     "output_type": "execute_result"
    }
   ],
   "source": [
    "model_gb = GradientBoostingClassifier()\n",
    "parameters = {\n",
    "    'n_estimators' : [50, 100, 300],\n",
    "    'learning_rate' : [0.01, 0.05, 0.1],\n",
    "    'max_depth':[3, 4, 5, 6]\n",
    "}\n",
    "model_gb_grid = GridSearchCV(model_gb, param_grid=parameters, cv=5,  verbose=1)\n",
    "model_gb_grid.fit(X_train, y_train)\n",
    "model_gb_grid.best_params_"
   ]
  },
  {
   "cell_type": "code",
   "execution_count": 45,
   "metadata": {},
   "outputs": [
    {
     "data": {
      "text/plain": [
       "0.7988826815642458"
      ]
     },
     "execution_count": 45,
     "metadata": {},
     "output_type": "execute_result"
    }
   ],
   "source": [
    "model_gb = GradientBoostingClassifier(learning_rate=0.1, n_estimators=100, max_depth=3)\n",
    "model_gb.fit(X_train, y_train)\n",
    "model_gb.score(X_test, y_test)"
   ]
  },
  {
   "cell_type": "code",
   "execution_count": 46,
   "metadata": {},
   "outputs": [
    {
     "name": "stdout",
     "output_type": "stream",
     "text": [
      "              precision    recall  f1-score   support\n",
      "\n",
      "           0       0.80      0.89      0.84       110\n",
      "           1       0.79      0.65      0.71        69\n",
      "\n",
      "    accuracy                           0.80       179\n",
      "   macro avg       0.80      0.77      0.78       179\n",
      "weighted avg       0.80      0.80      0.79       179\n",
      "\n"
     ]
    }
   ],
   "source": [
    "from sklearn.metrics import classification_report\n",
    "\n",
    "print(classification_report(y_test, model_gb.predict(X_test)))"
   ]
  },
  {
   "cell_type": "code",
   "execution_count": 47,
   "metadata": {},
   "outputs": [
    {
     "data": {
      "image/png": "[encoded data removed]",
      "text/plain": [
       "<Figure size 576x432 with 1 Axes>"
      ]
     },
     "metadata": {
      "needs_background": "light"
     },
     "output_type": "display_data"
    }
   ],
   "source": [
    "ftr_importances = pd.Series(model_gb.feature_importances_ , index=X_train.columns  )\n",
    "plt.figure(figsize=(8,6))\n",
    "plt.title('Feature importances')\n",
    "sns.barplot(x=ftr_importances , y = ftr_importances.index)\n",
    "plt.show()"
   ]
  },
  {
   "cell_type": "code",
   "execution_count": 49,
   "metadata": {},
   "outputs": [],
   "source": [
    "# 첫번째 결정트리 \n",
    "# plt.figure(figsize=(20,20))\n",
    "# plot_tree(model_gb[0], max_depth=3, filled=True, feature_names=X_train.columns, fontsize=12)\n",
    "# plt.show()"
   ]
  },
  {
   "cell_type": "code",
   "execution_count": null,
   "metadata": {},
   "outputs": [],
   "source": []
  },
  {
   "cell_type": "code",
   "execution_count": null,
   "metadata": {},
   "outputs": [],
   "source": []
  },
  {
   "cell_type": "markdown",
   "metadata": {},
   "source": [
    "# XGBoost\n",
    "- 트리 기반의 알고리즘의 앙상블 학습에서 각광받는 알고리즘 중 하나\n",
    "- GBM에 기반하고 있지만, GBM의 단점인 느린 수행시간, 과적합 규제 등을 해결한 알고리즘\n",
    "- 과적합 규제(Overfitting Regularization)\n",
    "- sklearn 모듈이 아님. 별도 설치 요망 "
   ]
  },
  {
   "cell_type": "code",
   "execution_count": null,
   "metadata": {},
   "outputs": [],
   "source": [
    "# pip list"
   ]
  },
  {
   "cell_type": "markdown",
   "metadata": {},
   "source": [
    "### 설치 \n",
    "\n",
    "- sklearn 에서 지원되지 않으므로 별도 설치가 필요 \n",
    "- 관리자 버전으로 설치 \n",
    "- pip install xgboost\n",
    "- conda install -c anaconda py-xgboost"
   ]
  },
  {
   "cell_type": "markdown",
   "metadata": {},
   "source": [
    "### 주요 파라미터 \n",
    ": 트리 최적화, 부스팅, regularization 등과 관련된 파라미터를 지칭"
   ]
  },
  {
   "cell_type": "raw",
   "metadata": {},
   "source": [
    "eta -  GBM의 learning rate와 같은 파라미터 범위: 0 ~ 1\n",
    "num_boost_around - 생성할 weak learner의 수\n",
    "min_child_weight - GBM의 min_samples_leaf와 유사. 관측치에 대한 가중치 합의 최소. 과적합 조절 용도 범위: 0 ~ ∞\n",
    "gamma - 리프노드의 추가분할을 결정할 최소손실 감소값. 값이 클수록 과적합 감소효과. 범위: 0 ~ ∞\n",
    "max_depth - 트리 기반 알고리즘의 max_depth와 동일. 0을 지정하면 깊이의 제한이 없음. 너무 크면 과적합(통상 3~10정도 적용)\n",
    "sub_sample - 데이터 샘플링 비율 지정(과적합 제어). 일반적으로 0.5~1 사이의 값을 사용. 범위: 0 ~ 1\n",
    "colsample_bytree - GBM의 max_features와 유사. 트리 생성에 필요한 피처의 샘플링에 사용. \n",
    "                   피처가 많을 때 과적합 조절에 사용. 범위: 0 ~ 1\n",
    "lambda - L2 Regularization 적용 값. 피처 개수가 많을 때 적용을 검토. 클수록 과적합 감소 효과\n",
    "alpha -  L1 Regularization 적용 값. 피처 개수가 많을 때 적용을 검토. 클수록 과적합 감소 효과\n",
    "scale_pos_weight - 불균형 데이터셋의 균형을 유지"
   ]
  },
  {
   "cell_type": "code",
   "execution_count": 51,
   "metadata": {},
   "outputs": [],
   "source": [
    "# pip list"
   ]
  },
  {
   "cell_type": "code",
   "execution_count": 52,
   "metadata": {},
   "outputs": [
    {
     "data": {
      "text/plain": [
       "'1.5.1'"
      ]
     },
     "execution_count": 52,
     "metadata": {},
     "output_type": "execute_result"
    }
   ],
   "source": [
    "import xgboost\n",
    "from xgboost import plot_importance, XGBClassifier \n",
    "\n",
    "xgboost.__version__"
   ]
  },
  {
   "cell_type": "markdown",
   "metadata": {},
   "source": [
    "### 데이터 셋 - 위스콘신 Breast Cancer "
   ]
  },
  {
   "cell_type": "code",
   "execution_count": 53,
   "metadata": {},
   "outputs": [
    {
     "name": "stdout",
     "output_type": "stream",
     "text": [
      "(569, 31)\n"
     ]
    },
    {
     "data": {
      "text/html": [
       "<div>\n",
       "<style scoped>\n",
       "    .dataframe tbody tr th:only-of-type {\n",
       "        vertical-align: middle;\n",
       "    }\n",
       "\n",
       "    .dataframe tbody tr th {\n",
       "        vertical-align: top;\n",
       "    }\n",
       "\n",
       "    .dataframe thead th {\n",
       "        text-align: right;\n",
       "    }\n",
       "</style>\n",
       "<table border=\"1\" class=\"dataframe\">\n",
       "  <thead>\n",
       "    <tr style=\"text-align: right;\">\n",
       "      <th></th>\n",
       "      <th>mean radius</th>\n",
       "      <th>mean texture</th>\n",
       "      <th>mean perimeter</th>\n",
       "      <th>mean area</th>\n",
       "      <th>mean smoothness</th>\n",
       "      <th>mean compactness</th>\n",
       "      <th>mean concavity</th>\n",
       "      <th>mean concave points</th>\n",
       "      <th>mean symmetry</th>\n",
       "      <th>mean fractal dimension</th>\n",
       "      <th>...</th>\n",
       "      <th>worst texture</th>\n",
       "      <th>worst perimeter</th>\n",
       "      <th>worst area</th>\n",
       "      <th>worst smoothness</th>\n",
       "      <th>worst compactness</th>\n",
       "      <th>worst concavity</th>\n",
       "      <th>worst concave points</th>\n",
       "      <th>worst symmetry</th>\n",
       "      <th>worst fractal dimension</th>\n",
       "      <th>target</th>\n",
       "    </tr>\n",
       "  </thead>\n",
       "  <tbody>\n",
       "    <tr>\n",
       "      <th>0</th>\n",
       "      <td>17.99</td>\n",
       "      <td>10.38</td>\n",
       "      <td>122.8</td>\n",
       "      <td>1001.0</td>\n",
       "      <td>0.11840</td>\n",
       "      <td>0.27760</td>\n",
       "      <td>0.3001</td>\n",
       "      <td>0.14710</td>\n",
       "      <td>0.2419</td>\n",
       "      <td>0.07871</td>\n",
       "      <td>...</td>\n",
       "      <td>17.33</td>\n",
       "      <td>184.6</td>\n",
       "      <td>2019.0</td>\n",
       "      <td>0.1622</td>\n",
       "      <td>0.6656</td>\n",
       "      <td>0.7119</td>\n",
       "      <td>0.2654</td>\n",
       "      <td>0.4601</td>\n",
       "      <td>0.11890</td>\n",
       "      <td>0</td>\n",
       "    </tr>\n",
       "    <tr>\n",
       "      <th>1</th>\n",
       "      <td>20.57</td>\n",
       "      <td>17.77</td>\n",
       "      <td>132.9</td>\n",
       "      <td>1326.0</td>\n",
       "      <td>0.08474</td>\n",
       "      <td>0.07864</td>\n",
       "      <td>0.0869</td>\n",
       "      <td>0.07017</td>\n",
       "      <td>0.1812</td>\n",
       "      <td>0.05667</td>\n",
       "      <td>...</td>\n",
       "      <td>23.41</td>\n",
       "      <td>158.8</td>\n",
       "      <td>1956.0</td>\n",
       "      <td>0.1238</td>\n",
       "      <td>0.1866</td>\n",
       "      <td>0.2416</td>\n",
       "      <td>0.1860</td>\n",
       "      <td>0.2750</td>\n",
       "      <td>0.08902</td>\n",
       "      <td>0</td>\n",
       "    </tr>\n",
       "    <tr>\n",
       "      <th>2</th>\n",
       "      <td>19.69</td>\n",
       "      <td>21.25</td>\n",
       "      <td>130.0</td>\n",
       "      <td>1203.0</td>\n",
       "      <td>0.10960</td>\n",
       "      <td>0.15990</td>\n",
       "      <td>0.1974</td>\n",
       "      <td>0.12790</td>\n",
       "      <td>0.2069</td>\n",
       "      <td>0.05999</td>\n",
       "      <td>...</td>\n",
       "      <td>25.53</td>\n",
       "      <td>152.5</td>\n",
       "      <td>1709.0</td>\n",
       "      <td>0.1444</td>\n",
       "      <td>0.4245</td>\n",
       "      <td>0.4504</td>\n",
       "      <td>0.2430</td>\n",
       "      <td>0.3613</td>\n",
       "      <td>0.08758</td>\n",
       "      <td>0</td>\n",
       "    </tr>\n",
       "  </tbody>\n",
       "</table>\n",
       "<p>3 rows × 31 columns</p>\n",
       "</div>"
      ],
      "text/plain": [
       "   mean radius  mean texture  mean perimeter  mean area  mean smoothness  \\\n",
       "0        17.99         10.38           122.8     1001.0          0.11840   \n",
       "1        20.57         17.77           132.9     1326.0          0.08474   \n",
       "2        19.69         21.25           130.0     1203.0          0.10960   \n",
       "\n",
       "   mean compactness  mean concavity  mean concave points  mean symmetry  \\\n",
       "0           0.27760          0.3001              0.14710         0.2419   \n",
       "1           0.07864          0.0869              0.07017         0.1812   \n",
       "2           0.15990          0.1974              0.12790         0.2069   \n",
       "\n",
       "   mean fractal dimension  ...  worst texture  worst perimeter  worst area  \\\n",
       "0                 0.07871  ...          17.33            184.6      2019.0   \n",
       "1                 0.05667  ...          23.41            158.8      1956.0   \n",
       "2                 0.05999  ...          25.53            152.5      1709.0   \n",
       "\n",
       "   worst smoothness  worst compactness  worst concavity  worst concave points  \\\n",
       "0            0.1622             0.6656           0.7119                0.2654   \n",
       "1            0.1238             0.1866           0.2416                0.1860   \n",
       "2            0.1444             0.4245           0.4504                0.2430   \n",
       "\n",
       "   worst symmetry  worst fractal dimension  target  \n",
       "0          0.4601                  0.11890       0  \n",
       "1          0.2750                  0.08902       0  \n",
       "2          0.3613                  0.08758       0  \n",
       "\n",
       "[3 rows x 31 columns]"
      ]
     },
     "execution_count": 53,
     "metadata": {},
     "output_type": "execute_result"
    }
   ],
   "source": [
    "from sklearn.datasets import load_breast_cancer\n",
    "\n",
    "dataset = load_breast_cancer()\n",
    "X_features= dataset.data\n",
    "y_label = dataset.target\n",
    "\n",
    "cancer_df = pd.DataFrame(data=X_features, columns=dataset.feature_names)\n",
    "cancer_df['target']= y_label\n",
    "\n",
    "print(cancer_df.shape)\n",
    "cancer_df.head(3)"
   ]
  },
  {
   "cell_type": "code",
   "execution_count": 54,
   "metadata": {
    "scrolled": true
   },
   "outputs": [
    {
     "data": {
      "text/plain": [
       "1    357\n",
       "0    212\n",
       "Name: target, dtype: int64"
      ]
     },
     "execution_count": 54,
     "metadata": {},
     "output_type": "execute_result"
    }
   ],
   "source": [
    "cancer_df['target'].value_counts()"
   ]
  },
  {
   "cell_type": "code",
   "execution_count": 55,
   "metadata": {},
   "outputs": [
    {
     "data": {
      "text/plain": [
       "Index(['mean radius', 'mean texture', 'mean perimeter', 'mean area',\n",
       "       'mean smoothness', 'mean compactness', 'mean concavity',\n",
       "       'mean concave points', 'mean symmetry', 'mean fractal dimension',\n",
       "       'radius error', 'texture error', 'perimeter error', 'area error',\n",
       "       'smoothness error', 'compactness error', 'concavity error',\n",
       "       'concave points error', 'symmetry error', 'fractal dimension error',\n",
       "       'worst radius', 'worst texture', 'worst perimeter', 'worst area',\n",
       "       'worst smoothness', 'worst compactness', 'worst concavity',\n",
       "       'worst concave points', 'worst symmetry', 'worst fractal dimension',\n",
       "       'target'],\n",
       "      dtype='object')"
      ]
     },
     "execution_count": 55,
     "metadata": {},
     "output_type": "execute_result"
    }
   ],
   "source": [
    "cancer_df.columns"
   ]
  },
  {
   "cell_type": "code",
   "execution_count": 56,
   "metadata": {},
   "outputs": [
    {
     "data": {
      "text/plain": [
       "0"
      ]
     },
     "execution_count": 56,
     "metadata": {},
     "output_type": "execute_result"
    }
   ],
   "source": [
    "# cancer_df.isnull().sum()\n",
    "cancer_df.isnull().sum().sum()"
   ]
  },
  {
   "cell_type": "code",
   "execution_count": 57,
   "metadata": {},
   "outputs": [
    {
     "data": {
      "text/html": [
       "<div>\n",
       "<style scoped>\n",
       "    .dataframe tbody tr th:only-of-type {\n",
       "        vertical-align: middle;\n",
       "    }\n",
       "\n",
       "    .dataframe tbody tr th {\n",
       "        vertical-align: top;\n",
       "    }\n",
       "\n",
       "    .dataframe thead th {\n",
       "        text-align: right;\n",
       "    }\n",
       "</style>\n",
       "<table border=\"1\" class=\"dataframe\">\n",
       "  <thead>\n",
       "    <tr style=\"text-align: right;\">\n",
       "      <th></th>\n",
       "      <th>mean radius</th>\n",
       "      <th>mean texture</th>\n",
       "      <th>mean perimeter</th>\n",
       "      <th>mean area</th>\n",
       "      <th>mean smoothness</th>\n",
       "      <th>mean compactness</th>\n",
       "      <th>mean concavity</th>\n",
       "      <th>mean concave points</th>\n",
       "      <th>mean symmetry</th>\n",
       "      <th>mean fractal dimension</th>\n",
       "      <th>...</th>\n",
       "      <th>worst texture</th>\n",
       "      <th>worst perimeter</th>\n",
       "      <th>worst area</th>\n",
       "      <th>worst smoothness</th>\n",
       "      <th>worst compactness</th>\n",
       "      <th>worst concavity</th>\n",
       "      <th>worst concave points</th>\n",
       "      <th>worst symmetry</th>\n",
       "      <th>worst fractal dimension</th>\n",
       "      <th>target</th>\n",
       "    </tr>\n",
       "  </thead>\n",
       "  <tbody>\n",
       "    <tr>\n",
       "      <th>count</th>\n",
       "      <td>569.000000</td>\n",
       "      <td>569.000000</td>\n",
       "      <td>569.000000</td>\n",
       "      <td>569.000000</td>\n",
       "      <td>569.000000</td>\n",
       "      <td>569.000000</td>\n",
       "      <td>569.000000</td>\n",
       "      <td>569.000000</td>\n",
       "      <td>569.000000</td>\n",
       "      <td>569.000000</td>\n",
       "      <td>...</td>\n",
       "      <td>569.000000</td>\n",
       "      <td>569.000000</td>\n",
       "      <td>569.000000</td>\n",
       "      <td>569.000000</td>\n",
       "      <td>569.000000</td>\n",
       "      <td>569.000000</td>\n",
       "      <td>569.000000</td>\n",
       "      <td>569.000000</td>\n",
       "      <td>569.000000</td>\n",
       "      <td>569.000000</td>\n",
       "    </tr>\n",
       "    <tr>\n",
       "      <th>mean</th>\n",
       "      <td>14.127292</td>\n",
       "      <td>19.289649</td>\n",
       "      <td>91.969033</td>\n",
       "      <td>654.889104</td>\n",
       "      <td>0.096360</td>\n",
       "      <td>0.104341</td>\n",
       "      <td>0.088799</td>\n",
       "      <td>0.048919</td>\n",
       "      <td>0.181162</td>\n",
       "      <td>0.062798</td>\n",
       "      <td>...</td>\n",
       "      <td>25.677223</td>\n",
       "      <td>107.261213</td>\n",
       "      <td>880.583128</td>\n",
       "      <td>0.132369</td>\n",
       "      <td>0.254265</td>\n",
       "      <td>0.272188</td>\n",
       "      <td>0.114606</td>\n",
       "      <td>0.290076</td>\n",
       "      <td>0.083946</td>\n",
       "      <td>0.627417</td>\n",
       "    </tr>\n",
       "    <tr>\n",
       "      <th>std</th>\n",
       "      <td>3.524049</td>\n",
       "      <td>4.301036</td>\n",
       "      <td>24.298981</td>\n",
       "      <td>351.914129</td>\n",
       "      <td>0.014064</td>\n",
       "      <td>0.052813</td>\n",
       "      <td>0.079720</td>\n",
       "      <td>0.038803</td>\n",
       "      <td>0.027414</td>\n",
       "      <td>0.007060</td>\n",
       "      <td>...</td>\n",
       "      <td>6.146258</td>\n",
       "      <td>33.602542</td>\n",
       "      <td>569.356993</td>\n",
       "      <td>0.022832</td>\n",
       "      <td>0.157336</td>\n",
       "      <td>0.208624</td>\n",
       "      <td>0.065732</td>\n",
       "      <td>0.061867</td>\n",
       "      <td>0.018061</td>\n",
       "      <td>0.483918</td>\n",
       "    </tr>\n",
       "    <tr>\n",
       "      <th>min</th>\n",
       "      <td>6.981000</td>\n",
       "      <td>9.710000</td>\n",
       "      <td>43.790000</td>\n",
       "      <td>143.500000</td>\n",
       "      <td>0.052630</td>\n",
       "      <td>0.019380</td>\n",
       "      <td>0.000000</td>\n",
       "      <td>0.000000</td>\n",
       "      <td>0.106000</td>\n",
       "      <td>0.049960</td>\n",
       "      <td>...</td>\n",
       "      <td>12.020000</td>\n",
       "      <td>50.410000</td>\n",
       "      <td>185.200000</td>\n",
       "      <td>0.071170</td>\n",
       "      <td>0.027290</td>\n",
       "      <td>0.000000</td>\n",
       "      <td>0.000000</td>\n",
       "      <td>0.156500</td>\n",
       "      <td>0.055040</td>\n",
       "      <td>0.000000</td>\n",
       "    </tr>\n",
       "    <tr>\n",
       "      <th>25%</th>\n",
       "      <td>11.700000</td>\n",
       "      <td>16.170000</td>\n",
       "      <td>75.170000</td>\n",
       "      <td>420.300000</td>\n",
       "      <td>0.086370</td>\n",
       "      <td>0.064920</td>\n",
       "      <td>0.029560</td>\n",
       "      <td>0.020310</td>\n",
       "      <td>0.161900</td>\n",
       "      <td>0.057700</td>\n",
       "      <td>...</td>\n",
       "      <td>21.080000</td>\n",
       "      <td>84.110000</td>\n",
       "      <td>515.300000</td>\n",
       "      <td>0.116600</td>\n",
       "      <td>0.147200</td>\n",
       "      <td>0.114500</td>\n",
       "      <td>0.064930</td>\n",
       "      <td>0.250400</td>\n",
       "      <td>0.071460</td>\n",
       "      <td>0.000000</td>\n",
       "    </tr>\n",
       "    <tr>\n",
       "      <th>50%</th>\n",
       "      <td>13.370000</td>\n",
       "      <td>18.840000</td>\n",
       "      <td>86.240000</td>\n",
       "      <td>551.100000</td>\n",
       "      <td>0.095870</td>\n",
       "      <td>0.092630</td>\n",
       "      <td>0.061540</td>\n",
       "      <td>0.033500</td>\n",
       "      <td>0.179200</td>\n",
       "      <td>0.061540</td>\n",
       "      <td>...</td>\n",
       "      <td>25.410000</td>\n",
       "      <td>97.660000</td>\n",
       "      <td>686.500000</td>\n",
       "      <td>0.131300</td>\n",
       "      <td>0.211900</td>\n",
       "      <td>0.226700</td>\n",
       "      <td>0.099930</td>\n",
       "      <td>0.282200</td>\n",
       "      <td>0.080040</td>\n",
       "      <td>1.000000</td>\n",
       "    </tr>\n",
       "    <tr>\n",
       "      <th>75%</th>\n",
       "      <td>15.780000</td>\n",
       "      <td>21.800000</td>\n",
       "      <td>104.100000</td>\n",
       "      <td>782.700000</td>\n",
       "      <td>0.105300</td>\n",
       "      <td>0.130400</td>\n",
       "      <td>0.130700</td>\n",
       "      <td>0.074000</td>\n",
       "      <td>0.195700</td>\n",
       "      <td>0.066120</td>\n",
       "      <td>...</td>\n",
       "      <td>29.720000</td>\n",
       "      <td>125.400000</td>\n",
       "      <td>1084.000000</td>\n",
       "      <td>0.146000</td>\n",
       "      <td>0.339100</td>\n",
       "      <td>0.382900</td>\n",
       "      <td>0.161400</td>\n",
       "      <td>0.317900</td>\n",
       "      <td>0.092080</td>\n",
       "      <td>1.000000</td>\n",
       "    </tr>\n",
       "    <tr>\n",
       "      <th>max</th>\n",
       "      <td>28.110000</td>\n",
       "      <td>39.280000</td>\n",
       "      <td>188.500000</td>\n",
       "      <td>2501.000000</td>\n",
       "      <td>0.163400</td>\n",
       "      <td>0.345400</td>\n",
       "      <td>0.426800</td>\n",
       "      <td>0.201200</td>\n",
       "      <td>0.304000</td>\n",
       "      <td>0.097440</td>\n",
       "      <td>...</td>\n",
       "      <td>49.540000</td>\n",
       "      <td>251.200000</td>\n",
       "      <td>4254.000000</td>\n",
       "      <td>0.222600</td>\n",
       "      <td>1.058000</td>\n",
       "      <td>1.252000</td>\n",
       "      <td>0.291000</td>\n",
       "      <td>0.663800</td>\n",
       "      <td>0.207500</td>\n",
       "      <td>1.000000</td>\n",
       "    </tr>\n",
       "  </tbody>\n",
       "</table>\n",
       "<p>8 rows × 31 columns</p>\n",
       "</div>"
      ],
      "text/plain": [
       "       mean radius  mean texture  mean perimeter    mean area  \\\n",
       "count   569.000000    569.000000      569.000000   569.000000   \n",
       "mean     14.127292     19.289649       91.969033   654.889104   \n",
       "std       3.524049      4.301036       24.298981   351.914129   \n",
       "min       6.981000      9.710000       43.790000   143.500000   \n",
       "25%      11.700000     16.170000       75.170000   420.300000   \n",
       "50%      13.370000     18.840000       86.240000   551.100000   \n",
       "75%      15.780000     21.800000      104.100000   782.700000   \n",
       "max      28.110000     39.280000      188.500000  2501.000000   \n",
       "\n",
       "       mean smoothness  mean compactness  mean concavity  mean concave points  \\\n",
       "count       569.000000        569.000000      569.000000           569.000000   \n",
       "mean          0.096360          0.104341        0.088799             0.048919   \n",
       "std           0.014064          0.052813        0.079720             0.038803   \n",
       "min           0.052630          0.019380        0.000000             0.000000   \n",
       "25%           0.086370          0.064920        0.029560             0.020310   \n",
       "50%           0.095870          0.092630        0.061540             0.033500   \n",
       "75%           0.105300          0.130400        0.130700             0.074000   \n",
       "max           0.163400          0.345400        0.426800             0.201200   \n",
       "\n",
       "       mean symmetry  mean fractal dimension  ...  worst texture  \\\n",
       "count     569.000000              569.000000  ...     569.000000   \n",
       "mean        0.181162                0.062798  ...      25.677223   \n",
       "std         0.027414                0.007060  ...       6.146258   \n",
       "min         0.106000                0.049960  ...      12.020000   \n",
       "25%         0.161900                0.057700  ...      21.080000   \n",
       "50%         0.179200                0.061540  ...      25.410000   \n",
       "75%         0.195700                0.066120  ...      29.720000   \n",
       "max         0.304000                0.097440  ...      49.540000   \n",
       "\n",
       "       worst perimeter   worst area  worst smoothness  worst compactness  \\\n",
       "count       569.000000   569.000000        569.000000         569.000000   \n",
       "mean        107.261213   880.583128          0.132369           0.254265   \n",
       "std          33.602542   569.356993          0.022832           0.157336   \n",
       "min          50.410000   185.200000          0.071170           0.027290   \n",
       "25%          84.110000   515.300000          0.116600           0.147200   \n",
       "50%          97.660000   686.500000          0.131300           0.211900   \n",
       "75%         125.400000  1084.000000          0.146000           0.339100   \n",
       "max         251.200000  4254.000000          0.222600           1.058000   \n",
       "\n",
       "       worst concavity  worst concave points  worst symmetry  \\\n",
       "count       569.000000            569.000000      569.000000   \n",
       "mean          0.272188              0.114606        0.290076   \n",
       "std           0.208624              0.065732        0.061867   \n",
       "min           0.000000              0.000000        0.156500   \n",
       "25%           0.114500              0.064930        0.250400   \n",
       "50%           0.226700              0.099930        0.282200   \n",
       "75%           0.382900              0.161400        0.317900   \n",
       "max           1.252000              0.291000        0.663800   \n",
       "\n",
       "       worst fractal dimension      target  \n",
       "count               569.000000  569.000000  \n",
       "mean                  0.083946    0.627417  \n",
       "std                   0.018061    0.483918  \n",
       "min                   0.055040    0.000000  \n",
       "25%                   0.071460    0.000000  \n",
       "50%                   0.080040    1.000000  \n",
       "75%                   0.092080    1.000000  \n",
       "max                   0.207500    1.000000  \n",
       "\n",
       "[8 rows x 31 columns]"
      ]
     },
     "execution_count": 57,
     "metadata": {},
     "output_type": "execute_result"
    }
   ],
   "source": [
    "cancer_df.describe()"
   ]
  },
  {
   "cell_type": "markdown",
   "metadata": {},
   "source": [
    "### 데이타셋 분리"
   ]
  },
  {
   "cell_type": "code",
   "execution_count": 58,
   "metadata": {},
   "outputs": [
    {
     "name": "stdout",
     "output_type": "stream",
     "text": [
      "(455, 30) (114, 30)\n"
     ]
    }
   ],
   "source": [
    "X_train, X_test, y_train, y_test=train_test_split(X_features, y_label,\n",
    "                                         test_size=0.2, random_state=156 )\n",
    "print(X_train.shape , X_test.shape)"
   ]
  },
  {
   "cell_type": "markdown",
   "metadata": {},
   "source": [
    "### 모델 생성 및 학습"
   ]
  },
  {
   "cell_type": "code",
   "execution_count": 67,
   "metadata": {},
   "outputs": [],
   "source": [
    "# 스케일링 \n",
    "scaler = StandardScaler()\n",
    "scaler.fit(X_train)\n",
    "X_train = scaler.transform(X_train)\n",
    "X_test = scaler.transform(X_test)"
   ]
  },
  {
   "cell_type": "code",
   "execution_count": 69,
   "metadata": {},
   "outputs": [],
   "source": [
    "# X_train[:3]"
   ]
  },
  {
   "cell_type": "code",
   "execution_count": 71,
   "metadata": {},
   "outputs": [
    {
     "name": "stdout",
     "output_type": "stream",
     "text": [
      "[11:25:43] WARNING: C:/Users/Administrator/workspace/xgboost-win64_release_1.5.1/src/learner.cc:1115: Starting in XGBoost 1.3.0, the default evaluation metric used with the objective 'binary:logistic' was changed from 'error' to 'logloss'. Explicitly set eval_metric if you'd like to restore the old behavior.\n"
     ]
    },
    {
     "data": {
      "text/plain": [
       "0.956140350877193"
      ]
     },
     "execution_count": 71,
     "metadata": {},
     "output_type": "execute_result"
    }
   ],
   "source": [
    "model_xgb = XGBClassifier()\n",
    "# 오류 발생시 아래와 같이 변경 \n",
    "# model_xgb = XGBClassifier(objective='reg:squarederror', n_estimators=100)\n",
    "model_xgb.fit(X_train,y_train)\n",
    "model_xgb.score(X_test, y_test)"
   ]
  },
  {
   "cell_type": "code",
   "execution_count": 70,
   "metadata": {},
   "outputs": [],
   "source": [
    "# 스케일링 전 \n",
    "# 0.956140350877193"
   ]
  },
  {
   "cell_type": "code",
   "execution_count": 62,
   "metadata": {},
   "outputs": [
    {
     "name": "stdout",
     "output_type": "stream",
     "text": [
      "              precision    recall  f1-score   support\n",
      "\n",
      "           0       0.94      0.92      0.93        37\n",
      "           1       0.96      0.97      0.97        77\n",
      "\n",
      "    accuracy                           0.96       114\n",
      "   macro avg       0.95      0.95      0.95       114\n",
      "weighted avg       0.96      0.96      0.96       114\n",
      "\n"
     ]
    },
    {
     "data": {
      "text/plain": [
       "array([[34,  3],\n",
       "       [ 2, 75]], dtype=int64)"
      ]
     },
     "execution_count": 62,
     "metadata": {},
     "output_type": "execute_result"
    }
   ],
   "source": [
    "print(classification_report(y_test, model_xgb.predict(X_test)))\n",
    "confusion_matrix(y_test, model_xgb.predict(X_test))"
   ]
  },
  {
   "cell_type": "code",
   "execution_count": 63,
   "metadata": {},
   "outputs": [
    {
     "name": "stdout",
     "output_type": "stream",
     "text": [
      "[0]\tvalidation_0-error:0.05263\n",
      "[1]\tvalidation_0-error:0.05263\n",
      "[2]\tvalidation_0-error:0.05263\n",
      "[3]\tvalidation_0-error:0.05263\n",
      "[4]\tvalidation_0-error:0.05263\n",
      "[5]\tvalidation_0-error:0.05263\n",
      "[6]\tvalidation_0-error:0.05263\n",
      "[7]\tvalidation_0-error:0.05263\n",
      "[8]\tvalidation_0-error:0.05263\n",
      "[9]\tvalidation_0-error:0.05263\n",
      "[0]\tvalidation_0-error:0.07895\n",
      "[1]\tvalidation_0-error:0.07895\n",
      "[2]\tvalidation_0-error:0.07895\n",
      "[3]\tvalidation_0-error:0.07895\n",
      "[4]\tvalidation_0-error:0.07895\n",
      "[5]\tvalidation_0-error:0.07895\n",
      "[6]\tvalidation_0-error:0.07895\n",
      "[7]\tvalidation_0-error:0.07895\n",
      "[8]\tvalidation_0-error:0.07895\n",
      "[9]\tvalidation_0-error:0.07895\n",
      "[0]\tvalidation_0-error:0.08772\n",
      "[1]\tvalidation_0-error:0.08772\n",
      "[2]\tvalidation_0-error:0.08772\n",
      "[3]\tvalidation_0-error:0.08772\n",
      "[4]\tvalidation_0-error:0.08772\n",
      "[5]\tvalidation_0-error:0.08772\n",
      "[6]\tvalidation_0-error:0.08772\n",
      "[7]\tvalidation_0-error:0.08772\n",
      "[8]\tvalidation_0-error:0.08772\n",
      "[9]\tvalidation_0-error:0.08772\n",
      "[0]\tvalidation_0-error:0.07018\n",
      "[1]\tvalidation_0-error:0.07018\n",
      "[2]\tvalidation_0-error:0.07018\n",
      "[3]\tvalidation_0-error:0.07018\n",
      "[4]\tvalidation_0-error:0.07018\n",
      "[5]\tvalidation_0-error:0.07018\n",
      "[6]\tvalidation_0-error:0.07018\n",
      "[7]\tvalidation_0-error:0.07018\n",
      "[8]\tvalidation_0-error:0.07018\n",
      "[9]\tvalidation_0-error:0.07018\n",
      "[0]\tvalidation_0-error:0.09649\n",
      "[1]\tvalidation_0-error:0.08772\n",
      "[2]\tvalidation_0-error:0.08772\n",
      "[3]\tvalidation_0-error:0.08772\n",
      "[4]\tvalidation_0-error:0.08772\n",
      "[5]\tvalidation_0-error:0.08772\n",
      "[6]\tvalidation_0-error:0.08772\n",
      "[7]\tvalidation_0-error:0.08772\n",
      "[8]\tvalidation_0-error:0.08772\n",
      "[9]\tvalidation_0-error:0.08772\n",
      "[0]\tvalidation_0-error:0.05263\n",
      "[1]\tvalidation_0-error:0.05263\n",
      "[2]\tvalidation_0-error:0.06140\n",
      "[3]\tvalidation_0-error:0.05263\n",
      "[4]\tvalidation_0-error:0.05263\n",
      "[5]\tvalidation_0-error:0.05263\n",
      "[6]\tvalidation_0-error:0.05263\n",
      "[7]\tvalidation_0-error:0.05263\n",
      "[8]\tvalidation_0-error:0.05263\n",
      "[9]\tvalidation_0-error:0.05263\n",
      "[0]\tvalidation_0-error:0.07018\n",
      "[1]\tvalidation_0-error:0.07895\n",
      "[2]\tvalidation_0-error:0.07895\n",
      "[3]\tvalidation_0-error:0.07895\n",
      "[4]\tvalidation_0-error:0.07895\n",
      "[5]\tvalidation_0-error:0.07895\n",
      "[6]\tvalidation_0-error:0.07895\n",
      "[7]\tvalidation_0-error:0.07895\n",
      "[8]\tvalidation_0-error:0.07895\n",
      "[9]\tvalidation_0-error:0.07895\n",
      "[0]\tvalidation_0-error:0.08772\n",
      "[1]\tvalidation_0-error:0.08772\n",
      "[2]\tvalidation_0-error:0.08772\n",
      "[3]\tvalidation_0-error:0.08772\n",
      "[4]\tvalidation_0-error:0.08772\n",
      "[5]\tvalidation_0-error:0.08772\n",
      "[6]\tvalidation_0-error:0.08772\n",
      "[7]\tvalidation_0-error:0.08772\n",
      "[8]\tvalidation_0-error:0.08772\n",
      "[9]\tvalidation_0-error:0.08772\n",
      "[0]\tvalidation_0-error:0.07018\n",
      "[1]\tvalidation_0-error:0.07018\n",
      "[2]\tvalidation_0-error:0.07018\n",
      "[3]\tvalidation_0-error:0.07018\n",
      "[4]\tvalidation_0-error:0.07018\n",
      "[5]\tvalidation_0-error:0.07018\n",
      "[6]\tvalidation_0-error:0.07018\n",
      "[7]\tvalidation_0-error:0.07018\n",
      "[8]\tvalidation_0-error:0.07018\n",
      "[9]\tvalidation_0-error:0.07018\n",
      "[0]\tvalidation_0-error:0.11403\n",
      "[1]\tvalidation_0-error:0.10526\n",
      "[2]\tvalidation_0-error:0.10526\n",
      "[3]\tvalidation_0-error:0.11403\n",
      "[4]\tvalidation_0-error:0.11403\n",
      "[5]\tvalidation_0-error:0.10526\n",
      "[6]\tvalidation_0-error:0.10526\n",
      "[7]\tvalidation_0-error:0.10526\n",
      "[8]\tvalidation_0-error:0.10526\n",
      "[9]\tvalidation_0-error:0.10526\n",
      "[0]\tvalidation_0-error:0.05263\n",
      "[1]\tvalidation_0-error:0.05263\n",
      "[2]\tvalidation_0-error:0.06140\n",
      "[3]\tvalidation_0-error:0.05263\n",
      "[4]\tvalidation_0-error:0.05263\n",
      "[5]\tvalidation_0-error:0.05263\n",
      "[6]\tvalidation_0-error:0.05263\n",
      "[7]\tvalidation_0-error:0.05263\n",
      "[8]\tvalidation_0-error:0.05263\n",
      "[9]\tvalidation_0-error:0.05263\n",
      "[0]\tvalidation_0-error:0.07018\n",
      "[1]\tvalidation_0-error:0.07895\n",
      "[2]\tvalidation_0-error:0.07895\n",
      "[3]\tvalidation_0-error:0.07895\n",
      "[4]\tvalidation_0-error:0.07895\n",
      "[5]\tvalidation_0-error:0.07895\n",
      "[6]\tvalidation_0-error:0.07895\n",
      "[7]\tvalidation_0-error:0.07895\n",
      "[8]\tvalidation_0-error:0.07895\n",
      "[9]\tvalidation_0-error:0.07895\n",
      "[0]\tvalidation_0-error:0.08772\n",
      "[1]\tvalidation_0-error:0.08772\n",
      "[2]\tvalidation_0-error:0.08772\n",
      "[3]\tvalidation_0-error:0.08772\n",
      "[4]\tvalidation_0-error:0.08772\n",
      "[5]\tvalidation_0-error:0.08772\n",
      "[6]\tvalidation_0-error:0.08772\n",
      "[7]\tvalidation_0-error:0.08772\n",
      "[8]\tvalidation_0-error:0.08772\n",
      "[9]\tvalidation_0-error:0.08772\n",
      "[0]\tvalidation_0-error:0.07018\n",
      "[1]\tvalidation_0-error:0.07018\n",
      "[2]\tvalidation_0-error:0.07018\n",
      "[3]\tvalidation_0-error:0.07018\n",
      "[4]\tvalidation_0-error:0.07018\n",
      "[5]\tvalidation_0-error:0.07018\n",
      "[6]\tvalidation_0-error:0.07018\n",
      "[7]\tvalidation_0-error:0.07018\n",
      "[8]\tvalidation_0-error:0.07018\n",
      "[9]\tvalidation_0-error:0.07018\n",
      "[0]\tvalidation_0-error:0.11403\n",
      "[1]\tvalidation_0-error:0.10526\n",
      "[2]\tvalidation_0-error:0.10526\n",
      "[3]\tvalidation_0-error:0.11403\n",
      "[4]\tvalidation_0-error:0.11403\n",
      "[5]\tvalidation_0-error:0.10526\n",
      "[6]\tvalidation_0-error:0.10526\n",
      "[7]\tvalidation_0-error:0.10526\n",
      "[8]\tvalidation_0-error:0.10526\n",
      "[9]\tvalidation_0-error:0.10526\n",
      "[0]\tvalidation_0-error:0.05263\n",
      "[1]\tvalidation_0-error:0.05263\n",
      "[2]\tvalidation_0-error:0.06140\n",
      "[3]\tvalidation_0-error:0.05263\n",
      "[4]\tvalidation_0-error:0.05263\n",
      "[5]\tvalidation_0-error:0.05263\n",
      "[6]\tvalidation_0-error:0.05263\n",
      "[7]\tvalidation_0-error:0.05263\n",
      "[8]\tvalidation_0-error:0.05263\n",
      "[9]\tvalidation_0-error:0.05263\n",
      "[0]\tvalidation_0-error:0.07018\n",
      "[1]\tvalidation_0-error:0.07895\n",
      "[2]\tvalidation_0-error:0.07895\n",
      "[3]\tvalidation_0-error:0.07895\n",
      "[4]\tvalidation_0-error:0.07895\n",
      "[5]\tvalidation_0-error:0.07895\n",
      "[6]\tvalidation_0-error:0.07895\n",
      "[7]\tvalidation_0-error:0.07895\n",
      "[8]\tvalidation_0-error:0.07895\n",
      "[9]\tvalidation_0-error:0.07895\n",
      "[0]\tvalidation_0-error:0.08772\n",
      "[1]\tvalidation_0-error:0.08772\n",
      "[2]\tvalidation_0-error:0.08772\n",
      "[3]\tvalidation_0-error:0.08772\n",
      "[4]\tvalidation_0-error:0.08772\n",
      "[5]\tvalidation_0-error:0.08772\n",
      "[6]\tvalidation_0-error:0.08772\n",
      "[7]\tvalidation_0-error:0.08772\n",
      "[8]\tvalidation_0-error:0.08772\n",
      "[9]\tvalidation_0-error:0.08772\n",
      "[0]\tvalidation_0-error:0.07018\n",
      "[1]\tvalidation_0-error:0.07018\n",
      "[2]\tvalidation_0-error:0.07018\n",
      "[3]\tvalidation_0-error:0.07018\n",
      "[4]\tvalidation_0-error:0.07018\n",
      "[5]\tvalidation_0-error:0.07018\n",
      "[6]\tvalidation_0-error:0.07018\n",
      "[7]\tvalidation_0-error:0.07018\n",
      "[8]\tvalidation_0-error:0.07018\n",
      "[9]\tvalidation_0-error:0.07018\n",
      "[0]\tvalidation_0-error:0.11403\n",
      "[1]\tvalidation_0-error:0.10526\n",
      "[2]\tvalidation_0-error:0.10526\n",
      "[3]\tvalidation_0-error:0.11403\n",
      "[4]\tvalidation_0-error:0.11403\n",
      "[5]\tvalidation_0-error:0.10526\n",
      "[6]\tvalidation_0-error:0.10526\n",
      "[7]\tvalidation_0-error:0.10526\n",
      "[8]\tvalidation_0-error:0.10526\n",
      "[9]\tvalidation_0-error:0.10526\n",
      "[0]\tvalidation_0-error:0.05263\n",
      "[1]\tvalidation_0-error:0.05263\n",
      "[2]\tvalidation_0-error:0.05263\n",
      "[3]\tvalidation_0-error:0.05263\n",
      "[4]\tvalidation_0-error:0.05263\n",
      "[5]\tvalidation_0-error:0.05263\n",
      "[6]\tvalidation_0-error:0.05263\n",
      "[7]\tvalidation_0-error:0.05263\n",
      "[8]\tvalidation_0-error:0.05263\n",
      "[9]\tvalidation_0-error:0.05263\n",
      "[0]\tvalidation_0-error:0.07895\n",
      "[1]\tvalidation_0-error:0.07895\n",
      "[2]\tvalidation_0-error:0.07895\n",
      "[3]\tvalidation_0-error:0.07895\n",
      "[4]\tvalidation_0-error:0.07895\n",
      "[5]\tvalidation_0-error:0.07895\n",
      "[6]\tvalidation_0-error:0.07895\n",
      "[7]\tvalidation_0-error:0.07895\n",
      "[8]\tvalidation_0-error:0.07895\n",
      "[9]\tvalidation_0-error:0.07895\n",
      "[0]\tvalidation_0-error:0.08772\n",
      "[1]\tvalidation_0-error:0.08772\n",
      "[2]\tvalidation_0-error:0.08772\n",
      "[3]\tvalidation_0-error:0.08772\n",
      "[4]\tvalidation_0-error:0.08772\n",
      "[5]\tvalidation_0-error:0.08772\n",
      "[6]\tvalidation_0-error:0.08772\n",
      "[7]\tvalidation_0-error:0.08772\n",
      "[8]\tvalidation_0-error:0.08772\n",
      "[9]\tvalidation_0-error:0.08772\n",
      "[0]\tvalidation_0-error:0.07018\n",
      "[1]\tvalidation_0-error:0.07018\n",
      "[2]\tvalidation_0-error:0.07018\n",
      "[3]\tvalidation_0-error:0.07018\n",
      "[4]\tvalidation_0-error:0.07018\n",
      "[5]\tvalidation_0-error:0.07018\n",
      "[6]\tvalidation_0-error:0.07018\n",
      "[7]\tvalidation_0-error:0.07018\n",
      "[8]\tvalidation_0-error:0.07018\n",
      "[9]\tvalidation_0-error:0.07018\n",
      "[0]\tvalidation_0-error:0.09649\n",
      "[1]\tvalidation_0-error:0.09649\n",
      "[2]\tvalidation_0-error:0.09649\n",
      "[3]\tvalidation_0-error:0.09649\n",
      "[4]\tvalidation_0-error:0.09649\n",
      "[5]\tvalidation_0-error:0.09649\n",
      "[6]\tvalidation_0-error:0.09649\n",
      "[7]\tvalidation_0-error:0.09649\n",
      "[8]\tvalidation_0-error:0.09649\n",
      "[9]\tvalidation_0-error:0.09649\n",
      "[0]\tvalidation_0-error:0.05263\n",
      "[1]\tvalidation_0-error:0.05263\n",
      "[2]\tvalidation_0-error:0.05263\n",
      "[3]\tvalidation_0-error:0.05263\n",
      "[4]\tvalidation_0-error:0.05263\n",
      "[5]\tvalidation_0-error:0.05263\n",
      "[6]\tvalidation_0-error:0.05263\n",
      "[7]\tvalidation_0-error:0.05263\n",
      "[8]\tvalidation_0-error:0.05263\n",
      "[9]\tvalidation_0-error:0.05263\n",
      "[0]\tvalidation_0-error:0.07018\n",
      "[1]\tvalidation_0-error:0.07018\n",
      "[2]\tvalidation_0-error:0.07018\n",
      "[3]\tvalidation_0-error:0.07018\n",
      "[4]\tvalidation_0-error:0.07018\n"
     ]
    },
    {
     "name": "stdout",
     "output_type": "stream",
     "text": [
      "[5]\tvalidation_0-error:0.07018\n",
      "[6]\tvalidation_0-error:0.07018\n",
      "[7]\tvalidation_0-error:0.07018\n",
      "[8]\tvalidation_0-error:0.07018\n",
      "[9]\tvalidation_0-error:0.07018\n",
      "[0]\tvalidation_0-error:0.08772\n",
      "[1]\tvalidation_0-error:0.08772\n",
      "[2]\tvalidation_0-error:0.08772\n",
      "[3]\tvalidation_0-error:0.08772\n",
      "[4]\tvalidation_0-error:0.08772\n",
      "[5]\tvalidation_0-error:0.08772\n",
      "[6]\tvalidation_0-error:0.08772\n",
      "[7]\tvalidation_0-error:0.08772\n",
      "[8]\tvalidation_0-error:0.08772\n",
      "[9]\tvalidation_0-error:0.08772\n",
      "[0]\tvalidation_0-error:0.07018\n",
      "[1]\tvalidation_0-error:0.07018\n",
      "[2]\tvalidation_0-error:0.07018\n",
      "[3]\tvalidation_0-error:0.07018\n",
      "[4]\tvalidation_0-error:0.07018\n",
      "[5]\tvalidation_0-error:0.07018\n",
      "[6]\tvalidation_0-error:0.07018\n",
      "[7]\tvalidation_0-error:0.07018\n",
      "[8]\tvalidation_0-error:0.07018\n",
      "[9]\tvalidation_0-error:0.07018\n",
      "[0]\tvalidation_0-error:0.11403\n",
      "[1]\tvalidation_0-error:0.11403\n",
      "[2]\tvalidation_0-error:0.11403\n",
      "[3]\tvalidation_0-error:0.11403\n",
      "[4]\tvalidation_0-error:0.11403\n",
      "[5]\tvalidation_0-error:0.11403\n",
      "[6]\tvalidation_0-error:0.11403\n",
      "[7]\tvalidation_0-error:0.11403\n",
      "[8]\tvalidation_0-error:0.11403\n",
      "[9]\tvalidation_0-error:0.11403\n",
      "[0]\tvalidation_0-error:0.05263\n",
      "[1]\tvalidation_0-error:0.05263\n",
      "[2]\tvalidation_0-error:0.05263\n",
      "[3]\tvalidation_0-error:0.05263\n",
      "[4]\tvalidation_0-error:0.05263\n",
      "[5]\tvalidation_0-error:0.05263\n",
      "[6]\tvalidation_0-error:0.05263\n",
      "[7]\tvalidation_0-error:0.05263\n",
      "[8]\tvalidation_0-error:0.05263\n",
      "[9]\tvalidation_0-error:0.05263\n",
      "[0]\tvalidation_0-error:0.07018\n",
      "[1]\tvalidation_0-error:0.07018\n",
      "[2]\tvalidation_0-error:0.07018\n",
      "[3]\tvalidation_0-error:0.07018\n",
      "[4]\tvalidation_0-error:0.07018\n",
      "[5]\tvalidation_0-error:0.07018\n",
      "[6]\tvalidation_0-error:0.07018\n",
      "[7]\tvalidation_0-error:0.07018\n",
      "[8]\tvalidation_0-error:0.07018\n",
      "[9]\tvalidation_0-error:0.07018\n",
      "[0]\tvalidation_0-error:0.08772\n",
      "[1]\tvalidation_0-error:0.08772\n",
      "[2]\tvalidation_0-error:0.08772\n",
      "[3]\tvalidation_0-error:0.08772\n",
      "[4]\tvalidation_0-error:0.08772\n",
      "[5]\tvalidation_0-error:0.08772\n",
      "[6]\tvalidation_0-error:0.08772\n",
      "[7]\tvalidation_0-error:0.08772\n",
      "[8]\tvalidation_0-error:0.08772\n",
      "[9]\tvalidation_0-error:0.08772\n",
      "[0]\tvalidation_0-error:0.07018\n",
      "[1]\tvalidation_0-error:0.07018\n",
      "[2]\tvalidation_0-error:0.07018\n",
      "[3]\tvalidation_0-error:0.07018\n",
      "[4]\tvalidation_0-error:0.07018\n",
      "[5]\tvalidation_0-error:0.07018\n",
      "[6]\tvalidation_0-error:0.07018\n",
      "[7]\tvalidation_0-error:0.07018\n",
      "[8]\tvalidation_0-error:0.07018\n",
      "[9]\tvalidation_0-error:0.07018\n",
      "[0]\tvalidation_0-error:0.11403\n",
      "[1]\tvalidation_0-error:0.11403\n",
      "[2]\tvalidation_0-error:0.11403\n",
      "[3]\tvalidation_0-error:0.11403\n",
      "[4]\tvalidation_0-error:0.11403\n",
      "[5]\tvalidation_0-error:0.11403\n",
      "[6]\tvalidation_0-error:0.11403\n",
      "[7]\tvalidation_0-error:0.11403\n",
      "[8]\tvalidation_0-error:0.11403\n",
      "[9]\tvalidation_0-error:0.11403\n",
      "[0]\tvalidation_0-error:0.05263\n",
      "[1]\tvalidation_0-error:0.05263\n",
      "[2]\tvalidation_0-error:0.05263\n",
      "[3]\tvalidation_0-error:0.05263\n",
      "[4]\tvalidation_0-error:0.05263\n",
      "[5]\tvalidation_0-error:0.05263\n",
      "[6]\tvalidation_0-error:0.05263\n",
      "[7]\tvalidation_0-error:0.05263\n",
      "[8]\tvalidation_0-error:0.05263\n",
      "[9]\tvalidation_0-error:0.05263\n",
      "[0]\tvalidation_0-error:0.07018\n",
      "[1]\tvalidation_0-error:0.07018\n",
      "[2]\tvalidation_0-error:0.07018\n",
      "[3]\tvalidation_0-error:0.07018\n",
      "[4]\tvalidation_0-error:0.07018\n",
      "[5]\tvalidation_0-error:0.07018\n",
      "[6]\tvalidation_0-error:0.07018\n",
      "[7]\tvalidation_0-error:0.07018\n",
      "[8]\tvalidation_0-error:0.07018\n",
      "[9]\tvalidation_0-error:0.07018\n",
      "[0]\tvalidation_0-error:0.08772\n",
      "[1]\tvalidation_0-error:0.08772\n",
      "[2]\tvalidation_0-error:0.08772\n",
      "[3]\tvalidation_0-error:0.08772\n",
      "[4]\tvalidation_0-error:0.08772\n",
      "[5]\tvalidation_0-error:0.08772\n",
      "[6]\tvalidation_0-error:0.08772\n",
      "[7]\tvalidation_0-error:0.08772\n",
      "[8]\tvalidation_0-error:0.08772\n",
      "[9]\tvalidation_0-error:0.08772\n",
      "[0]\tvalidation_0-error:0.07018\n",
      "[1]\tvalidation_0-error:0.07018\n",
      "[2]\tvalidation_0-error:0.07018\n",
      "[3]\tvalidation_0-error:0.07018\n",
      "[4]\tvalidation_0-error:0.07018\n",
      "[5]\tvalidation_0-error:0.07018\n",
      "[6]\tvalidation_0-error:0.07018\n",
      "[7]\tvalidation_0-error:0.07018\n",
      "[8]\tvalidation_0-error:0.07018\n",
      "[9]\tvalidation_0-error:0.07018\n",
      "[0]\tvalidation_0-error:0.11403\n",
      "[1]\tvalidation_0-error:0.11403\n",
      "[2]\tvalidation_0-error:0.11403\n",
      "[3]\tvalidation_0-error:0.11403\n",
      "[4]\tvalidation_0-error:0.11403\n",
      "[5]\tvalidation_0-error:0.11403\n",
      "[6]\tvalidation_0-error:0.11403\n",
      "[7]\tvalidation_0-error:0.11403\n",
      "[8]\tvalidation_0-error:0.11403\n",
      "[9]\tvalidation_0-error:0.11403\n",
      "[0]\tvalidation_0-error:0.05263\n",
      "[1]\tvalidation_0-error:0.05263\n",
      "[2]\tvalidation_0-error:0.05263\n",
      "[3]\tvalidation_0-error:0.05263\n",
      "[4]\tvalidation_0-error:0.05263\n",
      "[5]\tvalidation_0-error:0.05263\n",
      "[6]\tvalidation_0-error:0.05263\n",
      "[7]\tvalidation_0-error:0.05263\n",
      "[8]\tvalidation_0-error:0.05263\n",
      "[9]\tvalidation_0-error:0.05263\n",
      "[0]\tvalidation_0-error:0.07895\n",
      "[1]\tvalidation_0-error:0.07895\n",
      "[2]\tvalidation_0-error:0.07895\n",
      "[3]\tvalidation_0-error:0.07895\n",
      "[4]\tvalidation_0-error:0.07895\n",
      "[5]\tvalidation_0-error:0.07895\n",
      "[6]\tvalidation_0-error:0.07895\n",
      "[7]\tvalidation_0-error:0.07895\n",
      "[8]\tvalidation_0-error:0.07895\n",
      "[9]\tvalidation_0-error:0.07895\n",
      "[0]\tvalidation_0-error:0.08772\n",
      "[1]\tvalidation_0-error:0.08772\n",
      "[2]\tvalidation_0-error:0.08772\n",
      "[3]\tvalidation_0-error:0.08772\n",
      "[4]\tvalidation_0-error:0.08772\n",
      "[5]\tvalidation_0-error:0.08772\n",
      "[6]\tvalidation_0-error:0.08772\n",
      "[7]\tvalidation_0-error:0.08772\n",
      "[8]\tvalidation_0-error:0.08772\n",
      "[9]\tvalidation_0-error:0.08772\n",
      "[0]\tvalidation_0-error:0.07018\n",
      "[1]\tvalidation_0-error:0.07018\n",
      "[2]\tvalidation_0-error:0.07018\n",
      "[3]\tvalidation_0-error:0.06140\n",
      "[4]\tvalidation_0-error:0.06140\n",
      "[5]\tvalidation_0-error:0.06140\n",
      "[6]\tvalidation_0-error:0.06140\n",
      "[7]\tvalidation_0-error:0.06140\n",
      "[8]\tvalidation_0-error:0.06140\n",
      "[9]\tvalidation_0-error:0.06140\n",
      "[0]\tvalidation_0-error:0.09649\n",
      "[1]\tvalidation_0-error:0.09649\n",
      "[2]\tvalidation_0-error:0.09649\n",
      "[3]\tvalidation_0-error:0.09649\n",
      "[4]\tvalidation_0-error:0.09649\n",
      "[5]\tvalidation_0-error:0.09649\n",
      "[6]\tvalidation_0-error:0.09649\n",
      "[7]\tvalidation_0-error:0.09649\n",
      "[8]\tvalidation_0-error:0.09649\n",
      "[9]\tvalidation_0-error:0.09649\n",
      "[0]\tvalidation_0-error:0.05263\n",
      "[1]\tvalidation_0-error:0.05263\n",
      "[2]\tvalidation_0-error:0.05263\n",
      "[3]\tvalidation_0-error:0.05263\n",
      "[4]\tvalidation_0-error:0.05263\n",
      "[5]\tvalidation_0-error:0.05263\n",
      "[6]\tvalidation_0-error:0.05263\n",
      "[7]\tvalidation_0-error:0.05263\n",
      "[8]\tvalidation_0-error:0.05263\n",
      "[9]\tvalidation_0-error:0.05263\n",
      "[0]\tvalidation_0-error:0.07018\n",
      "[1]\tvalidation_0-error:0.07018\n",
      "[2]\tvalidation_0-error:0.07018\n",
      "[3]\tvalidation_0-error:0.07018\n",
      "[4]\tvalidation_0-error:0.07018\n",
      "[5]\tvalidation_0-error:0.07018\n",
      "[6]\tvalidation_0-error:0.07018\n",
      "[7]\tvalidation_0-error:0.07018\n",
      "[8]\tvalidation_0-error:0.07018\n",
      "[9]\tvalidation_0-error:0.07018\n",
      "[0]\tvalidation_0-error:0.08772\n",
      "[1]\tvalidation_0-error:0.08772\n",
      "[2]\tvalidation_0-error:0.08772\n",
      "[3]\tvalidation_0-error:0.08772\n",
      "[4]\tvalidation_0-error:0.08772\n",
      "[5]\tvalidation_0-error:0.08772\n",
      "[6]\tvalidation_0-error:0.08772\n",
      "[7]\tvalidation_0-error:0.08772\n",
      "[8]\tvalidation_0-error:0.08772\n",
      "[9]\tvalidation_0-error:0.08772\n",
      "[0]\tvalidation_0-error:0.07018\n",
      "[1]\tvalidation_0-error:0.07018\n",
      "[2]\tvalidation_0-error:0.07018\n",
      "[3]\tvalidation_0-error:0.07018\n",
      "[4]\tvalidation_0-error:0.07018\n",
      "[5]\tvalidation_0-error:0.07018\n",
      "[6]\tvalidation_0-error:0.07018\n",
      "[7]\tvalidation_0-error:0.07018\n",
      "[8]\tvalidation_0-error:0.07018\n",
      "[9]\tvalidation_0-error:0.07018\n",
      "[0]\tvalidation_0-error:0.11403\n",
      "[1]\tvalidation_0-error:0.11403\n",
      "[2]\tvalidation_0-error:0.11403\n",
      "[3]\tvalidation_0-error:0.11403\n",
      "[4]\tvalidation_0-error:0.11403\n",
      "[5]\tvalidation_0-error:0.11403\n",
      "[6]\tvalidation_0-error:0.11403\n",
      "[7]\tvalidation_0-error:0.11403\n",
      "[8]\tvalidation_0-error:0.11403\n",
      "[9]\tvalidation_0-error:0.11403\n",
      "[0]\tvalidation_0-error:0.05263\n",
      "[1]\tvalidation_0-error:0.05263\n",
      "[2]\tvalidation_0-error:0.05263\n",
      "[3]\tvalidation_0-error:0.05263\n",
      "[4]\tvalidation_0-error:0.05263\n",
      "[5]\tvalidation_0-error:0.05263\n",
      "[6]\tvalidation_0-error:0.05263\n",
      "[7]\tvalidation_0-error:0.05263\n",
      "[8]\tvalidation_0-error:0.05263\n",
      "[9]\tvalidation_0-error:0.05263\n",
      "[0]\tvalidation_0-error:0.07018\n",
      "[1]\tvalidation_0-error:0.07018\n",
      "[2]\tvalidation_0-error:0.07018\n",
      "[3]\tvalidation_0-error:0.07018\n",
      "[4]\tvalidation_0-error:0.07018\n",
      "[5]\tvalidation_0-error:0.07018\n",
      "[6]\tvalidation_0-error:0.07018\n",
      "[7]\tvalidation_0-error:0.07018\n",
      "[8]\tvalidation_0-error:0.07018\n",
      "[9]\tvalidation_0-error:0.07018\n",
      "[0]\tvalidation_0-error:0.08772\n",
      "[1]\tvalidation_0-error:0.08772\n",
      "[2]\tvalidation_0-error:0.08772\n",
      "[3]\tvalidation_0-error:0.08772\n",
      "[4]\tvalidation_0-error:0.08772\n",
      "[5]\tvalidation_0-error:0.08772\n",
      "[6]\tvalidation_0-error:0.08772\n",
      "[7]\tvalidation_0-error:0.08772\n",
      "[8]\tvalidation_0-error:0.08772\n",
      "[9]\tvalidation_0-error:0.08772\n"
     ]
    },
    {
     "name": "stdout",
     "output_type": "stream",
     "text": [
      "[0]\tvalidation_0-error:0.07018\n",
      "[1]\tvalidation_0-error:0.07018\n",
      "[2]\tvalidation_0-error:0.07018\n",
      "[3]\tvalidation_0-error:0.07018\n",
      "[4]\tvalidation_0-error:0.07018\n",
      "[5]\tvalidation_0-error:0.07018\n",
      "[6]\tvalidation_0-error:0.07018\n",
      "[7]\tvalidation_0-error:0.07018\n",
      "[8]\tvalidation_0-error:0.07018\n",
      "[9]\tvalidation_0-error:0.07018\n",
      "[0]\tvalidation_0-error:0.11403\n",
      "[1]\tvalidation_0-error:0.11403\n",
      "[2]\tvalidation_0-error:0.11403\n",
      "[3]\tvalidation_0-error:0.11403\n",
      "[4]\tvalidation_0-error:0.11403\n",
      "[5]\tvalidation_0-error:0.11403\n",
      "[6]\tvalidation_0-error:0.11403\n",
      "[7]\tvalidation_0-error:0.11403\n",
      "[8]\tvalidation_0-error:0.11403\n",
      "[9]\tvalidation_0-error:0.11403\n",
      "[0]\tvalidation_0-error:0.05263\n",
      "[1]\tvalidation_0-error:0.05263\n",
      "[2]\tvalidation_0-error:0.05263\n",
      "[3]\tvalidation_0-error:0.05263\n",
      "[4]\tvalidation_0-error:0.05263\n",
      "[5]\tvalidation_0-error:0.05263\n",
      "[6]\tvalidation_0-error:0.05263\n",
      "[7]\tvalidation_0-error:0.05263\n",
      "[8]\tvalidation_0-error:0.05263\n",
      "[9]\tvalidation_0-error:0.05263\n",
      "[0]\tvalidation_0-error:0.07018\n",
      "[1]\tvalidation_0-error:0.07018\n",
      "[2]\tvalidation_0-error:0.07018\n",
      "[3]\tvalidation_0-error:0.07018\n",
      "[4]\tvalidation_0-error:0.07018\n",
      "[5]\tvalidation_0-error:0.07018\n",
      "[6]\tvalidation_0-error:0.07018\n",
      "[7]\tvalidation_0-error:0.07018\n",
      "[8]\tvalidation_0-error:0.07018\n",
      "[9]\tvalidation_0-error:0.07018\n",
      "[0]\tvalidation_0-error:0.08772\n",
      "[1]\tvalidation_0-error:0.08772\n",
      "[2]\tvalidation_0-error:0.08772\n",
      "[3]\tvalidation_0-error:0.08772\n",
      "[4]\tvalidation_0-error:0.08772\n",
      "[5]\tvalidation_0-error:0.08772\n",
      "[6]\tvalidation_0-error:0.08772\n",
      "[7]\tvalidation_0-error:0.08772\n",
      "[8]\tvalidation_0-error:0.08772\n",
      "[9]\tvalidation_0-error:0.08772\n",
      "[0]\tvalidation_0-error:0.07018\n",
      "[1]\tvalidation_0-error:0.07018\n",
      "[2]\tvalidation_0-error:0.07018\n",
      "[3]\tvalidation_0-error:0.07018\n",
      "[4]\tvalidation_0-error:0.07018\n",
      "[5]\tvalidation_0-error:0.07018\n",
      "[6]\tvalidation_0-error:0.07018\n",
      "[7]\tvalidation_0-error:0.07018\n",
      "[8]\tvalidation_0-error:0.07018\n",
      "[9]\tvalidation_0-error:0.07018\n",
      "[0]\tvalidation_0-error:0.11403\n",
      "[1]\tvalidation_0-error:0.11403\n",
      "[2]\tvalidation_0-error:0.11403\n",
      "[3]\tvalidation_0-error:0.11403\n",
      "[4]\tvalidation_0-error:0.11403\n",
      "[5]\tvalidation_0-error:0.11403\n",
      "[6]\tvalidation_0-error:0.11403\n",
      "[7]\tvalidation_0-error:0.11403\n",
      "[8]\tvalidation_0-error:0.11403\n",
      "[9]\tvalidation_0-error:0.11403\n",
      "[0]\tvalidation_0-error:0.05263\n",
      "[1]\tvalidation_0-error:0.05263\n",
      "[2]\tvalidation_0-error:0.05263\n",
      "[3]\tvalidation_0-error:0.05263\n",
      "[4]\tvalidation_0-error:0.05263\n",
      "[5]\tvalidation_0-error:0.05263\n",
      "[6]\tvalidation_0-error:0.04386\n",
      "[7]\tvalidation_0-error:0.03509\n",
      "[8]\tvalidation_0-error:0.03509\n",
      "[9]\tvalidation_0-error:0.02632\n",
      "[0]\tvalidation_0-error:0.07895\n",
      "[1]\tvalidation_0-error:0.07895\n",
      "[2]\tvalidation_0-error:0.07895\n",
      "[3]\tvalidation_0-error:0.07895\n",
      "[4]\tvalidation_0-error:0.07018\n",
      "[5]\tvalidation_0-error:0.07018\n",
      "[6]\tvalidation_0-error:0.07018\n",
      "[7]\tvalidation_0-error:0.07018\n",
      "[8]\tvalidation_0-error:0.05263\n",
      "[9]\tvalidation_0-error:0.05263\n",
      "[0]\tvalidation_0-error:0.08772\n",
      "[1]\tvalidation_0-error:0.08772\n",
      "[2]\tvalidation_0-error:0.07895\n",
      "[3]\tvalidation_0-error:0.08772\n",
      "[4]\tvalidation_0-error:0.07018\n",
      "[5]\tvalidation_0-error:0.08772\n",
      "[6]\tvalidation_0-error:0.07895\n",
      "[7]\tvalidation_0-error:0.06140\n",
      "[8]\tvalidation_0-error:0.07895\n",
      "[9]\tvalidation_0-error:0.07895\n",
      "[0]\tvalidation_0-error:0.07018\n",
      "[1]\tvalidation_0-error:0.06140\n",
      "[2]\tvalidation_0-error:0.06140\n",
      "[3]\tvalidation_0-error:0.07018\n",
      "[4]\tvalidation_0-error:0.05263\n",
      "[5]\tvalidation_0-error:0.05263\n",
      "[6]\tvalidation_0-error:0.05263\n",
      "[7]\tvalidation_0-error:0.05263\n",
      "[8]\tvalidation_0-error:0.07018\n",
      "[9]\tvalidation_0-error:0.06140\n",
      "[0]\tvalidation_0-error:0.09649\n",
      "[1]\tvalidation_0-error:0.09649\n",
      "[2]\tvalidation_0-error:0.09649\n",
      "[3]\tvalidation_0-error:0.07018\n",
      "[4]\tvalidation_0-error:0.05263\n",
      "[5]\tvalidation_0-error:0.06140\n",
      "[6]\tvalidation_0-error:0.05263\n",
      "[7]\tvalidation_0-error:0.05263\n",
      "[8]\tvalidation_0-error:0.05263\n",
      "[9]\tvalidation_0-error:0.05263\n",
      "[0]\tvalidation_0-error:0.05263\n",
      "[1]\tvalidation_0-error:0.05263\n",
      "[2]\tvalidation_0-error:0.05263\n",
      "[3]\tvalidation_0-error:0.05263\n",
      "[4]\tvalidation_0-error:0.05263\n",
      "[5]\tvalidation_0-error:0.04386\n",
      "[6]\tvalidation_0-error:0.05263\n",
      "[7]\tvalidation_0-error:0.04386\n",
      "[8]\tvalidation_0-error:0.03509\n",
      "[9]\tvalidation_0-error:0.03509\n",
      "[0]\tvalidation_0-error:0.07018\n",
      "[1]\tvalidation_0-error:0.07018\n",
      "[2]\tvalidation_0-error:0.07018\n",
      "[3]\tvalidation_0-error:0.07018\n",
      "[4]\tvalidation_0-error:0.07018\n",
      "[5]\tvalidation_0-error:0.07895\n",
      "[6]\tvalidation_0-error:0.07018\n",
      "[7]\tvalidation_0-error:0.07018\n",
      "[8]\tvalidation_0-error:0.05263\n",
      "[9]\tvalidation_0-error:0.05263\n",
      "[0]\tvalidation_0-error:0.08772\n",
      "[1]\tvalidation_0-error:0.08772\n",
      "[2]\tvalidation_0-error:0.07018\n",
      "[3]\tvalidation_0-error:0.07895\n",
      "[4]\tvalidation_0-error:0.06140\n",
      "[5]\tvalidation_0-error:0.07895\n",
      "[6]\tvalidation_0-error:0.07895\n",
      "[7]\tvalidation_0-error:0.07895\n",
      "[8]\tvalidation_0-error:0.07895\n",
      "[9]\tvalidation_0-error:0.07895\n",
      "[0]\tvalidation_0-error:0.07018\n",
      "[1]\tvalidation_0-error:0.07018\n",
      "[2]\tvalidation_0-error:0.07018\n",
      "[3]\tvalidation_0-error:0.06140\n",
      "[4]\tvalidation_0-error:0.07018\n",
      "[5]\tvalidation_0-error:0.07018\n",
      "[6]\tvalidation_0-error:0.06140\n",
      "[7]\tvalidation_0-error:0.06140\n",
      "[8]\tvalidation_0-error:0.05263\n",
      "[9]\tvalidation_0-error:0.05263\n",
      "[0]\tvalidation_0-error:0.11403\n",
      "[1]\tvalidation_0-error:0.11403\n",
      "[2]\tvalidation_0-error:0.11403\n",
      "[3]\tvalidation_0-error:0.09649\n",
      "[4]\tvalidation_0-error:0.08772\n",
      "[5]\tvalidation_0-error:0.08772\n",
      "[6]\tvalidation_0-error:0.07018\n",
      "[7]\tvalidation_0-error:0.06140\n",
      "[8]\tvalidation_0-error:0.07018\n",
      "[9]\tvalidation_0-error:0.05263\n",
      "[0]\tvalidation_0-error:0.05263\n",
      "[1]\tvalidation_0-error:0.05263\n",
      "[2]\tvalidation_0-error:0.05263\n",
      "[3]\tvalidation_0-error:0.05263\n",
      "[4]\tvalidation_0-error:0.05263\n",
      "[5]\tvalidation_0-error:0.03509\n",
      "[6]\tvalidation_0-error:0.04386\n",
      "[7]\tvalidation_0-error:0.03509\n",
      "[8]\tvalidation_0-error:0.03509\n",
      "[9]\tvalidation_0-error:0.03509\n",
      "[0]\tvalidation_0-error:0.07018\n",
      "[1]\tvalidation_0-error:0.07018\n",
      "[2]\tvalidation_0-error:0.07018\n",
      "[3]\tvalidation_0-error:0.07018\n",
      "[4]\tvalidation_0-error:0.07018\n",
      "[5]\tvalidation_0-error:0.07895\n",
      "[6]\tvalidation_0-error:0.07018\n",
      "[7]\tvalidation_0-error:0.07018\n",
      "[8]\tvalidation_0-error:0.07018\n",
      "[9]\tvalidation_0-error:0.05263\n",
      "[0]\tvalidation_0-error:0.08772\n",
      "[1]\tvalidation_0-error:0.08772\n",
      "[2]\tvalidation_0-error:0.07018\n",
      "[3]\tvalidation_0-error:0.07895\n",
      "[4]\tvalidation_0-error:0.06140\n",
      "[5]\tvalidation_0-error:0.07895\n",
      "[6]\tvalidation_0-error:0.07895\n",
      "[7]\tvalidation_0-error:0.07895\n",
      "[8]\tvalidation_0-error:0.07895\n",
      "[9]\tvalidation_0-error:0.07895\n",
      "[0]\tvalidation_0-error:0.07018\n",
      "[1]\tvalidation_0-error:0.07018\n",
      "[2]\tvalidation_0-error:0.07018\n",
      "[3]\tvalidation_0-error:0.06140\n",
      "[4]\tvalidation_0-error:0.07018\n",
      "[5]\tvalidation_0-error:0.07018\n",
      "[6]\tvalidation_0-error:0.06140\n",
      "[7]\tvalidation_0-error:0.06140\n",
      "[8]\tvalidation_0-error:0.05263\n",
      "[9]\tvalidation_0-error:0.05263\n",
      "[0]\tvalidation_0-error:0.11403\n",
      "[1]\tvalidation_0-error:0.11403\n",
      "[2]\tvalidation_0-error:0.11403\n",
      "[3]\tvalidation_0-error:0.09649\n",
      "[4]\tvalidation_0-error:0.08772\n",
      "[5]\tvalidation_0-error:0.08772\n",
      "[6]\tvalidation_0-error:0.07018\n",
      "[7]\tvalidation_0-error:0.06140\n",
      "[8]\tvalidation_0-error:0.07018\n",
      "[9]\tvalidation_0-error:0.05263\n",
      "[0]\tvalidation_0-error:0.05263\n",
      "[1]\tvalidation_0-error:0.05263\n",
      "[2]\tvalidation_0-error:0.05263\n",
      "[3]\tvalidation_0-error:0.05263\n",
      "[4]\tvalidation_0-error:0.05263\n",
      "[5]\tvalidation_0-error:0.03509\n",
      "[6]\tvalidation_0-error:0.04386\n",
      "[7]\tvalidation_0-error:0.03509\n",
      "[8]\tvalidation_0-error:0.03509\n",
      "[9]\tvalidation_0-error:0.03509\n",
      "[0]\tvalidation_0-error:0.07018\n",
      "[1]\tvalidation_0-error:0.07018\n",
      "[2]\tvalidation_0-error:0.07018\n",
      "[3]\tvalidation_0-error:0.07018\n",
      "[4]\tvalidation_0-error:0.07018\n",
      "[5]\tvalidation_0-error:0.07895\n",
      "[6]\tvalidation_0-error:0.07018\n",
      "[7]\tvalidation_0-error:0.07018\n",
      "[8]\tvalidation_0-error:0.07018\n",
      "[9]\tvalidation_0-error:0.05263\n",
      "[0]\tvalidation_0-error:0.08772\n",
      "[1]\tvalidation_0-error:0.08772\n",
      "[2]\tvalidation_0-error:0.07018\n",
      "[3]\tvalidation_0-error:0.07895\n",
      "[4]\tvalidation_0-error:0.06140\n",
      "[5]\tvalidation_0-error:0.07895\n",
      "[6]\tvalidation_0-error:0.07895\n",
      "[7]\tvalidation_0-error:0.07895\n",
      "[8]\tvalidation_0-error:0.07895\n",
      "[9]\tvalidation_0-error:0.07895\n",
      "[0]\tvalidation_0-error:0.07018\n",
      "[1]\tvalidation_0-error:0.07018\n",
      "[2]\tvalidation_0-error:0.07018\n",
      "[3]\tvalidation_0-error:0.06140\n",
      "[4]\tvalidation_0-error:0.07018\n",
      "[5]\tvalidation_0-error:0.07018\n",
      "[6]\tvalidation_0-error:0.06140\n",
      "[7]\tvalidation_0-error:0.06140\n",
      "[8]\tvalidation_0-error:0.05263\n",
      "[9]\tvalidation_0-error:0.05263\n",
      "[0]\tvalidation_0-error:0.11403\n",
      "[1]\tvalidation_0-error:0.11403\n",
      "[2]\tvalidation_0-error:0.11403\n",
      "[3]\tvalidation_0-error:0.09649\n",
      "[4]\tvalidation_0-error:0.08772\n"
     ]
    },
    {
     "name": "stdout",
     "output_type": "stream",
     "text": [
      "[5]\tvalidation_0-error:0.08772\n",
      "[6]\tvalidation_0-error:0.07018\n",
      "[7]\tvalidation_0-error:0.06140\n",
      "[8]\tvalidation_0-error:0.07018\n",
      "[9]\tvalidation_0-error:0.05263\n",
      "[0]\tvalidation_0-error:0.05263\n",
      "[1]\tvalidation_0-error:0.05263\n",
      "[2]\tvalidation_0-error:0.05263\n",
      "[3]\tvalidation_0-error:0.04386\n",
      "[4]\tvalidation_0-error:0.02632\n",
      "[5]\tvalidation_0-error:0.02632\n",
      "[6]\tvalidation_0-error:0.03509\n",
      "[7]\tvalidation_0-error:0.03509\n",
      "[8]\tvalidation_0-error:0.02632\n",
      "[9]\tvalidation_0-error:0.05263\n",
      "[0]\tvalidation_0-error:0.07895\n",
      "[1]\tvalidation_0-error:0.07895\n",
      "[2]\tvalidation_0-error:0.07018\n",
      "[3]\tvalidation_0-error:0.07018\n",
      "[4]\tvalidation_0-error:0.05263\n",
      "[5]\tvalidation_0-error:0.07018\n",
      "[6]\tvalidation_0-error:0.05263\n",
      "[7]\tvalidation_0-error:0.05263\n",
      "[8]\tvalidation_0-error:0.05263\n",
      "[9]\tvalidation_0-error:0.05263\n",
      "[0]\tvalidation_0-error:0.08772\n",
      "[1]\tvalidation_0-error:0.07018\n",
      "[2]\tvalidation_0-error:0.07895\n",
      "[3]\tvalidation_0-error:0.06140\n",
      "[4]\tvalidation_0-error:0.07018\n",
      "[5]\tvalidation_0-error:0.06140\n",
      "[6]\tvalidation_0-error:0.06140\n",
      "[7]\tvalidation_0-error:0.05263\n",
      "[8]\tvalidation_0-error:0.05263\n",
      "[9]\tvalidation_0-error:0.04386\n",
      "[0]\tvalidation_0-error:0.07018\n",
      "[1]\tvalidation_0-error:0.06140\n",
      "[2]\tvalidation_0-error:0.07018\n",
      "[3]\tvalidation_0-error:0.05263\n",
      "[4]\tvalidation_0-error:0.06140\n",
      "[5]\tvalidation_0-error:0.06140\n",
      "[6]\tvalidation_0-error:0.07018\n",
      "[7]\tvalidation_0-error:0.05263\n",
      "[8]\tvalidation_0-error:0.06140\n",
      "[9]\tvalidation_0-error:0.05263\n",
      "[0]\tvalidation_0-error:0.09649\n",
      "[1]\tvalidation_0-error:0.08772\n",
      "[2]\tvalidation_0-error:0.06140\n",
      "[3]\tvalidation_0-error:0.06140\n",
      "[4]\tvalidation_0-error:0.05263\n",
      "[5]\tvalidation_0-error:0.05263\n",
      "[6]\tvalidation_0-error:0.05263\n",
      "[7]\tvalidation_0-error:0.05263\n",
      "[8]\tvalidation_0-error:0.05263\n",
      "[9]\tvalidation_0-error:0.06140\n",
      "[0]\tvalidation_0-error:0.05263\n",
      "[1]\tvalidation_0-error:0.05263\n",
      "[2]\tvalidation_0-error:0.05263\n",
      "[3]\tvalidation_0-error:0.03509\n",
      "[4]\tvalidation_0-error:0.03509\n",
      "[5]\tvalidation_0-error:0.02632\n",
      "[6]\tvalidation_0-error:0.03509\n",
      "[7]\tvalidation_0-error:0.03509\n",
      "[8]\tvalidation_0-error:0.03509\n",
      "[9]\tvalidation_0-error:0.02632\n",
      "[0]\tvalidation_0-error:0.07018\n",
      "[1]\tvalidation_0-error:0.07018\n",
      "[2]\tvalidation_0-error:0.07018\n",
      "[3]\tvalidation_0-error:0.07018\n",
      "[4]\tvalidation_0-error:0.06140\n",
      "[5]\tvalidation_0-error:0.05263\n",
      "[6]\tvalidation_0-error:0.05263\n",
      "[7]\tvalidation_0-error:0.05263\n",
      "[8]\tvalidation_0-error:0.05263\n",
      "[9]\tvalidation_0-error:0.05263\n",
      "[0]\tvalidation_0-error:0.08772\n",
      "[1]\tvalidation_0-error:0.07018\n",
      "[2]\tvalidation_0-error:0.07018\n",
      "[3]\tvalidation_0-error:0.07895\n",
      "[4]\tvalidation_0-error:0.07895\n",
      "[5]\tvalidation_0-error:0.07018\n",
      "[6]\tvalidation_0-error:0.07018\n",
      "[7]\tvalidation_0-error:0.07018\n",
      "[8]\tvalidation_0-error:0.07895\n",
      "[9]\tvalidation_0-error:0.07018\n",
      "[0]\tvalidation_0-error:0.07018\n",
      "[1]\tvalidation_0-error:0.07018\n",
      "[2]\tvalidation_0-error:0.06140\n",
      "[3]\tvalidation_0-error:0.05263\n",
      "[4]\tvalidation_0-error:0.05263\n",
      "[5]\tvalidation_0-error:0.05263\n",
      "[6]\tvalidation_0-error:0.05263\n",
      "[7]\tvalidation_0-error:0.05263\n",
      "[8]\tvalidation_0-error:0.05263\n",
      "[9]\tvalidation_0-error:0.05263\n",
      "[0]\tvalidation_0-error:0.11403\n",
      "[1]\tvalidation_0-error:0.10526\n",
      "[2]\tvalidation_0-error:0.09649\n",
      "[3]\tvalidation_0-error:0.07895\n",
      "[4]\tvalidation_0-error:0.06140\n",
      "[5]\tvalidation_0-error:0.06140\n",
      "[6]\tvalidation_0-error:0.06140\n",
      "[7]\tvalidation_0-error:0.06140\n",
      "[8]\tvalidation_0-error:0.06140\n",
      "[9]\tvalidation_0-error:0.06140\n",
      "[0]\tvalidation_0-error:0.05263\n",
      "[1]\tvalidation_0-error:0.05263\n",
      "[2]\tvalidation_0-error:0.05263\n",
      "[3]\tvalidation_0-error:0.03509\n",
      "[4]\tvalidation_0-error:0.03509\n",
      "[5]\tvalidation_0-error:0.02632\n",
      "[6]\tvalidation_0-error:0.02632\n",
      "[7]\tvalidation_0-error:0.02632\n",
      "[8]\tvalidation_0-error:0.02632\n",
      "[9]\tvalidation_0-error:0.02632\n",
      "[0]\tvalidation_0-error:0.07018\n",
      "[1]\tvalidation_0-error:0.07018\n",
      "[2]\tvalidation_0-error:0.07018\n",
      "[3]\tvalidation_0-error:0.07018\n",
      "[4]\tvalidation_0-error:0.06140\n",
      "[5]\tvalidation_0-error:0.05263\n",
      "[6]\tvalidation_0-error:0.05263\n",
      "[7]\tvalidation_0-error:0.05263\n",
      "[8]\tvalidation_0-error:0.05263\n",
      "[9]\tvalidation_0-error:0.05263\n",
      "[0]\tvalidation_0-error:0.08772\n",
      "[1]\tvalidation_0-error:0.07018\n",
      "[2]\tvalidation_0-error:0.07018\n",
      "[3]\tvalidation_0-error:0.07895\n",
      "[4]\tvalidation_0-error:0.07895\n",
      "[5]\tvalidation_0-error:0.07018\n",
      "[6]\tvalidation_0-error:0.07018\n",
      "[7]\tvalidation_0-error:0.07018\n",
      "[8]\tvalidation_0-error:0.07895\n",
      "[9]\tvalidation_0-error:0.07018\n",
      "[0]\tvalidation_0-error:0.07018\n",
      "[1]\tvalidation_0-error:0.07018\n",
      "[2]\tvalidation_0-error:0.06140\n",
      "[3]\tvalidation_0-error:0.05263\n",
      "[4]\tvalidation_0-error:0.05263\n",
      "[5]\tvalidation_0-error:0.05263\n",
      "[6]\tvalidation_0-error:0.05263\n",
      "[7]\tvalidation_0-error:0.05263\n",
      "[8]\tvalidation_0-error:0.05263\n",
      "[9]\tvalidation_0-error:0.05263\n",
      "[0]\tvalidation_0-error:0.11403\n",
      "[1]\tvalidation_0-error:0.10526\n",
      "[2]\tvalidation_0-error:0.09649\n",
      "[3]\tvalidation_0-error:0.07895\n",
      "[4]\tvalidation_0-error:0.06140\n",
      "[5]\tvalidation_0-error:0.06140\n",
      "[6]\tvalidation_0-error:0.06140\n",
      "[7]\tvalidation_0-error:0.06140\n",
      "[8]\tvalidation_0-error:0.06140\n",
      "[9]\tvalidation_0-error:0.06140\n",
      "[0]\tvalidation_0-error:0.05263\n",
      "[1]\tvalidation_0-error:0.05263\n",
      "[2]\tvalidation_0-error:0.05263\n",
      "[3]\tvalidation_0-error:0.03509\n",
      "[4]\tvalidation_0-error:0.03509\n",
      "[5]\tvalidation_0-error:0.02632\n",
      "[6]\tvalidation_0-error:0.02632\n",
      "[7]\tvalidation_0-error:0.02632\n",
      "[8]\tvalidation_0-error:0.02632\n",
      "[9]\tvalidation_0-error:0.02632\n",
      "[0]\tvalidation_0-error:0.07018\n",
      "[1]\tvalidation_0-error:0.07018\n",
      "[2]\tvalidation_0-error:0.07018\n",
      "[3]\tvalidation_0-error:0.07018\n",
      "[4]\tvalidation_0-error:0.06140\n",
      "[5]\tvalidation_0-error:0.05263\n",
      "[6]\tvalidation_0-error:0.05263\n",
      "[7]\tvalidation_0-error:0.05263\n",
      "[8]\tvalidation_0-error:0.05263\n",
      "[9]\tvalidation_0-error:0.05263\n",
      "[0]\tvalidation_0-error:0.08772\n",
      "[1]\tvalidation_0-error:0.07018\n",
      "[2]\tvalidation_0-error:0.07018\n",
      "[3]\tvalidation_0-error:0.07895\n",
      "[4]\tvalidation_0-error:0.07895\n",
      "[5]\tvalidation_0-error:0.07018\n",
      "[6]\tvalidation_0-error:0.07018\n",
      "[7]\tvalidation_0-error:0.07018\n",
      "[8]\tvalidation_0-error:0.07895\n",
      "[9]\tvalidation_0-error:0.07018\n",
      "[0]\tvalidation_0-error:0.07018\n",
      "[1]\tvalidation_0-error:0.07018\n",
      "[2]\tvalidation_0-error:0.06140\n",
      "[3]\tvalidation_0-error:0.05263\n",
      "[4]\tvalidation_0-error:0.05263\n",
      "[5]\tvalidation_0-error:0.05263\n",
      "[6]\tvalidation_0-error:0.05263\n",
      "[7]\tvalidation_0-error:0.05263\n",
      "[8]\tvalidation_0-error:0.05263\n",
      "[9]\tvalidation_0-error:0.05263\n",
      "[0]\tvalidation_0-error:0.11403\n",
      "[1]\tvalidation_0-error:0.10526\n",
      "[2]\tvalidation_0-error:0.09649\n",
      "[3]\tvalidation_0-error:0.07895\n",
      "[4]\tvalidation_0-error:0.06140\n",
      "[5]\tvalidation_0-error:0.06140\n",
      "[6]\tvalidation_0-error:0.06140\n",
      "[7]\tvalidation_0-error:0.06140\n",
      "[8]\tvalidation_0-error:0.06140\n",
      "[9]\tvalidation_0-error:0.06140\n",
      "[0]\tvalidation_0-error:0.05263\n",
      "[1]\tvalidation_0-error:0.05263\n",
      "[2]\tvalidation_0-error:0.03509\n",
      "[3]\tvalidation_0-error:0.02632\n",
      "[4]\tvalidation_0-error:0.02632\n",
      "[5]\tvalidation_0-error:0.02632\n",
      "[6]\tvalidation_0-error:0.03509\n",
      "[7]\tvalidation_0-error:0.03509\n",
      "[8]\tvalidation_0-error:0.03509\n",
      "[9]\tvalidation_0-error:0.03509\n",
      "[0]\tvalidation_0-error:0.07895\n",
      "[1]\tvalidation_0-error:0.07895\n",
      "[2]\tvalidation_0-error:0.07895\n",
      "[3]\tvalidation_0-error:0.07018\n",
      "[4]\tvalidation_0-error:0.05263\n",
      "[5]\tvalidation_0-error:0.05263\n",
      "[6]\tvalidation_0-error:0.05263\n",
      "[7]\tvalidation_0-error:0.05263\n",
      "[8]\tvalidation_0-error:0.05263\n",
      "[9]\tvalidation_0-error:0.05263\n",
      "[0]\tvalidation_0-error:0.08772\n",
      "[1]\tvalidation_0-error:0.07018\n",
      "[2]\tvalidation_0-error:0.06140\n",
      "[3]\tvalidation_0-error:0.05263\n",
      "[4]\tvalidation_0-error:0.08772\n",
      "[5]\tvalidation_0-error:0.06140\n",
      "[6]\tvalidation_0-error:0.07018\n",
      "[7]\tvalidation_0-error:0.05263\n",
      "[8]\tvalidation_0-error:0.05263\n",
      "[9]\tvalidation_0-error:0.04386\n",
      "[0]\tvalidation_0-error:0.07018\n",
      "[1]\tvalidation_0-error:0.06140\n",
      "[2]\tvalidation_0-error:0.05263\n",
      "[3]\tvalidation_0-error:0.06140\n",
      "[4]\tvalidation_0-error:0.05263\n",
      "[5]\tvalidation_0-error:0.06140\n",
      "[6]\tvalidation_0-error:0.06140\n",
      "[7]\tvalidation_0-error:0.05263\n",
      "[8]\tvalidation_0-error:0.05263\n",
      "[9]\tvalidation_0-error:0.04386\n",
      "[0]\tvalidation_0-error:0.09649\n",
      "[1]\tvalidation_0-error:0.07018\n",
      "[2]\tvalidation_0-error:0.06140\n",
      "[3]\tvalidation_0-error:0.05263\n",
      "[4]\tvalidation_0-error:0.06140\n",
      "[5]\tvalidation_0-error:0.06140\n",
      "[6]\tvalidation_0-error:0.06140\n",
      "[7]\tvalidation_0-error:0.06140\n",
      "[8]\tvalidation_0-error:0.06140\n",
      "[9]\tvalidation_0-error:0.06140\n",
      "[0]\tvalidation_0-error:0.05263\n",
      "[1]\tvalidation_0-error:0.05263\n",
      "[2]\tvalidation_0-error:0.03509\n",
      "[3]\tvalidation_0-error:0.02632\n",
      "[4]\tvalidation_0-error:0.03509\n",
      "[5]\tvalidation_0-error:0.02632\n",
      "[6]\tvalidation_0-error:0.02632\n",
      "[7]\tvalidation_0-error:0.03509\n",
      "[8]\tvalidation_0-error:0.03509\n",
      "[9]\tvalidation_0-error:0.04386\n"
     ]
    },
    {
     "name": "stdout",
     "output_type": "stream",
     "text": [
      "[0]\tvalidation_0-error:0.07018\n",
      "[1]\tvalidation_0-error:0.07018\n",
      "[2]\tvalidation_0-error:0.07018\n",
      "[3]\tvalidation_0-error:0.05263\n",
      "[4]\tvalidation_0-error:0.05263\n",
      "[5]\tvalidation_0-error:0.05263\n",
      "[6]\tvalidation_0-error:0.05263\n",
      "[7]\tvalidation_0-error:0.05263\n",
      "[8]\tvalidation_0-error:0.05263\n",
      "[9]\tvalidation_0-error:0.05263\n",
      "[0]\tvalidation_0-error:0.08772\n",
      "[1]\tvalidation_0-error:0.07018\n",
      "[2]\tvalidation_0-error:0.07895\n",
      "[3]\tvalidation_0-error:0.07895\n",
      "[4]\tvalidation_0-error:0.07018\n",
      "[5]\tvalidation_0-error:0.07018\n",
      "[6]\tvalidation_0-error:0.06140\n",
      "[7]\tvalidation_0-error:0.05263\n",
      "[8]\tvalidation_0-error:0.05263\n",
      "[9]\tvalidation_0-error:0.05263\n",
      "[0]\tvalidation_0-error:0.07018\n",
      "[1]\tvalidation_0-error:0.06140\n",
      "[2]\tvalidation_0-error:0.06140\n",
      "[3]\tvalidation_0-error:0.06140\n",
      "[4]\tvalidation_0-error:0.06140\n",
      "[5]\tvalidation_0-error:0.06140\n",
      "[6]\tvalidation_0-error:0.06140\n",
      "[7]\tvalidation_0-error:0.07018\n",
      "[8]\tvalidation_0-error:0.07018\n",
      "[9]\tvalidation_0-error:0.07018\n",
      "[0]\tvalidation_0-error:0.11403\n",
      "[1]\tvalidation_0-error:0.08772\n",
      "[2]\tvalidation_0-error:0.07018\n",
      "[3]\tvalidation_0-error:0.06140\n",
      "[4]\tvalidation_0-error:0.07018\n",
      "[5]\tvalidation_0-error:0.06140\n",
      "[6]\tvalidation_0-error:0.07018\n",
      "[7]\tvalidation_0-error:0.07018\n",
      "[8]\tvalidation_0-error:0.05263\n",
      "[9]\tvalidation_0-error:0.06140\n",
      "[0]\tvalidation_0-error:0.05263\n",
      "[1]\tvalidation_0-error:0.05263\n",
      "[2]\tvalidation_0-error:0.03509\n",
      "[3]\tvalidation_0-error:0.02632\n",
      "[4]\tvalidation_0-error:0.03509\n",
      "[5]\tvalidation_0-error:0.02632\n",
      "[6]\tvalidation_0-error:0.02632\n",
      "[7]\tvalidation_0-error:0.03509\n",
      "[8]\tvalidation_0-error:0.03509\n",
      "[9]\tvalidation_0-error:0.04386\n",
      "[0]\tvalidation_0-error:0.07018\n",
      "[1]\tvalidation_0-error:0.07018\n",
      "[2]\tvalidation_0-error:0.07018\n",
      "[3]\tvalidation_0-error:0.05263\n",
      "[4]\tvalidation_0-error:0.05263\n",
      "[5]\tvalidation_0-error:0.05263\n",
      "[6]\tvalidation_0-error:0.05263\n",
      "[7]\tvalidation_0-error:0.05263\n",
      "[8]\tvalidation_0-error:0.05263\n",
      "[9]\tvalidation_0-error:0.05263\n",
      "[0]\tvalidation_0-error:0.08772\n",
      "[1]\tvalidation_0-error:0.07018\n",
      "[2]\tvalidation_0-error:0.07895\n",
      "[3]\tvalidation_0-error:0.07895\n",
      "[4]\tvalidation_0-error:0.07018\n",
      "[5]\tvalidation_0-error:0.07018\n",
      "[6]\tvalidation_0-error:0.06140\n",
      "[7]\tvalidation_0-error:0.05263\n",
      "[8]\tvalidation_0-error:0.05263\n",
      "[9]\tvalidation_0-error:0.05263\n",
      "[0]\tvalidation_0-error:0.07018\n",
      "[1]\tvalidation_0-error:0.06140\n",
      "[2]\tvalidation_0-error:0.06140\n",
      "[3]\tvalidation_0-error:0.06140\n",
      "[4]\tvalidation_0-error:0.06140\n",
      "[5]\tvalidation_0-error:0.06140\n",
      "[6]\tvalidation_0-error:0.06140\n",
      "[7]\tvalidation_0-error:0.07018\n",
      "[8]\tvalidation_0-error:0.07018\n",
      "[9]\tvalidation_0-error:0.07018\n",
      "[0]\tvalidation_0-error:0.11403\n",
      "[1]\tvalidation_0-error:0.08772\n",
      "[2]\tvalidation_0-error:0.07018\n",
      "[3]\tvalidation_0-error:0.06140\n",
      "[4]\tvalidation_0-error:0.07018\n",
      "[5]\tvalidation_0-error:0.06140\n",
      "[6]\tvalidation_0-error:0.07018\n",
      "[7]\tvalidation_0-error:0.07018\n",
      "[8]\tvalidation_0-error:0.05263\n",
      "[9]\tvalidation_0-error:0.06140\n",
      "[0]\tvalidation_0-error:0.05263\n",
      "[1]\tvalidation_0-error:0.05263\n",
      "[2]\tvalidation_0-error:0.03509\n",
      "[3]\tvalidation_0-error:0.02632\n",
      "[4]\tvalidation_0-error:0.03509\n",
      "[5]\tvalidation_0-error:0.02632\n",
      "[6]\tvalidation_0-error:0.02632\n",
      "[7]\tvalidation_0-error:0.03509\n",
      "[8]\tvalidation_0-error:0.03509\n",
      "[9]\tvalidation_0-error:0.04386\n",
      "[0]\tvalidation_0-error:0.07018\n",
      "[1]\tvalidation_0-error:0.07018\n",
      "[2]\tvalidation_0-error:0.07018\n",
      "[3]\tvalidation_0-error:0.05263\n",
      "[4]\tvalidation_0-error:0.05263\n",
      "[5]\tvalidation_0-error:0.05263\n",
      "[6]\tvalidation_0-error:0.05263\n",
      "[7]\tvalidation_0-error:0.05263\n",
      "[8]\tvalidation_0-error:0.05263\n",
      "[9]\tvalidation_0-error:0.05263\n",
      "[0]\tvalidation_0-error:0.08772\n",
      "[1]\tvalidation_0-error:0.07018\n",
      "[2]\tvalidation_0-error:0.07895\n",
      "[3]\tvalidation_0-error:0.07895\n",
      "[4]\tvalidation_0-error:0.07018\n",
      "[5]\tvalidation_0-error:0.07018\n",
      "[6]\tvalidation_0-error:0.06140\n",
      "[7]\tvalidation_0-error:0.05263\n",
      "[8]\tvalidation_0-error:0.05263\n",
      "[9]\tvalidation_0-error:0.05263\n",
      "[0]\tvalidation_0-error:0.07018\n",
      "[1]\tvalidation_0-error:0.06140\n",
      "[2]\tvalidation_0-error:0.06140\n",
      "[3]\tvalidation_0-error:0.06140\n",
      "[4]\tvalidation_0-error:0.06140\n",
      "[5]\tvalidation_0-error:0.06140\n",
      "[6]\tvalidation_0-error:0.06140\n",
      "[7]\tvalidation_0-error:0.07018\n",
      "[8]\tvalidation_0-error:0.07018\n",
      "[9]\tvalidation_0-error:0.07018\n",
      "[0]\tvalidation_0-error:0.11403\n",
      "[1]\tvalidation_0-error:0.08772\n",
      "[2]\tvalidation_0-error:0.07018\n",
      "[3]\tvalidation_0-error:0.06140\n",
      "[4]\tvalidation_0-error:0.07018\n",
      "[5]\tvalidation_0-error:0.06140\n",
      "[6]\tvalidation_0-error:0.07018\n",
      "[7]\tvalidation_0-error:0.07018\n",
      "[8]\tvalidation_0-error:0.05263\n",
      "[9]\tvalidation_0-error:0.06140\n",
      "[0]\tvalidation_0-error:0.05263\n",
      "[1]\tvalidation_0-error:0.05263\n",
      "[2]\tvalidation_0-error:0.05263\n",
      "[3]\tvalidation_0-error:0.05263\n",
      "[4]\tvalidation_0-error:0.05263\n",
      "[5]\tvalidation_0-error:0.05263\n",
      "[6]\tvalidation_0-error:0.04386\n",
      "[7]\tvalidation_0-error:0.05263\n",
      "[8]\tvalidation_0-error:0.05263\n",
      "[9]\tvalidation_0-error:0.04386\n",
      "GridSearchCV 최적 파라미터: {'learning_rate': 0.2, 'max_depth': 3}\n"
     ]
    }
   ],
   "source": [
    "model_xgb = XGBClassifier(n_estimators=10)\n",
    "params = {\n",
    "    'max_depth':[3, 5, 7, 9],\n",
    "    'learning_rate':[0.0001, 0.001, 0.01, 0.1, 0.2, 0.3]\n",
    "}\n",
    "model_xgb_gridcv = GridSearchCV(model_xgb, param_grid=params)\n",
    "model_xgb_gridcv.fit(X_train,\n",
    "           y_train,\n",
    "           eval_set=[(X_test, y_test)],\n",
    "           eval_metric=\"error\")\n",
    "print('GridSearchCV 최적 파라미터:', model_xgb_gridcv.best_params_)"
   ]
  },
  {
   "cell_type": "code",
   "execution_count": 64,
   "metadata": {},
   "outputs": [
    {
     "name": "stdout",
     "output_type": "stream",
     "text": [
      "[11:20:34] WARNING: C:/Users/Administrator/workspace/xgboost-win64_release_1.5.1/src/learner.cc:1115: Starting in XGBoost 1.3.0, the default evaluation metric used with the objective 'binary:logistic' was changed from 'error' to 'logloss'. Explicitly set eval_metric if you'd like to restore the old behavior.\n"
     ]
    },
    {
     "data": {
      "text/plain": [
       "0.956140350877193"
      ]
     },
     "execution_count": 64,
     "metadata": {},
     "output_type": "execute_result"
    }
   ],
   "source": [
    "# model_xgb = XGBClassifier(objective='reg:squarederror', n_estimators=10, learning_rate=0.2, max_depth=3)\n",
    "model_xgb = XGBClassifier(n_estimators=10, learning_rate=0.2, max_depth=3)\n",
    "model_xgb.fit(X_train,y_train)\n",
    "model_xgb.score(X_test, y_test)"
   ]
  },
  {
   "cell_type": "code",
   "execution_count": 65,
   "metadata": {},
   "outputs": [
    {
     "data": {
      "text/plain": [
       "worst radius               0.418595\n",
       "worst perimeter            0.269065\n",
       "worst area                 0.116969\n",
       "worst concave points       0.050433\n",
       "mean concave points        0.039087\n",
       "concave points error       0.017297\n",
       "mean compactness           0.014485\n",
       "mean texture               0.013644\n",
       "worst texture              0.013261\n",
       "worst smoothness           0.008630\n",
       "worst compactness          0.008122\n",
       "radius error               0.007495\n",
       "worst symmetry             0.006395\n",
       "worst concavity            0.005731\n",
       "area error                 0.005499\n",
       "perimeter error            0.004113\n",
       "mean smoothness            0.001179\n",
       "fractal dimension error    0.000000\n",
       "mean radius                0.000000\n",
       "compactness error          0.000000\n",
       "symmetry error             0.000000\n",
       "concavity error            0.000000\n",
       "smoothness error           0.000000\n",
       "texture error              0.000000\n",
       "mean fractal dimension     0.000000\n",
       "mean symmetry              0.000000\n",
       "mean concavity             0.000000\n",
       "mean area                  0.000000\n",
       "mean perimeter             0.000000\n",
       "worst fractal dimension    0.000000\n",
       "dtype: float32"
      ]
     },
     "execution_count": 65,
     "metadata": {},
     "output_type": "execute_result"
    }
   ],
   "source": [
    "ftr_importance_values = model_xgb.feature_importances_\n",
    "ftr_importances = pd.Series(ftr_importance_values, index=dataset.feature_names)\n",
    "ftr_importances = ftr_importances.sort_values(ascending=False)\n",
    "ftr_importances"
   ]
  },
  {
   "cell_type": "code",
   "execution_count": 66,
   "metadata": {},
   "outputs": [
    {
     "data": {
      "text/plain": [
       "<AxesSubplot:>"
      ]
     },
     "execution_count": 66,
     "metadata": {},
     "output_type": "execute_result"
    },
    {
     "data": {
      "image/png": "[encoded data removed]",
      "text/plain": [
       "<Figure size 720x432 with 1 Axes>"
      ]
     },
     "metadata": {
      "needs_background": "light"
     },
     "output_type": "display_data"
    }
   ],
   "source": [
    "sns.barplot(x=ftr_importances, y=ftr_importances.index)"
   ]
  },
  {
   "cell_type": "code",
   "execution_count": null,
   "metadata": {},
   "outputs": [],
   "source": []
  },
  {
   "cell_type": "markdown",
   "metadata": {},
   "source": [
    "# 퀴즈 \n",
    "타이타닉 데이타를 XGBClassifier() 를 이용해서 모델을 생성하고 테스트하여라 "
   ]
  },
  {
   "cell_type": "code",
   "execution_count": null,
   "metadata": {},
   "outputs": [],
   "source": []
  },
  {
   "cell_type": "code",
   "execution_count": null,
   "metadata": {},
   "outputs": [],
   "source": []
  },
  {
   "cell_type": "code",
   "execution_count": null,
   "metadata": {},
   "outputs": [],
   "source": []
  },
  {
   "cell_type": "code",
   "execution_count": null,
   "metadata": {},
   "outputs": [],
   "source": []
  },
  {
   "cell_type": "code",
   "execution_count": null,
   "metadata": {},
   "outputs": [],
   "source": []
  },
  {
   "cell_type": "code",
   "execution_count": null,
   "metadata": {},
   "outputs": [],
   "source": []
  },
  {
   "cell_type": "code",
   "execution_count": null,
   "metadata": {},
   "outputs": [],
   "source": []
  },
  {
   "cell_type": "code",
   "execution_count": null,
   "metadata": {},
   "outputs": [],
   "source": []
  }
 ],
 "metadata": {
  "colab": {
   "authorship_tag": "ABX9TyPOJwXVwGQSikHrOscFum3b",
   "collapsed_sections": [],
   "name": "5-3 트리의 앙상블.ipynb",
   "provenance": []
  },
  "kernelspec": {
   "display_name": "Python 3",
   "language": "python",
   "name": "python3"
  },
  "language_info": {
   "codemirror_mode": {
    "name": "ipython",
    "version": 3
   },
   "file_extension": ".py",
   "mimetype": "text/x-python",
   "name": "python",
   "nbconvert_exporter": "python",
   "pygments_lexer": "ipython3",
   "version": "3.8.8"
  }
 },
 "nbformat": 4,
 "nbformat_minor": 1
}
