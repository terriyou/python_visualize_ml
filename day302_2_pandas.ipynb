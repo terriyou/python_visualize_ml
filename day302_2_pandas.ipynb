{
 "cells": [
  {
   "cell_type": "code",
   "execution_count": 1,
   "id": "04676c7e",
   "metadata": {},
   "outputs": [
    {
     "data": {
      "text/html": [
       "<style>.container { font-weight: bold !important; }</style>"
      ],
      "text/plain": [
       "<IPython.core.display.HTML object>"
      ]
     },
     "metadata": {},
     "output_type": "display_data"
    },
    {
     "data": {
      "text/html": [
       "<style>.container { width: 100% !important; }</style>"
      ],
      "text/plain": [
       "<IPython.core.display.HTML object>"
      ]
     },
     "metadata": {},
     "output_type": "display_data"
    }
   ],
   "source": [
    "# 쥬피터노트북 셀 스타일 조절 \n",
    "from IPython.core.display import display, HTML\n",
    "display(HTML(\"<style>.container { font-weight: bold !important; }</style>\"))\n",
    "display(HTML(\"<style>.container { width: 100% !important; }</style>\"))\n",
    "\n",
    "# 경고 메세지 숨기기 \n",
    "import warnings\n",
    "warnings.filterwarnings(action='ignore')"
   ]
  },
  {
   "cell_type": "code",
   "execution_count": 2,
   "id": "c8d876a4",
   "metadata": {},
   "outputs": [],
   "source": [
    "import numpy as np \n",
    "import pandas as pd"
   ]
  },
  {
   "cell_type": "markdown",
   "id": "5f1f8c6b",
   "metadata": {},
   "source": [
    "# 데이타프레임 조회 \n",
    "\n",
    "- 컬럼 조회 \n",
    "- 행 조회 \n",
    "- 컬럼+행 조회 \n",
    "\n",
    "```\n",
    "데이타프레임[컬럼명]\n",
    "데이타프레임[[컬럼명1, 컬럼명2, 컬럼명3 ....]]\n",
    "\n",
    "데이타프레임.컬럼명 \n",
    "\n",
    "loc : location 행이름, 컬럼명 \n",
    "데이타프레임.loc[행이름]\n",
    "데이타프레임.loc[start:end]\n",
    "데이타프레임.loc[start:end, start:end]\n",
    "\n",
    "\n",
    "iloc : index location 행인덱스, 컬럼인덱스\n",
    "데이타프레임.iloc[행인덱스]\n",
    "데이타프레임.iloc[start:end]\n",
    "데이타프레임.iloc[start:end, start:end]\n",
    "\n",
    "행 조회 \n",
    "데이타프레임[행인덱스]\n",
    "데이타프레임[start:end]\n",
    "\n",
    "\n",
    "```"
   ]
  },
  {
   "cell_type": "code",
   "execution_count": 4,
   "id": "609fe7b0",
   "metadata": {},
   "outputs": [
    {
     "data": {
      "text/html": [
       "<div>\n",
       "<style scoped>\n",
       "    .dataframe tbody tr th:only-of-type {\n",
       "        vertical-align: middle;\n",
       "    }\n",
       "\n",
       "    .dataframe tbody tr th {\n",
       "        vertical-align: top;\n",
       "    }\n",
       "\n",
       "    .dataframe thead th {\n",
       "        text-align: right;\n",
       "    }\n",
       "</style>\n",
       "<table border=\"1\" class=\"dataframe\">\n",
       "  <thead>\n",
       "    <tr style=\"text-align: right;\">\n",
       "      <th></th>\n",
       "      <th>name</th>\n",
       "      <th>year</th>\n",
       "      <th>points</th>\n",
       "      <th>penalty</th>\n",
       "    </tr>\n",
       "  </thead>\n",
       "  <tbody>\n",
       "    <tr>\n",
       "      <th>one</th>\n",
       "      <td>Haidi</td>\n",
       "      <td>2014</td>\n",
       "      <td>1.5</td>\n",
       "      <td>1</td>\n",
       "    </tr>\n",
       "    <tr>\n",
       "      <th>two</th>\n",
       "      <td>Haidi</td>\n",
       "      <td>2015</td>\n",
       "      <td>1.7</td>\n",
       "      <td>2</td>\n",
       "    </tr>\n",
       "    <tr>\n",
       "      <th>three</th>\n",
       "      <td>Haidi</td>\n",
       "      <td>2016</td>\n",
       "      <td>3.6</td>\n",
       "      <td>3</td>\n",
       "    </tr>\n",
       "    <tr>\n",
       "      <th>four</th>\n",
       "      <td>Charles</td>\n",
       "      <td>2015</td>\n",
       "      <td>2.5</td>\n",
       "      <td>4</td>\n",
       "    </tr>\n",
       "    <tr>\n",
       "      <th>five</th>\n",
       "      <td>Charles</td>\n",
       "      <td>2017</td>\n",
       "      <td>2.9</td>\n",
       "      <td>5</td>\n",
       "    </tr>\n",
       "  </tbody>\n",
       "</table>\n",
       "</div>"
      ],
      "text/plain": [
       "          name  year  points  penalty\n",
       "one      Haidi  2014     1.5        1\n",
       "two      Haidi  2015     1.7        2\n",
       "three    Haidi  2016     3.6        3\n",
       "four   Charles  2015     2.5        4\n",
       "five   Charles  2017     2.9        5"
      ]
     },
     "execution_count": 4,
     "metadata": {},
     "output_type": "execute_result"
    }
   ],
   "source": [
    "data = { \"name\":[\"Haidi\", \"Haidi\", \"Haidi\", \"Charles\", \"Charles\"],\n",
    "        \"year\":[2014, 2015, 2016, 2015, 2017],\n",
    "        \"points\":[1.5, 1.7, 3.6, 2.5, 2.9], \n",
    "        \"penalty\":[1, 2, 3, 4, 5] }\n",
    "df1 = pd.DataFrame( data, \n",
    "                    index=[\"one\", \"two\", \"three\", \"four\", \"five\"])\n",
    "df1"
   ]
  },
  {
   "cell_type": "code",
   "execution_count": 5,
   "id": "c5bc0d3a",
   "metadata": {},
   "outputs": [
    {
     "data": {
      "text/plain": [
       "Index(['name', 'year', 'points', 'penalty'], dtype='object')"
      ]
     },
     "execution_count": 5,
     "metadata": {},
     "output_type": "execute_result"
    }
   ],
   "source": [
    "df1.columns"
   ]
  },
  {
   "cell_type": "code",
   "execution_count": 6,
   "id": "bdc7ab29",
   "metadata": {},
   "outputs": [
    {
     "data": {
      "text/plain": [
       "Index(['one', 'two', 'three', 'four', 'five'], dtype='object')"
      ]
     },
     "execution_count": 6,
     "metadata": {},
     "output_type": "execute_result"
    }
   ],
   "source": [
    "df1.index"
   ]
  },
  {
   "cell_type": "markdown",
   "id": "6022a05f",
   "metadata": {},
   "source": [
    "##### [] 를 이용한 컬럼조회 "
   ]
  },
  {
   "cell_type": "code",
   "execution_count": 7,
   "id": "50eb8a11",
   "metadata": {},
   "outputs": [
    {
     "data": {
      "text/plain": [
       "one        Haidi\n",
       "two        Haidi\n",
       "three      Haidi\n",
       "four     Charles\n",
       "five     Charles\n",
       "Name: name, dtype: object"
      ]
     },
     "execution_count": 7,
     "metadata": {},
     "output_type": "execute_result"
    }
   ],
   "source": [
    "# 특정 1개의 컬럼 조회 => 시리즈 \n",
    "# 데이타프레임[컬럼명]\n",
    "df1['name']"
   ]
  },
  {
   "cell_type": "code",
   "execution_count": 8,
   "id": "0ed520bd",
   "metadata": {},
   "outputs": [
    {
     "data": {
      "text/plain": [
       "pandas.core.series.Series"
      ]
     },
     "execution_count": 8,
     "metadata": {},
     "output_type": "execute_result"
    }
   ],
   "source": [
    "type(df1['name'])"
   ]
  },
  {
   "cell_type": "code",
   "execution_count": 9,
   "id": "8d872f4e",
   "metadata": {},
   "outputs": [
    {
     "data": {
      "text/html": [
       "<div>\n",
       "<style scoped>\n",
       "    .dataframe tbody tr th:only-of-type {\n",
       "        vertical-align: middle;\n",
       "    }\n",
       "\n",
       "    .dataframe tbody tr th {\n",
       "        vertical-align: top;\n",
       "    }\n",
       "\n",
       "    .dataframe thead th {\n",
       "        text-align: right;\n",
       "    }\n",
       "</style>\n",
       "<table border=\"1\" class=\"dataframe\">\n",
       "  <thead>\n",
       "    <tr style=\"text-align: right;\">\n",
       "      <th></th>\n",
       "      <th>name</th>\n",
       "    </tr>\n",
       "  </thead>\n",
       "  <tbody>\n",
       "    <tr>\n",
       "      <th>one</th>\n",
       "      <td>Haidi</td>\n",
       "    </tr>\n",
       "    <tr>\n",
       "      <th>two</th>\n",
       "      <td>Haidi</td>\n",
       "    </tr>\n",
       "    <tr>\n",
       "      <th>three</th>\n",
       "      <td>Haidi</td>\n",
       "    </tr>\n",
       "    <tr>\n",
       "      <th>four</th>\n",
       "      <td>Charles</td>\n",
       "    </tr>\n",
       "    <tr>\n",
       "      <th>five</th>\n",
       "      <td>Charles</td>\n",
       "    </tr>\n",
       "  </tbody>\n",
       "</table>\n",
       "</div>"
      ],
      "text/plain": [
       "          name\n",
       "one      Haidi\n",
       "two      Haidi\n",
       "three    Haidi\n",
       "four   Charles\n",
       "five   Charles"
      ]
     },
     "execution_count": 9,
     "metadata": {},
     "output_type": "execute_result"
    }
   ],
   "source": [
    "# 특정 1개의 컬럼 조회 => 데이타프레임\n",
    "# 데이타프레임[[컬럼명]]\n",
    "df1[['name']]"
   ]
  },
  {
   "cell_type": "code",
   "execution_count": 10,
   "id": "0411f26a",
   "metadata": {},
   "outputs": [
    {
     "data": {
      "text/plain": [
       "pandas.core.frame.DataFrame"
      ]
     },
     "execution_count": 10,
     "metadata": {},
     "output_type": "execute_result"
    }
   ],
   "source": [
    "type(df1[['name']])"
   ]
  },
  {
   "cell_type": "code",
   "execution_count": 12,
   "id": "c619ee31",
   "metadata": {},
   "outputs": [],
   "source": [
    "# KeyError \n",
    "# df1[0]"
   ]
  },
  {
   "cell_type": "code",
   "execution_count": 13,
   "id": "cd715db7",
   "metadata": {},
   "outputs": [],
   "source": [
    "# 다수개의 컬럼 조회 => 데이타프레임\n",
    "# 데이타프레임[[컬럼명1, 컬럼명2 ...]]"
   ]
  },
  {
   "cell_type": "code",
   "execution_count": 16,
   "id": "3aee79a2",
   "metadata": {},
   "outputs": [
    {
     "data": {
      "text/html": [
       "<div>\n",
       "<style scoped>\n",
       "    .dataframe tbody tr th:only-of-type {\n",
       "        vertical-align: middle;\n",
       "    }\n",
       "\n",
       "    .dataframe tbody tr th {\n",
       "        vertical-align: top;\n",
       "    }\n",
       "\n",
       "    .dataframe thead th {\n",
       "        text-align: right;\n",
       "    }\n",
       "</style>\n",
       "<table border=\"1\" class=\"dataframe\">\n",
       "  <thead>\n",
       "    <tr style=\"text-align: right;\">\n",
       "      <th></th>\n",
       "      <th>year</th>\n",
       "      <th>name</th>\n",
       "      <th>points</th>\n",
       "    </tr>\n",
       "  </thead>\n",
       "  <tbody>\n",
       "    <tr>\n",
       "      <th>one</th>\n",
       "      <td>2014</td>\n",
       "      <td>Haidi</td>\n",
       "      <td>1.5</td>\n",
       "    </tr>\n",
       "    <tr>\n",
       "      <th>two</th>\n",
       "      <td>2015</td>\n",
       "      <td>Haidi</td>\n",
       "      <td>1.7</td>\n",
       "    </tr>\n",
       "    <tr>\n",
       "      <th>three</th>\n",
       "      <td>2016</td>\n",
       "      <td>Haidi</td>\n",
       "      <td>3.6</td>\n",
       "    </tr>\n",
       "    <tr>\n",
       "      <th>four</th>\n",
       "      <td>2015</td>\n",
       "      <td>Charles</td>\n",
       "      <td>2.5</td>\n",
       "    </tr>\n",
       "    <tr>\n",
       "      <th>five</th>\n",
       "      <td>2017</td>\n",
       "      <td>Charles</td>\n",
       "      <td>2.9</td>\n",
       "    </tr>\n",
       "  </tbody>\n",
       "</table>\n",
       "</div>"
      ],
      "text/plain": [
       "       year     name  points\n",
       "one    2014    Haidi     1.5\n",
       "two    2015    Haidi     1.7\n",
       "three  2016    Haidi     3.6\n",
       "four   2015  Charles     2.5\n",
       "five   2017  Charles     2.9"
      ]
     },
     "execution_count": 16,
     "metadata": {},
     "output_type": "execute_result"
    }
   ],
   "source": [
    "df1[['year', 'name', 'points']]"
   ]
  },
  {
   "cell_type": "code",
   "execution_count": 14,
   "id": "22672e0d",
   "metadata": {},
   "outputs": [
    {
     "data": {
      "text/html": [
       "<div>\n",
       "<style scoped>\n",
       "    .dataframe tbody tr th:only-of-type {\n",
       "        vertical-align: middle;\n",
       "    }\n",
       "\n",
       "    .dataframe tbody tr th {\n",
       "        vertical-align: top;\n",
       "    }\n",
       "\n",
       "    .dataframe thead th {\n",
       "        text-align: right;\n",
       "    }\n",
       "</style>\n",
       "<table border=\"1\" class=\"dataframe\">\n",
       "  <thead>\n",
       "    <tr style=\"text-align: right;\">\n",
       "      <th></th>\n",
       "      <th>name</th>\n",
       "      <th>year</th>\n",
       "      <th>points</th>\n",
       "      <th>penalty</th>\n",
       "    </tr>\n",
       "  </thead>\n",
       "  <tbody>\n",
       "    <tr>\n",
       "      <th>one</th>\n",
       "      <td>Haidi</td>\n",
       "      <td>2014</td>\n",
       "      <td>1.5</td>\n",
       "      <td>1</td>\n",
       "    </tr>\n",
       "    <tr>\n",
       "      <th>two</th>\n",
       "      <td>Haidi</td>\n",
       "      <td>2015</td>\n",
       "      <td>1.7</td>\n",
       "      <td>2</td>\n",
       "    </tr>\n",
       "    <tr>\n",
       "      <th>three</th>\n",
       "      <td>Haidi</td>\n",
       "      <td>2016</td>\n",
       "      <td>3.6</td>\n",
       "      <td>3</td>\n",
       "    </tr>\n",
       "    <tr>\n",
       "      <th>four</th>\n",
       "      <td>Charles</td>\n",
       "      <td>2015</td>\n",
       "      <td>2.5</td>\n",
       "      <td>4</td>\n",
       "    </tr>\n",
       "    <tr>\n",
       "      <th>five</th>\n",
       "      <td>Charles</td>\n",
       "      <td>2017</td>\n",
       "      <td>2.9</td>\n",
       "      <td>5</td>\n",
       "    </tr>\n",
       "  </tbody>\n",
       "</table>\n",
       "</div>"
      ],
      "text/plain": [
       "          name  year  points  penalty\n",
       "one      Haidi  2014     1.5        1\n",
       "two      Haidi  2015     1.7        2\n",
       "three    Haidi  2016     3.6        3\n",
       "four   Charles  2015     2.5        4\n",
       "five   Charles  2017     2.9        5"
      ]
     },
     "execution_count": 14,
     "metadata": {},
     "output_type": "execute_result"
    }
   ],
   "source": [
    "df1"
   ]
  },
  {
   "cell_type": "code",
   "execution_count": 19,
   "id": "1c25d7ff",
   "metadata": {},
   "outputs": [],
   "source": [
    "# 에러 발생 : 슬라이싱 x\n",
    "# df1[['name':'year']]"
   ]
  },
  {
   "cell_type": "markdown",
   "id": "ad25d41f",
   "metadata": {},
   "source": [
    "#####  도트(.) 를 이용한 특정 컬럼 조회  => 시리즈"
   ]
  },
  {
   "cell_type": "code",
   "execution_count": 21,
   "id": "5638632d",
   "metadata": {},
   "outputs": [
    {
     "data": {
      "text/plain": [
       "one        Haidi\n",
       "two        Haidi\n",
       "three      Haidi\n",
       "four     Charles\n",
       "five     Charles\n",
       "Name: name, dtype: object"
      ]
     },
     "execution_count": 21,
     "metadata": {},
     "output_type": "execute_result"
    }
   ],
   "source": [
    "df1.name"
   ]
  },
  {
   "cell_type": "markdown",
   "id": "c12a5d56",
   "metadata": {},
   "source": [
    "##### loc 방식으로 컬럼 조회 \n",
    "\n",
    "- 데이타프레임.loc[:, 컬럼명] => 시리즈 \n",
    "- 데이타프레임.loc[:, 컬럼명1:컬럼명2] => 데이타프레임"
   ]
  },
  {
   "cell_type": "code",
   "execution_count": 22,
   "id": "e4aef05e",
   "metadata": {},
   "outputs": [
    {
     "data": {
      "text/plain": [
       "one        Haidi\n",
       "two        Haidi\n",
       "three      Haidi\n",
       "four     Charles\n",
       "five     Charles\n",
       "Name: name, dtype: object"
      ]
     },
     "execution_count": 22,
     "metadata": {},
     "output_type": "execute_result"
    }
   ],
   "source": [
    "df1.loc[:, 'name']"
   ]
  },
  {
   "cell_type": "code",
   "execution_count": 23,
   "id": "150d7a0c",
   "metadata": {},
   "outputs": [
    {
     "data": {
      "text/html": [
       "<div>\n",
       "<style scoped>\n",
       "    .dataframe tbody tr th:only-of-type {\n",
       "        vertical-align: middle;\n",
       "    }\n",
       "\n",
       "    .dataframe tbody tr th {\n",
       "        vertical-align: top;\n",
       "    }\n",
       "\n",
       "    .dataframe thead th {\n",
       "        text-align: right;\n",
       "    }\n",
       "</style>\n",
       "<table border=\"1\" class=\"dataframe\">\n",
       "  <thead>\n",
       "    <tr style=\"text-align: right;\">\n",
       "      <th></th>\n",
       "      <th>name</th>\n",
       "      <th>year</th>\n",
       "      <th>points</th>\n",
       "    </tr>\n",
       "  </thead>\n",
       "  <tbody>\n",
       "    <tr>\n",
       "      <th>one</th>\n",
       "      <td>Haidi</td>\n",
       "      <td>2014</td>\n",
       "      <td>1.5</td>\n",
       "    </tr>\n",
       "    <tr>\n",
       "      <th>two</th>\n",
       "      <td>Haidi</td>\n",
       "      <td>2015</td>\n",
       "      <td>1.7</td>\n",
       "    </tr>\n",
       "    <tr>\n",
       "      <th>three</th>\n",
       "      <td>Haidi</td>\n",
       "      <td>2016</td>\n",
       "      <td>3.6</td>\n",
       "    </tr>\n",
       "    <tr>\n",
       "      <th>four</th>\n",
       "      <td>Charles</td>\n",
       "      <td>2015</td>\n",
       "      <td>2.5</td>\n",
       "    </tr>\n",
       "    <tr>\n",
       "      <th>five</th>\n",
       "      <td>Charles</td>\n",
       "      <td>2017</td>\n",
       "      <td>2.9</td>\n",
       "    </tr>\n",
       "  </tbody>\n",
       "</table>\n",
       "</div>"
      ],
      "text/plain": [
       "          name  year  points\n",
       "one      Haidi  2014     1.5\n",
       "two      Haidi  2015     1.7\n",
       "three    Haidi  2016     3.6\n",
       "four   Charles  2015     2.5\n",
       "five   Charles  2017     2.9"
      ]
     },
     "execution_count": 23,
     "metadata": {},
     "output_type": "execute_result"
    }
   ],
   "source": [
    "# 컬럼명을 이용한 슬라이싱 \n",
    "df1.loc[:, 'name':'points']"
   ]
  },
  {
   "cell_type": "markdown",
   "id": "5b11f7b4",
   "metadata": {},
   "source": [
    "##### iloc 방식으로 컬럼 조회  : 위치인덱스 숫자 이용\n",
    "\n",
    "- 데이타프레임.iloc[:, 컬럼인덱스] => 시리즈 \n",
    "- 데이타프레임.iloc[:, 컬럼인덱스1:컬럼인덱스2] => 데이타프레임"
   ]
  },
  {
   "cell_type": "code",
   "execution_count": 26,
   "id": "918cdc69",
   "metadata": {},
   "outputs": [
    {
     "data": {
      "text/plain": [
       "one        Haidi\n",
       "two        Haidi\n",
       "three      Haidi\n",
       "four     Charles\n",
       "five     Charles\n",
       "Name: name, dtype: object"
      ]
     },
     "execution_count": 26,
     "metadata": {},
     "output_type": "execute_result"
    }
   ],
   "source": [
    "# 특정 컬럼 1개 \n",
    "df1.iloc[:, 0]"
   ]
  },
  {
   "cell_type": "code",
   "execution_count": 29,
   "id": "845d1fb5",
   "metadata": {},
   "outputs": [
    {
     "data": {
      "text/html": [
       "<div>\n",
       "<style scoped>\n",
       "    .dataframe tbody tr th:only-of-type {\n",
       "        vertical-align: middle;\n",
       "    }\n",
       "\n",
       "    .dataframe tbody tr th {\n",
       "        vertical-align: top;\n",
       "    }\n",
       "\n",
       "    .dataframe thead th {\n",
       "        text-align: right;\n",
       "    }\n",
       "</style>\n",
       "<table border=\"1\" class=\"dataframe\">\n",
       "  <thead>\n",
       "    <tr style=\"text-align: right;\">\n",
       "      <th></th>\n",
       "      <th>name</th>\n",
       "      <th>year</th>\n",
       "    </tr>\n",
       "  </thead>\n",
       "  <tbody>\n",
       "    <tr>\n",
       "      <th>one</th>\n",
       "      <td>Haidi</td>\n",
       "      <td>2014</td>\n",
       "    </tr>\n",
       "    <tr>\n",
       "      <th>two</th>\n",
       "      <td>Haidi</td>\n",
       "      <td>2015</td>\n",
       "    </tr>\n",
       "    <tr>\n",
       "      <th>three</th>\n",
       "      <td>Haidi</td>\n",
       "      <td>2016</td>\n",
       "    </tr>\n",
       "    <tr>\n",
       "      <th>four</th>\n",
       "      <td>Charles</td>\n",
       "      <td>2015</td>\n",
       "    </tr>\n",
       "    <tr>\n",
       "      <th>five</th>\n",
       "      <td>Charles</td>\n",
       "      <td>2017</td>\n",
       "    </tr>\n",
       "  </tbody>\n",
       "</table>\n",
       "</div>"
      ],
      "text/plain": [
       "          name  year\n",
       "one      Haidi  2014\n",
       "two      Haidi  2015\n",
       "three    Haidi  2016\n",
       "four   Charles  2015\n",
       "five   Charles  2017"
      ]
     },
     "execution_count": 29,
     "metadata": {},
     "output_type": "execute_result"
    }
   ],
   "source": [
    "# 연속 컬럼 슬라이싱 => 데이타프레임\n",
    "df1.iloc[:, 0:2]"
   ]
  },
  {
   "cell_type": "markdown",
   "id": "f7b60f31",
   "metadata": {},
   "source": [
    "##### loc 방식으로 행 조회 \n",
    "- 데이타프레임.loc[인덱스명] => 시리즈 \n",
    "- 데이타프레임.loc[[인덱스명]] => 데이타프레임\n",
    "- 데이타프레임.loc[인덱스명, :] => 시리즈 \n",
    "- 데이타프레임.loc[인덱스명1:인덱스명2, :] => 데이타프레임\n",
    "- 데이타프레임.loc[[인덱스명1, 인덱스명2 ...], :] => 데이타프레임"
   ]
  },
  {
   "cell_type": "code",
   "execution_count": 32,
   "id": "68c0be26",
   "metadata": {},
   "outputs": [
    {
     "data": {
      "text/plain": [
       "name       Haidi\n",
       "year        2016\n",
       "points       3.6\n",
       "penalty        3\n",
       "Name: three, dtype: object"
      ]
     },
     "execution_count": 32,
     "metadata": {},
     "output_type": "execute_result"
    }
   ],
   "source": [
    "# 특정행 조회 => 시리즈 \n",
    "df1.loc['three']"
   ]
  },
  {
   "cell_type": "code",
   "execution_count": 34,
   "id": "3c0703a5",
   "metadata": {},
   "outputs": [
    {
     "data": {
      "text/plain": [
       "name       Haidi\n",
       "year        2016\n",
       "points       3.6\n",
       "penalty        3\n",
       "Name: three, dtype: object"
      ]
     },
     "execution_count": 34,
     "metadata": {},
     "output_type": "execute_result"
    }
   ],
   "source": [
    "df1.loc['three', :]"
   ]
  },
  {
   "cell_type": "code",
   "execution_count": 33,
   "id": "86856c57",
   "metadata": {},
   "outputs": [
    {
     "data": {
      "text/html": [
       "<div>\n",
       "<style scoped>\n",
       "    .dataframe tbody tr th:only-of-type {\n",
       "        vertical-align: middle;\n",
       "    }\n",
       "\n",
       "    .dataframe tbody tr th {\n",
       "        vertical-align: top;\n",
       "    }\n",
       "\n",
       "    .dataframe thead th {\n",
       "        text-align: right;\n",
       "    }\n",
       "</style>\n",
       "<table border=\"1\" class=\"dataframe\">\n",
       "  <thead>\n",
       "    <tr style=\"text-align: right;\">\n",
       "      <th></th>\n",
       "      <th>name</th>\n",
       "      <th>year</th>\n",
       "      <th>points</th>\n",
       "      <th>penalty</th>\n",
       "    </tr>\n",
       "  </thead>\n",
       "  <tbody>\n",
       "    <tr>\n",
       "      <th>three</th>\n",
       "      <td>Haidi</td>\n",
       "      <td>2016</td>\n",
       "      <td>3.6</td>\n",
       "      <td>3</td>\n",
       "    </tr>\n",
       "  </tbody>\n",
       "</table>\n",
       "</div>"
      ],
      "text/plain": [
       "        name  year  points  penalty\n",
       "three  Haidi  2016     3.6        3"
      ]
     },
     "execution_count": 33,
     "metadata": {},
     "output_type": "execute_result"
    }
   ],
   "source": [
    "# 특정행 조회 => 데이타프레임 \n",
    "df1.loc[['three']]"
   ]
  },
  {
   "cell_type": "code",
   "execution_count": 35,
   "id": "20ad6f01",
   "metadata": {},
   "outputs": [
    {
     "data": {
      "text/html": [
       "<div>\n",
       "<style scoped>\n",
       "    .dataframe tbody tr th:only-of-type {\n",
       "        vertical-align: middle;\n",
       "    }\n",
       "\n",
       "    .dataframe tbody tr th {\n",
       "        vertical-align: top;\n",
       "    }\n",
       "\n",
       "    .dataframe thead th {\n",
       "        text-align: right;\n",
       "    }\n",
       "</style>\n",
       "<table border=\"1\" class=\"dataframe\">\n",
       "  <thead>\n",
       "    <tr style=\"text-align: right;\">\n",
       "      <th></th>\n",
       "      <th>name</th>\n",
       "      <th>year</th>\n",
       "      <th>points</th>\n",
       "      <th>penalty</th>\n",
       "    </tr>\n",
       "  </thead>\n",
       "  <tbody>\n",
       "    <tr>\n",
       "      <th>two</th>\n",
       "      <td>Haidi</td>\n",
       "      <td>2015</td>\n",
       "      <td>1.7</td>\n",
       "      <td>2</td>\n",
       "    </tr>\n",
       "    <tr>\n",
       "      <th>five</th>\n",
       "      <td>Charles</td>\n",
       "      <td>2017</td>\n",
       "      <td>2.9</td>\n",
       "      <td>5</td>\n",
       "    </tr>\n",
       "  </tbody>\n",
       "</table>\n",
       "</div>"
      ],
      "text/plain": [
       "         name  year  points  penalty\n",
       "two     Haidi  2015     1.7        2\n",
       "five  Charles  2017     2.9        5"
      ]
     },
     "execution_count": 35,
     "metadata": {},
     "output_type": "execute_result"
    }
   ],
   "source": [
    "# 불연속인 행 조회 - two, five\n",
    "df1.loc[['two', 'five']]"
   ]
  },
  {
   "cell_type": "code",
   "execution_count": 36,
   "id": "35f76023",
   "metadata": {
    "scrolled": true
   },
   "outputs": [
    {
     "data": {
      "text/html": [
       "<div>\n",
       "<style scoped>\n",
       "    .dataframe tbody tr th:only-of-type {\n",
       "        vertical-align: middle;\n",
       "    }\n",
       "\n",
       "    .dataframe tbody tr th {\n",
       "        vertical-align: top;\n",
       "    }\n",
       "\n",
       "    .dataframe thead th {\n",
       "        text-align: right;\n",
       "    }\n",
       "</style>\n",
       "<table border=\"1\" class=\"dataframe\">\n",
       "  <thead>\n",
       "    <tr style=\"text-align: right;\">\n",
       "      <th></th>\n",
       "      <th>name</th>\n",
       "      <th>year</th>\n",
       "      <th>points</th>\n",
       "      <th>penalty</th>\n",
       "    </tr>\n",
       "  </thead>\n",
       "  <tbody>\n",
       "    <tr>\n",
       "      <th>two</th>\n",
       "      <td>Haidi</td>\n",
       "      <td>2015</td>\n",
       "      <td>1.7</td>\n",
       "      <td>2</td>\n",
       "    </tr>\n",
       "    <tr>\n",
       "      <th>three</th>\n",
       "      <td>Haidi</td>\n",
       "      <td>2016</td>\n",
       "      <td>3.6</td>\n",
       "      <td>3</td>\n",
       "    </tr>\n",
       "    <tr>\n",
       "      <th>four</th>\n",
       "      <td>Charles</td>\n",
       "      <td>2015</td>\n",
       "      <td>2.5</td>\n",
       "      <td>4</td>\n",
       "    </tr>\n",
       "  </tbody>\n",
       "</table>\n",
       "</div>"
      ],
      "text/plain": [
       "          name  year  points  penalty\n",
       "two      Haidi  2015     1.7        2\n",
       "three    Haidi  2016     3.6        3\n",
       "four   Charles  2015     2.5        4"
      ]
     },
     "execution_count": 36,
     "metadata": {},
     "output_type": "execute_result"
    }
   ],
   "source": [
    "# 연속적인 행 조회 => 데이타프레임 슬라이싱 \n",
    "df1.loc['two':'four']"
   ]
  },
  {
   "cell_type": "markdown",
   "id": "06606d7e",
   "metadata": {},
   "source": [
    "##### iloc 방식으로 행 조회  : 위치인덱스 숫자 이용\n",
    "\n",
    "- 데이타프레임.iloc[행인덱스] => 시리즈 \n",
    "- 데이타프레임.iloc[행인덱스1:행인덱스2] => 데이타프레임"
   ]
  },
  {
   "cell_type": "code",
   "execution_count": 37,
   "id": "24609cec",
   "metadata": {},
   "outputs": [
    {
     "data": {
      "text/plain": [
       "name       Charles\n",
       "year          2017\n",
       "points         2.9\n",
       "penalty          5\n",
       "Name: five, dtype: object"
      ]
     },
     "execution_count": 37,
     "metadata": {},
     "output_type": "execute_result"
    }
   ],
   "source": [
    "# 마지막 행 \n",
    "df1.iloc[-1]"
   ]
  },
  {
   "cell_type": "code",
   "execution_count": 42,
   "id": "a8fc2755",
   "metadata": {},
   "outputs": [
    {
     "data": {
      "text/html": [
       "<div>\n",
       "<style scoped>\n",
       "    .dataframe tbody tr th:only-of-type {\n",
       "        vertical-align: middle;\n",
       "    }\n",
       "\n",
       "    .dataframe tbody tr th {\n",
       "        vertical-align: top;\n",
       "    }\n",
       "\n",
       "    .dataframe thead th {\n",
       "        text-align: right;\n",
       "    }\n",
       "</style>\n",
       "<table border=\"1\" class=\"dataframe\">\n",
       "  <thead>\n",
       "    <tr style=\"text-align: right;\">\n",
       "      <th></th>\n",
       "      <th>name</th>\n",
       "      <th>year</th>\n",
       "      <th>points</th>\n",
       "      <th>penalty</th>\n",
       "    </tr>\n",
       "  </thead>\n",
       "  <tbody>\n",
       "    <tr>\n",
       "      <th>two</th>\n",
       "      <td>Haidi</td>\n",
       "      <td>2015</td>\n",
       "      <td>1.7</td>\n",
       "      <td>2</td>\n",
       "    </tr>\n",
       "    <tr>\n",
       "      <th>three</th>\n",
       "      <td>Haidi</td>\n",
       "      <td>2016</td>\n",
       "      <td>3.6</td>\n",
       "      <td>3</td>\n",
       "    </tr>\n",
       "    <tr>\n",
       "      <th>four</th>\n",
       "      <td>Charles</td>\n",
       "      <td>2015</td>\n",
       "      <td>2.5</td>\n",
       "      <td>4</td>\n",
       "    </tr>\n",
       "  </tbody>\n",
       "</table>\n",
       "</div>"
      ],
      "text/plain": [
       "          name  year  points  penalty\n",
       "two      Haidi  2015     1.7        2\n",
       "three    Haidi  2016     3.6        3\n",
       "four   Charles  2015     2.5        4"
      ]
     },
     "execution_count": 42,
     "metadata": {},
     "output_type": "execute_result"
    }
   ],
   "source": [
    "# 슬라이싱\n",
    "df1.iloc[1:4]"
   ]
  },
  {
   "cell_type": "code",
   "execution_count": 43,
   "id": "1f0bb052",
   "metadata": {},
   "outputs": [
    {
     "data": {
      "text/html": [
       "<div>\n",
       "<style scoped>\n",
       "    .dataframe tbody tr th:only-of-type {\n",
       "        vertical-align: middle;\n",
       "    }\n",
       "\n",
       "    .dataframe tbody tr th {\n",
       "        vertical-align: top;\n",
       "    }\n",
       "\n",
       "    .dataframe thead th {\n",
       "        text-align: right;\n",
       "    }\n",
       "</style>\n",
       "<table border=\"1\" class=\"dataframe\">\n",
       "  <thead>\n",
       "    <tr style=\"text-align: right;\">\n",
       "      <th></th>\n",
       "      <th>name</th>\n",
       "      <th>year</th>\n",
       "      <th>points</th>\n",
       "      <th>penalty</th>\n",
       "    </tr>\n",
       "  </thead>\n",
       "  <tbody>\n",
       "    <tr>\n",
       "      <th>one</th>\n",
       "      <td>Haidi</td>\n",
       "      <td>2014</td>\n",
       "      <td>1.5</td>\n",
       "      <td>1</td>\n",
       "    </tr>\n",
       "    <tr>\n",
       "      <th>three</th>\n",
       "      <td>Haidi</td>\n",
       "      <td>2016</td>\n",
       "      <td>3.6</td>\n",
       "      <td>3</td>\n",
       "    </tr>\n",
       "    <tr>\n",
       "      <th>five</th>\n",
       "      <td>Charles</td>\n",
       "      <td>2017</td>\n",
       "      <td>2.9</td>\n",
       "      <td>5</td>\n",
       "    </tr>\n",
       "  </tbody>\n",
       "</table>\n",
       "</div>"
      ],
      "text/plain": [
       "          name  year  points  penalty\n",
       "one      Haidi  2014     1.5        1\n",
       "three    Haidi  2016     3.6        3\n",
       "five   Charles  2017     2.9        5"
      ]
     },
     "execution_count": 43,
     "metadata": {},
     "output_type": "execute_result"
    }
   ],
   "source": [
    "# 불연속인 행 조회 \n",
    "df1.iloc[[0, 2, -1]]"
   ]
  },
  {
   "cell_type": "code",
   "execution_count": 53,
   "id": "c158b43b",
   "metadata": {},
   "outputs": [],
   "source": [
    "# 특정행의 특정열 조회 : 슬라이싱\n",
    "# 데이타프레임명.iloc[start1:end1, start2:end2]\n",
    "# 데이타프레임명.loc[인덱스명1:인덱스명2, 컬럼명1:컬럼명2]\n",
    "\n",
    "# 특정행의 특정열의 값 \n",
    "# 데이타프레임명.iloc[행인덱스, 열인덱스]\n",
    "# 데이타프레임명.loc[행이름, 열이름]"
   ]
  },
  {
   "cell_type": "code",
   "execution_count": 50,
   "id": "22423b7a",
   "metadata": {},
   "outputs": [
    {
     "data": {
      "text/html": [
       "<div>\n",
       "<style scoped>\n",
       "    .dataframe tbody tr th:only-of-type {\n",
       "        vertical-align: middle;\n",
       "    }\n",
       "\n",
       "    .dataframe tbody tr th {\n",
       "        vertical-align: top;\n",
       "    }\n",
       "\n",
       "    .dataframe thead th {\n",
       "        text-align: right;\n",
       "    }\n",
       "</style>\n",
       "<table border=\"1\" class=\"dataframe\">\n",
       "  <thead>\n",
       "    <tr style=\"text-align: right;\">\n",
       "      <th></th>\n",
       "      <th>name</th>\n",
       "      <th>year</th>\n",
       "    </tr>\n",
       "  </thead>\n",
       "  <tbody>\n",
       "    <tr>\n",
       "      <th>two</th>\n",
       "      <td>Haidi</td>\n",
       "      <td>2015</td>\n",
       "    </tr>\n",
       "    <tr>\n",
       "      <th>three</th>\n",
       "      <td>Haidi</td>\n",
       "      <td>2016</td>\n",
       "    </tr>\n",
       "  </tbody>\n",
       "</table>\n",
       "</div>"
      ],
      "text/plain": [
       "        name  year\n",
       "two    Haidi  2015\n",
       "three  Haidi  2016"
      ]
     },
     "execution_count": 50,
     "metadata": {},
     "output_type": "execute_result"
    }
   ],
   "source": [
    "df1.loc['two':'three', 'name':'year']"
   ]
  },
  {
   "cell_type": "code",
   "execution_count": 52,
   "id": "0e670eab",
   "metadata": {},
   "outputs": [
    {
     "data": {
      "text/html": [
       "<div>\n",
       "<style scoped>\n",
       "    .dataframe tbody tr th:only-of-type {\n",
       "        vertical-align: middle;\n",
       "    }\n",
       "\n",
       "    .dataframe tbody tr th {\n",
       "        vertical-align: top;\n",
       "    }\n",
       "\n",
       "    .dataframe thead th {\n",
       "        text-align: right;\n",
       "    }\n",
       "</style>\n",
       "<table border=\"1\" class=\"dataframe\">\n",
       "  <thead>\n",
       "    <tr style=\"text-align: right;\">\n",
       "      <th></th>\n",
       "      <th>name</th>\n",
       "      <th>year</th>\n",
       "    </tr>\n",
       "  </thead>\n",
       "  <tbody>\n",
       "    <tr>\n",
       "      <th>two</th>\n",
       "      <td>Haidi</td>\n",
       "      <td>2015</td>\n",
       "    </tr>\n",
       "    <tr>\n",
       "      <th>three</th>\n",
       "      <td>Haidi</td>\n",
       "      <td>2016</td>\n",
       "    </tr>\n",
       "  </tbody>\n",
       "</table>\n",
       "</div>"
      ],
      "text/plain": [
       "        name  year\n",
       "two    Haidi  2015\n",
       "three  Haidi  2016"
      ]
     },
     "execution_count": 52,
     "metadata": {},
     "output_type": "execute_result"
    }
   ],
   "source": [
    "df1.iloc[1:3, 0:2]"
   ]
  },
  {
   "cell_type": "code",
   "execution_count": 55,
   "id": "42fd5d35",
   "metadata": {},
   "outputs": [
    {
     "data": {
      "text/plain": [
       "(1.5, 1.5)"
      ]
     },
     "execution_count": 55,
     "metadata": {},
     "output_type": "execute_result"
    }
   ],
   "source": [
    "df1.iloc[0, 2], df1.loc['one', 'points']"
   ]
  },
  {
   "cell_type": "code",
   "execution_count": null,
   "id": "551227c5",
   "metadata": {},
   "outputs": [],
   "source": []
  },
  {
   "cell_type": "code",
   "execution_count": 56,
   "id": "7b7d4e3a",
   "metadata": {},
   "outputs": [],
   "source": [
    "# 맨 앞의 특정행의 갯수 조회 - 데이타프레임명.head(n)\n",
    "# 맨뒤의 특정행의 갯수 조회 - 데이타프레임명.tail(n)\n",
    "# n은 기본값 5 \n",
    "\n",
    "# 무작위 특정행의 갯수 조회 - 데이타프레임명.sample(n)\n",
    "# n 은 기본값1"
   ]
  },
  {
   "cell_type": "code",
   "execution_count": 57,
   "id": "3235df8f",
   "metadata": {},
   "outputs": [],
   "source": [
    "data = np.random.randint(1,300,100).reshape(-1,5)\n",
    "df2 = pd.DataFrame(data)"
   ]
  },
  {
   "cell_type": "code",
   "execution_count": 60,
   "id": "84ab8efc",
   "metadata": {},
   "outputs": [
    {
     "data": {
      "text/plain": [
       "(20, 5)"
      ]
     },
     "execution_count": 60,
     "metadata": {},
     "output_type": "execute_result"
    }
   ],
   "source": [
    "df2.shape"
   ]
  },
  {
   "cell_type": "code",
   "execution_count": 61,
   "id": "a2a5fa0c",
   "metadata": {},
   "outputs": [
    {
     "data": {
      "text/html": [
       "<div>\n",
       "<style scoped>\n",
       "    .dataframe tbody tr th:only-of-type {\n",
       "        vertical-align: middle;\n",
       "    }\n",
       "\n",
       "    .dataframe tbody tr th {\n",
       "        vertical-align: top;\n",
       "    }\n",
       "\n",
       "    .dataframe thead th {\n",
       "        text-align: right;\n",
       "    }\n",
       "</style>\n",
       "<table border=\"1\" class=\"dataframe\">\n",
       "  <thead>\n",
       "    <tr style=\"text-align: right;\">\n",
       "      <th></th>\n",
       "      <th>0</th>\n",
       "      <th>1</th>\n",
       "      <th>2</th>\n",
       "      <th>3</th>\n",
       "      <th>4</th>\n",
       "    </tr>\n",
       "  </thead>\n",
       "  <tbody>\n",
       "    <tr>\n",
       "      <th>0</th>\n",
       "      <td>44</td>\n",
       "      <td>213</td>\n",
       "      <td>257</td>\n",
       "      <td>29</td>\n",
       "      <td>146</td>\n",
       "    </tr>\n",
       "    <tr>\n",
       "      <th>1</th>\n",
       "      <td>72</td>\n",
       "      <td>275</td>\n",
       "      <td>124</td>\n",
       "      <td>269</td>\n",
       "      <td>184</td>\n",
       "    </tr>\n",
       "  </tbody>\n",
       "</table>\n",
       "</div>"
      ],
      "text/plain": [
       "    0    1    2    3    4\n",
       "0  44  213  257   29  146\n",
       "1  72  275  124  269  184"
      ]
     },
     "execution_count": 61,
     "metadata": {},
     "output_type": "execute_result"
    }
   ],
   "source": [
    "df2.head(2)"
   ]
  },
  {
   "cell_type": "code",
   "execution_count": 62,
   "id": "28883caf",
   "metadata": {},
   "outputs": [
    {
     "data": {
      "text/html": [
       "<div>\n",
       "<style scoped>\n",
       "    .dataframe tbody tr th:only-of-type {\n",
       "        vertical-align: middle;\n",
       "    }\n",
       "\n",
       "    .dataframe tbody tr th {\n",
       "        vertical-align: top;\n",
       "    }\n",
       "\n",
       "    .dataframe thead th {\n",
       "        text-align: right;\n",
       "    }\n",
       "</style>\n",
       "<table border=\"1\" class=\"dataframe\">\n",
       "  <thead>\n",
       "    <tr style=\"text-align: right;\">\n",
       "      <th></th>\n",
       "      <th>0</th>\n",
       "      <th>1</th>\n",
       "      <th>2</th>\n",
       "      <th>3</th>\n",
       "      <th>4</th>\n",
       "    </tr>\n",
       "  </thead>\n",
       "  <tbody>\n",
       "    <tr>\n",
       "      <th>17</th>\n",
       "      <td>163</td>\n",
       "      <td>17</td>\n",
       "      <td>197</td>\n",
       "      <td>55</td>\n",
       "      <td>122</td>\n",
       "    </tr>\n",
       "    <tr>\n",
       "      <th>18</th>\n",
       "      <td>90</td>\n",
       "      <td>66</td>\n",
       "      <td>269</td>\n",
       "      <td>105</td>\n",
       "      <td>26</td>\n",
       "    </tr>\n",
       "    <tr>\n",
       "      <th>19</th>\n",
       "      <td>92</td>\n",
       "      <td>175</td>\n",
       "      <td>251</td>\n",
       "      <td>298</td>\n",
       "      <td>7</td>\n",
       "    </tr>\n",
       "  </tbody>\n",
       "</table>\n",
       "</div>"
      ],
      "text/plain": [
       "      0    1    2    3    4\n",
       "17  163   17  197   55  122\n",
       "18   90   66  269  105   26\n",
       "19   92  175  251  298    7"
      ]
     },
     "execution_count": 62,
     "metadata": {},
     "output_type": "execute_result"
    }
   ],
   "source": [
    "df2.tail(3)"
   ]
  },
  {
   "cell_type": "code",
   "execution_count": 63,
   "id": "949f36f2",
   "metadata": {},
   "outputs": [
    {
     "data": {
      "text/html": [
       "<div>\n",
       "<style scoped>\n",
       "    .dataframe tbody tr th:only-of-type {\n",
       "        vertical-align: middle;\n",
       "    }\n",
       "\n",
       "    .dataframe tbody tr th {\n",
       "        vertical-align: top;\n",
       "    }\n",
       "\n",
       "    .dataframe thead th {\n",
       "        text-align: right;\n",
       "    }\n",
       "</style>\n",
       "<table border=\"1\" class=\"dataframe\">\n",
       "  <thead>\n",
       "    <tr style=\"text-align: right;\">\n",
       "      <th></th>\n",
       "      <th>0</th>\n",
       "      <th>1</th>\n",
       "      <th>2</th>\n",
       "      <th>3</th>\n",
       "      <th>4</th>\n",
       "    </tr>\n",
       "  </thead>\n",
       "  <tbody>\n",
       "    <tr>\n",
       "      <th>12</th>\n",
       "      <td>221</td>\n",
       "      <td>23</td>\n",
       "      <td>209</td>\n",
       "      <td>50</td>\n",
       "      <td>90</td>\n",
       "    </tr>\n",
       "  </tbody>\n",
       "</table>\n",
       "</div>"
      ],
      "text/plain": [
       "      0   1    2   3   4\n",
       "12  221  23  209  50  90"
      ]
     },
     "execution_count": 63,
     "metadata": {},
     "output_type": "execute_result"
    }
   ],
   "source": [
    "df2.sample()"
   ]
  },
  {
   "cell_type": "code",
   "execution_count": 64,
   "id": "abb55384",
   "metadata": {},
   "outputs": [
    {
     "data": {
      "text/html": [
       "<div>\n",
       "<style scoped>\n",
       "    .dataframe tbody tr th:only-of-type {\n",
       "        vertical-align: middle;\n",
       "    }\n",
       "\n",
       "    .dataframe tbody tr th {\n",
       "        vertical-align: top;\n",
       "    }\n",
       "\n",
       "    .dataframe thead th {\n",
       "        text-align: right;\n",
       "    }\n",
       "</style>\n",
       "<table border=\"1\" class=\"dataframe\">\n",
       "  <thead>\n",
       "    <tr style=\"text-align: right;\">\n",
       "      <th></th>\n",
       "      <th>0</th>\n",
       "      <th>1</th>\n",
       "      <th>2</th>\n",
       "      <th>3</th>\n",
       "      <th>4</th>\n",
       "    </tr>\n",
       "  </thead>\n",
       "  <tbody>\n",
       "    <tr>\n",
       "      <th>0</th>\n",
       "      <td>44</td>\n",
       "      <td>213</td>\n",
       "      <td>257</td>\n",
       "      <td>29</td>\n",
       "      <td>146</td>\n",
       "    </tr>\n",
       "    <tr>\n",
       "      <th>15</th>\n",
       "      <td>137</td>\n",
       "      <td>147</td>\n",
       "      <td>214</td>\n",
       "      <td>217</td>\n",
       "      <td>56</td>\n",
       "    </tr>\n",
       "    <tr>\n",
       "      <th>11</th>\n",
       "      <td>7</td>\n",
       "      <td>177</td>\n",
       "      <td>230</td>\n",
       "      <td>195</td>\n",
       "      <td>27</td>\n",
       "    </tr>\n",
       "  </tbody>\n",
       "</table>\n",
       "</div>"
      ],
      "text/plain": [
       "      0    1    2    3    4\n",
       "0    44  213  257   29  146\n",
       "15  137  147  214  217   56\n",
       "11    7  177  230  195   27"
      ]
     },
     "execution_count": 64,
     "metadata": {},
     "output_type": "execute_result"
    }
   ],
   "source": [
    "df2.sample(3)"
   ]
  },
  {
   "cell_type": "code",
   "execution_count": 59,
   "id": "1461309a",
   "metadata": {
    "scrolled": false
   },
   "outputs": [
    {
     "data": {
      "text/html": [
       "<div>\n",
       "<style scoped>\n",
       "    .dataframe tbody tr th:only-of-type {\n",
       "        vertical-align: middle;\n",
       "    }\n",
       "\n",
       "    .dataframe tbody tr th {\n",
       "        vertical-align: top;\n",
       "    }\n",
       "\n",
       "    .dataframe thead th {\n",
       "        text-align: right;\n",
       "    }\n",
       "</style>\n",
       "<table border=\"1\" class=\"dataframe\">\n",
       "  <thead>\n",
       "    <tr style=\"text-align: right;\">\n",
       "      <th></th>\n",
       "      <th>0</th>\n",
       "      <th>1</th>\n",
       "      <th>2</th>\n",
       "      <th>3</th>\n",
       "      <th>4</th>\n",
       "    </tr>\n",
       "  </thead>\n",
       "  <tbody>\n",
       "    <tr>\n",
       "      <th>0</th>\n",
       "      <td>44</td>\n",
       "      <td>213</td>\n",
       "      <td>257</td>\n",
       "      <td>29</td>\n",
       "      <td>146</td>\n",
       "    </tr>\n",
       "    <tr>\n",
       "      <th>1</th>\n",
       "      <td>72</td>\n",
       "      <td>275</td>\n",
       "      <td>124</td>\n",
       "      <td>269</td>\n",
       "      <td>184</td>\n",
       "    </tr>\n",
       "    <tr>\n",
       "      <th>2</th>\n",
       "      <td>154</td>\n",
       "      <td>266</td>\n",
       "      <td>267</td>\n",
       "      <td>271</td>\n",
       "      <td>181</td>\n",
       "    </tr>\n",
       "    <tr>\n",
       "      <th>3</th>\n",
       "      <td>14</td>\n",
       "      <td>186</td>\n",
       "      <td>174</td>\n",
       "      <td>223</td>\n",
       "      <td>195</td>\n",
       "    </tr>\n",
       "    <tr>\n",
       "      <th>4</th>\n",
       "      <td>142</td>\n",
       "      <td>129</td>\n",
       "      <td>29</td>\n",
       "      <td>164</td>\n",
       "      <td>224</td>\n",
       "    </tr>\n",
       "    <tr>\n",
       "      <th>5</th>\n",
       "      <td>73</td>\n",
       "      <td>27</td>\n",
       "      <td>217</td>\n",
       "      <td>65</td>\n",
       "      <td>235</td>\n",
       "    </tr>\n",
       "    <tr>\n",
       "      <th>6</th>\n",
       "      <td>186</td>\n",
       "      <td>147</td>\n",
       "      <td>125</td>\n",
       "      <td>275</td>\n",
       "      <td>108</td>\n",
       "    </tr>\n",
       "    <tr>\n",
       "      <th>7</th>\n",
       "      <td>10</td>\n",
       "      <td>111</td>\n",
       "      <td>151</td>\n",
       "      <td>39</td>\n",
       "      <td>167</td>\n",
       "    </tr>\n",
       "    <tr>\n",
       "      <th>8</th>\n",
       "      <td>176</td>\n",
       "      <td>177</td>\n",
       "      <td>176</td>\n",
       "      <td>189</td>\n",
       "      <td>164</td>\n",
       "    </tr>\n",
       "    <tr>\n",
       "      <th>9</th>\n",
       "      <td>184</td>\n",
       "      <td>249</td>\n",
       "      <td>87</td>\n",
       "      <td>64</td>\n",
       "      <td>182</td>\n",
       "    </tr>\n",
       "    <tr>\n",
       "      <th>10</th>\n",
       "      <td>248</td>\n",
       "      <td>132</td>\n",
       "      <td>139</td>\n",
       "      <td>80</td>\n",
       "      <td>161</td>\n",
       "    </tr>\n",
       "    <tr>\n",
       "      <th>11</th>\n",
       "      <td>7</td>\n",
       "      <td>177</td>\n",
       "      <td>230</td>\n",
       "      <td>195</td>\n",
       "      <td>27</td>\n",
       "    </tr>\n",
       "    <tr>\n",
       "      <th>12</th>\n",
       "      <td>221</td>\n",
       "      <td>23</td>\n",
       "      <td>209</td>\n",
       "      <td>50</td>\n",
       "      <td>90</td>\n",
       "    </tr>\n",
       "    <tr>\n",
       "      <th>13</th>\n",
       "      <td>36</td>\n",
       "      <td>104</td>\n",
       "      <td>119</td>\n",
       "      <td>240</td>\n",
       "      <td>189</td>\n",
       "    </tr>\n",
       "    <tr>\n",
       "      <th>14</th>\n",
       "      <td>57</td>\n",
       "      <td>239</td>\n",
       "      <td>131</td>\n",
       "      <td>130</td>\n",
       "      <td>30</td>\n",
       "    </tr>\n",
       "    <tr>\n",
       "      <th>15</th>\n",
       "      <td>137</td>\n",
       "      <td>147</td>\n",
       "      <td>214</td>\n",
       "      <td>217</td>\n",
       "      <td>56</td>\n",
       "    </tr>\n",
       "    <tr>\n",
       "      <th>16</th>\n",
       "      <td>179</td>\n",
       "      <td>257</td>\n",
       "      <td>216</td>\n",
       "      <td>176</td>\n",
       "      <td>233</td>\n",
       "    </tr>\n",
       "    <tr>\n",
       "      <th>17</th>\n",
       "      <td>163</td>\n",
       "      <td>17</td>\n",
       "      <td>197</td>\n",
       "      <td>55</td>\n",
       "      <td>122</td>\n",
       "    </tr>\n",
       "    <tr>\n",
       "      <th>18</th>\n",
       "      <td>90</td>\n",
       "      <td>66</td>\n",
       "      <td>269</td>\n",
       "      <td>105</td>\n",
       "      <td>26</td>\n",
       "    </tr>\n",
       "    <tr>\n",
       "      <th>19</th>\n",
       "      <td>92</td>\n",
       "      <td>175</td>\n",
       "      <td>251</td>\n",
       "      <td>298</td>\n",
       "      <td>7</td>\n",
       "    </tr>\n",
       "  </tbody>\n",
       "</table>\n",
       "</div>"
      ],
      "text/plain": [
       "      0    1    2    3    4\n",
       "0    44  213  257   29  146\n",
       "1    72  275  124  269  184\n",
       "2   154  266  267  271  181\n",
       "3    14  186  174  223  195\n",
       "4   142  129   29  164  224\n",
       "5    73   27  217   65  235\n",
       "6   186  147  125  275  108\n",
       "7    10  111  151   39  167\n",
       "8   176  177  176  189  164\n",
       "9   184  249   87   64  182\n",
       "10  248  132  139   80  161\n",
       "11    7  177  230  195   27\n",
       "12  221   23  209   50   90\n",
       "13   36  104  119  240  189\n",
       "14   57  239  131  130   30\n",
       "15  137  147  214  217   56\n",
       "16  179  257  216  176  233\n",
       "17  163   17  197   55  122\n",
       "18   90   66  269  105   26\n",
       "19   92  175  251  298    7"
      ]
     },
     "execution_count": 59,
     "metadata": {},
     "output_type": "execute_result"
    }
   ],
   "source": [
    "df2"
   ]
  },
  {
   "cell_type": "markdown",
   "id": "1d4be886",
   "metadata": {},
   "source": [
    "# 행단위 열단위로 데이타 추가\n",
    "\n",
    "- 컬럼추가 \n",
    "```\n",
    "데이타프레임[새로운컬럼명] = 리스트/넘파이배열/range()/기존컬럼을이용한계산식  \n",
    "```\n",
    "\n",
    "- 행추가 \n",
    "```\n",
    "데이타프레임.loc[새로운행명] = 리스트/넘파이배열/range()\n",
    "```"
   ]
  },
  {
   "cell_type": "code",
   "execution_count": 68,
   "id": "8e471afd",
   "metadata": {},
   "outputs": [
    {
     "data": {
      "text/html": [
       "<div>\n",
       "<style scoped>\n",
       "    .dataframe tbody tr th:only-of-type {\n",
       "        vertical-align: middle;\n",
       "    }\n",
       "\n",
       "    .dataframe tbody tr th {\n",
       "        vertical-align: top;\n",
       "    }\n",
       "\n",
       "    .dataframe thead th {\n",
       "        text-align: right;\n",
       "    }\n",
       "</style>\n",
       "<table border=\"1\" class=\"dataframe\">\n",
       "  <thead>\n",
       "    <tr style=\"text-align: right;\">\n",
       "      <th></th>\n",
       "      <th>name</th>\n",
       "      <th>year</th>\n",
       "      <th>points</th>\n",
       "      <th>penalty</th>\n",
       "    </tr>\n",
       "  </thead>\n",
       "  <tbody>\n",
       "    <tr>\n",
       "      <th>one</th>\n",
       "      <td>Haidi</td>\n",
       "      <td>2014</td>\n",
       "      <td>1.5</td>\n",
       "      <td>1</td>\n",
       "    </tr>\n",
       "    <tr>\n",
       "      <th>two</th>\n",
       "      <td>Haidi</td>\n",
       "      <td>2015</td>\n",
       "      <td>1.7</td>\n",
       "      <td>2</td>\n",
       "    </tr>\n",
       "    <tr>\n",
       "      <th>three</th>\n",
       "      <td>Haidi</td>\n",
       "      <td>2016</td>\n",
       "      <td>3.6</td>\n",
       "      <td>3</td>\n",
       "    </tr>\n",
       "    <tr>\n",
       "      <th>four</th>\n",
       "      <td>Charles</td>\n",
       "      <td>2015</td>\n",
       "      <td>2.5</td>\n",
       "      <td>4</td>\n",
       "    </tr>\n",
       "    <tr>\n",
       "      <th>five</th>\n",
       "      <td>Charles</td>\n",
       "      <td>2017</td>\n",
       "      <td>2.9</td>\n",
       "      <td>5</td>\n",
       "    </tr>\n",
       "  </tbody>\n",
       "</table>\n",
       "</div>"
      ],
      "text/plain": [
       "          name  year  points  penalty\n",
       "one      Haidi  2014     1.5        1\n",
       "two      Haidi  2015     1.7        2\n",
       "three    Haidi  2016     3.6        3\n",
       "four   Charles  2015     2.5        4\n",
       "five   Charles  2017     2.9        5"
      ]
     },
     "execution_count": 68,
     "metadata": {},
     "output_type": "execute_result"
    }
   ],
   "source": [
    "data = { \"name\":[\"Haidi\", \"Haidi\", \"Haidi\", \"Charles\", \"Charles\"],\n",
    "        \"year\":[2014, 2015, 2016, 2015, 2017],\n",
    "        \"points\":[1.5, 1.7, 3.6, 2.5, 2.9], \n",
    "        \"penalty\":[1, 2, 3, 4, 5] }\n",
    "df3 = pd.DataFrame( data, \n",
    "                    index=[\"one\", \"two\", \"three\", \"four\", \"five\"])\n",
    "df3"
   ]
  },
  {
   "cell_type": "code",
   "execution_count": 69,
   "id": "46ca6d16",
   "metadata": {},
   "outputs": [
    {
     "data": {
      "text/html": [
       "<div>\n",
       "<style scoped>\n",
       "    .dataframe tbody tr th:only-of-type {\n",
       "        vertical-align: middle;\n",
       "    }\n",
       "\n",
       "    .dataframe tbody tr th {\n",
       "        vertical-align: top;\n",
       "    }\n",
       "\n",
       "    .dataframe thead th {\n",
       "        text-align: right;\n",
       "    }\n",
       "</style>\n",
       "<table border=\"1\" class=\"dataframe\">\n",
       "  <thead>\n",
       "    <tr style=\"text-align: right;\">\n",
       "      <th></th>\n",
       "      <th>name</th>\n",
       "      <th>year</th>\n",
       "      <th>points</th>\n",
       "      <th>penalty</th>\n",
       "      <th>id</th>\n",
       "    </tr>\n",
       "  </thead>\n",
       "  <tbody>\n",
       "    <tr>\n",
       "      <th>one</th>\n",
       "      <td>Haidi</td>\n",
       "      <td>2014</td>\n",
       "      <td>1.5</td>\n",
       "      <td>1</td>\n",
       "      <td>10</td>\n",
       "    </tr>\n",
       "    <tr>\n",
       "      <th>two</th>\n",
       "      <td>Haidi</td>\n",
       "      <td>2015</td>\n",
       "      <td>1.7</td>\n",
       "      <td>2</td>\n",
       "      <td>10</td>\n",
       "    </tr>\n",
       "    <tr>\n",
       "      <th>three</th>\n",
       "      <td>Haidi</td>\n",
       "      <td>2016</td>\n",
       "      <td>3.6</td>\n",
       "      <td>3</td>\n",
       "      <td>10</td>\n",
       "    </tr>\n",
       "    <tr>\n",
       "      <th>four</th>\n",
       "      <td>Charles</td>\n",
       "      <td>2015</td>\n",
       "      <td>2.5</td>\n",
       "      <td>4</td>\n",
       "      <td>10</td>\n",
       "    </tr>\n",
       "    <tr>\n",
       "      <th>five</th>\n",
       "      <td>Charles</td>\n",
       "      <td>2017</td>\n",
       "      <td>2.9</td>\n",
       "      <td>5</td>\n",
       "      <td>10</td>\n",
       "    </tr>\n",
       "  </tbody>\n",
       "</table>\n",
       "</div>"
      ],
      "text/plain": [
       "          name  year  points  penalty  id\n",
       "one      Haidi  2014     1.5        1  10\n",
       "two      Haidi  2015     1.7        2  10\n",
       "three    Haidi  2016     3.6        3  10\n",
       "four   Charles  2015     2.5        4  10\n",
       "five   Charles  2017     2.9        5  10"
      ]
     },
     "execution_count": 69,
     "metadata": {},
     "output_type": "execute_result"
    }
   ],
   "source": [
    "# 컬럼 추가 \n",
    "df3['id'] = 10\n",
    "df3"
   ]
  },
  {
   "cell_type": "code",
   "execution_count": 71,
   "id": "20d67222",
   "metadata": {},
   "outputs": [
    {
     "data": {
      "text/html": [
       "<div>\n",
       "<style scoped>\n",
       "    .dataframe tbody tr th:only-of-type {\n",
       "        vertical-align: middle;\n",
       "    }\n",
       "\n",
       "    .dataframe tbody tr th {\n",
       "        vertical-align: top;\n",
       "    }\n",
       "\n",
       "    .dataframe thead th {\n",
       "        text-align: right;\n",
       "    }\n",
       "</style>\n",
       "<table border=\"1\" class=\"dataframe\">\n",
       "  <thead>\n",
       "    <tr style=\"text-align: right;\">\n",
       "      <th></th>\n",
       "      <th>name</th>\n",
       "      <th>year</th>\n",
       "      <th>points</th>\n",
       "      <th>penalty</th>\n",
       "      <th>id</th>\n",
       "      <th>addr</th>\n",
       "    </tr>\n",
       "  </thead>\n",
       "  <tbody>\n",
       "    <tr>\n",
       "      <th>one</th>\n",
       "      <td>Haidi</td>\n",
       "      <td>2014</td>\n",
       "      <td>1.5</td>\n",
       "      <td>1</td>\n",
       "      <td>10</td>\n",
       "      <td>LA</td>\n",
       "    </tr>\n",
       "    <tr>\n",
       "      <th>two</th>\n",
       "      <td>Haidi</td>\n",
       "      <td>2015</td>\n",
       "      <td>1.7</td>\n",
       "      <td>2</td>\n",
       "      <td>10</td>\n",
       "      <td>LA</td>\n",
       "    </tr>\n",
       "    <tr>\n",
       "      <th>three</th>\n",
       "      <td>Haidi</td>\n",
       "      <td>2016</td>\n",
       "      <td>3.6</td>\n",
       "      <td>3</td>\n",
       "      <td>10</td>\n",
       "      <td>LA</td>\n",
       "    </tr>\n",
       "    <tr>\n",
       "      <th>four</th>\n",
       "      <td>Charles</td>\n",
       "      <td>2015</td>\n",
       "      <td>2.5</td>\n",
       "      <td>4</td>\n",
       "      <td>10</td>\n",
       "      <td>Hawaii</td>\n",
       "    </tr>\n",
       "    <tr>\n",
       "      <th>five</th>\n",
       "      <td>Charles</td>\n",
       "      <td>2017</td>\n",
       "      <td>2.9</td>\n",
       "      <td>5</td>\n",
       "      <td>10</td>\n",
       "      <td>WC</td>\n",
       "    </tr>\n",
       "  </tbody>\n",
       "</table>\n",
       "</div>"
      ],
      "text/plain": [
       "          name  year  points  penalty  id    addr\n",
       "one      Haidi  2014     1.5        1  10      LA\n",
       "two      Haidi  2015     1.7        2  10      LA\n",
       "three    Haidi  2016     3.6        3  10      LA\n",
       "four   Charles  2015     2.5        4  10  Hawaii\n",
       "five   Charles  2017     2.9        5  10      WC"
      ]
     },
     "execution_count": 71,
     "metadata": {},
     "output_type": "execute_result"
    }
   ],
   "source": [
    "# 길이 유의 \n",
    "df3['addr'] = ['LA', 'LA', 'LA', 'Hawaii', 'WC', ]\n",
    "df3"
   ]
  },
  {
   "cell_type": "code",
   "execution_count": 74,
   "id": "feddcccd",
   "metadata": {},
   "outputs": [
    {
     "data": {
      "text/html": [
       "<div>\n",
       "<style scoped>\n",
       "    .dataframe tbody tr th:only-of-type {\n",
       "        vertical-align: middle;\n",
       "    }\n",
       "\n",
       "    .dataframe tbody tr th {\n",
       "        vertical-align: top;\n",
       "    }\n",
       "\n",
       "    .dataframe thead th {\n",
       "        text-align: right;\n",
       "    }\n",
       "</style>\n",
       "<table border=\"1\" class=\"dataframe\">\n",
       "  <thead>\n",
       "    <tr style=\"text-align: right;\">\n",
       "      <th></th>\n",
       "      <th>name</th>\n",
       "      <th>year</th>\n",
       "      <th>points</th>\n",
       "      <th>penalty</th>\n",
       "      <th>id</th>\n",
       "      <th>addr</th>\n",
       "      <th>bonus</th>\n",
       "    </tr>\n",
       "  </thead>\n",
       "  <tbody>\n",
       "    <tr>\n",
       "      <th>one</th>\n",
       "      <td>Haidi</td>\n",
       "      <td>2014</td>\n",
       "      <td>1.5</td>\n",
       "      <td>1</td>\n",
       "      <td>10</td>\n",
       "      <td>LA</td>\n",
       "      <td>150.0</td>\n",
       "    </tr>\n",
       "    <tr>\n",
       "      <th>two</th>\n",
       "      <td>Haidi</td>\n",
       "      <td>2015</td>\n",
       "      <td>1.7</td>\n",
       "      <td>2</td>\n",
       "      <td>10</td>\n",
       "      <td>LA</td>\n",
       "      <td>170.0</td>\n",
       "    </tr>\n",
       "    <tr>\n",
       "      <th>three</th>\n",
       "      <td>Haidi</td>\n",
       "      <td>2016</td>\n",
       "      <td>3.6</td>\n",
       "      <td>3</td>\n",
       "      <td>10</td>\n",
       "      <td>LA</td>\n",
       "      <td>360.0</td>\n",
       "    </tr>\n",
       "    <tr>\n",
       "      <th>four</th>\n",
       "      <td>Charles</td>\n",
       "      <td>2015</td>\n",
       "      <td>2.5</td>\n",
       "      <td>4</td>\n",
       "      <td>10</td>\n",
       "      <td>Hawaii</td>\n",
       "      <td>250.0</td>\n",
       "    </tr>\n",
       "    <tr>\n",
       "      <th>five</th>\n",
       "      <td>Charles</td>\n",
       "      <td>2017</td>\n",
       "      <td>2.9</td>\n",
       "      <td>5</td>\n",
       "      <td>10</td>\n",
       "      <td>WC</td>\n",
       "      <td>290.0</td>\n",
       "    </tr>\n",
       "  </tbody>\n",
       "</table>\n",
       "</div>"
      ],
      "text/plain": [
       "          name  year  points  penalty  id    addr  bonus\n",
       "one      Haidi  2014     1.5        1  10      LA  150.0\n",
       "two      Haidi  2015     1.7        2  10      LA  170.0\n",
       "three    Haidi  2016     3.6        3  10      LA  360.0\n",
       "four   Charles  2015     2.5        4  10  Hawaii  250.0\n",
       "five   Charles  2017     2.9        5  10      WC  290.0"
      ]
     },
     "execution_count": 74,
     "metadata": {},
     "output_type": "execute_result"
    }
   ],
   "source": [
    "# 기존 컬럼과 계산식 이용 \n",
    "df3['bonus'] = df3['points']*100\n",
    "df3"
   ]
  },
  {
   "cell_type": "code",
   "execution_count": 75,
   "id": "e1e104e1",
   "metadata": {},
   "outputs": [
    {
     "data": {
      "text/html": [
       "<div>\n",
       "<style scoped>\n",
       "    .dataframe tbody tr th:only-of-type {\n",
       "        vertical-align: middle;\n",
       "    }\n",
       "\n",
       "    .dataframe tbody tr th {\n",
       "        vertical-align: top;\n",
       "    }\n",
       "\n",
       "    .dataframe thead th {\n",
       "        text-align: right;\n",
       "    }\n",
       "</style>\n",
       "<table border=\"1\" class=\"dataframe\">\n",
       "  <thead>\n",
       "    <tr style=\"text-align: right;\">\n",
       "      <th></th>\n",
       "      <th>name</th>\n",
       "      <th>year</th>\n",
       "      <th>points</th>\n",
       "      <th>penalty</th>\n",
       "      <th>id</th>\n",
       "      <th>addr</th>\n",
       "      <th>bonus</th>\n",
       "    </tr>\n",
       "  </thead>\n",
       "  <tbody>\n",
       "    <tr>\n",
       "      <th>one</th>\n",
       "      <td>Haidi</td>\n",
       "      <td>2014</td>\n",
       "      <td>1.5</td>\n",
       "      <td>1</td>\n",
       "      <td>10</td>\n",
       "      <td>LA</td>\n",
       "      <td>150.0</td>\n",
       "    </tr>\n",
       "    <tr>\n",
       "      <th>two</th>\n",
       "      <td>Haidi</td>\n",
       "      <td>2015</td>\n",
       "      <td>1.7</td>\n",
       "      <td>2</td>\n",
       "      <td>10</td>\n",
       "      <td>LA</td>\n",
       "      <td>170.0</td>\n",
       "    </tr>\n",
       "    <tr>\n",
       "      <th>three</th>\n",
       "      <td>Haidi</td>\n",
       "      <td>2016</td>\n",
       "      <td>3.6</td>\n",
       "      <td>3</td>\n",
       "      <td>10</td>\n",
       "      <td>LA</td>\n",
       "      <td>360.0</td>\n",
       "    </tr>\n",
       "    <tr>\n",
       "      <th>four</th>\n",
       "      <td>Charles</td>\n",
       "      <td>2015</td>\n",
       "      <td>2.5</td>\n",
       "      <td>4</td>\n",
       "      <td>10</td>\n",
       "      <td>Hawaii</td>\n",
       "      <td>250.0</td>\n",
       "    </tr>\n",
       "    <tr>\n",
       "      <th>five</th>\n",
       "      <td>Charles</td>\n",
       "      <td>2017</td>\n",
       "      <td>2.9</td>\n",
       "      <td>5</td>\n",
       "      <td>10</td>\n",
       "      <td>WC</td>\n",
       "      <td>290.0</td>\n",
       "    </tr>\n",
       "    <tr>\n",
       "      <th>six</th>\n",
       "      <td>Charles</td>\n",
       "      <td>2017</td>\n",
       "      <td>3.3</td>\n",
       "      <td>6</td>\n",
       "      <td>30</td>\n",
       "      <td>WC</td>\n",
       "      <td>290.0</td>\n",
       "    </tr>\n",
       "  </tbody>\n",
       "</table>\n",
       "</div>"
      ],
      "text/plain": [
       "          name  year  points  penalty  id    addr  bonus\n",
       "one      Haidi  2014     1.5        1  10      LA  150.0\n",
       "two      Haidi  2015     1.7        2  10      LA  170.0\n",
       "three    Haidi  2016     3.6        3  10      LA  360.0\n",
       "four   Charles  2015     2.5        4  10  Hawaii  250.0\n",
       "five   Charles  2017     2.9        5  10      WC  290.0\n",
       "six    Charles  2017     3.3        6  30      WC  290.0"
      ]
     },
     "execution_count": 75,
     "metadata": {},
     "output_type": "execute_result"
    }
   ],
   "source": [
    "# 행추가 \n",
    "df3.loc['six'] = ['Charles', 2017, 3.3, 6, 30, 'WC', 290.0]\n",
    "df3"
   ]
  },
  {
   "cell_type": "code",
   "execution_count": 77,
   "id": "f1bed58a",
   "metadata": {},
   "outputs": [
    {
     "data": {
      "text/plain": [
       "name        object\n",
       "year         int64\n",
       "points     float64\n",
       "penalty      int64\n",
       "id           int64\n",
       "addr        object\n",
       "bonus      float64\n",
       "dtype: object"
      ]
     },
     "execution_count": 77,
     "metadata": {},
     "output_type": "execute_result"
    }
   ],
   "source": [
    "df3.dtypes"
   ]
  },
  {
   "cell_type": "code",
   "execution_count": 78,
   "id": "ea126684",
   "metadata": {},
   "outputs": [
    {
     "data": {
      "text/html": [
       "<div>\n",
       "<style scoped>\n",
       "    .dataframe tbody tr th:only-of-type {\n",
       "        vertical-align: middle;\n",
       "    }\n",
       "\n",
       "    .dataframe tbody tr th {\n",
       "        vertical-align: top;\n",
       "    }\n",
       "\n",
       "    .dataframe thead th {\n",
       "        text-align: right;\n",
       "    }\n",
       "</style>\n",
       "<table border=\"1\" class=\"dataframe\">\n",
       "  <thead>\n",
       "    <tr style=\"text-align: right;\">\n",
       "      <th></th>\n",
       "      <th>name</th>\n",
       "      <th>year</th>\n",
       "      <th>points</th>\n",
       "      <th>penalty</th>\n",
       "      <th>id</th>\n",
       "      <th>addr</th>\n",
       "      <th>bonus</th>\n",
       "    </tr>\n",
       "  </thead>\n",
       "  <tbody>\n",
       "    <tr>\n",
       "      <th>one</th>\n",
       "      <td>Haidi</td>\n",
       "      <td>2014</td>\n",
       "      <td>1.5</td>\n",
       "      <td>1</td>\n",
       "      <td>10</td>\n",
       "      <td>LA</td>\n",
       "      <td>150.0</td>\n",
       "    </tr>\n",
       "    <tr>\n",
       "      <th>two</th>\n",
       "      <td>Haidi</td>\n",
       "      <td>2015</td>\n",
       "      <td>1.7</td>\n",
       "      <td>2</td>\n",
       "      <td>10</td>\n",
       "      <td>LA</td>\n",
       "      <td>170.0</td>\n",
       "    </tr>\n",
       "    <tr>\n",
       "      <th>three</th>\n",
       "      <td>Haidi</td>\n",
       "      <td>2016</td>\n",
       "      <td>3.6</td>\n",
       "      <td>3</td>\n",
       "      <td>10</td>\n",
       "      <td>LA</td>\n",
       "      <td>360.0</td>\n",
       "    </tr>\n",
       "    <tr>\n",
       "      <th>four</th>\n",
       "      <td>Charles</td>\n",
       "      <td>2015</td>\n",
       "      <td>2.5</td>\n",
       "      <td>4</td>\n",
       "      <td>10</td>\n",
       "      <td>Hawaii</td>\n",
       "      <td>250.0</td>\n",
       "    </tr>\n",
       "    <tr>\n",
       "      <th>five</th>\n",
       "      <td>Charles</td>\n",
       "      <td>2017</td>\n",
       "      <td>2.9</td>\n",
       "      <td>5</td>\n",
       "      <td>10</td>\n",
       "      <td>WC</td>\n",
       "      <td>290.0</td>\n",
       "    </tr>\n",
       "    <tr>\n",
       "      <th>six</th>\n",
       "      <td>Charles</td>\n",
       "      <td>2017</td>\n",
       "      <td>3.3</td>\n",
       "      <td>6</td>\n",
       "      <td>30</td>\n",
       "      <td>WC</td>\n",
       "      <td>290.0</td>\n",
       "    </tr>\n",
       "    <tr>\n",
       "      <th>seven</th>\n",
       "      <td>True</td>\n",
       "      <td>2017</td>\n",
       "      <td>3.3</td>\n",
       "      <td>6</td>\n",
       "      <td>30</td>\n",
       "      <td>WC</td>\n",
       "      <td>290.0</td>\n",
       "    </tr>\n",
       "  </tbody>\n",
       "</table>\n",
       "</div>"
      ],
      "text/plain": [
       "          name  year  points  penalty  id    addr  bonus\n",
       "one      Haidi  2014     1.5        1  10      LA  150.0\n",
       "two      Haidi  2015     1.7        2  10      LA  170.0\n",
       "three    Haidi  2016     3.6        3  10      LA  360.0\n",
       "four   Charles  2015     2.5        4  10  Hawaii  250.0\n",
       "five   Charles  2017     2.9        5  10      WC  290.0\n",
       "six    Charles  2017     3.3        6  30      WC  290.0\n",
       "seven     True  2017     3.3        6  30      WC  290.0"
      ]
     },
     "execution_count": 78,
     "metadata": {},
     "output_type": "execute_result"
    }
   ],
   "source": [
    "# ValueError - 길이 주의 \n",
    "df3.loc['seven'] = [True, 2017, 3.3, 6, 30, 'WC', 290.0]\n",
    "df3"
   ]
  },
  {
   "cell_type": "code",
   "execution_count": 79,
   "id": "e816f090",
   "metadata": {},
   "outputs": [
    {
     "data": {
      "text/html": [
       "<div>\n",
       "<style scoped>\n",
       "    .dataframe tbody tr th:only-of-type {\n",
       "        vertical-align: middle;\n",
       "    }\n",
       "\n",
       "    .dataframe tbody tr th {\n",
       "        vertical-align: top;\n",
       "    }\n",
       "\n",
       "    .dataframe thead th {\n",
       "        text-align: right;\n",
       "    }\n",
       "</style>\n",
       "<table border=\"1\" class=\"dataframe\">\n",
       "  <thead>\n",
       "    <tr style=\"text-align: right;\">\n",
       "      <th></th>\n",
       "      <th>name</th>\n",
       "      <th>year</th>\n",
       "      <th>points</th>\n",
       "      <th>penalty</th>\n",
       "      <th>id</th>\n",
       "      <th>addr</th>\n",
       "      <th>bonus</th>\n",
       "    </tr>\n",
       "  </thead>\n",
       "  <tbody>\n",
       "    <tr>\n",
       "      <th>one</th>\n",
       "      <td>Haidi</td>\n",
       "      <td>2014</td>\n",
       "      <td>1.5</td>\n",
       "      <td>1</td>\n",
       "      <td>10</td>\n",
       "      <td>LA</td>\n",
       "      <td>150.0</td>\n",
       "    </tr>\n",
       "    <tr>\n",
       "      <th>two</th>\n",
       "      <td>Haidi</td>\n",
       "      <td>2015</td>\n",
       "      <td>1.7</td>\n",
       "      <td>2</td>\n",
       "      <td>10</td>\n",
       "      <td>LA</td>\n",
       "      <td>170.0</td>\n",
       "    </tr>\n",
       "    <tr>\n",
       "      <th>three</th>\n",
       "      <td>Haidi</td>\n",
       "      <td>2016</td>\n",
       "      <td>3.6</td>\n",
       "      <td>3</td>\n",
       "      <td>10</td>\n",
       "      <td>LA</td>\n",
       "      <td>360.0</td>\n",
       "    </tr>\n",
       "    <tr>\n",
       "      <th>four</th>\n",
       "      <td>Charles</td>\n",
       "      <td>2015</td>\n",
       "      <td>2.5</td>\n",
       "      <td>4</td>\n",
       "      <td>10</td>\n",
       "      <td>Hawaii</td>\n",
       "      <td>250.0</td>\n",
       "    </tr>\n",
       "    <tr>\n",
       "      <th>five</th>\n",
       "      <td>Charles</td>\n",
       "      <td>2017</td>\n",
       "      <td>2.9</td>\n",
       "      <td>5</td>\n",
       "      <td>10</td>\n",
       "      <td>WC</td>\n",
       "      <td>290.0</td>\n",
       "    </tr>\n",
       "    <tr>\n",
       "      <th>six</th>\n",
       "      <td>Charles</td>\n",
       "      <td>2017</td>\n",
       "      <td>3.3</td>\n",
       "      <td>6</td>\n",
       "      <td>30</td>\n",
       "      <td>WC</td>\n",
       "      <td>290.0</td>\n",
       "    </tr>\n",
       "    <tr>\n",
       "      <th>seven</th>\n",
       "      <td>True</td>\n",
       "      <td>2017</td>\n",
       "      <td>3.3</td>\n",
       "      <td>6</td>\n",
       "      <td>30</td>\n",
       "      <td>WC</td>\n",
       "      <td>290.0</td>\n",
       "    </tr>\n",
       "    <tr>\n",
       "      <th>eight</th>\n",
       "      <td>Haidi</td>\n",
       "      <td>2020년</td>\n",
       "      <td>3.3</td>\n",
       "      <td>6</td>\n",
       "      <td>30</td>\n",
       "      <td>WC</td>\n",
       "      <td>290.0</td>\n",
       "    </tr>\n",
       "  </tbody>\n",
       "</table>\n",
       "</div>"
      ],
      "text/plain": [
       "          name   year  points  penalty  id    addr  bonus\n",
       "one      Haidi   2014     1.5        1  10      LA  150.0\n",
       "two      Haidi   2015     1.7        2  10      LA  170.0\n",
       "three    Haidi   2016     3.6        3  10      LA  360.0\n",
       "four   Charles   2015     2.5        4  10  Hawaii  250.0\n",
       "five   Charles   2017     2.9        5  10      WC  290.0\n",
       "six    Charles   2017     3.3        6  30      WC  290.0\n",
       "seven     True   2017     3.3        6  30      WC  290.0\n",
       "eight    Haidi  2020년     3.3        6  30      WC  290.0"
      ]
     },
     "execution_count": 79,
     "metadata": {},
     "output_type": "execute_result"
    }
   ],
   "source": [
    "# 자료형 테스트 \n",
    "df3.loc['eight'] = ['Haidi', '2020년', 3.3, 6, 30, 'WC', 290.0]\n",
    "df3"
   ]
  },
  {
   "cell_type": "code",
   "execution_count": 80,
   "id": "248fd179",
   "metadata": {},
   "outputs": [
    {
     "data": {
      "text/plain": [
       "name        object\n",
       "year        object\n",
       "points     float64\n",
       "penalty      int64\n",
       "id           int64\n",
       "addr        object\n",
       "bonus      float64\n",
       "dtype: object"
      ]
     },
     "execution_count": 80,
     "metadata": {},
     "output_type": "execute_result"
    }
   ],
   "source": [
    "df3.dtypes"
   ]
  },
  {
   "cell_type": "code",
   "execution_count": 84,
   "id": "555e5a8b",
   "metadata": {},
   "outputs": [],
   "source": [
    "# 테스트 : iloc 로 행 삽입이 가능할까?\n",
    "# IndexError => x\n",
    "# df3.iloc[8] = ['Haidi', '2020년', 3.3, 6, 30, 'WC', 290.0]\n",
    "# df3"
   ]
  },
  {
   "cell_type": "code",
   "execution_count": 81,
   "id": "561baef4",
   "metadata": {},
   "outputs": [
    {
     "data": {
      "text/plain": [
       "(8, 7)"
      ]
     },
     "execution_count": 81,
     "metadata": {},
     "output_type": "execute_result"
    }
   ],
   "source": [
    "df3.shape"
   ]
  },
  {
   "cell_type": "markdown",
   "id": "721b2d33",
   "metadata": {},
   "source": [
    "# 기존 값 수정하기 \n",
    "\n",
    "```\n",
    "데이타프레임.loc[행명, 열명] = 새로운값\n",
    "데이타프레임.iloc[행인덱스, 열인덱스] = 새로운값\n",
    "\n",
    "\n",
    "```"
   ]
  },
  {
   "cell_type": "code",
   "execution_count": 87,
   "id": "bcf06b3d",
   "metadata": {},
   "outputs": [],
   "source": [
    "df3.loc['one', 'name'] = 'Julia'"
   ]
  },
  {
   "cell_type": "code",
   "execution_count": 90,
   "id": "41c4a755",
   "metadata": {},
   "outputs": [],
   "source": [
    "df3.iloc[-1, -1] = 500"
   ]
  },
  {
   "cell_type": "code",
   "execution_count": 92,
   "id": "be17e68c",
   "metadata": {},
   "outputs": [],
   "source": [
    "# 슬라이싱한 상태에서 값 교체 \n",
    "df3.loc['one':'three', 'penalty'] = -500"
   ]
  },
  {
   "cell_type": "code",
   "execution_count": 96,
   "id": "aeebda24",
   "metadata": {},
   "outputs": [
    {
     "data": {
      "text/plain": [
       "(8, 7)"
      ]
     },
     "execution_count": 96,
     "metadata": {},
     "output_type": "execute_result"
    }
   ],
   "source": [
    "df3.shape"
   ]
  },
  {
   "cell_type": "code",
   "execution_count": 100,
   "id": "535119e7",
   "metadata": {},
   "outputs": [
    {
     "data": {
      "text/plain": [
       "8"
      ]
     },
     "execution_count": 100,
     "metadata": {},
     "output_type": "execute_result"
    }
   ],
   "source": [
    "df3.shape[0]"
   ]
  },
  {
   "cell_type": "code",
   "execution_count": 103,
   "id": "cc9453b2",
   "metadata": {},
   "outputs": [
    {
     "data": {
      "text/plain": [
       "array([0, 1, 2, 3, 4, 5, 6, 7])"
      ]
     },
     "execution_count": 103,
     "metadata": {},
     "output_type": "execute_result"
    }
   ],
   "source": [
    "np.arange(0, df3.shape[0])"
   ]
  },
  {
   "cell_type": "code",
   "execution_count": 109,
   "id": "c2ef54d3",
   "metadata": {},
   "outputs": [],
   "source": [
    "# 특정 컬럼 전체의 값 교체 \n",
    "df3['id'] = np.arange(1, df3.shape[0]+1)*10"
   ]
  },
  {
   "cell_type": "code",
   "execution_count": 110,
   "id": "da31108e",
   "metadata": {},
   "outputs": [
    {
     "data": {
      "text/html": [
       "<div>\n",
       "<style scoped>\n",
       "    .dataframe tbody tr th:only-of-type {\n",
       "        vertical-align: middle;\n",
       "    }\n",
       "\n",
       "    .dataframe tbody tr th {\n",
       "        vertical-align: top;\n",
       "    }\n",
       "\n",
       "    .dataframe thead th {\n",
       "        text-align: right;\n",
       "    }\n",
       "</style>\n",
       "<table border=\"1\" class=\"dataframe\">\n",
       "  <thead>\n",
       "    <tr style=\"text-align: right;\">\n",
       "      <th></th>\n",
       "      <th>name</th>\n",
       "      <th>year</th>\n",
       "      <th>points</th>\n",
       "      <th>penalty</th>\n",
       "      <th>id</th>\n",
       "      <th>addr</th>\n",
       "      <th>bonus</th>\n",
       "    </tr>\n",
       "  </thead>\n",
       "  <tbody>\n",
       "    <tr>\n",
       "      <th>one</th>\n",
       "      <td>Julia</td>\n",
       "      <td>2014</td>\n",
       "      <td>1.5</td>\n",
       "      <td>-500</td>\n",
       "      <td>10</td>\n",
       "      <td>LA</td>\n",
       "      <td>150.0</td>\n",
       "    </tr>\n",
       "    <tr>\n",
       "      <th>two</th>\n",
       "      <td>Haidi</td>\n",
       "      <td>2015</td>\n",
       "      <td>1.7</td>\n",
       "      <td>-500</td>\n",
       "      <td>20</td>\n",
       "      <td>LA</td>\n",
       "      <td>170.0</td>\n",
       "    </tr>\n",
       "    <tr>\n",
       "      <th>three</th>\n",
       "      <td>Haidi</td>\n",
       "      <td>2016</td>\n",
       "      <td>3.6</td>\n",
       "      <td>-500</td>\n",
       "      <td>30</td>\n",
       "      <td>LA</td>\n",
       "      <td>360.0</td>\n",
       "    </tr>\n",
       "    <tr>\n",
       "      <th>four</th>\n",
       "      <td>Charles</td>\n",
       "      <td>2015</td>\n",
       "      <td>2.5</td>\n",
       "      <td>4</td>\n",
       "      <td>40</td>\n",
       "      <td>Hawaii</td>\n",
       "      <td>250.0</td>\n",
       "    </tr>\n",
       "    <tr>\n",
       "      <th>five</th>\n",
       "      <td>Charles</td>\n",
       "      <td>2017</td>\n",
       "      <td>2.9</td>\n",
       "      <td>5</td>\n",
       "      <td>50</td>\n",
       "      <td>WC</td>\n",
       "      <td>290.0</td>\n",
       "    </tr>\n",
       "    <tr>\n",
       "      <th>six</th>\n",
       "      <td>Charles</td>\n",
       "      <td>2017</td>\n",
       "      <td>3.3</td>\n",
       "      <td>6</td>\n",
       "      <td>60</td>\n",
       "      <td>WC</td>\n",
       "      <td>290.0</td>\n",
       "    </tr>\n",
       "    <tr>\n",
       "      <th>seven</th>\n",
       "      <td>True</td>\n",
       "      <td>2017</td>\n",
       "      <td>3.3</td>\n",
       "      <td>6</td>\n",
       "      <td>70</td>\n",
       "      <td>WC</td>\n",
       "      <td>290.0</td>\n",
       "    </tr>\n",
       "    <tr>\n",
       "      <th>eight</th>\n",
       "      <td>Haidi</td>\n",
       "      <td>2020년</td>\n",
       "      <td>3.3</td>\n",
       "      <td>6</td>\n",
       "      <td>80</td>\n",
       "      <td>WC</td>\n",
       "      <td>500.0</td>\n",
       "    </tr>\n",
       "  </tbody>\n",
       "</table>\n",
       "</div>"
      ],
      "text/plain": [
       "          name   year  points  penalty  id    addr  bonus\n",
       "one      Julia   2014     1.5     -500  10      LA  150.0\n",
       "two      Haidi   2015     1.7     -500  20      LA  170.0\n",
       "three    Haidi   2016     3.6     -500  30      LA  360.0\n",
       "four   Charles   2015     2.5        4  40  Hawaii  250.0\n",
       "five   Charles   2017     2.9        5  50      WC  290.0\n",
       "six    Charles   2017     3.3        6  60      WC  290.0\n",
       "seven     True   2017     3.3        6  70      WC  290.0\n",
       "eight    Haidi  2020년     3.3        6  80      WC  500.0"
      ]
     },
     "execution_count": 110,
     "metadata": {},
     "output_type": "execute_result"
    }
   ],
   "source": [
    "df3"
   ]
  },
  {
   "cell_type": "code",
   "execution_count": 86,
   "id": "3fa60e39",
   "metadata": {},
   "outputs": [
    {
     "data": {
      "text/html": [
       "<div>\n",
       "<style scoped>\n",
       "    .dataframe tbody tr th:only-of-type {\n",
       "        vertical-align: middle;\n",
       "    }\n",
       "\n",
       "    .dataframe tbody tr th {\n",
       "        vertical-align: top;\n",
       "    }\n",
       "\n",
       "    .dataframe thead th {\n",
       "        text-align: right;\n",
       "    }\n",
       "</style>\n",
       "<table border=\"1\" class=\"dataframe\">\n",
       "  <thead>\n",
       "    <tr style=\"text-align: right;\">\n",
       "      <th></th>\n",
       "      <th>name</th>\n",
       "      <th>year</th>\n",
       "      <th>points</th>\n",
       "      <th>penalty</th>\n",
       "      <th>id</th>\n",
       "      <th>addr</th>\n",
       "      <th>bonus</th>\n",
       "    </tr>\n",
       "  </thead>\n",
       "  <tbody>\n",
       "    <tr>\n",
       "      <th>one</th>\n",
       "      <td>Haidi</td>\n",
       "      <td>2014</td>\n",
       "      <td>1.5</td>\n",
       "      <td>1</td>\n",
       "      <td>10</td>\n",
       "      <td>LA</td>\n",
       "      <td>150.0</td>\n",
       "    </tr>\n",
       "    <tr>\n",
       "      <th>two</th>\n",
       "      <td>Haidi</td>\n",
       "      <td>2015</td>\n",
       "      <td>1.7</td>\n",
       "      <td>2</td>\n",
       "      <td>10</td>\n",
       "      <td>LA</td>\n",
       "      <td>170.0</td>\n",
       "    </tr>\n",
       "    <tr>\n",
       "      <th>three</th>\n",
       "      <td>Haidi</td>\n",
       "      <td>2016</td>\n",
       "      <td>3.6</td>\n",
       "      <td>3</td>\n",
       "      <td>10</td>\n",
       "      <td>LA</td>\n",
       "      <td>360.0</td>\n",
       "    </tr>\n",
       "    <tr>\n",
       "      <th>four</th>\n",
       "      <td>Charles</td>\n",
       "      <td>2015</td>\n",
       "      <td>2.5</td>\n",
       "      <td>4</td>\n",
       "      <td>10</td>\n",
       "      <td>Hawaii</td>\n",
       "      <td>250.0</td>\n",
       "    </tr>\n",
       "    <tr>\n",
       "      <th>five</th>\n",
       "      <td>Charles</td>\n",
       "      <td>2017</td>\n",
       "      <td>2.9</td>\n",
       "      <td>5</td>\n",
       "      <td>10</td>\n",
       "      <td>WC</td>\n",
       "      <td>290.0</td>\n",
       "    </tr>\n",
       "    <tr>\n",
       "      <th>six</th>\n",
       "      <td>Charles</td>\n",
       "      <td>2017</td>\n",
       "      <td>3.3</td>\n",
       "      <td>6</td>\n",
       "      <td>30</td>\n",
       "      <td>WC</td>\n",
       "      <td>290.0</td>\n",
       "    </tr>\n",
       "    <tr>\n",
       "      <th>seven</th>\n",
       "      <td>True</td>\n",
       "      <td>2017</td>\n",
       "      <td>3.3</td>\n",
       "      <td>6</td>\n",
       "      <td>30</td>\n",
       "      <td>WC</td>\n",
       "      <td>290.0</td>\n",
       "    </tr>\n",
       "    <tr>\n",
       "      <th>eight</th>\n",
       "      <td>Haidi</td>\n",
       "      <td>2020년</td>\n",
       "      <td>3.3</td>\n",
       "      <td>6</td>\n",
       "      <td>30</td>\n",
       "      <td>WC</td>\n",
       "      <td>290.0</td>\n",
       "    </tr>\n",
       "  </tbody>\n",
       "</table>\n",
       "</div>"
      ],
      "text/plain": [
       "          name   year  points  penalty  id    addr  bonus\n",
       "one      Haidi   2014     1.5        1  10      LA  150.0\n",
       "two      Haidi   2015     1.7        2  10      LA  170.0\n",
       "three    Haidi   2016     3.6        3  10      LA  360.0\n",
       "four   Charles   2015     2.5        4  10  Hawaii  250.0\n",
       "five   Charles   2017     2.9        5  10      WC  290.0\n",
       "six    Charles   2017     3.3        6  30      WC  290.0\n",
       "seven     True   2017     3.3        6  30      WC  290.0\n",
       "eight    Haidi  2020년     3.3        6  30      WC  290.0"
      ]
     },
     "execution_count": 86,
     "metadata": {},
     "output_type": "execute_result"
    }
   ],
   "source": [
    "df3"
   ]
  },
  {
   "cell_type": "code",
   "execution_count": null,
   "id": "88c6b196",
   "metadata": {},
   "outputs": [],
   "source": []
  },
  {
   "cell_type": "code",
   "execution_count": null,
   "id": "6f12a4a1",
   "metadata": {},
   "outputs": [],
   "source": []
  },
  {
   "cell_type": "code",
   "execution_count": null,
   "id": "69fd40e6",
   "metadata": {},
   "outputs": [],
   "source": []
  },
  {
   "cell_type": "code",
   "execution_count": null,
   "id": "97d73395",
   "metadata": {},
   "outputs": [],
   "source": []
  },
  {
   "cell_type": "code",
   "execution_count": null,
   "id": "e450be47",
   "metadata": {},
   "outputs": [],
   "source": []
  },
  {
   "cell_type": "code",
   "execution_count": null,
   "id": "696473eb",
   "metadata": {},
   "outputs": [],
   "source": []
  }
 ],
 "metadata": {
  "kernelspec": {
   "display_name": "Python 3",
   "language": "python",
   "name": "python3"
  },
  "language_info": {
   "codemirror_mode": {
    "name": "ipython",
    "version": 3
   },
   "file_extension": ".py",
   "mimetype": "text/x-python",
   "name": "python",
   "nbconvert_exporter": "python",
   "pygments_lexer": "ipython3",
   "version": "3.8.8"
  }
 },
 "nbformat": 4,
 "nbformat_minor": 5
}
