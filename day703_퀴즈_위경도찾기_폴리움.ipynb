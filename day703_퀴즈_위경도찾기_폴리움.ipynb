{
 "cells": [
  {
   "cell_type": "markdown",
   "metadata": {},
   "source": [
    "# 주소 => 위도와 경도 \n"
   ]
  },
  {
   "cell_type": "code",
   "execution_count": 1,
   "metadata": {},
   "outputs": [
    {
     "data": {
      "text/html": [
       "<style>.container { font-weight: bold !important; }</style>"
      ],
      "text/plain": [
       "<IPython.core.display.HTML object>"
      ]
     },
     "metadata": {},
     "output_type": "display_data"
    },
    {
     "data": {
      "text/html": [
       "<style>.container { width: 100% !important; }</style>"
      ],
      "text/plain": [
       "<IPython.core.display.HTML object>"
      ]
     },
     "metadata": {},
     "output_type": "display_data"
    }
   ],
   "source": [
    "# 주피터 노트북 환경설정\n",
    "import warnings\n",
    "warnings.filterwarnings('ignore')\n",
    "warnings.simplefilter('ignore')\n",
    "\n",
    "from IPython.display import set_matplotlib_formats\n",
    "set_matplotlib_formats(\"retina\")\n",
    "\n",
    "from IPython.display import Image\n",
    "\n",
    "from IPython.core.display import display, HTML\n",
    "display(HTML(\"<style>.container { font-weight: bold !important; }</style>\"))\n",
    "display(HTML(\"<style>.container { width: 100% !important; }</style>\"))"
   ]
  },
  {
   "cell_type": "markdown",
   "metadata": {},
   "source": [
    "# 카카오 API 키 발급\n",
    "\n",
    "- https://developers.kakao.com/ 로그인 \n",
    "- [내 애플리케이션]-[애플리케이션 추가하기]\n",
    "- 생성된 앱 클릭 후 왼쪽 메뉴에서 [플랫폼] 클릭\n",
    "- Web 플랫폼 등록 \n",
    "- [사이트 도메인 주소]추가 \n",
    "    - http://localhost:8080\n",
    "    - http://localhost:8890\n",
    "    - http://localhost:8888\n",
    "- 앱 다시 선택 \n",
    "    : 발급받은 APT 키중에서 REST API 키 복사"
   ]
  },
  {
   "cell_type": "code",
   "execution_count": 23,
   "metadata": {
    "scrolled": true
   },
   "outputs": [],
   "source": [
    "# 라이브러리 추가\n",
    "import requests; \n",
    "from urllib.parse import urlparse\n",
    "import pandas as pd\n",
    "import json"
   ]
  },
  {
   "cell_type": "code",
   "execution_count": 3,
   "metadata": {},
   "outputs": [],
   "source": [
    "# # 카카오맵 주소 검색 API: https://developers.kakao.com/docs/restapi/local#주소-검색\n",
    "# address = \"제주 서귀포시 서홍동 447-3\"\n",
    "# url = \"https://dapi.kakao.com/v2/local/search/address.json?&query=\" + address\n",
    "\n",
    "# result = requests.get(urlparse(url).geturl(),\n",
    "#                       headers={\"Authorization\":\"KakaoAK <REST API 키>})\n",
    "# json_obj = result.json()\n",
    "# print(json_obj)"
   ]
  },
  {
   "cell_type": "code",
   "execution_count": 4,
   "metadata": {
    "scrolled": true
   },
   "outputs": [
    {
     "name": "stdout",
     "output_type": "stream",
     "text": [
      "{'documents': [{'address': {'address_name': '서울 강남구 역삼동 701', 'b_code': '1168010100', 'h_code': '1168064000', 'main_address_no': '701', 'mountain_yn': 'N', 'region_1depth_name': '서울', 'region_2depth_name': '강남구', 'region_3depth_h_name': '역삼1동', 'region_3depth_name': '역삼동', 'sub_address_no': '', 'x': '127.042909941112', 'y': '37.5039660612952'}, 'address_name': '서울 강남구 언주로 508', 'address_type': 'ROAD_ADDR', 'road_address': {'address_name': '서울 강남구 언주로 508', 'building_name': '공무원연금공단', 'main_building_no': '508', 'region_1depth_name': '서울', 'region_2depth_name': '강남구', 'region_3depth_name': '역삼동', 'road_name': '언주로', 'sub_building_no': '', 'underground_yn': 'N', 'x': '127.042909941112', 'y': '37.5039660612952', 'zone_no': '06152'}, 'x': '127.042909941112', 'y': '37.5039660612952'}], 'meta': {'is_end': True, 'pageable_count': 1, 'total_count': 1}}\n"
     ]
    }
   ],
   "source": [
    "# 카카오맵 주소 검색 API: https://developers.kakao.com/docs/restapi/local#주소-검색\n",
    "address = \"강남구 언주로 508\"\n",
    "url = \"https://dapi.kakao.com/v2/local/search/address.json?&query=\" + address\n",
    "\n",
    "result = requests.get(urlparse(url).geturl(),\n",
    "                      headers={\"Authorization\":\"KakaoAK 4b7bb12227be8c980dc43f0a0b939865\"})\n",
    "json_obj = result.json()\n",
    "print(json_obj)"
   ]
  },
  {
   "cell_type": "code",
   "execution_count": null,
   "metadata": {},
   "outputs": [],
   "source": []
  },
  {
   "cell_type": "code",
   "execution_count": 27,
   "metadata": {
    "scrolled": true
   },
   "outputs": [
    {
     "name": "stdout",
     "output_type": "stream",
     "text": [
      "{'documents': [{'address': {'address_name': '서울 강남구 역삼동 701', 'b_code': '1168010100', 'h_code': '1168064000', 'main_address_no': '701', 'mountain_yn': 'N', 'region_1depth_name': '서울', 'region_2depth_name': '강남구', 'region_3depth_h_name': '역삼1동', 'region_3depth_name': '역삼동', 'sub_address_no': '', 'x': '127.042909941112', 'y': '37.5039660612952'}, 'address_name': '서울 강남구 언주로 508', 'address_type': 'ROAD_ADDR', 'road_address': {'address_name': '서울 강남구 언주로 508', 'building_name': '공무원연금공단', 'main_building_no': '508', 'region_1depth_name': '서울', 'region_2depth_name': '강남구', 'region_3depth_name': '역삼동', 'road_name': '언주로', 'sub_building_no': '', 'underground_yn': 'N', 'x': '127.042909941112', 'y': '37.5039660612952', 'zone_no': '06152'}, 'x': '127.042909941112', 'y': '37.5039660612952'}], 'meta': {'is_end': True, 'pageable_count': 1, 'total_count': 1}}\n"
     ]
    }
   ],
   "source": [
    "# 카카오맵 주소 검색 API: https://developers.kakao.com/docs/restapi/local#주소-검색\n",
    "address = \"강남구 언주로 508\"\n",
    "url = \"https://dapi.kakao.com/v2/local/search/address.json?&query=\" + address\n",
    "\n",
    "result = requests.get(urlparse(url).geturl(),\n",
    "                      headers={\"Authorization\":\"KakaoAK 4b7bb12227be8c980dc43f0a0b939865\"})\n",
    "# json_obj = result.json()\n",
    "json_obj = json.loads(result.text)\n",
    "print(json_obj)"
   ]
  },
  {
   "cell_type": "code",
   "execution_count": 28,
   "metadata": {
    "scrolled": true
   },
   "outputs": [],
   "source": [
    "# 검색 결과 정렬\n",
    "list = []\n",
    "for document in json_obj['documents']:\n",
    "    val = [document['road_address']['building_name'], \n",
    "               document['address_name'], document['y'], document['x']]\n",
    "    list.append(val)\n",
    "    \n",
    "df = pd.DataFrame(list, columns = ['building_name', 'address_name', 'lat', 'lon'])\n",
    "\n"
   ]
  },
  {
   "cell_type": "code",
   "execution_count": 29,
   "metadata": {},
   "outputs": [
    {
     "data": {
      "text/html": [
       "<div>\n",
       "<style scoped>\n",
       "    .dataframe tbody tr th:only-of-type {\n",
       "        vertical-align: middle;\n",
       "    }\n",
       "\n",
       "    .dataframe tbody tr th {\n",
       "        vertical-align: top;\n",
       "    }\n",
       "\n",
       "    .dataframe thead th {\n",
       "        text-align: right;\n",
       "    }\n",
       "</style>\n",
       "<table border=\"1\" class=\"dataframe\">\n",
       "  <thead>\n",
       "    <tr style=\"text-align: right;\">\n",
       "      <th></th>\n",
       "      <th>building_name</th>\n",
       "      <th>address_name</th>\n",
       "      <th>lat</th>\n",
       "      <th>lon</th>\n",
       "    </tr>\n",
       "  </thead>\n",
       "  <tbody>\n",
       "    <tr>\n",
       "      <th>0</th>\n",
       "      <td>공무원연금공단</td>\n",
       "      <td>서울 강남구 언주로 508</td>\n",
       "      <td>37.5039660612952</td>\n",
       "      <td>127.042909941112</td>\n",
       "    </tr>\n",
       "  </tbody>\n",
       "</table>\n",
       "</div>"
      ],
      "text/plain": [
       "  building_name    address_name               lat               lon\n",
       "0       공무원연금공단  서울 강남구 언주로 508  37.5039660612952  127.042909941112"
      ]
     },
     "execution_count": 29,
     "metadata": {},
     "output_type": "execute_result"
    }
   ],
   "source": [
    "df"
   ]
  },
  {
   "cell_type": "code",
   "execution_count": null,
   "metadata": {},
   "outputs": [],
   "source": []
  },
  {
   "cell_type": "code",
   "execution_count": null,
   "metadata": {},
   "outputs": [],
   "source": []
  },
  {
   "cell_type": "markdown",
   "metadata": {},
   "source": [
    "# folium 시각화"
   ]
  },
  {
   "cell_type": "code",
   "execution_count": 7,
   "metadata": {},
   "outputs": [
    {
     "name": "stdout",
     "output_type": "stream",
     "text": [
      "['Malgun Gothic']\n",
      "12.0\n"
     ]
    }
   ],
   "source": [
    "import matplotlib\n",
    "import matplotlib.pyplot as plt\n",
    "%matplotlib inline\n",
    "#  한글글꼴로 변경\n",
    "plt.rcParams['font.size'] = 12.0\n",
    "# plt.rcParams['font.family'] = 'batang'\n",
    "plt.rcParams['font.family'] = 'Malgun Gothic'\n",
    "print(plt.rcParams['font.family'])\n",
    "print(plt.rcParams['font.size'])\n",
    "import folium"
   ]
  },
  {
   "cell_type": "code",
   "execution_count": null,
   "metadata": {},
   "outputs": [],
   "source": []
  },
  {
   "cell_type": "markdown",
   "metadata": {},
   "source": [
    "# 제주도 선별 진료소"
   ]
  },
  {
   "cell_type": "raw",
   "metadata": {},
   "source": [
    "1. data/clinic_total.csv => 데이타프레임 \n",
    "2. 제주만 추출 \n",
    "3. 카카오API 이용, 위도와 경도 데이타 추가 \n",
    "4. 폴리움 지도 시각화 "
   ]
  },
  {
   "cell_type": "code",
   "execution_count": 8,
   "metadata": {},
   "outputs": [],
   "source": [
    "df_clinic =pd.read_csv('data/clinic_total.csv', \n",
    "                       encoding='utf-8', index_col=2)"
   ]
  },
  {
   "cell_type": "code",
   "execution_count": 9,
   "metadata": {},
   "outputs": [
    {
     "data": {
      "text/html": [
       "<div>\n",
       "<style scoped>\n",
       "    .dataframe tbody tr th:only-of-type {\n",
       "        vertical-align: middle;\n",
       "    }\n",
       "\n",
       "    .dataframe tbody tr th {\n",
       "        vertical-align: top;\n",
       "    }\n",
       "\n",
       "    .dataframe thead th {\n",
       "        text-align: right;\n",
       "    }\n",
       "</style>\n",
       "<table border=\"1\" class=\"dataframe\">\n",
       "  <thead>\n",
       "    <tr style=\"text-align: right;\">\n",
       "      <th></th>\n",
       "      <th>시도</th>\n",
       "      <th>시군구</th>\n",
       "      <th>주소</th>\n",
       "      <th>평일 운영시간</th>\n",
       "      <th>토요일 운영시간</th>\n",
       "      <th>일요일/공휴일\\n운영시간</th>\n",
       "      <th>대표 전화번호</th>\n",
       "    </tr>\n",
       "    <tr>\n",
       "      <th>의료기관명</th>\n",
       "      <th></th>\n",
       "      <th></th>\n",
       "      <th></th>\n",
       "      <th></th>\n",
       "      <th></th>\n",
       "      <th></th>\n",
       "      <th></th>\n",
       "    </tr>\n",
       "  </thead>\n",
       "  <tbody>\n",
       "    <tr>\n",
       "      <th>강남구보건소</th>\n",
       "      <td>서울</td>\n",
       "      <td>강남구</td>\n",
       "      <td>서울 강남구 삼성동(삼성2동) 8 강남구보건소</td>\n",
       "      <td>09:00 ~ 20:00</td>\n",
       "      <td>09:00 ~ 19:00</td>\n",
       "      <td>09:00 ~ 19:00</td>\n",
       "      <td>02-3423-5555</td>\n",
       "    </tr>\n",
       "    <tr>\n",
       "      <th>삼성서울병원</th>\n",
       "      <td>서울</td>\n",
       "      <td>강남구</td>\n",
       "      <td>서울 강남구 일원로81 삼성서울병원</td>\n",
       "      <td>00:00 ~ 24:00</td>\n",
       "      <td>00:00 ~ 24:00</td>\n",
       "      <td>00:00 ~ 24:00</td>\n",
       "      <td>02-3410-0543</td>\n",
       "    </tr>\n",
       "    <tr>\n",
       "      <th>강남세브란스병원</th>\n",
       "      <td>서울</td>\n",
       "      <td>강남구</td>\n",
       "      <td>서울 강남구 언주로211 강남세브란스병원</td>\n",
       "      <td>09:00 ~ 17:00</td>\n",
       "      <td>09:00 ~ 12:30</td>\n",
       "      <td>미운영</td>\n",
       "      <td>02-1599-6114</td>\n",
       "    </tr>\n",
       "    <tr>\n",
       "      <th>강동구보건소</th>\n",
       "      <td>서울</td>\n",
       "      <td>강동구</td>\n",
       "      <td>서울 강동구 성내동 541-2</td>\n",
       "      <td>09:00 ~ 18:00</td>\n",
       "      <td>09:00 ~ 16:00</td>\n",
       "      <td>09:00 ~ 16:00</td>\n",
       "      <td>02-3425-6713</td>\n",
       "    </tr>\n",
       "    <tr>\n",
       "      <th>중앙보훈병원</th>\n",
       "      <td>서울</td>\n",
       "      <td>강동구</td>\n",
       "      <td>서울 강동구 진황도로 61길 53</td>\n",
       "      <td>09:00 ~ 17:30</td>\n",
       "      <td>미운영</td>\n",
       "      <td>미운영</td>\n",
       "      <td>02-2225-1114</td>\n",
       "    </tr>\n",
       "  </tbody>\n",
       "</table>\n",
       "</div>"
      ],
      "text/plain": [
       "          시도  시군구                         주소        평일 운영시간       토요일 운영시간  \\\n",
       "의료기관명                                                                        \n",
       "강남구보건소    서울  강남구  서울 강남구 삼성동(삼성2동) 8 강남구보건소  09:00 ~ 20:00  09:00 ~ 19:00   \n",
       "삼성서울병원    서울  강남구        서울 강남구 일원로81 삼성서울병원  00:00 ~ 24:00  00:00 ~ 24:00   \n",
       "강남세브란스병원  서울  강남구     서울 강남구 언주로211 강남세브란스병원  09:00 ~ 17:00  09:00 ~ 12:30   \n",
       "강동구보건소    서울  강동구           서울 강동구 성내동 541-2  09:00 ~ 18:00  09:00 ~ 16:00   \n",
       "중앙보훈병원    서울  강동구         서울 강동구 진황도로 61길 53  09:00 ~ 17:30            미운영   \n",
       "\n",
       "          일요일/공휴일\\n운영시간       대표 전화번호  \n",
       "의료기관명                                  \n",
       "강남구보건소    09:00 ~ 19:00  02-3423-5555  \n",
       "삼성서울병원    00:00 ~ 24:00  02-3410-0543  \n",
       "강남세브란스병원            미운영  02-1599-6114  \n",
       "강동구보건소    09:00 ~ 16:00  02-3425-6713  \n",
       "중앙보훈병원              미운영  02-2225-1114  "
      ]
     },
     "execution_count": 9,
     "metadata": {},
     "output_type": "execute_result"
    }
   ],
   "source": [
    "df_clinic.head()"
   ]
  },
  {
   "cell_type": "code",
   "execution_count": 10,
   "metadata": {},
   "outputs": [
    {
     "data": {
      "text/plain": [
       "(11, 7)"
      ]
     },
     "execution_count": 10,
     "metadata": {},
     "output_type": "execute_result"
    }
   ],
   "source": [
    "df_clinic = df_clinic[df_clinic['시도']=='제주']\n",
    "df_clinic.shape\n"
   ]
  },
  {
   "cell_type": "code",
   "execution_count": 11,
   "metadata": {},
   "outputs": [
    {
     "data": {
      "text/html": [
       "<div>\n",
       "<style scoped>\n",
       "    .dataframe tbody tr th:only-of-type {\n",
       "        vertical-align: middle;\n",
       "    }\n",
       "\n",
       "    .dataframe tbody tr th {\n",
       "        vertical-align: top;\n",
       "    }\n",
       "\n",
       "    .dataframe thead th {\n",
       "        text-align: right;\n",
       "    }\n",
       "</style>\n",
       "<table border=\"1\" class=\"dataframe\">\n",
       "  <thead>\n",
       "    <tr style=\"text-align: right;\">\n",
       "      <th></th>\n",
       "      <th>시도</th>\n",
       "      <th>시군구</th>\n",
       "      <th>주소</th>\n",
       "      <th>평일 운영시간</th>\n",
       "      <th>토요일 운영시간</th>\n",
       "      <th>일요일/공휴일\\n운영시간</th>\n",
       "      <th>대표 전화번호</th>\n",
       "    </tr>\n",
       "    <tr>\n",
       "      <th>의료기관명</th>\n",
       "      <th></th>\n",
       "      <th></th>\n",
       "      <th></th>\n",
       "      <th></th>\n",
       "      <th></th>\n",
       "      <th></th>\n",
       "      <th></th>\n",
       "    </tr>\n",
       "  </thead>\n",
       "  <tbody>\n",
       "    <tr>\n",
       "      <th>서귀포시(서귀포보건소)</th>\n",
       "      <td>제주</td>\n",
       "      <td>서귀포시</td>\n",
       "      <td>제주 서귀포시 서홍동 447-3</td>\n",
       "      <td>09:00 ~ 18:00</td>\n",
       "      <td>미운영</td>\n",
       "      <td>미운영</td>\n",
       "      <td>064-760-6092</td>\n",
       "    </tr>\n",
       "    <tr>\n",
       "      <th>서귀포열린병원</th>\n",
       "      <td>제주</td>\n",
       "      <td>서귀포시</td>\n",
       "      <td>제주특별자치도 서귀포시 일주동로 8638</td>\n",
       "      <td>09:00 ~ 18:00</td>\n",
       "      <td>09:00 ~ 11:00</td>\n",
       "      <td>미운영</td>\n",
       "      <td>064-762-8001</td>\n",
       "    </tr>\n",
       "    <tr>\n",
       "      <th>서귀포의료원</th>\n",
       "      <td>제주</td>\n",
       "      <td>서귀포시</td>\n",
       "      <td>제주특별자치도 서귀포시 장수로 47</td>\n",
       "      <td>00:00 ~ 24:00</td>\n",
       "      <td>00:00 ~ 24:00</td>\n",
       "      <td>00:00 ~ 24:00</td>\n",
       "      <td>064-730-3518</td>\n",
       "    </tr>\n",
       "    <tr>\n",
       "      <th>서귀포시(서부보건소)</th>\n",
       "      <td>제주</td>\n",
       "      <td>서귀포시</td>\n",
       "      <td>제주 서귀포시 대정읍 하모리 767-8 서부보건소</td>\n",
       "      <td>09:00 ~ 16:00</td>\n",
       "      <td>09:00 ~ 16:00</td>\n",
       "      <td>09:00 ~ 16:00</td>\n",
       "      <td>064-760-6292</td>\n",
       "    </tr>\n",
       "    <tr>\n",
       "      <th>제주시제주보건소</th>\n",
       "      <td>제주</td>\n",
       "      <td>제주시</td>\n",
       "      <td>제주 제주시 도남동  567-1</td>\n",
       "      <td>09:00 ~ 18:00</td>\n",
       "      <td>미운영</td>\n",
       "      <td>미운영</td>\n",
       "      <td>064-728-1410</td>\n",
       "    </tr>\n",
       "    <tr>\n",
       "      <th>제주한라병원</th>\n",
       "      <td>제주</td>\n",
       "      <td>제주시</td>\n",
       "      <td>도령로 65</td>\n",
       "      <td>00:00 ~ 24:00</td>\n",
       "      <td>00:00 ~ 24:00</td>\n",
       "      <td>00:00 ~ 24:00</td>\n",
       "      <td>064-740-5158</td>\n",
       "    </tr>\n",
       "    <tr>\n",
       "      <th>한마음병원</th>\n",
       "      <td>제주</td>\n",
       "      <td>제주시</td>\n",
       "      <td>연신로 52</td>\n",
       "      <td>00:00 ~ 24:00</td>\n",
       "      <td>00:00 ~ 24:00</td>\n",
       "      <td>00:00 ~ 24:00</td>\n",
       "      <td>064-750-9119</td>\n",
       "    </tr>\n",
       "    <tr>\n",
       "      <th>한국병원</th>\n",
       "      <td>제주</td>\n",
       "      <td>제주시</td>\n",
       "      <td>서광로 193</td>\n",
       "      <td>00:00 ~ 24:00</td>\n",
       "      <td>00:00 ~ 24:00</td>\n",
       "      <td>00:00 ~ 24:00</td>\n",
       "      <td>064-750-0119</td>\n",
       "    </tr>\n",
       "    <tr>\n",
       "      <th>중앙병원</th>\n",
       "      <td>제주</td>\n",
       "      <td>제주시</td>\n",
       "      <td>월랑로 91</td>\n",
       "      <td>00:00 ~ 24:00</td>\n",
       "      <td>00:00 ~ 24:00</td>\n",
       "      <td>00:00 ~ 24:00</td>\n",
       "      <td>064-786-7119</td>\n",
       "    </tr>\n",
       "    <tr>\n",
       "      <th>제주시(동부보건소)</th>\n",
       "      <td>제주</td>\n",
       "      <td>제주시</td>\n",
       "      <td>제주시 구좌읍 김녕로14길 6</td>\n",
       "      <td>09:00 ~ 18:00</td>\n",
       "      <td>미운영</td>\n",
       "      <td>미운영</td>\n",
       "      <td>064-728-4392</td>\n",
       "    </tr>\n",
       "    <tr>\n",
       "      <th>제주시(서부보건소)</th>\n",
       "      <td>제주</td>\n",
       "      <td>제주시</td>\n",
       "      <td>제주특별자치도 제주시 한림읍 한림리 966-1번지 (한림리)</td>\n",
       "      <td>09:00 ~ 18:00</td>\n",
       "      <td>09:00 ~ 18:00</td>\n",
       "      <td>09:00 ~ 18:00</td>\n",
       "      <td>064-728-4142</td>\n",
       "    </tr>\n",
       "  </tbody>\n",
       "</table>\n",
       "</div>"
      ],
      "text/plain": [
       "              시도   시군구                                 주소        평일 운영시간  \\\n",
       "의료기관명                                                                      \n",
       "서귀포시(서귀포보건소)  제주  서귀포시                  제주 서귀포시 서홍동 447-3  09:00 ~ 18:00   \n",
       "서귀포열린병원       제주  서귀포시             제주특별자치도 서귀포시 일주동로 8638  09:00 ~ 18:00   \n",
       "서귀포의료원        제주  서귀포시               제주특별자치도 서귀포시 장수로 47   00:00 ~ 24:00   \n",
       "서귀포시(서부보건소)   제주  서귀포시        제주 서귀포시 대정읍 하모리 767-8 서부보건소  09:00 ~ 16:00   \n",
       "제주시제주보건소      제주   제주시                  제주 제주시 도남동  567-1  09:00 ~ 18:00   \n",
       "제주한라병원        제주   제주시                             도령로 65  00:00 ~ 24:00   \n",
       "한마음병원         제주   제주시                             연신로 52  00:00 ~ 24:00   \n",
       "한국병원          제주   제주시                            서광로 193  00:00 ~ 24:00   \n",
       "중앙병원          제주   제주시                             월랑로 91  00:00 ~ 24:00   \n",
       "제주시(동부보건소)    제주   제주시                   제주시 구좌읍 김녕로14길 6  09:00 ~ 18:00   \n",
       "제주시(서부보건소)    제주   제주시  제주특별자치도 제주시 한림읍 한림리 966-1번지 (한림리)  09:00 ~ 18:00   \n",
       "\n",
       "                   토요일 운영시간  일요일/공휴일\\n운영시간       대표 전화번호  \n",
       "의료기관명                                                     \n",
       "서귀포시(서귀포보건소)            미운영            미운영  064-760-6092  \n",
       "서귀포열린병원       09:00 ~ 11:00            미운영  064-762-8001  \n",
       "서귀포의료원        00:00 ~ 24:00  00:00 ~ 24:00  064-730-3518  \n",
       "서귀포시(서부보건소)   09:00 ~ 16:00  09:00 ~ 16:00  064-760-6292  \n",
       "제주시제주보건소                미운영            미운영  064-728-1410  \n",
       "제주한라병원        00:00 ~ 24:00  00:00 ~ 24:00  064-740-5158  \n",
       "한마음병원         00:00 ~ 24:00  00:00 ~ 24:00  064-750-9119  \n",
       "한국병원          00:00 ~ 24:00  00:00 ~ 24:00  064-750-0119  \n",
       "중앙병원          00:00 ~ 24:00  00:00 ~ 24:00  064-786-7119  \n",
       "제주시(동부보건소)              미운영            미운영  064-728-4392  \n",
       "제주시(서부보건소)    09:00 ~ 18:00  09:00 ~ 18:00  064-728-4142  "
      ]
     },
     "execution_count": 11,
     "metadata": {},
     "output_type": "execute_result"
    }
   ],
   "source": [
    "df_clinic"
   ]
  },
  {
   "cell_type": "code",
   "execution_count": 12,
   "metadata": {},
   "outputs": [
    {
     "data": {
      "text/html": [
       "<div>\n",
       "<style scoped>\n",
       "    .dataframe tbody tr th:only-of-type {\n",
       "        vertical-align: middle;\n",
       "    }\n",
       "\n",
       "    .dataframe tbody tr th {\n",
       "        vertical-align: top;\n",
       "    }\n",
       "\n",
       "    .dataframe thead th {\n",
       "        text-align: right;\n",
       "    }\n",
       "</style>\n",
       "<table border=\"1\" class=\"dataframe\">\n",
       "  <thead>\n",
       "    <tr style=\"text-align: right;\">\n",
       "      <th></th>\n",
       "      <th>시군구</th>\n",
       "      <th>주소</th>\n",
       "    </tr>\n",
       "    <tr>\n",
       "      <th>의료기관명</th>\n",
       "      <th></th>\n",
       "      <th></th>\n",
       "    </tr>\n",
       "  </thead>\n",
       "  <tbody>\n",
       "    <tr>\n",
       "      <th>서귀포시(서귀포보건소)</th>\n",
       "      <td>서귀포시</td>\n",
       "      <td>제주 서귀포시 서홍동 447-3</td>\n",
       "    </tr>\n",
       "    <tr>\n",
       "      <th>서귀포열린병원</th>\n",
       "      <td>서귀포시</td>\n",
       "      <td>제주특별자치도 서귀포시 일주동로 8638</td>\n",
       "    </tr>\n",
       "    <tr>\n",
       "      <th>서귀포의료원</th>\n",
       "      <td>서귀포시</td>\n",
       "      <td>제주특별자치도 서귀포시 장수로 47</td>\n",
       "    </tr>\n",
       "    <tr>\n",
       "      <th>서귀포시(서부보건소)</th>\n",
       "      <td>서귀포시</td>\n",
       "      <td>제주 서귀포시 대정읍 하모리 767-8 서부보건소</td>\n",
       "    </tr>\n",
       "    <tr>\n",
       "      <th>제주시제주보건소</th>\n",
       "      <td>제주시</td>\n",
       "      <td>제주 제주시 도남동  567-1</td>\n",
       "    </tr>\n",
       "  </tbody>\n",
       "</table>\n",
       "</div>"
      ],
      "text/plain": [
       "               시군구                           주소\n",
       "의료기관명                                          \n",
       "서귀포시(서귀포보건소)  서귀포시            제주 서귀포시 서홍동 447-3\n",
       "서귀포열린병원       서귀포시       제주특별자치도 서귀포시 일주동로 8638\n",
       "서귀포의료원        서귀포시         제주특별자치도 서귀포시 장수로 47 \n",
       "서귀포시(서부보건소)   서귀포시  제주 서귀포시 대정읍 하모리 767-8 서부보건소\n",
       "제주시제주보건소       제주시            제주 제주시 도남동  567-1"
      ]
     },
     "execution_count": 12,
     "metadata": {},
     "output_type": "execute_result"
    }
   ],
   "source": [
    "df_clinic = df_clinic[['시군구','주소']]\n",
    "df_clinic.head()"
   ]
  },
  {
   "cell_type": "code",
   "execution_count": 30,
   "metadata": {},
   "outputs": [
    {
     "name": "stdout",
     "output_type": "stream",
     "text": [
      "제주 서귀포시 서홍동 447-3\n",
      "33.2532700888151\n",
      "126.555250836738\n",
      "제주특별자치도 서귀포시 일주동로 8638\n",
      "33.2544659162544\n",
      "126.565425372675\n",
      "제주특별자치도 서귀포시 장수로 47 \n",
      "33.2559809912099\n",
      "126.562948872895\n",
      "제주 서귀포시 대정읍 하모리 767-8 서부보건소\n",
      "33.2186942969756\n",
      "126.253410446884\n",
      "제주 제주시 도남동  567-1\n",
      "33.4917394006488\n",
      "126.520234177096\n",
      "도령로 65\n",
      "33.4902661749243\n",
      "126.484919722369\n",
      "연신로 52\n",
      "33.4962868079834\n",
      "126.546238571767\n",
      "서광로 193\n",
      "33.5003915262127\n",
      "126.516729196278\n",
      "월랑로 91\n",
      "33.4923211704292\n",
      "126.470480704295\n",
      "제주시 구좌읍 김녕로14길 6\n",
      "33.5543515285666\n",
      "126.751328022367\n",
      "제주특별자치도 제주시 한림읍 한림리 966-1번지 (한림리)\n",
      "33.4124054749497\n",
      "126.269467817541\n"
     ]
    }
   ],
   "source": [
    "lat=[]\n",
    "long=[]\n",
    "for i in range(len(df_clinic.index)):\n",
    "    address=df_clinic.iloc[i,1]\n",
    "    url = \"https://dapi.kakao.com/v2/local/search/address.json?&query=\" \\\n",
    "            + address\n",
    "    result = requests.get(urlparse(url).geturl(),\n",
    "             headers={\"Authorization\": \\\n",
    "             \"KakaoAK 4b7bb12227be8c980dc43f0a0b939865\"})\n",
    "    # json_obj = result.json()\n",
    "    json_obj = json.loads(result.text)\n",
    "    \n",
    "    for document in json_obj['documents']:\n",
    "        lat.append(document['y'])\n",
    "        long.append(document['x'])\n",
    "        print(address)\n",
    "        print(lat[i])\n",
    "        print(long[i])"
   ]
  },
  {
   "cell_type": "code",
   "execution_count": 14,
   "metadata": {},
   "outputs": [
    {
     "data": {
      "text/plain": [
       "(11, 11)"
      ]
     },
     "execution_count": 14,
     "metadata": {},
     "output_type": "execute_result"
    }
   ],
   "source": [
    "lat, long\n",
    "len(long), len(df_clinic)"
   ]
  },
  {
   "cell_type": "code",
   "execution_count": 15,
   "metadata": {},
   "outputs": [
    {
     "data": {
      "text/html": [
       "<div>\n",
       "<style scoped>\n",
       "    .dataframe tbody tr th:only-of-type {\n",
       "        vertical-align: middle;\n",
       "    }\n",
       "\n",
       "    .dataframe tbody tr th {\n",
       "        vertical-align: top;\n",
       "    }\n",
       "\n",
       "    .dataframe thead th {\n",
       "        text-align: right;\n",
       "    }\n",
       "</style>\n",
       "<table border=\"1\" class=\"dataframe\">\n",
       "  <thead>\n",
       "    <tr style=\"text-align: right;\">\n",
       "      <th></th>\n",
       "      <th>시군구</th>\n",
       "      <th>주소</th>\n",
       "      <th>위도</th>\n",
       "      <th>경도</th>\n",
       "    </tr>\n",
       "    <tr>\n",
       "      <th>의료기관명</th>\n",
       "      <th></th>\n",
       "      <th></th>\n",
       "      <th></th>\n",
       "      <th></th>\n",
       "    </tr>\n",
       "  </thead>\n",
       "  <tbody>\n",
       "    <tr>\n",
       "      <th>서귀포시(서귀포보건소)</th>\n",
       "      <td>서귀포시</td>\n",
       "      <td>제주 서귀포시 서홍동 447-3</td>\n",
       "      <td>33.2532700888151</td>\n",
       "      <td>126.555250836738</td>\n",
       "    </tr>\n",
       "    <tr>\n",
       "      <th>서귀포열린병원</th>\n",
       "      <td>서귀포시</td>\n",
       "      <td>제주특별자치도 서귀포시 일주동로 8638</td>\n",
       "      <td>33.2544659162544</td>\n",
       "      <td>126.565425372675</td>\n",
       "    </tr>\n",
       "    <tr>\n",
       "      <th>서귀포의료원</th>\n",
       "      <td>서귀포시</td>\n",
       "      <td>제주특별자치도 서귀포시 장수로 47</td>\n",
       "      <td>33.2559809912099</td>\n",
       "      <td>126.562948872895</td>\n",
       "    </tr>\n",
       "    <tr>\n",
       "      <th>서귀포시(서부보건소)</th>\n",
       "      <td>서귀포시</td>\n",
       "      <td>제주 서귀포시 대정읍 하모리 767-8 서부보건소</td>\n",
       "      <td>33.2186942969756</td>\n",
       "      <td>126.253410446884</td>\n",
       "    </tr>\n",
       "    <tr>\n",
       "      <th>제주시제주보건소</th>\n",
       "      <td>제주시</td>\n",
       "      <td>제주 제주시 도남동  567-1</td>\n",
       "      <td>33.4917394006488</td>\n",
       "      <td>126.520234177096</td>\n",
       "    </tr>\n",
       "    <tr>\n",
       "      <th>제주한라병원</th>\n",
       "      <td>제주시</td>\n",
       "      <td>도령로 65</td>\n",
       "      <td>33.4902661749243</td>\n",
       "      <td>126.484919722369</td>\n",
       "    </tr>\n",
       "    <tr>\n",
       "      <th>한마음병원</th>\n",
       "      <td>제주시</td>\n",
       "      <td>연신로 52</td>\n",
       "      <td>33.4962868079834</td>\n",
       "      <td>126.546238571767</td>\n",
       "    </tr>\n",
       "    <tr>\n",
       "      <th>한국병원</th>\n",
       "      <td>제주시</td>\n",
       "      <td>서광로 193</td>\n",
       "      <td>33.5003915262127</td>\n",
       "      <td>126.516729196278</td>\n",
       "    </tr>\n",
       "    <tr>\n",
       "      <th>중앙병원</th>\n",
       "      <td>제주시</td>\n",
       "      <td>월랑로 91</td>\n",
       "      <td>33.4923211704292</td>\n",
       "      <td>126.470480704295</td>\n",
       "    </tr>\n",
       "    <tr>\n",
       "      <th>제주시(동부보건소)</th>\n",
       "      <td>제주시</td>\n",
       "      <td>제주시 구좌읍 김녕로14길 6</td>\n",
       "      <td>33.5543515285666</td>\n",
       "      <td>126.751328022367</td>\n",
       "    </tr>\n",
       "    <tr>\n",
       "      <th>제주시(서부보건소)</th>\n",
       "      <td>제주시</td>\n",
       "      <td>제주특별자치도 제주시 한림읍 한림리 966-1번지 (한림리)</td>\n",
       "      <td>33.4124054749497</td>\n",
       "      <td>126.269467817541</td>\n",
       "    </tr>\n",
       "  </tbody>\n",
       "</table>\n",
       "</div>"
      ],
      "text/plain": [
       "               시군구                                 주소                위도  \\\n",
       "의료기관명                                                                     \n",
       "서귀포시(서귀포보건소)  서귀포시                  제주 서귀포시 서홍동 447-3  33.2532700888151   \n",
       "서귀포열린병원       서귀포시             제주특별자치도 서귀포시 일주동로 8638  33.2544659162544   \n",
       "서귀포의료원        서귀포시               제주특별자치도 서귀포시 장수로 47   33.2559809912099   \n",
       "서귀포시(서부보건소)   서귀포시        제주 서귀포시 대정읍 하모리 767-8 서부보건소  33.2186942969756   \n",
       "제주시제주보건소       제주시                  제주 제주시 도남동  567-1  33.4917394006488   \n",
       "제주한라병원         제주시                             도령로 65  33.4902661749243   \n",
       "한마음병원          제주시                             연신로 52  33.4962868079834   \n",
       "한국병원           제주시                            서광로 193  33.5003915262127   \n",
       "중앙병원           제주시                             월랑로 91  33.4923211704292   \n",
       "제주시(동부보건소)     제주시                   제주시 구좌읍 김녕로14길 6  33.5543515285666   \n",
       "제주시(서부보건소)     제주시  제주특별자치도 제주시 한림읍 한림리 966-1번지 (한림리)  33.4124054749497   \n",
       "\n",
       "                            경도  \n",
       "의료기관명                           \n",
       "서귀포시(서귀포보건소)  126.555250836738  \n",
       "서귀포열린병원       126.565425372675  \n",
       "서귀포의료원        126.562948872895  \n",
       "서귀포시(서부보건소)   126.253410446884  \n",
       "제주시제주보건소      126.520234177096  \n",
       "제주한라병원        126.484919722369  \n",
       "한마음병원         126.546238571767  \n",
       "한국병원          126.516729196278  \n",
       "중앙병원          126.470480704295  \n",
       "제주시(동부보건소)    126.751328022367  \n",
       "제주시(서부보건소)    126.269467817541  "
      ]
     },
     "execution_count": 15,
     "metadata": {},
     "output_type": "execute_result"
    }
   ],
   "source": [
    "# 데이타프레임에 위도, 경도 컬럼 추가 \n",
    "df_clinic['위도']=lat\n",
    "df_clinic['경도']=long\n",
    "df_clinic"
   ]
  },
  {
   "cell_type": "code",
   "execution_count": 16,
   "metadata": {},
   "outputs": [
    {
     "data": {
      "text/plain": [
       "시군구    object\n",
       "주소     object\n",
       "위도     object\n",
       "경도     object\n",
       "dtype: object"
      ]
     },
     "execution_count": 16,
     "metadata": {},
     "output_type": "execute_result"
    }
   ],
   "source": [
    "# 위도, 경도의 자료형은? \n",
    "df_clinic.dtypes"
   ]
  },
  {
   "cell_type": "code",
   "execution_count": 17,
   "metadata": {},
   "outputs": [
    {
     "data": {
      "text/plain": [
       "시군구     object\n",
       "주소      object\n",
       "위도     float64\n",
       "경도     float64\n",
       "dtype: object"
      ]
     },
     "execution_count": 17,
     "metadata": {},
     "output_type": "execute_result"
    }
   ],
   "source": [
    "# 자료형 변경 \n",
    "df_clinic['위도'] = df_clinic['위도'].astype(float)\n",
    "df_clinic['경도'] = df_clinic['경도'].astype(float)\n",
    "df_clinic.dtypes"
   ]
  },
  {
   "cell_type": "code",
   "execution_count": 18,
   "metadata": {},
   "outputs": [
    {
     "data": {
      "text/plain": [
       "(33.40183394336088, 126.49967579462773)"
      ]
     },
     "execution_count": 18,
     "metadata": {},
     "output_type": "execute_result"
    }
   ],
   "source": [
    "# 진료소의 위도, 경도의 평균 \n",
    "lat_center = df_clinic['위도'].mean()\n",
    "long_center = df_clinic['경도'].mean()\n",
    "lat_center, long_center"
   ]
  },
  {
   "cell_type": "code",
   "execution_count": 19,
   "metadata": {},
   "outputs": [
    {
     "data": {
      "text/html": [
       "<div style=\"width:100%;\"><div style=\"position:relative;width:100%;height:0;padding-bottom:60%;\"><span style=\"color:#565656\">Make this Notebook Trusted to load map: File -> Trust Notebook</span><iframe src=\"about:blank\" style=\"position:absolute;width:100%;height:100%;left:0;top:0;border:none !important;\" data-html=%3C%21DOCTYPE%20html%3E%0A%3Chead%3E%20%20%20%20%0A%20%20%20%20%3Cmeta%20http-equiv%3D%22content-type%22%20content%3D%22text/html%3B%20charset%3DUTF-8%22%20/%3E%0A%20%20%20%20%0A%20%20%20%20%20%20%20%20%3Cscript%3E%0A%20%20%20%20%20%20%20%20%20%20%20%20L_NO_TOUCH%20%3D%20false%3B%0A%20%20%20%20%20%20%20%20%20%20%20%20L_DISABLE_3D%20%3D%20false%3B%0A%20%20%20%20%20%20%20%20%3C/script%3E%0A%20%20%20%20%0A%20%20%20%20%3Cstyle%3Ehtml%2C%20body%20%7Bwidth%3A%20100%25%3Bheight%3A%20100%25%3Bmargin%3A%200%3Bpadding%3A%200%3B%7D%3C/style%3E%0A%20%20%20%20%3Cstyle%3E%23map%20%7Bposition%3Aabsolute%3Btop%3A0%3Bbottom%3A0%3Bright%3A0%3Bleft%3A0%3B%7D%3C/style%3E%0A%20%20%20%20%3Cscript%20src%3D%22https%3A//cdn.jsdelivr.net/npm/leaflet%401.6.0/dist/leaflet.js%22%3E%3C/script%3E%0A%20%20%20%20%3Cscript%20src%3D%22https%3A//code.jquery.com/jquery-1.12.4.min.js%22%3E%3C/script%3E%0A%20%20%20%20%3Cscript%20src%3D%22https%3A//maxcdn.bootstrapcdn.com/bootstrap/3.2.0/js/bootstrap.min.js%22%3E%3C/script%3E%0A%20%20%20%20%3Cscript%20src%3D%22https%3A//cdnjs.cloudflare.com/ajax/libs/Leaflet.awesome-markers/2.0.2/leaflet.awesome-markers.js%22%3E%3C/script%3E%0A%20%20%20%20%3Clink%20rel%3D%22stylesheet%22%20href%3D%22https%3A//cdn.jsdelivr.net/npm/leaflet%401.6.0/dist/leaflet.css%22/%3E%0A%20%20%20%20%3Clink%20rel%3D%22stylesheet%22%20href%3D%22https%3A//maxcdn.bootstrapcdn.com/bootstrap/3.2.0/css/bootstrap.min.css%22/%3E%0A%20%20%20%20%3Clink%20rel%3D%22stylesheet%22%20href%3D%22https%3A//maxcdn.bootstrapcdn.com/bootstrap/3.2.0/css/bootstrap-theme.min.css%22/%3E%0A%20%20%20%20%3Clink%20rel%3D%22stylesheet%22%20href%3D%22https%3A//maxcdn.bootstrapcdn.com/font-awesome/4.6.3/css/font-awesome.min.css%22/%3E%0A%20%20%20%20%3Clink%20rel%3D%22stylesheet%22%20href%3D%22https%3A//cdnjs.cloudflare.com/ajax/libs/Leaflet.awesome-markers/2.0.2/leaflet.awesome-markers.css%22/%3E%0A%20%20%20%20%3Clink%20rel%3D%22stylesheet%22%20href%3D%22https%3A//cdn.jsdelivr.net/gh/python-visualization/folium/folium/templates/leaflet.awesome.rotate.min.css%22/%3E%0A%20%20%20%20%0A%20%20%20%20%20%20%20%20%20%20%20%20%3Cmeta%20name%3D%22viewport%22%20content%3D%22width%3Ddevice-width%2C%0A%20%20%20%20%20%20%20%20%20%20%20%20%20%20%20%20initial-scale%3D1.0%2C%20maximum-scale%3D1.0%2C%20user-scalable%3Dno%22%20/%3E%0A%20%20%20%20%20%20%20%20%20%20%20%20%3Cstyle%3E%0A%20%20%20%20%20%20%20%20%20%20%20%20%20%20%20%20%23map_13324ba11d0e41c39cafeac5a3f0a7d5%20%7B%0A%20%20%20%20%20%20%20%20%20%20%20%20%20%20%20%20%20%20%20%20position%3A%20relative%3B%0A%20%20%20%20%20%20%20%20%20%20%20%20%20%20%20%20%20%20%20%20width%3A%20100.0%25%3B%0A%20%20%20%20%20%20%20%20%20%20%20%20%20%20%20%20%20%20%20%20height%3A%20100.0%25%3B%0A%20%20%20%20%20%20%20%20%20%20%20%20%20%20%20%20%20%20%20%20left%3A%200.0%25%3B%0A%20%20%20%20%20%20%20%20%20%20%20%20%20%20%20%20%20%20%20%20top%3A%200.0%25%3B%0A%20%20%20%20%20%20%20%20%20%20%20%20%20%20%20%20%7D%0A%20%20%20%20%20%20%20%20%20%20%20%20%3C/style%3E%0A%20%20%20%20%20%20%20%20%0A%3C/head%3E%0A%3Cbody%3E%20%20%20%20%0A%20%20%20%20%0A%20%20%20%20%20%20%20%20%20%20%20%20%3Cdiv%20class%3D%22folium-map%22%20id%3D%22map_13324ba11d0e41c39cafeac5a3f0a7d5%22%20%3E%3C/div%3E%0A%20%20%20%20%20%20%20%20%0A%3C/body%3E%0A%3Cscript%3E%20%20%20%20%0A%20%20%20%20%0A%20%20%20%20%20%20%20%20%20%20%20%20var%20map_13324ba11d0e41c39cafeac5a3f0a7d5%20%3D%20L.map%28%0A%20%20%20%20%20%20%20%20%20%20%20%20%20%20%20%20%22map_13324ba11d0e41c39cafeac5a3f0a7d5%22%2C%0A%20%20%20%20%20%20%20%20%20%20%20%20%20%20%20%20%7B%0A%20%20%20%20%20%20%20%20%20%20%20%20%20%20%20%20%20%20%20%20center%3A%20%5B33.40183394336088%2C%20126.49967579462773%5D%2C%0A%20%20%20%20%20%20%20%20%20%20%20%20%20%20%20%20%20%20%20%20crs%3A%20L.CRS.EPSG3857%2C%0A%20%20%20%20%20%20%20%20%20%20%20%20%20%20%20%20%20%20%20%20zoom%3A%2010%2C%0A%20%20%20%20%20%20%20%20%20%20%20%20%20%20%20%20%20%20%20%20zoomControl%3A%20true%2C%0A%20%20%20%20%20%20%20%20%20%20%20%20%20%20%20%20%20%20%20%20preferCanvas%3A%20false%2C%0A%20%20%20%20%20%20%20%20%20%20%20%20%20%20%20%20%7D%0A%20%20%20%20%20%20%20%20%20%20%20%20%29%3B%0A%0A%20%20%20%20%20%20%20%20%20%20%20%20%0A%0A%20%20%20%20%20%20%20%20%0A%20%20%20%20%0A%20%20%20%20%20%20%20%20%20%20%20%20var%20tile_layer_b8bd3e15abe74ec8872cc297616f91c6%20%3D%20L.tileLayer%28%0A%20%20%20%20%20%20%20%20%20%20%20%20%20%20%20%20%22https%3A//%7Bs%7D.tile.openstreetmap.org/%7Bz%7D/%7Bx%7D/%7By%7D.png%22%2C%0A%20%20%20%20%20%20%20%20%20%20%20%20%20%20%20%20%7B%22attribution%22%3A%20%22Data%20by%20%5Cu0026copy%3B%20%5Cu003ca%20href%3D%5C%22http%3A//openstreetmap.org%5C%22%5Cu003eOpenStreetMap%5Cu003c/a%5Cu003e%2C%20under%20%5Cu003ca%20href%3D%5C%22http%3A//www.openstreetmap.org/copyright%5C%22%5Cu003eODbL%5Cu003c/a%5Cu003e.%22%2C%20%22detectRetina%22%3A%20false%2C%20%22maxNativeZoom%22%3A%2018%2C%20%22maxZoom%22%3A%2018%2C%20%22minZoom%22%3A%200%2C%20%22noWrap%22%3A%20false%2C%20%22opacity%22%3A%201%2C%20%22subdomains%22%3A%20%22abc%22%2C%20%22tms%22%3A%20false%7D%0A%20%20%20%20%20%20%20%20%20%20%20%20%29.addTo%28map_13324ba11d0e41c39cafeac5a3f0a7d5%29%3B%0A%20%20%20%20%20%20%20%20%0A%20%20%20%20%0A%20%20%20%20%20%20%20%20%20%20%20%20var%20marker_5eb009b912134a288267cd8057034022%20%3D%20L.marker%28%0A%20%20%20%20%20%20%20%20%20%20%20%20%20%20%20%20%5B33.2532700888151%2C%20126.555250836738%5D%2C%0A%20%20%20%20%20%20%20%20%20%20%20%20%20%20%20%20%7B%7D%0A%20%20%20%20%20%20%20%20%20%20%20%20%29.addTo%28map_13324ba11d0e41c39cafeac5a3f0a7d5%29%3B%0A%20%20%20%20%20%20%20%20%0A%20%20%20%20%0A%20%20%20%20%20%20%20%20%20%20%20%20var%20icon_9756927b6fce4f1fb44ae2d56b5855ee%20%3D%20L.AwesomeMarkers.icon%28%0A%20%20%20%20%20%20%20%20%20%20%20%20%20%20%20%20%7B%22extraClasses%22%3A%20%22fa-rotate-0%22%2C%20%22icon%22%3A%20%22bookmark%22%2C%20%22iconColor%22%3A%20%22white%22%2C%20%22markerColor%22%3A%20%22red%22%2C%20%22prefix%22%3A%20%22fa%22%7D%0A%20%20%20%20%20%20%20%20%20%20%20%20%29%3B%0A%20%20%20%20%20%20%20%20%20%20%20%20marker_5eb009b912134a288267cd8057034022.setIcon%28icon_9756927b6fce4f1fb44ae2d56b5855ee%29%3B%0A%20%20%20%20%20%20%20%20%0A%20%20%20%20%0A%20%20%20%20%20%20%20%20var%20popup_2d58fa3e11cb419cbc8f6299c9ba69e8%20%3D%20L.popup%28%7B%22maxWidth%22%3A%20%22100%25%22%7D%29%3B%0A%0A%20%20%20%20%20%20%20%20%0A%20%20%20%20%20%20%20%20%20%20%20%20var%20html_188315ba37f84e1dba78a01b4787f9c9%20%3D%20%24%28%60%3Cdiv%20id%3D%22html_188315ba37f84e1dba78a01b4787f9c9%22%20style%3D%22width%3A%20100.0%25%3B%20height%3A%20100.0%25%3B%22%3E%EC%84%9C%EA%B7%80%ED%8F%AC%EC%8B%9C%28%EC%84%9C%EA%B7%80%ED%8F%AC%EB%B3%B4%EA%B1%B4%EC%86%8C%29%3C/div%3E%60%29%5B0%5D%3B%0A%20%20%20%20%20%20%20%20%20%20%20%20popup_2d58fa3e11cb419cbc8f6299c9ba69e8.setContent%28html_188315ba37f84e1dba78a01b4787f9c9%29%3B%0A%20%20%20%20%20%20%20%20%0A%0A%20%20%20%20%20%20%20%20marker_5eb009b912134a288267cd8057034022.bindPopup%28popup_2d58fa3e11cb419cbc8f6299c9ba69e8%29%0A%20%20%20%20%20%20%20%20%3B%0A%0A%20%20%20%20%20%20%20%20%0A%20%20%20%20%0A%20%20%20%20%0A%20%20%20%20%20%20%20%20%20%20%20%20var%20marker_900f59390ff040b5b43245d202ffbb6e%20%3D%20L.marker%28%0A%20%20%20%20%20%20%20%20%20%20%20%20%20%20%20%20%5B33.2544659162544%2C%20126.565425372675%5D%2C%0A%20%20%20%20%20%20%20%20%20%20%20%20%20%20%20%20%7B%7D%0A%20%20%20%20%20%20%20%20%20%20%20%20%29.addTo%28map_13324ba11d0e41c39cafeac5a3f0a7d5%29%3B%0A%20%20%20%20%20%20%20%20%0A%20%20%20%20%0A%20%20%20%20%20%20%20%20%20%20%20%20var%20icon_7afed1c258864dda91ac37a2c709038e%20%3D%20L.AwesomeMarkers.icon%28%0A%20%20%20%20%20%20%20%20%20%20%20%20%20%20%20%20%7B%22extraClasses%22%3A%20%22fa-rotate-0%22%2C%20%22icon%22%3A%20%22bookmark%22%2C%20%22iconColor%22%3A%20%22white%22%2C%20%22markerColor%22%3A%20%22red%22%2C%20%22prefix%22%3A%20%22fa%22%7D%0A%20%20%20%20%20%20%20%20%20%20%20%20%29%3B%0A%20%20%20%20%20%20%20%20%20%20%20%20marker_900f59390ff040b5b43245d202ffbb6e.setIcon%28icon_7afed1c258864dda91ac37a2c709038e%29%3B%0A%20%20%20%20%20%20%20%20%0A%20%20%20%20%0A%20%20%20%20%20%20%20%20var%20popup_5b2644c5f88a4483baf7ca62db8eb829%20%3D%20L.popup%28%7B%22maxWidth%22%3A%20%22100%25%22%7D%29%3B%0A%0A%20%20%20%20%20%20%20%20%0A%20%20%20%20%20%20%20%20%20%20%20%20var%20html_aba4bd6f4a8346dd81ee847ed493a0c9%20%3D%20%24%28%60%3Cdiv%20id%3D%22html_aba4bd6f4a8346dd81ee847ed493a0c9%22%20style%3D%22width%3A%20100.0%25%3B%20height%3A%20100.0%25%3B%22%3E%EC%84%9C%EA%B7%80%ED%8F%AC%EC%97%B4%EB%A6%B0%EB%B3%91%EC%9B%90%3C/div%3E%60%29%5B0%5D%3B%0A%20%20%20%20%20%20%20%20%20%20%20%20popup_5b2644c5f88a4483baf7ca62db8eb829.setContent%28html_aba4bd6f4a8346dd81ee847ed493a0c9%29%3B%0A%20%20%20%20%20%20%20%20%0A%0A%20%20%20%20%20%20%20%20marker_900f59390ff040b5b43245d202ffbb6e.bindPopup%28popup_5b2644c5f88a4483baf7ca62db8eb829%29%0A%20%20%20%20%20%20%20%20%3B%0A%0A%20%20%20%20%20%20%20%20%0A%20%20%20%20%0A%20%20%20%20%0A%20%20%20%20%20%20%20%20%20%20%20%20var%20marker_a95b4c6dacfa4fa8a5208a247e64b84b%20%3D%20L.marker%28%0A%20%20%20%20%20%20%20%20%20%20%20%20%20%20%20%20%5B33.2559809912099%2C%20126.562948872895%5D%2C%0A%20%20%20%20%20%20%20%20%20%20%20%20%20%20%20%20%7B%7D%0A%20%20%20%20%20%20%20%20%20%20%20%20%29.addTo%28map_13324ba11d0e41c39cafeac5a3f0a7d5%29%3B%0A%20%20%20%20%20%20%20%20%0A%20%20%20%20%0A%20%20%20%20%20%20%20%20%20%20%20%20var%20icon_4c9e4bbecd4e43358fb33bdae39c868d%20%3D%20L.AwesomeMarkers.icon%28%0A%20%20%20%20%20%20%20%20%20%20%20%20%20%20%20%20%7B%22extraClasses%22%3A%20%22fa-rotate-0%22%2C%20%22icon%22%3A%20%22bookmark%22%2C%20%22iconColor%22%3A%20%22white%22%2C%20%22markerColor%22%3A%20%22red%22%2C%20%22prefix%22%3A%20%22fa%22%7D%0A%20%20%20%20%20%20%20%20%20%20%20%20%29%3B%0A%20%20%20%20%20%20%20%20%20%20%20%20marker_a95b4c6dacfa4fa8a5208a247e64b84b.setIcon%28icon_4c9e4bbecd4e43358fb33bdae39c868d%29%3B%0A%20%20%20%20%20%20%20%20%0A%20%20%20%20%0A%20%20%20%20%20%20%20%20var%20popup_b3fad35f0c624145a59fe7736dcc920e%20%3D%20L.popup%28%7B%22maxWidth%22%3A%20%22100%25%22%7D%29%3B%0A%0A%20%20%20%20%20%20%20%20%0A%20%20%20%20%20%20%20%20%20%20%20%20var%20html_8abe0f59a6a6461ba0a77603f0c8252b%20%3D%20%24%28%60%3Cdiv%20id%3D%22html_8abe0f59a6a6461ba0a77603f0c8252b%22%20style%3D%22width%3A%20100.0%25%3B%20height%3A%20100.0%25%3B%22%3E%EC%84%9C%EA%B7%80%ED%8F%AC%EC%9D%98%EB%A3%8C%EC%9B%90%3C/div%3E%60%29%5B0%5D%3B%0A%20%20%20%20%20%20%20%20%20%20%20%20popup_b3fad35f0c624145a59fe7736dcc920e.setContent%28html_8abe0f59a6a6461ba0a77603f0c8252b%29%3B%0A%20%20%20%20%20%20%20%20%0A%0A%20%20%20%20%20%20%20%20marker_a95b4c6dacfa4fa8a5208a247e64b84b.bindPopup%28popup_b3fad35f0c624145a59fe7736dcc920e%29%0A%20%20%20%20%20%20%20%20%3B%0A%0A%20%20%20%20%20%20%20%20%0A%20%20%20%20%0A%20%20%20%20%0A%20%20%20%20%20%20%20%20%20%20%20%20var%20marker_07dd1131bcbf4918ad0a70646461a331%20%3D%20L.marker%28%0A%20%20%20%20%20%20%20%20%20%20%20%20%20%20%20%20%5B33.2186942969756%2C%20126.253410446884%5D%2C%0A%20%20%20%20%20%20%20%20%20%20%20%20%20%20%20%20%7B%7D%0A%20%20%20%20%20%20%20%20%20%20%20%20%29.addTo%28map_13324ba11d0e41c39cafeac5a3f0a7d5%29%3B%0A%20%20%20%20%20%20%20%20%0A%20%20%20%20%0A%20%20%20%20%20%20%20%20%20%20%20%20var%20icon_0f7d853b9ceb4547acfc5eeaed2f9400%20%3D%20L.AwesomeMarkers.icon%28%0A%20%20%20%20%20%20%20%20%20%20%20%20%20%20%20%20%7B%22extraClasses%22%3A%20%22fa-rotate-0%22%2C%20%22icon%22%3A%20%22bookmark%22%2C%20%22iconColor%22%3A%20%22white%22%2C%20%22markerColor%22%3A%20%22red%22%2C%20%22prefix%22%3A%20%22fa%22%7D%0A%20%20%20%20%20%20%20%20%20%20%20%20%29%3B%0A%20%20%20%20%20%20%20%20%20%20%20%20marker_07dd1131bcbf4918ad0a70646461a331.setIcon%28icon_0f7d853b9ceb4547acfc5eeaed2f9400%29%3B%0A%20%20%20%20%20%20%20%20%0A%20%20%20%20%0A%20%20%20%20%20%20%20%20var%20popup_04d1699f874e4265aba0a40e55a2bcd3%20%3D%20L.popup%28%7B%22maxWidth%22%3A%20%22100%25%22%7D%29%3B%0A%0A%20%20%20%20%20%20%20%20%0A%20%20%20%20%20%20%20%20%20%20%20%20var%20html_e7897a3a753b4798bf9b90503fbf7cb2%20%3D%20%24%28%60%3Cdiv%20id%3D%22html_e7897a3a753b4798bf9b90503fbf7cb2%22%20style%3D%22width%3A%20100.0%25%3B%20height%3A%20100.0%25%3B%22%3E%EC%84%9C%EA%B7%80%ED%8F%AC%EC%8B%9C%28%EC%84%9C%EB%B6%80%EB%B3%B4%EA%B1%B4%EC%86%8C%29%3C/div%3E%60%29%5B0%5D%3B%0A%20%20%20%20%20%20%20%20%20%20%20%20popup_04d1699f874e4265aba0a40e55a2bcd3.setContent%28html_e7897a3a753b4798bf9b90503fbf7cb2%29%3B%0A%20%20%20%20%20%20%20%20%0A%0A%20%20%20%20%20%20%20%20marker_07dd1131bcbf4918ad0a70646461a331.bindPopup%28popup_04d1699f874e4265aba0a40e55a2bcd3%29%0A%20%20%20%20%20%20%20%20%3B%0A%0A%20%20%20%20%20%20%20%20%0A%20%20%20%20%0A%20%20%20%20%0A%20%20%20%20%20%20%20%20%20%20%20%20var%20marker_a3ffc28e1c66432ab05ba38222384295%20%3D%20L.marker%28%0A%20%20%20%20%20%20%20%20%20%20%20%20%20%20%20%20%5B33.4917394006488%2C%20126.520234177096%5D%2C%0A%20%20%20%20%20%20%20%20%20%20%20%20%20%20%20%20%7B%7D%0A%20%20%20%20%20%20%20%20%20%20%20%20%29.addTo%28map_13324ba11d0e41c39cafeac5a3f0a7d5%29%3B%0A%20%20%20%20%20%20%20%20%0A%20%20%20%20%0A%20%20%20%20%20%20%20%20%20%20%20%20var%20icon_3dc4129763cc4c6f8ed531a22e312409%20%3D%20L.AwesomeMarkers.icon%28%0A%20%20%20%20%20%20%20%20%20%20%20%20%20%20%20%20%7B%22extraClasses%22%3A%20%22fa-rotate-0%22%2C%20%22icon%22%3A%20%22bookmark%22%2C%20%22iconColor%22%3A%20%22white%22%2C%20%22markerColor%22%3A%20%22red%22%2C%20%22prefix%22%3A%20%22fa%22%7D%0A%20%20%20%20%20%20%20%20%20%20%20%20%29%3B%0A%20%20%20%20%20%20%20%20%20%20%20%20marker_a3ffc28e1c66432ab05ba38222384295.setIcon%28icon_3dc4129763cc4c6f8ed531a22e312409%29%3B%0A%20%20%20%20%20%20%20%20%0A%20%20%20%20%0A%20%20%20%20%20%20%20%20var%20popup_03165827aa1947e6be87cfe033665074%20%3D%20L.popup%28%7B%22maxWidth%22%3A%20%22100%25%22%7D%29%3B%0A%0A%20%20%20%20%20%20%20%20%0A%20%20%20%20%20%20%20%20%20%20%20%20var%20html_5ccfcddf8c0e4f1888b2d4455053ae33%20%3D%20%24%28%60%3Cdiv%20id%3D%22html_5ccfcddf8c0e4f1888b2d4455053ae33%22%20style%3D%22width%3A%20100.0%25%3B%20height%3A%20100.0%25%3B%22%3E%EC%A0%9C%EC%A3%BC%EC%8B%9C%EC%A0%9C%EC%A3%BC%EB%B3%B4%EA%B1%B4%EC%86%8C%3C/div%3E%60%29%5B0%5D%3B%0A%20%20%20%20%20%20%20%20%20%20%20%20popup_03165827aa1947e6be87cfe033665074.setContent%28html_5ccfcddf8c0e4f1888b2d4455053ae33%29%3B%0A%20%20%20%20%20%20%20%20%0A%0A%20%20%20%20%20%20%20%20marker_a3ffc28e1c66432ab05ba38222384295.bindPopup%28popup_03165827aa1947e6be87cfe033665074%29%0A%20%20%20%20%20%20%20%20%3B%0A%0A%20%20%20%20%20%20%20%20%0A%20%20%20%20%0A%20%20%20%20%0A%20%20%20%20%20%20%20%20%20%20%20%20var%20marker_ed1d843133c94c02b4225cf4d441bf54%20%3D%20L.marker%28%0A%20%20%20%20%20%20%20%20%20%20%20%20%20%20%20%20%5B33.4902661749243%2C%20126.484919722369%5D%2C%0A%20%20%20%20%20%20%20%20%20%20%20%20%20%20%20%20%7B%7D%0A%20%20%20%20%20%20%20%20%20%20%20%20%29.addTo%28map_13324ba11d0e41c39cafeac5a3f0a7d5%29%3B%0A%20%20%20%20%20%20%20%20%0A%20%20%20%20%0A%20%20%20%20%20%20%20%20%20%20%20%20var%20icon_6002677074d14d988d3d13e2608e8015%20%3D%20L.AwesomeMarkers.icon%28%0A%20%20%20%20%20%20%20%20%20%20%20%20%20%20%20%20%7B%22extraClasses%22%3A%20%22fa-rotate-0%22%2C%20%22icon%22%3A%20%22bookmark%22%2C%20%22iconColor%22%3A%20%22white%22%2C%20%22markerColor%22%3A%20%22red%22%2C%20%22prefix%22%3A%20%22fa%22%7D%0A%20%20%20%20%20%20%20%20%20%20%20%20%29%3B%0A%20%20%20%20%20%20%20%20%20%20%20%20marker_ed1d843133c94c02b4225cf4d441bf54.setIcon%28icon_6002677074d14d988d3d13e2608e8015%29%3B%0A%20%20%20%20%20%20%20%20%0A%20%20%20%20%0A%20%20%20%20%20%20%20%20var%20popup_90087a10390c440aa2d876d94b514f59%20%3D%20L.popup%28%7B%22maxWidth%22%3A%20%22100%25%22%7D%29%3B%0A%0A%20%20%20%20%20%20%20%20%0A%20%20%20%20%20%20%20%20%20%20%20%20var%20html_6ecc575500f04dafa868d63257f9db0d%20%3D%20%24%28%60%3Cdiv%20id%3D%22html_6ecc575500f04dafa868d63257f9db0d%22%20style%3D%22width%3A%20100.0%25%3B%20height%3A%20100.0%25%3B%22%3E%EC%A0%9C%EC%A3%BC%ED%95%9C%EB%9D%BC%EB%B3%91%EC%9B%90%3C/div%3E%60%29%5B0%5D%3B%0A%20%20%20%20%20%20%20%20%20%20%20%20popup_90087a10390c440aa2d876d94b514f59.setContent%28html_6ecc575500f04dafa868d63257f9db0d%29%3B%0A%20%20%20%20%20%20%20%20%0A%0A%20%20%20%20%20%20%20%20marker_ed1d843133c94c02b4225cf4d441bf54.bindPopup%28popup_90087a10390c440aa2d876d94b514f59%29%0A%20%20%20%20%20%20%20%20%3B%0A%0A%20%20%20%20%20%20%20%20%0A%20%20%20%20%0A%20%20%20%20%0A%20%20%20%20%20%20%20%20%20%20%20%20var%20marker_991b7678a4ec4ffd8b6771a404732c90%20%3D%20L.marker%28%0A%20%20%20%20%20%20%20%20%20%20%20%20%20%20%20%20%5B33.4962868079834%2C%20126.546238571767%5D%2C%0A%20%20%20%20%20%20%20%20%20%20%20%20%20%20%20%20%7B%7D%0A%20%20%20%20%20%20%20%20%20%20%20%20%29.addTo%28map_13324ba11d0e41c39cafeac5a3f0a7d5%29%3B%0A%20%20%20%20%20%20%20%20%0A%20%20%20%20%0A%20%20%20%20%20%20%20%20%20%20%20%20var%20icon_6429d2e0cc1f4d0b89d242fc6425d284%20%3D%20L.AwesomeMarkers.icon%28%0A%20%20%20%20%20%20%20%20%20%20%20%20%20%20%20%20%7B%22extraClasses%22%3A%20%22fa-rotate-0%22%2C%20%22icon%22%3A%20%22bookmark%22%2C%20%22iconColor%22%3A%20%22white%22%2C%20%22markerColor%22%3A%20%22red%22%2C%20%22prefix%22%3A%20%22fa%22%7D%0A%20%20%20%20%20%20%20%20%20%20%20%20%29%3B%0A%20%20%20%20%20%20%20%20%20%20%20%20marker_991b7678a4ec4ffd8b6771a404732c90.setIcon%28icon_6429d2e0cc1f4d0b89d242fc6425d284%29%3B%0A%20%20%20%20%20%20%20%20%0A%20%20%20%20%0A%20%20%20%20%20%20%20%20var%20popup_0a47541cb1f246f7ababc20858ec2c2f%20%3D%20L.popup%28%7B%22maxWidth%22%3A%20%22100%25%22%7D%29%3B%0A%0A%20%20%20%20%20%20%20%20%0A%20%20%20%20%20%20%20%20%20%20%20%20var%20html_25eab5783ca24cdbad0bde40e0a4f708%20%3D%20%24%28%60%3Cdiv%20id%3D%22html_25eab5783ca24cdbad0bde40e0a4f708%22%20style%3D%22width%3A%20100.0%25%3B%20height%3A%20100.0%25%3B%22%3E%ED%95%9C%EB%A7%88%EC%9D%8C%EB%B3%91%EC%9B%90%3C/div%3E%60%29%5B0%5D%3B%0A%20%20%20%20%20%20%20%20%20%20%20%20popup_0a47541cb1f246f7ababc20858ec2c2f.setContent%28html_25eab5783ca24cdbad0bde40e0a4f708%29%3B%0A%20%20%20%20%20%20%20%20%0A%0A%20%20%20%20%20%20%20%20marker_991b7678a4ec4ffd8b6771a404732c90.bindPopup%28popup_0a47541cb1f246f7ababc20858ec2c2f%29%0A%20%20%20%20%20%20%20%20%3B%0A%0A%20%20%20%20%20%20%20%20%0A%20%20%20%20%0A%20%20%20%20%0A%20%20%20%20%20%20%20%20%20%20%20%20var%20marker_661f8eb2ee064da6bc7461e875ab7582%20%3D%20L.marker%28%0A%20%20%20%20%20%20%20%20%20%20%20%20%20%20%20%20%5B33.5003915262127%2C%20126.516729196278%5D%2C%0A%20%20%20%20%20%20%20%20%20%20%20%20%20%20%20%20%7B%7D%0A%20%20%20%20%20%20%20%20%20%20%20%20%29.addTo%28map_13324ba11d0e41c39cafeac5a3f0a7d5%29%3B%0A%20%20%20%20%20%20%20%20%0A%20%20%20%20%0A%20%20%20%20%20%20%20%20%20%20%20%20var%20icon_dd28231e9d9c469793fc467cb146a5d3%20%3D%20L.AwesomeMarkers.icon%28%0A%20%20%20%20%20%20%20%20%20%20%20%20%20%20%20%20%7B%22extraClasses%22%3A%20%22fa-rotate-0%22%2C%20%22icon%22%3A%20%22bookmark%22%2C%20%22iconColor%22%3A%20%22white%22%2C%20%22markerColor%22%3A%20%22red%22%2C%20%22prefix%22%3A%20%22fa%22%7D%0A%20%20%20%20%20%20%20%20%20%20%20%20%29%3B%0A%20%20%20%20%20%20%20%20%20%20%20%20marker_661f8eb2ee064da6bc7461e875ab7582.setIcon%28icon_dd28231e9d9c469793fc467cb146a5d3%29%3B%0A%20%20%20%20%20%20%20%20%0A%20%20%20%20%0A%20%20%20%20%20%20%20%20var%20popup_189b128b591a4012b00cce4da0f534b3%20%3D%20L.popup%28%7B%22maxWidth%22%3A%20%22100%25%22%7D%29%3B%0A%0A%20%20%20%20%20%20%20%20%0A%20%20%20%20%20%20%20%20%20%20%20%20var%20html_57b62f89e05344db81ff1c5ba57b0a2c%20%3D%20%24%28%60%3Cdiv%20id%3D%22html_57b62f89e05344db81ff1c5ba57b0a2c%22%20style%3D%22width%3A%20100.0%25%3B%20height%3A%20100.0%25%3B%22%3E%ED%95%9C%EA%B5%AD%EB%B3%91%EC%9B%90%3C/div%3E%60%29%5B0%5D%3B%0A%20%20%20%20%20%20%20%20%20%20%20%20popup_189b128b591a4012b00cce4da0f534b3.setContent%28html_57b62f89e05344db81ff1c5ba57b0a2c%29%3B%0A%20%20%20%20%20%20%20%20%0A%0A%20%20%20%20%20%20%20%20marker_661f8eb2ee064da6bc7461e875ab7582.bindPopup%28popup_189b128b591a4012b00cce4da0f534b3%29%0A%20%20%20%20%20%20%20%20%3B%0A%0A%20%20%20%20%20%20%20%20%0A%20%20%20%20%0A%20%20%20%20%0A%20%20%20%20%20%20%20%20%20%20%20%20var%20marker_6529fc7bfbfd47e5a58ab84fa42db48f%20%3D%20L.marker%28%0A%20%20%20%20%20%20%20%20%20%20%20%20%20%20%20%20%5B33.4923211704292%2C%20126.470480704295%5D%2C%0A%20%20%20%20%20%20%20%20%20%20%20%20%20%20%20%20%7B%7D%0A%20%20%20%20%20%20%20%20%20%20%20%20%29.addTo%28map_13324ba11d0e41c39cafeac5a3f0a7d5%29%3B%0A%20%20%20%20%20%20%20%20%0A%20%20%20%20%0A%20%20%20%20%20%20%20%20%20%20%20%20var%20icon_0f3fa827f0f24526807176b56dddd98e%20%3D%20L.AwesomeMarkers.icon%28%0A%20%20%20%20%20%20%20%20%20%20%20%20%20%20%20%20%7B%22extraClasses%22%3A%20%22fa-rotate-0%22%2C%20%22icon%22%3A%20%22bookmark%22%2C%20%22iconColor%22%3A%20%22white%22%2C%20%22markerColor%22%3A%20%22red%22%2C%20%22prefix%22%3A%20%22fa%22%7D%0A%20%20%20%20%20%20%20%20%20%20%20%20%29%3B%0A%20%20%20%20%20%20%20%20%20%20%20%20marker_6529fc7bfbfd47e5a58ab84fa42db48f.setIcon%28icon_0f3fa827f0f24526807176b56dddd98e%29%3B%0A%20%20%20%20%20%20%20%20%0A%20%20%20%20%0A%20%20%20%20%20%20%20%20var%20popup_0eca32ab940f404daf0371989552c96a%20%3D%20L.popup%28%7B%22maxWidth%22%3A%20%22100%25%22%7D%29%3B%0A%0A%20%20%20%20%20%20%20%20%0A%20%20%20%20%20%20%20%20%20%20%20%20var%20html_b25017d835574331a8541cffdc4abf9c%20%3D%20%24%28%60%3Cdiv%20id%3D%22html_b25017d835574331a8541cffdc4abf9c%22%20style%3D%22width%3A%20100.0%25%3B%20height%3A%20100.0%25%3B%22%3E%EC%A4%91%EC%95%99%EB%B3%91%EC%9B%90%3C/div%3E%60%29%5B0%5D%3B%0A%20%20%20%20%20%20%20%20%20%20%20%20popup_0eca32ab940f404daf0371989552c96a.setContent%28html_b25017d835574331a8541cffdc4abf9c%29%3B%0A%20%20%20%20%20%20%20%20%0A%0A%20%20%20%20%20%20%20%20marker_6529fc7bfbfd47e5a58ab84fa42db48f.bindPopup%28popup_0eca32ab940f404daf0371989552c96a%29%0A%20%20%20%20%20%20%20%20%3B%0A%0A%20%20%20%20%20%20%20%20%0A%20%20%20%20%0A%20%20%20%20%0A%20%20%20%20%20%20%20%20%20%20%20%20var%20marker_e84382c0768048628879d1e1fcd4c219%20%3D%20L.marker%28%0A%20%20%20%20%20%20%20%20%20%20%20%20%20%20%20%20%5B33.5543515285666%2C%20126.751328022367%5D%2C%0A%20%20%20%20%20%20%20%20%20%20%20%20%20%20%20%20%7B%7D%0A%20%20%20%20%20%20%20%20%20%20%20%20%29.addTo%28map_13324ba11d0e41c39cafeac5a3f0a7d5%29%3B%0A%20%20%20%20%20%20%20%20%0A%20%20%20%20%0A%20%20%20%20%20%20%20%20%20%20%20%20var%20icon_6c9217db7ddb4b1b99b4f5c362703f45%20%3D%20L.AwesomeMarkers.icon%28%0A%20%20%20%20%20%20%20%20%20%20%20%20%20%20%20%20%7B%22extraClasses%22%3A%20%22fa-rotate-0%22%2C%20%22icon%22%3A%20%22bookmark%22%2C%20%22iconColor%22%3A%20%22white%22%2C%20%22markerColor%22%3A%20%22red%22%2C%20%22prefix%22%3A%20%22fa%22%7D%0A%20%20%20%20%20%20%20%20%20%20%20%20%29%3B%0A%20%20%20%20%20%20%20%20%20%20%20%20marker_e84382c0768048628879d1e1fcd4c219.setIcon%28icon_6c9217db7ddb4b1b99b4f5c362703f45%29%3B%0A%20%20%20%20%20%20%20%20%0A%20%20%20%20%0A%20%20%20%20%20%20%20%20var%20popup_608aa117cd7e444da3f266b046398310%20%3D%20L.popup%28%7B%22maxWidth%22%3A%20%22100%25%22%7D%29%3B%0A%0A%20%20%20%20%20%20%20%20%0A%20%20%20%20%20%20%20%20%20%20%20%20var%20html_87e29c46f1904ea4950ee97fe71345f5%20%3D%20%24%28%60%3Cdiv%20id%3D%22html_87e29c46f1904ea4950ee97fe71345f5%22%20style%3D%22width%3A%20100.0%25%3B%20height%3A%20100.0%25%3B%22%3E%EC%A0%9C%EC%A3%BC%EC%8B%9C%28%EB%8F%99%EB%B6%80%EB%B3%B4%EA%B1%B4%EC%86%8C%29%3C/div%3E%60%29%5B0%5D%3B%0A%20%20%20%20%20%20%20%20%20%20%20%20popup_608aa117cd7e444da3f266b046398310.setContent%28html_87e29c46f1904ea4950ee97fe71345f5%29%3B%0A%20%20%20%20%20%20%20%20%0A%0A%20%20%20%20%20%20%20%20marker_e84382c0768048628879d1e1fcd4c219.bindPopup%28popup_608aa117cd7e444da3f266b046398310%29%0A%20%20%20%20%20%20%20%20%3B%0A%0A%20%20%20%20%20%20%20%20%0A%20%20%20%20%0A%20%20%20%20%0A%20%20%20%20%20%20%20%20%20%20%20%20var%20marker_80ace48821d1436d9e8573a537f37567%20%3D%20L.marker%28%0A%20%20%20%20%20%20%20%20%20%20%20%20%20%20%20%20%5B33.4124054749497%2C%20126.269467817541%5D%2C%0A%20%20%20%20%20%20%20%20%20%20%20%20%20%20%20%20%7B%7D%0A%20%20%20%20%20%20%20%20%20%20%20%20%29.addTo%28map_13324ba11d0e41c39cafeac5a3f0a7d5%29%3B%0A%20%20%20%20%20%20%20%20%0A%20%20%20%20%0A%20%20%20%20%20%20%20%20%20%20%20%20var%20icon_a4a9abfc734e4fc1ae48438c1a66c29d%20%3D%20L.AwesomeMarkers.icon%28%0A%20%20%20%20%20%20%20%20%20%20%20%20%20%20%20%20%7B%22extraClasses%22%3A%20%22fa-rotate-0%22%2C%20%22icon%22%3A%20%22bookmark%22%2C%20%22iconColor%22%3A%20%22white%22%2C%20%22markerColor%22%3A%20%22red%22%2C%20%22prefix%22%3A%20%22fa%22%7D%0A%20%20%20%20%20%20%20%20%20%20%20%20%29%3B%0A%20%20%20%20%20%20%20%20%20%20%20%20marker_80ace48821d1436d9e8573a537f37567.setIcon%28icon_a4a9abfc734e4fc1ae48438c1a66c29d%29%3B%0A%20%20%20%20%20%20%20%20%0A%20%20%20%20%0A%20%20%20%20%20%20%20%20var%20popup_84457f205da14d28aaf1d698982ed2a3%20%3D%20L.popup%28%7B%22maxWidth%22%3A%20%22100%25%22%7D%29%3B%0A%0A%20%20%20%20%20%20%20%20%0A%20%20%20%20%20%20%20%20%20%20%20%20var%20html_5ea44bfbc6d84ac9aa31cc67bb89727e%20%3D%20%24%28%60%3Cdiv%20id%3D%22html_5ea44bfbc6d84ac9aa31cc67bb89727e%22%20style%3D%22width%3A%20100.0%25%3B%20height%3A%20100.0%25%3B%22%3E%EC%A0%9C%EC%A3%BC%EC%8B%9C%28%EC%84%9C%EB%B6%80%EB%B3%B4%EA%B1%B4%EC%86%8C%29%3C/div%3E%60%29%5B0%5D%3B%0A%20%20%20%20%20%20%20%20%20%20%20%20popup_84457f205da14d28aaf1d698982ed2a3.setContent%28html_5ea44bfbc6d84ac9aa31cc67bb89727e%29%3B%0A%20%20%20%20%20%20%20%20%0A%0A%20%20%20%20%20%20%20%20marker_80ace48821d1436d9e8573a537f37567.bindPopup%28popup_84457f205da14d28aaf1d698982ed2a3%29%0A%20%20%20%20%20%20%20%20%3B%0A%0A%20%20%20%20%20%20%20%20%0A%20%20%20%20%0A%3C/script%3E onload=\"this.contentDocument.open();this.contentDocument.write(    decodeURIComponent(this.getAttribute('data-html')));this.contentDocument.close();\" allowfullscreen webkitallowfullscreen mozallowfullscreen></iframe></div></div>"
      ],
      "text/plain": [
       "<folium.folium.Map at 0x1a88e69a9a0>"
      ]
     },
     "execution_count": 19,
     "metadata": {},
     "output_type": "execute_result"
    }
   ],
   "source": [
    "# 지도 시작 중앙값 설정 \n",
    "map = folium.Map(location=[lat_center, long_center], \n",
    "                 zoom_start=10\n",
    "                )\n",
    "\n",
    "for i in range(len(df_clinic)):\n",
    "    folium.Marker([df_clinic.iloc[i,2], \\\n",
    "                   df_clinic.iloc[i,3]], \\\n",
    "                   popup=df_clinic.index[i], \\\n",
    "                   icon=folium.Icon(icon='bookmark', \\\n",
    "                                    color='red',  \\\n",
    "                                    prefix='fa')\\\n",
    "                 ).add_to(map)\n",
    "map"
   ]
  },
  {
   "cell_type": "markdown",
   "metadata": {},
   "source": [
    "### 주소가 잘못된 경우 return 값은?"
   ]
  },
  {
   "cell_type": "code",
   "execution_count": 20,
   "metadata": {},
   "outputs": [],
   "source": [
    "address='서울 강동구 성내3, 4동 541-2'\n"
   ]
  },
  {
   "cell_type": "code",
   "execution_count": null,
   "metadata": {},
   "outputs": [],
   "source": []
  },
  {
   "cell_type": "markdown",
   "metadata": {},
   "source": [
    "# 퀴즈 - 경기도 선별 진료소의 지도 시각화 "
   ]
  },
  {
   "cell_type": "raw",
   "metadata": {},
   "source": [
    "1) 선별진료소_전국.csv 을 이용하여 경기도와 관련된 데이타프레임을 생성하여라. \n",
    "   - '시군구','주소' 컬럼만 있도록 한다. 나머지는 삭제 \n",
    "   - 의료기관명 컬럼 값은 인덱스명으로 설정한다. \n",
    "   \n",
    "2) 위도와 경도 컬럼(값은 0)을 삽입하여라.\n",
    "3) API를 이용하여 주소를 이용하여 위도, 경도 컬럼 값을 삽입하여라 \n",
    "   - 주소에 해당하는 위도, 경도 값이 없는 경우 0을 유지한다. \n",
    "4) 위도, 경도가 0인 행만 출력하여라. \n",
    "5) 주소를 입력하면 위도와 경도 값이 리턴되는 함수를 생성하여라. \n",
    "6) 5의 함수를 이용하여 \n",
    "   위도, 경도가 0인 경우 병원을 제외한 나머지 진료소는 \n",
    "   관련된 동, 면, 군의 주소로 위도, 경도 값을 대체하여라. \n",
    "7) 나머지 위도, 경도가 0인 데이타는 \n",
    "   구글맵등을 이용하여 병원명으로 검색하여 위도, 경도 값을 교체하여라\n",
    "8) folium map을 이용하여 경기도 선별 진료소의 마커를 표시하여라"
   ]
  },
  {
   "cell_type": "code",
   "execution_count": null,
   "metadata": {},
   "outputs": [],
   "source": []
  },
  {
   "cell_type": "code",
   "execution_count": null,
   "metadata": {},
   "outputs": [],
   "source": []
  },
  {
   "cell_type": "code",
   "execution_count": null,
   "metadata": {},
   "outputs": [],
   "source": []
  },
  {
   "cell_type": "code",
   "execution_count": null,
   "metadata": {},
   "outputs": [],
   "source": []
  },
  {
   "cell_type": "code",
   "execution_count": null,
   "metadata": {},
   "outputs": [],
   "source": []
  }
 ],
 "metadata": {
  "kernelspec": {
   "display_name": "Python 3",
   "language": "python",
   "name": "python3"
  },
  "language_info": {
   "codemirror_mode": {
    "name": "ipython",
    "version": 3
   },
   "file_extension": ".py",
   "mimetype": "text/x-python",
   "name": "python",
   "nbconvert_exporter": "python",
   "pygments_lexer": "ipython3",
   "version": "3.8.8"
  }
 },
 "nbformat": 4,
 "nbformat_minor": 2
}
