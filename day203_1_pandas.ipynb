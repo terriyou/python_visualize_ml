{
 "cells": [
  {
   "cell_type": "code",
   "execution_count": 1,
   "id": "211c4292",
   "metadata": {},
   "outputs": [
    {
     "data": {
      "text/html": [
       "<style>.container { font-weight: bold !important; }</style>"
      ],
      "text/plain": [
       "<IPython.core.display.HTML object>"
      ]
     },
     "metadata": {},
     "output_type": "display_data"
    },
    {
     "data": {
      "text/html": [
       "<style>.container { width: 100% !important; }</style>"
      ],
      "text/plain": [
       "<IPython.core.display.HTML object>"
      ]
     },
     "metadata": {},
     "output_type": "display_data"
    }
   ],
   "source": [
    "# 쥬피터노트북 셀 스타일 조절 \n",
    "from IPython.core.display import display, HTML\n",
    "display(HTML(\"<style>.container { font-weight: bold !important; }</style>\"))\n",
    "display(HTML(\"<style>.container { width: 100% !important; }</style>\"))\n",
    "\n",
    "# 경고 메세지 숨기기 \n",
    "import warnings\n",
    "warnings.filterwarnings(action='ignore')"
   ]
  },
  {
   "cell_type": "code",
   "execution_count": 10,
   "id": "f136b307",
   "metadata": {},
   "outputs": [],
   "source": [
    "import numpy as np \n",
    "import pandas as pd"
   ]
  },
  {
   "cell_type": "code",
   "execution_count": 3,
   "id": "d8f75efa",
   "metadata": {},
   "outputs": [
    {
     "data": {
      "text/plain": [
       "'1.2.4'"
      ]
     },
     "execution_count": 3,
     "metadata": {},
     "output_type": "execute_result"
    }
   ],
   "source": [
    "pd.__version__"
   ]
  },
  {
   "cell_type": "code",
   "execution_count": 8,
   "id": "41774b48",
   "metadata": {},
   "outputs": [],
   "source": [
    "# print(dir(np), len(dir(np)))"
   ]
  },
  {
   "cell_type": "code",
   "execution_count": 9,
   "id": "d8e9f48a",
   "metadata": {},
   "outputs": [],
   "source": [
    "# print(dir(pd), len(dir(pd)))"
   ]
  },
  {
   "cell_type": "markdown",
   "id": "7cf975cc",
   "metadata": {},
   "source": [
    "# 판다스의 자료 구조 \n",
    "\n",
    "- 넘파이 < 시리즈 < 데이타프레임 \n",
    "- 시리즈 \n",
    "- 데이타프레임 "
   ]
  },
  {
   "cell_type": "markdown",
   "id": "4cddc094",
   "metadata": {},
   "source": [
    "# 시리즈(Series)\n",
    "\n",
    "- 리스트와 딕셔너리 두가지의 장점을 섞어놓은 듯한 자료구조\n",
    "- 리스트나 튜플처럼 숫자인덱싱 \n",
    "- 딕셔너리와 같이 키인덱싱 \n",
    "```\n",
    "pd.Series(data=리스트/튜플/넘파이배열/딕셔너리, index=인덱스리스트)\n",
    "```"
   ]
  },
  {
   "cell_type": "code",
   "execution_count": 11,
   "id": "3884e47d",
   "metadata": {},
   "outputs": [],
   "source": [
    "pd.Series?"
   ]
  },
  {
   "cell_type": "code",
   "execution_count": 16,
   "id": "fb679e09",
   "metadata": {},
   "outputs": [
    {
     "data": {
      "text/plain": [
       "a    1\n",
       "b    2\n",
       "c    3\n",
       "d    4\n",
       "e    5\n",
       "dtype: int64"
      ]
     },
     "execution_count": 16,
     "metadata": {},
     "output_type": "execute_result"
    }
   ],
   "source": [
    "# 딕셔너리 => 시리즈 \n",
    "mydict = {'a': 1, 'b': 2, 'c': 3, 'd':4, 'e':5}\n",
    "s1 = pd.Series(data=mydict)\n",
    "s1"
   ]
  },
  {
   "cell_type": "code",
   "execution_count": 17,
   "id": "098643c5",
   "metadata": {},
   "outputs": [
    {
     "data": {
      "text/plain": [
       "(pandas.core.series.Series, 5)"
      ]
     },
     "execution_count": 17,
     "metadata": {},
     "output_type": "execute_result"
    }
   ],
   "source": [
    "type(s1), len(s1)"
   ]
  },
  {
   "cell_type": "code",
   "execution_count": 22,
   "id": "d8cbe52e",
   "metadata": {},
   "outputs": [
    {
     "data": {
      "text/plain": [
       "(1, 1, 5)"
      ]
     },
     "execution_count": 22,
     "metadata": {},
     "output_type": "execute_result"
    }
   ],
   "source": [
    "# 인덱싱 \n",
    "s1['a'] , s1[0] , s1[-1]"
   ]
  },
  {
   "cell_type": "code",
   "execution_count": 28,
   "id": "82772160",
   "metadata": {},
   "outputs": [
    {
     "name": "stdout",
     "output_type": "stream",
     "text": [
      "a    1\n",
      "b    2\n",
      "dtype: int64\n",
      "\n",
      "a    1\n",
      "b    2\n",
      "c    3\n",
      "dtype: int64\n",
      "\n",
      "a    1\n",
      "c    3\n",
      "e    5\n",
      "dtype: int64\n",
      "\n",
      "e    5\n",
      "d    4\n",
      "c    3\n",
      "b    2\n",
      "a    1\n",
      "dtype: int64\n",
      "\n",
      "a    1\n",
      "d    4\n",
      "a    1\n",
      "b    2\n",
      "dtype: int64\n"
     ]
    }
   ],
   "source": [
    "# 슬라이싱 테스트 \n",
    "print(s1[:2])\n",
    "print()\n",
    "print(s1['a':'c'])\n",
    "print()\n",
    "print(s1[::2])\n",
    "print()\n",
    "print(s1[::-1])\n",
    "print()\n",
    "# 불연속인 데이타 출력 \n",
    "# 시리즈명[[인덱스1, 인덱스2 .... ]]\n",
    "print(s1[[0,3,0, 1]])"
   ]
  },
  {
   "cell_type": "code",
   "execution_count": 29,
   "id": "06065abc",
   "metadata": {},
   "outputs": [
    {
     "data": {
      "text/plain": [
       "array([10,  9,  8,  7,  6,  5,  4,  3,  2,  1])"
      ]
     },
     "execution_count": 29,
     "metadata": {},
     "output_type": "execute_result"
    }
   ],
   "source": [
    "# 넘파이배열 => 시리즈 \n",
    "matrix = np.arange(10,0,-1)\n",
    "matrix"
   ]
  },
  {
   "cell_type": "code",
   "execution_count": 30,
   "id": "99f38770",
   "metadata": {},
   "outputs": [
    {
     "data": {
      "text/plain": [
       "0    10\n",
       "1     9\n",
       "2     8\n",
       "3     7\n",
       "4     6\n",
       "5     5\n",
       "6     4\n",
       "7     3\n",
       "8     2\n",
       "9     1\n",
       "dtype: int32"
      ]
     },
     "execution_count": 30,
     "metadata": {},
     "output_type": "execute_result"
    }
   ],
   "source": [
    "s2 = pd.Series(matrix)\n",
    "s2"
   ]
  },
  {
   "cell_type": "code",
   "execution_count": 32,
   "id": "978e2c4c",
   "metadata": {},
   "outputs": [
    {
     "data": {
      "text/plain": [
       "(10,\n",
       " 0    10\n",
       " 1     9\n",
       " 2     8\n",
       " 3     7\n",
       " 4     6\n",
       " dtype: int32)"
      ]
     },
     "execution_count": 32,
     "metadata": {},
     "output_type": "execute_result"
    }
   ],
   "source": [
    "s2[0], s2[0:5]"
   ]
  },
  {
   "cell_type": "code",
   "execution_count": 37,
   "id": "9819ddb9",
   "metadata": {},
   "outputs": [
    {
     "data": {
      "text/plain": [
       "(55, 5.5, 5.5, 1, 10)"
      ]
     },
     "execution_count": 37,
     "metadata": {},
     "output_type": "execute_result"
    }
   ],
   "source": [
    "np.sum(s2), np.mean(s2), np.median(s2), np.min(s2), np.max(s2)"
   ]
  },
  {
   "cell_type": "code",
   "execution_count": 38,
   "id": "afb06c15",
   "metadata": {},
   "outputs": [
    {
     "data": {
      "text/plain": [
       "('가', '나', True, 100, 3.14)"
      ]
     },
     "execution_count": 38,
     "metadata": {},
     "output_type": "execute_result"
    }
   ],
   "source": [
    "# 튜플 => 시리즈 \n",
    "# 시리즈의 데이터형은 혼합형이 가능하다. \n",
    "# 혼합형은 object \n",
    "myTuple = ('가', '나', True, 100, 3.14)\n",
    "myTuple"
   ]
  },
  {
   "cell_type": "code",
   "execution_count": 39,
   "id": "5b30b19b",
   "metadata": {},
   "outputs": [
    {
     "data": {
      "text/plain": [
       "0       가\n",
       "1       나\n",
       "2    True\n",
       "3     100\n",
       "4    3.14\n",
       "dtype: object"
      ]
     },
     "execution_count": 39,
     "metadata": {},
     "output_type": "execute_result"
    }
   ],
   "source": [
    "s3 = pd.Series(myTuple)\n",
    "s3"
   ]
  },
  {
   "cell_type": "code",
   "execution_count": 43,
   "id": "56c1f6f5",
   "metadata": {},
   "outputs": [
    {
     "data": {
      "text/plain": [
       "(bool, int, float)"
      ]
     },
     "execution_count": 43,
     "metadata": {},
     "output_type": "execute_result"
    }
   ],
   "source": [
    "type(s3[2]), type(s3[3]), type(s3[4])"
   ]
  },
  {
   "cell_type": "markdown",
   "id": "cec20353",
   "metadata": {},
   "source": [
    "# 시리즈 속성 \n",
    "- "
   ]
  },
  {
   "cell_type": "code",
   "execution_count": 44,
   "id": "49eeb9ae",
   "metadata": {},
   "outputs": [
    {
     "data": {
      "text/plain": [
       "dtype('O')"
      ]
     },
     "execution_count": 44,
     "metadata": {},
     "output_type": "execute_result"
    }
   ],
   "source": [
    "s3.dtype, s3.values, s3.index"
   ]
  },
  {
   "cell_type": "code",
   "execution_count": null,
   "id": "7d7a0994",
   "metadata": {},
   "outputs": [],
   "source": []
  },
  {
   "cell_type": "code",
   "execution_count": null,
   "id": "e0536965",
   "metadata": {},
   "outputs": [],
   "source": []
  },
  {
   "cell_type": "code",
   "execution_count": null,
   "id": "27bae773",
   "metadata": {},
   "outputs": [],
   "source": []
  },
  {
   "cell_type": "code",
   "execution_count": null,
   "id": "8ef83997",
   "metadata": {},
   "outputs": [],
   "source": []
  },
  {
   "cell_type": "code",
   "execution_count": null,
   "id": "f4d00e67",
   "metadata": {},
   "outputs": [],
   "source": []
  },
  {
   "cell_type": "code",
   "execution_count": null,
   "id": "badba870",
   "metadata": {},
   "outputs": [],
   "source": []
  },
  {
   "cell_type": "code",
   "execution_count": null,
   "id": "57589a0c",
   "metadata": {},
   "outputs": [],
   "source": []
  },
  {
   "cell_type": "code",
   "execution_count": null,
   "id": "3efc8bee",
   "metadata": {},
   "outputs": [],
   "source": []
  }
 ],
 "metadata": {
  "kernelspec": {
   "display_name": "Python 3",
   "language": "python",
   "name": "python3"
  },
  "language_info": {
   "codemirror_mode": {
    "name": "ipython",
    "version": 3
   },
   "file_extension": ".py",
   "mimetype": "text/x-python",
   "name": "python",
   "nbconvert_exporter": "python",
   "pygments_lexer": "ipython3",
   "version": "3.8.8"
  }
 },
 "nbformat": 4,
 "nbformat_minor": 5
}
