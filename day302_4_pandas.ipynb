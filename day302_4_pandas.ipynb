{
 "cells": [
  {
   "cell_type": "code",
   "execution_count": 1,
   "id": "6aa6ab83",
   "metadata": {},
   "outputs": [
    {
     "data": {
      "text/html": [
       "<style>.container { font-weight: bold !important; }</style>"
      ],
      "text/plain": [
       "<IPython.core.display.HTML object>"
      ]
     },
     "metadata": {},
     "output_type": "display_data"
    },
    {
     "data": {
      "text/html": [
       "<style>.container { width: 100% !important; }</style>"
      ],
      "text/plain": [
       "<IPython.core.display.HTML object>"
      ]
     },
     "metadata": {},
     "output_type": "display_data"
    }
   ],
   "source": [
    "# 쥬피터노트북 셀 스타일 조절 \n",
    "from IPython.core.display import display, HTML\n",
    "display(HTML(\"<style>.container { font-weight: bold !important; }</style>\"))\n",
    "display(HTML(\"<style>.container { width: 100% !important; }</style>\"))\n",
    "\n",
    "# 경고 메세지 숨기기 \n",
    "import warnings\n",
    "warnings.filterwarnings(action='ignore')"
   ]
  },
  {
   "cell_type": "code",
   "execution_count": 2,
   "id": "f589851a",
   "metadata": {},
   "outputs": [],
   "source": [
    "import numpy as np \n",
    "import pandas as pd"
   ]
  },
  {
   "cell_type": "markdown",
   "id": "f70e5a26",
   "metadata": {},
   "source": [
    "# 데이타프레임 조회 \n",
    "\n",
    "- 컬럼 조회 \n",
    "- 행 조회 \n",
    "- 컬럼+행 조회 \n",
    "\n",
    "```\n",
    "데이타프레임[컬럼명]\n",
    "데이타프레임[[컬럼명1, 컬럼명2, 컬럼명3 ....]]\n",
    "\n",
    "데이타프레임.컬럼명 \n",
    "\n",
    "loc : location 행이름, 컬럼명 \n",
    "데이타프레임.loc[행이름]\n",
    "데이타프레임.loc[start:end]\n",
    "데이타프레임.loc[start:end, start:end]\n",
    "\n",
    "\n",
    "iloc : index location 행인덱스, 컬럼인덱스\n",
    "데이타프레임.iloc[행인덱스]\n",
    "데이타프레임.iloc[start:end]\n",
    "데이타프레임.iloc[start:end, start:end]\n",
    "\n",
    "행 조회 \n",
    "데이타프레임[행인덱스]\n",
    "데이타프레임[start:end]\n",
    "\n",
    "\n",
    "```"
   ]
  },
  {
   "cell_type": "code",
   "execution_count": 4,
   "id": "b9a3714e",
   "metadata": {},
   "outputs": [
    {
     "data": {
      "text/html": [
       "<div>\n",
       "<style scoped>\n",
       "    .dataframe tbody tr th:only-of-type {\n",
       "        vertical-align: middle;\n",
       "    }\n",
       "\n",
       "    .dataframe tbody tr th {\n",
       "        vertical-align: top;\n",
       "    }\n",
       "\n",
       "    .dataframe thead th {\n",
       "        text-align: right;\n",
       "    }\n",
       "</style>\n",
       "<table border=\"1\" class=\"dataframe\">\n",
       "  <thead>\n",
       "    <tr style=\"text-align: right;\">\n",
       "      <th></th>\n",
       "      <th>name</th>\n",
       "      <th>year</th>\n",
       "      <th>points</th>\n",
       "      <th>penalty</th>\n",
       "    </tr>\n",
       "  </thead>\n",
       "  <tbody>\n",
       "    <tr>\n",
       "      <th>one</th>\n",
       "      <td>Haidi</td>\n",
       "      <td>2014</td>\n",
       "      <td>1.5</td>\n",
       "      <td>1</td>\n",
       "    </tr>\n",
       "    <tr>\n",
       "      <th>two</th>\n",
       "      <td>Haidi</td>\n",
       "      <td>2015</td>\n",
       "      <td>1.7</td>\n",
       "      <td>2</td>\n",
       "    </tr>\n",
       "    <tr>\n",
       "      <th>three</th>\n",
       "      <td>Haidi</td>\n",
       "      <td>2016</td>\n",
       "      <td>3.6</td>\n",
       "      <td>3</td>\n",
       "    </tr>\n",
       "    <tr>\n",
       "      <th>four</th>\n",
       "      <td>Charles</td>\n",
       "      <td>2015</td>\n",
       "      <td>2.5</td>\n",
       "      <td>4</td>\n",
       "    </tr>\n",
       "    <tr>\n",
       "      <th>five</th>\n",
       "      <td>Charles</td>\n",
       "      <td>2017</td>\n",
       "      <td>2.9</td>\n",
       "      <td>5</td>\n",
       "    </tr>\n",
       "  </tbody>\n",
       "</table>\n",
       "</div>"
      ],
      "text/plain": [
       "          name  year  points  penalty\n",
       "one      Haidi  2014     1.5        1\n",
       "two      Haidi  2015     1.7        2\n",
       "three    Haidi  2016     3.6        3\n",
       "four   Charles  2015     2.5        4\n",
       "five   Charles  2017     2.9        5"
      ]
     },
     "execution_count": 4,
     "metadata": {},
     "output_type": "execute_result"
    }
   ],
   "source": [
    "data = { \"name\":[\"Haidi\", \"Haidi\", \"Haidi\", \"Charles\", \"Charles\"],\n",
    "        \"year\":[2014, 2015, 2016, 2015, 2017],\n",
    "        \"points\":[1.5, 1.7, 3.6, 2.5, 2.9], \n",
    "        \"penalty\":[1, 2, 3, 4, 5] }\n",
    "df1 = pd.DataFrame( data, \n",
    "                    index=[\"one\", \"two\", \"three\", \"four\", \"five\"])\n",
    "df1"
   ]
  },
  {
   "cell_type": "code",
   "execution_count": 5,
   "id": "1c7fc6f2",
   "metadata": {},
   "outputs": [
    {
     "data": {
      "text/plain": [
       "Index(['name', 'year', 'points', 'penalty'], dtype='object')"
      ]
     },
     "execution_count": 5,
     "metadata": {},
     "output_type": "execute_result"
    }
   ],
   "source": [
    "df1.columns"
   ]
  },
  {
   "cell_type": "code",
   "execution_count": 6,
   "id": "ef38b4e4",
   "metadata": {},
   "outputs": [
    {
     "data": {
      "text/plain": [
       "Index(['one', 'two', 'three', 'four', 'five'], dtype='object')"
      ]
     },
     "execution_count": 6,
     "metadata": {},
     "output_type": "execute_result"
    }
   ],
   "source": [
    "df1.index"
   ]
  },
  {
   "cell_type": "markdown",
   "id": "9d02ec60",
   "metadata": {},
   "source": [
    "##### [] 를 이용한 컬럼조회 "
   ]
  },
  {
   "cell_type": "code",
   "execution_count": 7,
   "id": "5ff3e14b",
   "metadata": {},
   "outputs": [
    {
     "data": {
      "text/plain": [
       "one        Haidi\n",
       "two        Haidi\n",
       "three      Haidi\n",
       "four     Charles\n",
       "five     Charles\n",
       "Name: name, dtype: object"
      ]
     },
     "execution_count": 7,
     "metadata": {},
     "output_type": "execute_result"
    }
   ],
   "source": [
    "# 특정 1개의 컬럼 조회 => 시리즈 \n",
    "# 데이타프레임[컬럼명]\n",
    "df1['name']"
   ]
  },
  {
   "cell_type": "code",
   "execution_count": 8,
   "id": "d6a1e048",
   "metadata": {},
   "outputs": [
    {
     "data": {
      "text/plain": [
       "pandas.core.series.Series"
      ]
     },
     "execution_count": 8,
     "metadata": {},
     "output_type": "execute_result"
    }
   ],
   "source": [
    "type(df1['name'])"
   ]
  },
  {
   "cell_type": "code",
   "execution_count": 9,
   "id": "b78bfea7",
   "metadata": {},
   "outputs": [
    {
     "data": {
      "text/html": [
       "<div>\n",
       "<style scoped>\n",
       "    .dataframe tbody tr th:only-of-type {\n",
       "        vertical-align: middle;\n",
       "    }\n",
       "\n",
       "    .dataframe tbody tr th {\n",
       "        vertical-align: top;\n",
       "    }\n",
       "\n",
       "    .dataframe thead th {\n",
       "        text-align: right;\n",
       "    }\n",
       "</style>\n",
       "<table border=\"1\" class=\"dataframe\">\n",
       "  <thead>\n",
       "    <tr style=\"text-align: right;\">\n",
       "      <th></th>\n",
       "      <th>name</th>\n",
       "    </tr>\n",
       "  </thead>\n",
       "  <tbody>\n",
       "    <tr>\n",
       "      <th>one</th>\n",
       "      <td>Haidi</td>\n",
       "    </tr>\n",
       "    <tr>\n",
       "      <th>two</th>\n",
       "      <td>Haidi</td>\n",
       "    </tr>\n",
       "    <tr>\n",
       "      <th>three</th>\n",
       "      <td>Haidi</td>\n",
       "    </tr>\n",
       "    <tr>\n",
       "      <th>four</th>\n",
       "      <td>Charles</td>\n",
       "    </tr>\n",
       "    <tr>\n",
       "      <th>five</th>\n",
       "      <td>Charles</td>\n",
       "    </tr>\n",
       "  </tbody>\n",
       "</table>\n",
       "</div>"
      ],
      "text/plain": [
       "          name\n",
       "one      Haidi\n",
       "two      Haidi\n",
       "three    Haidi\n",
       "four   Charles\n",
       "five   Charles"
      ]
     },
     "execution_count": 9,
     "metadata": {},
     "output_type": "execute_result"
    }
   ],
   "source": [
    "# 특정 1개의 컬럼 조회 => 데이타프레임\n",
    "# 데이타프레임[[컬럼명]]\n",
    "df1[['name']]"
   ]
  },
  {
   "cell_type": "code",
   "execution_count": 10,
   "id": "cb3984c3",
   "metadata": {},
   "outputs": [
    {
     "data": {
      "text/plain": [
       "pandas.core.frame.DataFrame"
      ]
     },
     "execution_count": 10,
     "metadata": {},
     "output_type": "execute_result"
    }
   ],
   "source": [
    "type(df1[['name']])"
   ]
  },
  {
   "cell_type": "code",
   "execution_count": 12,
   "id": "73cbdec4",
   "metadata": {},
   "outputs": [],
   "source": [
    "# KeyError \n",
    "# df1[0]"
   ]
  },
  {
   "cell_type": "code",
   "execution_count": 13,
   "id": "f9950adb",
   "metadata": {},
   "outputs": [],
   "source": [
    "# 다수개의 컬럼 조회 => 데이타프레임\n",
    "# 데이타프레임[[컬럼명1, 컬럼명2 ...]]"
   ]
  },
  {
   "cell_type": "code",
   "execution_count": 16,
   "id": "e85f096a",
   "metadata": {},
   "outputs": [
    {
     "data": {
      "text/html": [
       "<div>\n",
       "<style scoped>\n",
       "    .dataframe tbody tr th:only-of-type {\n",
       "        vertical-align: middle;\n",
       "    }\n",
       "\n",
       "    .dataframe tbody tr th {\n",
       "        vertical-align: top;\n",
       "    }\n",
       "\n",
       "    .dataframe thead th {\n",
       "        text-align: right;\n",
       "    }\n",
       "</style>\n",
       "<table border=\"1\" class=\"dataframe\">\n",
       "  <thead>\n",
       "    <tr style=\"text-align: right;\">\n",
       "      <th></th>\n",
       "      <th>year</th>\n",
       "      <th>name</th>\n",
       "      <th>points</th>\n",
       "    </tr>\n",
       "  </thead>\n",
       "  <tbody>\n",
       "    <tr>\n",
       "      <th>one</th>\n",
       "      <td>2014</td>\n",
       "      <td>Haidi</td>\n",
       "      <td>1.5</td>\n",
       "    </tr>\n",
       "    <tr>\n",
       "      <th>two</th>\n",
       "      <td>2015</td>\n",
       "      <td>Haidi</td>\n",
       "      <td>1.7</td>\n",
       "    </tr>\n",
       "    <tr>\n",
       "      <th>three</th>\n",
       "      <td>2016</td>\n",
       "      <td>Haidi</td>\n",
       "      <td>3.6</td>\n",
       "    </tr>\n",
       "    <tr>\n",
       "      <th>four</th>\n",
       "      <td>2015</td>\n",
       "      <td>Charles</td>\n",
       "      <td>2.5</td>\n",
       "    </tr>\n",
       "    <tr>\n",
       "      <th>five</th>\n",
       "      <td>2017</td>\n",
       "      <td>Charles</td>\n",
       "      <td>2.9</td>\n",
       "    </tr>\n",
       "  </tbody>\n",
       "</table>\n",
       "</div>"
      ],
      "text/plain": [
       "       year     name  points\n",
       "one    2014    Haidi     1.5\n",
       "two    2015    Haidi     1.7\n",
       "three  2016    Haidi     3.6\n",
       "four   2015  Charles     2.5\n",
       "five   2017  Charles     2.9"
      ]
     },
     "execution_count": 16,
     "metadata": {},
     "output_type": "execute_result"
    }
   ],
   "source": [
    "df1[['year', 'name', 'points']]"
   ]
  },
  {
   "cell_type": "code",
   "execution_count": 14,
   "id": "db932c35",
   "metadata": {},
   "outputs": [
    {
     "data": {
      "text/html": [
       "<div>\n",
       "<style scoped>\n",
       "    .dataframe tbody tr th:only-of-type {\n",
       "        vertical-align: middle;\n",
       "    }\n",
       "\n",
       "    .dataframe tbody tr th {\n",
       "        vertical-align: top;\n",
       "    }\n",
       "\n",
       "    .dataframe thead th {\n",
       "        text-align: right;\n",
       "    }\n",
       "</style>\n",
       "<table border=\"1\" class=\"dataframe\">\n",
       "  <thead>\n",
       "    <tr style=\"text-align: right;\">\n",
       "      <th></th>\n",
       "      <th>name</th>\n",
       "      <th>year</th>\n",
       "      <th>points</th>\n",
       "      <th>penalty</th>\n",
       "    </tr>\n",
       "  </thead>\n",
       "  <tbody>\n",
       "    <tr>\n",
       "      <th>one</th>\n",
       "      <td>Haidi</td>\n",
       "      <td>2014</td>\n",
       "      <td>1.5</td>\n",
       "      <td>1</td>\n",
       "    </tr>\n",
       "    <tr>\n",
       "      <th>two</th>\n",
       "      <td>Haidi</td>\n",
       "      <td>2015</td>\n",
       "      <td>1.7</td>\n",
       "      <td>2</td>\n",
       "    </tr>\n",
       "    <tr>\n",
       "      <th>three</th>\n",
       "      <td>Haidi</td>\n",
       "      <td>2016</td>\n",
       "      <td>3.6</td>\n",
       "      <td>3</td>\n",
       "    </tr>\n",
       "    <tr>\n",
       "      <th>four</th>\n",
       "      <td>Charles</td>\n",
       "      <td>2015</td>\n",
       "      <td>2.5</td>\n",
       "      <td>4</td>\n",
       "    </tr>\n",
       "    <tr>\n",
       "      <th>five</th>\n",
       "      <td>Charles</td>\n",
       "      <td>2017</td>\n",
       "      <td>2.9</td>\n",
       "      <td>5</td>\n",
       "    </tr>\n",
       "  </tbody>\n",
       "</table>\n",
       "</div>"
      ],
      "text/plain": [
       "          name  year  points  penalty\n",
       "one      Haidi  2014     1.5        1\n",
       "two      Haidi  2015     1.7        2\n",
       "three    Haidi  2016     3.6        3\n",
       "four   Charles  2015     2.5        4\n",
       "five   Charles  2017     2.9        5"
      ]
     },
     "execution_count": 14,
     "metadata": {},
     "output_type": "execute_result"
    }
   ],
   "source": [
    "df1"
   ]
  },
  {
   "cell_type": "code",
   "execution_count": 19,
   "id": "15dc616c",
   "metadata": {},
   "outputs": [],
   "source": [
    "# 에러 발생 : 슬라이싱 x\n",
    "# df1[['name':'year']]"
   ]
  },
  {
   "cell_type": "markdown",
   "id": "ed06d9e1",
   "metadata": {},
   "source": [
    "#####  도트(.) 를 이용한 특정 컬럼 조회  => 시리즈"
   ]
  },
  {
   "cell_type": "code",
   "execution_count": 21,
   "id": "8840dd6c",
   "metadata": {},
   "outputs": [
    {
     "data": {
      "text/plain": [
       "one        Haidi\n",
       "two        Haidi\n",
       "three      Haidi\n",
       "four     Charles\n",
       "five     Charles\n",
       "Name: name, dtype: object"
      ]
     },
     "execution_count": 21,
     "metadata": {},
     "output_type": "execute_result"
    }
   ],
   "source": [
    "df1.name"
   ]
  },
  {
   "cell_type": "markdown",
   "id": "a2c3da4c",
   "metadata": {},
   "source": [
    "##### loc 방식으로 컬럼 조회 \n",
    "\n",
    "- 데이타프레임.loc[:, 컬럼명] => 시리즈 \n",
    "- 데이타프레임.loc[:, 컬럼명1:컬럼명2] => 데이타프레임"
   ]
  },
  {
   "cell_type": "code",
   "execution_count": 22,
   "id": "cb9cde0e",
   "metadata": {},
   "outputs": [
    {
     "data": {
      "text/plain": [
       "one        Haidi\n",
       "two        Haidi\n",
       "three      Haidi\n",
       "four     Charles\n",
       "five     Charles\n",
       "Name: name, dtype: object"
      ]
     },
     "execution_count": 22,
     "metadata": {},
     "output_type": "execute_result"
    }
   ],
   "source": [
    "df1.loc[:, 'name']"
   ]
  },
  {
   "cell_type": "code",
   "execution_count": 23,
   "id": "3f27a089",
   "metadata": {},
   "outputs": [
    {
     "data": {
      "text/html": [
       "<div>\n",
       "<style scoped>\n",
       "    .dataframe tbody tr th:only-of-type {\n",
       "        vertical-align: middle;\n",
       "    }\n",
       "\n",
       "    .dataframe tbody tr th {\n",
       "        vertical-align: top;\n",
       "    }\n",
       "\n",
       "    .dataframe thead th {\n",
       "        text-align: right;\n",
       "    }\n",
       "</style>\n",
       "<table border=\"1\" class=\"dataframe\">\n",
       "  <thead>\n",
       "    <tr style=\"text-align: right;\">\n",
       "      <th></th>\n",
       "      <th>name</th>\n",
       "      <th>year</th>\n",
       "      <th>points</th>\n",
       "    </tr>\n",
       "  </thead>\n",
       "  <tbody>\n",
       "    <tr>\n",
       "      <th>one</th>\n",
       "      <td>Haidi</td>\n",
       "      <td>2014</td>\n",
       "      <td>1.5</td>\n",
       "    </tr>\n",
       "    <tr>\n",
       "      <th>two</th>\n",
       "      <td>Haidi</td>\n",
       "      <td>2015</td>\n",
       "      <td>1.7</td>\n",
       "    </tr>\n",
       "    <tr>\n",
       "      <th>three</th>\n",
       "      <td>Haidi</td>\n",
       "      <td>2016</td>\n",
       "      <td>3.6</td>\n",
       "    </tr>\n",
       "    <tr>\n",
       "      <th>four</th>\n",
       "      <td>Charles</td>\n",
       "      <td>2015</td>\n",
       "      <td>2.5</td>\n",
       "    </tr>\n",
       "    <tr>\n",
       "      <th>five</th>\n",
       "      <td>Charles</td>\n",
       "      <td>2017</td>\n",
       "      <td>2.9</td>\n",
       "    </tr>\n",
       "  </tbody>\n",
       "</table>\n",
       "</div>"
      ],
      "text/plain": [
       "          name  year  points\n",
       "one      Haidi  2014     1.5\n",
       "two      Haidi  2015     1.7\n",
       "three    Haidi  2016     3.6\n",
       "four   Charles  2015     2.5\n",
       "five   Charles  2017     2.9"
      ]
     },
     "execution_count": 23,
     "metadata": {},
     "output_type": "execute_result"
    }
   ],
   "source": [
    "# 컬럼명을 이용한 슬라이싱 \n",
    "df1.loc[:, 'name':'points']"
   ]
  },
  {
   "cell_type": "markdown",
   "id": "82bfd1c9",
   "metadata": {},
   "source": [
    "##### iloc 방식으로 컬럼 조회  : 위치인덱스 숫자 이용\n",
    "\n",
    "- 데이타프레임.iloc[:, 컬럼인덱스] => 시리즈 \n",
    "- 데이타프레임.iloc[:, 컬럼인덱스1:컬럼인덱스2] => 데이타프레임"
   ]
  },
  {
   "cell_type": "code",
   "execution_count": 26,
   "id": "7c530e6e",
   "metadata": {},
   "outputs": [
    {
     "data": {
      "text/plain": [
       "one        Haidi\n",
       "two        Haidi\n",
       "three      Haidi\n",
       "four     Charles\n",
       "five     Charles\n",
       "Name: name, dtype: object"
      ]
     },
     "execution_count": 26,
     "metadata": {},
     "output_type": "execute_result"
    }
   ],
   "source": [
    "# 특정 컬럼 1개 \n",
    "df1.iloc[:, 0]"
   ]
  },
  {
   "cell_type": "code",
   "execution_count": 29,
   "id": "7a3f6871",
   "metadata": {},
   "outputs": [
    {
     "data": {
      "text/html": [
       "<div>\n",
       "<style scoped>\n",
       "    .dataframe tbody tr th:only-of-type {\n",
       "        vertical-align: middle;\n",
       "    }\n",
       "\n",
       "    .dataframe tbody tr th {\n",
       "        vertical-align: top;\n",
       "    }\n",
       "\n",
       "    .dataframe thead th {\n",
       "        text-align: right;\n",
       "    }\n",
       "</style>\n",
       "<table border=\"1\" class=\"dataframe\">\n",
       "  <thead>\n",
       "    <tr style=\"text-align: right;\">\n",
       "      <th></th>\n",
       "      <th>name</th>\n",
       "      <th>year</th>\n",
       "    </tr>\n",
       "  </thead>\n",
       "  <tbody>\n",
       "    <tr>\n",
       "      <th>one</th>\n",
       "      <td>Haidi</td>\n",
       "      <td>2014</td>\n",
       "    </tr>\n",
       "    <tr>\n",
       "      <th>two</th>\n",
       "      <td>Haidi</td>\n",
       "      <td>2015</td>\n",
       "    </tr>\n",
       "    <tr>\n",
       "      <th>three</th>\n",
       "      <td>Haidi</td>\n",
       "      <td>2016</td>\n",
       "    </tr>\n",
       "    <tr>\n",
       "      <th>four</th>\n",
       "      <td>Charles</td>\n",
       "      <td>2015</td>\n",
       "    </tr>\n",
       "    <tr>\n",
       "      <th>five</th>\n",
       "      <td>Charles</td>\n",
       "      <td>2017</td>\n",
       "    </tr>\n",
       "  </tbody>\n",
       "</table>\n",
       "</div>"
      ],
      "text/plain": [
       "          name  year\n",
       "one      Haidi  2014\n",
       "two      Haidi  2015\n",
       "three    Haidi  2016\n",
       "four   Charles  2015\n",
       "five   Charles  2017"
      ]
     },
     "execution_count": 29,
     "metadata": {},
     "output_type": "execute_result"
    }
   ],
   "source": [
    "# 연속 컬럼 슬라이싱 => 데이타프레임\n",
    "df1.iloc[:, 0:2]"
   ]
  },
  {
   "cell_type": "markdown",
   "id": "35aa203a",
   "metadata": {},
   "source": [
    "##### loc 방식으로 행 조회 \n",
    "- 데이타프레임.loc[인덱스명] => 시리즈 \n",
    "- 데이타프레임.loc[[인덱스명]] => 데이타프레임\n",
    "- 데이타프레임.loc[인덱스명, :] => 시리즈 \n",
    "- 데이타프레임.loc[인덱스명1:인덱스명2, :] => 데이타프레임\n",
    "- 데이타프레임.loc[[인덱스명1, 인덱스명2 ...], :] => 데이타프레임"
   ]
  },
  {
   "cell_type": "code",
   "execution_count": 32,
   "id": "141e3479",
   "metadata": {},
   "outputs": [
    {
     "data": {
      "text/plain": [
       "name       Haidi\n",
       "year        2016\n",
       "points       3.6\n",
       "penalty        3\n",
       "Name: three, dtype: object"
      ]
     },
     "execution_count": 32,
     "metadata": {},
     "output_type": "execute_result"
    }
   ],
   "source": [
    "# 특정행 조회 => 시리즈 \n",
    "df1.loc['three']"
   ]
  },
  {
   "cell_type": "code",
   "execution_count": 34,
   "id": "117c8ef3",
   "metadata": {},
   "outputs": [
    {
     "data": {
      "text/plain": [
       "name       Haidi\n",
       "year        2016\n",
       "points       3.6\n",
       "penalty        3\n",
       "Name: three, dtype: object"
      ]
     },
     "execution_count": 34,
     "metadata": {},
     "output_type": "execute_result"
    }
   ],
   "source": [
    "df1.loc['three', :]"
   ]
  },
  {
   "cell_type": "code",
   "execution_count": 33,
   "id": "6373b747",
   "metadata": {},
   "outputs": [
    {
     "data": {
      "text/html": [
       "<div>\n",
       "<style scoped>\n",
       "    .dataframe tbody tr th:only-of-type {\n",
       "        vertical-align: middle;\n",
       "    }\n",
       "\n",
       "    .dataframe tbody tr th {\n",
       "        vertical-align: top;\n",
       "    }\n",
       "\n",
       "    .dataframe thead th {\n",
       "        text-align: right;\n",
       "    }\n",
       "</style>\n",
       "<table border=\"1\" class=\"dataframe\">\n",
       "  <thead>\n",
       "    <tr style=\"text-align: right;\">\n",
       "      <th></th>\n",
       "      <th>name</th>\n",
       "      <th>year</th>\n",
       "      <th>points</th>\n",
       "      <th>penalty</th>\n",
       "    </tr>\n",
       "  </thead>\n",
       "  <tbody>\n",
       "    <tr>\n",
       "      <th>three</th>\n",
       "      <td>Haidi</td>\n",
       "      <td>2016</td>\n",
       "      <td>3.6</td>\n",
       "      <td>3</td>\n",
       "    </tr>\n",
       "  </tbody>\n",
       "</table>\n",
       "</div>"
      ],
      "text/plain": [
       "        name  year  points  penalty\n",
       "three  Haidi  2016     3.6        3"
      ]
     },
     "execution_count": 33,
     "metadata": {},
     "output_type": "execute_result"
    }
   ],
   "source": [
    "# 특정행 조회 => 데이타프레임 \n",
    "df1.loc[['three']]"
   ]
  },
  {
   "cell_type": "code",
   "execution_count": 35,
   "id": "2844223f",
   "metadata": {},
   "outputs": [
    {
     "data": {
      "text/html": [
       "<div>\n",
       "<style scoped>\n",
       "    .dataframe tbody tr th:only-of-type {\n",
       "        vertical-align: middle;\n",
       "    }\n",
       "\n",
       "    .dataframe tbody tr th {\n",
       "        vertical-align: top;\n",
       "    }\n",
       "\n",
       "    .dataframe thead th {\n",
       "        text-align: right;\n",
       "    }\n",
       "</style>\n",
       "<table border=\"1\" class=\"dataframe\">\n",
       "  <thead>\n",
       "    <tr style=\"text-align: right;\">\n",
       "      <th></th>\n",
       "      <th>name</th>\n",
       "      <th>year</th>\n",
       "      <th>points</th>\n",
       "      <th>penalty</th>\n",
       "    </tr>\n",
       "  </thead>\n",
       "  <tbody>\n",
       "    <tr>\n",
       "      <th>two</th>\n",
       "      <td>Haidi</td>\n",
       "      <td>2015</td>\n",
       "      <td>1.7</td>\n",
       "      <td>2</td>\n",
       "    </tr>\n",
       "    <tr>\n",
       "      <th>five</th>\n",
       "      <td>Charles</td>\n",
       "      <td>2017</td>\n",
       "      <td>2.9</td>\n",
       "      <td>5</td>\n",
       "    </tr>\n",
       "  </tbody>\n",
       "</table>\n",
       "</div>"
      ],
      "text/plain": [
       "         name  year  points  penalty\n",
       "two     Haidi  2015     1.7        2\n",
       "five  Charles  2017     2.9        5"
      ]
     },
     "execution_count": 35,
     "metadata": {},
     "output_type": "execute_result"
    }
   ],
   "source": [
    "# 불연속인 행 조회 - two, five\n",
    "df1.loc[['two', 'five']]"
   ]
  },
  {
   "cell_type": "code",
   "execution_count": 36,
   "id": "75fbf2d6",
   "metadata": {
    "scrolled": true
   },
   "outputs": [
    {
     "data": {
      "text/html": [
       "<div>\n",
       "<style scoped>\n",
       "    .dataframe tbody tr th:only-of-type {\n",
       "        vertical-align: middle;\n",
       "    }\n",
       "\n",
       "    .dataframe tbody tr th {\n",
       "        vertical-align: top;\n",
       "    }\n",
       "\n",
       "    .dataframe thead th {\n",
       "        text-align: right;\n",
       "    }\n",
       "</style>\n",
       "<table border=\"1\" class=\"dataframe\">\n",
       "  <thead>\n",
       "    <tr style=\"text-align: right;\">\n",
       "      <th></th>\n",
       "      <th>name</th>\n",
       "      <th>year</th>\n",
       "      <th>points</th>\n",
       "      <th>penalty</th>\n",
       "    </tr>\n",
       "  </thead>\n",
       "  <tbody>\n",
       "    <tr>\n",
       "      <th>two</th>\n",
       "      <td>Haidi</td>\n",
       "      <td>2015</td>\n",
       "      <td>1.7</td>\n",
       "      <td>2</td>\n",
       "    </tr>\n",
       "    <tr>\n",
       "      <th>three</th>\n",
       "      <td>Haidi</td>\n",
       "      <td>2016</td>\n",
       "      <td>3.6</td>\n",
       "      <td>3</td>\n",
       "    </tr>\n",
       "    <tr>\n",
       "      <th>four</th>\n",
       "      <td>Charles</td>\n",
       "      <td>2015</td>\n",
       "      <td>2.5</td>\n",
       "      <td>4</td>\n",
       "    </tr>\n",
       "  </tbody>\n",
       "</table>\n",
       "</div>"
      ],
      "text/plain": [
       "          name  year  points  penalty\n",
       "two      Haidi  2015     1.7        2\n",
       "three    Haidi  2016     3.6        3\n",
       "four   Charles  2015     2.5        4"
      ]
     },
     "execution_count": 36,
     "metadata": {},
     "output_type": "execute_result"
    }
   ],
   "source": [
    "# 연속적인 행 조회 => 데이타프레임 슬라이싱 \n",
    "df1.loc['two':'four']"
   ]
  },
  {
   "cell_type": "markdown",
   "id": "fac9e464",
   "metadata": {},
   "source": [
    "##### iloc 방식으로 행 조회  : 위치인덱스 숫자 이용\n",
    "\n",
    "- 데이타프레임.iloc[행인덱스] => 시리즈 \n",
    "- 데이타프레임.iloc[행인덱스1:행인덱스2] => 데이타프레임"
   ]
  },
  {
   "cell_type": "code",
   "execution_count": 37,
   "id": "b01e9227",
   "metadata": {},
   "outputs": [
    {
     "data": {
      "text/plain": [
       "name       Charles\n",
       "year          2017\n",
       "points         2.9\n",
       "penalty          5\n",
       "Name: five, dtype: object"
      ]
     },
     "execution_count": 37,
     "metadata": {},
     "output_type": "execute_result"
    }
   ],
   "source": [
    "# 마지막 행 \n",
    "df1.iloc[-1]"
   ]
  },
  {
   "cell_type": "code",
   "execution_count": 42,
   "id": "635439cd",
   "metadata": {},
   "outputs": [
    {
     "data": {
      "text/html": [
       "<div>\n",
       "<style scoped>\n",
       "    .dataframe tbody tr th:only-of-type {\n",
       "        vertical-align: middle;\n",
       "    }\n",
       "\n",
       "    .dataframe tbody tr th {\n",
       "        vertical-align: top;\n",
       "    }\n",
       "\n",
       "    .dataframe thead th {\n",
       "        text-align: right;\n",
       "    }\n",
       "</style>\n",
       "<table border=\"1\" class=\"dataframe\">\n",
       "  <thead>\n",
       "    <tr style=\"text-align: right;\">\n",
       "      <th></th>\n",
       "      <th>name</th>\n",
       "      <th>year</th>\n",
       "      <th>points</th>\n",
       "      <th>penalty</th>\n",
       "    </tr>\n",
       "  </thead>\n",
       "  <tbody>\n",
       "    <tr>\n",
       "      <th>two</th>\n",
       "      <td>Haidi</td>\n",
       "      <td>2015</td>\n",
       "      <td>1.7</td>\n",
       "      <td>2</td>\n",
       "    </tr>\n",
       "    <tr>\n",
       "      <th>three</th>\n",
       "      <td>Haidi</td>\n",
       "      <td>2016</td>\n",
       "      <td>3.6</td>\n",
       "      <td>3</td>\n",
       "    </tr>\n",
       "    <tr>\n",
       "      <th>four</th>\n",
       "      <td>Charles</td>\n",
       "      <td>2015</td>\n",
       "      <td>2.5</td>\n",
       "      <td>4</td>\n",
       "    </tr>\n",
       "  </tbody>\n",
       "</table>\n",
       "</div>"
      ],
      "text/plain": [
       "          name  year  points  penalty\n",
       "two      Haidi  2015     1.7        2\n",
       "three    Haidi  2016     3.6        3\n",
       "four   Charles  2015     2.5        4"
      ]
     },
     "execution_count": 42,
     "metadata": {},
     "output_type": "execute_result"
    }
   ],
   "source": [
    "# 슬라이싱\n",
    "df1.iloc[1:4]"
   ]
  },
  {
   "cell_type": "code",
   "execution_count": 43,
   "id": "d6fff150",
   "metadata": {},
   "outputs": [
    {
     "data": {
      "text/html": [
       "<div>\n",
       "<style scoped>\n",
       "    .dataframe tbody tr th:only-of-type {\n",
       "        vertical-align: middle;\n",
       "    }\n",
       "\n",
       "    .dataframe tbody tr th {\n",
       "        vertical-align: top;\n",
       "    }\n",
       "\n",
       "    .dataframe thead th {\n",
       "        text-align: right;\n",
       "    }\n",
       "</style>\n",
       "<table border=\"1\" class=\"dataframe\">\n",
       "  <thead>\n",
       "    <tr style=\"text-align: right;\">\n",
       "      <th></th>\n",
       "      <th>name</th>\n",
       "      <th>year</th>\n",
       "      <th>points</th>\n",
       "      <th>penalty</th>\n",
       "    </tr>\n",
       "  </thead>\n",
       "  <tbody>\n",
       "    <tr>\n",
       "      <th>one</th>\n",
       "      <td>Haidi</td>\n",
       "      <td>2014</td>\n",
       "      <td>1.5</td>\n",
       "      <td>1</td>\n",
       "    </tr>\n",
       "    <tr>\n",
       "      <th>three</th>\n",
       "      <td>Haidi</td>\n",
       "      <td>2016</td>\n",
       "      <td>3.6</td>\n",
       "      <td>3</td>\n",
       "    </tr>\n",
       "    <tr>\n",
       "      <th>five</th>\n",
       "      <td>Charles</td>\n",
       "      <td>2017</td>\n",
       "      <td>2.9</td>\n",
       "      <td>5</td>\n",
       "    </tr>\n",
       "  </tbody>\n",
       "</table>\n",
       "</div>"
      ],
      "text/plain": [
       "          name  year  points  penalty\n",
       "one      Haidi  2014     1.5        1\n",
       "three    Haidi  2016     3.6        3\n",
       "five   Charles  2017     2.9        5"
      ]
     },
     "execution_count": 43,
     "metadata": {},
     "output_type": "execute_result"
    }
   ],
   "source": [
    "# 불연속인 행 조회 \n",
    "df1.iloc[[0, 2, -1]]"
   ]
  },
  {
   "cell_type": "code",
   "execution_count": 53,
   "id": "5792521e",
   "metadata": {},
   "outputs": [],
   "source": [
    "# 특정행의 특정열 조회 : 슬라이싱\n",
    "# 데이타프레임명.iloc[start1:end1, start2:end2]\n",
    "# 데이타프레임명.loc[인덱스명1:인덱스명2, 컬럼명1:컬럼명2]\n",
    "\n",
    "# 특정행의 특정열의 값 \n",
    "# 데이타프레임명.iloc[행인덱스, 열인덱스]\n",
    "# 데이타프레임명.loc[행이름, 열이름]"
   ]
  },
  {
   "cell_type": "code",
   "execution_count": 50,
   "id": "d4e58059",
   "metadata": {},
   "outputs": [
    {
     "data": {
      "text/html": [
       "<div>\n",
       "<style scoped>\n",
       "    .dataframe tbody tr th:only-of-type {\n",
       "        vertical-align: middle;\n",
       "    }\n",
       "\n",
       "    .dataframe tbody tr th {\n",
       "        vertical-align: top;\n",
       "    }\n",
       "\n",
       "    .dataframe thead th {\n",
       "        text-align: right;\n",
       "    }\n",
       "</style>\n",
       "<table border=\"1\" class=\"dataframe\">\n",
       "  <thead>\n",
       "    <tr style=\"text-align: right;\">\n",
       "      <th></th>\n",
       "      <th>name</th>\n",
       "      <th>year</th>\n",
       "    </tr>\n",
       "  </thead>\n",
       "  <tbody>\n",
       "    <tr>\n",
       "      <th>two</th>\n",
       "      <td>Haidi</td>\n",
       "      <td>2015</td>\n",
       "    </tr>\n",
       "    <tr>\n",
       "      <th>three</th>\n",
       "      <td>Haidi</td>\n",
       "      <td>2016</td>\n",
       "    </tr>\n",
       "  </tbody>\n",
       "</table>\n",
       "</div>"
      ],
      "text/plain": [
       "        name  year\n",
       "two    Haidi  2015\n",
       "three  Haidi  2016"
      ]
     },
     "execution_count": 50,
     "metadata": {},
     "output_type": "execute_result"
    }
   ],
   "source": [
    "df1.loc['two':'three', 'name':'year']"
   ]
  },
  {
   "cell_type": "code",
   "execution_count": 52,
   "id": "a8f92176",
   "metadata": {},
   "outputs": [
    {
     "data": {
      "text/html": [
       "<div>\n",
       "<style scoped>\n",
       "    .dataframe tbody tr th:only-of-type {\n",
       "        vertical-align: middle;\n",
       "    }\n",
       "\n",
       "    .dataframe tbody tr th {\n",
       "        vertical-align: top;\n",
       "    }\n",
       "\n",
       "    .dataframe thead th {\n",
       "        text-align: right;\n",
       "    }\n",
       "</style>\n",
       "<table border=\"1\" class=\"dataframe\">\n",
       "  <thead>\n",
       "    <tr style=\"text-align: right;\">\n",
       "      <th></th>\n",
       "      <th>name</th>\n",
       "      <th>year</th>\n",
       "    </tr>\n",
       "  </thead>\n",
       "  <tbody>\n",
       "    <tr>\n",
       "      <th>two</th>\n",
       "      <td>Haidi</td>\n",
       "      <td>2015</td>\n",
       "    </tr>\n",
       "    <tr>\n",
       "      <th>three</th>\n",
       "      <td>Haidi</td>\n",
       "      <td>2016</td>\n",
       "    </tr>\n",
       "  </tbody>\n",
       "</table>\n",
       "</div>"
      ],
      "text/plain": [
       "        name  year\n",
       "two    Haidi  2015\n",
       "three  Haidi  2016"
      ]
     },
     "execution_count": 52,
     "metadata": {},
     "output_type": "execute_result"
    }
   ],
   "source": [
    "df1.iloc[1:3, 0:2]"
   ]
  },
  {
   "cell_type": "code",
   "execution_count": 55,
   "id": "37c4e03a",
   "metadata": {},
   "outputs": [
    {
     "data": {
      "text/plain": [
       "(1.5, 1.5)"
      ]
     },
     "execution_count": 55,
     "metadata": {},
     "output_type": "execute_result"
    }
   ],
   "source": [
    "df1.iloc[0, 2], df1.loc['one', 'points']"
   ]
  },
  {
   "cell_type": "code",
   "execution_count": null,
   "id": "45c4deba",
   "metadata": {},
   "outputs": [],
   "source": []
  },
  {
   "cell_type": "code",
   "execution_count": 56,
   "id": "647d31d1",
   "metadata": {},
   "outputs": [],
   "source": [
    "# 맨 앞의 특정행의 갯수 조회 - 데이타프레임명.head(n)\n",
    "# 맨뒤의 특정행의 갯수 조회 - 데이타프레임명.tail(n)\n",
    "# n은 기본값 5 \n",
    "\n",
    "# 무작위 특정행의 갯수 조회 - 데이타프레임명.sample(n)\n",
    "# n 은 기본값1"
   ]
  },
  {
   "cell_type": "code",
   "execution_count": 57,
   "id": "74645768",
   "metadata": {},
   "outputs": [],
   "source": [
    "data = np.random.randint(1,300,100).reshape(-1,5)\n",
    "df2 = pd.DataFrame(data)"
   ]
  },
  {
   "cell_type": "code",
   "execution_count": 60,
   "id": "03c2e7e0",
   "metadata": {},
   "outputs": [
    {
     "data": {
      "text/plain": [
       "(20, 5)"
      ]
     },
     "execution_count": 60,
     "metadata": {},
     "output_type": "execute_result"
    }
   ],
   "source": [
    "df2.shape"
   ]
  },
  {
   "cell_type": "code",
   "execution_count": 61,
   "id": "7ab9ad3e",
   "metadata": {},
   "outputs": [
    {
     "data": {
      "text/html": [
       "<div>\n",
       "<style scoped>\n",
       "    .dataframe tbody tr th:only-of-type {\n",
       "        vertical-align: middle;\n",
       "    }\n",
       "\n",
       "    .dataframe tbody tr th {\n",
       "        vertical-align: top;\n",
       "    }\n",
       "\n",
       "    .dataframe thead th {\n",
       "        text-align: right;\n",
       "    }\n",
       "</style>\n",
       "<table border=\"1\" class=\"dataframe\">\n",
       "  <thead>\n",
       "    <tr style=\"text-align: right;\">\n",
       "      <th></th>\n",
       "      <th>0</th>\n",
       "      <th>1</th>\n",
       "      <th>2</th>\n",
       "      <th>3</th>\n",
       "      <th>4</th>\n",
       "    </tr>\n",
       "  </thead>\n",
       "  <tbody>\n",
       "    <tr>\n",
       "      <th>0</th>\n",
       "      <td>44</td>\n",
       "      <td>213</td>\n",
       "      <td>257</td>\n",
       "      <td>29</td>\n",
       "      <td>146</td>\n",
       "    </tr>\n",
       "    <tr>\n",
       "      <th>1</th>\n",
       "      <td>72</td>\n",
       "      <td>275</td>\n",
       "      <td>124</td>\n",
       "      <td>269</td>\n",
       "      <td>184</td>\n",
       "    </tr>\n",
       "  </tbody>\n",
       "</table>\n",
       "</div>"
      ],
      "text/plain": [
       "    0    1    2    3    4\n",
       "0  44  213  257   29  146\n",
       "1  72  275  124  269  184"
      ]
     },
     "execution_count": 61,
     "metadata": {},
     "output_type": "execute_result"
    }
   ],
   "source": [
    "df2.head(2)"
   ]
  },
  {
   "cell_type": "code",
   "execution_count": 62,
   "id": "19ffe8da",
   "metadata": {},
   "outputs": [
    {
     "data": {
      "text/html": [
       "<div>\n",
       "<style scoped>\n",
       "    .dataframe tbody tr th:only-of-type {\n",
       "        vertical-align: middle;\n",
       "    }\n",
       "\n",
       "    .dataframe tbody tr th {\n",
       "        vertical-align: top;\n",
       "    }\n",
       "\n",
       "    .dataframe thead th {\n",
       "        text-align: right;\n",
       "    }\n",
       "</style>\n",
       "<table border=\"1\" class=\"dataframe\">\n",
       "  <thead>\n",
       "    <tr style=\"text-align: right;\">\n",
       "      <th></th>\n",
       "      <th>0</th>\n",
       "      <th>1</th>\n",
       "      <th>2</th>\n",
       "      <th>3</th>\n",
       "      <th>4</th>\n",
       "    </tr>\n",
       "  </thead>\n",
       "  <tbody>\n",
       "    <tr>\n",
       "      <th>17</th>\n",
       "      <td>163</td>\n",
       "      <td>17</td>\n",
       "      <td>197</td>\n",
       "      <td>55</td>\n",
       "      <td>122</td>\n",
       "    </tr>\n",
       "    <tr>\n",
       "      <th>18</th>\n",
       "      <td>90</td>\n",
       "      <td>66</td>\n",
       "      <td>269</td>\n",
       "      <td>105</td>\n",
       "      <td>26</td>\n",
       "    </tr>\n",
       "    <tr>\n",
       "      <th>19</th>\n",
       "      <td>92</td>\n",
       "      <td>175</td>\n",
       "      <td>251</td>\n",
       "      <td>298</td>\n",
       "      <td>7</td>\n",
       "    </tr>\n",
       "  </tbody>\n",
       "</table>\n",
       "</div>"
      ],
      "text/plain": [
       "      0    1    2    3    4\n",
       "17  163   17  197   55  122\n",
       "18   90   66  269  105   26\n",
       "19   92  175  251  298    7"
      ]
     },
     "execution_count": 62,
     "metadata": {},
     "output_type": "execute_result"
    }
   ],
   "source": [
    "df2.tail(3)"
   ]
  },
  {
   "cell_type": "code",
   "execution_count": 63,
   "id": "33910d8f",
   "metadata": {},
   "outputs": [
    {
     "data": {
      "text/html": [
       "<div>\n",
       "<style scoped>\n",
       "    .dataframe tbody tr th:only-of-type {\n",
       "        vertical-align: middle;\n",
       "    }\n",
       "\n",
       "    .dataframe tbody tr th {\n",
       "        vertical-align: top;\n",
       "    }\n",
       "\n",
       "    .dataframe thead th {\n",
       "        text-align: right;\n",
       "    }\n",
       "</style>\n",
       "<table border=\"1\" class=\"dataframe\">\n",
       "  <thead>\n",
       "    <tr style=\"text-align: right;\">\n",
       "      <th></th>\n",
       "      <th>0</th>\n",
       "      <th>1</th>\n",
       "      <th>2</th>\n",
       "      <th>3</th>\n",
       "      <th>4</th>\n",
       "    </tr>\n",
       "  </thead>\n",
       "  <tbody>\n",
       "    <tr>\n",
       "      <th>12</th>\n",
       "      <td>221</td>\n",
       "      <td>23</td>\n",
       "      <td>209</td>\n",
       "      <td>50</td>\n",
       "      <td>90</td>\n",
       "    </tr>\n",
       "  </tbody>\n",
       "</table>\n",
       "</div>"
      ],
      "text/plain": [
       "      0   1    2   3   4\n",
       "12  221  23  209  50  90"
      ]
     },
     "execution_count": 63,
     "metadata": {},
     "output_type": "execute_result"
    }
   ],
   "source": [
    "df2.sample()"
   ]
  },
  {
   "cell_type": "code",
   "execution_count": 64,
   "id": "a8a6e7e8",
   "metadata": {},
   "outputs": [
    {
     "data": {
      "text/html": [
       "<div>\n",
       "<style scoped>\n",
       "    .dataframe tbody tr th:only-of-type {\n",
       "        vertical-align: middle;\n",
       "    }\n",
       "\n",
       "    .dataframe tbody tr th {\n",
       "        vertical-align: top;\n",
       "    }\n",
       "\n",
       "    .dataframe thead th {\n",
       "        text-align: right;\n",
       "    }\n",
       "</style>\n",
       "<table border=\"1\" class=\"dataframe\">\n",
       "  <thead>\n",
       "    <tr style=\"text-align: right;\">\n",
       "      <th></th>\n",
       "      <th>0</th>\n",
       "      <th>1</th>\n",
       "      <th>2</th>\n",
       "      <th>3</th>\n",
       "      <th>4</th>\n",
       "    </tr>\n",
       "  </thead>\n",
       "  <tbody>\n",
       "    <tr>\n",
       "      <th>0</th>\n",
       "      <td>44</td>\n",
       "      <td>213</td>\n",
       "      <td>257</td>\n",
       "      <td>29</td>\n",
       "      <td>146</td>\n",
       "    </tr>\n",
       "    <tr>\n",
       "      <th>15</th>\n",
       "      <td>137</td>\n",
       "      <td>147</td>\n",
       "      <td>214</td>\n",
       "      <td>217</td>\n",
       "      <td>56</td>\n",
       "    </tr>\n",
       "    <tr>\n",
       "      <th>11</th>\n",
       "      <td>7</td>\n",
       "      <td>177</td>\n",
       "      <td>230</td>\n",
       "      <td>195</td>\n",
       "      <td>27</td>\n",
       "    </tr>\n",
       "  </tbody>\n",
       "</table>\n",
       "</div>"
      ],
      "text/plain": [
       "      0    1    2    3    4\n",
       "0    44  213  257   29  146\n",
       "15  137  147  214  217   56\n",
       "11    7  177  230  195   27"
      ]
     },
     "execution_count": 64,
     "metadata": {},
     "output_type": "execute_result"
    }
   ],
   "source": [
    "df2.sample(3)"
   ]
  },
  {
   "cell_type": "code",
   "execution_count": 59,
   "id": "6eaadffa",
   "metadata": {
    "scrolled": false
   },
   "outputs": [
    {
     "data": {
      "text/html": [
       "<div>\n",
       "<style scoped>\n",
       "    .dataframe tbody tr th:only-of-type {\n",
       "        vertical-align: middle;\n",
       "    }\n",
       "\n",
       "    .dataframe tbody tr th {\n",
       "        vertical-align: top;\n",
       "    }\n",
       "\n",
       "    .dataframe thead th {\n",
       "        text-align: right;\n",
       "    }\n",
       "</style>\n",
       "<table border=\"1\" class=\"dataframe\">\n",
       "  <thead>\n",
       "    <tr style=\"text-align: right;\">\n",
       "      <th></th>\n",
       "      <th>0</th>\n",
       "      <th>1</th>\n",
       "      <th>2</th>\n",
       "      <th>3</th>\n",
       "      <th>4</th>\n",
       "    </tr>\n",
       "  </thead>\n",
       "  <tbody>\n",
       "    <tr>\n",
       "      <th>0</th>\n",
       "      <td>44</td>\n",
       "      <td>213</td>\n",
       "      <td>257</td>\n",
       "      <td>29</td>\n",
       "      <td>146</td>\n",
       "    </tr>\n",
       "    <tr>\n",
       "      <th>1</th>\n",
       "      <td>72</td>\n",
       "      <td>275</td>\n",
       "      <td>124</td>\n",
       "      <td>269</td>\n",
       "      <td>184</td>\n",
       "    </tr>\n",
       "    <tr>\n",
       "      <th>2</th>\n",
       "      <td>154</td>\n",
       "      <td>266</td>\n",
       "      <td>267</td>\n",
       "      <td>271</td>\n",
       "      <td>181</td>\n",
       "    </tr>\n",
       "    <tr>\n",
       "      <th>3</th>\n",
       "      <td>14</td>\n",
       "      <td>186</td>\n",
       "      <td>174</td>\n",
       "      <td>223</td>\n",
       "      <td>195</td>\n",
       "    </tr>\n",
       "    <tr>\n",
       "      <th>4</th>\n",
       "      <td>142</td>\n",
       "      <td>129</td>\n",
       "      <td>29</td>\n",
       "      <td>164</td>\n",
       "      <td>224</td>\n",
       "    </tr>\n",
       "    <tr>\n",
       "      <th>5</th>\n",
       "      <td>73</td>\n",
       "      <td>27</td>\n",
       "      <td>217</td>\n",
       "      <td>65</td>\n",
       "      <td>235</td>\n",
       "    </tr>\n",
       "    <tr>\n",
       "      <th>6</th>\n",
       "      <td>186</td>\n",
       "      <td>147</td>\n",
       "      <td>125</td>\n",
       "      <td>275</td>\n",
       "      <td>108</td>\n",
       "    </tr>\n",
       "    <tr>\n",
       "      <th>7</th>\n",
       "      <td>10</td>\n",
       "      <td>111</td>\n",
       "      <td>151</td>\n",
       "      <td>39</td>\n",
       "      <td>167</td>\n",
       "    </tr>\n",
       "    <tr>\n",
       "      <th>8</th>\n",
       "      <td>176</td>\n",
       "      <td>177</td>\n",
       "      <td>176</td>\n",
       "      <td>189</td>\n",
       "      <td>164</td>\n",
       "    </tr>\n",
       "    <tr>\n",
       "      <th>9</th>\n",
       "      <td>184</td>\n",
       "      <td>249</td>\n",
       "      <td>87</td>\n",
       "      <td>64</td>\n",
       "      <td>182</td>\n",
       "    </tr>\n",
       "    <tr>\n",
       "      <th>10</th>\n",
       "      <td>248</td>\n",
       "      <td>132</td>\n",
       "      <td>139</td>\n",
       "      <td>80</td>\n",
       "      <td>161</td>\n",
       "    </tr>\n",
       "    <tr>\n",
       "      <th>11</th>\n",
       "      <td>7</td>\n",
       "      <td>177</td>\n",
       "      <td>230</td>\n",
       "      <td>195</td>\n",
       "      <td>27</td>\n",
       "    </tr>\n",
       "    <tr>\n",
       "      <th>12</th>\n",
       "      <td>221</td>\n",
       "      <td>23</td>\n",
       "      <td>209</td>\n",
       "      <td>50</td>\n",
       "      <td>90</td>\n",
       "    </tr>\n",
       "    <tr>\n",
       "      <th>13</th>\n",
       "      <td>36</td>\n",
       "      <td>104</td>\n",
       "      <td>119</td>\n",
       "      <td>240</td>\n",
       "      <td>189</td>\n",
       "    </tr>\n",
       "    <tr>\n",
       "      <th>14</th>\n",
       "      <td>57</td>\n",
       "      <td>239</td>\n",
       "      <td>131</td>\n",
       "      <td>130</td>\n",
       "      <td>30</td>\n",
       "    </tr>\n",
       "    <tr>\n",
       "      <th>15</th>\n",
       "      <td>137</td>\n",
       "      <td>147</td>\n",
       "      <td>214</td>\n",
       "      <td>217</td>\n",
       "      <td>56</td>\n",
       "    </tr>\n",
       "    <tr>\n",
       "      <th>16</th>\n",
       "      <td>179</td>\n",
       "      <td>257</td>\n",
       "      <td>216</td>\n",
       "      <td>176</td>\n",
       "      <td>233</td>\n",
       "    </tr>\n",
       "    <tr>\n",
       "      <th>17</th>\n",
       "      <td>163</td>\n",
       "      <td>17</td>\n",
       "      <td>197</td>\n",
       "      <td>55</td>\n",
       "      <td>122</td>\n",
       "    </tr>\n",
       "    <tr>\n",
       "      <th>18</th>\n",
       "      <td>90</td>\n",
       "      <td>66</td>\n",
       "      <td>269</td>\n",
       "      <td>105</td>\n",
       "      <td>26</td>\n",
       "    </tr>\n",
       "    <tr>\n",
       "      <th>19</th>\n",
       "      <td>92</td>\n",
       "      <td>175</td>\n",
       "      <td>251</td>\n",
       "      <td>298</td>\n",
       "      <td>7</td>\n",
       "    </tr>\n",
       "  </tbody>\n",
       "</table>\n",
       "</div>"
      ],
      "text/plain": [
       "      0    1    2    3    4\n",
       "0    44  213  257   29  146\n",
       "1    72  275  124  269  184\n",
       "2   154  266  267  271  181\n",
       "3    14  186  174  223  195\n",
       "4   142  129   29  164  224\n",
       "5    73   27  217   65  235\n",
       "6   186  147  125  275  108\n",
       "7    10  111  151   39  167\n",
       "8   176  177  176  189  164\n",
       "9   184  249   87   64  182\n",
       "10  248  132  139   80  161\n",
       "11    7  177  230  195   27\n",
       "12  221   23  209   50   90\n",
       "13   36  104  119  240  189\n",
       "14   57  239  131  130   30\n",
       "15  137  147  214  217   56\n",
       "16  179  257  216  176  233\n",
       "17  163   17  197   55  122\n",
       "18   90   66  269  105   26\n",
       "19   92  175  251  298    7"
      ]
     },
     "execution_count": 59,
     "metadata": {},
     "output_type": "execute_result"
    }
   ],
   "source": [
    "df2"
   ]
  },
  {
   "cell_type": "markdown",
   "id": "a08a14ea",
   "metadata": {},
   "source": [
    "# 행단위 열단위로 데이타 추가\n",
    "\n",
    "- 컬럼추가 \n",
    "```\n",
    "데이타프레임[새로운컬럼명] = 리스트/넘파이배열/range()/기존컬럼을이용한계산식  \n",
    "```\n",
    "\n",
    "- 행추가 \n",
    "```\n",
    "데이타프레임.loc[새로운행명] = 리스트/넘파이배열/range()\n",
    "```"
   ]
  },
  {
   "cell_type": "code",
   "execution_count": 68,
   "id": "5f97df1a",
   "metadata": {},
   "outputs": [
    {
     "data": {
      "text/html": [
       "<div>\n",
       "<style scoped>\n",
       "    .dataframe tbody tr th:only-of-type {\n",
       "        vertical-align: middle;\n",
       "    }\n",
       "\n",
       "    .dataframe tbody tr th {\n",
       "        vertical-align: top;\n",
       "    }\n",
       "\n",
       "    .dataframe thead th {\n",
       "        text-align: right;\n",
       "    }\n",
       "</style>\n",
       "<table border=\"1\" class=\"dataframe\">\n",
       "  <thead>\n",
       "    <tr style=\"text-align: right;\">\n",
       "      <th></th>\n",
       "      <th>name</th>\n",
       "      <th>year</th>\n",
       "      <th>points</th>\n",
       "      <th>penalty</th>\n",
       "    </tr>\n",
       "  </thead>\n",
       "  <tbody>\n",
       "    <tr>\n",
       "      <th>one</th>\n",
       "      <td>Haidi</td>\n",
       "      <td>2014</td>\n",
       "      <td>1.5</td>\n",
       "      <td>1</td>\n",
       "    </tr>\n",
       "    <tr>\n",
       "      <th>two</th>\n",
       "      <td>Haidi</td>\n",
       "      <td>2015</td>\n",
       "      <td>1.7</td>\n",
       "      <td>2</td>\n",
       "    </tr>\n",
       "    <tr>\n",
       "      <th>three</th>\n",
       "      <td>Haidi</td>\n",
       "      <td>2016</td>\n",
       "      <td>3.6</td>\n",
       "      <td>3</td>\n",
       "    </tr>\n",
       "    <tr>\n",
       "      <th>four</th>\n",
       "      <td>Charles</td>\n",
       "      <td>2015</td>\n",
       "      <td>2.5</td>\n",
       "      <td>4</td>\n",
       "    </tr>\n",
       "    <tr>\n",
       "      <th>five</th>\n",
       "      <td>Charles</td>\n",
       "      <td>2017</td>\n",
       "      <td>2.9</td>\n",
       "      <td>5</td>\n",
       "    </tr>\n",
       "  </tbody>\n",
       "</table>\n",
       "</div>"
      ],
      "text/plain": [
       "          name  year  points  penalty\n",
       "one      Haidi  2014     1.5        1\n",
       "two      Haidi  2015     1.7        2\n",
       "three    Haidi  2016     3.6        3\n",
       "four   Charles  2015     2.5        4\n",
       "five   Charles  2017     2.9        5"
      ]
     },
     "execution_count": 68,
     "metadata": {},
     "output_type": "execute_result"
    }
   ],
   "source": [
    "data = { \"name\":[\"Haidi\", \"Haidi\", \"Haidi\", \"Charles\", \"Charles\"],\n",
    "        \"year\":[2014, 2015, 2016, 2015, 2017],\n",
    "        \"points\":[1.5, 1.7, 3.6, 2.5, 2.9], \n",
    "        \"penalty\":[1, 2, 3, 4, 5] }\n",
    "df3 = pd.DataFrame( data, \n",
    "                    index=[\"one\", \"two\", \"three\", \"four\", \"five\"])\n",
    "df3"
   ]
  },
  {
   "cell_type": "code",
   "execution_count": 69,
   "id": "1ae50be0",
   "metadata": {},
   "outputs": [
    {
     "data": {
      "text/html": [
       "<div>\n",
       "<style scoped>\n",
       "    .dataframe tbody tr th:only-of-type {\n",
       "        vertical-align: middle;\n",
       "    }\n",
       "\n",
       "    .dataframe tbody tr th {\n",
       "        vertical-align: top;\n",
       "    }\n",
       "\n",
       "    .dataframe thead th {\n",
       "        text-align: right;\n",
       "    }\n",
       "</style>\n",
       "<table border=\"1\" class=\"dataframe\">\n",
       "  <thead>\n",
       "    <tr style=\"text-align: right;\">\n",
       "      <th></th>\n",
       "      <th>name</th>\n",
       "      <th>year</th>\n",
       "      <th>points</th>\n",
       "      <th>penalty</th>\n",
       "      <th>id</th>\n",
       "    </tr>\n",
       "  </thead>\n",
       "  <tbody>\n",
       "    <tr>\n",
       "      <th>one</th>\n",
       "      <td>Haidi</td>\n",
       "      <td>2014</td>\n",
       "      <td>1.5</td>\n",
       "      <td>1</td>\n",
       "      <td>10</td>\n",
       "    </tr>\n",
       "    <tr>\n",
       "      <th>two</th>\n",
       "      <td>Haidi</td>\n",
       "      <td>2015</td>\n",
       "      <td>1.7</td>\n",
       "      <td>2</td>\n",
       "      <td>10</td>\n",
       "    </tr>\n",
       "    <tr>\n",
       "      <th>three</th>\n",
       "      <td>Haidi</td>\n",
       "      <td>2016</td>\n",
       "      <td>3.6</td>\n",
       "      <td>3</td>\n",
       "      <td>10</td>\n",
       "    </tr>\n",
       "    <tr>\n",
       "      <th>four</th>\n",
       "      <td>Charles</td>\n",
       "      <td>2015</td>\n",
       "      <td>2.5</td>\n",
       "      <td>4</td>\n",
       "      <td>10</td>\n",
       "    </tr>\n",
       "    <tr>\n",
       "      <th>five</th>\n",
       "      <td>Charles</td>\n",
       "      <td>2017</td>\n",
       "      <td>2.9</td>\n",
       "      <td>5</td>\n",
       "      <td>10</td>\n",
       "    </tr>\n",
       "  </tbody>\n",
       "</table>\n",
       "</div>"
      ],
      "text/plain": [
       "          name  year  points  penalty  id\n",
       "one      Haidi  2014     1.5        1  10\n",
       "two      Haidi  2015     1.7        2  10\n",
       "three    Haidi  2016     3.6        3  10\n",
       "four   Charles  2015     2.5        4  10\n",
       "five   Charles  2017     2.9        5  10"
      ]
     },
     "execution_count": 69,
     "metadata": {},
     "output_type": "execute_result"
    }
   ],
   "source": [
    "# 컬럼 추가 \n",
    "df3['id'] = 10\n",
    "df3"
   ]
  },
  {
   "cell_type": "code",
   "execution_count": 71,
   "id": "46b62428",
   "metadata": {},
   "outputs": [
    {
     "data": {
      "text/html": [
       "<div>\n",
       "<style scoped>\n",
       "    .dataframe tbody tr th:only-of-type {\n",
       "        vertical-align: middle;\n",
       "    }\n",
       "\n",
       "    .dataframe tbody tr th {\n",
       "        vertical-align: top;\n",
       "    }\n",
       "\n",
       "    .dataframe thead th {\n",
       "        text-align: right;\n",
       "    }\n",
       "</style>\n",
       "<table border=\"1\" class=\"dataframe\">\n",
       "  <thead>\n",
       "    <tr style=\"text-align: right;\">\n",
       "      <th></th>\n",
       "      <th>name</th>\n",
       "      <th>year</th>\n",
       "      <th>points</th>\n",
       "      <th>penalty</th>\n",
       "      <th>id</th>\n",
       "      <th>addr</th>\n",
       "    </tr>\n",
       "  </thead>\n",
       "  <tbody>\n",
       "    <tr>\n",
       "      <th>one</th>\n",
       "      <td>Haidi</td>\n",
       "      <td>2014</td>\n",
       "      <td>1.5</td>\n",
       "      <td>1</td>\n",
       "      <td>10</td>\n",
       "      <td>LA</td>\n",
       "    </tr>\n",
       "    <tr>\n",
       "      <th>two</th>\n",
       "      <td>Haidi</td>\n",
       "      <td>2015</td>\n",
       "      <td>1.7</td>\n",
       "      <td>2</td>\n",
       "      <td>10</td>\n",
       "      <td>LA</td>\n",
       "    </tr>\n",
       "    <tr>\n",
       "      <th>three</th>\n",
       "      <td>Haidi</td>\n",
       "      <td>2016</td>\n",
       "      <td>3.6</td>\n",
       "      <td>3</td>\n",
       "      <td>10</td>\n",
       "      <td>LA</td>\n",
       "    </tr>\n",
       "    <tr>\n",
       "      <th>four</th>\n",
       "      <td>Charles</td>\n",
       "      <td>2015</td>\n",
       "      <td>2.5</td>\n",
       "      <td>4</td>\n",
       "      <td>10</td>\n",
       "      <td>Hawaii</td>\n",
       "    </tr>\n",
       "    <tr>\n",
       "      <th>five</th>\n",
       "      <td>Charles</td>\n",
       "      <td>2017</td>\n",
       "      <td>2.9</td>\n",
       "      <td>5</td>\n",
       "      <td>10</td>\n",
       "      <td>WC</td>\n",
       "    </tr>\n",
       "  </tbody>\n",
       "</table>\n",
       "</div>"
      ],
      "text/plain": [
       "          name  year  points  penalty  id    addr\n",
       "one      Haidi  2014     1.5        1  10      LA\n",
       "two      Haidi  2015     1.7        2  10      LA\n",
       "three    Haidi  2016     3.6        3  10      LA\n",
       "four   Charles  2015     2.5        4  10  Hawaii\n",
       "five   Charles  2017     2.9        5  10      WC"
      ]
     },
     "execution_count": 71,
     "metadata": {},
     "output_type": "execute_result"
    }
   ],
   "source": [
    "# 길이 유의 \n",
    "df3['addr'] = ['LA', 'LA', 'LA', 'Hawaii', 'WC', ]\n",
    "df3"
   ]
  },
  {
   "cell_type": "code",
   "execution_count": 74,
   "id": "f280e8d7",
   "metadata": {},
   "outputs": [
    {
     "data": {
      "text/html": [
       "<div>\n",
       "<style scoped>\n",
       "    .dataframe tbody tr th:only-of-type {\n",
       "        vertical-align: middle;\n",
       "    }\n",
       "\n",
       "    .dataframe tbody tr th {\n",
       "        vertical-align: top;\n",
       "    }\n",
       "\n",
       "    .dataframe thead th {\n",
       "        text-align: right;\n",
       "    }\n",
       "</style>\n",
       "<table border=\"1\" class=\"dataframe\">\n",
       "  <thead>\n",
       "    <tr style=\"text-align: right;\">\n",
       "      <th></th>\n",
       "      <th>name</th>\n",
       "      <th>year</th>\n",
       "      <th>points</th>\n",
       "      <th>penalty</th>\n",
       "      <th>id</th>\n",
       "      <th>addr</th>\n",
       "      <th>bonus</th>\n",
       "    </tr>\n",
       "  </thead>\n",
       "  <tbody>\n",
       "    <tr>\n",
       "      <th>one</th>\n",
       "      <td>Haidi</td>\n",
       "      <td>2014</td>\n",
       "      <td>1.5</td>\n",
       "      <td>1</td>\n",
       "      <td>10</td>\n",
       "      <td>LA</td>\n",
       "      <td>150.0</td>\n",
       "    </tr>\n",
       "    <tr>\n",
       "      <th>two</th>\n",
       "      <td>Haidi</td>\n",
       "      <td>2015</td>\n",
       "      <td>1.7</td>\n",
       "      <td>2</td>\n",
       "      <td>10</td>\n",
       "      <td>LA</td>\n",
       "      <td>170.0</td>\n",
       "    </tr>\n",
       "    <tr>\n",
       "      <th>three</th>\n",
       "      <td>Haidi</td>\n",
       "      <td>2016</td>\n",
       "      <td>3.6</td>\n",
       "      <td>3</td>\n",
       "      <td>10</td>\n",
       "      <td>LA</td>\n",
       "      <td>360.0</td>\n",
       "    </tr>\n",
       "    <tr>\n",
       "      <th>four</th>\n",
       "      <td>Charles</td>\n",
       "      <td>2015</td>\n",
       "      <td>2.5</td>\n",
       "      <td>4</td>\n",
       "      <td>10</td>\n",
       "      <td>Hawaii</td>\n",
       "      <td>250.0</td>\n",
       "    </tr>\n",
       "    <tr>\n",
       "      <th>five</th>\n",
       "      <td>Charles</td>\n",
       "      <td>2017</td>\n",
       "      <td>2.9</td>\n",
       "      <td>5</td>\n",
       "      <td>10</td>\n",
       "      <td>WC</td>\n",
       "      <td>290.0</td>\n",
       "    </tr>\n",
       "  </tbody>\n",
       "</table>\n",
       "</div>"
      ],
      "text/plain": [
       "          name  year  points  penalty  id    addr  bonus\n",
       "one      Haidi  2014     1.5        1  10      LA  150.0\n",
       "two      Haidi  2015     1.7        2  10      LA  170.0\n",
       "three    Haidi  2016     3.6        3  10      LA  360.0\n",
       "four   Charles  2015     2.5        4  10  Hawaii  250.0\n",
       "five   Charles  2017     2.9        5  10      WC  290.0"
      ]
     },
     "execution_count": 74,
     "metadata": {},
     "output_type": "execute_result"
    }
   ],
   "source": [
    "# 기존 컬럼과 계산식 이용 \n",
    "df3['bonus'] = df3['points']*100\n",
    "df3"
   ]
  },
  {
   "cell_type": "code",
   "execution_count": 75,
   "id": "db7b3d5e",
   "metadata": {},
   "outputs": [
    {
     "data": {
      "text/html": [
       "<div>\n",
       "<style scoped>\n",
       "    .dataframe tbody tr th:only-of-type {\n",
       "        vertical-align: middle;\n",
       "    }\n",
       "\n",
       "    .dataframe tbody tr th {\n",
       "        vertical-align: top;\n",
       "    }\n",
       "\n",
       "    .dataframe thead th {\n",
       "        text-align: right;\n",
       "    }\n",
       "</style>\n",
       "<table border=\"1\" class=\"dataframe\">\n",
       "  <thead>\n",
       "    <tr style=\"text-align: right;\">\n",
       "      <th></th>\n",
       "      <th>name</th>\n",
       "      <th>year</th>\n",
       "      <th>points</th>\n",
       "      <th>penalty</th>\n",
       "      <th>id</th>\n",
       "      <th>addr</th>\n",
       "      <th>bonus</th>\n",
       "    </tr>\n",
       "  </thead>\n",
       "  <tbody>\n",
       "    <tr>\n",
       "      <th>one</th>\n",
       "      <td>Haidi</td>\n",
       "      <td>2014</td>\n",
       "      <td>1.5</td>\n",
       "      <td>1</td>\n",
       "      <td>10</td>\n",
       "      <td>LA</td>\n",
       "      <td>150.0</td>\n",
       "    </tr>\n",
       "    <tr>\n",
       "      <th>two</th>\n",
       "      <td>Haidi</td>\n",
       "      <td>2015</td>\n",
       "      <td>1.7</td>\n",
       "      <td>2</td>\n",
       "      <td>10</td>\n",
       "      <td>LA</td>\n",
       "      <td>170.0</td>\n",
       "    </tr>\n",
       "    <tr>\n",
       "      <th>three</th>\n",
       "      <td>Haidi</td>\n",
       "      <td>2016</td>\n",
       "      <td>3.6</td>\n",
       "      <td>3</td>\n",
       "      <td>10</td>\n",
       "      <td>LA</td>\n",
       "      <td>360.0</td>\n",
       "    </tr>\n",
       "    <tr>\n",
       "      <th>four</th>\n",
       "      <td>Charles</td>\n",
       "      <td>2015</td>\n",
       "      <td>2.5</td>\n",
       "      <td>4</td>\n",
       "      <td>10</td>\n",
       "      <td>Hawaii</td>\n",
       "      <td>250.0</td>\n",
       "    </tr>\n",
       "    <tr>\n",
       "      <th>five</th>\n",
       "      <td>Charles</td>\n",
       "      <td>2017</td>\n",
       "      <td>2.9</td>\n",
       "      <td>5</td>\n",
       "      <td>10</td>\n",
       "      <td>WC</td>\n",
       "      <td>290.0</td>\n",
       "    </tr>\n",
       "    <tr>\n",
       "      <th>six</th>\n",
       "      <td>Charles</td>\n",
       "      <td>2017</td>\n",
       "      <td>3.3</td>\n",
       "      <td>6</td>\n",
       "      <td>30</td>\n",
       "      <td>WC</td>\n",
       "      <td>290.0</td>\n",
       "    </tr>\n",
       "  </tbody>\n",
       "</table>\n",
       "</div>"
      ],
      "text/plain": [
       "          name  year  points  penalty  id    addr  bonus\n",
       "one      Haidi  2014     1.5        1  10      LA  150.0\n",
       "two      Haidi  2015     1.7        2  10      LA  170.0\n",
       "three    Haidi  2016     3.6        3  10      LA  360.0\n",
       "four   Charles  2015     2.5        4  10  Hawaii  250.0\n",
       "five   Charles  2017     2.9        5  10      WC  290.0\n",
       "six    Charles  2017     3.3        6  30      WC  290.0"
      ]
     },
     "execution_count": 75,
     "metadata": {},
     "output_type": "execute_result"
    }
   ],
   "source": [
    "# 행추가 \n",
    "df3.loc['six'] = ['Charles', 2017, 3.3, 6, 30, 'WC', 290.0]\n",
    "df3"
   ]
  },
  {
   "cell_type": "code",
   "execution_count": 77,
   "id": "95a93c1c",
   "metadata": {},
   "outputs": [
    {
     "data": {
      "text/plain": [
       "name        object\n",
       "year         int64\n",
       "points     float64\n",
       "penalty      int64\n",
       "id           int64\n",
       "addr        object\n",
       "bonus      float64\n",
       "dtype: object"
      ]
     },
     "execution_count": 77,
     "metadata": {},
     "output_type": "execute_result"
    }
   ],
   "source": [
    "df3.dtypes"
   ]
  },
  {
   "cell_type": "code",
   "execution_count": 78,
   "id": "3dd9538b",
   "metadata": {},
   "outputs": [
    {
     "data": {
      "text/html": [
       "<div>\n",
       "<style scoped>\n",
       "    .dataframe tbody tr th:only-of-type {\n",
       "        vertical-align: middle;\n",
       "    }\n",
       "\n",
       "    .dataframe tbody tr th {\n",
       "        vertical-align: top;\n",
       "    }\n",
       "\n",
       "    .dataframe thead th {\n",
       "        text-align: right;\n",
       "    }\n",
       "</style>\n",
       "<table border=\"1\" class=\"dataframe\">\n",
       "  <thead>\n",
       "    <tr style=\"text-align: right;\">\n",
       "      <th></th>\n",
       "      <th>name</th>\n",
       "      <th>year</th>\n",
       "      <th>points</th>\n",
       "      <th>penalty</th>\n",
       "      <th>id</th>\n",
       "      <th>addr</th>\n",
       "      <th>bonus</th>\n",
       "    </tr>\n",
       "  </thead>\n",
       "  <tbody>\n",
       "    <tr>\n",
       "      <th>one</th>\n",
       "      <td>Haidi</td>\n",
       "      <td>2014</td>\n",
       "      <td>1.5</td>\n",
       "      <td>1</td>\n",
       "      <td>10</td>\n",
       "      <td>LA</td>\n",
       "      <td>150.0</td>\n",
       "    </tr>\n",
       "    <tr>\n",
       "      <th>two</th>\n",
       "      <td>Haidi</td>\n",
       "      <td>2015</td>\n",
       "      <td>1.7</td>\n",
       "      <td>2</td>\n",
       "      <td>10</td>\n",
       "      <td>LA</td>\n",
       "      <td>170.0</td>\n",
       "    </tr>\n",
       "    <tr>\n",
       "      <th>three</th>\n",
       "      <td>Haidi</td>\n",
       "      <td>2016</td>\n",
       "      <td>3.6</td>\n",
       "      <td>3</td>\n",
       "      <td>10</td>\n",
       "      <td>LA</td>\n",
       "      <td>360.0</td>\n",
       "    </tr>\n",
       "    <tr>\n",
       "      <th>four</th>\n",
       "      <td>Charles</td>\n",
       "      <td>2015</td>\n",
       "      <td>2.5</td>\n",
       "      <td>4</td>\n",
       "      <td>10</td>\n",
       "      <td>Hawaii</td>\n",
       "      <td>250.0</td>\n",
       "    </tr>\n",
       "    <tr>\n",
       "      <th>five</th>\n",
       "      <td>Charles</td>\n",
       "      <td>2017</td>\n",
       "      <td>2.9</td>\n",
       "      <td>5</td>\n",
       "      <td>10</td>\n",
       "      <td>WC</td>\n",
       "      <td>290.0</td>\n",
       "    </tr>\n",
       "    <tr>\n",
       "      <th>six</th>\n",
       "      <td>Charles</td>\n",
       "      <td>2017</td>\n",
       "      <td>3.3</td>\n",
       "      <td>6</td>\n",
       "      <td>30</td>\n",
       "      <td>WC</td>\n",
       "      <td>290.0</td>\n",
       "    </tr>\n",
       "    <tr>\n",
       "      <th>seven</th>\n",
       "      <td>True</td>\n",
       "      <td>2017</td>\n",
       "      <td>3.3</td>\n",
       "      <td>6</td>\n",
       "      <td>30</td>\n",
       "      <td>WC</td>\n",
       "      <td>290.0</td>\n",
       "    </tr>\n",
       "  </tbody>\n",
       "</table>\n",
       "</div>"
      ],
      "text/plain": [
       "          name  year  points  penalty  id    addr  bonus\n",
       "one      Haidi  2014     1.5        1  10      LA  150.0\n",
       "two      Haidi  2015     1.7        2  10      LA  170.0\n",
       "three    Haidi  2016     3.6        3  10      LA  360.0\n",
       "four   Charles  2015     2.5        4  10  Hawaii  250.0\n",
       "five   Charles  2017     2.9        5  10      WC  290.0\n",
       "six    Charles  2017     3.3        6  30      WC  290.0\n",
       "seven     True  2017     3.3        6  30      WC  290.0"
      ]
     },
     "execution_count": 78,
     "metadata": {},
     "output_type": "execute_result"
    }
   ],
   "source": [
    "# ValueError - 길이 주의 \n",
    "df3.loc['seven'] = [True, 2017, 3.3, 6, 30, 'WC', 290.0]\n",
    "df3"
   ]
  },
  {
   "cell_type": "code",
   "execution_count": 79,
   "id": "5192c811",
   "metadata": {},
   "outputs": [
    {
     "data": {
      "text/html": [
       "<div>\n",
       "<style scoped>\n",
       "    .dataframe tbody tr th:only-of-type {\n",
       "        vertical-align: middle;\n",
       "    }\n",
       "\n",
       "    .dataframe tbody tr th {\n",
       "        vertical-align: top;\n",
       "    }\n",
       "\n",
       "    .dataframe thead th {\n",
       "        text-align: right;\n",
       "    }\n",
       "</style>\n",
       "<table border=\"1\" class=\"dataframe\">\n",
       "  <thead>\n",
       "    <tr style=\"text-align: right;\">\n",
       "      <th></th>\n",
       "      <th>name</th>\n",
       "      <th>year</th>\n",
       "      <th>points</th>\n",
       "      <th>penalty</th>\n",
       "      <th>id</th>\n",
       "      <th>addr</th>\n",
       "      <th>bonus</th>\n",
       "    </tr>\n",
       "  </thead>\n",
       "  <tbody>\n",
       "    <tr>\n",
       "      <th>one</th>\n",
       "      <td>Haidi</td>\n",
       "      <td>2014</td>\n",
       "      <td>1.5</td>\n",
       "      <td>1</td>\n",
       "      <td>10</td>\n",
       "      <td>LA</td>\n",
       "      <td>150.0</td>\n",
       "    </tr>\n",
       "    <tr>\n",
       "      <th>two</th>\n",
       "      <td>Haidi</td>\n",
       "      <td>2015</td>\n",
       "      <td>1.7</td>\n",
       "      <td>2</td>\n",
       "      <td>10</td>\n",
       "      <td>LA</td>\n",
       "      <td>170.0</td>\n",
       "    </tr>\n",
       "    <tr>\n",
       "      <th>three</th>\n",
       "      <td>Haidi</td>\n",
       "      <td>2016</td>\n",
       "      <td>3.6</td>\n",
       "      <td>3</td>\n",
       "      <td>10</td>\n",
       "      <td>LA</td>\n",
       "      <td>360.0</td>\n",
       "    </tr>\n",
       "    <tr>\n",
       "      <th>four</th>\n",
       "      <td>Charles</td>\n",
       "      <td>2015</td>\n",
       "      <td>2.5</td>\n",
       "      <td>4</td>\n",
       "      <td>10</td>\n",
       "      <td>Hawaii</td>\n",
       "      <td>250.0</td>\n",
       "    </tr>\n",
       "    <tr>\n",
       "      <th>five</th>\n",
       "      <td>Charles</td>\n",
       "      <td>2017</td>\n",
       "      <td>2.9</td>\n",
       "      <td>5</td>\n",
       "      <td>10</td>\n",
       "      <td>WC</td>\n",
       "      <td>290.0</td>\n",
       "    </tr>\n",
       "    <tr>\n",
       "      <th>six</th>\n",
       "      <td>Charles</td>\n",
       "      <td>2017</td>\n",
       "      <td>3.3</td>\n",
       "      <td>6</td>\n",
       "      <td>30</td>\n",
       "      <td>WC</td>\n",
       "      <td>290.0</td>\n",
       "    </tr>\n",
       "    <tr>\n",
       "      <th>seven</th>\n",
       "      <td>True</td>\n",
       "      <td>2017</td>\n",
       "      <td>3.3</td>\n",
       "      <td>6</td>\n",
       "      <td>30</td>\n",
       "      <td>WC</td>\n",
       "      <td>290.0</td>\n",
       "    </tr>\n",
       "    <tr>\n",
       "      <th>eight</th>\n",
       "      <td>Haidi</td>\n",
       "      <td>2020년</td>\n",
       "      <td>3.3</td>\n",
       "      <td>6</td>\n",
       "      <td>30</td>\n",
       "      <td>WC</td>\n",
       "      <td>290.0</td>\n",
       "    </tr>\n",
       "  </tbody>\n",
       "</table>\n",
       "</div>"
      ],
      "text/plain": [
       "          name   year  points  penalty  id    addr  bonus\n",
       "one      Haidi   2014     1.5        1  10      LA  150.0\n",
       "two      Haidi   2015     1.7        2  10      LA  170.0\n",
       "three    Haidi   2016     3.6        3  10      LA  360.0\n",
       "four   Charles   2015     2.5        4  10  Hawaii  250.0\n",
       "five   Charles   2017     2.9        5  10      WC  290.0\n",
       "six    Charles   2017     3.3        6  30      WC  290.0\n",
       "seven     True   2017     3.3        6  30      WC  290.0\n",
       "eight    Haidi  2020년     3.3        6  30      WC  290.0"
      ]
     },
     "execution_count": 79,
     "metadata": {},
     "output_type": "execute_result"
    }
   ],
   "source": [
    "# 자료형 테스트 \n",
    "df3.loc['eight'] = ['Haidi', '2020년', 3.3, 6, 30, 'WC', 290.0]\n",
    "df3"
   ]
  },
  {
   "cell_type": "code",
   "execution_count": 80,
   "id": "c3eb012f",
   "metadata": {},
   "outputs": [
    {
     "data": {
      "text/plain": [
       "name        object\n",
       "year        object\n",
       "points     float64\n",
       "penalty      int64\n",
       "id           int64\n",
       "addr        object\n",
       "bonus      float64\n",
       "dtype: object"
      ]
     },
     "execution_count": 80,
     "metadata": {},
     "output_type": "execute_result"
    }
   ],
   "source": [
    "df3.dtypes"
   ]
  },
  {
   "cell_type": "code",
   "execution_count": 84,
   "id": "1eba3bea",
   "metadata": {},
   "outputs": [],
   "source": [
    "# 테스트 : iloc 로 행 삽입이 가능할까?\n",
    "# IndexError => x\n",
    "# df3.iloc[8] = ['Haidi', '2020년', 3.3, 6, 30, 'WC', 290.0]\n",
    "# df3"
   ]
  },
  {
   "cell_type": "code",
   "execution_count": 81,
   "id": "987833f9",
   "metadata": {},
   "outputs": [
    {
     "data": {
      "text/plain": [
       "(8, 7)"
      ]
     },
     "execution_count": 81,
     "metadata": {},
     "output_type": "execute_result"
    }
   ],
   "source": [
    "df3.shape"
   ]
  },
  {
   "cell_type": "markdown",
   "id": "75ad00fb",
   "metadata": {},
   "source": [
    "# 기존 값 수정하기 \n",
    "\n",
    "```\n",
    "데이타프레임.loc[행명, 열명] = 새로운값\n",
    "데이타프레임.iloc[행인덱스, 열인덱스] = 새로운값\n",
    "\n",
    "\n",
    "```"
   ]
  },
  {
   "cell_type": "code",
   "execution_count": 87,
   "id": "0ddf7100",
   "metadata": {},
   "outputs": [],
   "source": [
    "df3.loc['one', 'name'] = 'Julia'"
   ]
  },
  {
   "cell_type": "code",
   "execution_count": 90,
   "id": "01f5f94f",
   "metadata": {},
   "outputs": [],
   "source": [
    "df3.iloc[-1, -1] = 500"
   ]
  },
  {
   "cell_type": "code",
   "execution_count": 92,
   "id": "b939c0b9",
   "metadata": {},
   "outputs": [],
   "source": [
    "# 슬라이싱한 상태에서 값 교체 \n",
    "df3.loc['one':'three', 'penalty'] = -500"
   ]
  },
  {
   "cell_type": "code",
   "execution_count": 96,
   "id": "aa2c2ea8",
   "metadata": {},
   "outputs": [
    {
     "data": {
      "text/plain": [
       "(8, 7)"
      ]
     },
     "execution_count": 96,
     "metadata": {},
     "output_type": "execute_result"
    }
   ],
   "source": [
    "df3.shape"
   ]
  },
  {
   "cell_type": "code",
   "execution_count": 100,
   "id": "548f6c17",
   "metadata": {},
   "outputs": [
    {
     "data": {
      "text/plain": [
       "8"
      ]
     },
     "execution_count": 100,
     "metadata": {},
     "output_type": "execute_result"
    }
   ],
   "source": [
    "df3.shape[0]"
   ]
  },
  {
   "cell_type": "code",
   "execution_count": 111,
   "id": "233ef1c6",
   "metadata": {},
   "outputs": [
    {
     "data": {
      "text/plain": [
       "array([0, 1, 2, 3, 4, 5, 6, 7])"
      ]
     },
     "execution_count": 111,
     "metadata": {},
     "output_type": "execute_result"
    }
   ],
   "source": [
    "np.arange(0, df3.shape[0])"
   ]
  },
  {
   "cell_type": "code",
   "execution_count": 103,
   "id": "ec8b39ee",
   "metadata": {},
   "outputs": [
    {
     "data": {
      "text/plain": [
       "array([0, 1, 2, 3, 4, 5, 6, 7])"
      ]
     },
     "execution_count": 103,
     "metadata": {},
     "output_type": "execute_result"
    }
   ],
   "source": [
    "np.arange(0, df3.shape[0])"
   ]
  },
  {
   "cell_type": "code",
   "execution_count": 114,
   "id": "e4ee5094",
   "metadata": {},
   "outputs": [],
   "source": [
    "# 특정 컬럼 전체의 값 교체 \n",
    "df3['id'] = np.arange(1, df3.shape[0]+1)*10"
   ]
  },
  {
   "cell_type": "code",
   "execution_count": 115,
   "id": "edc86386",
   "metadata": {},
   "outputs": [
    {
     "data": {
      "text/html": [
       "<div>\n",
       "<style scoped>\n",
       "    .dataframe tbody tr th:only-of-type {\n",
       "        vertical-align: middle;\n",
       "    }\n",
       "\n",
       "    .dataframe tbody tr th {\n",
       "        vertical-align: top;\n",
       "    }\n",
       "\n",
       "    .dataframe thead th {\n",
       "        text-align: right;\n",
       "    }\n",
       "</style>\n",
       "<table border=\"1\" class=\"dataframe\">\n",
       "  <thead>\n",
       "    <tr style=\"text-align: right;\">\n",
       "      <th></th>\n",
       "      <th>name</th>\n",
       "      <th>year</th>\n",
       "      <th>points</th>\n",
       "      <th>penalty</th>\n",
       "      <th>id</th>\n",
       "      <th>addr</th>\n",
       "      <th>bonus</th>\n",
       "    </tr>\n",
       "  </thead>\n",
       "  <tbody>\n",
       "    <tr>\n",
       "      <th>one</th>\n",
       "      <td>Julia</td>\n",
       "      <td>2014</td>\n",
       "      <td>1.5</td>\n",
       "      <td>-500</td>\n",
       "      <td>10</td>\n",
       "      <td>LA</td>\n",
       "      <td>150.0</td>\n",
       "    </tr>\n",
       "    <tr>\n",
       "      <th>two</th>\n",
       "      <td>Haidi</td>\n",
       "      <td>2015</td>\n",
       "      <td>1.7</td>\n",
       "      <td>-500</td>\n",
       "      <td>20</td>\n",
       "      <td>LA</td>\n",
       "      <td>170.0</td>\n",
       "    </tr>\n",
       "    <tr>\n",
       "      <th>three</th>\n",
       "      <td>Haidi</td>\n",
       "      <td>2016</td>\n",
       "      <td>3.6</td>\n",
       "      <td>-500</td>\n",
       "      <td>30</td>\n",
       "      <td>LA</td>\n",
       "      <td>360.0</td>\n",
       "    </tr>\n",
       "    <tr>\n",
       "      <th>four</th>\n",
       "      <td>Charles</td>\n",
       "      <td>2015</td>\n",
       "      <td>2.5</td>\n",
       "      <td>4</td>\n",
       "      <td>40</td>\n",
       "      <td>Hawaii</td>\n",
       "      <td>250.0</td>\n",
       "    </tr>\n",
       "    <tr>\n",
       "      <th>five</th>\n",
       "      <td>Charles</td>\n",
       "      <td>2017</td>\n",
       "      <td>2.9</td>\n",
       "      <td>5</td>\n",
       "      <td>50</td>\n",
       "      <td>WC</td>\n",
       "      <td>290.0</td>\n",
       "    </tr>\n",
       "    <tr>\n",
       "      <th>six</th>\n",
       "      <td>Charles</td>\n",
       "      <td>2017</td>\n",
       "      <td>3.3</td>\n",
       "      <td>6</td>\n",
       "      <td>60</td>\n",
       "      <td>WC</td>\n",
       "      <td>290.0</td>\n",
       "    </tr>\n",
       "    <tr>\n",
       "      <th>seven</th>\n",
       "      <td>True</td>\n",
       "      <td>2017</td>\n",
       "      <td>3.3</td>\n",
       "      <td>6</td>\n",
       "      <td>70</td>\n",
       "      <td>WC</td>\n",
       "      <td>290.0</td>\n",
       "    </tr>\n",
       "    <tr>\n",
       "      <th>eight</th>\n",
       "      <td>Haidi</td>\n",
       "      <td>2020년</td>\n",
       "      <td>3.3</td>\n",
       "      <td>6</td>\n",
       "      <td>80</td>\n",
       "      <td>WC</td>\n",
       "      <td>500.0</td>\n",
       "    </tr>\n",
       "  </tbody>\n",
       "</table>\n",
       "</div>"
      ],
      "text/plain": [
       "          name   year  points  penalty  id    addr  bonus\n",
       "one      Julia   2014     1.5     -500  10      LA  150.0\n",
       "two      Haidi   2015     1.7     -500  20      LA  170.0\n",
       "three    Haidi   2016     3.6     -500  30      LA  360.0\n",
       "four   Charles   2015     2.5        4  40  Hawaii  250.0\n",
       "five   Charles   2017     2.9        5  50      WC  290.0\n",
       "six    Charles   2017     3.3        6  60      WC  290.0\n",
       "seven     True   2017     3.3        6  70      WC  290.0\n",
       "eight    Haidi  2020년     3.3        6  80      WC  500.0"
      ]
     },
     "execution_count": 115,
     "metadata": {},
     "output_type": "execute_result"
    }
   ],
   "source": [
    "df3"
   ]
  },
  {
   "cell_type": "code",
   "execution_count": 86,
   "id": "669e4a2c",
   "metadata": {},
   "outputs": [
    {
     "data": {
      "text/html": [
       "<div>\n",
       "<style scoped>\n",
       "    .dataframe tbody tr th:only-of-type {\n",
       "        vertical-align: middle;\n",
       "    }\n",
       "\n",
       "    .dataframe tbody tr th {\n",
       "        vertical-align: top;\n",
       "    }\n",
       "\n",
       "    .dataframe thead th {\n",
       "        text-align: right;\n",
       "    }\n",
       "</style>\n",
       "<table border=\"1\" class=\"dataframe\">\n",
       "  <thead>\n",
       "    <tr style=\"text-align: right;\">\n",
       "      <th></th>\n",
       "      <th>name</th>\n",
       "      <th>year</th>\n",
       "      <th>points</th>\n",
       "      <th>penalty</th>\n",
       "      <th>id</th>\n",
       "      <th>addr</th>\n",
       "      <th>bonus</th>\n",
       "    </tr>\n",
       "  </thead>\n",
       "  <tbody>\n",
       "    <tr>\n",
       "      <th>one</th>\n",
       "      <td>Haidi</td>\n",
       "      <td>2014</td>\n",
       "      <td>1.5</td>\n",
       "      <td>1</td>\n",
       "      <td>10</td>\n",
       "      <td>LA</td>\n",
       "      <td>150.0</td>\n",
       "    </tr>\n",
       "    <tr>\n",
       "      <th>two</th>\n",
       "      <td>Haidi</td>\n",
       "      <td>2015</td>\n",
       "      <td>1.7</td>\n",
       "      <td>2</td>\n",
       "      <td>10</td>\n",
       "      <td>LA</td>\n",
       "      <td>170.0</td>\n",
       "    </tr>\n",
       "    <tr>\n",
       "      <th>three</th>\n",
       "      <td>Haidi</td>\n",
       "      <td>2016</td>\n",
       "      <td>3.6</td>\n",
       "      <td>3</td>\n",
       "      <td>10</td>\n",
       "      <td>LA</td>\n",
       "      <td>360.0</td>\n",
       "    </tr>\n",
       "    <tr>\n",
       "      <th>four</th>\n",
       "      <td>Charles</td>\n",
       "      <td>2015</td>\n",
       "      <td>2.5</td>\n",
       "      <td>4</td>\n",
       "      <td>10</td>\n",
       "      <td>Hawaii</td>\n",
       "      <td>250.0</td>\n",
       "    </tr>\n",
       "    <tr>\n",
       "      <th>five</th>\n",
       "      <td>Charles</td>\n",
       "      <td>2017</td>\n",
       "      <td>2.9</td>\n",
       "      <td>5</td>\n",
       "      <td>10</td>\n",
       "      <td>WC</td>\n",
       "      <td>290.0</td>\n",
       "    </tr>\n",
       "    <tr>\n",
       "      <th>six</th>\n",
       "      <td>Charles</td>\n",
       "      <td>2017</td>\n",
       "      <td>3.3</td>\n",
       "      <td>6</td>\n",
       "      <td>30</td>\n",
       "      <td>WC</td>\n",
       "      <td>290.0</td>\n",
       "    </tr>\n",
       "    <tr>\n",
       "      <th>seven</th>\n",
       "      <td>True</td>\n",
       "      <td>2017</td>\n",
       "      <td>3.3</td>\n",
       "      <td>6</td>\n",
       "      <td>30</td>\n",
       "      <td>WC</td>\n",
       "      <td>290.0</td>\n",
       "    </tr>\n",
       "    <tr>\n",
       "      <th>eight</th>\n",
       "      <td>Haidi</td>\n",
       "      <td>2020년</td>\n",
       "      <td>3.3</td>\n",
       "      <td>6</td>\n",
       "      <td>30</td>\n",
       "      <td>WC</td>\n",
       "      <td>290.0</td>\n",
       "    </tr>\n",
       "  </tbody>\n",
       "</table>\n",
       "</div>"
      ],
      "text/plain": [
       "          name   year  points  penalty  id    addr  bonus\n",
       "one      Haidi   2014     1.5        1  10      LA  150.0\n",
       "two      Haidi   2015     1.7        2  10      LA  170.0\n",
       "three    Haidi   2016     3.6        3  10      LA  360.0\n",
       "four   Charles   2015     2.5        4  10  Hawaii  250.0\n",
       "five   Charles   2017     2.9        5  10      WC  290.0\n",
       "six    Charles   2017     3.3        6  30      WC  290.0\n",
       "seven     True   2017     3.3        6  30      WC  290.0\n",
       "eight    Haidi  2020년     3.3        6  30      WC  290.0"
      ]
     },
     "execution_count": 86,
     "metadata": {},
     "output_type": "execute_result"
    }
   ],
   "source": [
    "df3"
   ]
  },
  {
   "cell_type": "markdown",
   "id": "67318c81",
   "metadata": {},
   "source": [
    "# 행과 열 삭제 \n",
    "\n",
    "- 열삭제 1\n",
    "inplace=True 를 지정하면 원본에 바로 적용 \n",
    "```\n",
    "데이타프레임명.drop(컬럼명, axis=1, inplace=True)\n",
    "데이타프레임명.drop([컬럼명1, 컬럼명2 ... ], axis=1, inplace=True)\n",
    "```\n",
    "\n",
    "- 열삭제 2\n",
    "<br> del 데이타프레임명[컬럼명]\n",
    "\n",
    "- 행삭제 \n",
    "inplace=True 를 지정하면 원본에 바로 적용 \n",
    "```\n",
    "데이타프레임명.drop(행명, axis=0, inplace=True)\n",
    "\n",
    "데이타프레임명.drop([행명1, 행명2 ... ], axis=0, inplace=True)\n",
    "```"
   ]
  },
  {
   "cell_type": "code",
   "execution_count": 119,
   "id": "0a08a72d",
   "metadata": {},
   "outputs": [],
   "source": [
    "data = { \"name\":[\"Haidi\", \"Haidi\", \"Haidi\", \"Charles\", \"Charles\"],\n",
    "        \"year\":[2014, 2015, 2016, 2015, 2017],\n",
    "        \"points\":[1.5, 1.7, 3.6, 2.5, 2.9], \n",
    "        \"penalty\":[1, 2, 3, 4, 5] }\n",
    "df4 = pd.DataFrame( data, \n",
    "                    index=[\"one\", \"two\", \"three\", \"four\", \"five\"])\n"
   ]
  },
  {
   "cell_type": "code",
   "execution_count": 120,
   "id": "2d3362dc",
   "metadata": {
    "scrolled": true
   },
   "outputs": [
    {
     "data": {
      "text/html": [
       "<div>\n",
       "<style scoped>\n",
       "    .dataframe tbody tr th:only-of-type {\n",
       "        vertical-align: middle;\n",
       "    }\n",
       "\n",
       "    .dataframe tbody tr th {\n",
       "        vertical-align: top;\n",
       "    }\n",
       "\n",
       "    .dataframe thead th {\n",
       "        text-align: right;\n",
       "    }\n",
       "</style>\n",
       "<table border=\"1\" class=\"dataframe\">\n",
       "  <thead>\n",
       "    <tr style=\"text-align: right;\">\n",
       "      <th></th>\n",
       "      <th>name</th>\n",
       "      <th>year</th>\n",
       "      <th>points</th>\n",
       "      <th>penalty</th>\n",
       "    </tr>\n",
       "  </thead>\n",
       "  <tbody>\n",
       "    <tr>\n",
       "      <th>one</th>\n",
       "      <td>Haidi</td>\n",
       "      <td>2014</td>\n",
       "      <td>1.5</td>\n",
       "      <td>1</td>\n",
       "    </tr>\n",
       "    <tr>\n",
       "      <th>two</th>\n",
       "      <td>Haidi</td>\n",
       "      <td>2015</td>\n",
       "      <td>1.7</td>\n",
       "      <td>2</td>\n",
       "    </tr>\n",
       "    <tr>\n",
       "      <th>three</th>\n",
       "      <td>Haidi</td>\n",
       "      <td>2016</td>\n",
       "      <td>3.6</td>\n",
       "      <td>3</td>\n",
       "    </tr>\n",
       "    <tr>\n",
       "      <th>four</th>\n",
       "      <td>Charles</td>\n",
       "      <td>2015</td>\n",
       "      <td>2.5</td>\n",
       "      <td>4</td>\n",
       "    </tr>\n",
       "    <tr>\n",
       "      <th>five</th>\n",
       "      <td>Charles</td>\n",
       "      <td>2017</td>\n",
       "      <td>2.9</td>\n",
       "      <td>5</td>\n",
       "    </tr>\n",
       "  </tbody>\n",
       "</table>\n",
       "</div>"
      ],
      "text/plain": [
       "          name  year  points  penalty\n",
       "one      Haidi  2014     1.5        1\n",
       "two      Haidi  2015     1.7        2\n",
       "three    Haidi  2016     3.6        3\n",
       "four   Charles  2015     2.5        4\n",
       "five   Charles  2017     2.9        5"
      ]
     },
     "execution_count": 120,
     "metadata": {},
     "output_type": "execute_result"
    }
   ],
   "source": [
    "df4"
   ]
  },
  {
   "cell_type": "code",
   "execution_count": 121,
   "id": "3712a486",
   "metadata": {},
   "outputs": [],
   "source": [
    "del df4['penalty']"
   ]
  },
  {
   "cell_type": "code",
   "execution_count": 122,
   "id": "8d67b865",
   "metadata": {},
   "outputs": [
    {
     "data": {
      "text/html": [
       "<div>\n",
       "<style scoped>\n",
       "    .dataframe tbody tr th:only-of-type {\n",
       "        vertical-align: middle;\n",
       "    }\n",
       "\n",
       "    .dataframe tbody tr th {\n",
       "        vertical-align: top;\n",
       "    }\n",
       "\n",
       "    .dataframe thead th {\n",
       "        text-align: right;\n",
       "    }\n",
       "</style>\n",
       "<table border=\"1\" class=\"dataframe\">\n",
       "  <thead>\n",
       "    <tr style=\"text-align: right;\">\n",
       "      <th></th>\n",
       "      <th>name</th>\n",
       "      <th>year</th>\n",
       "      <th>points</th>\n",
       "    </tr>\n",
       "  </thead>\n",
       "  <tbody>\n",
       "    <tr>\n",
       "      <th>one</th>\n",
       "      <td>Haidi</td>\n",
       "      <td>2014</td>\n",
       "      <td>1.5</td>\n",
       "    </tr>\n",
       "    <tr>\n",
       "      <th>two</th>\n",
       "      <td>Haidi</td>\n",
       "      <td>2015</td>\n",
       "      <td>1.7</td>\n",
       "    </tr>\n",
       "    <tr>\n",
       "      <th>three</th>\n",
       "      <td>Haidi</td>\n",
       "      <td>2016</td>\n",
       "      <td>3.6</td>\n",
       "    </tr>\n",
       "    <tr>\n",
       "      <th>four</th>\n",
       "      <td>Charles</td>\n",
       "      <td>2015</td>\n",
       "      <td>2.5</td>\n",
       "    </tr>\n",
       "    <tr>\n",
       "      <th>five</th>\n",
       "      <td>Charles</td>\n",
       "      <td>2017</td>\n",
       "      <td>2.9</td>\n",
       "    </tr>\n",
       "  </tbody>\n",
       "</table>\n",
       "</div>"
      ],
      "text/plain": [
       "          name  year  points\n",
       "one      Haidi  2014     1.5\n",
       "two      Haidi  2015     1.7\n",
       "three    Haidi  2016     3.6\n",
       "four   Charles  2015     2.5\n",
       "five   Charles  2017     2.9"
      ]
     },
     "execution_count": 122,
     "metadata": {},
     "output_type": "execute_result"
    }
   ],
   "source": [
    "df4"
   ]
  },
  {
   "cell_type": "code",
   "execution_count": 126,
   "id": "27091b36",
   "metadata": {},
   "outputs": [],
   "source": [
    "# inplace=True 원본에서도 삭제 \n",
    "df4.drop('year', axis=1, inplace=True)"
   ]
  },
  {
   "cell_type": "code",
   "execution_count": 128,
   "id": "2a76f9a8",
   "metadata": {
    "scrolled": true
   },
   "outputs": [
    {
     "data": {
      "text/html": [
       "<div>\n",
       "<style scoped>\n",
       "    .dataframe tbody tr th:only-of-type {\n",
       "        vertical-align: middle;\n",
       "    }\n",
       "\n",
       "    .dataframe tbody tr th {\n",
       "        vertical-align: top;\n",
       "    }\n",
       "\n",
       "    .dataframe thead th {\n",
       "        text-align: right;\n",
       "    }\n",
       "</style>\n",
       "<table border=\"1\" class=\"dataframe\">\n",
       "  <thead>\n",
       "    <tr style=\"text-align: right;\">\n",
       "      <th></th>\n",
       "    </tr>\n",
       "  </thead>\n",
       "  <tbody>\n",
       "    <tr>\n",
       "      <th>one</th>\n",
       "    </tr>\n",
       "    <tr>\n",
       "      <th>two</th>\n",
       "    </tr>\n",
       "    <tr>\n",
       "      <th>three</th>\n",
       "    </tr>\n",
       "    <tr>\n",
       "      <th>four</th>\n",
       "    </tr>\n",
       "    <tr>\n",
       "      <th>five</th>\n",
       "    </tr>\n",
       "  </tbody>\n",
       "</table>\n",
       "</div>"
      ],
      "text/plain": [
       "Empty DataFrame\n",
       "Columns: []\n",
       "Index: [one, two, three, four, five]"
      ]
     },
     "execution_count": 128,
     "metadata": {},
     "output_type": "execute_result"
    }
   ],
   "source": [
    "# 삭제할 컬럼이 여러개인 경우 리스트로 삽입 \n",
    "df4.drop(['name','points'], axis=1)"
   ]
  },
  {
   "cell_type": "code",
   "execution_count": 129,
   "id": "4e0ff4b5",
   "metadata": {},
   "outputs": [
    {
     "data": {
      "text/html": [
       "<div>\n",
       "<style scoped>\n",
       "    .dataframe tbody tr th:only-of-type {\n",
       "        vertical-align: middle;\n",
       "    }\n",
       "\n",
       "    .dataframe tbody tr th {\n",
       "        vertical-align: top;\n",
       "    }\n",
       "\n",
       "    .dataframe thead th {\n",
       "        text-align: right;\n",
       "    }\n",
       "</style>\n",
       "<table border=\"1\" class=\"dataframe\">\n",
       "  <thead>\n",
       "    <tr style=\"text-align: right;\">\n",
       "      <th></th>\n",
       "      <th>name</th>\n",
       "      <th>points</th>\n",
       "    </tr>\n",
       "  </thead>\n",
       "  <tbody>\n",
       "    <tr>\n",
       "      <th>one</th>\n",
       "      <td>Haidi</td>\n",
       "      <td>1.5</td>\n",
       "    </tr>\n",
       "    <tr>\n",
       "      <th>two</th>\n",
       "      <td>Haidi</td>\n",
       "      <td>1.7</td>\n",
       "    </tr>\n",
       "    <tr>\n",
       "      <th>three</th>\n",
       "      <td>Haidi</td>\n",
       "      <td>3.6</td>\n",
       "    </tr>\n",
       "    <tr>\n",
       "      <th>four</th>\n",
       "      <td>Charles</td>\n",
       "      <td>2.5</td>\n",
       "    </tr>\n",
       "    <tr>\n",
       "      <th>five</th>\n",
       "      <td>Charles</td>\n",
       "      <td>2.9</td>\n",
       "    </tr>\n",
       "  </tbody>\n",
       "</table>\n",
       "</div>"
      ],
      "text/plain": [
       "          name  points\n",
       "one      Haidi     1.5\n",
       "two      Haidi     1.7\n",
       "three    Haidi     3.6\n",
       "four   Charles     2.5\n",
       "five   Charles     2.9"
      ]
     },
     "execution_count": 129,
     "metadata": {},
     "output_type": "execute_result"
    }
   ],
   "source": [
    "df4"
   ]
  },
  {
   "cell_type": "code",
   "execution_count": 133,
   "id": "5b9012ff",
   "metadata": {},
   "outputs": [],
   "source": [
    "# df4.drop(['one'], axis=0)\n",
    "# axis=0 은 생략 가능 \n",
    "df4.drop(['one'], inplace=True)"
   ]
  },
  {
   "cell_type": "code",
   "execution_count": 134,
   "id": "4a3a5084",
   "metadata": {
    "scrolled": true
   },
   "outputs": [
    {
     "data": {
      "text/html": [
       "<div>\n",
       "<style scoped>\n",
       "    .dataframe tbody tr th:only-of-type {\n",
       "        vertical-align: middle;\n",
       "    }\n",
       "\n",
       "    .dataframe tbody tr th {\n",
       "        vertical-align: top;\n",
       "    }\n",
       "\n",
       "    .dataframe thead th {\n",
       "        text-align: right;\n",
       "    }\n",
       "</style>\n",
       "<table border=\"1\" class=\"dataframe\">\n",
       "  <thead>\n",
       "    <tr style=\"text-align: right;\">\n",
       "      <th></th>\n",
       "      <th>name</th>\n",
       "      <th>points</th>\n",
       "    </tr>\n",
       "  </thead>\n",
       "  <tbody>\n",
       "    <tr>\n",
       "      <th>two</th>\n",
       "      <td>Haidi</td>\n",
       "      <td>1.7</td>\n",
       "    </tr>\n",
       "    <tr>\n",
       "      <th>three</th>\n",
       "      <td>Haidi</td>\n",
       "      <td>3.6</td>\n",
       "    </tr>\n",
       "    <tr>\n",
       "      <th>four</th>\n",
       "      <td>Charles</td>\n",
       "      <td>2.5</td>\n",
       "    </tr>\n",
       "    <tr>\n",
       "      <th>five</th>\n",
       "      <td>Charles</td>\n",
       "      <td>2.9</td>\n",
       "    </tr>\n",
       "  </tbody>\n",
       "</table>\n",
       "</div>"
      ],
      "text/plain": [
       "          name  points\n",
       "two      Haidi     1.7\n",
       "three    Haidi     3.6\n",
       "four   Charles     2.5\n",
       "five   Charles     2.9"
      ]
     },
     "execution_count": 134,
     "metadata": {},
     "output_type": "execute_result"
    }
   ],
   "source": [
    "df4"
   ]
  },
  {
   "cell_type": "code",
   "execution_count": 135,
   "id": "79df1b46",
   "metadata": {},
   "outputs": [
    {
     "data": {
      "text/html": [
       "<div>\n",
       "<style scoped>\n",
       "    .dataframe tbody tr th:only-of-type {\n",
       "        vertical-align: middle;\n",
       "    }\n",
       "\n",
       "    .dataframe tbody tr th {\n",
       "        vertical-align: top;\n",
       "    }\n",
       "\n",
       "    .dataframe thead th {\n",
       "        text-align: right;\n",
       "    }\n",
       "</style>\n",
       "<table border=\"1\" class=\"dataframe\">\n",
       "  <thead>\n",
       "    <tr style=\"text-align: right;\">\n",
       "      <th></th>\n",
       "      <th>name</th>\n",
       "      <th>points</th>\n",
       "    </tr>\n",
       "  </thead>\n",
       "  <tbody>\n",
       "    <tr>\n",
       "      <th>three</th>\n",
       "      <td>Haidi</td>\n",
       "      <td>3.6</td>\n",
       "    </tr>\n",
       "    <tr>\n",
       "      <th>four</th>\n",
       "      <td>Charles</td>\n",
       "      <td>2.5</td>\n",
       "    </tr>\n",
       "  </tbody>\n",
       "</table>\n",
       "</div>"
      ],
      "text/plain": [
       "          name  points\n",
       "three    Haidi     3.6\n",
       "four   Charles     2.5"
      ]
     },
     "execution_count": 135,
     "metadata": {},
     "output_type": "execute_result"
    }
   ],
   "source": [
    "df4.drop(['two', 'five'])"
   ]
  },
  {
   "cell_type": "markdown",
   "id": "cf7de694",
   "metadata": {},
   "source": [
    "# 데이타프레임의 복사 \n",
    "\n",
    "- 깊은 복사 VS 얕은 복사 \n",
    "- 얕은 복사란?\n",
    ": 복사본이나 원본이 같은 메모리번지 사용. <br>\n",
    ": 서로 데이타가 연결  <br> <br>\n",
    "- 깊은 복사란?\n",
    ": 복사본이나 원본이 서로 다른 메모리번지 사용.  <br>\n",
    ": copy() 메서드 이용 \n"
   ]
  },
  {
   "cell_type": "code",
   "execution_count": 151,
   "id": "c335fda0",
   "metadata": {},
   "outputs": [],
   "source": [
    "data = { \"name\":[\"Haidi\", \"Haidi\", \"Haidi\", \"Charles\", \"Charles\"],\n",
    "        \"year\":[2014, 2015, 2016, 2015, 2017],\n",
    "        \"points\":[1.5, 1.7, 3.6, 2.5, 2.9], \n",
    "        \"penalty\":[1, 2, 3, 4, 5] }\n",
    "df5 = pd.DataFrame( data, \n",
    "                    index=[\"one\", \"two\", \"three\", \"four\", \"five\"])"
   ]
  },
  {
   "cell_type": "code",
   "execution_count": 152,
   "id": "c7b71e1f",
   "metadata": {},
   "outputs": [
    {
     "data": {
      "text/html": [
       "<div>\n",
       "<style scoped>\n",
       "    .dataframe tbody tr th:only-of-type {\n",
       "        vertical-align: middle;\n",
       "    }\n",
       "\n",
       "    .dataframe tbody tr th {\n",
       "        vertical-align: top;\n",
       "    }\n",
       "\n",
       "    .dataframe thead th {\n",
       "        text-align: right;\n",
       "    }\n",
       "</style>\n",
       "<table border=\"1\" class=\"dataframe\">\n",
       "  <thead>\n",
       "    <tr style=\"text-align: right;\">\n",
       "      <th></th>\n",
       "      <th>name</th>\n",
       "      <th>year</th>\n",
       "      <th>points</th>\n",
       "      <th>penalty</th>\n",
       "    </tr>\n",
       "  </thead>\n",
       "  <tbody>\n",
       "    <tr>\n",
       "      <th>one</th>\n",
       "      <td>Haidi</td>\n",
       "      <td>2014</td>\n",
       "      <td>1.5</td>\n",
       "      <td>1</td>\n",
       "    </tr>\n",
       "    <tr>\n",
       "      <th>two</th>\n",
       "      <td>Haidi</td>\n",
       "      <td>2015</td>\n",
       "      <td>1.7</td>\n",
       "      <td>2</td>\n",
       "    </tr>\n",
       "    <tr>\n",
       "      <th>three</th>\n",
       "      <td>Haidi</td>\n",
       "      <td>2016</td>\n",
       "      <td>3.6</td>\n",
       "      <td>3</td>\n",
       "    </tr>\n",
       "    <tr>\n",
       "      <th>four</th>\n",
       "      <td>Charles</td>\n",
       "      <td>2015</td>\n",
       "      <td>2.5</td>\n",
       "      <td>4</td>\n",
       "    </tr>\n",
       "    <tr>\n",
       "      <th>five</th>\n",
       "      <td>Charles</td>\n",
       "      <td>2017</td>\n",
       "      <td>2.9</td>\n",
       "      <td>5</td>\n",
       "    </tr>\n",
       "  </tbody>\n",
       "</table>\n",
       "</div>"
      ],
      "text/plain": [
       "          name  year  points  penalty\n",
       "one      Haidi  2014     1.5        1\n",
       "two      Haidi  2015     1.7        2\n",
       "three    Haidi  2016     3.6        3\n",
       "four   Charles  2015     2.5        4\n",
       "five   Charles  2017     2.9        5"
      ]
     },
     "execution_count": 152,
     "metadata": {},
     "output_type": "execute_result"
    }
   ],
   "source": [
    "df5"
   ]
  },
  {
   "cell_type": "code",
   "execution_count": 153,
   "id": "9a3ee41c",
   "metadata": {},
   "outputs": [],
   "source": [
    "# 얕은 복사 방식으로 복제본 생성 \n",
    "df6 = df5"
   ]
  },
  {
   "cell_type": "code",
   "execution_count": 154,
   "id": "75e5b579",
   "metadata": {
    "scrolled": true
   },
   "outputs": [
    {
     "data": {
      "text/html": [
       "<div>\n",
       "<style scoped>\n",
       "    .dataframe tbody tr th:only-of-type {\n",
       "        vertical-align: middle;\n",
       "    }\n",
       "\n",
       "    .dataframe tbody tr th {\n",
       "        vertical-align: top;\n",
       "    }\n",
       "\n",
       "    .dataframe thead th {\n",
       "        text-align: right;\n",
       "    }\n",
       "</style>\n",
       "<table border=\"1\" class=\"dataframe\">\n",
       "  <thead>\n",
       "    <tr style=\"text-align: right;\">\n",
       "      <th></th>\n",
       "      <th>name</th>\n",
       "      <th>year</th>\n",
       "      <th>points</th>\n",
       "      <th>penalty</th>\n",
       "    </tr>\n",
       "  </thead>\n",
       "  <tbody>\n",
       "    <tr>\n",
       "      <th>one</th>\n",
       "      <td>Haidi</td>\n",
       "      <td>2014</td>\n",
       "      <td>1.5</td>\n",
       "      <td>1</td>\n",
       "    </tr>\n",
       "    <tr>\n",
       "      <th>two</th>\n",
       "      <td>Haidi</td>\n",
       "      <td>2015</td>\n",
       "      <td>1.7</td>\n",
       "      <td>2</td>\n",
       "    </tr>\n",
       "    <tr>\n",
       "      <th>three</th>\n",
       "      <td>Haidi</td>\n",
       "      <td>2016</td>\n",
       "      <td>3.6</td>\n",
       "      <td>3</td>\n",
       "    </tr>\n",
       "    <tr>\n",
       "      <th>four</th>\n",
       "      <td>Charles</td>\n",
       "      <td>2015</td>\n",
       "      <td>2.5</td>\n",
       "      <td>4</td>\n",
       "    </tr>\n",
       "    <tr>\n",
       "      <th>five</th>\n",
       "      <td>Charles</td>\n",
       "      <td>2017</td>\n",
       "      <td>2.9</td>\n",
       "      <td>5</td>\n",
       "    </tr>\n",
       "  </tbody>\n",
       "</table>\n",
       "</div>"
      ],
      "text/plain": [
       "          name  year  points  penalty\n",
       "one      Haidi  2014     1.5        1\n",
       "two      Haidi  2015     1.7        2\n",
       "three    Haidi  2016     3.6        3\n",
       "four   Charles  2015     2.5        4\n",
       "five   Charles  2017     2.9        5"
      ]
     },
     "execution_count": 154,
     "metadata": {},
     "output_type": "execute_result"
    }
   ],
   "source": [
    "df6"
   ]
  },
  {
   "cell_type": "code",
   "execution_count": 155,
   "id": "26dc4f04",
   "metadata": {},
   "outputs": [
    {
     "data": {
      "text/html": [
       "<div>\n",
       "<style scoped>\n",
       "    .dataframe tbody tr th:only-of-type {\n",
       "        vertical-align: middle;\n",
       "    }\n",
       "\n",
       "    .dataframe tbody tr th {\n",
       "        vertical-align: top;\n",
       "    }\n",
       "\n",
       "    .dataframe thead th {\n",
       "        text-align: right;\n",
       "    }\n",
       "</style>\n",
       "<table border=\"1\" class=\"dataframe\">\n",
       "  <thead>\n",
       "    <tr style=\"text-align: right;\">\n",
       "      <th></th>\n",
       "      <th>name</th>\n",
       "      <th>year</th>\n",
       "      <th>points</th>\n",
       "      <th>penalty</th>\n",
       "    </tr>\n",
       "  </thead>\n",
       "  <tbody>\n",
       "    <tr>\n",
       "      <th>one</th>\n",
       "      <td>홍길동</td>\n",
       "      <td>2014</td>\n",
       "      <td>1.5</td>\n",
       "      <td>1</td>\n",
       "    </tr>\n",
       "    <tr>\n",
       "      <th>two</th>\n",
       "      <td>Haidi</td>\n",
       "      <td>2015</td>\n",
       "      <td>1.7</td>\n",
       "      <td>2</td>\n",
       "    </tr>\n",
       "    <tr>\n",
       "      <th>three</th>\n",
       "      <td>Haidi</td>\n",
       "      <td>2016</td>\n",
       "      <td>3.6</td>\n",
       "      <td>3</td>\n",
       "    </tr>\n",
       "    <tr>\n",
       "      <th>four</th>\n",
       "      <td>Charles</td>\n",
       "      <td>2015</td>\n",
       "      <td>2.5</td>\n",
       "      <td>4</td>\n",
       "    </tr>\n",
       "    <tr>\n",
       "      <th>five</th>\n",
       "      <td>Charles</td>\n",
       "      <td>2017</td>\n",
       "      <td>2.9</td>\n",
       "      <td>5</td>\n",
       "    </tr>\n",
       "  </tbody>\n",
       "</table>\n",
       "</div>"
      ],
      "text/plain": [
       "          name  year  points  penalty\n",
       "one        홍길동  2014     1.5        1\n",
       "two      Haidi  2015     1.7        2\n",
       "three    Haidi  2016     3.6        3\n",
       "four   Charles  2015     2.5        4\n",
       "five   Charles  2017     2.9        5"
      ]
     },
     "execution_count": 155,
     "metadata": {},
     "output_type": "execute_result"
    }
   ],
   "source": [
    "# 복제본에서 값 수정 \n",
    "df6.loc['one', 'name'] = '홍길동'\n",
    "df6"
   ]
  },
  {
   "cell_type": "code",
   "execution_count": 156,
   "id": "f00c391e",
   "metadata": {},
   "outputs": [
    {
     "data": {
      "text/html": [
       "<div>\n",
       "<style scoped>\n",
       "    .dataframe tbody tr th:only-of-type {\n",
       "        vertical-align: middle;\n",
       "    }\n",
       "\n",
       "    .dataframe tbody tr th {\n",
       "        vertical-align: top;\n",
       "    }\n",
       "\n",
       "    .dataframe thead th {\n",
       "        text-align: right;\n",
       "    }\n",
       "</style>\n",
       "<table border=\"1\" class=\"dataframe\">\n",
       "  <thead>\n",
       "    <tr style=\"text-align: right;\">\n",
       "      <th></th>\n",
       "      <th>name</th>\n",
       "      <th>year</th>\n",
       "      <th>points</th>\n",
       "      <th>penalty</th>\n",
       "    </tr>\n",
       "  </thead>\n",
       "  <tbody>\n",
       "    <tr>\n",
       "      <th>one</th>\n",
       "      <td>홍길동</td>\n",
       "      <td>2014</td>\n",
       "      <td>1.5</td>\n",
       "      <td>1</td>\n",
       "    </tr>\n",
       "    <tr>\n",
       "      <th>two</th>\n",
       "      <td>Haidi</td>\n",
       "      <td>2015</td>\n",
       "      <td>1.7</td>\n",
       "      <td>2</td>\n",
       "    </tr>\n",
       "    <tr>\n",
       "      <th>three</th>\n",
       "      <td>Haidi</td>\n",
       "      <td>2016</td>\n",
       "      <td>3.6</td>\n",
       "      <td>3</td>\n",
       "    </tr>\n",
       "    <tr>\n",
       "      <th>four</th>\n",
       "      <td>Charles</td>\n",
       "      <td>2015</td>\n",
       "      <td>2.5</td>\n",
       "      <td>4</td>\n",
       "    </tr>\n",
       "    <tr>\n",
       "      <th>five</th>\n",
       "      <td>Charles</td>\n",
       "      <td>2017</td>\n",
       "      <td>2.9</td>\n",
       "      <td>5</td>\n",
       "    </tr>\n",
       "  </tbody>\n",
       "</table>\n",
       "</div>"
      ],
      "text/plain": [
       "          name  year  points  penalty\n",
       "one        홍길동  2014     1.5        1\n",
       "two      Haidi  2015     1.7        2\n",
       "three    Haidi  2016     3.6        3\n",
       "four   Charles  2015     2.5        4\n",
       "five   Charles  2017     2.9        5"
      ]
     },
     "execution_count": 156,
     "metadata": {},
     "output_type": "execute_result"
    }
   ],
   "source": [
    "# 원본도 값이 같이 수정된다. \n",
    "df5"
   ]
  },
  {
   "cell_type": "code",
   "execution_count": 157,
   "id": "127f92d5",
   "metadata": {
    "scrolled": true
   },
   "outputs": [
    {
     "data": {
      "text/html": [
       "<div>\n",
       "<style scoped>\n",
       "    .dataframe tbody tr th:only-of-type {\n",
       "        vertical-align: middle;\n",
       "    }\n",
       "\n",
       "    .dataframe tbody tr th {\n",
       "        vertical-align: top;\n",
       "    }\n",
       "\n",
       "    .dataframe thead th {\n",
       "        text-align: right;\n",
       "    }\n",
       "</style>\n",
       "<table border=\"1\" class=\"dataframe\">\n",
       "  <thead>\n",
       "    <tr style=\"text-align: right;\">\n",
       "      <th></th>\n",
       "      <th>name</th>\n",
       "      <th>year</th>\n",
       "      <th>points</th>\n",
       "      <th>penalty</th>\n",
       "    </tr>\n",
       "  </thead>\n",
       "  <tbody>\n",
       "    <tr>\n",
       "      <th>one</th>\n",
       "      <td>홍길동</td>\n",
       "      <td>2014</td>\n",
       "      <td>5.5</td>\n",
       "      <td>1</td>\n",
       "    </tr>\n",
       "    <tr>\n",
       "      <th>two</th>\n",
       "      <td>Haidi</td>\n",
       "      <td>2015</td>\n",
       "      <td>1.7</td>\n",
       "      <td>2</td>\n",
       "    </tr>\n",
       "    <tr>\n",
       "      <th>three</th>\n",
       "      <td>Haidi</td>\n",
       "      <td>2016</td>\n",
       "      <td>3.6</td>\n",
       "      <td>3</td>\n",
       "    </tr>\n",
       "    <tr>\n",
       "      <th>four</th>\n",
       "      <td>Charles</td>\n",
       "      <td>2015</td>\n",
       "      <td>2.5</td>\n",
       "      <td>4</td>\n",
       "    </tr>\n",
       "    <tr>\n",
       "      <th>five</th>\n",
       "      <td>Charles</td>\n",
       "      <td>2017</td>\n",
       "      <td>2.9</td>\n",
       "      <td>5</td>\n",
       "    </tr>\n",
       "  </tbody>\n",
       "</table>\n",
       "</div>"
      ],
      "text/plain": [
       "          name  year  points  penalty\n",
       "one        홍길동  2014     5.5        1\n",
       "two      Haidi  2015     1.7        2\n",
       "three    Haidi  2016     3.6        3\n",
       "four   Charles  2015     2.5        4\n",
       "five   Charles  2017     2.9        5"
      ]
     },
     "execution_count": 157,
     "metadata": {},
     "output_type": "execute_result"
    }
   ],
   "source": [
    "df5.loc['one', 'points'] = 5.5\n",
    "df5"
   ]
  },
  {
   "cell_type": "code",
   "execution_count": 158,
   "id": "5cf973b6",
   "metadata": {},
   "outputs": [
    {
     "data": {
      "text/html": [
       "<div>\n",
       "<style scoped>\n",
       "    .dataframe tbody tr th:only-of-type {\n",
       "        vertical-align: middle;\n",
       "    }\n",
       "\n",
       "    .dataframe tbody tr th {\n",
       "        vertical-align: top;\n",
       "    }\n",
       "\n",
       "    .dataframe thead th {\n",
       "        text-align: right;\n",
       "    }\n",
       "</style>\n",
       "<table border=\"1\" class=\"dataframe\">\n",
       "  <thead>\n",
       "    <tr style=\"text-align: right;\">\n",
       "      <th></th>\n",
       "      <th>name</th>\n",
       "      <th>year</th>\n",
       "      <th>points</th>\n",
       "      <th>penalty</th>\n",
       "    </tr>\n",
       "  </thead>\n",
       "  <tbody>\n",
       "    <tr>\n",
       "      <th>one</th>\n",
       "      <td>홍길동</td>\n",
       "      <td>2014</td>\n",
       "      <td>5.5</td>\n",
       "      <td>1</td>\n",
       "    </tr>\n",
       "    <tr>\n",
       "      <th>two</th>\n",
       "      <td>Haidi</td>\n",
       "      <td>2015</td>\n",
       "      <td>1.7</td>\n",
       "      <td>2</td>\n",
       "    </tr>\n",
       "    <tr>\n",
       "      <th>three</th>\n",
       "      <td>Haidi</td>\n",
       "      <td>2016</td>\n",
       "      <td>3.6</td>\n",
       "      <td>3</td>\n",
       "    </tr>\n",
       "    <tr>\n",
       "      <th>four</th>\n",
       "      <td>Charles</td>\n",
       "      <td>2015</td>\n",
       "      <td>2.5</td>\n",
       "      <td>4</td>\n",
       "    </tr>\n",
       "    <tr>\n",
       "      <th>five</th>\n",
       "      <td>Charles</td>\n",
       "      <td>2017</td>\n",
       "      <td>2.9</td>\n",
       "      <td>5</td>\n",
       "    </tr>\n",
       "  </tbody>\n",
       "</table>\n",
       "</div>"
      ],
      "text/plain": [
       "          name  year  points  penalty\n",
       "one        홍길동  2014     5.5        1\n",
       "two      Haidi  2015     1.7        2\n",
       "three    Haidi  2016     3.6        3\n",
       "four   Charles  2015     2.5        4\n",
       "five   Charles  2017     2.9        5"
      ]
     },
     "execution_count": 158,
     "metadata": {},
     "output_type": "execute_result"
    }
   ],
   "source": [
    "df6"
   ]
  },
  {
   "cell_type": "code",
   "execution_count": 159,
   "id": "285ac83a",
   "metadata": {},
   "outputs": [
    {
     "data": {
      "text/html": [
       "<div>\n",
       "<style scoped>\n",
       "    .dataframe tbody tr th:only-of-type {\n",
       "        vertical-align: middle;\n",
       "    }\n",
       "\n",
       "    .dataframe tbody tr th {\n",
       "        vertical-align: top;\n",
       "    }\n",
       "\n",
       "    .dataframe thead th {\n",
       "        text-align: right;\n",
       "    }\n",
       "</style>\n",
       "<table border=\"1\" class=\"dataframe\">\n",
       "  <thead>\n",
       "    <tr style=\"text-align: right;\">\n",
       "      <th></th>\n",
       "      <th>name</th>\n",
       "      <th>year</th>\n",
       "      <th>points</th>\n",
       "      <th>penalty</th>\n",
       "    </tr>\n",
       "  </thead>\n",
       "  <tbody>\n",
       "    <tr>\n",
       "      <th>one</th>\n",
       "      <td>홍길동</td>\n",
       "      <td>2014</td>\n",
       "      <td>5.5</td>\n",
       "      <td>1</td>\n",
       "    </tr>\n",
       "    <tr>\n",
       "      <th>two</th>\n",
       "      <td>Haidi</td>\n",
       "      <td>2015</td>\n",
       "      <td>1.7</td>\n",
       "      <td>2</td>\n",
       "    </tr>\n",
       "    <tr>\n",
       "      <th>three</th>\n",
       "      <td>Haidi</td>\n",
       "      <td>2016</td>\n",
       "      <td>3.6</td>\n",
       "      <td>3</td>\n",
       "    </tr>\n",
       "    <tr>\n",
       "      <th>four</th>\n",
       "      <td>Charles</td>\n",
       "      <td>2015</td>\n",
       "      <td>2.5</td>\n",
       "      <td>4</td>\n",
       "    </tr>\n",
       "    <tr>\n",
       "      <th>five</th>\n",
       "      <td>Charles</td>\n",
       "      <td>2017</td>\n",
       "      <td>2.9</td>\n",
       "      <td>5</td>\n",
       "    </tr>\n",
       "  </tbody>\n",
       "</table>\n",
       "</div>"
      ],
      "text/plain": [
       "          name  year  points  penalty\n",
       "one        홍길동  2014     5.5        1\n",
       "two      Haidi  2015     1.7        2\n",
       "three    Haidi  2016     3.6        3\n",
       "four   Charles  2015     2.5        4\n",
       "five   Charles  2017     2.9        5"
      ]
     },
     "execution_count": 159,
     "metadata": {},
     "output_type": "execute_result"
    }
   ],
   "source": [
    "# 깊은 복사 방식으로 복사본  생성 \n",
    "df7 = df5.copy()\n",
    "df7"
   ]
  },
  {
   "cell_type": "code",
   "execution_count": 161,
   "id": "878d8f96",
   "metadata": {},
   "outputs": [
    {
     "data": {
      "text/html": [
       "<div>\n",
       "<style scoped>\n",
       "    .dataframe tbody tr th:only-of-type {\n",
       "        vertical-align: middle;\n",
       "    }\n",
       "\n",
       "    .dataframe tbody tr th {\n",
       "        vertical-align: top;\n",
       "    }\n",
       "\n",
       "    .dataframe thead th {\n",
       "        text-align: right;\n",
       "    }\n",
       "</style>\n",
       "<table border=\"1\" class=\"dataframe\">\n",
       "  <thead>\n",
       "    <tr style=\"text-align: right;\">\n",
       "      <th></th>\n",
       "      <th>name</th>\n",
       "      <th>year</th>\n",
       "      <th>points</th>\n",
       "      <th>penalty</th>\n",
       "    </tr>\n",
       "  </thead>\n",
       "  <tbody>\n",
       "    <tr>\n",
       "      <th>one</th>\n",
       "      <td>홍길동</td>\n",
       "      <td>2014</td>\n",
       "      <td>5.5</td>\n",
       "      <td>1</td>\n",
       "    </tr>\n",
       "    <tr>\n",
       "      <th>two</th>\n",
       "      <td>Haidi</td>\n",
       "      <td>2015</td>\n",
       "      <td>1.7</td>\n",
       "      <td>2</td>\n",
       "    </tr>\n",
       "    <tr>\n",
       "      <th>three</th>\n",
       "      <td>Haidi</td>\n",
       "      <td>2016</td>\n",
       "      <td>3.6</td>\n",
       "      <td>3</td>\n",
       "    </tr>\n",
       "    <tr>\n",
       "      <th>four</th>\n",
       "      <td>Charles</td>\n",
       "      <td>2015</td>\n",
       "      <td>2.5</td>\n",
       "      <td>4</td>\n",
       "    </tr>\n",
       "    <tr>\n",
       "      <th>five</th>\n",
       "      <td>Charles</td>\n",
       "      <td>2017</td>\n",
       "      <td>2.9</td>\n",
       "      <td>500</td>\n",
       "    </tr>\n",
       "  </tbody>\n",
       "</table>\n",
       "</div>"
      ],
      "text/plain": [
       "          name  year  points  penalty\n",
       "one        홍길동  2014     5.5        1\n",
       "two      Haidi  2015     1.7        2\n",
       "three    Haidi  2016     3.6        3\n",
       "four   Charles  2015     2.5        4\n",
       "five   Charles  2017     2.9      500"
      ]
     },
     "execution_count": 161,
     "metadata": {},
     "output_type": "execute_result"
    }
   ],
   "source": [
    "df7.iloc[-1, -1] = 500\n",
    "df7"
   ]
  },
  {
   "cell_type": "code",
   "execution_count": 163,
   "id": "81aaa73a",
   "metadata": {},
   "outputs": [
    {
     "data": {
      "text/html": [
       "<div>\n",
       "<style scoped>\n",
       "    .dataframe tbody tr th:only-of-type {\n",
       "        vertical-align: middle;\n",
       "    }\n",
       "\n",
       "    .dataframe tbody tr th {\n",
       "        vertical-align: top;\n",
       "    }\n",
       "\n",
       "    .dataframe thead th {\n",
       "        text-align: right;\n",
       "    }\n",
       "</style>\n",
       "<table border=\"1\" class=\"dataframe\">\n",
       "  <thead>\n",
       "    <tr style=\"text-align: right;\">\n",
       "      <th></th>\n",
       "      <th>name</th>\n",
       "      <th>year</th>\n",
       "      <th>points</th>\n",
       "      <th>penalty</th>\n",
       "    </tr>\n",
       "  </thead>\n",
       "  <tbody>\n",
       "    <tr>\n",
       "      <th>one</th>\n",
       "      <td>홍길동</td>\n",
       "      <td>2014</td>\n",
       "      <td>5.5</td>\n",
       "      <td>1</td>\n",
       "    </tr>\n",
       "    <tr>\n",
       "      <th>two</th>\n",
       "      <td>Haidi</td>\n",
       "      <td>2015</td>\n",
       "      <td>1.7</td>\n",
       "      <td>2</td>\n",
       "    </tr>\n",
       "    <tr>\n",
       "      <th>three</th>\n",
       "      <td>Haidi</td>\n",
       "      <td>2016</td>\n",
       "      <td>3.6</td>\n",
       "      <td>3</td>\n",
       "    </tr>\n",
       "    <tr>\n",
       "      <th>four</th>\n",
       "      <td>Charles</td>\n",
       "      <td>2015</td>\n",
       "      <td>2.5</td>\n",
       "      <td>4</td>\n",
       "    </tr>\n",
       "    <tr>\n",
       "      <th>five</th>\n",
       "      <td>Charles</td>\n",
       "      <td>2017</td>\n",
       "      <td>2.9</td>\n",
       "      <td>5</td>\n",
       "    </tr>\n",
       "  </tbody>\n",
       "</table>\n",
       "</div>"
      ],
      "text/plain": [
       "          name  year  points  penalty\n",
       "one        홍길동  2014     5.5        1\n",
       "two      Haidi  2015     1.7        2\n",
       "three    Haidi  2016     3.6        3\n",
       "four   Charles  2015     2.5        4\n",
       "five   Charles  2017     2.9        5"
      ]
     },
     "execution_count": 163,
     "metadata": {},
     "output_type": "execute_result"
    }
   ],
   "source": [
    "# 원본은 변경 없음 \n",
    "df5"
   ]
  },
  {
   "cell_type": "markdown",
   "id": "e437bd3a",
   "metadata": {},
   "source": [
    "# 조건식에 필터링 => 불린 인덱싱 \n",
    "\n",
    "```\n",
    "데이타프레임[조건절] \n",
    ">=, <=, ==, != \n",
    "&, |, ~\n",
    "```"
   ]
  },
  {
   "cell_type": "code",
   "execution_count": 165,
   "id": "2816ef9a",
   "metadata": {},
   "outputs": [],
   "source": [
    "data = { \"year\":[2014, 2015, 2016, 2015, 2017,2013]\n",
    "        ,\"name\":['Haidi', 'Haidi', 'Haidi', 'Charles', 'Charles', 'Hayoung']\n",
    "        , \"points\":[1.5, 1.7, 3.6, 2.5, 2.9, 4.0]\n",
    "        , \"penalty\":[0.1,0.2, 0.3,0.4,0.5,0.1 ]\n",
    "        , \"net_points\":[1.4,1.5,3.3,2.1,2.4,2.1]\n",
    "        , \"bonus\":[10,20,30,40,50,60]}\n",
    "df = pd.DataFrame(data, columns=[\"year\",\"name\",\"points\",\"penalty\",\"net_points\",\"bonus\"],\n",
    "                    index=[\"one\", \"two\", \"three\", \"four\", \"five\",\"six\"])"
   ]
  },
  {
   "cell_type": "code",
   "execution_count": 167,
   "id": "9a99a878",
   "metadata": {},
   "outputs": [
    {
     "data": {
      "text/html": [
       "<div>\n",
       "<style scoped>\n",
       "    .dataframe tbody tr th:only-of-type {\n",
       "        vertical-align: middle;\n",
       "    }\n",
       "\n",
       "    .dataframe tbody tr th {\n",
       "        vertical-align: top;\n",
       "    }\n",
       "\n",
       "    .dataframe thead th {\n",
       "        text-align: right;\n",
       "    }\n",
       "</style>\n",
       "<table border=\"1\" class=\"dataframe\">\n",
       "  <thead>\n",
       "    <tr style=\"text-align: right;\">\n",
       "      <th></th>\n",
       "      <th>year</th>\n",
       "      <th>name</th>\n",
       "      <th>points</th>\n",
       "      <th>penalty</th>\n",
       "      <th>net_points</th>\n",
       "      <th>bonus</th>\n",
       "    </tr>\n",
       "  </thead>\n",
       "  <tbody>\n",
       "    <tr>\n",
       "      <th>one</th>\n",
       "      <td>2014</td>\n",
       "      <td>Haidi</td>\n",
       "      <td>1.5</td>\n",
       "      <td>0.1</td>\n",
       "      <td>1.4</td>\n",
       "      <td>10</td>\n",
       "    </tr>\n",
       "    <tr>\n",
       "      <th>two</th>\n",
       "      <td>2015</td>\n",
       "      <td>Haidi</td>\n",
       "      <td>1.7</td>\n",
       "      <td>0.2</td>\n",
       "      <td>1.5</td>\n",
       "      <td>20</td>\n",
       "    </tr>\n",
       "    <tr>\n",
       "      <th>three</th>\n",
       "      <td>2016</td>\n",
       "      <td>Haidi</td>\n",
       "      <td>3.6</td>\n",
       "      <td>0.3</td>\n",
       "      <td>3.3</td>\n",
       "      <td>30</td>\n",
       "    </tr>\n",
       "    <tr>\n",
       "      <th>four</th>\n",
       "      <td>2015</td>\n",
       "      <td>Charles</td>\n",
       "      <td>2.5</td>\n",
       "      <td>0.4</td>\n",
       "      <td>2.1</td>\n",
       "      <td>40</td>\n",
       "    </tr>\n",
       "    <tr>\n",
       "      <th>five</th>\n",
       "      <td>2017</td>\n",
       "      <td>Charles</td>\n",
       "      <td>2.9</td>\n",
       "      <td>0.5</td>\n",
       "      <td>2.4</td>\n",
       "      <td>50</td>\n",
       "    </tr>\n",
       "    <tr>\n",
       "      <th>six</th>\n",
       "      <td>2013</td>\n",
       "      <td>Hayoung</td>\n",
       "      <td>4.0</td>\n",
       "      <td>0.1</td>\n",
       "      <td>2.1</td>\n",
       "      <td>60</td>\n",
       "    </tr>\n",
       "  </tbody>\n",
       "</table>\n",
       "</div>"
      ],
      "text/plain": [
       "       year     name  points  penalty  net_points  bonus\n",
       "one    2014    Haidi     1.5      0.1         1.4     10\n",
       "two    2015    Haidi     1.7      0.2         1.5     20\n",
       "three  2016    Haidi     3.6      0.3         3.3     30\n",
       "four   2015  Charles     2.5      0.4         2.1     40\n",
       "five   2017  Charles     2.9      0.5         2.4     50\n",
       "six    2013  Hayoung     4.0      0.1         2.1     60"
      ]
     },
     "execution_count": 167,
     "metadata": {},
     "output_type": "execute_result"
    }
   ],
   "source": [
    "df"
   ]
  },
  {
   "cell_type": "code",
   "execution_count": 168,
   "id": "8f02c7d7",
   "metadata": {},
   "outputs": [
    {
     "data": {
      "text/plain": [
       "one       True\n",
       "two       True\n",
       "three     True\n",
       "four     False\n",
       "five     False\n",
       "six      False\n",
       "Name: name, dtype: bool"
      ]
     },
     "execution_count": 168,
     "metadata": {},
     "output_type": "execute_result"
    }
   ],
   "source": [
    "# name 값이 Haidi 데이타 조회 \n",
    "df['name'] == 'Haidi'"
   ]
  },
  {
   "cell_type": "code",
   "execution_count": 169,
   "id": "7cd1d554",
   "metadata": {},
   "outputs": [
    {
     "data": {
      "text/html": [
       "<div>\n",
       "<style scoped>\n",
       "    .dataframe tbody tr th:only-of-type {\n",
       "        vertical-align: middle;\n",
       "    }\n",
       "\n",
       "    .dataframe tbody tr th {\n",
       "        vertical-align: top;\n",
       "    }\n",
       "\n",
       "    .dataframe thead th {\n",
       "        text-align: right;\n",
       "    }\n",
       "</style>\n",
       "<table border=\"1\" class=\"dataframe\">\n",
       "  <thead>\n",
       "    <tr style=\"text-align: right;\">\n",
       "      <th></th>\n",
       "      <th>year</th>\n",
       "      <th>name</th>\n",
       "      <th>points</th>\n",
       "      <th>penalty</th>\n",
       "      <th>net_points</th>\n",
       "      <th>bonus</th>\n",
       "    </tr>\n",
       "  </thead>\n",
       "  <tbody>\n",
       "    <tr>\n",
       "      <th>one</th>\n",
       "      <td>2014</td>\n",
       "      <td>Haidi</td>\n",
       "      <td>1.5</td>\n",
       "      <td>0.1</td>\n",
       "      <td>1.4</td>\n",
       "      <td>10</td>\n",
       "    </tr>\n",
       "    <tr>\n",
       "      <th>two</th>\n",
       "      <td>2015</td>\n",
       "      <td>Haidi</td>\n",
       "      <td>1.7</td>\n",
       "      <td>0.2</td>\n",
       "      <td>1.5</td>\n",
       "      <td>20</td>\n",
       "    </tr>\n",
       "    <tr>\n",
       "      <th>three</th>\n",
       "      <td>2016</td>\n",
       "      <td>Haidi</td>\n",
       "      <td>3.6</td>\n",
       "      <td>0.3</td>\n",
       "      <td>3.3</td>\n",
       "      <td>30</td>\n",
       "    </tr>\n",
       "  </tbody>\n",
       "</table>\n",
       "</div>"
      ],
      "text/plain": [
       "       year   name  points  penalty  net_points  bonus\n",
       "one    2014  Haidi     1.5      0.1         1.4     10\n",
       "two    2015  Haidi     1.7      0.2         1.5     20\n",
       "three  2016  Haidi     3.6      0.3         3.3     30"
      ]
     },
     "execution_count": 169,
     "metadata": {},
     "output_type": "execute_result"
    }
   ],
   "source": [
    "df[df['name'] == 'Haidi']"
   ]
  },
  {
   "cell_type": "code",
   "execution_count": 171,
   "id": "064f215c",
   "metadata": {},
   "outputs": [
    {
     "data": {
      "text/plain": [
       "one      False\n",
       "two      False\n",
       "three     True\n",
       "four      True\n",
       "five      True\n",
       "six      False\n",
       "Name: penalty, dtype: bool"
      ]
     },
     "execution_count": 171,
     "metadata": {},
     "output_type": "execute_result"
    }
   ],
   "source": [
    "# penalty 값이 0.3 이상 \n",
    "df['penalty'] >= 0.3"
   ]
  },
  {
   "cell_type": "code",
   "execution_count": 172,
   "id": "69a20068",
   "metadata": {},
   "outputs": [
    {
     "data": {
      "text/html": [
       "<div>\n",
       "<style scoped>\n",
       "    .dataframe tbody tr th:only-of-type {\n",
       "        vertical-align: middle;\n",
       "    }\n",
       "\n",
       "    .dataframe tbody tr th {\n",
       "        vertical-align: top;\n",
       "    }\n",
       "\n",
       "    .dataframe thead th {\n",
       "        text-align: right;\n",
       "    }\n",
       "</style>\n",
       "<table border=\"1\" class=\"dataframe\">\n",
       "  <thead>\n",
       "    <tr style=\"text-align: right;\">\n",
       "      <th></th>\n",
       "      <th>year</th>\n",
       "      <th>name</th>\n",
       "      <th>points</th>\n",
       "      <th>penalty</th>\n",
       "      <th>net_points</th>\n",
       "      <th>bonus</th>\n",
       "    </tr>\n",
       "  </thead>\n",
       "  <tbody>\n",
       "    <tr>\n",
       "      <th>three</th>\n",
       "      <td>2016</td>\n",
       "      <td>Haidi</td>\n",
       "      <td>3.6</td>\n",
       "      <td>0.3</td>\n",
       "      <td>3.3</td>\n",
       "      <td>30</td>\n",
       "    </tr>\n",
       "    <tr>\n",
       "      <th>four</th>\n",
       "      <td>2015</td>\n",
       "      <td>Charles</td>\n",
       "      <td>2.5</td>\n",
       "      <td>0.4</td>\n",
       "      <td>2.1</td>\n",
       "      <td>40</td>\n",
       "    </tr>\n",
       "    <tr>\n",
       "      <th>five</th>\n",
       "      <td>2017</td>\n",
       "      <td>Charles</td>\n",
       "      <td>2.9</td>\n",
       "      <td>0.5</td>\n",
       "      <td>2.4</td>\n",
       "      <td>50</td>\n",
       "    </tr>\n",
       "  </tbody>\n",
       "</table>\n",
       "</div>"
      ],
      "text/plain": [
       "       year     name  points  penalty  net_points  bonus\n",
       "three  2016    Haidi     3.6      0.3         3.3     30\n",
       "four   2015  Charles     2.5      0.4         2.1     40\n",
       "five   2017  Charles     2.9      0.5         2.4     50"
      ]
     },
     "execution_count": 172,
     "metadata": {},
     "output_type": "execute_result"
    }
   ],
   "source": [
    "df[df['penalty'] >= 0.3]"
   ]
  },
  {
   "cell_type": "code",
   "execution_count": 173,
   "id": "0360e1a7",
   "metadata": {},
   "outputs": [
    {
     "data": {
      "text/plain": [
       "one      False\n",
       "two      False\n",
       "three    False\n",
       "four      True\n",
       "five      True\n",
       "six      False\n",
       "dtype: bool"
      ]
     },
     "execution_count": 173,
     "metadata": {},
     "output_type": "execute_result"
    }
   ],
   "source": [
    "# penalty 값이 0.3 이상 , name 값은 'Charles'\n",
    "(df['penalty'] >= 0.3) & (df['name'] =='Charles')"
   ]
  },
  {
   "cell_type": "code",
   "execution_count": 174,
   "id": "35570aa4",
   "metadata": {},
   "outputs": [
    {
     "data": {
      "text/html": [
       "<div>\n",
       "<style scoped>\n",
       "    .dataframe tbody tr th:only-of-type {\n",
       "        vertical-align: middle;\n",
       "    }\n",
       "\n",
       "    .dataframe tbody tr th {\n",
       "        vertical-align: top;\n",
       "    }\n",
       "\n",
       "    .dataframe thead th {\n",
       "        text-align: right;\n",
       "    }\n",
       "</style>\n",
       "<table border=\"1\" class=\"dataframe\">\n",
       "  <thead>\n",
       "    <tr style=\"text-align: right;\">\n",
       "      <th></th>\n",
       "      <th>year</th>\n",
       "      <th>name</th>\n",
       "      <th>points</th>\n",
       "      <th>penalty</th>\n",
       "      <th>net_points</th>\n",
       "      <th>bonus</th>\n",
       "    </tr>\n",
       "  </thead>\n",
       "  <tbody>\n",
       "    <tr>\n",
       "      <th>four</th>\n",
       "      <td>2015</td>\n",
       "      <td>Charles</td>\n",
       "      <td>2.5</td>\n",
       "      <td>0.4</td>\n",
       "      <td>2.1</td>\n",
       "      <td>40</td>\n",
       "    </tr>\n",
       "    <tr>\n",
       "      <th>five</th>\n",
       "      <td>2017</td>\n",
       "      <td>Charles</td>\n",
       "      <td>2.9</td>\n",
       "      <td>0.5</td>\n",
       "      <td>2.4</td>\n",
       "      <td>50</td>\n",
       "    </tr>\n",
       "  </tbody>\n",
       "</table>\n",
       "</div>"
      ],
      "text/plain": [
       "      year     name  points  penalty  net_points  bonus\n",
       "four  2015  Charles     2.5      0.4         2.1     40\n",
       "five  2017  Charles     2.9      0.5         2.4     50"
      ]
     },
     "execution_count": 174,
     "metadata": {},
     "output_type": "execute_result"
    }
   ],
   "source": [
    "df[(df['penalty'] >= 0.3) & (df['name'] =='Charles')]"
   ]
  },
  {
   "cell_type": "code",
   "execution_count": null,
   "id": "188b6054",
   "metadata": {},
   "outputs": [],
   "source": []
  },
  {
   "cell_type": "code",
   "execution_count": 170,
   "id": "c62f2b23",
   "metadata": {
    "scrolled": true
   },
   "outputs": [
    {
     "data": {
      "text/html": [
       "<div>\n",
       "<style scoped>\n",
       "    .dataframe tbody tr th:only-of-type {\n",
       "        vertical-align: middle;\n",
       "    }\n",
       "\n",
       "    .dataframe tbody tr th {\n",
       "        vertical-align: top;\n",
       "    }\n",
       "\n",
       "    .dataframe thead th {\n",
       "        text-align: right;\n",
       "    }\n",
       "</style>\n",
       "<table border=\"1\" class=\"dataframe\">\n",
       "  <thead>\n",
       "    <tr style=\"text-align: right;\">\n",
       "      <th></th>\n",
       "      <th>year</th>\n",
       "      <th>name</th>\n",
       "      <th>points</th>\n",
       "      <th>penalty</th>\n",
       "      <th>net_points</th>\n",
       "      <th>bonus</th>\n",
       "    </tr>\n",
       "  </thead>\n",
       "  <tbody>\n",
       "    <tr>\n",
       "      <th>one</th>\n",
       "      <td>2014</td>\n",
       "      <td>Haidi</td>\n",
       "      <td>1.5</td>\n",
       "      <td>0.1</td>\n",
       "      <td>1.4</td>\n",
       "      <td>10</td>\n",
       "    </tr>\n",
       "    <tr>\n",
       "      <th>two</th>\n",
       "      <td>2015</td>\n",
       "      <td>Haidi</td>\n",
       "      <td>1.7</td>\n",
       "      <td>0.2</td>\n",
       "      <td>1.5</td>\n",
       "      <td>20</td>\n",
       "    </tr>\n",
       "    <tr>\n",
       "      <th>three</th>\n",
       "      <td>2016</td>\n",
       "      <td>Haidi</td>\n",
       "      <td>3.6</td>\n",
       "      <td>0.3</td>\n",
       "      <td>3.3</td>\n",
       "      <td>30</td>\n",
       "    </tr>\n",
       "    <tr>\n",
       "      <th>four</th>\n",
       "      <td>2015</td>\n",
       "      <td>Charles</td>\n",
       "      <td>2.5</td>\n",
       "      <td>0.4</td>\n",
       "      <td>2.1</td>\n",
       "      <td>40</td>\n",
       "    </tr>\n",
       "    <tr>\n",
       "      <th>five</th>\n",
       "      <td>2017</td>\n",
       "      <td>Charles</td>\n",
       "      <td>2.9</td>\n",
       "      <td>0.5</td>\n",
       "      <td>2.4</td>\n",
       "      <td>50</td>\n",
       "    </tr>\n",
       "    <tr>\n",
       "      <th>six</th>\n",
       "      <td>2013</td>\n",
       "      <td>Hayoung</td>\n",
       "      <td>4.0</td>\n",
       "      <td>0.1</td>\n",
       "      <td>2.1</td>\n",
       "      <td>60</td>\n",
       "    </tr>\n",
       "  </tbody>\n",
       "</table>\n",
       "</div>"
      ],
      "text/plain": [
       "       year     name  points  penalty  net_points  bonus\n",
       "one    2014    Haidi     1.5      0.1         1.4     10\n",
       "two    2015    Haidi     1.7      0.2         1.5     20\n",
       "three  2016    Haidi     3.6      0.3         3.3     30\n",
       "four   2015  Charles     2.5      0.4         2.1     40\n",
       "five   2017  Charles     2.9      0.5         2.4     50\n",
       "six    2013  Hayoung     4.0      0.1         2.1     60"
      ]
     },
     "execution_count": 170,
     "metadata": {},
     "output_type": "execute_result"
    }
   ],
   "source": [
    "df"
   ]
  },
  {
   "cell_type": "markdown",
   "id": "7301e4f8",
   "metadata": {},
   "source": [
    "# csv, tsv 파일 => 데이타프레임 \n",
    "\n",
    "```\n",
    "pd.read_csv('파일경로', encoding='cp949')\n",
    "```"
   ]
  },
  {
   "cell_type": "raw",
   "id": "66052eb1",
   "metadata": {},
   "source": [
    "예제 소스 확인 \n",
    "- data 폴더 \n",
    "\n",
    "population_in_Inchon.csv\n",
    "gapminder.tsv"
   ]
  },
  {
   "cell_type": "code",
   "execution_count": 175,
   "id": "df65e20b",
   "metadata": {},
   "outputs": [
    {
     "name": "stdout",
     "output_type": "stream",
     "text": [
      " C 드라이브의 볼륨에는 이름이 없습니다.\n",
      " 볼륨 일련 번호: 2819-FF50\n",
      "\n",
      " C:\\workspace211123\\data 디렉터리\n",
      "\n",
      "2021-11-25  오후 04:25    <DIR>          .\n",
      "2021-11-25  오후 04:25    <DIR>          ..\n",
      "2021-11-23  오전 12:12             3,088 births.txt\n",
      "2020-08-12  오후 10:28            83,637 gapminder.tsv\n",
      "2021-11-23  오전 12:25            35,455 Jeju2021.csv\n",
      "2016-07-17  오후 09:46           171,308 movies.dat\n",
      "2019-08-03  오후 04:36               528 population_in_Inchon.csv\n",
      "2018-04-24  오전 10:42        24,594,131 ratings.dat\n",
      "2019-03-20  오전 10:54         1,185,149 seoul.csv\n",
      "2021-01-31  오후 08:49            93,805 seoul2021.csv\n",
      "               8개 파일          26,167,101 바이트\n",
      "               2개 디렉터리  70,075,596,800 바이트 남음\n"
     ]
    }
   ],
   "source": [
    "ls data"
   ]
  },
  {
   "cell_type": "code",
   "execution_count": 178,
   "id": "a6f3c8e2",
   "metadata": {},
   "outputs": [],
   "source": [
    "pd.read_csv?\n"
   ]
  },
  {
   "cell_type": "code",
   "execution_count": 180,
   "id": "b68f6dd4",
   "metadata": {},
   "outputs": [],
   "source": [
    "df_inchon = pd.read_csv('data/population_in_Inchon.csv', encoding='cp949')"
   ]
  },
  {
   "cell_type": "code",
   "execution_count": 181,
   "id": "da2ff639",
   "metadata": {},
   "outputs": [
    {
     "data": {
      "text/html": [
       "<div>\n",
       "<style scoped>\n",
       "    .dataframe tbody tr th:only-of-type {\n",
       "        vertical-align: middle;\n",
       "    }\n",
       "\n",
       "    .dataframe tbody tr th {\n",
       "        vertical-align: top;\n",
       "    }\n",
       "\n",
       "    .dataframe thead th {\n",
       "        text-align: right;\n",
       "    }\n",
       "</style>\n",
       "<table border=\"1\" class=\"dataframe\">\n",
       "  <thead>\n",
       "    <tr style=\"text-align: right;\">\n",
       "      <th></th>\n",
       "      <th>군  구</th>\n",
       "      <th>주 민 등 록 인 구(남)</th>\n",
       "      <th>주 민 등 록 인 구(여)</th>\n",
       "      <th>주 민 등 록 인 구(세대수)</th>\n",
       "      <th>외 국 인(남)</th>\n",
       "      <th>외 국 인(여)</th>\n",
       "    </tr>\n",
       "  </thead>\n",
       "  <tbody>\n",
       "    <tr>\n",
       "      <th>0</th>\n",
       "      <td>중   구</td>\n",
       "      <td>62202</td>\n",
       "      <td>57227</td>\n",
       "      <td>55952</td>\n",
       "      <td>2006</td>\n",
       "      <td>1886</td>\n",
       "    </tr>\n",
       "    <tr>\n",
       "      <th>1</th>\n",
       "      <td>동   구</td>\n",
       "      <td>33875</td>\n",
       "      <td>33312</td>\n",
       "      <td>29153</td>\n",
       "      <td>518</td>\n",
       "      <td>391</td>\n",
       "    </tr>\n",
       "    <tr>\n",
       "      <th>2</th>\n",
       "      <td>남   구</td>\n",
       "      <td>211021</td>\n",
       "      <td>207512</td>\n",
       "      <td>183418</td>\n",
       "      <td>4281</td>\n",
       "      <td>4235</td>\n",
       "    </tr>\n",
       "    <tr>\n",
       "      <th>3</th>\n",
       "      <td>연수구</td>\n",
       "      <td>169121</td>\n",
       "      <td>170806</td>\n",
       "      <td>126408</td>\n",
       "      <td>4386</td>\n",
       "      <td>4862</td>\n",
       "    </tr>\n",
       "    <tr>\n",
       "      <th>4</th>\n",
       "      <td>남동구</td>\n",
       "      <td>268451</td>\n",
       "      <td>270525</td>\n",
       "      <td>217621</td>\n",
       "      <td>8370</td>\n",
       "      <td>3824</td>\n",
       "    </tr>\n",
       "    <tr>\n",
       "      <th>5</th>\n",
       "      <td>부평구</td>\n",
       "      <td>262855</td>\n",
       "      <td>266867</td>\n",
       "      <td>213270</td>\n",
       "      <td>6602</td>\n",
       "      <td>6178</td>\n",
       "    </tr>\n",
       "    <tr>\n",
       "      <th>6</th>\n",
       "      <td>계양구</td>\n",
       "      <td>157731</td>\n",
       "      <td>158190</td>\n",
       "      <td>124349</td>\n",
       "      <td>1396</td>\n",
       "      <td>1775</td>\n",
       "    </tr>\n",
       "    <tr>\n",
       "      <th>7</th>\n",
       "      <td>서   구</td>\n",
       "      <td>269966</td>\n",
       "      <td>264198</td>\n",
       "      <td>208064</td>\n",
       "      <td>8331</td>\n",
       "      <td>3793</td>\n",
       "    </tr>\n",
       "    <tr>\n",
       "      <th>8</th>\n",
       "      <td>강화군</td>\n",
       "      <td>34498</td>\n",
       "      <td>34274</td>\n",
       "      <td>32202</td>\n",
       "      <td>495</td>\n",
       "      <td>278</td>\n",
       "    </tr>\n",
       "    <tr>\n",
       "      <th>9</th>\n",
       "      <td>옹진군</td>\n",
       "      <td>12010</td>\n",
       "      <td>9200</td>\n",
       "      <td>11746</td>\n",
       "      <td>130</td>\n",
       "      <td>54</td>\n",
       "    </tr>\n",
       "  </tbody>\n",
       "</table>\n",
       "</div>"
      ],
      "text/plain": [
       "    군  구  주 민 등 록 인 구(남)  주 민 등 록 인 구(여)  주 민 등 록 인 구(세대수)  외 국 인(남)  외 국 인(여)\n",
       "0  중   구           62202           57227             55952      2006      1886\n",
       "1  동   구           33875           33312             29153       518       391\n",
       "2  남   구          211021          207512            183418      4281      4235\n",
       "3    연수구          169121          170806            126408      4386      4862\n",
       "4    남동구          268451          270525            217621      8370      3824\n",
       "5    부평구          262855          266867            213270      6602      6178\n",
       "6    계양구          157731          158190            124349      1396      1775\n",
       "7  서   구          269966          264198            208064      8331      3793\n",
       "8    강화군           34498           34274             32202       495       278\n",
       "9    옹진군           12010            9200             11746       130        54"
      ]
     },
     "execution_count": 181,
     "metadata": {},
     "output_type": "execute_result"
    }
   ],
   "source": [
    "df_inchon"
   ]
  },
  {
   "cell_type": "code",
   "execution_count": 182,
   "id": "b1a90231",
   "metadata": {},
   "outputs": [
    {
     "data": {
      "text/plain": [
       "(10, 6)"
      ]
     },
     "execution_count": 182,
     "metadata": {},
     "output_type": "execute_result"
    }
   ],
   "source": [
    "df_inchon.shape"
   ]
  },
  {
   "cell_type": "code",
   "execution_count": 183,
   "id": "21bd6457",
   "metadata": {},
   "outputs": [
    {
     "data": {
      "text/plain": [
       "Index(['군  구', '주 민 등 록 인 구(남)', '주 민 등 록 인 구(여)', '주 민 등 록 인 구(세대수)',\n",
       "       '외 국 인(남)', '외 국 인(여)'],\n",
       "      dtype='object')"
      ]
     },
     "execution_count": 183,
     "metadata": {},
     "output_type": "execute_result"
    }
   ],
   "source": [
    "df_inchon.columns"
   ]
  },
  {
   "cell_type": "code",
   "execution_count": 184,
   "id": "62035abc",
   "metadata": {},
   "outputs": [
    {
     "data": {
      "text/html": [
       "<div>\n",
       "<style scoped>\n",
       "    .dataframe tbody tr th:only-of-type {\n",
       "        vertical-align: middle;\n",
       "    }\n",
       "\n",
       "    .dataframe tbody tr th {\n",
       "        vertical-align: top;\n",
       "    }\n",
       "\n",
       "    .dataframe thead th {\n",
       "        text-align: right;\n",
       "    }\n",
       "</style>\n",
       "<table border=\"1\" class=\"dataframe\">\n",
       "  <thead>\n",
       "    <tr style=\"text-align: right;\">\n",
       "      <th></th>\n",
       "      <th>군  구</th>\n",
       "      <th>주 민 등 록 인 구(세대수)</th>\n",
       "    </tr>\n",
       "  </thead>\n",
       "  <tbody>\n",
       "    <tr>\n",
       "      <th>0</th>\n",
       "      <td>중   구</td>\n",
       "      <td>55952</td>\n",
       "    </tr>\n",
       "    <tr>\n",
       "      <th>1</th>\n",
       "      <td>동   구</td>\n",
       "      <td>29153</td>\n",
       "    </tr>\n",
       "    <tr>\n",
       "      <th>2</th>\n",
       "      <td>남   구</td>\n",
       "      <td>183418</td>\n",
       "    </tr>\n",
       "    <tr>\n",
       "      <th>3</th>\n",
       "      <td>연수구</td>\n",
       "      <td>126408</td>\n",
       "    </tr>\n",
       "    <tr>\n",
       "      <th>4</th>\n",
       "      <td>남동구</td>\n",
       "      <td>217621</td>\n",
       "    </tr>\n",
       "    <tr>\n",
       "      <th>5</th>\n",
       "      <td>부평구</td>\n",
       "      <td>213270</td>\n",
       "    </tr>\n",
       "    <tr>\n",
       "      <th>6</th>\n",
       "      <td>계양구</td>\n",
       "      <td>124349</td>\n",
       "    </tr>\n",
       "    <tr>\n",
       "      <th>7</th>\n",
       "      <td>서   구</td>\n",
       "      <td>208064</td>\n",
       "    </tr>\n",
       "    <tr>\n",
       "      <th>8</th>\n",
       "      <td>강화군</td>\n",
       "      <td>32202</td>\n",
       "    </tr>\n",
       "    <tr>\n",
       "      <th>9</th>\n",
       "      <td>옹진군</td>\n",
       "      <td>11746</td>\n",
       "    </tr>\n",
       "  </tbody>\n",
       "</table>\n",
       "</div>"
      ],
      "text/plain": [
       "    군  구  주 민 등 록 인 구(세대수)\n",
       "0  중   구             55952\n",
       "1  동   구             29153\n",
       "2  남   구            183418\n",
       "3    연수구            126408\n",
       "4    남동구            217621\n",
       "5    부평구            213270\n",
       "6    계양구            124349\n",
       "7  서   구            208064\n",
       "8    강화군             32202\n",
       "9    옹진군             11746"
      ]
     },
     "execution_count": 184,
     "metadata": {},
     "output_type": "execute_result"
    }
   ],
   "source": [
    "# '군  구', '주 민 등 록 인 구(세대수)' 컬럼 출력 \n",
    "df_inchon[['군  구', '주 민 등 록 인 구(세대수)']]"
   ]
  },
  {
   "cell_type": "code",
   "execution_count": 187,
   "id": "0a343d08",
   "metadata": {},
   "outputs": [
    {
     "data": {
      "text/html": [
       "<div>\n",
       "<style scoped>\n",
       "    .dataframe tbody tr th:only-of-type {\n",
       "        vertical-align: middle;\n",
       "    }\n",
       "\n",
       "    .dataframe tbody tr th {\n",
       "        vertical-align: top;\n",
       "    }\n",
       "\n",
       "    .dataframe thead th {\n",
       "        text-align: right;\n",
       "    }\n",
       "</style>\n",
       "<table border=\"1\" class=\"dataframe\">\n",
       "  <thead>\n",
       "    <tr style=\"text-align: right;\">\n",
       "      <th></th>\n",
       "      <th>군  구</th>\n",
       "      <th>주 민 등 록 인 구(남)</th>\n",
       "      <th>주 민 등 록 인 구(여)</th>\n",
       "      <th>주 민 등 록 인 구(세대수)</th>\n",
       "      <th>외 국 인(남)</th>\n",
       "      <th>외 국 인(여)</th>\n",
       "    </tr>\n",
       "  </thead>\n",
       "  <tbody>\n",
       "    <tr>\n",
       "      <th>2</th>\n",
       "      <td>남   구</td>\n",
       "      <td>211021</td>\n",
       "      <td>207512</td>\n",
       "      <td>183418</td>\n",
       "      <td>4281</td>\n",
       "      <td>4235</td>\n",
       "    </tr>\n",
       "    <tr>\n",
       "      <th>3</th>\n",
       "      <td>연수구</td>\n",
       "      <td>169121</td>\n",
       "      <td>170806</td>\n",
       "      <td>126408</td>\n",
       "      <td>4386</td>\n",
       "      <td>4862</td>\n",
       "    </tr>\n",
       "    <tr>\n",
       "      <th>5</th>\n",
       "      <td>부평구</td>\n",
       "      <td>262855</td>\n",
       "      <td>266867</td>\n",
       "      <td>213270</td>\n",
       "      <td>6602</td>\n",
       "      <td>6178</td>\n",
       "    </tr>\n",
       "  </tbody>\n",
       "</table>\n",
       "</div>"
      ],
      "text/plain": [
       "    군  구  주 민 등 록 인 구(남)  주 민 등 록 인 구(여)  주 민 등 록 인 구(세대수)  외 국 인(남)  외 국 인(여)\n",
       "2  남   구          211021          207512            183418      4281      4235\n",
       "3    연수구          169121          170806            126408      4386      4862\n",
       "5    부평구          262855          266867            213270      6602      6178"
      ]
     },
     "execution_count": 187,
     "metadata": {},
     "output_type": "execute_result"
    }
   ],
   "source": [
    "# 외 국 인(여) 컬럼값이 4000 이상 \n",
    "df_inchon[df_inchon['외 국 인(여)'] > 4000]"
   ]
  },
  {
   "cell_type": "code",
   "execution_count": null,
   "id": "f3b3d667",
   "metadata": {},
   "outputs": [],
   "source": [
    "# 외국인 컬럼 추가 => '외 국 인(남)'+ '외 국 인(여)'"
   ]
  },
  {
   "cell_type": "code",
   "execution_count": 188,
   "id": "1815fa0d",
   "metadata": {},
   "outputs": [],
   "source": [
    "df_inchon['외국인'] = df_inchon['외 국 인(여)']+df_inchon['외 국 인(남)']"
   ]
  },
  {
   "cell_type": "code",
   "execution_count": 189,
   "id": "a9af7670",
   "metadata": {},
   "outputs": [
    {
     "data": {
      "text/html": [
       "<div>\n",
       "<style scoped>\n",
       "    .dataframe tbody tr th:only-of-type {\n",
       "        vertical-align: middle;\n",
       "    }\n",
       "\n",
       "    .dataframe tbody tr th {\n",
       "        vertical-align: top;\n",
       "    }\n",
       "\n",
       "    .dataframe thead th {\n",
       "        text-align: right;\n",
       "    }\n",
       "</style>\n",
       "<table border=\"1\" class=\"dataframe\">\n",
       "  <thead>\n",
       "    <tr style=\"text-align: right;\">\n",
       "      <th></th>\n",
       "      <th>군  구</th>\n",
       "      <th>주 민 등 록 인 구(남)</th>\n",
       "      <th>주 민 등 록 인 구(여)</th>\n",
       "      <th>주 민 등 록 인 구(세대수)</th>\n",
       "      <th>외 국 인(남)</th>\n",
       "      <th>외 국 인(여)</th>\n",
       "      <th>외국인</th>\n",
       "    </tr>\n",
       "  </thead>\n",
       "  <tbody>\n",
       "    <tr>\n",
       "      <th>0</th>\n",
       "      <td>중   구</td>\n",
       "      <td>62202</td>\n",
       "      <td>57227</td>\n",
       "      <td>55952</td>\n",
       "      <td>2006</td>\n",
       "      <td>1886</td>\n",
       "      <td>3892</td>\n",
       "    </tr>\n",
       "    <tr>\n",
       "      <th>1</th>\n",
       "      <td>동   구</td>\n",
       "      <td>33875</td>\n",
       "      <td>33312</td>\n",
       "      <td>29153</td>\n",
       "      <td>518</td>\n",
       "      <td>391</td>\n",
       "      <td>909</td>\n",
       "    </tr>\n",
       "    <tr>\n",
       "      <th>2</th>\n",
       "      <td>남   구</td>\n",
       "      <td>211021</td>\n",
       "      <td>207512</td>\n",
       "      <td>183418</td>\n",
       "      <td>4281</td>\n",
       "      <td>4235</td>\n",
       "      <td>8516</td>\n",
       "    </tr>\n",
       "    <tr>\n",
       "      <th>3</th>\n",
       "      <td>연수구</td>\n",
       "      <td>169121</td>\n",
       "      <td>170806</td>\n",
       "      <td>126408</td>\n",
       "      <td>4386</td>\n",
       "      <td>4862</td>\n",
       "      <td>9248</td>\n",
       "    </tr>\n",
       "    <tr>\n",
       "      <th>4</th>\n",
       "      <td>남동구</td>\n",
       "      <td>268451</td>\n",
       "      <td>270525</td>\n",
       "      <td>217621</td>\n",
       "      <td>8370</td>\n",
       "      <td>3824</td>\n",
       "      <td>12194</td>\n",
       "    </tr>\n",
       "    <tr>\n",
       "      <th>5</th>\n",
       "      <td>부평구</td>\n",
       "      <td>262855</td>\n",
       "      <td>266867</td>\n",
       "      <td>213270</td>\n",
       "      <td>6602</td>\n",
       "      <td>6178</td>\n",
       "      <td>12780</td>\n",
       "    </tr>\n",
       "    <tr>\n",
       "      <th>6</th>\n",
       "      <td>계양구</td>\n",
       "      <td>157731</td>\n",
       "      <td>158190</td>\n",
       "      <td>124349</td>\n",
       "      <td>1396</td>\n",
       "      <td>1775</td>\n",
       "      <td>3171</td>\n",
       "    </tr>\n",
       "    <tr>\n",
       "      <th>7</th>\n",
       "      <td>서   구</td>\n",
       "      <td>269966</td>\n",
       "      <td>264198</td>\n",
       "      <td>208064</td>\n",
       "      <td>8331</td>\n",
       "      <td>3793</td>\n",
       "      <td>12124</td>\n",
       "    </tr>\n",
       "    <tr>\n",
       "      <th>8</th>\n",
       "      <td>강화군</td>\n",
       "      <td>34498</td>\n",
       "      <td>34274</td>\n",
       "      <td>32202</td>\n",
       "      <td>495</td>\n",
       "      <td>278</td>\n",
       "      <td>773</td>\n",
       "    </tr>\n",
       "    <tr>\n",
       "      <th>9</th>\n",
       "      <td>옹진군</td>\n",
       "      <td>12010</td>\n",
       "      <td>9200</td>\n",
       "      <td>11746</td>\n",
       "      <td>130</td>\n",
       "      <td>54</td>\n",
       "      <td>184</td>\n",
       "    </tr>\n",
       "  </tbody>\n",
       "</table>\n",
       "</div>"
      ],
      "text/plain": [
       "    군  구  주 민 등 록 인 구(남)  주 민 등 록 인 구(여)  주 민 등 록 인 구(세대수)  외 국 인(남)  \\\n",
       "0  중   구           62202           57227             55952      2006   \n",
       "1  동   구           33875           33312             29153       518   \n",
       "2  남   구          211021          207512            183418      4281   \n",
       "3    연수구          169121          170806            126408      4386   \n",
       "4    남동구          268451          270525            217621      8370   \n",
       "5    부평구          262855          266867            213270      6602   \n",
       "6    계양구          157731          158190            124349      1396   \n",
       "7  서   구          269966          264198            208064      8331   \n",
       "8    강화군           34498           34274             32202       495   \n",
       "9    옹진군           12010            9200             11746       130   \n",
       "\n",
       "   외 국 인(여)    외국인  \n",
       "0      1886   3892  \n",
       "1       391    909  \n",
       "2      4235   8516  \n",
       "3      4862   9248  \n",
       "4      3824  12194  \n",
       "5      6178  12780  \n",
       "6      1775   3171  \n",
       "7      3793  12124  \n",
       "8       278    773  \n",
       "9        54    184  "
      ]
     },
     "execution_count": 189,
     "metadata": {},
     "output_type": "execute_result"
    }
   ],
   "source": [
    "df_inchon"
   ]
  },
  {
   "cell_type": "code",
   "execution_count": 190,
   "id": "4db45575",
   "metadata": {},
   "outputs": [],
   "source": [
    "# '외 국 인(남)'+ '외 국 인(여)' 컬럼 삭제 \n",
    "df_inchon.drop(['외 국 인(남)','외 국 인(여)'], inplace=True, axis=1)"
   ]
  },
  {
   "cell_type": "code",
   "execution_count": 191,
   "id": "58e11e35",
   "metadata": {},
   "outputs": [
    {
     "data": {
      "text/html": [
       "<div>\n",
       "<style scoped>\n",
       "    .dataframe tbody tr th:only-of-type {\n",
       "        vertical-align: middle;\n",
       "    }\n",
       "\n",
       "    .dataframe tbody tr th {\n",
       "        vertical-align: top;\n",
       "    }\n",
       "\n",
       "    .dataframe thead th {\n",
       "        text-align: right;\n",
       "    }\n",
       "</style>\n",
       "<table border=\"1\" class=\"dataframe\">\n",
       "  <thead>\n",
       "    <tr style=\"text-align: right;\">\n",
       "      <th></th>\n",
       "      <th>군  구</th>\n",
       "      <th>주 민 등 록 인 구(남)</th>\n",
       "      <th>주 민 등 록 인 구(여)</th>\n",
       "      <th>주 민 등 록 인 구(세대수)</th>\n",
       "      <th>외국인</th>\n",
       "    </tr>\n",
       "  </thead>\n",
       "  <tbody>\n",
       "    <tr>\n",
       "      <th>0</th>\n",
       "      <td>중   구</td>\n",
       "      <td>62202</td>\n",
       "      <td>57227</td>\n",
       "      <td>55952</td>\n",
       "      <td>3892</td>\n",
       "    </tr>\n",
       "    <tr>\n",
       "      <th>1</th>\n",
       "      <td>동   구</td>\n",
       "      <td>33875</td>\n",
       "      <td>33312</td>\n",
       "      <td>29153</td>\n",
       "      <td>909</td>\n",
       "    </tr>\n",
       "    <tr>\n",
       "      <th>2</th>\n",
       "      <td>남   구</td>\n",
       "      <td>211021</td>\n",
       "      <td>207512</td>\n",
       "      <td>183418</td>\n",
       "      <td>8516</td>\n",
       "    </tr>\n",
       "    <tr>\n",
       "      <th>3</th>\n",
       "      <td>연수구</td>\n",
       "      <td>169121</td>\n",
       "      <td>170806</td>\n",
       "      <td>126408</td>\n",
       "      <td>9248</td>\n",
       "    </tr>\n",
       "    <tr>\n",
       "      <th>4</th>\n",
       "      <td>남동구</td>\n",
       "      <td>268451</td>\n",
       "      <td>270525</td>\n",
       "      <td>217621</td>\n",
       "      <td>12194</td>\n",
       "    </tr>\n",
       "    <tr>\n",
       "      <th>5</th>\n",
       "      <td>부평구</td>\n",
       "      <td>262855</td>\n",
       "      <td>266867</td>\n",
       "      <td>213270</td>\n",
       "      <td>12780</td>\n",
       "    </tr>\n",
       "    <tr>\n",
       "      <th>6</th>\n",
       "      <td>계양구</td>\n",
       "      <td>157731</td>\n",
       "      <td>158190</td>\n",
       "      <td>124349</td>\n",
       "      <td>3171</td>\n",
       "    </tr>\n",
       "    <tr>\n",
       "      <th>7</th>\n",
       "      <td>서   구</td>\n",
       "      <td>269966</td>\n",
       "      <td>264198</td>\n",
       "      <td>208064</td>\n",
       "      <td>12124</td>\n",
       "    </tr>\n",
       "    <tr>\n",
       "      <th>8</th>\n",
       "      <td>강화군</td>\n",
       "      <td>34498</td>\n",
       "      <td>34274</td>\n",
       "      <td>32202</td>\n",
       "      <td>773</td>\n",
       "    </tr>\n",
       "    <tr>\n",
       "      <th>9</th>\n",
       "      <td>옹진군</td>\n",
       "      <td>12010</td>\n",
       "      <td>9200</td>\n",
       "      <td>11746</td>\n",
       "      <td>184</td>\n",
       "    </tr>\n",
       "  </tbody>\n",
       "</table>\n",
       "</div>"
      ],
      "text/plain": [
       "    군  구  주 민 등 록 인 구(남)  주 민 등 록 인 구(여)  주 민 등 록 인 구(세대수)    외국인\n",
       "0  중   구           62202           57227             55952   3892\n",
       "1  동   구           33875           33312             29153    909\n",
       "2  남   구          211021          207512            183418   8516\n",
       "3    연수구          169121          170806            126408   9248\n",
       "4    남동구          268451          270525            217621  12194\n",
       "5    부평구          262855          266867            213270  12780\n",
       "6    계양구          157731          158190            124349   3171\n",
       "7  서   구          269966          264198            208064  12124\n",
       "8    강화군           34498           34274             32202    773\n",
       "9    옹진군           12010            9200             11746    184"
      ]
     },
     "execution_count": 191,
     "metadata": {},
     "output_type": "execute_result"
    }
   ],
   "source": [
    "df_inchon"
   ]
  },
  {
   "cell_type": "code",
   "execution_count": 192,
   "id": "b696fde9",
   "metadata": {},
   "outputs": [
    {
     "data": {
      "text/html": [
       "<div>\n",
       "<style scoped>\n",
       "    .dataframe tbody tr th:only-of-type {\n",
       "        vertical-align: middle;\n",
       "    }\n",
       "\n",
       "    .dataframe tbody tr th {\n",
       "        vertical-align: top;\n",
       "    }\n",
       "\n",
       "    .dataframe thead th {\n",
       "        text-align: right;\n",
       "    }\n",
       "</style>\n",
       "<table border=\"1\" class=\"dataframe\">\n",
       "  <thead>\n",
       "    <tr style=\"text-align: right;\">\n",
       "      <th></th>\n",
       "      <th>주 민 등 록 인 구(남)</th>\n",
       "      <th>주 민 등 록 인 구(여)</th>\n",
       "      <th>주 민 등 록 인 구(세대수)</th>\n",
       "      <th>외국인</th>\n",
       "    </tr>\n",
       "  </thead>\n",
       "  <tbody>\n",
       "    <tr>\n",
       "      <th>count</th>\n",
       "      <td>10.000000</td>\n",
       "      <td>10.000000</td>\n",
       "      <td>10.000000</td>\n",
       "      <td>10.00000</td>\n",
       "    </tr>\n",
       "    <tr>\n",
       "      <th>mean</th>\n",
       "      <td>148173.000000</td>\n",
       "      <td>147211.100000</td>\n",
       "      <td>120218.300000</td>\n",
       "      <td>6379.10000</td>\n",
       "    </tr>\n",
       "    <tr>\n",
       "      <th>std</th>\n",
       "      <td>104801.268158</td>\n",
       "      <td>105617.357956</td>\n",
       "      <td>82897.864944</td>\n",
       "      <td>5129.35533</td>\n",
       "    </tr>\n",
       "    <tr>\n",
       "      <th>min</th>\n",
       "      <td>12010.000000</td>\n",
       "      <td>9200.000000</td>\n",
       "      <td>11746.000000</td>\n",
       "      <td>184.00000</td>\n",
       "    </tr>\n",
       "    <tr>\n",
       "      <th>25%</th>\n",
       "      <td>41424.000000</td>\n",
       "      <td>40012.250000</td>\n",
       "      <td>38139.500000</td>\n",
       "      <td>1474.50000</td>\n",
       "    </tr>\n",
       "    <tr>\n",
       "      <th>50%</th>\n",
       "      <td>163426.000000</td>\n",
       "      <td>164498.000000</td>\n",
       "      <td>125378.500000</td>\n",
       "      <td>6204.00000</td>\n",
       "    </tr>\n",
       "    <tr>\n",
       "      <th>75%</th>\n",
       "      <td>249896.500000</td>\n",
       "      <td>250026.500000</td>\n",
       "      <td>201902.500000</td>\n",
       "      <td>11405.00000</td>\n",
       "    </tr>\n",
       "    <tr>\n",
       "      <th>max</th>\n",
       "      <td>269966.000000</td>\n",
       "      <td>270525.000000</td>\n",
       "      <td>217621.000000</td>\n",
       "      <td>12780.00000</td>\n",
       "    </tr>\n",
       "  </tbody>\n",
       "</table>\n",
       "</div>"
      ],
      "text/plain": [
       "       주 민 등 록 인 구(남)  주 민 등 록 인 구(여)  주 민 등 록 인 구(세대수)          외국인\n",
       "count       10.000000       10.000000         10.000000     10.00000\n",
       "mean    148173.000000   147211.100000     120218.300000   6379.10000\n",
       "std     104801.268158   105617.357956      82897.864944   5129.35533\n",
       "min      12010.000000     9200.000000      11746.000000    184.00000\n",
       "25%      41424.000000    40012.250000      38139.500000   1474.50000\n",
       "50%     163426.000000   164498.000000     125378.500000   6204.00000\n",
       "75%     249896.500000   250026.500000     201902.500000  11405.00000\n",
       "max     269966.000000   270525.000000     217621.000000  12780.00000"
      ]
     },
     "execution_count": 192,
     "metadata": {},
     "output_type": "execute_result"
    }
   ],
   "source": [
    "# 통계 정보 확인 \n",
    "df_inchon.describe()"
   ]
  },
  {
   "cell_type": "code",
   "execution_count": 195,
   "id": "edd7f7f5",
   "metadata": {},
   "outputs": [
    {
     "data": {
      "text/plain": [
       "25%     1474.5\n",
       "50%     6204.0\n",
       "75%    11405.0\n",
       "Name: 외국인, dtype: float64"
      ]
     },
     "execution_count": 195,
     "metadata": {},
     "output_type": "execute_result"
    }
   ],
   "source": [
    "# 외국인 컬럼의 분위수 정보 출력\n",
    "df_inchon.describe().loc['25%':'75%', '외국인']"
   ]
  },
  {
   "cell_type": "code",
   "execution_count": 197,
   "id": "c740043f",
   "metadata": {},
   "outputs": [
    {
     "data": {
      "text/html": [
       "<div>\n",
       "<style scoped>\n",
       "    .dataframe tbody tr th:only-of-type {\n",
       "        vertical-align: middle;\n",
       "    }\n",
       "\n",
       "    .dataframe tbody tr th {\n",
       "        vertical-align: top;\n",
       "    }\n",
       "\n",
       "    .dataframe thead th {\n",
       "        text-align: right;\n",
       "    }\n",
       "</style>\n",
       "<table border=\"1\" class=\"dataframe\">\n",
       "  <thead>\n",
       "    <tr style=\"text-align: right;\">\n",
       "      <th></th>\n",
       "      <th>외국인</th>\n",
       "    </tr>\n",
       "  </thead>\n",
       "  <tbody>\n",
       "    <tr>\n",
       "      <th>25%</th>\n",
       "      <td>1474.5</td>\n",
       "    </tr>\n",
       "    <tr>\n",
       "      <th>50%</th>\n",
       "      <td>6204.0</td>\n",
       "    </tr>\n",
       "    <tr>\n",
       "      <th>75%</th>\n",
       "      <td>11405.0</td>\n",
       "    </tr>\n",
       "  </tbody>\n",
       "</table>\n",
       "</div>"
      ],
      "text/plain": [
       "         외국인\n",
       "25%   1474.5\n",
       "50%   6204.0\n",
       "75%  11405.0"
      ]
     },
     "execution_count": 197,
     "metadata": {},
     "output_type": "execute_result"
    }
   ],
   "source": [
    "df_inchon.describe().loc['25%':'75%', ['외국인']]"
   ]
  },
  {
   "cell_type": "markdown",
   "id": "44f23623",
   "metadata": {},
   "source": [
    "#####  tsv 파일 => 데이타프레임 \n",
    "\n",
    "```\n",
    "tab seperate value \n",
    "sep='\\t' 로 지정 \n",
    "pd.read_csv('data/gapminder.tsv', encoding='cp949', sep='\\t')\n",
    "```"
   ]
  },
  {
   "cell_type": "code",
   "execution_count": 201,
   "id": "4da98867",
   "metadata": {},
   "outputs": [],
   "source": [
    "# ls data"
   ]
  },
  {
   "cell_type": "code",
   "execution_count": 200,
   "id": "668fb6af",
   "metadata": {},
   "outputs": [],
   "source": [
    "df_gap = pd.read_csv('data/gapminder.tsv', encoding='cp949', sep='\\t')"
   ]
  },
  {
   "cell_type": "code",
   "execution_count": 202,
   "id": "1c6999ba",
   "metadata": {},
   "outputs": [
    {
     "data": {
      "text/html": [
       "<div>\n",
       "<style scoped>\n",
       "    .dataframe tbody tr th:only-of-type {\n",
       "        vertical-align: middle;\n",
       "    }\n",
       "\n",
       "    .dataframe tbody tr th {\n",
       "        vertical-align: top;\n",
       "    }\n",
       "\n",
       "    .dataframe thead th {\n",
       "        text-align: right;\n",
       "    }\n",
       "</style>\n",
       "<table border=\"1\" class=\"dataframe\">\n",
       "  <thead>\n",
       "    <tr style=\"text-align: right;\">\n",
       "      <th></th>\n",
       "      <th>country</th>\n",
       "      <th>continent</th>\n",
       "      <th>year</th>\n",
       "      <th>lifeExp</th>\n",
       "      <th>pop</th>\n",
       "      <th>gdpPercap</th>\n",
       "    </tr>\n",
       "  </thead>\n",
       "  <tbody>\n",
       "    <tr>\n",
       "      <th>852</th>\n",
       "      <td>Kuwait</td>\n",
       "      <td>Asia</td>\n",
       "      <td>1952</td>\n",
       "      <td>55.565</td>\n",
       "      <td>160000</td>\n",
       "      <td>108382.352900</td>\n",
       "    </tr>\n",
       "    <tr>\n",
       "      <th>1683</th>\n",
       "      <td>Zambia</td>\n",
       "      <td>Africa</td>\n",
       "      <td>1967</td>\n",
       "      <td>47.768</td>\n",
       "      <td>3900000</td>\n",
       "      <td>1777.077318</td>\n",
       "    </tr>\n",
       "    <tr>\n",
       "      <th>779</th>\n",
       "      <td>Italy</td>\n",
       "      <td>Europe</td>\n",
       "      <td>2007</td>\n",
       "      <td>80.546</td>\n",
       "      <td>58147733</td>\n",
       "      <td>28569.719700</td>\n",
       "    </tr>\n",
       "    <tr>\n",
       "      <th>216</th>\n",
       "      <td>Cambodia</td>\n",
       "      <td>Asia</td>\n",
       "      <td>1952</td>\n",
       "      <td>39.417</td>\n",
       "      <td>4693836</td>\n",
       "      <td>368.469286</td>\n",
       "    </tr>\n",
       "    <tr>\n",
       "      <th>529</th>\n",
       "      <td>France</td>\n",
       "      <td>Europe</td>\n",
       "      <td>1957</td>\n",
       "      <td>68.930</td>\n",
       "      <td>44310863</td>\n",
       "      <td>8662.834898</td>\n",
       "    </tr>\n",
       "  </tbody>\n",
       "</table>\n",
       "</div>"
      ],
      "text/plain": [
       "       country continent  year  lifeExp       pop      gdpPercap\n",
       "852     Kuwait      Asia  1952   55.565    160000  108382.352900\n",
       "1683    Zambia    Africa  1967   47.768   3900000    1777.077318\n",
       "779      Italy    Europe  2007   80.546  58147733   28569.719700\n",
       "216   Cambodia      Asia  1952   39.417   4693836     368.469286\n",
       "529     France    Europe  1957   68.930  44310863    8662.834898"
      ]
     },
     "execution_count": 202,
     "metadata": {},
     "output_type": "execute_result"
    }
   ],
   "source": [
    "df_gap.sample(5)"
   ]
  },
  {
   "cell_type": "code",
   "execution_count": 203,
   "id": "4d1df9d1",
   "metadata": {},
   "outputs": [
    {
     "data": {
      "text/plain": [
       "0       1952\n",
       "1       1957\n",
       "2       1962\n",
       "3       1967\n",
       "4       1972\n",
       "        ... \n",
       "1699    1987\n",
       "1700    1992\n",
       "1701    1997\n",
       "1702    2002\n",
       "1703    2007\n",
       "Name: year, Length: 1704, dtype: int64"
      ]
     },
     "execution_count": 203,
     "metadata": {},
     "output_type": "execute_result"
    }
   ],
   "source": [
    "df_gap['year']"
   ]
  },
  {
   "cell_type": "code",
   "execution_count": 204,
   "id": "9f8be3c8",
   "metadata": {},
   "outputs": [
    {
     "data": {
      "text/plain": [
       "country       object\n",
       "continent     object\n",
       "year           int64\n",
       "lifeExp      float64\n",
       "pop            int64\n",
       "gdpPercap    float64\n",
       "dtype: object"
      ]
     },
     "execution_count": 204,
     "metadata": {},
     "output_type": "execute_result"
    }
   ],
   "source": [
    "df_gap.dtypes"
   ]
  },
  {
   "cell_type": "code",
   "execution_count": 205,
   "id": "042fe57a",
   "metadata": {},
   "outputs": [
    {
     "name": "stdout",
     "output_type": "stream",
     "text": [
      "<class 'pandas.core.frame.DataFrame'>\n",
      "RangeIndex: 1704 entries, 0 to 1703\n",
      "Data columns (total 6 columns):\n",
      " #   Column     Non-Null Count  Dtype  \n",
      "---  ------     --------------  -----  \n",
      " 0   country    1704 non-null   object \n",
      " 1   continent  1704 non-null   object \n",
      " 2   year       1704 non-null   int64  \n",
      " 3   lifeExp    1704 non-null   float64\n",
      " 4   pop        1704 non-null   int64  \n",
      " 5   gdpPercap  1704 non-null   float64\n",
      "dtypes: float64(2), int64(2), object(2)\n",
      "memory usage: 80.0+ KB\n"
     ]
    }
   ],
   "source": [
    "df_gap.info()"
   ]
  },
  {
   "cell_type": "code",
   "execution_count": 206,
   "id": "32b11045",
   "metadata": {},
   "outputs": [
    {
     "data": {
      "text/plain": [
       "(1704, 6)"
      ]
     },
     "execution_count": 206,
     "metadata": {},
     "output_type": "execute_result"
    }
   ],
   "source": [
    "df_gap.shape"
   ]
  },
  {
   "cell_type": "code",
   "execution_count": null,
   "id": "8cf3bf35",
   "metadata": {},
   "outputs": [],
   "source": [
    "# 2007 년도 데이타만 출력 "
   ]
  },
  {
   "cell_type": "code",
   "execution_count": 208,
   "id": "190122fc",
   "metadata": {},
   "outputs": [
    {
     "data": {
      "text/html": [
       "<div>\n",
       "<style scoped>\n",
       "    .dataframe tbody tr th:only-of-type {\n",
       "        vertical-align: middle;\n",
       "    }\n",
       "\n",
       "    .dataframe tbody tr th {\n",
       "        vertical-align: top;\n",
       "    }\n",
       "\n",
       "    .dataframe thead th {\n",
       "        text-align: right;\n",
       "    }\n",
       "</style>\n",
       "<table border=\"1\" class=\"dataframe\">\n",
       "  <thead>\n",
       "    <tr style=\"text-align: right;\">\n",
       "      <th></th>\n",
       "      <th>country</th>\n",
       "      <th>continent</th>\n",
       "      <th>year</th>\n",
       "      <th>lifeExp</th>\n",
       "      <th>pop</th>\n",
       "      <th>gdpPercap</th>\n",
       "    </tr>\n",
       "  </thead>\n",
       "  <tbody>\n",
       "    <tr>\n",
       "      <th>11</th>\n",
       "      <td>Afghanistan</td>\n",
       "      <td>Asia</td>\n",
       "      <td>2007</td>\n",
       "      <td>43.828</td>\n",
       "      <td>31889923</td>\n",
       "      <td>974.580338</td>\n",
       "    </tr>\n",
       "    <tr>\n",
       "      <th>23</th>\n",
       "      <td>Albania</td>\n",
       "      <td>Europe</td>\n",
       "      <td>2007</td>\n",
       "      <td>76.423</td>\n",
       "      <td>3600523</td>\n",
       "      <td>5937.029526</td>\n",
       "    </tr>\n",
       "    <tr>\n",
       "      <th>35</th>\n",
       "      <td>Algeria</td>\n",
       "      <td>Africa</td>\n",
       "      <td>2007</td>\n",
       "      <td>72.301</td>\n",
       "      <td>33333216</td>\n",
       "      <td>6223.367465</td>\n",
       "    </tr>\n",
       "    <tr>\n",
       "      <th>47</th>\n",
       "      <td>Angola</td>\n",
       "      <td>Africa</td>\n",
       "      <td>2007</td>\n",
       "      <td>42.731</td>\n",
       "      <td>12420476</td>\n",
       "      <td>4797.231267</td>\n",
       "    </tr>\n",
       "    <tr>\n",
       "      <th>59</th>\n",
       "      <td>Argentina</td>\n",
       "      <td>Americas</td>\n",
       "      <td>2007</td>\n",
       "      <td>75.320</td>\n",
       "      <td>40301927</td>\n",
       "      <td>12779.379640</td>\n",
       "    </tr>\n",
       "    <tr>\n",
       "      <th>...</th>\n",
       "      <td>...</td>\n",
       "      <td>...</td>\n",
       "      <td>...</td>\n",
       "      <td>...</td>\n",
       "      <td>...</td>\n",
       "      <td>...</td>\n",
       "    </tr>\n",
       "    <tr>\n",
       "      <th>1655</th>\n",
       "      <td>Vietnam</td>\n",
       "      <td>Asia</td>\n",
       "      <td>2007</td>\n",
       "      <td>74.249</td>\n",
       "      <td>85262356</td>\n",
       "      <td>2441.576404</td>\n",
       "    </tr>\n",
       "    <tr>\n",
       "      <th>1667</th>\n",
       "      <td>West Bank and Gaza</td>\n",
       "      <td>Asia</td>\n",
       "      <td>2007</td>\n",
       "      <td>73.422</td>\n",
       "      <td>4018332</td>\n",
       "      <td>3025.349798</td>\n",
       "    </tr>\n",
       "    <tr>\n",
       "      <th>1679</th>\n",
       "      <td>Yemen, Rep.</td>\n",
       "      <td>Asia</td>\n",
       "      <td>2007</td>\n",
       "      <td>62.698</td>\n",
       "      <td>22211743</td>\n",
       "      <td>2280.769906</td>\n",
       "    </tr>\n",
       "    <tr>\n",
       "      <th>1691</th>\n",
       "      <td>Zambia</td>\n",
       "      <td>Africa</td>\n",
       "      <td>2007</td>\n",
       "      <td>42.384</td>\n",
       "      <td>11746035</td>\n",
       "      <td>1271.211593</td>\n",
       "    </tr>\n",
       "    <tr>\n",
       "      <th>1703</th>\n",
       "      <td>Zimbabwe</td>\n",
       "      <td>Africa</td>\n",
       "      <td>2007</td>\n",
       "      <td>43.487</td>\n",
       "      <td>12311143</td>\n",
       "      <td>469.709298</td>\n",
       "    </tr>\n",
       "  </tbody>\n",
       "</table>\n",
       "<p>142 rows × 6 columns</p>\n",
       "</div>"
      ],
      "text/plain": [
       "                 country continent  year  lifeExp       pop     gdpPercap\n",
       "11           Afghanistan      Asia  2007   43.828  31889923    974.580338\n",
       "23               Albania    Europe  2007   76.423   3600523   5937.029526\n",
       "35               Algeria    Africa  2007   72.301  33333216   6223.367465\n",
       "47                Angola    Africa  2007   42.731  12420476   4797.231267\n",
       "59             Argentina  Americas  2007   75.320  40301927  12779.379640\n",
       "...                  ...       ...   ...      ...       ...           ...\n",
       "1655             Vietnam      Asia  2007   74.249  85262356   2441.576404\n",
       "1667  West Bank and Gaza      Asia  2007   73.422   4018332   3025.349798\n",
       "1679         Yemen, Rep.      Asia  2007   62.698  22211743   2280.769906\n",
       "1691              Zambia    Africa  2007   42.384  11746035   1271.211593\n",
       "1703            Zimbabwe    Africa  2007   43.487  12311143    469.709298\n",
       "\n",
       "[142 rows x 6 columns]"
      ]
     },
     "execution_count": 208,
     "metadata": {},
     "output_type": "execute_result"
    }
   ],
   "source": [
    "df_gap[df_gap['year'] == 2007]"
   ]
  },
  {
   "cell_type": "code",
   "execution_count": 210,
   "id": "bda7a7a5",
   "metadata": {},
   "outputs": [
    {
     "data": {
      "text/plain": [
       "array(['Asia', 'Europe', 'Africa', 'Americas', 'Oceania'], dtype=object)"
      ]
     },
     "execution_count": 210,
     "metadata": {},
     "output_type": "execute_result"
    }
   ],
   "source": [
    "# 컬럼은 어떤 값으로 구성되어 있을까?\n",
    "# 데이타프레임[컬럼명].unique()\n",
    "df_gap['continent'].unique()"
   ]
  },
  {
   "cell_type": "code",
   "execution_count": 211,
   "id": "b4b318a8",
   "metadata": {},
   "outputs": [
    {
     "data": {
      "text/html": [
       "<div>\n",
       "<style scoped>\n",
       "    .dataframe tbody tr th:only-of-type {\n",
       "        vertical-align: middle;\n",
       "    }\n",
       "\n",
       "    .dataframe tbody tr th {\n",
       "        vertical-align: top;\n",
       "    }\n",
       "\n",
       "    .dataframe thead th {\n",
       "        text-align: right;\n",
       "    }\n",
       "</style>\n",
       "<table border=\"1\" class=\"dataframe\">\n",
       "  <thead>\n",
       "    <tr style=\"text-align: right;\">\n",
       "      <th></th>\n",
       "      <th>country</th>\n",
       "      <th>continent</th>\n",
       "      <th>year</th>\n",
       "      <th>lifeExp</th>\n",
       "      <th>pop</th>\n",
       "      <th>gdpPercap</th>\n",
       "    </tr>\n",
       "  </thead>\n",
       "  <tbody>\n",
       "    <tr>\n",
       "      <th>12</th>\n",
       "      <td>Albania</td>\n",
       "      <td>Europe</td>\n",
       "      <td>1952</td>\n",
       "      <td>55.230</td>\n",
       "      <td>1282697</td>\n",
       "      <td>1601.056136</td>\n",
       "    </tr>\n",
       "    <tr>\n",
       "      <th>13</th>\n",
       "      <td>Albania</td>\n",
       "      <td>Europe</td>\n",
       "      <td>1957</td>\n",
       "      <td>59.280</td>\n",
       "      <td>1476505</td>\n",
       "      <td>1942.284244</td>\n",
       "    </tr>\n",
       "    <tr>\n",
       "      <th>14</th>\n",
       "      <td>Albania</td>\n",
       "      <td>Europe</td>\n",
       "      <td>1962</td>\n",
       "      <td>64.820</td>\n",
       "      <td>1728137</td>\n",
       "      <td>2312.888958</td>\n",
       "    </tr>\n",
       "    <tr>\n",
       "      <th>15</th>\n",
       "      <td>Albania</td>\n",
       "      <td>Europe</td>\n",
       "      <td>1967</td>\n",
       "      <td>66.220</td>\n",
       "      <td>1984060</td>\n",
       "      <td>2760.196931</td>\n",
       "    </tr>\n",
       "    <tr>\n",
       "      <th>16</th>\n",
       "      <td>Albania</td>\n",
       "      <td>Europe</td>\n",
       "      <td>1972</td>\n",
       "      <td>67.690</td>\n",
       "      <td>2263554</td>\n",
       "      <td>3313.422188</td>\n",
       "    </tr>\n",
       "    <tr>\n",
       "      <th>...</th>\n",
       "      <td>...</td>\n",
       "      <td>...</td>\n",
       "      <td>...</td>\n",
       "      <td>...</td>\n",
       "      <td>...</td>\n",
       "      <td>...</td>\n",
       "    </tr>\n",
       "    <tr>\n",
       "      <th>1603</th>\n",
       "      <td>United Kingdom</td>\n",
       "      <td>Europe</td>\n",
       "      <td>1987</td>\n",
       "      <td>75.007</td>\n",
       "      <td>56981620</td>\n",
       "      <td>21664.787670</td>\n",
       "    </tr>\n",
       "    <tr>\n",
       "      <th>1604</th>\n",
       "      <td>United Kingdom</td>\n",
       "      <td>Europe</td>\n",
       "      <td>1992</td>\n",
       "      <td>76.420</td>\n",
       "      <td>57866349</td>\n",
       "      <td>22705.092540</td>\n",
       "    </tr>\n",
       "    <tr>\n",
       "      <th>1605</th>\n",
       "      <td>United Kingdom</td>\n",
       "      <td>Europe</td>\n",
       "      <td>1997</td>\n",
       "      <td>77.218</td>\n",
       "      <td>58808266</td>\n",
       "      <td>26074.531360</td>\n",
       "    </tr>\n",
       "    <tr>\n",
       "      <th>1606</th>\n",
       "      <td>United Kingdom</td>\n",
       "      <td>Europe</td>\n",
       "      <td>2002</td>\n",
       "      <td>78.471</td>\n",
       "      <td>59912431</td>\n",
       "      <td>29478.999190</td>\n",
       "    </tr>\n",
       "    <tr>\n",
       "      <th>1607</th>\n",
       "      <td>United Kingdom</td>\n",
       "      <td>Europe</td>\n",
       "      <td>2007</td>\n",
       "      <td>79.425</td>\n",
       "      <td>60776238</td>\n",
       "      <td>33203.261280</td>\n",
       "    </tr>\n",
       "  </tbody>\n",
       "</table>\n",
       "<p>360 rows × 6 columns</p>\n",
       "</div>"
      ],
      "text/plain": [
       "             country continent  year  lifeExp       pop     gdpPercap\n",
       "12           Albania    Europe  1952   55.230   1282697   1601.056136\n",
       "13           Albania    Europe  1957   59.280   1476505   1942.284244\n",
       "14           Albania    Europe  1962   64.820   1728137   2312.888958\n",
       "15           Albania    Europe  1967   66.220   1984060   2760.196931\n",
       "16           Albania    Europe  1972   67.690   2263554   3313.422188\n",
       "...              ...       ...   ...      ...       ...           ...\n",
       "1603  United Kingdom    Europe  1987   75.007  56981620  21664.787670\n",
       "1604  United Kingdom    Europe  1992   76.420  57866349  22705.092540\n",
       "1605  United Kingdom    Europe  1997   77.218  58808266  26074.531360\n",
       "1606  United Kingdom    Europe  2002   78.471  59912431  29478.999190\n",
       "1607  United Kingdom    Europe  2007   79.425  60776238  33203.261280\n",
       "\n",
       "[360 rows x 6 columns]"
      ]
     },
     "execution_count": 211,
     "metadata": {},
     "output_type": "execute_result"
    }
   ],
   "source": [
    "# 'Europe' 값으로 구성된 데이타프레임 생성 => df_eu\n",
    "df_eu = df_gap[df_gap['continent'] == 'Europe']\n",
    "df_eu"
   ]
  },
  {
   "cell_type": "code",
   "execution_count": 212,
   "id": "7111d3ad",
   "metadata": {},
   "outputs": [
    {
     "data": {
      "text/plain": [
       "81.757"
      ]
     },
     "execution_count": 212,
     "metadata": {},
     "output_type": "execute_result"
    }
   ],
   "source": [
    "# df_eu 데이타프레임의 lifeExp 컬럼의 최대값은?\n",
    "df_eu['lifeExp'].max()"
   ]
  },
  {
   "cell_type": "markdown",
   "id": "75f32345",
   "metadata": {},
   "source": [
    "lifeExp  컬럼값이 81.757 데이타는?"
   ]
  },
  {
   "cell_type": "code",
   "execution_count": 213,
   "id": "76551d8c",
   "metadata": {},
   "outputs": [
    {
     "data": {
      "text/html": [
       "<div>\n",
       "<style scoped>\n",
       "    .dataframe tbody tr th:only-of-type {\n",
       "        vertical-align: middle;\n",
       "    }\n",
       "\n",
       "    .dataframe tbody tr th {\n",
       "        vertical-align: top;\n",
       "    }\n",
       "\n",
       "    .dataframe thead th {\n",
       "        text-align: right;\n",
       "    }\n",
       "</style>\n",
       "<table border=\"1\" class=\"dataframe\">\n",
       "  <thead>\n",
       "    <tr style=\"text-align: right;\">\n",
       "      <th></th>\n",
       "      <th>country</th>\n",
       "      <th>continent</th>\n",
       "      <th>year</th>\n",
       "      <th>lifeExp</th>\n",
       "      <th>pop</th>\n",
       "      <th>gdpPercap</th>\n",
       "    </tr>\n",
       "  </thead>\n",
       "  <tbody>\n",
       "    <tr>\n",
       "      <th>695</th>\n",
       "      <td>Iceland</td>\n",
       "      <td>Europe</td>\n",
       "      <td>2007</td>\n",
       "      <td>81.757</td>\n",
       "      <td>301931</td>\n",
       "      <td>36180.78919</td>\n",
       "    </tr>\n",
       "  </tbody>\n",
       "</table>\n",
       "</div>"
      ],
      "text/plain": [
       "     country continent  year  lifeExp     pop    gdpPercap\n",
       "695  Iceland    Europe  2007   81.757  301931  36180.78919"
      ]
     },
     "execution_count": 213,
     "metadata": {},
     "output_type": "execute_result"
    }
   ],
   "source": [
    "df_eu[df_eu['lifeExp'] == df_eu['lifeExp'].max()]"
   ]
  },
  {
   "cell_type": "markdown",
   "id": "3a4e0550",
   "metadata": {},
   "source": [
    "## 퀴즈"
   ]
  },
  {
   "cell_type": "raw",
   "id": "cb51b93f",
   "metadata": {},
   "source": [
    "1) gapminder.tsv 파일을 이용하여 데이타프레임을 생성하고 \n",
    "   'Asia' 만 행 추출하여 새로운 데이타프레임으로 저장하여라\n",
    "2) 1번에서 생성한 데이타프레임의 총 행수는?\n",
    "3) 1번에서 생성한 데이타프레임에서 year 년도가 (1970~1979)년도의 행만 출력하여라\n",
    "4) 3번의 결과행을 2번의 데이타프레임에서 제외한후 출력하여라\n",
    "5) 1번의 데이타프레임에서 gdpPercap 컬럼값이 가장 높은 나라의 정보를 출력하여라 \n",
    "6) 1번의 데이타프레임에서 lifeExp\t 컬럼값이 가장 높은 나라는?\n",
    "7) 1번의 데이타프레임에서 pop 컬럼의 평균 이상인 나라의 총수는?\n"
   ]
  },
  {
   "cell_type": "code",
   "execution_count": null,
   "id": "a21ae585",
   "metadata": {},
   "outputs": [],
   "source": []
  }
 ],
 "metadata": {
  "kernelspec": {
   "display_name": "Python 3",
   "language": "python",
   "name": "python3"
  },
  "language_info": {
   "codemirror_mode": {
    "name": "ipython",
    "version": 3
   },
   "file_extension": ".py",
   "mimetype": "text/x-python",
   "name": "python",
   "nbconvert_exporter": "python",
   "pygments_lexer": "ipython3",
   "version": "3.8.8"
  }
 },
 "nbformat": 4,
 "nbformat_minor": 5
}
