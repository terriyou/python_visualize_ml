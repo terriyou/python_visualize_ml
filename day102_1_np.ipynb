{
 "cells": [
  {
   "cell_type": "code",
   "execution_count": 104,
   "id": "a74a495b",
   "metadata": {},
   "outputs": [
    {
     "data": {
      "text/html": [
       "<style>.container { font-weight: bold !important; }</style>"
      ],
      "text/plain": [
       "<IPython.core.display.HTML object>"
      ]
     },
     "metadata": {},
     "output_type": "display_data"
    },
    {
     "data": {
      "text/html": [
       "<style>.container { width: 100% !important; }</style>"
      ],
      "text/plain": [
       "<IPython.core.display.HTML object>"
      ]
     },
     "metadata": {},
     "output_type": "display_data"
    }
   ],
   "source": [
    "# 쥬피터노트북 셀 스타일 조절 \n",
    "from IPython.core.display import display, HTML\n",
    "display(HTML(\"<style>.container { font-weight: bold !important; }</style>\"))\n",
    "display(HTML(\"<style>.container { width: 100% !important; }</style>\"))\n",
    "\n",
    "# 경고 메세지 숨기기 \n",
    "import warnings\n",
    "warnings.filterwarnings(action='ignore')"
   ]
  },
  {
   "cell_type": "code",
   "execution_count": 103,
   "id": "4ecfa38c",
   "metadata": {},
   "outputs": [],
   "source": [
    "import numpy as np"
   ]
  },
  {
   "cell_type": "markdown",
   "id": "6bcf8b10",
   "metadata": {},
   "source": [
    "# 넘파이 제공 함수를 이용해서 배열 생성하기 \n",
    "\n",
    "```\n",
    "np.ones(n) , np.ones((x, y)) \n",
    "np.zeros(n) , np.zeros((x, y))\n",
    "np.empty(n) , np.empty((x, y))\n",
    "np.arange(start, end, step) \n",
    "\n",
    "# 1차원 => 2차원\n",
    "reshape(x, y)\n",
    "# 2차원 => 1차원\n",
    "flatten()\n",
    "```"
   ]
  },
  {
   "cell_type": "code",
   "execution_count": 5,
   "id": "c6f02734",
   "metadata": {},
   "outputs": [
    {
     "data": {
      "text/plain": [
       "(array([1., 1., 1., 1., 1., 1., 1., 1., 1., 1.]), dtype('float64'))"
      ]
     },
     "execution_count": 5,
     "metadata": {},
     "output_type": "execute_result"
    }
   ],
   "source": [
    "# 1. 로 구성된 넘파이 배열 생성 => 실수형\n",
    "arr1 = np.ones(10)\n",
    "arr1, arr1.dtype"
   ]
  },
  {
   "cell_type": "code",
   "execution_count": 6,
   "id": "aa545e98",
   "metadata": {},
   "outputs": [
    {
     "data": {
      "text/plain": [
       "(array([1, 1, 1, 1, 1, 1, 1, 1, 1, 1]), dtype('int32'))"
      ]
     },
     "execution_count": 6,
     "metadata": {},
     "output_type": "execute_result"
    }
   ],
   "source": [
    "# 1 로 구성된 넘파이 배열 생성 => 정수형 \n",
    "arr2 = np.ones(10, dtype=int)\n",
    "arr2, arr2.dtype"
   ]
  },
  {
   "cell_type": "code",
   "execution_count": 7,
   "id": "34f9d5cf",
   "metadata": {},
   "outputs": [
    {
     "data": {
      "text/plain": [
       "(array([[1, 1],\n",
       "        [1, 1],\n",
       "        [1, 1],\n",
       "        [1, 1],\n",
       "        [1, 1]]),\n",
       " dtype('int32'),\n",
       " (5, 2))"
      ]
     },
     "execution_count": 7,
     "metadata": {},
     "output_type": "execute_result"
    }
   ],
   "source": [
    "# 1 로 구성된 5행 2열 배열 생성 => 정수형 \n",
    "arr3 = np.ones((5,2), dtype=int)\n",
    "arr3, arr3.dtype, arr3.shape"
   ]
  },
  {
   "cell_type": "code",
   "execution_count": 10,
   "id": "98e28019",
   "metadata": {},
   "outputs": [
    {
     "name": "stdout",
     "output_type": "stream",
     "text": [
      "[[0 0 0]\n",
      " [0 0 0]\n",
      " [0 0 0]]\n",
      "==============================\n",
      "[[0 0 0]\n",
      " [0 0 0]\n",
      " [0 0 0]]\n"
     ]
    }
   ],
   "source": [
    "# 3행 3열 0으로 구성된 넘파이 배열 \n",
    "print( np.array([[0,0,0], [0,0,0], [0,0,0]]) )\n",
    "arr4 = np.zeros((3,3), dtype=int)\n",
    "print('='*30)\n",
    "print(arr4)"
   ]
  },
  {
   "cell_type": "code",
   "execution_count": 11,
   "id": "2a4d4197",
   "metadata": {},
   "outputs": [
    {
     "data": {
      "text/plain": [
       "array([[6.23042070e-307, 3.56043053e-307, 1.60219306e-306,\n",
       "        7.56571288e-307, 1.89146896e-307],\n",
       "       [1.37961302e-306, 1.05699242e-307, 8.01097889e-307,\n",
       "        1.78020169e-306, 7.56601165e-307],\n",
       "       [1.02359984e-306, 1.15710088e-306, 6.23056330e-307,\n",
       "        1.60219578e-306, 7.56601165e-307],\n",
       "       [6.23061763e-307, 9.34607074e-307, 8.90098127e-307,\n",
       "        8.90108313e-307, 6.23053954e-307],\n",
       "       [1.24611741e-306, 1.37961506e-306, 1.42410974e-306,\n",
       "        3.39986383e-317, 3.39986383e-317]])"
      ]
     },
     "execution_count": 11,
     "metadata": {},
     "output_type": "execute_result"
    }
   ],
   "source": [
    "# 5행 5열로 구성된 넘파이 배열 \n",
    "arr5 = np.empty((5,5))\n",
    "arr5"
   ]
  },
  {
   "cell_type": "code",
   "execution_count": 16,
   "id": "593bab6f",
   "metadata": {},
   "outputs": [
    {
     "name": "stdout",
     "output_type": "stream",
     "text": [
      "range(1, 21) [1, 2, 3, 4, 5, 6, 7, 8, 9, 10, 11, 12, 13, 14, 15, 16, 17, 18, 19, 20]\n",
      "[ 1  2  3  4  5  6  7  8  9 10 11 12 13 14 15 16 17 18 19 20]\n",
      "==============================\n"
     ]
    },
    {
     "data": {
      "text/plain": [
       "array([[ 1,  2,  3,  4,  5],\n",
       "       [ 6,  7,  8,  9, 10],\n",
       "       [11, 12, 13, 14, 15],\n",
       "       [16, 17, 18, 19, 20]])"
      ]
     },
     "execution_count": 16,
     "metadata": {},
     "output_type": "execute_result"
    }
   ],
   "source": [
    "# 1~20 으로 구성된 4행 5열의 넘파이 배열 \n",
    "\n",
    "# range() 객체 => 리스트화 list(range()) => 넘파이 배열화 np.array(list(range()))\n",
    "print(range(1,21), list(range(1,21)))\n",
    "print(np.array(list(range(1,21))))\n",
    "print('='*30)\n",
    "# reshape(x, y) => x행 y열 로 재구성 \n",
    "arr6 = np.arange(1, 21).reshape(4, 5)\n",
    "arr6"
   ]
  },
  {
   "cell_type": "code",
   "execution_count": 23,
   "id": "02313fd6",
   "metadata": {},
   "outputs": [
    {
     "name": "stdout",
     "output_type": "stream",
     "text": [
      "[ 0  1  2  3  4  5  6  7  8  9 10 11 12 13 14 15 16 17 18 19 20 21 22 23\n",
      " 24 25 26 27 28 29 30 31 32 33 34 35 36 37 38 39 40 41 42 43 44 45 46 47\n",
      " 48 49] 50 50\n"
     ]
    }
   ],
   "source": [
    "# 0~49 까지 구성된 넘파이 배열\n",
    "# 초기값이 0인 경우 생략 가능 \n",
    "arr7 = np.arange(50)\n",
    "print(arr7, len(arr7), arr7.size)"
   ]
  },
  {
   "cell_type": "code",
   "execution_count": 24,
   "id": "2c0b4973",
   "metadata": {},
   "outputs": [
    {
     "name": "stdout",
     "output_type": "stream",
     "text": [
      "[[ 0  1  2  3  4]\n",
      " [ 5  6  7  8  9]\n",
      " [10 11 12 13 14]\n",
      " [15 16 17 18 19]\n",
      " [20 21 22 23 24]\n",
      " [25 26 27 28 29]\n",
      " [30 31 32 33 34]\n",
      " [35 36 37 38 39]\n",
      " [40 41 42 43 44]\n",
      " [45 46 47 48 49]]\n"
     ]
    }
   ],
   "source": [
    "print(arr7.reshape(10,5))"
   ]
  },
  {
   "cell_type": "code",
   "execution_count": 26,
   "id": "c2ad0259",
   "metadata": {},
   "outputs": [
    {
     "data": {
      "text/plain": [
       "array([[ 0,  1,  2,  3,  4],\n",
       "       [ 5,  6,  7,  8,  9],\n",
       "       [10, 11, 12, 13, 14],\n",
       "       [15, 16, 17, 18, 19],\n",
       "       [20, 21, 22, 23, 24],\n",
       "       [25, 26, 27, 28, 29],\n",
       "       [30, 31, 32, 33, 34],\n",
       "       [35, 36, 37, 38, 39],\n",
       "       [40, 41, 42, 43, 44],\n",
       "       [45, 46, 47, 48, 49]])"
      ]
     },
     "execution_count": 26,
     "metadata": {},
     "output_type": "execute_result"
    }
   ],
   "source": [
    "# 원본 넘파이 배열에 다시 적용 \n",
    "arr7 = arr7.reshape(10,5)\n",
    "arr7"
   ]
  },
  {
   "cell_type": "code",
   "execution_count": 28,
   "id": "6f8a2661",
   "metadata": {},
   "outputs": [
    {
     "data": {
      "text/plain": [
       "array([[ 0,  1,  2,  3,  4,  5,  6,  7,  8,  9],\n",
       "       [10, 11, 12, 13, 14, 15, 16, 17, 18, 19],\n",
       "       [20, 21, 22, 23, 24, 25, 26, 27, 28, 29],\n",
       "       [30, 31, 32, 33, 34, 35, 36, 37, 38, 39],\n",
       "       [40, 41, 42, 43, 44, 45, 46, 47, 48, 49]])"
      ]
     },
     "execution_count": 28,
     "metadata": {},
     "output_type": "execute_result"
    }
   ],
   "source": [
    "# 2차원 => 2차원 변경 가능 \n",
    "arr8 = arr7.reshape(5,10)\n",
    "arr8"
   ]
  },
  {
   "cell_type": "code",
   "execution_count": 29,
   "id": "8c3ac7b8",
   "metadata": {},
   "outputs": [
    {
     "data": {
      "text/plain": [
       "(2, (5, 10))"
      ]
     },
     "execution_count": 29,
     "metadata": {},
     "output_type": "execute_result"
    }
   ],
   "source": [
    "# 2차원 => 1차원으로 변경 \n",
    "# 넘파이배열.flatten()\n",
    "arr8.ndim, arr8.shape"
   ]
  },
  {
   "cell_type": "code",
   "execution_count": 34,
   "id": "c468851a",
   "metadata": {},
   "outputs": [
    {
     "data": {
      "text/plain": [
       "array([ 0,  1,  2,  3,  4,  5,  6,  7,  8,  9, 10, 11, 12, 13, 14, 15, 16,\n",
       "       17, 18, 19, 20, 21, 22, 23, 24, 25, 26, 27, 28, 29, 30, 31, 32, 33,\n",
       "       34, 35, 36, 37, 38, 39, 40, 41, 42, 43, 44, 45, 46, 47, 48, 49])"
      ]
     },
     "execution_count": 34,
     "metadata": {},
     "output_type": "execute_result"
    }
   ],
   "source": [
    "arr9 = arr8.flatten()\n",
    "arr9"
   ]
  },
  {
   "cell_type": "code",
   "execution_count": 33,
   "id": "2735f9eb",
   "metadata": {},
   "outputs": [
    {
     "data": {
      "text/plain": [
       "array([[ 0,  1,  2,  3,  4,  5,  6,  7,  8,  9],\n",
       "       [10, 11, 12, 13, 14, 15, 16, 17, 18, 19],\n",
       "       [20, 21, 22, 23, 24, 25, 26, 27, 28, 29],\n",
       "       [30, 31, 32, 33, 34, 35, 36, 37, 38, 39],\n",
       "       [40, 41, 42, 43, 44, 45, 46, 47, 48, 49]])"
      ]
     },
     "execution_count": 33,
     "metadata": {},
     "output_type": "execute_result"
    }
   ],
   "source": [
    "arr8"
   ]
  },
  {
   "cell_type": "code",
   "execution_count": 36,
   "id": "6122d8d6",
   "metadata": {},
   "outputs": [
    {
     "data": {
      "text/plain": [
       "array([  0,   2,   4,   6,   8,  10,  12,  14,  16,  18,  20,  22,  24,\n",
       "        26,  28,  30,  32,  34,  36,  38,  40,  42,  44,  46,  48,  50,\n",
       "        52,  54,  56,  58,  60,  62,  64,  66,  68,  70,  72,  74,  76,\n",
       "        78,  80,  82,  84,  86,  88,  90,  92,  94,  96,  98, 100])"
      ]
     },
     "execution_count": 36,
     "metadata": {},
     "output_type": "execute_result"
    }
   ],
   "source": [
    "# 0~100 사이의 숫자중에서 짝수로된 넘파이 배열 생성\n",
    "arr10 = np.arange(0, 101, 2)\n",
    "arr10"
   ]
  },
  {
   "cell_type": "code",
   "execution_count": 39,
   "id": "e5732b0c",
   "metadata": {},
   "outputs": [
    {
     "data": {
      "text/plain": [
       "array([[ 1,  3],\n",
       "       [ 5,  7],\n",
       "       [ 9, 11],\n",
       "       [13, 15],\n",
       "       [17, 19],\n",
       "       [21, 23],\n",
       "       [25, 27],\n",
       "       [29, 31],\n",
       "       [33, 35],\n",
       "       [37, 39],\n",
       "       [41, 43],\n",
       "       [45, 47],\n",
       "       [49, 51],\n",
       "       [53, 55],\n",
       "       [57, 59],\n",
       "       [61, 63],\n",
       "       [65, 67],\n",
       "       [69, 71],\n",
       "       [73, 75],\n",
       "       [77, 79],\n",
       "       [81, 83],\n",
       "       [85, 87],\n",
       "       [89, 91],\n",
       "       [93, 95],\n",
       "       [97, 99]])"
      ]
     },
     "execution_count": 39,
     "metadata": {},
     "output_type": "execute_result"
    }
   ],
   "source": [
    "# 홀수는?\n",
    "np.arange(1, 101, 2).reshape(25,2)"
   ]
  },
  {
   "cell_type": "code",
   "execution_count": 40,
   "id": "e0880b81",
   "metadata": {},
   "outputs": [
    {
     "data": {
      "text/plain": [
       "(array([ 1,  2,  3,  4,  5,  6,  7,  8,  9, 10, 11, 12, 13, 14, 15, 16, 17,\n",
       "        18, 19, 20, 21, 22, 23, 24, 25, 26, 27, 28, 29, 30]),\n",
       " 1)"
      ]
     },
     "execution_count": 40,
     "metadata": {},
     "output_type": "execute_result"
    }
   ],
   "source": [
    "arr11 = np.arange(1,31)\n",
    "arr11, arr11.ndim"
   ]
  },
  {
   "cell_type": "code",
   "execution_count": 42,
   "id": "b15a3519",
   "metadata": {},
   "outputs": [],
   "source": [
    "# reshape(-1, n) => 2차원 n개의 컬럼으로 구성 \n",
    "arr12 = arr11.reshape(-1, 1)\n",
    "# arr12, arr12.ndim"
   ]
  },
  {
   "cell_type": "code",
   "execution_count": 44,
   "id": "c0f0fc85",
   "metadata": {},
   "outputs": [
    {
     "data": {
      "text/plain": [
       "array([[ 1,  2,  3,  4],\n",
       "       [ 5,  6,  7,  8],\n",
       "       [ 9, 10, 11, 12],\n",
       "       [13, 14, 15, 16],\n",
       "       [17, 18, 19, 20]])"
      ]
     },
     "execution_count": 44,
     "metadata": {},
     "output_type": "execute_result"
    }
   ],
   "source": [
    "np.arange(1,21).reshape(-1, 4)"
   ]
  },
  {
   "cell_type": "code",
   "execution_count": 45,
   "id": "c9e7d6d5",
   "metadata": {},
   "outputs": [
    {
     "data": {
      "text/plain": [
       "array([[ 1,  2],\n",
       "       [ 3,  4],\n",
       "       [ 5,  6],\n",
       "       [ 7,  8],\n",
       "       [ 9, 10],\n",
       "       [11, 12],\n",
       "       [13, 14],\n",
       "       [15, 16],\n",
       "       [17, 18],\n",
       "       [19, 20]])"
      ]
     },
     "execution_count": 45,
     "metadata": {},
     "output_type": "execute_result"
    }
   ],
   "source": [
    "# np.arange(1,21).reshape(10, 2)\n",
    "np.arange(1,21).reshape(-1, 2)"
   ]
  },
  {
   "cell_type": "markdown",
   "id": "6082ca27",
   "metadata": {},
   "source": [
    "# 넘파이배열의 자료형 형변환 \n",
    "```\n",
    "배열명2 = 배열명1.astype(자료형)\n",
    "자료형 = np.float64, np.int32\n",
    "```"
   ]
  },
  {
   "cell_type": "code",
   "execution_count": 50,
   "id": "ecaac8b8",
   "metadata": {},
   "outputs": [
    {
     "data": {
      "text/plain": [
       "(array([[1, 2, 3],\n",
       "        [4, 5, 6],\n",
       "        [7, 8, 9]]),\n",
       " dtype('int32'))"
      ]
     },
     "execution_count": 50,
     "metadata": {},
     "output_type": "execute_result"
    }
   ],
   "source": [
    "# 정수형, 3행 3열\n",
    "matrix = np.arange(1,10).reshape(3,3)\n",
    "matrix, matrix.dtype"
   ]
  },
  {
   "cell_type": "code",
   "execution_count": 51,
   "id": "10519ca7",
   "metadata": {},
   "outputs": [
    {
     "data": {
      "text/plain": [
       "(array([[1., 2., 3.],\n",
       "        [4., 5., 6.],\n",
       "        [7., 8., 9.]]),\n",
       " dtype('float64'))"
      ]
     },
     "execution_count": 51,
     "metadata": {},
     "output_type": "execute_result"
    }
   ],
   "source": [
    "# 실수형, 3행 3열\n",
    "matrix = np.arange(1,10, dtype=float).reshape(3,3)\n",
    "matrix, matrix.dtype"
   ]
  },
  {
   "cell_type": "code",
   "execution_count": 56,
   "id": "d7ecb84d",
   "metadata": {},
   "outputs": [
    {
     "data": {
      "text/plain": [
       "(array([[1, 2, 3],\n",
       "        [4, 5, 6],\n",
       "        [7, 8, 9]]),\n",
       " dtype('int32'))"
      ]
     },
     "execution_count": 56,
     "metadata": {},
     "output_type": "execute_result"
    }
   ],
   "source": [
    "# 문자열형, 3행 3열\n",
    "matrix = np.arange(1,10).reshape(3,3)\n",
    "matrix, matrix.dtype"
   ]
  },
  {
   "cell_type": "code",
   "execution_count": 58,
   "id": "d5bc89fe",
   "metadata": {},
   "outputs": [
    {
     "data": {
      "text/plain": [
       "array([['1', '2', '3'],\n",
       "       ['4', '5', '6'],\n",
       "       ['7', '8', '9']], dtype='<U5')"
      ]
     },
     "execution_count": 58,
     "metadata": {},
     "output_type": "execute_result"
    }
   ],
   "source": [
    "# 정수형 => 문자열형 \n",
    "matrix.astype('<U5')"
   ]
  },
  {
   "cell_type": "code",
   "execution_count": 60,
   "id": "c5c4006d",
   "metadata": {},
   "outputs": [
    {
     "data": {
      "text/plain": [
       "(array([ True, False,  True,  True, False]), dtype('bool'))"
      ]
     },
     "execution_count": 60,
     "metadata": {},
     "output_type": "execute_result"
    }
   ],
   "source": [
    "# 논리형으로 구성된 넘파이 배열 생성 \n",
    "matrix2 = np.array([True, False, True, True, False])\n",
    "matrix2, matrix2.dtype"
   ]
  },
  {
   "cell_type": "code",
   "execution_count": 62,
   "id": "be9d4d6c",
   "metadata": {},
   "outputs": [
    {
     "data": {
      "text/plain": [
       "(array([1, 0, 1, 1, 0]), dtype('int32'))"
      ]
     },
     "execution_count": 62,
     "metadata": {},
     "output_type": "execute_result"
    }
   ],
   "source": [
    "# 논리형 => 정수형 \n",
    "# True => 1, False => 0\n",
    "matrix2.astype(int), matrix2.astype(int).dtype"
   ]
  },
  {
   "cell_type": "code",
   "execution_count": 63,
   "id": "e94f5a0b",
   "metadata": {},
   "outputs": [
    {
     "data": {
      "text/plain": [
       "array(['True', 'False', 'True', 'True', 'False'], dtype='<U5')"
      ]
     },
     "execution_count": 63,
     "metadata": {},
     "output_type": "execute_result"
    }
   ],
   "source": [
    "# 논리형 => 문자열 \n",
    "matrix2.astype('<U5')"
   ]
  },
  {
   "cell_type": "code",
   "execution_count": 65,
   "id": "e5446f02",
   "metadata": {},
   "outputs": [
    {
     "data": {
      "text/plain": [
       "array(['3.14', '5.5', '0.78'], dtype='<U4')"
      ]
     },
     "execution_count": 65,
     "metadata": {},
     "output_type": "execute_result"
    }
   ],
   "source": [
    "# 문자열숫자 => 정수나 실수 \n",
    "matrix3 = np.array(['3.14', '5.5', '0.78'])\n",
    "matrix3"
   ]
  },
  {
   "cell_type": "code",
   "execution_count": 67,
   "id": "ddd24c13",
   "metadata": {},
   "outputs": [
    {
     "data": {
      "text/plain": [
       "(array([3.14, 5.5 , 0.78]), dtype('float64'))"
      ]
     },
     "execution_count": 67,
     "metadata": {},
     "output_type": "execute_result"
    }
   ],
   "source": [
    "matrix3.astype(float), matrix3.astype(float).dtype"
   ]
  },
  {
   "cell_type": "code",
   "execution_count": 69,
   "id": "78145475",
   "metadata": {},
   "outputs": [],
   "source": [
    "# ValueError\n",
    "# matrix3.astype(int)"
   ]
  },
  {
   "cell_type": "code",
   "execution_count": 73,
   "id": "1313242d",
   "metadata": {},
   "outputs": [
    {
     "data": {
      "text/plain": [
       "array([3, 5, 0])"
      ]
     },
     "execution_count": 73,
     "metadata": {},
     "output_type": "execute_result"
    }
   ],
   "source": [
    "matrix4 = np.array(['3', '5', '0'])\n",
    "matrix4.astype(int)"
   ]
  },
  {
   "cell_type": "code",
   "execution_count": 71,
   "id": "ec983639",
   "metadata": {},
   "outputs": [],
   "source": [
    "# ValueError\n",
    "# matrix3.astype(bool)"
   ]
  },
  {
   "cell_type": "markdown",
   "id": "1296d910",
   "metadata": {},
   "source": [
    "# 넘파이배열의 인덱싱\n",
    "\n",
    "```\n",
    "넘파이배열명[Index]\n",
    "넘파이배열명[i, j] = 넘파이배열명[i][j] => i 행 j 열 \n",
    "\n",
    "```"
   ]
  },
  {
   "cell_type": "code",
   "execution_count": 74,
   "id": "62465b0d",
   "metadata": {},
   "outputs": [],
   "source": [
    "matrix_a = np.arange(10)\n",
    "matrix_b = np.arange(12).reshape(3,4)"
   ]
  },
  {
   "cell_type": "code",
   "execution_count": 75,
   "id": "e29f526b",
   "metadata": {},
   "outputs": [
    {
     "data": {
      "text/plain": [
       "array([0, 1, 2, 3, 4, 5, 6, 7, 8, 9])"
      ]
     },
     "execution_count": 75,
     "metadata": {},
     "output_type": "execute_result"
    }
   ],
   "source": [
    "matrix_a"
   ]
  },
  {
   "cell_type": "code",
   "execution_count": 76,
   "id": "1b6d510a",
   "metadata": {},
   "outputs": [
    {
     "data": {
      "text/plain": [
       "array([[ 0,  1,  2,  3],\n",
       "       [ 4,  5,  6,  7],\n",
       "       [ 8,  9, 10, 11]])"
      ]
     },
     "execution_count": 76,
     "metadata": {},
     "output_type": "execute_result"
    }
   ],
   "source": [
    "matrix_b"
   ]
  },
  {
   "cell_type": "code",
   "execution_count": 78,
   "id": "8a79c273",
   "metadata": {},
   "outputs": [
    {
     "data": {
      "text/plain": [
       "(0, 9)"
      ]
     },
     "execution_count": 78,
     "metadata": {},
     "output_type": "execute_result"
    }
   ],
   "source": [
    "# 1차원에서 첫요소와 마지막 요소 \n",
    "matrix_a[0], matrix_a[-1]"
   ]
  },
  {
   "cell_type": "code",
   "execution_count": 80,
   "id": "34edf2b1",
   "metadata": {},
   "outputs": [
    {
     "data": {
      "text/plain": [
       "(0, 0)"
      ]
     },
     "execution_count": 80,
     "metadata": {},
     "output_type": "execute_result"
    }
   ],
   "source": [
    "# 2차원에서 1행 1열 \n",
    "matrix_b[0, 0], matrix_b[0][0]"
   ]
  },
  {
   "cell_type": "code",
   "execution_count": 82,
   "id": "078f37fa",
   "metadata": {},
   "outputs": [
    {
     "data": {
      "text/plain": [
       "(11, 11, 11)"
      ]
     },
     "execution_count": 82,
     "metadata": {},
     "output_type": "execute_result"
    }
   ],
   "source": [
    "# 2차원에서 마지막행 마지막열 => 3행4열\n",
    "matrix_b[-1, -1], matrix_b[-1][-1], matrix_b[2][3]"
   ]
  },
  {
   "cell_type": "code",
   "execution_count": 86,
   "id": "bee7028c",
   "metadata": {},
   "outputs": [],
   "source": [
    "# matrix_b 에서 3행1열의 값을 100으로 교체하여라 \n",
    "matrix_b[2, 0] = 100"
   ]
  },
  {
   "cell_type": "code",
   "execution_count": 87,
   "id": "c13718eb",
   "metadata": {},
   "outputs": [
    {
     "data": {
      "text/plain": [
       "array([[  0,   1,   2,   3],\n",
       "       [  4,   5,   6,   7],\n",
       "       [100,   9,  10,  11]])"
      ]
     },
     "execution_count": 87,
     "metadata": {},
     "output_type": "execute_result"
    }
   ],
   "source": [
    "matrix_b"
   ]
  },
  {
   "cell_type": "code",
   "execution_count": 97,
   "id": "073c35ea",
   "metadata": {},
   "outputs": [
    {
     "data": {
      "text/plain": [
       "1"
      ]
     },
     "execution_count": 97,
     "metadata": {},
     "output_type": "execute_result"
    }
   ],
   "source": [
    "# 리스트경우의 인덱싱 \n",
    "a = [[1, 2, 3], [1, 2, 3]]\n",
    "a[0][0]\n",
    "# 에러 발생 TypeError\n",
    "# a[0,0] "
   ]
  },
  {
   "cell_type": "markdown",
   "id": "74578671",
   "metadata": {},
   "source": [
    "# 넘파이배열의 슬라이싱 : 1차원\n",
    "\n",
    "```\n",
    "넘파이배열명[start:end:step]\n",
    "넘파이배열명[start:end]\n",
    "넘파이배열명[start:]\n",
    "넘파이배열명[:end]\n",
    "\n",
    "- 역순으로 표시 \n",
    "넘파이배열명[::-1] \n",
    "\n",
    "```"
   ]
  },
  {
   "cell_type": "code",
   "execution_count": 89,
   "id": "79e66a1b",
   "metadata": {},
   "outputs": [
    {
     "data": {
      "text/plain": [
       "array([  0,  10,  20,  30,  40,  50,  60,  70,  80,  90, 100])"
      ]
     },
     "execution_count": 89,
     "metadata": {},
     "output_type": "execute_result"
    }
   ],
   "source": [
    "matrix_c = np.arange(0, 101, 10)\n",
    "matrix_c "
   ]
  },
  {
   "cell_type": "code",
   "execution_count": 98,
   "id": "3dc11692",
   "metadata": {},
   "outputs": [
    {
     "data": {
      "text/plain": [
       "array([10, 30, 50])"
      ]
     },
     "execution_count": 98,
     "metadata": {},
     "output_type": "execute_result"
    }
   ],
   "source": [
    "matrix_c[1:7:2]"
   ]
  },
  {
   "cell_type": "code",
   "execution_count": 99,
   "id": "2e0c6b3d",
   "metadata": {},
   "outputs": [
    {
     "data": {
      "text/plain": [
       "array([ 0, 10, 20, 30, 40, 50, 60])"
      ]
     },
     "execution_count": 99,
     "metadata": {},
     "output_type": "execute_result"
    }
   ],
   "source": [
    "matrix_c[:7]"
   ]
  },
  {
   "cell_type": "code",
   "execution_count": 100,
   "id": "3a69d6ed",
   "metadata": {},
   "outputs": [
    {
     "data": {
      "text/plain": [
       "array([ 50,  60,  70,  80,  90, 100])"
      ]
     },
     "execution_count": 100,
     "metadata": {},
     "output_type": "execute_result"
    }
   ],
   "source": [
    "matrix_c[5:]"
   ]
  },
  {
   "cell_type": "code",
   "execution_count": 101,
   "id": "309c4e8a",
   "metadata": {},
   "outputs": [
    {
     "data": {
      "text/plain": [
       "array([  0,  20,  40,  60,  80, 100])"
      ]
     },
     "execution_count": 101,
     "metadata": {},
     "output_type": "execute_result"
    }
   ],
   "source": [
    "matrix_c[::2]"
   ]
  },
  {
   "cell_type": "code",
   "execution_count": 106,
   "id": "ed3168b1",
   "metadata": {},
   "outputs": [
    {
     "name": "stdout",
     "output_type": "stream",
     "text": [
      "[  0  10  20  30  40  50  60  70  80  90 100]\n",
      "[100  90  80  70  60  50  40  30  20  10   0]\n"
     ]
    }
   ],
   "source": [
    "# 역순 배열명[::-1]\n",
    "print(matrix_c)\n",
    "print(matrix_c[::-1])"
   ]
  },
  {
   "cell_type": "markdown",
   "id": "8af2b4e9",
   "metadata": {},
   "source": [
    "# 넘파이배열의 슬라이싱 : 2차원\n",
    "\n",
    "```\n",
    "넘파이배열명[start1:end1:step1, start2:end2:step2]\n",
    "\n",
    "- 역순으로 표시 \n",
    "넘파이배열명[::-1, ::] \n",
    "넘파이배열명[::, ::-1] \n",
    "```"
   ]
  },
  {
   "cell_type": "code",
   "execution_count": 108,
   "id": "fd23f8e2",
   "metadata": {},
   "outputs": [
    {
     "data": {
      "text/plain": [
       "array([[ 1,  2,  3,  4,  5],\n",
       "       [ 6,  7,  8,  9, 10],\n",
       "       [11, 12, 13, 14, 15],\n",
       "       [16, 17, 18, 19, 20],\n",
       "       [21, 22, 23, 24, 25]])"
      ]
     },
     "execution_count": 108,
     "metadata": {},
     "output_type": "execute_result"
    }
   ],
   "source": [
    "# 5행 5열 \n",
    "matrix_d =np.arange(1,26).reshape(5,5)\n",
    "matrix_d"
   ]
  },
  {
   "cell_type": "code",
   "execution_count": 109,
   "id": "20ced33a",
   "metadata": {},
   "outputs": [
    {
     "data": {
      "text/plain": [
       "array([1, 2, 3, 4, 5])"
      ]
     },
     "execution_count": 109,
     "metadata": {},
     "output_type": "execute_result"
    }
   ],
   "source": [
    "# 1행만 출력 \n",
    "matrix_d[0, ::]"
   ]
  },
  {
   "cell_type": "code",
   "execution_count": 111,
   "id": "5dc09b29",
   "metadata": {},
   "outputs": [
    {
     "data": {
      "text/plain": [
       "array([[ 1,  2,  3,  4,  5],\n",
       "       [ 6,  7,  8,  9, 10]])"
      ]
     },
     "execution_count": 111,
     "metadata": {},
     "output_type": "execute_result"
    }
   ],
   "source": [
    "# 1,2행만 출력 \n",
    "matrix_d[0:2, ::]"
   ]
  },
  {
   "cell_type": "code",
   "execution_count": 113,
   "id": "183946db",
   "metadata": {},
   "outputs": [
    {
     "data": {
      "text/plain": [
       "array([ 1,  6, 11, 16, 21])"
      ]
     },
     "execution_count": 113,
     "metadata": {},
     "output_type": "execute_result"
    }
   ],
   "source": [
    "# 1열만 출력 \n",
    "matrix_d[::, 0]"
   ]
  },
  {
   "cell_type": "code",
   "execution_count": 114,
   "id": "361287ef",
   "metadata": {},
   "outputs": [
    {
     "data": {
      "text/plain": [
       "array([[ 3,  4],\n",
       "       [ 8,  9],\n",
       "       [13, 14],\n",
       "       [18, 19],\n",
       "       [23, 24]])"
      ]
     },
     "execution_count": 114,
     "metadata": {},
     "output_type": "execute_result"
    }
   ],
   "source": [
    "# 3,4열만 출력 \n",
    "matrix_d[::, 2:4:]"
   ]
  },
  {
   "cell_type": "code",
   "execution_count": null,
   "id": "d51abd50",
   "metadata": {},
   "outputs": [],
   "source": []
  },
  {
   "cell_type": "code",
   "execution_count": 118,
   "id": "07a62c54",
   "metadata": {},
   "outputs": [
    {
     "data": {
      "text/plain": [
       "array([[ 1,  2],\n",
       "       [ 6,  7],\n",
       "       [11, 12]])"
      ]
     },
     "execution_count": 118,
     "metadata": {},
     "output_type": "execute_result"
    }
   ],
   "source": [
    "# 특정행의 특정열 슬라이싱 \n",
    "matrix_d[0:3:, 0:2:]"
   ]
  },
  {
   "cell_type": "code",
   "execution_count": 119,
   "id": "da49978d",
   "metadata": {},
   "outputs": [
    {
     "data": {
      "text/plain": [
       "array([[ 1,  2,  3,  4,  5],\n",
       "       [11, 12, 13, 14, 15],\n",
       "       [21, 22, 23, 24, 25]])"
      ]
     },
     "execution_count": 119,
     "metadata": {},
     "output_type": "execute_result"
    }
   ],
   "source": [
    "# 홀수번째 행만 출력 \n",
    "matrix_d[::2, ::]"
   ]
  },
  {
   "cell_type": "code",
   "execution_count": 120,
   "id": "d3f6af9d",
   "metadata": {},
   "outputs": [
    {
     "data": {
      "text/plain": [
       "array([[ 1,  3,  5],\n",
       "       [ 6,  8, 10],\n",
       "       [11, 13, 15],\n",
       "       [16, 18, 20],\n",
       "       [21, 23, 25]])"
      ]
     },
     "execution_count": 120,
     "metadata": {},
     "output_type": "execute_result"
    }
   ],
   "source": [
    "# 홀수번째 열만 출력 \n",
    "matrix_d[::, ::2]"
   ]
  },
  {
   "cell_type": "code",
   "execution_count": 121,
   "id": "c95b62ee",
   "metadata": {},
   "outputs": [
    {
     "data": {
      "text/plain": [
       "array([[ 7,  9],\n",
       "       [17, 19]])"
      ]
     },
     "execution_count": 121,
     "metadata": {},
     "output_type": "execute_result"
    }
   ],
   "source": [
    "# 짝수번째행 + 짝수번째 열만 출력 \n",
    "matrix_d[1::2, 1::2]"
   ]
  },
  {
   "cell_type": "code",
   "execution_count": 122,
   "id": "fb0039bf",
   "metadata": {},
   "outputs": [
    {
     "data": {
      "text/plain": [
       "array([[21, 22, 23, 24, 25],\n",
       "       [16, 17, 18, 19, 20],\n",
       "       [11, 12, 13, 14, 15],\n",
       "       [ 6,  7,  8,  9, 10],\n",
       "       [ 1,  2,  3,  4,  5]])"
      ]
     },
     "execution_count": 122,
     "metadata": {},
     "output_type": "execute_result"
    }
   ],
   "source": [
    "# 행우선 역순 \n",
    "matrix_d[::-1, ::]"
   ]
  },
  {
   "cell_type": "code",
   "execution_count": 123,
   "id": "5de624d2",
   "metadata": {},
   "outputs": [
    {
     "data": {
      "text/plain": [
       "array([[ 5,  4,  3,  2,  1],\n",
       "       [10,  9,  8,  7,  6],\n",
       "       [15, 14, 13, 12, 11],\n",
       "       [20, 19, 18, 17, 16],\n",
       "       [25, 24, 23, 22, 21]])"
      ]
     },
     "execution_count": 123,
     "metadata": {},
     "output_type": "execute_result"
    }
   ],
   "source": [
    "# 컬럼우선으로 역순 \n",
    "matrix_d[::, ::-1]"
   ]
  },
  {
   "cell_type": "code",
   "execution_count": 115,
   "id": "b1e32769",
   "metadata": {
    "scrolled": true
   },
   "outputs": [
    {
     "data": {
      "text/plain": [
       "array([[ 1,  2,  3,  4,  5],\n",
       "       [ 6,  7,  8,  9, 10],\n",
       "       [11, 12, 13, 14, 15],\n",
       "       [16, 17, 18, 19, 20],\n",
       "       [21, 22, 23, 24, 25]])"
      ]
     },
     "execution_count": 115,
     "metadata": {},
     "output_type": "execute_result"
    }
   ],
   "source": [
    "matrix_d"
   ]
  },
  {
   "cell_type": "markdown",
   "id": "c9da04a2",
   "metadata": {},
   "source": [
    "# 전치 행렬 \n",
    "- 행과 열의 구조를 변경 \n",
    "넘파이배열.T"
   ]
  },
  {
   "cell_type": "code",
   "execution_count": 125,
   "id": "dacba852",
   "metadata": {},
   "outputs": [
    {
     "data": {
      "text/plain": [
       "array([[1, 2],\n",
       "       [3, 4],\n",
       "       [5, 6]])"
      ]
     },
     "execution_count": 125,
     "metadata": {},
     "output_type": "execute_result"
    }
   ],
   "source": [
    "# 3행 2열 \n",
    "matrix_e =np.arange(1,7).reshape(3,2)\n",
    "matrix_e"
   ]
  },
  {
   "cell_type": "code",
   "execution_count": 127,
   "id": "b8daadcd",
   "metadata": {},
   "outputs": [
    {
     "data": {
      "text/plain": [
       "array([[1, 3, 5],\n",
       "       [2, 4, 6]])"
      ]
     },
     "execution_count": 127,
     "metadata": {},
     "output_type": "execute_result"
    }
   ],
   "source": [
    "# 2행 3열 \n",
    "matrix_e.T"
   ]
  },
  {
   "cell_type": "code",
   "execution_count": 128,
   "id": "cba90f57",
   "metadata": {},
   "outputs": [
    {
     "data": {
      "text/plain": [
       "array([[1, 2, 3],\n",
       "       [4, 5, 6]])"
      ]
     },
     "execution_count": 128,
     "metadata": {},
     "output_type": "execute_result"
    }
   ],
   "source": [
    "matrix_e.reshape(2,3)"
   ]
  },
  {
   "cell_type": "markdown",
   "id": "ee1f3dd4",
   "metadata": {},
   "source": [
    "# 난수로 구성된 넘파이 배열 생성 \n",
    "\n",
    "```\n",
    " np.random.randint(start, end, n ) 정수로된 난수 생성  \n",
    " np.random.randint(start, end, (i, j) ) i*j 구조로된 난수 2차원 넘파이 배열 생성 \n",
    "```"
   ]
  },
  {
   "cell_type": "code",
   "execution_count": 131,
   "id": "e8ed431e",
   "metadata": {},
   "outputs": [],
   "source": [
    "np.random?"
   ]
  },
  {
   "cell_type": "code",
   "execution_count": 135,
   "id": "b864e62d",
   "metadata": {},
   "outputs": [
    {
     "data": {
      "text/plain": [
       "array([2, 5, 6, 1, 8, 9, 2, 3, 6, 8])"
      ]
     },
     "execution_count": 135,
     "metadata": {},
     "output_type": "execute_result"
    }
   ],
   "source": [
    "# 1~10 사이의 숫자중에서 10개 출력  \n",
    "np.random.randint(1, 10, 10) "
   ]
  },
  {
   "cell_type": "code",
   "execution_count": 134,
   "id": "b934508a",
   "metadata": {
    "scrolled": true
   },
   "outputs": [
    {
     "data": {
      "text/plain": [
       "array([[5, 1],\n",
       "       [3, 9],\n",
       "       [8, 7],\n",
       "       [5, 9],\n",
       "       [1, 9]])"
      ]
     },
     "execution_count": 134,
     "metadata": {},
     "output_type": "execute_result"
    }
   ],
   "source": [
    "# 1~10 사이의 숫자중에서 임의로 뽑아서 2차원 배열 생성  \n",
    "np.random.randint(1, 10, (5,2)) "
   ]
  },
  {
   "cell_type": "markdown",
   "id": "ca02ade3",
   "metadata": {},
   "source": [
    "#### 섞기 \n",
    "```\n",
    "np.random.shuffle(넘파이배열)\n",
    "원본 배열에 바로 적용\n",
    "```"
   ]
  },
  {
   "cell_type": "code",
   "execution_count": 136,
   "id": "3087ab90",
   "metadata": {},
   "outputs": [],
   "source": [
    "np.random.shuffle?"
   ]
  },
  {
   "cell_type": "code",
   "execution_count": 137,
   "id": "6ee99e82",
   "metadata": {},
   "outputs": [
    {
     "data": {
      "text/plain": [
       "array([ 1,  2,  3,  4,  5,  6,  7,  8,  9, 10])"
      ]
     },
     "execution_count": 137,
     "metadata": {},
     "output_type": "execute_result"
    }
   ],
   "source": [
    "matrix_e = np.arange(1,11)\n",
    "matrix_e"
   ]
  },
  {
   "cell_type": "code",
   "execution_count": 138,
   "id": "61ed1c65",
   "metadata": {},
   "outputs": [],
   "source": [
    "np.random.shuffle(matrix_e)"
   ]
  },
  {
   "cell_type": "code",
   "execution_count": 139,
   "id": "4c408024",
   "metadata": {},
   "outputs": [
    {
     "data": {
      "text/plain": [
       "array([ 7,  9,  4,  3, 10,  5,  8,  2,  6,  1])"
      ]
     },
     "execution_count": 139,
     "metadata": {},
     "output_type": "execute_result"
    }
   ],
   "source": [
    "matrix_e"
   ]
  },
  {
   "cell_type": "code",
   "execution_count": 140,
   "id": "36bec7bf",
   "metadata": {},
   "outputs": [
    {
     "name": "stdout",
     "output_type": "stream",
     "text": [
      "None\n"
     ]
    }
   ],
   "source": [
    "# np.random.shuffle(matrix_e) print 문과 사용시 None 출력 \n",
    "print(np.random.shuffle(matrix_e))"
   ]
  },
  {
   "cell_type": "code",
   "execution_count": 141,
   "id": "a47637f1",
   "metadata": {},
   "outputs": [
    {
     "name": "stdout",
     "output_type": "stream",
     "text": [
      "[ 6  2  9  5  4  7  1  3  8 10]\n"
     ]
    }
   ],
   "source": [
    "print(matrix_e)"
   ]
  },
  {
   "cell_type": "raw",
   "id": "1baeb596",
   "metadata": {},
   "source": [
    "퀴즈 \n",
    "1~46 까지 구성된 숫자 중에서 6개를 뽑아서 로또 번호를 생성하여라 "
   ]
  },
  {
   "cell_type": "code",
   "execution_count": 142,
   "id": "98546e33",
   "metadata": {},
   "outputs": [
    {
     "data": {
      "text/plain": [
       "array([ 1,  2,  3,  4,  5,  6,  7,  8,  9, 10, 11, 12, 13, 14, 15, 16, 17,\n",
       "       18, 19, 20, 21, 22, 23, 24, 25, 26, 27, 28, 29, 30, 31, 32, 33, 34,\n",
       "       35, 36, 37, 38, 39, 40, 41, 42, 43, 44, 45, 46])"
      ]
     },
     "execution_count": 142,
     "metadata": {},
     "output_type": "execute_result"
    }
   ],
   "source": [
    "matrix = np.arange(1,47)\n",
    "matrix"
   ]
  },
  {
   "cell_type": "code",
   "execution_count": 143,
   "id": "d9035ee3",
   "metadata": {},
   "outputs": [
    {
     "data": {
      "text/plain": [
       "array([21,  7, 42, 26, 22, 34, 15, 44,  6, 40, 31, 13,  3, 20, 24, 33,  8,\n",
       "        2, 46, 39, 19,  1,  9, 43, 35, 10, 37, 36, 32, 38, 23, 27,  4, 14,\n",
       "       28, 12, 45, 29, 11,  5, 41, 17, 16, 30, 18, 25])"
      ]
     },
     "execution_count": 143,
     "metadata": {},
     "output_type": "execute_result"
    }
   ],
   "source": [
    "np.random.shuffle(matrix)\n",
    "matrix"
   ]
  },
  {
   "cell_type": "code",
   "execution_count": 144,
   "id": "c5f958df",
   "metadata": {},
   "outputs": [
    {
     "data": {
      "text/plain": [
       "array([21,  7, 42, 26, 22, 34])"
      ]
     },
     "execution_count": 144,
     "metadata": {},
     "output_type": "execute_result"
    }
   ],
   "source": [
    "lotto_num = matrix[:6]\n",
    "lotto_num"
   ]
  },
  {
   "cell_type": "markdown",
   "id": "28418afc",
   "metadata": {},
   "source": [
    "#### 실수 난수 \n",
    "```\n",
    "np.random.randn(n)\n",
    "np.random.randn(i,j)\n",
    "```"
   ]
  },
  {
   "cell_type": "code",
   "execution_count": 148,
   "id": "595c1929",
   "metadata": {},
   "outputs": [],
   "source": [
    "matrix1 = np.random.randn(10)\n",
    "matrix2 = np.random.randn(4,4)"
   ]
  },
  {
   "cell_type": "code",
   "execution_count": 149,
   "id": "74721c5e",
   "metadata": {
    "scrolled": true
   },
   "outputs": [
    {
     "data": {
      "text/plain": [
       "array([ 1.08762795,  1.28832662, -0.4990647 ,  0.04170445,  0.17210223,\n",
       "        0.93457367, -1.26883668, -1.18401448, -0.61495341,  1.26867243])"
      ]
     },
     "execution_count": 149,
     "metadata": {},
     "output_type": "execute_result"
    }
   ],
   "source": [
    "matrix1"
   ]
  },
  {
   "cell_type": "code",
   "execution_count": 150,
   "id": "6edf8771",
   "metadata": {
    "scrolled": true
   },
   "outputs": [
    {
     "data": {
      "text/plain": [
       "array([[-0.35876674,  1.59887002, -0.51599763,  0.31247095],\n",
       "       [ 0.8552852 , -1.20234461,  1.47137199,  0.26315125],\n",
       "       [-0.49930132, -1.21331157,  0.32271951, -0.67149057],\n",
       "       [-0.65977775,  0.14479942, -1.40319583,  1.33406283]])"
      ]
     },
     "execution_count": 150,
     "metadata": {},
     "output_type": "execute_result"
    }
   ],
   "source": [
    "matrix2"
   ]
  },
  {
   "cell_type": "code",
   "execution_count": 151,
   "id": "7c60e412",
   "metadata": {},
   "outputs": [
    {
     "data": {
      "text/plain": [
       "(1.2883266216054674, -1.2688366759471643)"
      ]
     },
     "execution_count": 151,
     "metadata": {},
     "output_type": "execute_result"
    }
   ],
   "source": [
    "matrix1.max(), matrix1.min()"
   ]
  },
  {
   "cell_type": "code",
   "execution_count": 152,
   "id": "446f316d",
   "metadata": {},
   "outputs": [],
   "source": [
    "np.random?"
   ]
  },
  {
   "cell_type": "markdown",
   "id": "3a1116b7",
   "metadata": {},
   "source": [
    "# 집계함수와 정렬에서의 축\n",
    "\n",
    "```\n",
    "2차원에서 집계함수(sum, mean) \n",
    "axis=0/1\n",
    "np.sum(넘파이배열명, axis=0/1)\n",
    "np.mean(넘파이배열명, axis=0/1)\n",
    "np.max(넘파이배열명, axis=0/1)\n",
    "np.min(넘파이배열명, axis=0/1)\n",
    "\n",
    "np.sort(넘파이배열명, axis=0/1)\n",
    "```"
   ]
  },
  {
   "cell_type": "code",
   "execution_count": 156,
   "id": "4aadfe9c",
   "metadata": {},
   "outputs": [
    {
     "data": {
      "text/plain": [
       "array([[26, 29,  7,  2, 10],\n",
       "       [41, 47,  2,  2, 43]])"
      ]
     },
     "execution_count": 156,
     "metadata": {},
     "output_type": "execute_result"
    }
   ],
   "source": [
    "# 정수 난수로 구성된 2*5 \n",
    "m1 = np.random.randint(1,50, (2,5))\n",
    "m1"
   ]
  },
  {
   "cell_type": "code",
   "execution_count": 157,
   "id": "0169c206",
   "metadata": {},
   "outputs": [
    {
     "data": {
      "text/plain": [
       "array([67, 76,  9,  4, 53])"
      ]
     },
     "execution_count": 157,
     "metadata": {},
     "output_type": "execute_result"
    }
   ],
   "source": [
    "# 세로방향으로 집계\n",
    "np.sum(m1, axis=0)"
   ]
  },
  {
   "cell_type": "code",
   "execution_count": 158,
   "id": "09eaf8e1",
   "metadata": {},
   "outputs": [
    {
     "data": {
      "text/plain": [
       "array([ 74, 135])"
      ]
     },
     "execution_count": 158,
     "metadata": {},
     "output_type": "execute_result"
    }
   ],
   "source": [
    "# 가로 방향으로 집계\n",
    "np.sum(m1, axis=1)"
   ]
  },
  {
   "cell_type": "code",
   "execution_count": 162,
   "id": "e9bab2d7",
   "metadata": {},
   "outputs": [
    {
     "data": {
      "text/plain": [
       "74"
      ]
     },
     "execution_count": 162,
     "metadata": {},
     "output_type": "execute_result"
    }
   ],
   "source": [
    "# 1행의 합계는?\n",
    "np.sum(m1[0, :])"
   ]
  },
  {
   "cell_type": "code",
   "execution_count": 161,
   "id": "43ce3845",
   "metadata": {},
   "outputs": [
    {
     "data": {
      "text/plain": [
       "74"
      ]
     },
     "execution_count": 161,
     "metadata": {},
     "output_type": "execute_result"
    }
   ],
   "source": [
    "np.sum(m1, axis=1)[0]"
   ]
  },
  {
   "cell_type": "code",
   "execution_count": 164,
   "id": "7bc30938",
   "metadata": {},
   "outputs": [
    {
     "data": {
      "text/plain": [
       "array([[26, 29,  7,  2, 10],\n",
       "       [41, 47,  2,  2, 43]])"
      ]
     },
     "execution_count": 164,
     "metadata": {},
     "output_type": "execute_result"
    }
   ],
   "source": [
    "m1"
   ]
  },
  {
   "cell_type": "code",
   "execution_count": 163,
   "id": "75a9342a",
   "metadata": {
    "scrolled": true
   },
   "outputs": [
    {
     "data": {
      "text/plain": [
       "array([29, 47])"
      ]
     },
     "execution_count": 163,
     "metadata": {},
     "output_type": "execute_result"
    }
   ],
   "source": [
    "np.max(m1, axis=1)"
   ]
  },
  {
   "cell_type": "markdown",
   "id": "0b48a7ab",
   "metadata": {},
   "source": [
    "#### np.sort() 테스트 "
   ]
  },
  {
   "cell_type": "code",
   "execution_count": 167,
   "id": "8ecda992",
   "metadata": {},
   "outputs": [
    {
     "data": {
      "text/plain": [
       "array([[49, 32, 33],\n",
       "       [24, 20, 49],\n",
       "       [46, 37, 36],\n",
       "       [34, 12, 18]])"
      ]
     },
     "execution_count": 167,
     "metadata": {},
     "output_type": "execute_result"
    }
   ],
   "source": [
    "# 정수 난수로 구성된 4*3 \n",
    "m2 = np.random.randint(1,50, (4,3))\n",
    "m2"
   ]
  },
  {
   "cell_type": "code",
   "execution_count": 168,
   "id": "3ac6040a",
   "metadata": {},
   "outputs": [
    {
     "data": {
      "text/plain": [
       "array([[24, 12, 18],\n",
       "       [34, 20, 33],\n",
       "       [46, 32, 36],\n",
       "       [49, 37, 49]])"
      ]
     },
     "execution_count": 168,
     "metadata": {},
     "output_type": "execute_result"
    }
   ],
   "source": [
    "# 세로 방향으로 값을 기준으로한 오름차순 정렬 \n",
    "np.sort(m2, axis=0)"
   ]
  },
  {
   "cell_type": "code",
   "execution_count": 171,
   "id": "169d97af",
   "metadata": {},
   "outputs": [],
   "source": [
    "# 원본은 그대로 유지 \n",
    "# 원본을 변경하려면?\n",
    "m2 = np.sort(m2, axis=0)"
   ]
  },
  {
   "cell_type": "code",
   "execution_count": 172,
   "id": "eeae7aed",
   "metadata": {},
   "outputs": [
    {
     "data": {
      "text/plain": [
       "array([[24, 12, 18],\n",
       "       [34, 20, 33],\n",
       "       [46, 32, 36],\n",
       "       [49, 37, 49]])"
      ]
     },
     "execution_count": 172,
     "metadata": {},
     "output_type": "execute_result"
    }
   ],
   "source": [
    "m2"
   ]
  },
  {
   "cell_type": "code",
   "execution_count": 175,
   "id": "87dc43e7",
   "metadata": {
    "scrolled": true
   },
   "outputs": [
    {
     "data": {
      "text/plain": [
       "array([[49, 37, 49],\n",
       "       [46, 32, 36],\n",
       "       [34, 20, 33],\n",
       "       [24, 12, 18]])"
      ]
     },
     "execution_count": 175,
     "metadata": {},
     "output_type": "execute_result"
    }
   ],
   "source": [
    "# 내림차순으로 다시 정렬 \n",
    "m2 = m2[::-1, ::]\n",
    "m2"
   ]
  },
  {
   "cell_type": "code",
   "execution_count": 173,
   "id": "7a8a916f",
   "metadata": {},
   "outputs": [],
   "source": [
    "np.sort?"
   ]
  },
  {
   "cell_type": "markdown",
   "id": "358c832e",
   "metadata": {},
   "source": [
    "# 인덱스 소팅 \n",
    "```\n",
    "np.argsort(배열명, axis=0/1)\n",
    "\n",
    "넘파이배열[np.argsort 배열] => 오름차순한 결과 \n",
    "```"
   ]
  },
  {
   "cell_type": "code",
   "execution_count": 176,
   "id": "3ba53fb6",
   "metadata": {},
   "outputs": [],
   "source": [
    "np.argsort?"
   ]
  },
  {
   "cell_type": "code",
   "execution_count": 177,
   "id": "a401d1b9",
   "metadata": {},
   "outputs": [
    {
     "data": {
      "text/plain": [
       "array([1, 2, 0], dtype=int64)"
      ]
     },
     "execution_count": 177,
     "metadata": {},
     "output_type": "execute_result"
    }
   ],
   "source": [
    "x = np.array([3, 1, 2])\n",
    "np.argsort(x)"
   ]
  },
  {
   "cell_type": "code",
   "execution_count": 178,
   "id": "89ae6d83",
   "metadata": {},
   "outputs": [
    {
     "data": {
      "text/plain": [
       "array([1, 2, 3])"
      ]
     },
     "execution_count": 178,
     "metadata": {},
     "output_type": "execute_result"
    }
   ],
   "source": [
    "x[np.argsort(x)]"
   ]
  },
  {
   "cell_type": "code",
   "execution_count": 179,
   "id": "13f9d792",
   "metadata": {},
   "outputs": [
    {
     "data": {
      "text/plain": [
       "array([1, 2, 3])"
      ]
     },
     "execution_count": 179,
     "metadata": {},
     "output_type": "execute_result"
    }
   ],
   "source": [
    "np.sort(x)"
   ]
  },
  {
   "cell_type": "markdown",
   "id": "dd62fa1d",
   "metadata": {},
   "source": [
    "# 넘파이 배열의 추가와 삭제 \n",
    "\n",
    "```\n",
    "- 추가 \n",
    "np.insert(배열명, 위치인덱스, 값, axis=0/1) \n",
    "\n",
    "2차원인 경우 axis를 설정하지 않는다면 1차원 배열로 변경된 후 값이 삽입된다. \n",
    "값은 리스트나 특정 숫자 \n",
    "\n",
    "\n",
    "- 삭제 \n",
    "np.delete(배열명, 위치인덱스, axis=0/1) \n",
    "\n",
    "```"
   ]
  },
  {
   "cell_type": "code",
   "execution_count": 180,
   "id": "dee80204",
   "metadata": {},
   "outputs": [],
   "source": [
    "np.insert?"
   ]
  },
  {
   "cell_type": "code",
   "execution_count": 181,
   "id": "bd3146b5",
   "metadata": {},
   "outputs": [
    {
     "data": {
      "text/plain": [
       "array([ 1,  2,  3,  4,  5,  6,  7,  8,  9, 10])"
      ]
     },
     "execution_count": 181,
     "metadata": {},
     "output_type": "execute_result"
    }
   ],
   "source": [
    "mm1 = np.arange(1,11)\n",
    "mm1"
   ]
  },
  {
   "cell_type": "code",
   "execution_count": 184,
   "id": "1d79c56d",
   "metadata": {},
   "outputs": [
    {
     "data": {
      "text/plain": [
       "array([100,   1,   2,   3,   4,   5,   6,   7,   8,   9,  10])"
      ]
     },
     "execution_count": 184,
     "metadata": {},
     "output_type": "execute_result"
    }
   ],
   "source": [
    "# 첫번째 위치에 값 삽입 => 원본에 적용 \n",
    "mm1 = np.insert(mm1, 0, 100)\n",
    "mm1"
   ]
  },
  {
   "cell_type": "code",
   "execution_count": 185,
   "id": "7fdc3e82",
   "metadata": {},
   "outputs": [
    {
     "data": {
      "text/plain": [
       "array([100,   1,   2,   3,   4,   5,   6,   7,   8,   9,  10])"
      ]
     },
     "execution_count": 185,
     "metadata": {},
     "output_type": "execute_result"
    }
   ],
   "source": [
    "mm1"
   ]
  },
  {
   "cell_type": "code",
   "execution_count": 193,
   "id": "8319415a",
   "metadata": {},
   "outputs": [
    {
     "data": {
      "text/plain": [
       "array([100,   1,   2,   3,   4,   5,   6,   7,   8,   9, 500,  10])"
      ]
     },
     "execution_count": 193,
     "metadata": {},
     "output_type": "execute_result"
    }
   ],
   "source": [
    "# 끝에서 2번째에 데이타 삽입 \n",
    "mm1 = np.insert(mm1, -1, 500)\n",
    "mm1"
   ]
  },
  {
   "cell_type": "code",
   "execution_count": 195,
   "id": "d8bc72d8",
   "metadata": {},
   "outputs": [
    {
     "data": {
      "text/plain": [
       "array([100,   1,   2,   3,   4,   5,   6,   7,   8,   9, 500,  10, 500])"
      ]
     },
     "execution_count": 195,
     "metadata": {},
     "output_type": "execute_result"
    }
   ],
   "source": [
    "# 마지막 위치에 값 삽입 \n",
    "mm1 = np.insert(mm1, len(mm1), 500)\n",
    "mm1"
   ]
  },
  {
   "cell_type": "code",
   "execution_count": 196,
   "id": "fa55edca",
   "metadata": {},
   "outputs": [
    {
     "data": {
      "text/plain": [
       "array([[1, 2, 3],\n",
       "       [4, 5, 6],\n",
       "       [7, 8, 9]])"
      ]
     },
     "execution_count": 196,
     "metadata": {},
     "output_type": "execute_result"
    }
   ],
   "source": [
    "mm2 = np.arange(1,10).reshape(3,3)\n",
    "mm2"
   ]
  },
  {
   "cell_type": "code",
   "execution_count": 197,
   "id": "00da435a",
   "metadata": {},
   "outputs": [
    {
     "data": {
      "text/plain": [
       "array([100,   1,   2,   3,   4,   5,   6,   7,   8,   9])"
      ]
     },
     "execution_count": 197,
     "metadata": {},
     "output_type": "execute_result"
    }
   ],
   "source": [
    "# axis 값을 주지 않아서 1차원으로 변경 후 데이타 삽입 \n",
    "np.insert(mm2, 0, 100)"
   ]
  },
  {
   "cell_type": "code",
   "execution_count": 198,
   "id": "88e9307f",
   "metadata": {},
   "outputs": [
    {
     "data": {
      "text/plain": [
       "array([[100, 100, 100],\n",
       "       [  1,   2,   3],\n",
       "       [  4,   5,   6],\n",
       "       [  7,   8,   9]])"
      ]
     },
     "execution_count": 198,
     "metadata": {},
     "output_type": "execute_result"
    }
   ],
   "source": [
    "# 1행으로 [100, 100, 100] 생성해서 삽입 \n",
    "np.insert(mm2, 0, 100, axis=0)"
   ]
  },
  {
   "cell_type": "code",
   "execution_count": 199,
   "id": "f9b246ac",
   "metadata": {},
   "outputs": [
    {
     "data": {
      "text/plain": [
       "array([[100,   1,   2,   3],\n",
       "       [100,   4,   5,   6],\n",
       "       [100,   7,   8,   9]])"
      ]
     },
     "execution_count": 199,
     "metadata": {},
     "output_type": "execute_result"
    }
   ],
   "source": [
    "# 1열로 [100, 100, 100] 생성해서 삽입 \n",
    "np.insert(mm2, 0, 100, axis=1)"
   ]
  },
  {
   "cell_type": "code",
   "execution_count": 201,
   "id": "8b515190",
   "metadata": {},
   "outputs": [
    {
     "data": {
      "text/plain": [
       "array([[100,   1,   2,   3],\n",
       "       [200,   4,   5,   6],\n",
       "       [300,   7,   8,   9]])"
      ]
     },
     "execution_count": 201,
     "metadata": {},
     "output_type": "execute_result"
    }
   ],
   "source": [
    "# 리스트로 삽입 - 첫번째 컬럼으로 삽입 \n",
    "np.insert(mm2, 0, [100, 200, 300], axis=1)"
   ]
  },
  {
   "cell_type": "code",
   "execution_count": 204,
   "id": "fd7579a4",
   "metadata": {},
   "outputs": [
    {
     "data": {
      "text/plain": [
       "array([[  1,   2,   3, 100],\n",
       "       [  4,   5,   6, 200],\n",
       "       [  7,   8,   9, 300]])"
      ]
     },
     "execution_count": 204,
     "metadata": {},
     "output_type": "execute_result"
    }
   ],
   "source": [
    "# 리스트로 삽입 - 마지막 컬럼으로 삽입 \n",
    "# 배열명.shape[1] 컬럼 길이 \n",
    "# np.insert(배열명, 배열명.shape[1], 값이나 리스트, axis=1)\n",
    "np.insert(mm2, mm2.shape[1], [100, 200, 300], axis=1)"
   ]
  },
  {
   "cell_type": "code",
   "execution_count": 205,
   "id": "a111b679",
   "metadata": {},
   "outputs": [
    {
     "data": {
      "text/plain": [
       "array([[100, 200, 300],\n",
       "       [  1,   2,   3],\n",
       "       [  4,   5,   6],\n",
       "       [  7,   8,   9]])"
      ]
     },
     "execution_count": 205,
     "metadata": {},
     "output_type": "execute_result"
    }
   ],
   "source": [
    "# 첫번째 행으로 삽입 \n",
    "np.insert(mm2, 0, [100, 200, 300], axis=0)"
   ]
  },
  {
   "cell_type": "code",
   "execution_count": 206,
   "id": "eb5e6884",
   "metadata": {},
   "outputs": [
    {
     "data": {
      "text/plain": [
       "array([[  1,   2,   3],\n",
       "       [  4,   5,   6],\n",
       "       [  7,   8,   9],\n",
       "       [100, 200, 300]])"
      ]
     },
     "execution_count": 206,
     "metadata": {},
     "output_type": "execute_result"
    }
   ],
   "source": [
    "# 마지막 행으로 삽입 \n",
    "np.insert(mm2, mm2.shape[0], [100, 200, 300], axis=0)"
   ]
  },
  {
   "cell_type": "code",
   "execution_count": 207,
   "id": "b81b3b48",
   "metadata": {},
   "outputs": [],
   "source": [
    "np.delete?"
   ]
  },
  {
   "cell_type": "code",
   "execution_count": 209,
   "id": "52d3fb51",
   "metadata": {},
   "outputs": [
    {
     "data": {
      "text/plain": [
       "array([[1, 2, 3],\n",
       "       [4, 5, 6],\n",
       "       [7, 8, 9]])"
      ]
     },
     "execution_count": 209,
     "metadata": {},
     "output_type": "execute_result"
    }
   ],
   "source": [
    "mm2"
   ]
  },
  {
   "cell_type": "code",
   "execution_count": 210,
   "id": "7a658ffa",
   "metadata": {},
   "outputs": [
    {
     "data": {
      "text/plain": [
       "array([[4, 5, 6],\n",
       "       [7, 8, 9]])"
      ]
     },
     "execution_count": 210,
     "metadata": {},
     "output_type": "execute_result"
    }
   ],
   "source": [
    "# 1행 삭제 \n",
    "np.delete(mm2, 0, axis=0)"
   ]
  },
  {
   "cell_type": "code",
   "execution_count": 211,
   "id": "fb0711f8",
   "metadata": {},
   "outputs": [
    {
     "data": {
      "text/plain": [
       "array([[2, 3],\n",
       "       [5, 6],\n",
       "       [8, 9]])"
      ]
     },
     "execution_count": 211,
     "metadata": {},
     "output_type": "execute_result"
    }
   ],
   "source": [
    "# 1열 삭제 \n",
    "np.delete(mm2, 0, axis=1)"
   ]
  },
  {
   "cell_type": "markdown",
   "id": "1b1bbb67",
   "metadata": {},
   "source": [
    "# 배열간 합치기 \n",
    "\n",
    "```\n",
    "np.vstack((배열1, 배열2 .... )) : 세로로 합치기 \n",
    "np.hstack((배열1, 배열2 .... )) : 가로로 합치기 \n",
    "```"
   ]
  },
  {
   "cell_type": "code",
   "execution_count": 212,
   "id": "9dd26deb",
   "metadata": {},
   "outputs": [
    {
     "name": "stdout",
     "output_type": "stream",
     "text": [
      "[1 2 3]\n",
      "\n",
      "[4 5 6]\n"
     ]
    }
   ],
   "source": [
    "a = np.array([1,2,3])\n",
    "b = np.array([4,5,6])\n",
    "print(a)\n",
    "print()\n",
    "print(b)"
   ]
  },
  {
   "cell_type": "code",
   "execution_count": 215,
   "id": "0aa08311",
   "metadata": {},
   "outputs": [
    {
     "data": {
      "text/plain": [
       "(array([[1, 2, 3],\n",
       "        [4, 5, 6]]),\n",
       " (2, 3))"
      ]
     },
     "execution_count": 215,
     "metadata": {},
     "output_type": "execute_result"
    }
   ],
   "source": [
    "# 2차원 배열 재구성\n",
    "np.vstack((a,b)), np.vstack((a,b)).shape"
   ]
  },
  {
   "cell_type": "code",
   "execution_count": 216,
   "id": "fba4d5df",
   "metadata": {},
   "outputs": [
    {
     "data": {
      "text/plain": [
       "array([1, 2, 3, 4, 5, 6])"
      ]
     },
     "execution_count": 216,
     "metadata": {},
     "output_type": "execute_result"
    }
   ],
   "source": [
    "np.hstack((a,b))"
   ]
  },
  {
   "cell_type": "markdown",
   "id": "a2e3e8fd",
   "metadata": {},
   "source": [
    "#### np.concatenate() 메서드로 합치기 "
   ]
  },
  {
   "cell_type": "code",
   "execution_count": 219,
   "id": "e1b69dca",
   "metadata": {},
   "outputs": [
    {
     "data": {
      "text/plain": [
       "(array([[1, 2, 3]]), 2, (1, 3))"
      ]
     },
     "execution_count": 219,
     "metadata": {},
     "output_type": "execute_result"
    }
   ],
   "source": [
    "c = np.array([[1,2,3]])\n",
    "c, c.ndim, c.shape"
   ]
  },
  {
   "cell_type": "code",
   "execution_count": 220,
   "id": "2c8f1652",
   "metadata": {},
   "outputs": [
    {
     "data": {
      "text/plain": [
       "(array([[4, 5, 6]]), 2, (1, 3))"
      ]
     },
     "execution_count": 220,
     "metadata": {},
     "output_type": "execute_result"
    }
   ],
   "source": [
    "d = np.array([[4, 5, 6]])\n",
    "d, d.ndim, d.shape"
   ]
  },
  {
   "cell_type": "code",
   "execution_count": 224,
   "id": "4667df15",
   "metadata": {},
   "outputs": [
    {
     "data": {
      "text/plain": [
       "array([[1, 2, 3],\n",
       "       [4, 5, 6]])"
      ]
     },
     "execution_count": 224,
     "metadata": {},
     "output_type": "execute_result"
    }
   ],
   "source": [
    "np.concatenate( (c, d), axis=0)"
   ]
  },
  {
   "cell_type": "code",
   "execution_count": 223,
   "id": "b62fa962",
   "metadata": {},
   "outputs": [
    {
     "data": {
      "text/plain": [
       "array([[1, 2, 3, 4, 5, 6]])"
      ]
     },
     "execution_count": 223,
     "metadata": {},
     "output_type": "execute_result"
    }
   ],
   "source": [
    "np.concatenate((c, d), axis=1)"
   ]
  },
  {
   "cell_type": "code",
   "execution_count": null,
   "id": "c657c68b",
   "metadata": {},
   "outputs": [],
   "source": []
  },
  {
   "cell_type": "code",
   "execution_count": null,
   "id": "faed02a7",
   "metadata": {},
   "outputs": [],
   "source": []
  },
  {
   "cell_type": "code",
   "execution_count": null,
   "id": "be5b9a0e",
   "metadata": {},
   "outputs": [],
   "source": []
  },
  {
   "cell_type": "code",
   "execution_count": null,
   "id": "0f9e8ecf",
   "metadata": {},
   "outputs": [],
   "source": []
  },
  {
   "cell_type": "code",
   "execution_count": null,
   "id": "1ea8f40c",
   "metadata": {},
   "outputs": [],
   "source": []
  }
 ],
 "metadata": {
  "kernelspec": {
   "display_name": "Python 3",
   "language": "python",
   "name": "python3"
  },
  "language_info": {
   "codemirror_mode": {
    "name": "ipython",
    "version": 3
   },
   "file_extension": ".py",
   "mimetype": "text/x-python",
   "name": "python",
   "nbconvert_exporter": "python",
   "pygments_lexer": "ipython3",
   "version": "3.8.8"
  }
 },
 "nbformat": 4,
 "nbformat_minor": 5
}
