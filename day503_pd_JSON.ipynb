{
 "cells": [
  {
   "cell_type": "code",
   "execution_count": 1,
   "id": "1d62db38",
   "metadata": {},
   "outputs": [
    {
     "data": {
      "text/html": [
       "<style>.container { font-weight: bold !important; }</style>"
      ],
      "text/plain": [
       "<IPython.core.display.HTML object>"
      ]
     },
     "metadata": {},
     "output_type": "display_data"
    },
    {
     "data": {
      "text/html": [
       "<style>.container { width: 100% !important; }</style>"
      ],
      "text/plain": [
       "<IPython.core.display.HTML object>"
      ]
     },
     "metadata": {},
     "output_type": "display_data"
    }
   ],
   "source": [
    "# 쥬피터노트북 셀 스타일 조절 \n",
    "from IPython.core.display import display, HTML\n",
    "display(HTML(\"<style>.container { font-weight: bold !important; }</style>\"))\n",
    "display(HTML(\"<style>.container { width: 100% !important; }</style>\"))\n",
    "\n",
    "# 경고 메세지 숨기기 \n",
    "import warnings\n",
    "warnings.filterwarnings(action='ignore')"
   ]
  },
  {
   "cell_type": "code",
   "execution_count": 2,
   "id": "56c4cdcb",
   "metadata": {},
   "outputs": [],
   "source": [
    "import pandas as pd\n",
    "import numpy as np\n",
    "import os\n",
    "import requests\n",
    "import json"
   ]
  },
  {
   "cell_type": "markdown",
   "id": "69b0b9af",
   "metadata": {},
   "source": [
    "# JSON 이란?\n",
    "```\n",
    "JavaScript Object Notation\n",
    "키와 값으로 구성된 자바스크립트의 데이타 형태\n",
    "파이썬의 JSON 레퍼런스 https://docs.python.org/ko/3/library/json.html\n",
    "\n",
    "    \n",
    "JSON 예시 - 키와 값의 구조\n",
    "{\n",
    "    \"이름\": \"서태웅\",\n",
    "    \"성별\": \"남\",\n",
    "    \"학교\": \"북산 고등학교 1학년 10반 22번\",\n",
    "    \"특기\": \"농구\",\n",
    "    \"포지션\": \"스몰 포워드(SF)\",\n",
    "    \"별명\": \"여우\",\n",
    "    \"체격\": {\"키\": \"187 ㎝\", \"몸무게\": \" 75 ㎏\", \"혈액형\": \" AB형(Rh+)\"},\n",
    "    \"라이벌\": [\"윤대협\", \"정우성\"]\n",
    " }\n",
    " \n",
    " ```"
   ]
  },
  {
   "cell_type": "markdown",
   "id": "d5e0c818",
   "metadata": {},
   "source": [
    "### json 샘플 사이트 이용하기\n",
    "- http://jsonplaceholder.typicode.com/\n",
    "- url 요청 => json text 데이타 => 리스트 딕셔너리 => 데이타프레임"
   ]
  },
  {
   "cell_type": "code",
   "execution_count": 6,
   "id": "6f7c54f6",
   "metadata": {},
   "outputs": [
    {
     "name": "stdout",
     "output_type": "stream",
     "text": [
      "<Response [200]>\n",
      "<class 'str'>\n"
     ]
    }
   ],
   "source": [
    "# (1) url 요청 => json_text\n",
    "url = 'http://jsonplaceholder.typicode.com/todos'\n",
    "res = requests.get(url)\n",
    "print(res)\n",
    "json_text = res.text\n",
    "print(type(json_text))\n",
    "# print(json_text)"
   ]
  },
  {
   "cell_type": "code",
   "execution_count": 9,
   "id": "c08035cd",
   "metadata": {},
   "outputs": [
    {
     "name": "stdout",
     "output_type": "stream",
     "text": [
      "<class 'list'>\n"
     ]
    }
   ],
   "source": [
    "# 2) json text 데이타 => 리스트 딕셔너리\n",
    "# loads(json형태의텍스트)\n",
    "# 리스트안에 딕셔너리 구조 \n",
    "json_list = json.loads(json_text)\n",
    "print(type(json_list))\n",
    "# json_list"
   ]
  },
  {
   "cell_type": "code",
   "execution_count": 11,
   "id": "dc6e6a43",
   "metadata": {},
   "outputs": [
    {
     "data": {
      "text/plain": [
       "({'userId': 1, 'id': 1, 'title': 'delectus aut autem', 'completed': False},\n",
       " dict)"
      ]
     },
     "execution_count": 11,
     "metadata": {},
     "output_type": "execute_result"
    }
   ],
   "source": [
    "json_list[0], type(json_list[0])"
   ]
  },
  {
   "cell_type": "code",
   "execution_count": 12,
   "id": "6e54e493",
   "metadata": {},
   "outputs": [
    {
     "data": {
      "text/plain": [
       "200"
      ]
     },
     "execution_count": 12,
     "metadata": {},
     "output_type": "execute_result"
    }
   ],
   "source": [
    "len(json_list)"
   ]
  },
  {
   "cell_type": "code",
   "execution_count": 13,
   "id": "8ddd39af",
   "metadata": {},
   "outputs": [
    {
     "data": {
      "text/html": [
       "<div>\n",
       "<style scoped>\n",
       "    .dataframe tbody tr th:only-of-type {\n",
       "        vertical-align: middle;\n",
       "    }\n",
       "\n",
       "    .dataframe tbody tr th {\n",
       "        vertical-align: top;\n",
       "    }\n",
       "\n",
       "    .dataframe thead th {\n",
       "        text-align: right;\n",
       "    }\n",
       "</style>\n",
       "<table border=\"1\" class=\"dataframe\">\n",
       "  <thead>\n",
       "    <tr style=\"text-align: right;\">\n",
       "      <th></th>\n",
       "      <th>userId</th>\n",
       "      <th>id</th>\n",
       "      <th>title</th>\n",
       "      <th>completed</th>\n",
       "    </tr>\n",
       "  </thead>\n",
       "  <tbody>\n",
       "    <tr>\n",
       "      <th>156</th>\n",
       "      <td>8</td>\n",
       "      <td>157</td>\n",
       "      <td>dolorem veniam quisquam deserunt repellendus</td>\n",
       "      <td>True</td>\n",
       "    </tr>\n",
       "    <tr>\n",
       "      <th>129</th>\n",
       "      <td>7</td>\n",
       "      <td>130</td>\n",
       "      <td>nulla aliquid eveniet harum laborum libero ali...</td>\n",
       "      <td>True</td>\n",
       "    </tr>\n",
       "    <tr>\n",
       "      <th>184</th>\n",
       "      <td>10</td>\n",
       "      <td>185</td>\n",
       "      <td>voluptates dignissimos sed doloribus animi qua...</td>\n",
       "      <td>False</td>\n",
       "    </tr>\n",
       "    <tr>\n",
       "      <th>138</th>\n",
       "      <td>7</td>\n",
       "      <td>139</td>\n",
       "      <td>consequatur doloribus id possimus voluptas a v...</td>\n",
       "      <td>False</td>\n",
       "    </tr>\n",
       "    <tr>\n",
       "      <th>42</th>\n",
       "      <td>3</td>\n",
       "      <td>43</td>\n",
       "      <td>tempore ut sint quis recusandae</td>\n",
       "      <td>True</td>\n",
       "    </tr>\n",
       "  </tbody>\n",
       "</table>\n",
       "</div>"
      ],
      "text/plain": [
       "     userId   id                                              title  completed\n",
       "156       8  157       dolorem veniam quisquam deserunt repellendus       True\n",
       "129       7  130  nulla aliquid eveniet harum laborum libero ali...       True\n",
       "184      10  185  voluptates dignissimos sed doloribus animi qua...      False\n",
       "138       7  139  consequatur doloribus id possimus voluptas a v...      False\n",
       "42        3   43                    tempore ut sint quis recusandae       True"
      ]
     },
     "execution_count": 13,
     "metadata": {},
     "output_type": "execute_result"
    }
   ],
   "source": [
    "# 리스트 딕셔너리 => 데이타프레임\n",
    "df = pd.DataFrame(json_list)\n",
    "df.sample(5)"
   ]
  },
  {
   "cell_type": "markdown",
   "id": "3602cdca",
   "metadata": {},
   "source": [
    "# Naver API 검색 서비스 \n",
    "\n",
    "- 네이버 계정 보유 \n",
    "- OPEN API 신청 : 네이버 개발자 센터 \n",
    "```\n",
    "https://developers.naver.com/main/\n",
    "\n",
    "1) 네이버 계정으로 로그인 \n",
    "https://developers.naver.com/main/\n",
    "\n",
    "2) 검색 서비스 API 신청 \n",
    "https://developers.naver.com/products/service-api/search/search.md\n",
    "애플리케이션 등록 (API 이용신청)\n",
    "\n",
    "3) 애플리케이션 등록 \n",
    "- [Application]-[애플리케이션 등록] \n",
    "\n",
    "애플리케이션 이름\n",
    "사용이름은? 검색 \n",
    "환경 => 안드로이드 앱 패키지 이름\n",
    "\n",
    "4) 클라이언트아이디와 클라이언트 시크릿 키 정보 확인 \n",
    "2bPOmVkKFf8eygLmGiMk\n",
    "DllokD9yvw\n",
    "```"
   ]
  },
  {
   "cell_type": "code",
   "execution_count": null,
   "id": "ea2607c5",
   "metadata": {},
   "outputs": [],
   "source": [
    "# 블로그 개발 가이드 \n",
    "# https://developers.naver.com/docs/serviceapi/search/blog/blog.md#%EB%B8%94%EB%A1%9C%EA%B7%B8"
   ]
  },
  {
   "cell_type": "code",
   "execution_count": 35,
   "id": "a603f798",
   "metadata": {
    "scrolled": false
   },
   "outputs": [],
   "source": [
    "# 네이버 검색 API예제는 블로그를 비롯 전문자료까지 호출방법이 동일하므로 blog검색만 대표로 예제를 올렸습니다.\n",
    "# 네이버 검색 Open API 예제 - 블로그 검색\n",
    "import os\n",
    "import sys\n",
    "import urllib.request\n",
    "\n",
    "# 신청한 아이디와 시크릿으로 변경 \n",
    "# client_id = \"YOUR_CLIENT_ID\"\n",
    "# client_secret = \"YOUR_CLIENT_SECRET\"\n",
    "client_id = \"2bPOmVkKFf8eygLmGiMk\"\n",
    "client_secret = \"DllokD9yvw\"\n",
    "\n",
    "# 요청변수 display \n",
    "# display\tinteger\tN\t10(기본값),100(최대)\t검색 결과 출력 건수 지정\n",
    "# 기본주소?요청변수1=값1&요청변수2=값2 \n",
    "# https://openapi.naver.com/v1/search/blog?display=갯수&query=\n",
    "\n",
    "# 검색할 단어를 입력하면 자동으로 주소 생성 \n",
    "encText = urllib.parse.quote(\"오징어 게임\")\n",
    "# url = \"https://openapi.naver.com/v1/search/blog?query=\" + encText # json 결과\n",
    "url = \"https://openapi.naver.com/v1/search/blog?display=50&query=\" + encText # json 결과\n",
    "# print(url)\n",
    "\n",
    "# xml 용 주소 \n",
    "# url = \"https://openapi.naver.com/v1/search/blog.xml?query=\" + encText # xml 결과\n",
    "\n",
    "request = urllib.request.Request(url)\n",
    "request.add_header(\"X-Naver-Client-Id\",client_id)\n",
    "request.add_header(\"X-Naver-Client-Secret\",client_secret)\n",
    "response = urllib.request.urlopen(request)\n",
    "rescode = response.getcode()\n",
    "\n",
    "# 페이지가 정상적으로 접근되어진다면 저장 그렇지 않으면 에러메세지와 코드 출력 \n",
    "if(rescode==200):\n",
    "    response_body = response.read()\n",
    "#     print(response_body.decode('utf-8'))\n",
    "else:\n",
    "    print(\"Error Code:\" + rescode)"
   ]
  },
  {
   "cell_type": "markdown",
   "id": "413b7d89",
   "metadata": {},
   "source": [
    "### json => 리스트 딕셔너리 "
   ]
  },
  {
   "cell_type": "code",
   "execution_count": 18,
   "id": "36b5308a",
   "metadata": {},
   "outputs": [
    {
     "data": {
      "text/plain": [
       "bytes"
      ]
     },
     "execution_count": 18,
     "metadata": {},
     "output_type": "execute_result"
    }
   ],
   "source": [
    "type(response_body)"
   ]
  },
  {
   "cell_type": "code",
   "execution_count": 36,
   "id": "6501f44c",
   "metadata": {},
   "outputs": [
    {
     "name": "stdout",
     "output_type": "stream",
     "text": [
      "<class 'list'>\n"
     ]
    },
    {
     "data": {
      "text/plain": [
       "50"
      ]
     },
     "execution_count": 36,
     "metadata": {},
     "output_type": "execute_result"
    }
   ],
   "source": [
    "# json.loads(response_body) => 딕셔너리 => 리스트 \n",
    "blog_list = json.loads(response_body)['items']\n",
    "print(type(blog_list))\n",
    "len(blog_list)"
   ]
  },
  {
   "cell_type": "code",
   "execution_count": 25,
   "id": "63c93d9a",
   "metadata": {},
   "outputs": [
    {
     "data": {
      "text/plain": [
       "{'title': '<b>오징어 게임</b> 학교 공문. 그리고 지옥 Hellbound (스포없음)',\n",
       " 'link': 'https://blog.naver.com/honeymelong?Redirect=Log&logNo=222578796702',\n",
       " 'description': '아이들이 <b>오징어 게임</b> 시청하고 모방하는 일 없도록 집에서 단속 좀 해달라고. 다른 초등학교에서 통지문 받았다는 이야기는 진작 들었었는데 나도 받고보니 <b>오징어 게임</b> 영향력이 정말 상상 이상인가보다.... ',\n",
       " 'bloggername': '독일이 아니라면 좋을텐데~~ 지금은 그렇다고',\n",
       " 'bloggerlink': 'https://blog.naver.com/honeymelong',\n",
       " 'postdate': '20211125'}"
      ]
     },
     "execution_count": 25,
     "metadata": {},
     "output_type": "execute_result"
    }
   ],
   "source": [
    "blog_list[0]"
   ]
  },
  {
   "cell_type": "code",
   "execution_count": 37,
   "id": "d5d69a59",
   "metadata": {},
   "outputs": [
    {
     "data": {
      "text/html": [
       "<div>\n",
       "<style scoped>\n",
       "    .dataframe tbody tr th:only-of-type {\n",
       "        vertical-align: middle;\n",
       "    }\n",
       "\n",
       "    .dataframe tbody tr th {\n",
       "        vertical-align: top;\n",
       "    }\n",
       "\n",
       "    .dataframe thead th {\n",
       "        text-align: right;\n",
       "    }\n",
       "</style>\n",
       "<table border=\"1\" class=\"dataframe\">\n",
       "  <thead>\n",
       "    <tr style=\"text-align: right;\">\n",
       "      <th></th>\n",
       "      <th>title</th>\n",
       "      <th>link</th>\n",
       "      <th>description</th>\n",
       "      <th>bloggername</th>\n",
       "      <th>bloggerlink</th>\n",
       "      <th>postdate</th>\n",
       "    </tr>\n",
       "  </thead>\n",
       "  <tbody>\n",
       "    <tr>\n",
       "      <th>0</th>\n",
       "      <td>&lt;b&gt;오징어 게임&lt;/b&gt; 학교 공문. 그리고 지옥 Hellbound (스포없음)</td>\n",
       "      <td>https://blog.naver.com/honeymelong?Redirect=Lo...</td>\n",
       "      <td>아이들이 &lt;b&gt;오징어 게임&lt;/b&gt; 시청하고 모방하는 일 없도록 집에서 단속 좀 해달...</td>\n",
       "      <td>독일이 아니라면 좋을텐데~~ 지금은 그렇다고</td>\n",
       "      <td>https://blog.naver.com/honeymelong</td>\n",
       "      <td>20211125</td>\n",
       "    </tr>\n",
       "    <tr>\n",
       "      <th>1</th>\n",
       "      <td>엔젤라 &lt;b&gt;오징어게임&lt;/b&gt; 셀프 젤네일 스티커 후기</td>\n",
       "      <td>https://blog.naver.com/a10000du?Redirect=Log&amp;l...</td>\n",
       "      <td>타협해본 &lt;b&gt;오징어게임&lt;/b&gt; 네일을 소개해보려합니다. 엔젤라 셀프 젤네일 스티커...</td>\n",
       "      <td>만두로그</td>\n",
       "      <td>https://blog.naver.com/a10000du</td>\n",
       "      <td>20211102</td>\n",
       "    </tr>\n",
       "    <tr>\n",
       "      <th>2</th>\n",
       "      <td>[40대삶의지혜]&lt;b&gt;오징어게임&lt;/b&gt;으로 알아 본 사망보험금의 종류</td>\n",
       "      <td>https://blog.naver.com/sybangse?Redirect=Log&amp;l...</td>\n",
       "      <td>하지만 오늘 기사를 보니 10년간 169억회의 유튜브 영상 조회수를 기록했던 왕좌의...</td>\n",
       "      <td>서울휘의 SideProject school</td>\n",
       "      <td>https://blog.naver.com/sybangse</td>\n",
       "      <td>20211126</td>\n",
       "    </tr>\n",
       "  </tbody>\n",
       "</table>\n",
       "</div>"
      ],
      "text/plain": [
       "                                          title  \\\n",
       "0  <b>오징어 게임</b> 학교 공문. 그리고 지옥 Hellbound (스포없음)   \n",
       "1                엔젤라 <b>오징어게임</b> 셀프 젤네일 스티커 후기   \n",
       "2        [40대삶의지혜]<b>오징어게임</b>으로 알아 본 사망보험금의 종류   \n",
       "\n",
       "                                                link  \\\n",
       "0  https://blog.naver.com/honeymelong?Redirect=Lo...   \n",
       "1  https://blog.naver.com/a10000du?Redirect=Log&l...   \n",
       "2  https://blog.naver.com/sybangse?Redirect=Log&l...   \n",
       "\n",
       "                                         description  \\\n",
       "0  아이들이 <b>오징어 게임</b> 시청하고 모방하는 일 없도록 집에서 단속 좀 해달...   \n",
       "1  타협해본 <b>오징어게임</b> 네일을 소개해보려합니다. 엔젤라 셀프 젤네일 스티커...   \n",
       "2  하지만 오늘 기사를 보니 10년간 169억회의 유튜브 영상 조회수를 기록했던 왕좌의...   \n",
       "\n",
       "                bloggername                         bloggerlink  postdate  \n",
       "0  독일이 아니라면 좋을텐데~~ 지금은 그렇다고  https://blog.naver.com/honeymelong  20211125  \n",
       "1                      만두로그     https://blog.naver.com/a10000du  20211102  \n",
       "2   서울휘의 SideProject school     https://blog.naver.com/sybangse  20211126  "
      ]
     },
     "execution_count": 37,
     "metadata": {},
     "output_type": "execute_result"
    }
   ],
   "source": [
    "# 리스트 딕셔너리 => 데이타프레임 \n",
    "df_blog = pd.DataFrame(blog_list)\n",
    "df_blog.head(3)"
   ]
  },
  {
   "cell_type": "code",
   "execution_count": 27,
   "id": "9cfb7771",
   "metadata": {},
   "outputs": [
    {
     "data": {
      "text/plain": [
       "Index(['title', 'link', 'description', 'bloggername', 'bloggerlink',\n",
       "       'postdate'],\n",
       "      dtype='object')"
      ]
     },
     "execution_count": 27,
     "metadata": {},
     "output_type": "execute_result"
    }
   ],
   "source": [
    "df_blog.columns"
   ]
  },
  {
   "cell_type": "code",
   "execution_count": 32,
   "id": "3294c15c",
   "metadata": {},
   "outputs": [
    {
     "data": {
      "text/html": [
       "<div>\n",
       "<style scoped>\n",
       "    .dataframe tbody tr th:only-of-type {\n",
       "        vertical-align: middle;\n",
       "    }\n",
       "\n",
       "    .dataframe tbody tr th {\n",
       "        vertical-align: top;\n",
       "    }\n",
       "\n",
       "    .dataframe thead th {\n",
       "        text-align: right;\n",
       "    }\n",
       "</style>\n",
       "<table border=\"1\" class=\"dataframe\">\n",
       "  <thead>\n",
       "    <tr style=\"text-align: right;\">\n",
       "      <th></th>\n",
       "      <th>title</th>\n",
       "      <th>link</th>\n",
       "      <th>description</th>\n",
       "      <th>postdate</th>\n",
       "    </tr>\n",
       "  </thead>\n",
       "  <tbody>\n",
       "  </tbody>\n",
       "</table>\n",
       "</div>"
      ],
      "text/plain": [
       "Empty DataFrame\n",
       "Columns: [title, link, description, postdate]\n",
       "Index: []"
      ]
     },
     "execution_count": 32,
     "metadata": {},
     "output_type": "execute_result"
    }
   ],
   "source": [
    "# <b>~</b> 태그 없애기 \n",
    "# 리스트 딕셔너리 => 데이타프레임 \n",
    "# 1) 비어있는 데이타 프레임 생성 \n",
    "df_blog2 = pd.DataFrame(columns=['title', 'link', 'description', 'postdate'])\n",
    "df_blog2"
   ]
  },
  {
   "cell_type": "code",
   "execution_count": 38,
   "id": "568b5f1b",
   "metadata": {},
   "outputs": [],
   "source": [
    "# 행이름 인덱스\n",
    "idx = 1\n",
    "for dict in blog_list:\n",
    "    title = dict['title'].replace('<b>', '').replace('</b>', '')\n",
    "    link = dict['link']\n",
    "    description = dict['description'].replace('<b>', '').replace('</b>', '')\n",
    "    postdate = dict['postdate']\n",
    "    # 한행씩 추가 \n",
    "    df_blog2.loc[idx] = [title, link, description, postdate]\n",
    "    idx += 1"
   ]
  },
  {
   "cell_type": "code",
   "execution_count": 34,
   "id": "81cc81af",
   "metadata": {},
   "outputs": [
    {
     "data": {
      "text/html": [
       "<div>\n",
       "<style scoped>\n",
       "    .dataframe tbody tr th:only-of-type {\n",
       "        vertical-align: middle;\n",
       "    }\n",
       "\n",
       "    .dataframe tbody tr th {\n",
       "        vertical-align: top;\n",
       "    }\n",
       "\n",
       "    .dataframe thead th {\n",
       "        text-align: right;\n",
       "    }\n",
       "</style>\n",
       "<table border=\"1\" class=\"dataframe\">\n",
       "  <thead>\n",
       "    <tr style=\"text-align: right;\">\n",
       "      <th></th>\n",
       "      <th>title</th>\n",
       "      <th>link</th>\n",
       "      <th>description</th>\n",
       "      <th>postdate</th>\n",
       "    </tr>\n",
       "  </thead>\n",
       "  <tbody>\n",
       "    <tr>\n",
       "      <th>3</th>\n",
       "      <td>[40대삶의지혜]오징어게임으로 알아 본 사망보험금의 종류</td>\n",
       "      <td>https://blog.naver.com/sybangse?Redirect=Log&amp;l...</td>\n",
       "      <td>하지만 오늘 기사를 보니 10년간 169억회의 유튜브 영상 조회수를 기록했던 왕좌의...</td>\n",
       "      <td>20211126</td>\n",
       "    </tr>\n",
       "    <tr>\n",
       "      <th>10</th>\n",
       "      <td>오징어 게임 MBTI 테스트 나와 맞는 참가자 찾아보기</td>\n",
       "      <td>https://blog.naver.com/vvvooo8207?Redirect=Log...</td>\n",
       "      <td>한동안 쉬다가 요새 괜찮은 심리게임이 있다고 해서 한번 참여해봤다. 찾아보니 오징어...</td>\n",
       "      <td>20211029</td>\n",
       "    </tr>\n",
       "    <tr>\n",
       "      <th>2</th>\n",
       "      <td>엔젤라 오징어게임 셀프 젤네일 스티커 후기</td>\n",
       "      <td>https://blog.naver.com/a10000du?Redirect=Log&amp;l...</td>\n",
       "      <td>타협해본 오징어게임 네일을 소개해보려합니다. 엔젤라 셀프 젤네일 스티커 [ 젤리블리...</td>\n",
       "      <td>20211102</td>\n",
       "    </tr>\n",
       "  </tbody>\n",
       "</table>\n",
       "</div>"
      ],
      "text/plain": [
       "                              title  \\\n",
       "3   [40대삶의지혜]오징어게임으로 알아 본 사망보험금의 종류   \n",
       "10   오징어 게임 MBTI 테스트 나와 맞는 참가자 찾아보기   \n",
       "2           엔젤라 오징어게임 셀프 젤네일 스티커 후기   \n",
       "\n",
       "                                                 link  \\\n",
       "3   https://blog.naver.com/sybangse?Redirect=Log&l...   \n",
       "10  https://blog.naver.com/vvvooo8207?Redirect=Log...   \n",
       "2   https://blog.naver.com/a10000du?Redirect=Log&l...   \n",
       "\n",
       "                                          description  postdate  \n",
       "3   하지만 오늘 기사를 보니 10년간 169억회의 유튜브 영상 조회수를 기록했던 왕좌의...  20211126  \n",
       "10  한동안 쉬다가 요새 괜찮은 심리게임이 있다고 해서 한번 참여해봤다. 찾아보니 오징어...  20211029  \n",
       "2   타협해본 오징어게임 네일을 소개해보려합니다. 엔젤라 셀프 젤네일 스티커 [ 젤리블리...  20211102  "
      ]
     },
     "execution_count": 34,
     "metadata": {},
     "output_type": "execute_result"
    }
   ],
   "source": [
    "df_blog2.sample(3)"
   ]
  },
  {
   "cell_type": "code",
   "execution_count": 39,
   "id": "008218ad",
   "metadata": {},
   "outputs": [
    {
     "data": {
      "text/plain": [
       "(50, 4)"
      ]
     },
     "execution_count": 39,
     "metadata": {},
     "output_type": "execute_result"
    }
   ],
   "source": [
    "df_blog2.shape"
   ]
  },
  {
   "cell_type": "code",
   "execution_count": 40,
   "id": "13571c8e",
   "metadata": {},
   "outputs": [],
   "source": [
    "df_blog2.to_csv('output/blog_오징어게임.csv')"
   ]
  },
  {
   "cell_type": "markdown",
   "id": "21e63e2f",
   "metadata": {},
   "source": [
    "# 퀴즈  : 네이버 책 검색 API \n",
    "\n",
    "\n",
    "https://developers.naver.com/docs/serviceapi/search/book/book.md#%EC%B1%85\n",
    "\n",
    "- 함수로 정의 \n",
    "- 함수 실행시 검색어(책제목) => ?\n",
    "- 검색어에 대한 검색 결과가 데이타 프레임으로 출력\n",
    "- 검색 결과의 갯수는 임의 지정 \n",
    "\n",
    "```\n",
    "# 함수 호출 \n",
    "book_api()\n",
    "\n",
    "검색어(책제목) => ?\n",
    "\n",
    "```"
   ]
  },
  {
   "cell_type": "code",
   "execution_count": 3,
   "id": "ba6d6397",
   "metadata": {},
   "outputs": [],
   "source": [
    "import os\n",
    "import sys\n",
    "import urllib.request"
   ]
  },
  {
   "cell_type": "code",
   "execution_count": 31,
   "id": "a0fee96c",
   "metadata": {},
   "outputs": [],
   "source": [
    "def book_api():\n",
    "    # 신청한 아이디와 시크릿으로 변경 \n",
    "    # client_id = \"YOUR_CLIENT_ID\"\n",
    "    # client_secret = \"YOUR_CLIENT_SECRET\"\n",
    "    client_id = \"2bPOmVkKFf8eygLmGiMk\"\n",
    "    client_secret = \"DllokD9yvw\"\n",
    "\n",
    "    # 검색할 단어를 입력하면 자동으로 주소 생성 \n",
    "    book = input('검색어(책제목) =>')\n",
    "    encText = urllib.parse.quote(book)\n",
    "    url = \"https://openapi.naver.com/v1/search/book?display=100&query=\" + encText # json 결과\n",
    "    \n",
    "    request = urllib.request.Request(url)\n",
    "    request.add_header(\"X-Naver-Client-Id\",client_id)\n",
    "    request.add_header(\"X-Naver-Client-Secret\",client_secret)\n",
    "    response = urllib.request.urlopen(request)\n",
    "    rescode = response.getcode()\n",
    "\n",
    "    # 페이지가 정상적으로 접근되어진다면 저장 그렇지 않으면 에러메세지와 코드 출력 \n",
    "    if(rescode==200):\n",
    "        response_body = response.read()\n",
    "    else:\n",
    "        print(\"Error Code:\" + rescode)\n",
    "    \n",
    "    book_list = json.loads(response_body)['items']\n",
    "    df_book = pd.DataFrame(book_list)\n",
    "    df_book['title'] = df_book['title'].apply(lambda x:x.replace('<b>','').replace('</b>',''))\n",
    "    df_book = df_book[['title', 'author', 'price','discount', 'isbn']]\n",
    "    return df_book"
   ]
  },
  {
   "cell_type": "code",
   "execution_count": 32,
   "id": "06d8279a",
   "metadata": {},
   "outputs": [
    {
     "name": "stdout",
     "output_type": "stream",
     "text": [
      "검색어(책제목) =>어린왕자\n"
     ]
    },
    {
     "data": {
      "text/html": [
       "<div>\n",
       "<style scoped>\n",
       "    .dataframe tbody tr th:only-of-type {\n",
       "        vertical-align: middle;\n",
       "    }\n",
       "\n",
       "    .dataframe tbody tr th {\n",
       "        vertical-align: top;\n",
       "    }\n",
       "\n",
       "    .dataframe thead th {\n",
       "        text-align: right;\n",
       "    }\n",
       "</style>\n",
       "<table border=\"1\" class=\"dataframe\">\n",
       "  <thead>\n",
       "    <tr style=\"text-align: right;\">\n",
       "      <th></th>\n",
       "      <th>title</th>\n",
       "      <th>author</th>\n",
       "      <th>price</th>\n",
       "      <th>discount</th>\n",
       "      <th>isbn</th>\n",
       "    </tr>\n",
       "  </thead>\n",
       "  <tbody>\n",
       "    <tr>\n",
       "      <th>0</th>\n",
       "      <td>2022년 어린왕자 마음의 눈으로 보이는 것들 탁상 달력</td>\n",
       "      <td>북엔 편집부</td>\n",
       "      <td>9800</td>\n",
       "      <td>5880</td>\n",
       "      <td>9529012071 8809529012073</td>\n",
       "    </tr>\n",
       "    <tr>\n",
       "      <th>1</th>\n",
       "      <td>어린 왕자 (Le Petit Prince)</td>\n",
       "      <td>생텍쥐페리</td>\n",
       "      <td>9800</td>\n",
       "      <td>8800</td>\n",
       "      <td>8932917248 9788932917245</td>\n",
       "    </tr>\n",
       "    <tr>\n",
       "      <th>2</th>\n",
       "      <td>어린왕자 (초판본)</td>\n",
       "      <td>생텍쥐페리</td>\n",
       "      <td>9800</td>\n",
       "      <td>8800</td>\n",
       "      <td>1159039690 9791159039690</td>\n",
       "    </tr>\n",
       "    <tr>\n",
       "      <th>3</th>\n",
       "      <td>단계별 영어 원서 나도 이제 영어로 읽는다 어린 왕자 (사전 없이도 읽을 수 있는 ...</td>\n",
       "      <td>앙투안 드 생텍쥐페리</td>\n",
       "      <td>17900</td>\n",
       "      <td>16110</td>\n",
       "      <td>1197005617 9791197005619</td>\n",
       "    </tr>\n",
       "    <tr>\n",
       "      <th>4</th>\n",
       "      <td>2022년 어린왕자 일력</td>\n",
       "      <td>미르북컴퍼니 편집부</td>\n",
       "      <td>19800</td>\n",
       "      <td>15840</td>\n",
       "      <td>952901225X 8809529012257</td>\n",
       "    </tr>\n",
       "    <tr>\n",
       "      <th>...</th>\n",
       "      <td>...</td>\n",
       "      <td>...</td>\n",
       "      <td>...</td>\n",
       "      <td>...</td>\n",
       "      <td>...</td>\n",
       "    </tr>\n",
       "    <tr>\n",
       "      <th>95</th>\n",
       "      <td>어린왕자</td>\n",
       "      <td>생텍쥐페리</td>\n",
       "      <td>9500</td>\n",
       "      <td>8550</td>\n",
       "      <td>8914020258 9788914020253</td>\n",
       "    </tr>\n",
       "    <tr>\n",
       "      <th>96</th>\n",
       "      <td>어린왕자 (중학생독후감필독선 1)</td>\n",
       "      <td>생텍쥐페리</td>\n",
       "      <td>8000</td>\n",
       "      <td>7200</td>\n",
       "      <td>8935909521 9788935909520</td>\n",
       "    </tr>\n",
       "    <tr>\n",
       "      <th>97</th>\n",
       "      <td>어린왕자</td>\n",
       "      <td>앙투안 드 생택쥐페리</td>\n",
       "      <td>8800</td>\n",
       "      <td>7920</td>\n",
       "      <td>1191200159 9791191200157</td>\n",
       "    </tr>\n",
       "    <tr>\n",
       "      <th>98</th>\n",
       "      <td>어린 왕자 (내 안의 구도자,모든 어른의 마음속에는 울고 있는 아이가 있다)</td>\n",
       "      <td>박규현</td>\n",
       "      <td>13000</td>\n",
       "      <td>11700</td>\n",
       "      <td>1195465319 9791195465316</td>\n",
       "    </tr>\n",
       "    <tr>\n",
       "      <th>99</th>\n",
       "      <td>어린왕자 (The Little Prince,주석판 20)</td>\n",
       "      <td>생텍쥐페리</td>\n",
       "      <td>3900</td>\n",
       "      <td>3510</td>\n",
       "      <td>8972201324 9788972201328</td>\n",
       "    </tr>\n",
       "  </tbody>\n",
       "</table>\n",
       "<p>100 rows × 5 columns</p>\n",
       "</div>"
      ],
      "text/plain": [
       "                                                title       author  price  \\\n",
       "0                     2022년 어린왕자 마음의 눈으로 보이는 것들 탁상 달력       북엔 편집부   9800   \n",
       "1                             어린 왕자 (Le Petit Prince)        생텍쥐페리   9800   \n",
       "2                                          어린왕자 (초판본)        생텍쥐페리   9800   \n",
       "3   단계별 영어 원서 나도 이제 영어로 읽는다 어린 왕자 (사전 없이도 읽을 수 있는 ...  앙투안 드 생텍쥐페리  17900   \n",
       "4                                       2022년 어린왕자 일력   미르북컴퍼니 편집부  19800   \n",
       "..                                                ...          ...    ...   \n",
       "95                                               어린왕자        생텍쥐페리   9500   \n",
       "96                                 어린왕자 (중학생독후감필독선 1)        생텍쥐페리   8000   \n",
       "97                                               어린왕자  앙투안 드 생택쥐페리   8800   \n",
       "98         어린 왕자 (내 안의 구도자,모든 어른의 마음속에는 울고 있는 아이가 있다)          박규현  13000   \n",
       "99                    어린왕자 (The Little Prince,주석판 20)        생텍쥐페리   3900   \n",
       "\n",
       "   discount                      isbn  \n",
       "0      5880  9529012071 8809529012073  \n",
       "1      8800  8932917248 9788932917245  \n",
       "2      8800  1159039690 9791159039690  \n",
       "3     16110  1197005617 9791197005619  \n",
       "4     15840  952901225X 8809529012257  \n",
       "..      ...                       ...  \n",
       "95     8550  8914020258 9788914020253  \n",
       "96     7200  8935909521 9788935909520  \n",
       "97     7920  1191200159 9791191200157  \n",
       "98    11700  1195465319 9791195465316  \n",
       "99     3510  8972201324 9788972201328  \n",
       "\n",
       "[100 rows x 5 columns]"
      ]
     },
     "execution_count": 32,
     "metadata": {},
     "output_type": "execute_result"
    }
   ],
   "source": [
    "book_api()"
   ]
  },
  {
   "cell_type": "code",
   "execution_count": 8,
   "id": "9ba4d93b",
   "metadata": {},
   "outputs": [],
   "source": [
    "import xmltodict"
   ]
  },
  {
   "cell_type": "code",
   "execution_count": 29,
   "id": "4b48272f",
   "metadata": {},
   "outputs": [],
   "source": [
    "def book_api_xml():\n",
    "    # 신청한 아이디와 시크릿으로 변경 \n",
    "    # client_id = \"YOUR_CLIENT_ID\"\n",
    "    # client_secret = \"YOUR_CLIENT_SECRET\"\n",
    "    client_id = \"2bPOmVkKFf8eygLmGiMk\"\n",
    "    client_secret = \"DllokD9yvw\"\n",
    "\n",
    "    # 검색할 단어를 입력하면 자동으로 주소 생성 \n",
    "    book = input('검색어(책제목) =>')\n",
    "    encText = urllib.parse.quote(book)\n",
    "    url = \"https://openapi.naver.com/v1/search/book.xml?display=100&query=\" + encText # json 결과\n",
    "    \n",
    "    request = urllib.request.Request(url)\n",
    "    request.add_header(\"X-Naver-Client-Id\",client_id)\n",
    "    request.add_header(\"X-Naver-Client-Secret\",client_secret)\n",
    "    response = urllib.request.urlopen(request)\n",
    "    rescode = response.getcode()\n",
    "\n",
    "    # 페이지가 정상적으로 접근되어진다면 저장 그렇지 않으면 에러메세지와 코드 출력 \n",
    "    if(rescode==200):\n",
    "        response_body = response.read()\n",
    "#         print(response_body)\n",
    "    else:\n",
    "        print(\"Error Code:\" + rescode)\n",
    "    \n",
    "    orderedDict_data = xmltodict.parse(response_body)\n",
    "#     print(orderedDict_data)\n",
    "    dict_data = json.loads(json.dumps(orderedDict_data))\n",
    "    book_list = dict_data['rss']['channel']['item']\n",
    "#     print(book_list)\n",
    "    df_book = pd.DataFrame(book_list)\n",
    "    df_book['title'] = df_book['title'].apply(lambda x:x.replace('<b>','').replace('</b>',''))\n",
    "    df_book = df_book[['title', 'author', 'price','discount', 'isbn']]\n",
    "    return df_book"
   ]
  },
  {
   "cell_type": "code",
   "execution_count": 30,
   "id": "fa19963f",
   "metadata": {},
   "outputs": [
    {
     "name": "stdout",
     "output_type": "stream",
     "text": [
      "검색어(책제목) =>어린왕자\n",
      "[{'title': '2022년 <b>어린왕자</b> 마음의 눈으로 보이는 것들 탁상 달력', 'link': 'http://book.naver.com/bookdb/book_detail.php?bid=20949296', 'image': 'https://bookthumb-phinf.pstatic.net/cover/209/492/20949296.jpg?type=m1&udate=20210930', 'author': '북엔 편집부', 'price': '9800', 'discount': '5880', 'publisher': '북엔(BOOK&_)', 'pubdate': '20211004', 'isbn': '9529012071 8809529012073', 'description': '그는 항공 조종사로도 유명하지만, 사실 어린이만큼이나 더 천진난만한 동심 가득한 작가였다.〈2022년 <b>어린왕자</b> 탁상 달력 : 마음의 눈으로 보아야 비로소 보이는 것들〉은어른이 읽으면 어린이가 되고 어린이가 읽으면 어른이 되는, 감성적인 시간들을 그린 소설 《<b>어린 왕자</b>》 속 명언과 작가 생텍쥐페리의...'}, {'title': '<b>어린 왕자</b> (Le Petit Prince)', 'link': 'http://book.naver.com/bookdb/book_detail.php?bid=9700399', 'image': 'https://bookthumb-phinf.pstatic.net/cover/097/003/09700399.jpg?type=m1&udate=20210920', 'author': '생텍쥐페리', 'price': '9800', 'discount': '8800', 'publisher': '열린책들', 'pubdate': '20151020', 'isbn': '8932917248 9788932917245', 'description': '전 세계인들의 사랑을 받은 가장 아름다운 이야기, 생텍쥐페리의 &lt;<b>어린 왕자</b>&gt;가 문학 평론가 황현산의... 원문 텍스트 선택부터 번역의 마무리 작업까지, 국내에 출간된 많은 &lt;<b>어린 왕자</b>&gt; 중에서도 특히 원전의 가치를 충실히 살린 한국어 결정판을 마련하고자 했다. 다른 별에서 온 <b>어린 왕자</b>의 순수한...'}, {'title': '<b>어린왕자</b> (초판본)', 'link': 'http://book.naver.com/bookdb/book_detail.php?bid=13994490', 'image': 'https://bookthumb-phinf.pstatic.net/cover/139/944/13994490.jpg?type=m1&udate=20210929', 'author': '생텍쥐페리', 'price': '9800', 'discount': '8800', 'publisher': '더스토리', 'pubdate': '20180910', 'isbn': '1159039690 9791159039690', 'description': '세상에서 가장 순수한 영혼,\\n ‘<b>어린 왕자</b>’ 이야기\\n 오리지널 초판본 표지디자인!세상에서 가장 순수한 영혼, 《<b>어린 왕자</b>》 오리지널 초판본 표지디자인!\\n생텍쥐페리는 프랑스의 유명한 소설가로, 그의 작품 《<b>어린 왕자</b>》는 전 세계적으로 《성경》, 《자본론》 다음으로 많이 읽히는 책이다. 250여 개 언어로...'}, {'title': '단계별 영어 원서 나도 이제 영어로 읽는다 <b>어린 왕자</b> (사전 없이도 읽을 수 있는 단계별 영어원서)', 'link': 'http://book.naver.com/bookdb/book_detail.php?bid=16345257', 'image': 'https://bookthumb-phinf.pstatic.net/cover/163/452/16345257.jpg?type=m1&udate=20200718', 'author': '앙투안 드 생텍쥐페리', 'price': '17900', 'discount': '16110', 'publisher': '동행', 'pubdate': '20200504', 'isbn': '1197005617 9791197005619', 'description': '“영어 초보도 사전 없이 ‘<b>어린 왕자</b>’ 원서로 읽는다”\\n\\n다섯 단계의 맞춤형 구성 단계별 원서... 27장으로 구성된 <b>어린 왕자</b> 원문을 취사선택하지 않고 같은 장을 단어와 문장만을 달리해 다섯... 독자가 일련의 과정을 통해 같은 내용을 반복해 읽다 보면 자연스럽게 <b>어린 왕자</b>의 원문도 부담 없이 읽을...'}, {'title': '2022년 <b>어린왕자</b> 일력', 'link': 'http://book.naver.com/bookdb/book_detail.php?bid=21162171', 'image': 'https://bookthumb-phinf.pstatic.net/cover/211/621/21162171.jpg?type=m1&udate=20211116', 'author': '미르북컴퍼니 편집부', 'price': '19800', 'discount': '15840', 'publisher': '북엔(BOOK&_)', 'pubdate': '20211120', 'isbn': '952901225X 8809529012257', 'description': \"<b>어린 왕자</b>와 만나는 순간, 삶의 진정한 가치를 만난다.'2022 <b>어린 왕자</b>' 일력은내가 몰랐던 나를 발견하고, 나와 내 감정을 더 잘 알아가기 위한매일매일 새로운 365개의 질문에 직접 답할 수 있는 기회를 제공합니다.질문 밑에 직접 쓸 수 있게 밑줄이 그어져 있어내가 무슨 생각을 평소에 하고 있는지 알 수...\"}, {'title': '나만의 필사책 <b>어린 왕자</b> (마음을 다해 쓰는 글씨)', 'link': 'http://book.naver.com/bookdb/book_detail.php?bid=18121812', 'image': 'https://bookthumb-phinf.pstatic.net/cover/181/218/18121812.jpg?type=m1&udate=20211110', 'author': '생텍쥐페리', 'price': '16500', 'discount': '14800', 'publisher': '마음시선', 'pubdate': '20210325', 'isbn': '1197153322 9791197153327', 'description': '나만의 손글씨와 그림으로  세상에서 단 하나뿐인 ‘<b>어린 왕자</b>’를 만나다‘마음을 다해 쓰는 글씨, 나만의 필사책’ 시리즈를 여는 첫 책, 생텍쥐페리의 《<b>어린 왕자</b>》입니다. ‘나만의 필사책’ 시리즈는... 친숙한 《<b>어린 왕자</b>》로 필사책을 만들었습니다. 독서를 처음 시작하는 아이들도 편안하게 느낄 수...'}, {'title': '<b>어린왕자</b>', 'link': 'http://book.naver.com/bookdb/book_detail.php?bid=2521170', 'image': 'https://bookthumb-phinf.pstatic.net/cover/025/211/02521170.jpg?type=m1&udate=20200122', 'author': '생텍쥐페리', 'price': '9800', 'discount': '8820', 'publisher': '인디고', 'pubdate': '20060925', 'isbn': '8995772425 9788995772423', 'description': '환상적이고 감성적인 일러스트가 더해진 &lt;<b>어린왕자</b>&gt;\\n\\n전 세계의 독자들에게 사랑받아온 고전 &lt;<b>어린왕자</b>&gt;에 감성적인 일러스트를 더해 새롭게... 순수한 영혼을 지닌 <b>어린왕자</b>의 이야기를 그린 생택쥐페리의 대표작으로, 코끼리를 삼킨 보아 구렁이, 사랑과 소유에 대한 여우의 상징적 표현 등을 통해...'}, {'title': '<b>어린 왕자</b>', 'link': 'http://book.naver.com/bookdb/book_detail.php?bid=18990665', 'image': 'https://bookthumb-phinf.pstatic.net/cover/189/906/18990665.jpg?type=m1&udate=20210421', 'author': '앙투안 드 생텍쥐페리', 'price': '11000', 'discount': '9900', 'publisher': '삼인', 'pubdate': '20210430', 'isbn': '8964361946 9788964361948', 'description': '프랑스어와 한국어의 속살을 가장 섬세하게 헤아린 『<b>어린 왕자</b>』 한국어 결정판 출간!소설가이자 저널리스트, 그리고 언어학자로서 다양한 주제를 다룬... 생텍쥐페리의 『<b>어린 왕자</b>』를 한국어로 옮긴 것이다. 간략히 말해 지금까지 한국어로 번역 출간된 그 어떤 『<b>어린 왕자</b>』 판본보다 정확하고 아름다운...'}, {'title': '<b>어린왕자</b> (비룡소 클래식 14)', 'link': 'http://book.naver.com/bookdb/book_detail.php?bid=1510958', 'image': 'https://bookthumb-phinf.pstatic.net/cover/015/109/01510958.jpg?type=m1&udate=20190124', 'author': '생텍쥐페리', 'price': '8000', 'discount': '7200', 'publisher': '비룡소', 'pubdate': '20050125', 'isbn': '8949140861 9788949140865', 'description': \"<b>어린 왕자</b>&gt;가 '비룡소 클래식' 시리즈 열네 번째, 새로운 판본으로 나왔다. 해방 이후 가장 많이 읽힌 해외 문학 작품 중 하나로 기록되며, 어른과 아이 모두에게 끊임없이 사랑받는 &lt;<b>어린 왕자</b>&gt;는 시간의 흐름을 뛰어넘어 이른바 고전의 반열에 오를 만한 작품이다.  이번에 나온 &lt;<b>어린 왕자</b>&gt;는...\"}, {'title': '2021 <b>어린왕자</b> 벽걸이 달력 (비비드)', 'link': 'http://book.naver.com/bookdb/book_detail.php?bid=17358694', 'image': 'https://bookthumb-phinf.pstatic.net/cover/173/586/17358694.jpg?type=m1&udate=20201114', 'author': '미르북컴퍼니 편집부', 'price': '12000', 'discount': '7200', 'publisher': '북엔(BOOK&_)', 'pubdate': '20211115', 'isbn': '952901175X 8809529011755', 'description': None}, {'title': '2022년 <b>어린왕자</b> 마음의 눈으로 보이는 것들 벽걸이 달력 (중형 A3)', 'link': 'http://book.naver.com/bookdb/book_detail.php?bid=20949298', 'image': 'https://bookthumb-phinf.pstatic.net/cover/209/492/20949298.jpg?type=m1&udate=20210930', 'author': '북엔 편집부', 'price': '15800', 'discount': '9480', 'publisher': '북엔(BOOK&_)', 'pubdate': '20211004', 'isbn': '952901211X 8809529012110', 'description': '그는 항공 조종사로도 유명하지만, 사실 어린이만큼이나 더 천진난만한 동심 가득한 작가였다.〈2022년 <b>어린왕자</b> 벽걸이 달력 : 마음의 눈으로 보아야 비로소 보이는 것들〉은어른이 읽으면 어린이가 되고 어린이가 읽으면 어른이 되는, 감성적인 시간들을 그린 소설 《<b>어린 왕자</b>》 속 명언과 작가 생텍쥐페리의...'}, {'title': '<b>어린왕자</b> 마음의 눈으로 보이는 것들 탁상 달력(소형)(2022)', 'link': 'http://book.naver.com/bookdb/book_detail.php?bid=21026412', 'image': 'https://bookthumb-phinf.pstatic.net/cover/210/264/21026412.jpg?type=m1&udate=20210930', 'author': '북엔 편집부', 'price': '7800', 'discount': '4680', 'publisher': '북엔', 'pubdate': '20211004', 'isbn': '952901208X 8809529012080', 'description': '그는 항공 조종사로도 유명하지만, 사실 어린이만큼이나 더 천진난만한 동심 가득한 작가였다.〈2022년 <b>어린왕자</b> 탁상 달력 : 마음의 눈으로 보아야 비로소 보이는 것들〉은어른이 읽으면 어린이가 되고 어린이가 읽으면 어른이 되는, 감성적인 시간들을 그린 소설 《<b>어린 왕자</b>》 속 명언과 작가 생텍쥐페리의...'}, {'title': '<b>어린 왕자</b>(소프트커버 에디션) (개정판)', 'link': 'http://book.naver.com/bookdb/book_detail.php?bid=16713854', 'image': 'https://bookthumb-phinf.pstatic.net/cover/167/138/16713854.jpg?type=m1&udate=20201126', 'author': '앙투안 드 생텍쥐페리', 'price': '8000', 'discount': '7200', 'publisher': '문예출판사', 'pubdate': '20200922', 'isbn': '8931021291 9788931021295', 'description': '문예출판사 《<b>어린 왕자</b>》 소프트커버 에디션문예출판사가 전성자 선생의 원전에 가까운 아름다운 번역과 새로운 디자인으로 《<b>어린 왕자</b>》 소프트커버 에디션을 선보인다. 기존에 문예출판사에서 하드커버로 출간된 《<b>어린 왕자</b>: 0629 에디션》을 소프트커버로 바꾸고, 금박을 입힌 고급스러운 디자인으로...'}, {'title': '<b>어린 왕자</b> 5년 후 나에게 Q&A a day', 'link': 'http://book.naver.com/bookdb/book_detail.php?bid=17468139', 'image': 'https://bookthumb-phinf.pstatic.net/cover/174/681/17468139.jpg?type=m1&udate=20201120', 'author': '더모던 편집부', 'price': '16800', 'discount': '15120', 'publisher': '더모던', 'pubdate': '20210102', 'isbn': '1164453483 9791164453481', 'description': '생텍쥐페리 탄생 120주년을 맞아 더모던 편집부에서 《<b>어린 왕자</b> 5년 후 나에게 Q&A a day》를 선보인다. 매 페이지마다 <b>어린 왕자</b>의... 《<b>어린 왕자</b> 5년 후 나에게 Q&A a day》는 내가 몰랐던 나를 발견하고, 나와 내 감정을 더 잘 알아가기 위한 매일매일 새로운 365개의 질문에...'}, {'title': '<b>어린왕자</b>', 'link': 'http://book.naver.com/bookdb/book_detail.php?bid=2911593', 'image': 'https://bookthumb-phinf.pstatic.net/cover/029/115/02911593.jpg?type=m1&udate=20121207', 'author': '생텍쥐페리', 'price': '9500', 'discount': '8550', 'publisher': '문학동네', 'pubdate': '20070508', 'isbn': '8954603092 9788954603096', 'description': \"이 세상에 남아 있는 마지막 순수와 아름다움을 간직한 <b>어린왕자</b>의 이야기. 생텍쥐페리의 대표작으로... 소행성 B 612에서 온 <b>어린 왕자</b>와 사막에 불시착한 비행기 조종사인 '나'의 만남으로부터 이야기는 시작된다. 나는 여러 행성을 여행하기 위해 B 612라는 소행성에서 온 <b>어린왕자</b>가 들려주는 일곱 군데의...\"}, {'title': '<b>어린 왕자</b> 1943년 오리지널 초판본 표지디자인 (1943년 오리지널 초판본 표지디자인)', 'link': 'http://book.naver.com/bookdb/book_detail.php?bid=21010307', 'image': 'https://bookthumb-phinf.pstatic.net/cover/210/103/21010307.jpg?type=m1&udate=20211028', 'author': '생텍쥐페리', 'price': '7700', 'discount': '6900', 'publisher': '더스토리', 'pubdate': '20211004', 'isbn': '1164455303 9791164455300', 'description': '전 세계인이 가장 사랑하는 스테디셀러!250여 개 언어로 번역, 1억 부 이상 판매된 명작!2021 한-프랑스 수교 135주년 기념, 《<b>어린 왕자</b>》 1943년 초판본 표지디자인 출간!“사막이 아름다운 건 우물을 숨기고 있기 때문이야.”_<b>어린 왕자</b>더스토리에서 출간한 무선 초판본 표지디자인 《<b>어린 왕자</b>》는 1943년...'}, {'title': '<b>어린 왕자</b> (생텍쥐페리 탄생 120주년 기념 에디션) (생텍쥐페리 탄생 120주년 기념 에디션)', 'link': 'http://book.naver.com/bookdb/book_detail.php?bid=16891411', 'image': 'https://bookthumb-phinf.pstatic.net/cover/168/914/16891411.jpg?type=m1&udate=20201030', 'author': '앙투안 드 생텍쥐페리 저|정혜승', 'price': '6000', 'discount': '5400', 'publisher': '유나(YUNA)', 'pubdate': '20201124', 'isbn': '1188364227 9791188364220', 'description': '생텍쥐페리 탄생 120주년 기념 에디션\\n1943년 ‘<b>어린 왕자</b>’ 초판본 표지 디자인\\n세상에서 가장 아름다운 이야기 ‘<b>어린 왕자</b>’\\n전 세계 어린이와 어른들이 사랑한 시대를 초월한 베스트셀러‘<b>어린 왕자</b>’는 유명한 프랑스 소설가이자 비행사인 생텍쥐페리의 작품으로 전 세계 160여 개국 200여 개 언어로...'}, {'title': '<b>어린 왕자</b> 3년 후 나에게 Q&A a day', 'link': 'http://book.naver.com/bookdb/book_detail.php?bid=17468137', 'image': 'https://bookthumb-phinf.pstatic.net/cover/174/681/17468137.jpg?type=m1&udate=20201120', 'author': '더모던 편집부', 'price': '16800', 'discount': '15120', 'publisher': '더모던', 'pubdate': '20210102', 'isbn': '1164453475 9791164453474', 'description': '생텍쥐페리 탄생 120주년을 맞아 더모던 편집부에서 《<b>어린 왕자</b> 3년 후 나에게 Q&A a day》를 선보인다. 매 페이지마다 <b>어린 왕자</b>의... 《<b>어린 왕자</b> 3년 후 나에게 Q&A a day》는 내가 몰랐던 나를 발견하고, 나와 내 감정을 더 잘 알아가기 위한 매일매일 새로운 365개의 질문에...'}, {'title': '<b>어린왕자</b> (컬러판)', 'link': 'http://book.naver.com/bookdb/book_detail.php?bid=21306719', 'image': 'https://bookthumb-phinf.pstatic.net/cover/213/067/21306719.jpg?type=m1&udate=20211124', 'author': '양태철', 'price': '10000', 'discount': '10000', 'publisher': '현대시문학', 'pubdate': '20211123', 'isbn': '1167710355 9791167710352', 'description': '실존주의 철학자 하이데거는 20세기 최고의 인문서는 <b>어린왕자</b>(LE PETIT PRINCE)라고 하며‘<b>어린왕자</b>야말로 우주의 위대한 메시지를 전하는 시인의 언어다.... 권한다면 &lt;화엄경&gt;과 &lt;<b>어린왕자</b>&gt;다’라고 평가할 정도이다.본 작품은 어른들을 위한 동화이다. 사실 어느 정도의 소양을 요한다. 장미이야기나...'}, {'title': '<b>어린왕자</b> (영한본) (컬러판)', 'link': 'http://book.naver.com/bookdb/book_detail.php?bid=21306728', 'image': 'https://bookthumb-phinf.pstatic.net/cover/213/067/21306728.jpg?type=m1&udate=20211124', 'author': '양태철', 'price': '20000', 'discount': '20000', 'publisher': '현대시문학', 'pubdate': '20211123', 'isbn': '1167710363 9791167710369', 'description': '실존주의 철학자 하이데거는 20세기 최고의 인문서는 <b>어린왕자</b>(LE PETIT PRINCE)라고 하며‘<b>어린왕자</b>야말로 우주의 위대한 메시지를 전하는 시인의 언어다.... 권한다면 &lt;화엄경&gt;과 &lt;<b>어린왕자</b>&gt;다’라고 평가할 정도이다.본 작품은 어른들을 위한 동화이다. 사실 어느 정도의 소양을 요한다. 장미이야기나...'}, {'title': '<b>어린왕자</b> (한영본) (컬러판)', 'link': 'http://book.naver.com/bookdb/book_detail.php?bid=21306730', 'image': 'https://bookthumb-phinf.pstatic.net/cover/213/067/21306730.jpg?type=m1&udate=20211124', 'author': '양태철', 'price': '20000', 'discount': '20000', 'publisher': '현대시문학', 'pubdate': '20211123', 'isbn': '1167710371 9791167710376', 'description': '실존주의 철학자 하이데거는 20세기 최고의 인문서는 <b>어린왕자</b>(LE PETIT PRINCE)라고 하며‘<b>어린왕자</b>야말로 우주의 위대한 메시지를 전하는 시인의 언어다.... 권한다면 &lt;화엄경&gt;과 &lt;<b>어린왕자</b>&gt;다’라고 평가할 정도이다.본 작품은 어른들을 위한 동화이다. 사실 어느 정도의 소양을 요한다. 장미이야기나...'}, {'title': '<b>어린왕자</b>(우리말처럼 읽히는 리베르 세계문학)', 'link': 'http://book.naver.com/bookdb/book_detail.php?bid=21148869', 'image': 'https://bookthumb-phinf.pstatic.net/cover/211/488/21148869.jpg?type=m1&udate=20211026', 'author': '생텍쥐페리', 'price': '9900', 'discount': '8910', 'publisher': '리베르', 'pubdate': '20211019', 'isbn': '8965823218 9788965823216', 'description': '우리말처럼 읽히는 유려한 문장으로 재탄생한 세계문학!‘<b>어린 왕자</b>’는 생텍쥐페리의 자서전이나 다름없다. 그는 동심을 잃고 어른이 된 비행사일 뿐 아니라 무엇이든 솔직히 말할 수 있는 순수한 <b>어린 왕자</b>이기도 하다. 생텍쥐페리가 비행사였기 때문에 <b>어린 왕자</b>도 별들 사이를 오갈 수 있었을 것이다. 전 세계...'}, {'title': '<b>어린 왕자</b>와 다시 만나다 (<b>어린 왕자</b>의 실제 모델에게 듣는 우리가 몰랐던 이야기)', 'link': 'http://book.naver.com/bookdb/book_detail.php?bid=20488558', 'image': 'https://bookthumb-phinf.pstatic.net/cover/204/885/20488558.jpg?type=m1&udate=20210803', 'author': '크리스틴 미쇼|토마 드 코닝크', 'price': '14000', 'discount': '12600', 'publisher': '탬', 'pubdate': '20210503', 'isbn': '1197148124 9791197148125', 'description': '『<b>어린 왕자</b>와 다시 만나다』는 〈어떻게 내 안의 아이를 다시금 살아나게 할 수 있을까?〉, 〈아름다움, 어떻게 찾아야 할까?〉, 〈살아야겠다는 마음은 어떻게 일어날까?〉, 〈행복한 삶이란 무엇일까?〉, 〈관계 맺음이란 무엇일까?〉, 〈혐오와 갈라치기를 넘어서〉 등을 수록하고 있는 책이다.'}, {'title': '<b>어린 왕자</b>', 'link': 'http://book.naver.com/bookdb/book_detail.php?bid=13496027', 'image': 'https://bookthumb-phinf.pstatic.net/cover/134/960/13496027.jpg?type=m1&udate=20180410', 'author': '생텍쥐페리|양태석', 'price': '6500', 'discount': '5800', 'publisher': '은하수미디어', 'pubdate': '20180420', 'isbn': '8965793467 9788965793465', 'description': '아이 스스로 읽고 싶어지는 세계 명작 시리즈!&#x0D;만화 영화 같이 컬러풀하고 예쁜 일러스트 삽화&#x0D;이 시리즈는 다양한 세계 명작 가운데 가장 인기 있고 널리 알려진 작품만을 골라 쉽게 재구성했습니다. 원작의 내용을 충실하고 재미있게 간추려 새로 썼기 때문에 아이들이 부담 없이 술술 읽을 수...'}, {'title': '<b>어린 왕자</b> (팝업북)', 'link': 'http://book.naver.com/bookdb/book_detail.php?bid=13799981', 'image': 'https://bookthumb-phinf.pstatic.net/cover/137/999/13799981.jpg?type=m1&udate=20200902', 'author': '생텍쥐페리', 'price': '38000', 'discount': '34200', 'publisher': '문학동네', 'pubdate': '20180831', 'isbn': '8954650724 9788954650724', 'description': '“사막이 아름다운 건 어딘가에 샘을 감추고 있기 때문이야.”&#x0D;처음 <b>어린 왕자</b>를 만나는 어린아이와&#x0D;지난날 어린아이였던 어른에게 바치는 아름다운 팝업북&#x0D;&#x0D;『<b>어린 왕자</b>』는 『성경』과 마르크스의 『자본론』 다음으로 전 세계에서 가장 많이 팔린 베스트셀러로 알려져 있다. 국내에서...'}, {'title': '<b>어린왕자</b> (아름다운 고전 리버커북 시리즈 1)', 'link': 'http://book.naver.com/bookdb/book_detail.php?bid=12298897', 'image': 'https://bookthumb-phinf.pstatic.net/cover/122/988/12298897.jpg?type=m1&udate=20211026', 'author': '생텍쥐페리', 'price': '11000', 'discount': '9900', 'publisher': '인디고(글담)', 'pubdate': '20170810', 'isbn': '1159350205 9791159350207', 'description': '환상적이고 감성적인 일러스트가 더해진 《<b>어린왕자</b>》 리커버!「아름다운 고전 리커버북」 시리즈의 첫 번째 책 『<b>어린 왕자</b>』. 전 세계의 독자들에게 사랑받아온 고전 《<b>어린 왕자</b>》에 감성적인 일러스트를 더해 세월이 흐를수록 가치를 더하는 고전 명작의 클래식한 느낌을 구현했다. 작고 아담한 기존의...'}, {'title': '<b>어린 왕자</b>', 'link': 'http://book.naver.com/bookdb/book_detail.php?bid=159283', 'image': 'https://bookthumb-phinf.pstatic.net/cover/001/592/00159283.jpg?type=m1&udate=20210921', 'author': '생텍쥐페리', 'price': '9500', 'discount': '8550', 'publisher': '비룡소', 'pubdate': '20000523', 'isbn': '8949190133 9788949190136', 'description': '생떽쥐페리 탄생 100주년 기념으로 출간된 책이다. 원본에 충실한 깔끔한 번역과 기존의 판형보다는 조금 넓어진 판형으로 읽기 편하게 편집되어 있다. 뒷편에는 생텍쥐페리에 관한 사진과 작품론을 수록하여 생텍쥐페리에 대한 폭넓은 이해를 할 수 있도록 배려하였다.'}, {'title': '<b>어린왕자</b> (900WORDS GRADE. 3)', 'link': 'http://book.naver.com/bookdb/book_detail.php?bid=6045045', 'image': 'https://bookthumb-phinf.pstatic.net/cover/060/450/06045045.jpg?type=m1&udate=20150721', 'author': 'Antoine de Saint-Exupery', 'price': '7000', 'discount': '6300', 'publisher': 'YBMSISA', 'pubdate': '20090713', 'isbn': '8917198910 9788917198911', 'description': '≪YBM READING LIBRARY≫ 시리즈 제17권『<b>어린왕자</b>』 . 이 시리즈는 세계적인 문학 작품을 원작에 충실하게... 생텍쥐페리의 대표작인 &lt;<b>어린왕자</b>&gt;는 2차 세계대전 중에 발표된 어른들을 위한 동화이다. 사막에 불시착한 조종사인 &quot;나&quot;는 사막 한가운데서 느닷없이 어린 소년을 만난다. 그리고 이 소년이...'}, {'title': '<b>어린 왕자</b> (출간 70주년 기념 갈리마르 에디션)', 'link': 'http://book.naver.com/bookdb/book_detail.php?bid=15875818', 'image': 'https://bookthumb-phinf.pstatic.net/cover/158/758/15875818.jpg?type=m1&udate=20210626', 'author': '생텍쥐페리', 'price': '22000', 'discount': '19800', 'publisher': '문예출판사', 'pubdate': '20191202', 'isbn': '893102083X 9788931020830', 'description': '출간한 『<b>어린 왕자</b>: 출간 70주년 기념 갈리마르 에디션』을 번역해, 문예출판사의 창립 53주년을 기념하며 독자들에게 선보인다. 문예출판사는 1973년 불문학자 김현이 번역한 『<b>어린 왕자</b>』를 한국에서 단행본으로 최초 출간했으며, 이를 시작으로 국내 400여 개의 출판사에서도 『<b>어린 왕자</b>』를 번역해...'}, {'title': '2022년 <b>어린왕자</b> 마음의 눈으로 보이는 것들 벽걸이 달력 (대형 A2)', 'link': 'http://book.naver.com/bookdb/book_detail.php?bid=20949294', 'image': 'https://bookthumb-phinf.pstatic.net/cover/209/492/20949294.jpg?type=m1&udate=20210930', 'author': '북엔 편집부', 'price': '19800', 'discount': '11880', 'publisher': '북엔(BOOK&_)', 'pubdate': '20211004', 'isbn': '9529012128 8809529012127', 'description': '그는 항공 조종사로도 유명하지만, 사실 어린이만큼이나 더 천진난만한 동심 가득한 작가였다.〈2022년 <b>어린왕자</b> 벽걸이 달력 : 마음의 눈으로 보아야 비로소 보이는 것들〉은어른이 읽으면 어린이가 되고 어린이가 읽으면 어른이 되는, 감성적인 시간들을 그린 소설 《<b>어린 왕자</b>》 속 명언과 작가...'}, {'title': 'The Little Prince <b>어린 왕자</b> 영문필사책', 'link': 'http://book.naver.com/bookdb/book_detail.php?bid=20888796', 'image': 'https://bookthumb-phinf.pstatic.net/cover/208/887/20888796.jpg?type=m1&udate=20210908', 'author': '생텍쥐페리', 'price': '13000', 'discount': '11700', 'publisher': '가위바위보', 'pubdate': '20210910', 'isbn': '1197346953 9791197346958', 'description': '한국인이 가장 좋아하는 20세기 고전 《<b>어린 왕자</b>》영문 필사책!‘<b>어린 왕자</b>’를 영문으로 필사하며 문장의 맛과 깊이를 음미할 수 있는 책!... ‘우리가 사랑한 클래식 영문 라이팅북’첫 번째 책 《ANNE OF GREEN GABLES 빨강머리 앤 영문필사책 》에 이어 두 번째 책 《THE LITTLE PRINCE <b>어린 왕자</b> 영문필사책》...'}, {'title': '<b>어린 왕자</b>', 'link': 'http://book.naver.com/bookdb/book_detail.php?bid=17604096', 'image': 'https://bookthumb-phinf.pstatic.net/cover/176/040/17604096.jpg?type=m1&udate=20210227', 'author': '생텍쥐페리', 'price': '13000', 'discount': '11700', 'publisher': '열림원', 'pubdate': '20201215', 'isbn': '1170400345 9791170400349', 'description': '“생텍쥐페리 탄생 120주년,\\n 오아물 루의 삽화와 김석희의 번역으로\\n『<b>어린 왕자</b>』의 새로운 감동을 전하다!”전 세계인에게 사랑을 받은 명작 『<b>어린 왕자</b>』의 저자 생텍쥐페리가 올해로 탄생 120주년을 맞이했다. 그의 저서 중에서도 380여 개 언어로 번역·출간된 『<b>어린 왕자</b>』는 시대를 초월해 가장 많은...'}, {'title': '<b>어린 왕자</b>', 'link': 'http://book.naver.com/bookdb/book_detail.php?bid=12556719', 'image': 'https://bookthumb-phinf.pstatic.net/cover/125/567/12556719.jpg?type=m1&udate=20210504', 'author': '생텍쥐페리', 'price': '8000', 'discount': '7200', 'publisher': '새움', 'pubdate': '20170922', 'isbn': '1187192597 9791187192596', 'description': '『<b>어린 왕자</b>』는 하나하나의 문장이 시(詩)만큼 간결하고 정교하게 구축된 작품이다. 작품 전체가... 이정서는 불어·영어·한국어 번역 비교를 통해 [<b>어린 왕자</b>]의 세계를 정밀하고 섬세하게 파고들었다.... 이제 바르고 정확한 문장들로 쓰인 번역을 통해 생텍쥐페리가 [<b>어린 왕자</b>]를 통해 지구인들에게...'}, {'title': '<b>어린 왕자</b>로부터 새드 무비(걷는 사람 시인선 41)', 'link': 'http://book.naver.com/bookdb/book_detail.php?bid=20468621', 'image': 'https://bookthumb-phinf.pstatic.net/cover/204/686/20468621.jpg?type=m1&udate=20210504', 'author': '박남준', 'price': '10000', 'discount': '9000', 'publisher': '걷는사람', 'pubdate': '20210426', 'isbn': '1191262243 9791191262247', 'description': '부추꽃에서부터 별이 바다를 이루는 우주에 이르기까지\\n-시원始元의 공간에서 끈질긴 생태적 사유로 이루어낸 시의 경지걷는사람 시인선의 41번째 작품으로 박남준 시인의 『<b>어린 왕자</b>로부터 새드 무비』가 출간되었다. 1984년 《시인》지로 작품 활동을 시작한 박남준의 여덟 번째 시집. 일명 ‘은둔의 시인’...'}, {'title': '<b>어린 왕자</b> (특별판)', 'link': 'http://book.naver.com/bookdb/book_detail.php?bid=16311016', 'image': 'https://bookthumb-phinf.pstatic.net/cover/163/110/16311016.jpg?type=m1&udate=20200324', 'author': '생텍쥐페리', 'price': '10800', 'discount': None, 'publisher': '열린책들', 'pubdate': '20200320', 'isbn': '8932920184 9788932920184', 'description': '고 황현산 선생이 남긴 생텍쥐페리의 『<b>어린 왕자</b>』 번역의 특별판이다. 황현산 선생은 이 작품을... 원문 텍스트 선택부터 번역의 마무리 작업까지, 국내에 출간된 많은 [<b>어린 왕자</b>] 중에서도 특히 원전의 가치를 충실히 살린 한국어 결정판을 마련하고자 했다. 다른 별에서 온 <b>어린 왕자</b>의 순수한 시선으로...'}, {'title': '<b>어린왕자</b> (초등학생을 위한 세계명작,The Little Prince)', 'link': 'http://book.naver.com/bookdb/book_detail.php?bid=11976082', 'image': 'https://bookthumb-phinf.pstatic.net/cover/119/760/11976082.jpg?type=m1&udate=20210908', 'author': '생텍쥐페리', 'price': '9800', 'discount': '8820', 'publisher': '대일출판사', 'pubdate': '20170510', 'isbn': '8977955629 9788977955622', 'description': '<b>어린왕자</b>는 어른이 되어가는 많은 어린이들과 청소년들에게 삶에 대한 깊은 철학을 이야기합니다. 주변사람과 관계를 맺을 때 일종의 의식을 거쳐야... 그 아름다운 이야기를 보다 예쁜 그림으로 전하고자 했습니다. 어렵지 않은 말투와 새로운 그림으로 만나는 <b>어린왕자</b>를 만나실 수 있습니다.'}, {'title': '<b>어린 왕자</b>(art&classic)(양장본 HardCover)', 'link': 'http://book.naver.com/bookdb/book_detail.php?bid=17545384', 'image': 'https://bookthumb-phinf.pstatic.net/cover/175/453/17545384.jpg?type=m1&udate=20201209', 'author': '생텍쥐페리', 'price': '12800', 'discount': '11520', 'publisher': '알에이치코리아', 'pubdate': '20201215', 'isbn': '8925589451 9788925589459', 'description': '이야기, 『<b>어린 왕자</b>』어른이 되어 다시 읽었을 때 완전히 새로운 이야기로 다가오는 책들이 있다. 그중에서도 『<b>어린 왕자</b>』가 대표적이다. 1943년에 발표된 후 아이, 어른 할 것 없이 모두에게 울림을 주던 이 소설은 유보라 작가의 그림을 더해 아트앤클래식 시리즈로 더욱 풍성하게 돌아왔다. 어린아이의...'}, {'title': '영어와 함께 읽는 <b>어린왕자</b> The Little Prince', 'link': 'http://book.naver.com/bookdb/book_detail.php?bid=20864187', 'image': 'https://bookthumb-phinf.pstatic.net/cover/208/641/20864187.jpg?type=m1&udate=20210902', 'author': '생텍쥐페리', 'price': '15000', 'discount': '13500', 'publisher': '리나북스', 'pubdate': '20210822', 'isbn': '1197408401 9791197408403', 'description': '[<b>어린왕자</b>]는 미국에서 영어판과 프랑스어판으로 동시에 출간되었습니다. 그래서 [<b>어린왕자</b>]의 영어판은 또 다른 의미가 있습니다.전 세계가 가장 사랑하는 이야기 [<b>어린왕자</b>]를 영어원문과 한글 번역본을 읽으면서 영어에 좀더 친근하게 다가갈 수 있는 기회가 될 수 있습니다.[<b>어린왕자</b>]는 독자들에게 기억되는...'}, {'title': 'I CAN READ The Little Prince 딥러닝 <b>어린 왕자</b> 단어장 (I CAN READ The Little Prince)', 'link': 'http://book.naver.com/bookdb/book_detail.php?bid=16370501', 'image': 'https://bookthumb-phinf.pstatic.net/cover/163/705/16370501.jpg?type=m1&udate=20200713', 'author': '스티브 오', 'price': '5000', 'discount': '4500', 'publisher': '도서출판동행', 'pubdate': '20200601', 'isbn': '1197005625 9791197005626', 'description': '알고 있는 단어부터 시작해서 모르는 단어의 뜻을 유추하는 딥러닝 단어장\\n“우리는 영어를 생각보다 많이 알고 있습니다.”\\n우리는 영어를 많이 배웠지만, 성취감을 느끼면서 영어를 사용해 본 경험은 부족합니다. 그래서 영어가 여전히 어렵고, 자신 있게 사용하기 힘든 게 아닐까요?\\n딥러닝 영어 단어장은...'}, {'title': '<b>어린 왕자</b>', 'link': 'http://book.naver.com/bookdb/book_detail.php?bid=16655357', 'image': 'https://bookthumb-phinf.pstatic.net/cover/166/553/16655357.jpg?type=m1&udate=20200907', 'author': '생텍쥐페리|이경혜', 'price': '20000', 'discount': '18000', 'publisher': '문학과지성사', 'pubdate': '20200828', 'isbn': '8932037566 9788932037561', 'description': '별들이 다 친구가 될 거야.”\\n한 땀 한 땀 아름다운 자수로 새롭게 태어난 <b>어린 왕자</b>!★새로운 감동, 새로운 독서 경험이 될 ‘<b>어린 왕자</b>’ 자수 그림책\\n20세기 가장 많은 외국어로 번역된 문학 작품으로 알려진 『<b>어린 왕자</b>』는 그만큼 전 세계 독자들의 사랑을 받으며 끊임없이 읽히는 작품이다....'}, {'title': '단계별 영어 원서 나도 이제 영어로 읽는다 <b>어린 왕자</b> 도서와 단어장(전2권) (사전 없이도 읽을 수 있는 단계별 영어원서)', 'link': 'http://book.naver.com/bookdb/book_detail.php?bid=16371920', 'image': 'https://bookthumb-phinf.pstatic.net/cover/163/719/16371920.jpg?type=m1&udate=20200806', 'author': '앙투안 드 생텍쥐페리|스티브 오', 'price': '20900', 'discount': None, 'publisher': '도서출판동행', 'pubdate': '20200601', 'isbn': '1197005609 9791197005602', 'description': '원서 : <b>어린 왕자</b> 편\\n알고 있는 단어부터 시작해서 모르는 단어의 뜻을 유추하는 딥러닝 단어장[나도 이제 영어로 읽는다]\\n\\n“영어 초보도 사전 없이 ‘<b>어린 왕자</b>’ 원서로 읽는다”\\n\\n다섯 단계의 맞춤형... 27장으로 구성된 <b>어린 왕자</b> 원문을 취사선택하지 않고 같은 장을 단어와 문장만을 달리해 다섯...'}, {'title': '<b>어린 왕자</b> 회전목마 팝업북 (출간 75주년 기념 갈리마르 특별판)', 'link': 'http://book.naver.com/bookdb/book_detail.php?bid=20905619', 'image': 'https://bookthumb-phinf.pstatic.net/cover/209/056/20905619.jpg?type=m1&udate=20210919', 'author': '생 텍쥐페리 지음|전성자', 'price': '19900', 'discount': '17900', 'publisher': '문예출판사', 'pubdate': '20210917', 'isbn': '8931022050 9788931022056', 'description': '프랑스 갈리마르 출판사가 《<b>어린 왕자</b>》 출간 75주년을 기념해 회전목마 팝업북을 펴냈다. 전 세계 동시 출간되는 이 특별한 책을, 한국에서 단행본으로 《<b>어린 왕자</b>》를 처음 출간한 문예출판사가 불문학자 전성자 선생의 원작의 아름다움을 그대로 살린 생생하고 따뜻한 번역으로 선보인다. 《어린...'}, {'title': '<b>어린 왕자</b> 스크래치 북 (동화와 힐링이 만나다)', 'link': 'http://book.naver.com/bookdb/book_detail.php?bid=11184711', 'image': 'https://bookthumb-phinf.pstatic.net/cover/111/847/11184711.jpg?type=m1&udate=20200311', 'author': '편집부', 'price': '20000', 'discount': '10000', 'publisher': '이지라이프', 'pubdate': '20161015', 'isbn': '9481770079 8809481770073', 'description': '밤하늘 속에서 반짝이는 별처럼 변치 않는 감동을 전하는 《<b>어린 왕자</b>》를 스크래치 북으로 만난다!전 세계적인 베스트셀러 《<b>어린 왕자</b>》가 스크래치 북으로 새롭게 탄생했다. 칠흑같이 어두운 우주 한가운데에서도 영롱히 빛을 발하는 <b>어린 왕자</b>를 동봉된 스크래치 전용 펜으로 표현할 수 있도록 구성했다....'}, {'title': '<b>어린 왕자</b>', 'link': 'http://book.naver.com/bookdb/book_detail.php?bid=17851469', 'image': 'https://bookthumb-phinf.pstatic.net/cover/178/514/17851469.jpg?type=m1&udate=20210826', 'author': '생텍쥐페리', 'price': '8800', 'discount': '7900', 'publisher': '더클래식', 'pubdate': '20210130', 'isbn': '1164454277 9791164454273', 'description': '소년은 자신이 사는 작은 별에 사랑하는 장미를 남겨두고 세상을 보기 위해 여행을 온 <b>어린 왕자</b>였다. <b>어린 왕자</b>는 몇 군데의 별을 돌아다닌 후 지구로 와 뱀, 여우, 조종사와 친구가 된다. 어느덧 여우와 <b>어린 왕자</b>는 서로를 길들여 ‘세상에서 하나밖에 없는 꼭 필요한 존재’로 남는다. 그리고 <b>어린 왕자</b>는...'}, {'title': '<b>어린 왕자</b> (완역판)', 'link': 'http://book.naver.com/bookdb/book_detail.php?bid=21177100', 'image': 'https://bookthumb-phinf.pstatic.net/cover/211/771/21177100.jpg?type=m1&udate=20211026', 'author': '생택쥐페리', 'price': '5000', 'discount': None, 'publisher': '진태출판사', 'pubdate': '20211026', 'isbn': '119129563X 9791191295634', 'description': '제2차 세계 대전 중 미국에서 발표한《<b>어린 왕자</b>》는 생 떽쥐뻬리 자신이 직접 그린 아름다운 삽화를 넣어서 독특하게 만든 작품이다.\\n인간의 고독과... 어른 세계와 어린이 세계가 단절되어서 대화가 되지 않고 있음을 제 1장부터 보여주는《<b>어린 왕자</b>》는 어린이의 세계에서 어른의 현상 세계를 바라다보고...'}, {'title': '<b>어린 왕자</b>+빨강머리 앤+오즈의 마법사 스크래치 북 세트 (동화와 힐링이 만나다)', 'link': 'http://book.naver.com/bookdb/book_detail.php?bid=11992176', 'image': 'https://bookthumb-phinf.pstatic.net/cover/119/921/11992176.jpg?type=m1&udate=20210802', 'author': '이지영|양아연|장하나', 'price': '60000', 'discount': '30000', 'publisher': '이지라이프', 'pubdate': '20170710', 'isbn': '948177046X 8809481770462', 'description': '어린 시절 추억의 명작 동화들을 스크래치 북으로 만난다!세계적인 베스트셀러 《<b>어린 왕자</b>》, 《빨강머리 앤》, 《오즈의 마법사》를 스크래치 북으로... 오롯이 한곳에 집중하는 시간은 당신에게 따뜻한 위안을 전해 줄 뿐만 아니라, 추억 가득한 어린 시절로 데려다줄 것이다.'}, {'title': '<b>어린왕자</b> (미니북)', 'link': 'http://book.naver.com/bookdb/book_detail.php?bid=15767835', 'image': 'https://bookthumb-phinf.pstatic.net/cover/157/678/15767835.jpg?type=m1&udate=20200826', 'author': '앙투안 드 생텍쥐페리', 'price': '5500', 'discount': '4950', 'publisher': '자화상', 'pubdate': '20191104', 'isbn': '1190298139 9791190298131', 'description': '전 세계인이 가장 사랑한  세상에서 가장 순수한 이야기 『<b>어린왕자</b>(미니북)』. 다른 별에서 온 <b>어린 왕자</b>의 순수한 시선으로 모순된 어른들의 세계를 비추는, 전 세계인이 사랑하는 아름다운 이야기. 이 작품은 어른, 아이 모두에게 큰 영감과 감동을 주며 오래 기억되며 마음을 움직이는 힘을 가진 이야기들로...'}, {'title': '<b>어린 왕자</b> (한글판+영어,불어 텍스트 수록,1943년 초판본 오리지널 디자인)', 'link': 'http://book.naver.com/bookdb/book_detail.php?bid=9706153', 'image': 'https://bookthumb-phinf.pstatic.net/cover/097/061/09706153.jpg?type=m1&udate=20200305', 'author': '생텍쥐페리', 'price': '9800', 'discount': '8820', 'publisher': '소와다리', 'pubdate': '20151105', 'isbn': '8998046660 9788998046668', 'description': '초판본 디자인으로 만나는 <b>어린 왕자</b>!1943년에 발행된 초판본을 충실히 재현한 오리지널 디자인으로 구성된 『<b>어린 왕자</b>』.  온 유럽이 제2차 세계대전의... 어디서 왔는지, 또 누구인지 물어도 통 대답이 없지만 곧 그가 머나먼 별에서 온 <b>어린 왕자</b>라는 사실을 알게 된다. 8일 밤낮동안 <b>어린 왕자</b>가 들려주는...'}, {'title': '<b>어린 왕자</b> (세계명작 다이어리)', 'link': 'http://book.naver.com/bookdb/book_detail.php?bid=14365816', 'image': 'https://bookthumb-phinf.pstatic.net/cover/143/658/14365816.jpg?type=m1&udate=20181222', 'author': '생텍쥐페리', 'price': '6500', 'discount': '5800', 'publisher': '삼성출판사', 'pubdate': '20181215', 'isbn': '8915106040 9788915106048', 'description': '<b>어린 왕자</b>의 순수한 눈을 통해 바라보는 세상&#x0D;&#x0D;『<b>어린 왕자</b>』는 20세기의 가장 위대한 작가로 일컬어지는 생텍쥐페리의 대표적인 작품입니다.... 작가 자신이 비행 조종사로 일한 경험을 바탕으로 쓴 『<b>어린 왕자</b>』는 <b>어린 왕자</b>의 순수한 눈을 통해, 세상에서 가장 소중한 것들은 눈에 보이지 않고...'}, {'title': '동화 컬러링북 <b>어린 왕자</b>', 'link': 'http://book.naver.com/bookdb/book_detail.php?bid=16277231', 'image': 'https://bookthumb-phinf.pstatic.net/cover/162/772/16277231.jpg?type=m1&udate=20200304', 'author': '생텍쥐페리', 'price': '11000', 'discount': '8800', 'publisher': 'Gbrain(지브레인)', 'pubdate': '20200320', 'isbn': '9491600117 8809491600117', 'description': '<b>어린 왕자</b>의 순수한 눈으로 바라본 세상\\n그리고 소중한 존재에 대한 이야기! \\n《<b>어린 왕자</b>》와 만나는 따뜻한 시간을 통해 나만의 특별한 동화 만들기!1943년 생텍쥐페리가 발표한  소설 《<b>어린 왕자</b>》는 \\n누구보다 순수한 마음을 가진 <b>어린 왕자</b>를 통해 시적이고 아름다운 동화 형식으로 바라본 \\n세상을 담고...'}, {'title': '영어 필기체로 만나는 <b>어린 왕자</b> (한 때 <b>어린</b>아이였던 모든 어른에게)', 'link': 'http://book.naver.com/bookdb/book_detail.php?bid=14103324', 'image': 'https://bookthumb-phinf.pstatic.net/cover/141/033/14103324.jpg?type=m1&udate=20181029', 'author': '생텍쥐페리', 'price': '12000', 'discount': '10800', 'publisher': '다온북스', 'pubdate': '20181024', 'isbn': '1185439005 9791185439006', 'description': '여전히 하늘을 올려다보며 <b>어린 왕자</b>를 기다리는 당신에게-\\n세상에서 가장 따뜻한 문장으로 배우는 영어 필기체!지나가며 잠깐 마주치는 어떤 책의 표지나... 게다가 <b>어린 왕자</b>의 여행을 통해, <b>어린 왕자</b>의 따뜻한 말과 호기심을 함께 되짚을 수 있다. 천천히 <b>어린 왕자</b>를 베껴 쓰다 보면, 잊었던 누군가를 문득...'}, {'title': '<b>어린 왕자</b> (초판본 리커버 고급 벨벳 양장본) (생텍쥐페리 탄생 120주년 기념)', 'link': 'http://book.naver.com/bookdb/book_detail.php?bid=16779084', 'image': 'https://bookthumb-phinf.pstatic.net/cover/167/790/16779084.jpg?type=m1&udate=20210120', 'author': '앙투안 드 생텍쥐페리 지음|김수영 옮김|변광배 해설', 'price': '10000', 'discount': '9000', 'publisher': '코너스톤', 'pubdate': '20200922', 'isbn': '1190669323 9791190669320', 'description': '『<b>어린 왕자</b>(초판본)(리커버 고급 벨벳 양장본)』 은 초판본 리커버 고급 벨벳 양장본으로 만나는 생텍쥐페리의 대표작! 클래식한 환양장 제본으로 둥근 책등이 180도 이상 부드럽게 펼쳐집니다. 특수 벨벳 코팅으로 고급스러운 색감과 촉감을 살린 특수 코팅된 책이다.'}, {'title': '<b>어린왕자</b>', 'link': 'http://book.naver.com/bookdb/book_detail.php?bid=157426', 'image': 'https://bookthumb-phinf.pstatic.net/cover/001/574/00157426.jpg?type=m1&udate=20181103', 'author': '생텍쥐페리', 'price': '8000', 'discount': '7200', 'publisher': '다락원', 'pubdate': '20040714', 'isbn': '897255913X 9788972559139', 'description': '나는 이상한 소년을 만나 양을 그려 달라는 부탁을 받으면서 그 소년의 여행이야기를 듣는 <b>어린왕자</b>등 명작시리즈를, 기초가 약한 영어 초급자나 초, 중, 고등학생들이 즐겁고 효과적으로 읽으며 독해력을 키울 수 있도록 하는 독해력 증강 프로그램이다. 이 프로그램은 초보자를 위한 350단어 수준에서...'}, {'title': '<b>어린왕자</b> (명작 영한 대역 완역판)', 'link': 'http://book.naver.com/bookdb/book_detail.php?bid=6274559', 'image': 'https://bookthumb-phinf.pstatic.net/cover/062/745/06274559.jpg?type=m1&udate=20200701', 'author': '생텍쥐페리', 'price': '7500', 'discount': '6750', 'publisher': '삼지사', 'pubdate': '20100515', 'isbn': '8973584421 9788973584420', 'description': '재미있는 내용뿐 아니라 깊은 지혜를 통해 영어를 공부와 더불어 교양을 쌓을 수 있도록 도왔다. 『<b>어린왕자</b>』는 단순한 동화가 아니라, 인생에서 무엇이 가장 소중한 것인가를 두고두고 생각하게 하는 명작이다. 인간 사회에서의 정신적 연대감을 이루려는 저자의 의도가 환상적인 여운을 남기면서 나타나 있다.'}, {'title': '그림으로 보는 <b>어린왕자</b> (피치마켓 스물여섯 번째 이야기)', 'link': 'http://book.naver.com/bookdb/book_detail.php?bid=18005404', 'image': 'https://bookthumb-phinf.pstatic.net/cover/180/054/18005404.jpg?type=m1&udate=20210909', 'author': '생텍쥐페리', 'price': '10000', 'discount': '9000', 'publisher': '피치마켓', 'pubdate': '20210218', 'isbn': '1189712482 9791189712488', 'description': '<b>어린 왕자</b>』는 순수한 어린 소년의 여행기이자 성장 이야기입니다. 1943년에 출판된 이후로 지금까지도 수많은 사랑을 받고 있습니다. <b>어린 왕자</b>가 비행기 조종사를 만나면서 본격적으로 시작되는 이야기에는 <b>어린 왕자</b>가 여행하며 겪은 에피소드들이 등장합니다. 작은 별의 유일한 친구, 장미를 통해 알게 된...'}, {'title': '<b>어린 왕자</b>(초등 독서력 세계명작) (초등 독서력 세계 명작)', 'link': 'http://book.naver.com/bookdb/book_detail.php?bid=20921041', 'image': 'https://bookthumb-phinf.pstatic.net/cover/209/210/20921041.jpg?type=m1&udate=20211013', 'author': '생텍쥐페리|한영미', 'price': '6500', 'discount': '5850', 'publisher': '계림북스', 'pubdate': '20210905', 'isbn': '8953334144 9788953334144', 'description': '전 세계가 사랑한 가장 아름다운 이야기 ‘<b>어린 왕자</b>’를 독서력이 탄탄해지는 〈초등 독서력 세계 명작 시리즈〉로 읽어 보세요!비행기 조종사인 ‘나’... 소년은 소행성 B612호에 살다가 지구로 여행을 온 <b>어린 왕자</b>였죠. <b>어린 왕자</b>는 정성으로 키우던 장미에게 상처를 받고 자신의 별을 떠나 이웃 별과 지구로...'}, {'title': '<b>어린 왕자</b>가 건네는 말 (영문으로 만나는 1일 1문장)', 'link': 'http://book.naver.com/bookdb/book_detail.php?bid=20864398', 'image': 'https://bookthumb-phinf.pstatic.net/cover/208/643/20864398.jpg?type=m1&udate=20210829', 'author': '생텍쥐페리', 'price': '16000', 'discount': '14400', 'publisher': '가위바위보', 'pubdate': '20210825', 'isbn': '1197346945 9791197346941', 'description': '개인적 체험에 따라 다르게 읽히는 매력적인 고전!가슴에 새기고 픈 <b>어린 왕자</b>의 명문장! 삶을 성찰하게 만드는 ‘<b>어린 왕자</b>’ 속 명문장을 영문과 한글, 그리고 수채화가 있는 일러스트북으로 만난다!▼ 영문으로 만나는 20세기 고전, 하루 한 장 가슴에 새기는《<b>어린 왕자</b>》의 그림이 있는 영문 명문장...'}, {'title': '<b>어린왕자</b> (BESTSELLER WORLDBOOK 1)', 'link': 'http://book.naver.com/bookdb/book_detail.php?bid=35884', 'image': 'https://bookthumb-phinf.pstatic.net/cover/000/358/00035884.jpg?type=m1&udate=20130628', 'author': '생텍쥐페리', 'price': '4500', 'discount': '4050', 'publisher': '소담출판사', 'pubdate': '19901101', 'isbn': '8973810014 9788973810017', 'description': '아름답고 순수한 영혼을 지닌 소혹성의 왕자는 조그만 별에서 혼자 산다. 외로움과 슬픔을 견디기가 힘들던 왕자는 여행을 떠난다. 그러나 소혹성에 홀연히 나타 난 장미에게로 다시 돌아가려 하는데.... 프랑스 작가의 명작소설.'}, {'title': '<b>어린 왕자</b> (오리지널 초판본) (Le Petit Prince)', 'link': 'http://book.naver.com/bookdb/book_detail.php?bid=16744131', 'image': 'https://bookthumb-phinf.pstatic.net/cover/167/441/16744131.jpg?type=m1&udate=20210626', 'author': '생텍쥐페리', 'price': '5800', 'discount': '5200', 'publisher': '코너스톤', 'pubdate': '20200922', 'isbn': '1190669315 9791190669313', 'description': '‘가장 중요한 것은 눈에 보이지 않아.’\\n모두가 사랑하는 《<b>어린 왕자</b>》를 초판본 디자인으로 만나보세요.“네가 만약 오후 네 시에 온다면, 나는 세... 그래서 의식이 필요한 거야.”\\n\\n사막에 추락한 조종사가 지구를 여행 중인 <b>어린 왕자</b>를 만나는 생텍쥐페리의 대표작, 《<b>어린 왕자</b>》는 1943년 출간 이래로...'}, {'title': '<b>어린 왕자</b>+빨강머리 앤+오즈의 마법사+ 이상한 나라의 앨리스 스크래치 북 세트(전4권) (동화와 힐링이 만나다)', 'link': 'http://book.naver.com/bookdb/book_detail.php?bid=20816024', 'image': 'https://bookthumb-phinf.pstatic.net/cover/208/160/20816024.jpg?type=m1&udate=20210821', 'author': '이지영|양하연|장하나', 'price': '82000', 'discount': '41000', 'publisher': '이지라이프', 'pubdate': '20210801', 'isbn': '9481770591 8809481770592', 'description': '어린 시절 추억의 명작 동화들을 스크래치 북으로 만난다!\\n\\n세계적인 베스트셀러 《<b>어린 왕자</b>》, 《빨강머리 앤》, 《오즈의 마법사》, 《이상한 나라의... 오롯이 한곳에 집중하는 시간은 당신에게 따뜻한 위안을 전해 줄 뿐만 아니라, 추억 가득한 어린 시절로 데려다줄 것이다.  \\n\\n* 구성\\n<b>어린 왕자</b> 스크래치...'}, {'title': '<b>어린 왕자</b>(The Little Prince) (책장만 넘기면 문장이 완성되는 완벽한 어순 학습법)', 'link': 'http://book.naver.com/bookdb/book_detail.php?bid=17982792', 'image': 'https://bookthumb-phinf.pstatic.net/cover/179/827/17982792.jpg?type=m1&udate=20210819', 'author': '생텍쥐페리', 'price': '12000', 'discount': '10800', 'publisher': '멀리깊이', 'pubdate': '20210210', 'isbn': '1197139680 9791197139680', 'description': '책장 넘길 힘만 있으면 영어 실력이 쑥쑥 자라는 완벽한 어순 학습 프로그램!\\n이제부터 영어가, 말도 안 되게 쉬워집니다!영어 학습의 가장 큰 걸림돌인 어순을 완벽하게 마스터할 수 있도록 구성한 문장 확장 프로그램. 한국인이 사랑하는 고전의 문장을 영어 학습에서 가장 많이 쓰는 기초 패턴으로 재구성해...'}, {'title': '<b>어린왕자</b> 공식 한국어판 (생텍쥐페리 재단 공인)', 'link': 'http://book.naver.com/bookdb/book_detail.php?bid=21136601', 'image': 'https://bookthumb-phinf.pstatic.net/cover/211/366/21136601.jpg?type=m1&udate=20211023', 'author': '생텍쥐페리', 'price': '11800', 'discount': '10620', 'publisher': '더모던', 'pubdate': '20210930', 'isbn': '1164455273 9791164455270', 'description': '출간된 지 70여 년이 지났지만, 여전히 가장 새롭고 아름다운 소설인 《<b>어린 왕자</b>》. 성별 연령 인종 국적을 초월해서 큰 사랑을 받는 작품인 만큼 다양한 번역과 판본이 존재하는데, 이 책은 생텍쥐페리 재단의 오리지널 삽화를 수록하고 재단의 공인을 받은 공식판이다. ‘날개 달린 시인(WINGED POET)’으로...'}, {'title': '<b>어린왕자</b> (포켓북)', 'link': 'http://book.naver.com/bookdb/book_detail.php?bid=14648694', 'image': 'https://bookthumb-phinf.pstatic.net/cover/146/486/14648694.jpg?type=m1&udate=20200305', 'author': '앙투안 드 생텍쥐페리', 'price': '3900', 'discount': '3510', 'publisher': '자화상', 'pubdate': '20190304', 'isbn': '1189413426 9791189413422', 'description': '전 세계인이 가장 사랑한\\n세상에서 가장 순수한 이야기다른 별에서 온 <b>어린 왕자</b>의 순수한 시선으로 모순된 어른들의 세계를 비추는, 전 세계인이 사랑하는 아름다운 이야기 『<b>어린 왕자</b>』. 이 작품은 어른, 아이 모두에게 큰 영감과 감동을 주며 오래 기억되며 마음을 움직이는 힘을 가진 이야기들로 가득하다.'}, {'title': '<b>어린 왕자</b> : 0629 에디션 (생텍쥐페리 탄생 120주년 기념판)', 'link': 'http://book.naver.com/bookdb/book_detail.php?bid=16386460', 'image': 'https://bookthumb-phinf.pstatic.net/cover/163/864/16386460.jpg?type=m1&udate=20200707', 'author': '생텍쥐페리', 'price': '9800', 'discount': '8800', 'publisher': '문예출판사', 'pubdate': '20200629', 'isbn': '8931021208 9788931021202', 'description': '<b>어린 왕자</b>는 생텍쥐페리 자신이다!”\\n_프랑스 문학 비평가 아드리엔느 모니에\\n2020년 생텍쥐페리 탄생 120주년 기념\\n《<b>어린 왕자</b>: 0629 에디션》 \\n원로 불문학자 전성자 선생의 최신 번역본1900년 6월 29일, 전 세계인에게 세상에서 가장 아름다운 동화 《<b>어린 왕자</b>》를 선물한 프랑스의 작가이자 비행사 앙투안...'}, {'title': '2021 유나 다이어리(<b>어린왕자</b>) (<b>어린왕자</b>)', 'link': 'http://book.naver.com/bookdb/book_detail.php?bid=16891270', 'image': 'https://bookthumb-phinf.pstatic.net/cover/168/912/16891270.jpg?type=m1&udate=20201127', 'author': '유나 편집부', 'price': '15000', 'discount': '0', 'publisher': '유나', 'pubdate': '20201124', 'isbn': '9479920204 8809479920206', 'description': '<b>어린왕자</b> 일러스트가 가득한 다이어리로 표지에는 <b>어린왕자</b>가 금박으로 들어가서 고급스러움을 더한다. 월간 계획이 전부 나온 뒤에 주간 계획이 나오는 구성이며, 메모 공간도 충분한 실용적인 다이어리이다.'}, {'title': '<b>어린왕자</b> 필사노트', 'link': 'http://book.naver.com/bookdb/book_detail.php?bid=16394847', 'image': 'https://bookthumb-phinf.pstatic.net/cover/163/948/16394847.jpg?type=m1&udate=20200716', 'author': '앙투안 드 생텍쥐페리', 'price': '15000', 'discount': '13500', 'publisher': '투나미스', 'pubdate': '20200710', 'isbn': '1190847132 9791190847131', 'description': '집콕 필수 = 집콕 필사\\n\\n생텍쥐페리의 <b>어린왕자</b> 영문을 본문 삼아 필사하기 좋은 책. 간간이 어휘와 번역이 수록되어 있다. 아울러 벨벳 촉감으로 보드라운 표지에 4B연필 그림으로 감성을 더했다. 영어로 다시 쓰면서 <b>어린왕자</b>의 감동을 되새겨보자.'}, {'title': '<b>어린왕자</b> SET (한영 합본)', 'link': 'http://book.naver.com/bookdb/book_detail.php?bid=2533864', 'image': 'https://bookthumb-phinf.pstatic.net/cover/025/338/02533864.jpg?type=m1&udate=20180113', 'author': '생텍쥐페리', 'price': '9500', 'discount': '8550', 'publisher': '반석출판사', 'pubdate': '20061028', 'isbn': '8971724382 9788971724385', 'description': \"처음 발표한 이래, 150개 이상의 언어로 번역되며 전세계인의 사랑을 받아온 고전. 비행기 고장으로 사막에 불시착한 비행사가, 현실인지 꿈인지 알 수 없는 상황에서 <b>어린왕자</b>와 마음의 교감을 주고받는 과정을 그렸다. '사람과 사람을 맺어주는 정신적 유대'에 대한 깊은 성찰을 담고 있는 아름다운 작품이다.\"}, {'title': '<b>어린왕자</b> 공식 한영판 세트(전2권) (생텍쥐페리 재단 공인)', 'link': 'http://book.naver.com/bookdb/book_detail.php?bid=21136605', 'image': 'https://bookthumb-phinf.pstatic.net/cover/211/366/21136605.jpg?type=m1&udate=20211014', 'author': '생텍쥐페리', 'price': '23600', 'discount': '21240', 'publisher': '더모던', 'pubdate': '20210930', 'isbn': '116445529X 9791164455294', 'description': '소설 《<b>어린 왕자</b>》생텍쥐페리 재단이 공인한 2권(한국어판, 영어판)의 세트로 만나다!《<b>어린 왕자</b>》는 성별, 연령, 인종, 국적을 초월해서 큰 사랑을... 더모던의 《<b>어린 왕자</b>》 한글판과 영문판은 생텍쥐페리 재단이 공인한 유일한 국내서로, 소행성 B612가 인쇄된 예쁜 박스에 2권을 세트로 담았다. 서정적인...'}, {'title': '아홉 살에 처음 만나는 <b>어린 왕자</b>', 'link': 'http://book.naver.com/bookdb/book_detail.php?bid=9937143', 'image': 'https://bookthumb-phinf.pstatic.net/cover/099/371/09937143.jpg?type=m1&udate=20210718', 'author': '생텍쥐페리', 'price': '9800', 'discount': '8820', 'publisher': '하늘을나는코끼리', 'pubdate': '20151207', 'isbn': '1186966009 9791186966006', 'description': '우리 아이를 위한 <b>어린 왕자</b>!『아홉 살에 처음 만나는 <b>어린 왕자</b>』는 특별히 이 책을 처음 만나게 될 아홉 살 즈음의 어린이들만을 위해 크고 시원한 판형과 편집으로 꾸며진 것이 특징입니다. 책에 그림을 그린 ‘유유’ 작가는 따스하면서도 맑은 감성을 지닌 ‘<b>어린 왕자</b>’ 캐릭터를 새롭게 선보여 어린이들의...'}, {'title': '납골당의 <b>어린왕자</b>. 12 (V Novel, 완결)', 'link': 'http://book.naver.com/bookdb/book_detail.php?bid=16343556', 'image': 'https://bookthumb-phinf.pstatic.net/cover/163/435/16343556.jpg?type=m1&udate=20200504', 'author': '퉁구스카', 'price': '10000', 'discount': '9000', 'publisher': '길찾기', 'pubdate': '20200427', 'isbn': '1160858500 9791160858501', 'description': '봄과 공유하는 감각에 정신을 집중한 겨울은, 밝은 낮에도\\n어두운 시간을 보낸 사람들이 고단한 하루를 정리하는 모습들을 느낄 수 있었다.\\n\\n그들은 여전히 사후의 희망을 꿈꾸며\\n타인의 사후를 엿보는 자들이었다.\\n\\n『납골당의 <b>어린왕자</b>』 그 마지막 이야기'}, {'title': '2021 미니멀 가계부(<b>어린왕자</b>)(양장본 HardCover) (<b>어린왕자</b>)', 'link': 'http://book.naver.com/bookdb/book_detail.php?bid=16745940', 'image': 'https://bookthumb-phinf.pstatic.net/cover/167/459/16745940.jpg?type=m1&udate=20200925', 'author': '유나 편집부', 'price': '9000', 'discount': '0', 'publisher': '유나', 'pubdate': '20200926', 'isbn': '9479920190 8809479920190', 'description': '당신의 아날로그 감성을 기록하여 소장하세요\\n당신의 꿈을 이루어줄 최고의 파트너\\n시크하고 심플한 디자인의 최고급 가계부\\n2021년은 <b>어린 왕자</b>와 함께 합니다.\\n\\n당신은 꿈이 있습니다. 꿈을 이루고 싶으세요? 꿈을 현실로 이루어주는 하루 5분 법칙! 이제 가계부를 써보세요. 「2021 미니멀 가계부」는 특별한...'}, {'title': '2021 유나 탁상달력(<b>어린왕자</b>) (<b>어린왕자</b>)', 'link': 'http://book.naver.com/bookdb/book_detail.php?bid=16891271', 'image': 'https://bookthumb-phinf.pstatic.net/cover/168/912/16891271.jpg?type=m1&udate=20201102', 'author': '유나 편집부', 'price': '8000', 'discount': '0', 'publisher': '유나', 'pubdate': '20201114', 'isbn': '9479920212 8809479920213', 'description': '<b>어린왕자</b> 일러스트가 가득한 탁상달력입니다. 2020년 11월부터 2021년 12월까지 총 14개월의 달력으로 구성되어 있습니다. <b>어린왕자</b>와 함께 행복한 2021년을 맞이하세요.'}, {'title': '<b>어린왕자</b>(지구별 명작동화)(양장본 HardCover) (사랑을 담은 이야기)', 'link': 'http://book.naver.com/bookdb/book_detail.php?bid=20995747', 'image': 'https://bookthumb-phinf.pstatic.net/cover/209/957/20995747.jpg?type=m1&udate=20210927', 'author': '생텍쥐페리|김용란', 'price': '10000', 'discount': '9000', 'publisher': '인북', 'pubdate': '20210801', 'isbn': '1186882263 9791186882269', 'description': '<b>어린 왕자</b>는 장미꽃이 귀찮아져서 다른 별로 여행을 떠났어요.하지만 점점 혼자 둔 장미꽃이 걱정되고, 그리워졌지요.<b>어린 왕자</b>는 장미꽃이 아주 소중한 친구라는 것을 깨닫게 된답니다.<b>어린 왕자</b>가 다시 자기 별로 돌아가 장미꽃과 만날 수 있을까요?'}, {'title': '<b>어린왕자</b>', 'link': 'http://book.naver.com/bookdb/book_detail.php?bid=17689480', 'image': 'https://bookthumb-phinf.pstatic.net/cover/176/894/17689480.jpg?type=m1&udate=20201223', 'author': '생텍쥐페리 원저|천선란 추천', 'price': '12000', 'discount': '10800', 'publisher': '팡세', 'pubdate': '20201215', 'isbn': '8961559109 9788961559102', 'description': '클래식 『<b>어린왕자</b>』. 우주로 떠날 때도, 무인도로 떠날 때도, 단 한권의 책을 고르라면 주저 없이 <b>어린왕자</b>와의 동행을 선택하는 이유는, 생텍쥐페리가... <b>어린왕자</b>는 전지구의 인류에게 가장 특별한 손님이자, 우리를 결코 떠나지 않는 우리 자신의 내적 자아이다. 왜 세월이 흐를수록 <b>어린왕자</b>가 그리울까? 그는...'}, {'title': '<b>어린왕자</b> 탁상달력: 체크 리스트형(2021)(스프링)', 'link': 'http://book.naver.com/bookdb/book_detail.php?bid=17193964', 'image': 'https://bookthumb-phinf.pstatic.net/cover/171/939/17193964.jpg?type=m1&udate=20201222', 'author': '미르북컴퍼니 편집부', 'price': '7500', 'discount': '4500', 'publisher': '미르북컴퍼니(미르북스)', 'pubdate': '20201105', 'isbn': '9529011725 8809529011724', 'description': '『<b>어린왕자</b> 탁상달력: 체크 리스트형(2021)』은 세상에서 가장 순수한 영혼 별처럼 빛나는 <b>어린 왕자</b>와 2021년을 만난다. 앞면에 체크리스트가 있어 매월 중요한 일정을 기입할 수 있다.'}, {'title': '<b>어린왕자</b> 공식 영문판 (생텍쥐페리 재단 공인)', 'link': 'http://book.naver.com/bookdb/book_detail.php?bid=21136599', 'image': 'https://bookthumb-phinf.pstatic.net/cover/211/365/21136599.jpg?type=m1&udate=20211023', 'author': '생텍쥐페리', 'price': '11800', 'discount': '10620', 'publisher': '더모던', 'pubdate': '20210930', 'isbn': '1164455281 9791164455287', 'description': '출간된 지 70여 년이 지났지만, 여전히 가장 새롭고 아름다운 소설인 《<b>어린 왕자</b>》. 성별 연령 인종 국적을 초월해서 큰 사랑을 받는 작품인 만큼 다양한 번역과 판본이 존재하는데, 이 책은 생텍쥐페리 재단의 오리지널 삽화를 수록하고 재단의 공인을 받은 공식판이다. ‘날개 달린 시인(WINGED POET)’으로...'}, {'title': '<b>어린 왕자</b>', 'link': 'http://book.naver.com/bookdb/book_detail.php?bid=14200305', 'image': 'https://bookthumb-phinf.pstatic.net/cover/142/003/14200305.jpg?type=m1&udate=20190103', 'author': '생텍쥐페리', 'price': '3900', 'discount': '3510', 'publisher': '더클래식', 'pubdate': '20181112', 'isbn': '1189581760 9791189581763', 'description': '앙투안 드 생텍쥐페리의 『<b>어린 왕자</b>』. 비행기 고장으로 사막에 불시착한 조종사는 한 이상한 소년을 만난다. 소년은 조종사에게 양을 그려 달라고... 소년은 자신이 사는 작은 별에 사랑하는 장미를 남겨두고 세상을 보기 위해 여행을 온 <b>어린 왕자</b>였다. <b>어린 왕자</b>는 몇 군데의 별을 돌아다닌 후 지구로 와 뱀...'}, {'title': '<b>어린 왕자</b>+빨강머리 앤 스크래치 북 세트(전2권) (동화와 힐링이 만나다)', 'link': 'http://book.naver.com/bookdb/book_detail.php?bid=11573199', 'image': 'https://bookthumb-phinf.pstatic.net/cover/115/731/11573199.jpg?type=m1&udate=20170228', 'author': '편집부', 'price': '40000', 'discount': '0', 'publisher': '이지라이프', 'pubdate': '20170118', 'isbn': '9481770311 8809481770318', 'description': '한때 어린아이였던 어른들에게 바치는 따뜻한 위로의 그림과 메시지!『<b>어린 왕자</b>+빨강머리 앤 스크래치 북 세트』는 어른들을 위한 동화 《<b>어린 왕자</b>, 빨강머리 앤》을 스크래치 북으로 재탄생시킨 힐링 아트북이다. 본문에 수록된 아름다운 일러스트들을 특별 제작된 스크래치 전용 펜으로 쓱쓱 긁어 나만의...'}, {'title': '<b>어린왕자</b> (리딩속도가 빨라지는 영어책 1)', 'link': 'http://book.naver.com/bookdb/book_detail.php?bid=8796231', 'image': 'https://bookthumb-phinf.pstatic.net/cover/087/962/08796231.jpg?type=m1&udate=20181117', 'author': '생텍쥐페리', 'price': '6800', 'discount': '6120', 'publisher': '랭컴', 'pubdate': '20150225', 'isbn': '8998469723 9788998469726', 'description': '이 책은 남녀노소 누구나 좋아하는 세계명작 클래식을 기반으로 전체 내용의 이해와 영어 읽기 실력 향상을 위해 구성된 책입니다. 영문에는 중요하거나 어려운 단어에 뜻을 붙여 놓았습니다. 모르는 단어, 이해가 가지 않는 문장이 나와서 원서 읽기를 쉽게 포기하지 않도록 하기 위해서입니다. 일단 전체적인...'}, {'title': '<b>어린왕자</b> (1943년 초판본 빈티지 디자인,한국어판)', 'link': 'http://book.naver.com/bookdb/book_detail.php?bid=11125360', 'image': 'https://bookthumb-phinf.pstatic.net/cover/111/253/11125360.jpg?type=m1&udate=20190827', 'author': '생텍쥐페리', 'price': '12000', 'discount': '10800', 'publisher': '소와다리', 'pubdate': '20161015', 'isbn': '8998046776 9788998046774', 'description': '초판본 디자인을 충실히 재현하고 빈티지 감성을 더한 <b>어린왕자</b>!1943년 초판본 빈티지 디자인으로 선보이는, 철학책보다 철학적이고 동화책보다 아름다운 이야기『<b>어린왕자</b>(한국어판)』. 사하라 사막... 어디서 왔는지, 또 누구인지 물어도 통 대답이 없지만 얼마 후 그 소년이 머나먼 별에서 온 <b>어린 왕자</b>라는...'}, {'title': '<b>어린 왕자</b>', 'link': 'http://book.naver.com/bookdb/book_detail.php?bid=10006743', 'image': 'https://bookthumb-phinf.pstatic.net/cover/100/067/10006743.jpg?type=m1&udate=20190827', 'author': '생텍쥐페리', 'price': '9000', 'discount': None, 'publisher': '새움', 'pubdate': '20170922', 'isbn': '1195632657 9791195632657', 'description': '역가 이정서는 기존 번역에 문제를 제기하며 생텍쥐페리의 불어판 [<b>어린 왕자</b>]에 대해 새롭고 정밀한 번역을 시도했다. 이번 [<b>어린 왕자</b>]는 기존의 번역들에서는 느낄 수 없었던 생텍쥐페리의 의미와 숨결을 정확하게 그대로 살린 번역본이 될 것이다.'}, {'title': '<b>어린 왕자</b> (더클래식 세계문학 미니미니북 초판본 002)', 'link': 'http://book.naver.com/bookdb/book_detail.php?bid=14196126', 'image': 'https://bookthumb-phinf.pstatic.net/cover/141/961/14196126.jpg?type=m1&udate=20200424', 'author': '생텍쥐페리', 'price': '3900', 'discount': '3510', 'publisher': '더클래식', 'pubdate': '20181112', 'isbn': '1189581779 9791189581770', 'description': '세상에서 가장 순수한 영혼, <b>어린 왕자</b> 이야기\\n1943년 초판본 표지디자인의 감성!\\n한 손에 쏙 들어오는 편한 크기 출퇴근, 등하교길이 가볍다\\n더클래식이... 소년은 자신이 사는 작은 별에 사랑하는 장미를 남겨두고 세상을 보기 위해 여행을 온 <b>어린 왕자</b>였다. <b>어린 왕자</b>는 몇 군데의 별을 돌아다닌 후 지구로 와 뱀...'}, {'title': '<b>어린 왕자</b> (허밍버드 클래식 3)', 'link': 'http://book.naver.com/bookdb/book_detail.php?bid=7392603', 'image': 'https://bookthumb-phinf.pstatic.net/cover/073/926/07392603.jpg?type=m1&udate=20200305', 'author': '생텍쥐페리', 'price': '11500', 'discount': '10350', 'publisher': '허밍버드', 'pubdate': '20131216', 'isbn': '8968330174 9788968330179', 'description': '동시대를 호흡하는 문인 김경주 시인의 번역과 빈티지 디자인 ‘7321 DESIGN’이 만나 탄생한『<b>어린 왕자</b>』. 앙투안 드 생텍쥐페리의 작품으로 섬세한 감수성으로 원작의 감동을 고스란히 살렸다. 비행기 고장으로 사막에 불시착한 조종사가 <b>어린왕자</b>를 만나 친구가 된다. <b>어린왕자</b>와 여우는 서로에게 길들여...'}, {'title': '<b>어린 왕자</b> (프랑스어로 읽는 세계명작, Le petit prince)', 'link': 'http://book.naver.com/bookdb/book_detail.php?bid=20514342', 'image': 'https://bookthumb-phinf.pstatic.net/cover/205/143/20514342.jpg?type=m1&udate=20210514', 'author': 'Antoine Marie Jean-Baptiste Roger de Saint-Exupery', 'price': '7000', 'discount': '6300', 'publisher': '디자인닷컴', 'pubdate': '20210515', 'isbn': '1197327614 9791197327612', 'description': '미국, 유럽, 제3세계 국가들의 다양한 번역 출판을 보며 불한문고의 긴요한 필요성을 절감하게 되어 불한대역 문고 첫 작품으로 생텍쥐베리의 &lt;<b>어린 왕자</b>&gt;를 펴내게 되었다. 손 안에 쏙 들어오는 핸디 사이즈 독자를 배려한 원문 각주 및 한글 해석 등을 통해 프랑스어 학습과 명작에서 얻는 독서의 기쁨을...'}, {'title': '<b>어린왕자</b> 필사 노트(초판본)(양장본 HardCover) (Le Petit Prince)', 'link': 'http://book.naver.com/bookdb/book_detail.php?bid=20633653', 'image': 'https://bookthumb-phinf.pstatic.net/cover/206/336/20633653.jpg?type=m1&udate=20211104', 'author': '미르북컴퍼니 편집부', 'price': '10000', 'discount': '6000', 'publisher': '더스토리', 'pubdate': '20210615', 'isbn': '9529011970 8809529011977', 'description': '이 책은 <b>어린왕자</b> 필사 노트 초판본입니다.'}, {'title': '<b>어린 왕자</b>', 'link': 'http://book.naver.com/bookdb/book_detail.php?bid=11896812', 'image': 'https://bookthumb-phinf.pstatic.net/cover/118/968/11896812.jpg?type=m1&udate=20170725', 'author': '생텍쥐페리', 'price': '7700', 'discount': '6930', 'publisher': '펭귄클래식코리아', 'pubdate': '20170405', 'isbn': '8901215748 9788901215747', 'description': '생텍쥐페리의 『<b>어린 왕자</b>』를 마카롱 같은 색감으로 만나볼 수 있다. &#x0D;&#x0D;앙투안 드 생텍쥐페리의 『<b>어린 왕자</b>』&#x0D;“마음으로 봐야만 잘 볼 수... 매우 짧고 단순해 보이는, 그러나 한없이 깊고 아름다운 이 우화는 비행기 고장으로 사하라 사막에 불시착한 비행사와 <b>어린 왕자</b>의 만남을 신비롭게...'}, {'title': '<b>어린왕자</b> (중국어로 듣고 읽는)', 'link': 'http://book.naver.com/bookdb/book_detail.php?bid=7101639', 'image': 'https://bookthumb-phinf.pstatic.net/cover/071/016/07101639.jpg?type=m1&udate=20180620', 'author': '화서당', 'price': '7000', 'discount': '6300', 'publisher': '넥서스CHINESE', 'pubdate': '20121210', 'isbn': '8957952411 9788957952412', 'description': '넥서스CHINESE 중한문고는 널리 알려진 세계 명작 등을 중국어로 듣고 읽으며 자연스럽게 독해와 청취 실력을 기르는 교재입니다. 간결하고 쉬운 중국어 문장으로 원작의 감동을 그대로 느끼며, 초중급 수준의 쉬운 단어와 발음 표기, 친절한 해석으로 사전 없이도 듣고 말하는 중국어 이야기책입니다.'}, {'title': '<b>어린왕자</b>', 'link': 'http://book.naver.com/bookdb/book_detail.php?bid=16373852', 'image': 'https://bookthumb-phinf.pstatic.net/cover/163/738/16373852.jpg?type=m1&udate=20200606', 'author': '앙투안 드 생텍쥐페리', 'price': '12800', 'discount': '11520', 'publisher': '느낌이있는책', 'pubdate': '20200601', 'isbn': '1161951040 9791161951041', 'description': '전 세계인이 가장 사랑하는 명작 ‘<b>어린왕자</b>’세대와 지역을 아우르며 가장 많이 읽힌 소설 중 하나인 《<b>어린 왕자</b>》는 사람과 사람의 진정한 관계와... 소행성 B-612에 살고 있던 <b>어린 왕자</b>는 화산 두 개에 아침 식사를 데워 먹고 나쁜 바오밥나무 새싹을 뽑아내고 의자에 앉아 하루에 마흔네 번 해가 지는 것을...'}, {'title': '<b>어린왕자</b> 탁상달력: 일반형(2021)', 'link': 'http://book.naver.com/bookdb/book_detail.php?bid=17193969', 'image': 'https://bookthumb-phinf.pstatic.net/cover/171/939/17193969.jpg?type=m1&udate=20201222', 'author': '미르북컴퍼니 편집부', 'price': '7500', 'discount': '4500', 'publisher': '미르북컴퍼니(미르북스)', 'pubdate': '20201115', 'isbn': '9529011717 8809529011717', 'description': '『<b>어린왕자</b> 탁상달력: 일반형(2021)』은 세상에서 가장 순수한 영혼 별처럼 빛나는 <b>어린 왕자</b>와 2021년을 만난다.'}, {'title': '<b>어린왕자</b> (삼성초등세계문학 11)', 'link': 'http://book.naver.com/bookdb/book_detail.php?bid=12451500', 'image': 'https://bookthumb-phinf.pstatic.net/cover/124/515/12451500.jpg?type=m1&udate=20171215', 'author': '삼성출판사 편집부', 'price': '6800', 'discount': '6100', 'publisher': '삼성출판사', 'pubdate': '20170401', 'isbn': '8915104366 9788915104365', 'description': '초등학생 어린이에게 필요한 감성과 인성을 길러줄 뿐만 아니라, 어휘력과 이해력 등의 논술 능력을 키우는 데에도 도움을 준다. \\n\\n한 송이 장미꽃과 함께 소혹성 B613호에 살고 있는 <b>어린 왕자</b>. 아름답지만 교만한 꽃이 부려대는 투정 때문에 <b>어린 왕자</b>는 자기 별을 떠나 여행하게 된다. 여기 저기 많은 별들은...'}, {'title': '납골당의 <b>어린왕자</b> 11 (V Novel)', 'link': 'http://book.naver.com/bookdb/book_detail.php?bid=16121329', 'image': 'https://bookthumb-phinf.pstatic.net/cover/161/213/16121329.jpg?type=m1&udate=20200115', 'author': '퉁구스카', 'price': '10000', 'discount': '9000', 'publisher': '길찾기', 'pubdate': '20200116', 'isbn': '116085775X 9791160857757', 'description': '이 세상은 이미 그 어두운 길로 확실하게 접어들었다.\\n앞으로 줄곧 저 바깥세상을 닮아갈 것이다.\\n설령 종말을 피한다 한들 아름다움과는 거리가 멀 결말이었다.\\n그 결말을 나중에라도 뒤집을 수 있을까?\\n그런 와중에, 겨울의 눈앞에 겨울에게만 보이는 문장 하나가 떠올랐다.\\n\\n『이 세계에 흐르던 시간이 정지했다.』'}, {'title': '<b>어린 왕자</b> (오리지널 초판본)', 'link': 'http://book.naver.com/bookdb/book_detail.php?bid=16749766', 'image': 'https://bookthumb-phinf.pstatic.net/cover/167/497/16749766.jpg?type=m1&udate=20210327', 'author': '앙투안 드 생텍쥐페리', 'price': '8800', 'discount': '7900', 'publisher': '코너스톤', 'pubdate': '20200922', 'isbn': '1190669331 9791190669337', 'description': '‘가장 중요한 것은 눈에 보이지 않아.’\\n모두가 사랑하는 《<b>어린 왕자</b>》를 초판본 디자인으로 만나보세요.“네가 만약 오후 네 시에 온다면, 나는 세... 그래서 의식이 필요한 거야.”\\n\\n사막에 추락한 조종사가 지구를 여행 중인 <b>어린 왕자</b>를 만나는 생텍쥐페리의 대표작, 《<b>어린 왕자</b>》는 1943년 출간 이래로...'}, {'title': '<b>어린왕자</b>', 'link': 'http://book.naver.com/bookdb/book_detail.php?bid=9742173', 'image': 'https://bookthumb-phinf.pstatic.net/cover/097/421/09742173.jpg?type=m1&udate=20211022', 'author': '생텍쥐페리', 'price': '11000', 'discount': '9900', 'publisher': '솔', 'pubdate': '20151120', 'isbn': '1186634685 9791186634684', 'description': '전 세계인들에게 사랑 받는 아름다운 이야기!생텍쥐페리가 그린 <b>어린왕자</b>의 스케치 모음과 영화 속 명장면을 함께 담은 『<b>어린 왕자</b>』. 행성 B612호에서 온 한 어린아이가 바라본 지구별이란 여행지에 대한 단상을 모태로 하고 있지만 실상은 순수하기만 한 아이의 시선으로 보는 어른들의 세계를 은유로 풀어낸...'}, {'title': '<b>어린 왕자</b> (한국어판, 1943년 초판본 오리지널 디자인)', 'link': 'http://book.naver.com/bookdb/book_detail.php?bid=7450377', 'image': 'https://bookthumb-phinf.pstatic.net/cover/074/503/07450377.jpg?type=m1&udate=20200305', 'author': '생텍쥐페리', 'price': '12000', 'discount': '10800', 'publisher': '소와다리', 'pubdate': '20140320', 'isbn': '8998046326 9788998046323', 'description': '<b>어린왕자</b>가 들려주는 신비한 이야기!1943년 발행된 초판본의 디자인을 그대로 재현한 『<b>어린 왕자</b>』 한국어판. 사하라 사막에 불시착한 주인공이 머나먼 별에서 온 <b>어린왕자</b>를 만나고 8일 밤낮동안 <b>어린왕자</b>가 들려주는 이야기를 통해 아이들의 눈에 비친 어른들의 어리석은 모습을 돌아보게 하는 작품이다....'}, {'title': '<b>어린 왕자</b>와의 일주일', 'link': 'http://book.naver.com/bookdb/book_detail.php?bid=13660156', 'image': 'https://bookthumb-phinf.pstatic.net/cover/136/601/13660156.jpg?type=m1&udate=20210301', 'author': '독고', 'price': '16800', 'discount': '15120', 'publisher': '프로작북스', 'pubdate': '20180605', 'isbn': '119636950X 9791196369507', 'description': '전 세계 1억 명이 넘는 사람들을 감동시킨 <b>어린 왕자</b>와 직접 만나 이야기를 나누고 친구가 되어간다. 그 꿈만 같은 시간을 위해 열정에 기름붓기는 다시 한 번 B612호의 <b>어린 왕자</b>를 불러왔다.\\n\\n우리의 삶에 맞게 재해석된 등장인물과 이야기, 그리고 &lt;<b>어린 왕자</b>와의 일주일&gt;에서만 볼 수 있는 새로운...'}, {'title': '<b>어린왕자</b>', 'link': 'http://book.naver.com/bookdb/book_detail.php?bid=16339276', 'image': 'https://bookthumb-phinf.pstatic.net/cover/163/392/16339276.jpg?type=m1&udate=20210928', 'author': '생텍쥐페리', 'price': '9500', 'discount': '8550', 'publisher': '삼성당', 'pubdate': '20200427', 'isbn': '8914020258 9788914020253', 'description': '〈THE CLASSIC〉 시리즈는 언제 읽어도 잔잔한 감동과 교훈을 주는 세계 명작을 엄선하여 <b>어린</b>이의 눈높이에 맞춰 구성된 명작동화 입니다. 명작 중 가장 인기 있고 널리 알려진 작품들로 세계 여러 이야기를 통하여 <b>어린</b>이들이 스스로 지혜를 배우고 아름답고 신비로운 경험을 할 수 있도록 구성하였습니다....'}, {'title': '<b>어린왕자</b> (중학생독후감필독선 1)', 'link': 'http://book.naver.com/bookdb/book_detail.php?bid=2842', 'image': 'https://bookthumb-phinf.pstatic.net/cover/000/028/00002842.jpg?type=m1&udate=20141122', 'author': '생텍쥐페리', 'price': '8000', 'discount': '7200', 'publisher': '신원문화사', 'pubdate': '20001201', 'isbn': '8935909521 9788935909520', 'description': '꼭 읽히고 싶은 명작들을 선정하여, 작품을 바르게 감상하고 독후감을 쓰는 데 도움을 주고자 기획한 시리즈 중학생 독후감 필독선 제1권. 이 책에서 소개하는 작품 ≪<b>어린 왕자</b>≫는 우리에게 너무나 잘 알려진 생텍쥐페리가 나치 독일에 점령당한 조국 프랑스를 떠나 미국으로 망명한 시절에 쓴 불후의 명작이다.'}, {'title': '<b>어린왕자</b>', 'link': 'http://book.naver.com/bookdb/book_detail.php?bid=18002657', 'image': 'https://bookthumb-phinf.pstatic.net/cover/180/026/18002657.jpg?type=m1&udate=20210215', 'author': '앙투안 드 생택쥐페리', 'price': '8800', 'discount': '7920', 'publisher': '자화상', 'pubdate': '20210115', 'isbn': '1191200159 9791191200157', 'description': None}, {'title': '<b>어린 왕자</b> (내 안의 구도자,모든 어른의 마음속에는 울고 있는 아이가 있다)', 'link': 'http://book.naver.com/bookdb/book_detail.php?bid=8903287', 'image': 'https://bookthumb-phinf.pstatic.net/cover/089/032/08903287.jpg?type=m1&udate=20160218', 'author': '박규현', 'price': '13000', 'discount': '11700', 'publisher': '수신제', 'pubdate': '20150325', 'isbn': '1195465319 9791195465316', 'description': '고전 『<b>어린 왕자</b>』를 분열된 현대인의 내면 세계의 풍경과 그 치유, 극복 과정이라는 관점에서 해석, 재조명한 국내 최초의 책이다. 『<b>어린 왕자</b>』는 표면적으로 동화 형태를 띠지만 내용적으로는 인류 보편의 심적 갈등 발생 과정과 전개, 해결에 이르는 전 과정을 상징적으로 드러내주고 있다. 『<b>어린 왕자</b>: 내...'}, {'title': '<b>어린왕자</b> (The Little Prince,주석판 20)', 'link': 'http://book.naver.com/bookdb/book_detail.php?bid=260230', 'image': 'https://bookthumb-phinf.pstatic.net/cover/002/602/00260230.jpg?type=m1&udate=20200305', 'author': '생텍쥐페리', 'price': '3900', 'discount': '3510', 'publisher': '도솔', 'pubdate': '20030217', 'isbn': '8972201324 9788972201328', 'description': '순수한 영혼을 지닌 <b>어린왕자</b>의 이야기를 생텍쥐베리의 삽화와 함께 구성한 세계 고전명작. 코끼리를 삼킨 보아 구렁이, 사랑과 소유에 대한 여우의 상징적 표현 등을 통해 인간과 사랑, 우정의 참 모습을 유려하고 아름다운 문체로 들려주는 책이다.'}]\n"
     ]
    },
    {
     "data": {
      "text/html": [
       "<div>\n",
       "<style scoped>\n",
       "    .dataframe tbody tr th:only-of-type {\n",
       "        vertical-align: middle;\n",
       "    }\n",
       "\n",
       "    .dataframe tbody tr th {\n",
       "        vertical-align: top;\n",
       "    }\n",
       "\n",
       "    .dataframe thead th {\n",
       "        text-align: right;\n",
       "    }\n",
       "</style>\n",
       "<table border=\"1\" class=\"dataframe\">\n",
       "  <thead>\n",
       "    <tr style=\"text-align: right;\">\n",
       "      <th></th>\n",
       "      <th>title</th>\n",
       "      <th>author</th>\n",
       "      <th>price</th>\n",
       "      <th>discount</th>\n",
       "      <th>isbn</th>\n",
       "    </tr>\n",
       "  </thead>\n",
       "  <tbody>\n",
       "    <tr>\n",
       "      <th>0</th>\n",
       "      <td>2022년 어린왕자 마음의 눈으로 보이는 것들 탁상 달력</td>\n",
       "      <td>북엔 편집부</td>\n",
       "      <td>9800</td>\n",
       "      <td>5880</td>\n",
       "      <td>9529012071 8809529012073</td>\n",
       "    </tr>\n",
       "    <tr>\n",
       "      <th>1</th>\n",
       "      <td>어린 왕자 (Le Petit Prince)</td>\n",
       "      <td>생텍쥐페리</td>\n",
       "      <td>9800</td>\n",
       "      <td>8800</td>\n",
       "      <td>8932917248 9788932917245</td>\n",
       "    </tr>\n",
       "    <tr>\n",
       "      <th>2</th>\n",
       "      <td>어린왕자 (초판본)</td>\n",
       "      <td>생텍쥐페리</td>\n",
       "      <td>9800</td>\n",
       "      <td>8800</td>\n",
       "      <td>1159039690 9791159039690</td>\n",
       "    </tr>\n",
       "    <tr>\n",
       "      <th>3</th>\n",
       "      <td>단계별 영어 원서 나도 이제 영어로 읽는다 어린 왕자 (사전 없이도 읽을 수 있는 ...</td>\n",
       "      <td>앙투안 드 생텍쥐페리</td>\n",
       "      <td>17900</td>\n",
       "      <td>16110</td>\n",
       "      <td>1197005617 9791197005619</td>\n",
       "    </tr>\n",
       "    <tr>\n",
       "      <th>4</th>\n",
       "      <td>2022년 어린왕자 일력</td>\n",
       "      <td>미르북컴퍼니 편집부</td>\n",
       "      <td>19800</td>\n",
       "      <td>15840</td>\n",
       "      <td>952901225X 8809529012257</td>\n",
       "    </tr>\n",
       "    <tr>\n",
       "      <th>...</th>\n",
       "      <td>...</td>\n",
       "      <td>...</td>\n",
       "      <td>...</td>\n",
       "      <td>...</td>\n",
       "      <td>...</td>\n",
       "    </tr>\n",
       "    <tr>\n",
       "      <th>95</th>\n",
       "      <td>어린왕자</td>\n",
       "      <td>생텍쥐페리</td>\n",
       "      <td>9500</td>\n",
       "      <td>8550</td>\n",
       "      <td>8914020258 9788914020253</td>\n",
       "    </tr>\n",
       "    <tr>\n",
       "      <th>96</th>\n",
       "      <td>어린왕자 (중학생독후감필독선 1)</td>\n",
       "      <td>생텍쥐페리</td>\n",
       "      <td>8000</td>\n",
       "      <td>7200</td>\n",
       "      <td>8935909521 9788935909520</td>\n",
       "    </tr>\n",
       "    <tr>\n",
       "      <th>97</th>\n",
       "      <td>어린왕자</td>\n",
       "      <td>앙투안 드 생택쥐페리</td>\n",
       "      <td>8800</td>\n",
       "      <td>7920</td>\n",
       "      <td>1191200159 9791191200157</td>\n",
       "    </tr>\n",
       "    <tr>\n",
       "      <th>98</th>\n",
       "      <td>어린 왕자 (내 안의 구도자,모든 어른의 마음속에는 울고 있는 아이가 있다)</td>\n",
       "      <td>박규현</td>\n",
       "      <td>13000</td>\n",
       "      <td>11700</td>\n",
       "      <td>1195465319 9791195465316</td>\n",
       "    </tr>\n",
       "    <tr>\n",
       "      <th>99</th>\n",
       "      <td>어린왕자 (The Little Prince,주석판 20)</td>\n",
       "      <td>생텍쥐페리</td>\n",
       "      <td>3900</td>\n",
       "      <td>3510</td>\n",
       "      <td>8972201324 9788972201328</td>\n",
       "    </tr>\n",
       "  </tbody>\n",
       "</table>\n",
       "<p>100 rows × 5 columns</p>\n",
       "</div>"
      ],
      "text/plain": [
       "                                                title       author  price  \\\n",
       "0                     2022년 어린왕자 마음의 눈으로 보이는 것들 탁상 달력       북엔 편집부   9800   \n",
       "1                             어린 왕자 (Le Petit Prince)        생텍쥐페리   9800   \n",
       "2                                          어린왕자 (초판본)        생텍쥐페리   9800   \n",
       "3   단계별 영어 원서 나도 이제 영어로 읽는다 어린 왕자 (사전 없이도 읽을 수 있는 ...  앙투안 드 생텍쥐페리  17900   \n",
       "4                                       2022년 어린왕자 일력   미르북컴퍼니 편집부  19800   \n",
       "..                                                ...          ...    ...   \n",
       "95                                               어린왕자        생텍쥐페리   9500   \n",
       "96                                 어린왕자 (중학생독후감필독선 1)        생텍쥐페리   8000   \n",
       "97                                               어린왕자  앙투안 드 생택쥐페리   8800   \n",
       "98         어린 왕자 (내 안의 구도자,모든 어른의 마음속에는 울고 있는 아이가 있다)          박규현  13000   \n",
       "99                    어린왕자 (The Little Prince,주석판 20)        생텍쥐페리   3900   \n",
       "\n",
       "   discount                      isbn  \n",
       "0      5880  9529012071 8809529012073  \n",
       "1      8800  8932917248 9788932917245  \n",
       "2      8800  1159039690 9791159039690  \n",
       "3     16110  1197005617 9791197005619  \n",
       "4     15840  952901225X 8809529012257  \n",
       "..      ...                       ...  \n",
       "95     8550  8914020258 9788914020253  \n",
       "96     7200  8935909521 9788935909520  \n",
       "97     7920  1191200159 9791191200157  \n",
       "98    11700  1195465319 9791195465316  \n",
       "99     3510  8972201324 9788972201328  \n",
       "\n",
       "[100 rows x 5 columns]"
      ]
     },
     "execution_count": 30,
     "metadata": {},
     "output_type": "execute_result"
    }
   ],
   "source": [
    "book_api_xml()"
   ]
  },
  {
   "cell_type": "code",
   "execution_count": null,
   "id": "1c8562ec",
   "metadata": {},
   "outputs": [],
   "source": []
  }
 ],
 "metadata": {
  "kernelspec": {
   "display_name": "Python 3",
   "language": "python",
   "name": "python3"
  },
  "language_info": {
   "codemirror_mode": {
    "name": "ipython",
    "version": 3
   },
   "file_extension": ".py",
   "mimetype": "text/x-python",
   "name": "python",
   "nbconvert_exporter": "python",
   "pygments_lexer": "ipython3",
   "version": "3.8.8"
  }
 },
 "nbformat": 4,
 "nbformat_minor": 5
}
