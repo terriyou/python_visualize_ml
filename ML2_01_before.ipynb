{
 "cells": [
  {
   "cell_type": "code",
   "execution_count": null,
   "id": "c330af73",
   "metadata": {},
   "outputs": [],
   "source": [
    "# 주피터 노트북 환경설정\n",
    "import warnings\n",
    "warnings.filterwarnings('ignore')\n",
    "warnings.simplefilter('ignore')\n",
    "\n",
    "from IPython.display import set_matplotlib_formats\n",
    "set_matplotlib_formats(\"retina\")\n",
    "\n",
    "from IPython.core.display import display, HTML\n",
    "# display(HTML(\"<style>.container { font-weight: bold !important; font-family:'Malgun Gothic' !important;}</style>\"))\n",
    "display(HTML(\"<style>.container { font-weight: bold !important;}</style>\"))\n",
    "display(HTML(\"<style>.container { width: 98% !important; }</style>\"))"
   ]
  },
  {
   "cell_type": "code",
   "execution_count": null,
   "id": "578a2554",
   "metadata": {},
   "outputs": [],
   "source": [
    "import numpy as np\n",
    "import pandas as pd\n",
    "import os\n",
    "\n",
    "import matplotlib\n",
    "import matplotlib.pyplot as plt\n",
    "import seaborn as sns\n",
    "\n",
    "%matplotlib inline\n",
    "\n",
    "# 관련 라이브러리 임포트 \n",
    "import matplotlib.font_manager as fm\n",
    "\n",
    "#  한글글꼴로 변경\n",
    "# plt.rcParams['font.family'] = '한글글꼴명'\n",
    "plt.rcParams['font.size'] = 11.0\n",
    "# plt.rcParams['font.family'] = 'batang'\n",
    "plt.rcParams['font.family'] = 'Malgun Gothic'\n",
    "\n",
    "# 그래프에서 마이너스 폰트 깨지는 문제에 대한 대처\n",
    "matplotlib.rcParams['axes.unicode_minus'] = False\n",
    "\n",
    "# 그래프 기본 크기 설정 \n",
    "plt.rcParams['figure.figsize'] = [10, 6]"
   ]
  },
  {
   "cell_type": "markdown",
   "id": "68f5ae9b",
   "metadata": {},
   "source": [
    "# 피처 스케일링\n",
    "\n",
    "- 두 특성(길이와 무게)의 값이 놓인 범위가 다르다. => 스케일(Scale)이 다르다 라고 한다. \n",
    "- 방의 넓이를 재는데 한사람은 cm, 다른사람은 incn로 재는것과 같다. \n",
    "- k-최근접 이웃 알고리즘은 샘플간의 거리에 영향을 많이 받는다. 반면 결정트리와 같은 알고리즘의 경우에는 스케일링에 그다지 많은 영향을 받지는 않는다\n",
    "- 표준점수(Standard Score) \n",
    "    - z 점수는 각 특성값이 0에서 표준편차의 몇배만큼 떨어져 있는지 표시한다. \n",
    "    - 실제 특성값의 크기와 상관없이 동일한 조건으로 비교할 수 있다. \n",
    "    - 각 데이터가 원점에서 몇 표준편차만큼 떨어져 있는지 나타낸다.\n",
    "- 분산 : 데이터에서 평균을 뺀 값을 모두 제곱한 다음 평균을 내어 구한다. \n",
    "- 표준편차 : 분산의 제곱근으로 데이터가 분산된 정도를 나타낸다. \n",
    "\n",
    "### 표준와와 정규화 \n",
    "- 표준화는 데이타의 피처 각각이 평균이 0이고 분산이 1인 가우시안 정규 분포를 가진 값으로 변환하는 것을 의미한다. \n",
    "- 정규화란 서로 다른 피처의 크기를 통일하기 위해 크기를 변환해주는 개념이다. "
   ]
  },
  {
   "cell_type": "markdown",
   "id": "2923d0f4",
   "metadata": {},
   "source": [
    "# 도미와 빙어 (스케일링 예시)\n",
    "\n",
    "- 스케일링에 따른 모델의 성능 테스트 \n",
    "\n",
    "#### 데이타수집\n",
    "http://bit.ly/bream_smelt"
   ]
  },
  {
   "cell_type": "code",
   "execution_count": null,
   "id": "af0845f0",
   "metadata": {},
   "outputs": [],
   "source": [
    "fish_length = [25.4, 26.3, 26.5, 29.0, 29.0, 29.7, 29.7, 30.0, 30.0, 30.7, 31.0, 31.0, \n",
    "                31.5, 32.0, 32.0, 32.0, 33.0, 33.0, 33.5, 33.5, 34.0, 34.0, 34.5, 35.0, \n",
    "                35.0, 35.0, 35.0, 36.0, 36.0, 37.0, 38.5, 38.5, 39.5, 41.0, 41.0, 9.8, \n",
    "                10.5, 10.6, 11.0, 11.2, 11.3, 11.8, 11.8, 12.0, 12.2, 12.4, 13.0, 14.3, 15.0]\n",
    "\n",
    "fish_weight = [242.0, 290.0, 340.0, 363.0, 430.0, 450.0, 500.0, 390.0, 450.0, 500.0, 475.0, 500.0, \n",
    "                500.0, 340.0, 600.0, 600.0, 700.0, 700.0, 610.0, 650.0, 575.0, 685.0, 620.0, 680.0, \n",
    "                700.0, 725.0, 720.0, 714.0, 850.0, 1000.0, 920.0, 955.0, 925.0, 975.0, 950.0, 6.7, \n",
    "                7.5, 7.0, 9.7, 9.8, 8.7, 10.0, 9.9, 9.8, 12.2, 13.4, 12.2, 19.7, 19.9]"
   ]
  },
  {
   "cell_type": "code",
   "execution_count": null,
   "id": "74c04d40",
   "metadata": {},
   "outputs": [],
   "source": [
    "len(fish_length), len(fish_weight)"
   ]
  },
  {
   "cell_type": "code",
   "execution_count": null,
   "id": "8b949d52",
   "metadata": {},
   "outputs": [],
   "source": [
    "fish_target = np.concatenate((np.ones(35), np.zeros(14)))\n",
    "fish_target.shape"
   ]
  },
  {
   "cell_type": "code",
   "execution_count": null,
   "id": "87404239",
   "metadata": {},
   "outputs": [],
   "source": [
    "fish_data = pd.DataFrame(columns=['fish_length', 'fish_weight', 'label'])\n",
    "\n",
    "fish_data['fish_length'] = fish_length\n",
    "fish_data['fish_weight'] = fish_weight\n",
    "\n",
    "fish_data['label'] = fish_target\n",
    "fish_data.sample(5)"
   ]
  },
  {
   "cell_type": "code",
   "execution_count": null,
   "id": "8eee2b97",
   "metadata": {},
   "outputs": [],
   "source": [
    "fish_data.columns"
   ]
  },
  {
   "cell_type": "code",
   "execution_count": null,
   "id": "467f31f6",
   "metadata": {},
   "outputs": [],
   "source": [
    "fish_data.iloc[:35, 0]"
   ]
  },
  {
   "cell_type": "code",
   "execution_count": null,
   "id": "118a3587",
   "metadata": {},
   "outputs": [],
   "source": [
    "\n",
    "plt.scatter(fish_data.iloc[:35, 0], fish_data.iloc[:35, 1]) # 도미 \n",
    "plt.scatter(fish_data.iloc[35:, 0], fish_data.iloc[35:, 1]) # 빙어 \n",
    "plt.xlabel('length - cm')\n",
    "plt.ylabel('weight - g')\n",
    "plt.show()"
   ]
  },
  {
   "cell_type": "code",
   "execution_count": null,
   "id": "febbe9fa",
   "metadata": {},
   "outputs": [],
   "source": [
    "\n",
    "from sklearn.model_selection import train_test_split\n",
    "\n",
    "X_train, X_test, y_train, y_test = train_test_split(fish_data[['fish_length', 'fish_weight']] , fish_data['label'] , \n",
    "                                                    test_size=0.2, random_state=11, stratify=fish_data['label'])"
   ]
  },
  {
   "cell_type": "code",
   "execution_count": null,
   "id": "9410cf24",
   "metadata": {},
   "outputs": [],
   "source": [
    "print(X_train.shape, y_train.shape)\n",
    "print(X_test.shape, y_test.shape)"
   ]
  },
  {
   "cell_type": "code",
   "execution_count": null,
   "id": "fe90fbe4",
   "metadata": {},
   "outputs": [],
   "source": [
    "from sklearn.neighbors import KNeighborsClassifier\n",
    "\n",
    "model_kn = KNeighborsClassifier()\n",
    "model_kn.fit(X_train, y_train)\n",
    "model_kn.score(X_test, y_test)"
   ]
  },
  {
   "cell_type": "markdown",
   "id": "ed700ac3",
   "metadata": {},
   "source": [
    "### KNeighborsClassifier 의 주요 메서드 및 속성"
   ]
  },
  {
   "cell_type": "code",
   "execution_count": null,
   "id": "31b87395",
   "metadata": {},
   "outputs": [],
   "source": [
    "print(dir(KNeighborsClassifier))"
   ]
  },
  {
   "cell_type": "code",
   "execution_count": null,
   "id": "b6ca684d",
   "metadata": {},
   "outputs": [],
   "source": [
    "model_kn.get_params()"
   ]
  },
  {
   "cell_type": "code",
   "execution_count": null,
   "id": "c0b01b89",
   "metadata": {
    "scrolled": true
   },
   "outputs": [],
   "source": [
    "print(X_test)\n",
    "\n",
    "print(model_kn.predict(X_test))\n",
    "\n",
    "print(model_kn.predict([[9.8,6.7]]))\n",
    "\n",
    "print(model_kn.predict_proba([[9.8,6.7]]))"
   ]
  },
  {
   "cell_type": "code",
   "execution_count": null,
   "id": "ed2bcfec",
   "metadata": {},
   "outputs": [],
   "source": [
    "\n",
    "print(model_kn.score(X_test, y_test))"
   ]
  },
  {
   "cell_type": "code",
   "execution_count": null,
   "id": "de89fcea",
   "metadata": {},
   "outputs": [],
   "source": [
    "\n",
    "model_kn.kneighbors([[26.3,290.0]])\n",
    "\n",
    "distance, indexes = model_kn.kneighbors([[26.3,290.0]])\n",
    "print(f'distance = {distance}')\n",
    "print(f'indexes = {indexes}')"
   ]
  },
  {
   "cell_type": "code",
   "execution_count": null,
   "id": "c08e0751",
   "metadata": {},
   "outputs": [],
   "source": [
    "\n",
    "plt.scatter(X_train['fish_length'], X_train['fish_weight'])\n",
    "\n",
    "plt.scatter(26.3,290.0, marker='^')\n",
    "\n",
    "plt.scatter(X_train.iloc[indexes.flatten(), 0], X_train.iloc[indexes.flatten(), 1])\n",
    "\n",
    "plt.xlabel('length - cm')\n",
    "plt.ylabel('weight - g')\n",
    "plt.show()"
   ]
  },
  {
   "cell_type": "markdown",
   "id": "ce908e16",
   "metadata": {},
   "source": [
    "#### 테스트에 없는 새로운 데이타로 테스트 \n"
   ]
  },
  {
   "cell_type": "code",
   "execution_count": null,
   "id": "b57a24a3",
   "metadata": {},
   "outputs": [],
   "source": [
    "\n",
    "print(model_kn.predict([[25, 150]]))\n",
    "print(model_kn.predict([[23, 130]]))"
   ]
  },
  {
   "cell_type": "code",
   "execution_count": null,
   "id": "bbb9d87b",
   "metadata": {},
   "outputs": [],
   "source": [
    "\n",
    "plt.scatter(X_train['fish_length'], X_train['fish_weight'])\n",
    "\n",
    "plt.scatter(25, 150, marker='^')\n",
    "\n",
    "plt.xlabel('length - cm')\n",
    "plt.ylabel('weight - g')\n",
    "plt.show()"
   ]
  },
  {
   "cell_type": "code",
   "execution_count": null,
   "id": "71f41d2f",
   "metadata": {},
   "outputs": [],
   "source": [
    "\n",
    "distances, indexes = model_kn.kneighbors([[25, 150]])\n",
    "distances, indexes"
   ]
  },
  {
   "cell_type": "code",
   "execution_count": null,
   "id": "ab0a8ef4",
   "metadata": {},
   "outputs": [],
   "source": [
    "\n",
    "print(X_train.iloc[[20, 37, 38, 33, 27]])"
   ]
  },
  {
   "cell_type": "code",
   "execution_count": null,
   "id": "20a2f1fa",
   "metadata": {},
   "outputs": [],
   "source": [
    "\n",
    "plt.scatter(X_train['fish_length'], X_train['fish_weight'])\n",
    "plt.scatter(25, 150, marker='^')\n",
    "\n",
    "\n",
    "plt.scatter(X_train.iloc[indexes.flatten(), 0], X_train.iloc[indexes.flatten(), 1])\n",
    "# plt.scatter(X_train.iloc[20, 0], X_train.iloc[20, 1], marker='D', color='r')\n",
    "# plt.scatter(X_train.iloc[37, 0], X_train.iloc[37, 1], marker='D', color='r')\n",
    "# plt.scatter(X_train.iloc[38, 0], X_train.iloc[38, 1], marker='D', color='r')\n",
    "# plt.scatter(X_train.iloc[33, 0], X_train.iloc[33, 1], marker='D', color='r')\n",
    "# plt.scatter(X_train.iloc[27, 0], X_train.iloc[27, 1], marker='D', color='r')\n",
    "\n",
    "plt.xlabel('length')\n",
    "plt.ylabel('weight')\n",
    "plt.show()\n",
    "\n"
   ]
  },
  {
   "cell_type": "code",
   "execution_count": null,
   "id": "9d72ba16",
   "metadata": {},
   "outputs": [],
   "source": [
    "print(distances)"
   ]
  },
  {
   "cell_type": "markdown",
   "id": "7b609f2d",
   "metadata": {},
   "source": []
  },
  {
   "cell_type": "code",
   "execution_count": null,
   "id": "90b9e95b",
   "metadata": {},
   "outputs": [],
   "source": [
    "mean = np.mean(X_train, axis=0)\n",
    "std = np.std(X_train, axis=0)\n",
    "print(mean, '\\n')\n",
    "print(std)"
   ]
  },
  {
   "cell_type": "code",
   "execution_count": null,
   "id": "2559b10a",
   "metadata": {},
   "outputs": [],
   "source": [
    "X_train_scaled = (X_train - mean) / std\n",
    "X_train_scaled.head(3)"
   ]
  },
  {
   "cell_type": "markdown",
   "id": "ace71371",
   "metadata": {},
   "source": [
    "## 전처리 데이터로 모델 훈련하기"
   ]
  },
  {
   "cell_type": "code",
   "execution_count": null,
   "id": "044c733e",
   "metadata": {},
   "outputs": [],
   "source": [
    "new = ([25, 150] - mean) / std\n",
    "new"
   ]
  },
  {
   "cell_type": "code",
   "execution_count": null,
   "id": "c8d34e01",
   "metadata": {},
   "outputs": [],
   "source": [
    "model_kn.fit(X_train_scaled, y_train)"
   ]
  },
  {
   "cell_type": "code",
   "execution_count": null,
   "id": "cf0642b5",
   "metadata": {},
   "outputs": [],
   "source": [
    "X_test_scaled = (X_test - mean) / std"
   ]
  },
  {
   "cell_type": "code",
   "execution_count": null,
   "id": "f44ac503",
   "metadata": {},
   "outputs": [],
   "source": [
    "X_test_scaled.sample(3)"
   ]
  },
  {
   "cell_type": "code",
   "execution_count": null,
   "id": "7d406820",
   "metadata": {},
   "outputs": [],
   "source": [
    "model_kn.score(X_test_scaled, y_test)"
   ]
  },
  {
   "cell_type": "code",
   "execution_count": null,
   "id": "f241b943",
   "metadata": {},
   "outputs": [],
   "source": [
    "print(model_kn.predict([new]))"
   ]
  },
  {
   "cell_type": "code",
   "execution_count": null,
   "id": "51a533fe",
   "metadata": {},
   "outputs": [],
   "source": [
    "distances, indexes = model_kn.kneighbors([new])\n",
    "distances, indexes "
   ]
  },
  {
   "cell_type": "code",
   "execution_count": null,
   "id": "9ed1f3a3",
   "metadata": {},
   "outputs": [],
   "source": [
    "indexes.flatten()"
   ]
  },
  {
   "cell_type": "code",
   "execution_count": null,
   "id": "31ca80e9",
   "metadata": {},
   "outputs": [],
   "source": [
    "X_train_scaled.iloc[indexes.flatten()]"
   ]
  },
  {
   "cell_type": "code",
   "execution_count": null,
   "id": "baee394c",
   "metadata": {},
   "outputs": [],
   "source": [
    "plt.scatter(X_train_scaled['fish_length'], X_train_scaled['fish_weight'])\n",
    "plt.scatter(new[0], new[1], marker='^')\n",
    "\n",
    "plt.scatter(X_train_scaled.iloc[indexes.flatten(), 0], X_train_scaled.iloc[indexes.flatten(), 1], marker='D', color='r')\n",
    "\n",
    "plt.xlabel('length')\n",
    "plt.ylabel('weight')\n",
    "plt.show()"
   ]
  },
  {
   "cell_type": "code",
   "execution_count": null,
   "id": "08ef35a1",
   "metadata": {
    "scrolled": true
   },
   "outputs": [],
   "source": [
    "print(y_train.iloc[indexes.flatten()])"
   ]
  },
  {
   "cell_type": "code",
   "execution_count": null,
   "id": "18ae14a5",
   "metadata": {},
   "outputs": [],
   "source": [
    "c"
   ]
  },
  {
   "cell_type": "markdown",
   "id": "a839cbde",
   "metadata": {},
   "source": [
    "# ** skitlearn의 이용 - 스케일링 **"
   ]
  },
  {
   "cell_type": "markdown",
   "id": "37bc273e",
   "metadata": {},
   "source": [
    "### StandardScaler \n",
    "- 평균이 0이고 분산이 1인 정규분포 형태로 변환\n",
    "\n",
    "```\n",
    "from sklearn.preprocessing import StandardScaler\n",
    "\n",
    "scaler = StandardScaler()\n",
    "scaler.fit(Data)\n",
    "Data_scaled = scaler.transform(Data)\n",
    "```\n",
    "\n",
    "### MinMaxScaler\n",
    "\n",
    "- 데이타값을 0과 1 사이의 범위값으로 변환한다. 음수값이 있으면 -1에서 1값으로 변환한다 \n",
    "\n",
    "```\n",
    "from sklearn.preprocessing import MinMaxScaler\n",
    "\n",
    "scaler = MinMaxScaler()\n",
    "scaler.fit(Data)\n",
    "Data_scaled = scaler.transform(Data)\n",
    "```\n",
    "\n"
   ]
  },
  {
   "cell_type": "markdown",
   "id": "60988ba0",
   "metadata": {},
   "source": [
    "## iris 붓꽃 데이타셋으로 스케일링 실습"
   ]
  },
  {
   "cell_type": "code",
   "execution_count": null,
   "id": "078b7d6a",
   "metadata": {},
   "outputs": [],
   "source": [
    "from sklearn.datasets import load_iris\n",
    "import pandas as pd\n",
    "\n",
    "iris = load_iris()\n",
    "iris_data = iris.data\n",
    "iris_df = pd.DataFrame(data=iris_data, columns=iris.feature_names)\n",
    "iris_df.head()"
   ]
  },
  {
   "cell_type": "code",
   "execution_count": null,
   "id": "59ecc0a2",
   "metadata": {},
   "outputs": [],
   "source": [
    "from sklearn.preprocessing import StandardScaler\n",
    "\n",
    "\n",
    "scaler = StandardScaler()\n",
    "\n",
    "\n",
    "scaler.fit(iris_df)\n",
    "iris_scaled = scaler.transform(iris_df)\n",
    "\n",
    "# 아래는 에러 발생 => 넘파이 배열\n",
    "# iris_scaled.head()"
   ]
  },
  {
   "cell_type": "code",
   "execution_count": null,
   "id": "965fd79a",
   "metadata": {},
   "outputs": [],
   "source": [
    "\n",
    "iris_df_scaled = pd.DataFrame(data=iris_scaled, columns=iris.feature_names)\n",
    "# print('feature 들의 평균 값')\n",
    "# print(iris_df_scaled.mean())\n",
    "# print('\\nfeature 들의 분산 값')\n",
    "# print(iris_df_scaled.var())\n",
    "\n",
    "iris_df_scaled.head(5)"
   ]
  },
  {
   "cell_type": "code",
   "execution_count": null,
   "id": "a9b2f3a4",
   "metadata": {},
   "outputs": [],
   "source": [
    "\n",
    "iris_label = iris.target\n",
    "print('iris target값:', iris_label)\n",
    "print('iris target명:', iris.target_names)"
   ]
  },
  {
   "cell_type": "code",
   "execution_count": null,
   "id": "751401a8",
   "metadata": {},
   "outputs": [],
   "source": [
    "X_train, X_test, y_train, y_test = train_test_split(iris_df_scaled, iris_label, \n",
    "                                                    test_size=0.2, random_state=11)"
   ]
  },
  {
   "cell_type": "code",
   "execution_count": null,
   "id": "7aad7aba",
   "metadata": {},
   "outputs": [],
   "source": [
    "len(X_train), len(X_test)"
   ]
  },
  {
   "cell_type": "code",
   "execution_count": null,
   "id": "beb64aa8",
   "metadata": {},
   "outputs": [],
   "source": [
    "X_train[:3]"
   ]
  },
  {
   "cell_type": "code",
   "execution_count": null,
   "id": "9540e1fc",
   "metadata": {},
   "outputs": [],
   "source": [
    "model_kn = KNeighborsClassifier()\n",
    "\n",
    "model_kn.fit(X_train, y_train)"
   ]
  },
  {
   "cell_type": "code",
   "execution_count": null,
   "id": "4646c288",
   "metadata": {},
   "outputs": [],
   "source": [
    "model_kn.score(X_train, y_train), model_kn.score(X_test, y_test)"
   ]
  },
  {
   "cell_type": "code",
   "execution_count": null,
   "id": "8f119630",
   "metadata": {},
   "outputs": [],
   "source": [
    "model_kn.predict(X_test)"
   ]
  },
  {
   "cell_type": "code",
   "execution_count": null,
   "id": "7cc60fb7",
   "metadata": {},
   "outputs": [],
   "source": [
    "from sklearn.metrics import accuracy_score\n",
    "print('예측 정확도: {0:.4f}'.format(accuracy_score(y_test, model_kn.predict(X_test))))"
   ]
  },
  {
   "cell_type": "code",
   "execution_count": null,
   "id": "dd74fb0c",
   "metadata": {},
   "outputs": [],
   "source": []
  },
  {
   "cell_type": "code",
   "execution_count": null,
   "id": "d1a3c6b6",
   "metadata": {},
   "outputs": [],
   "source": []
  },
  {
   "cell_type": "markdown",
   "id": "bac6010d",
   "metadata": {},
   "source": [
    "## MinMaxScaler 적용하면 차이가 있을까?\n",
    "\n",
    "데이타값을 0과 1 사이의 범위값으로 변환한다. 음수값이 있으면 -1에서 1값으로 변환한다 "
   ]
  },
  {
   "cell_type": "code",
   "execution_count": null,
   "id": "3b35bc86",
   "metadata": {},
   "outputs": [],
   "source": [
    "from sklearn.preprocessing import MinMaxScaler"
   ]
  },
  {
   "cell_type": "code",
   "execution_count": null,
   "id": "9af03287",
   "metadata": {},
   "outputs": [],
   "source": [
    "iris = load_iris()\n",
    "iris_data = iris.data\n",
    "iris_df = pd.DataFrame(data=iris_data, columns=iris.feature_names)\n",
    "\n",
    "print('feature들의 최소 값')\n",
    "print(iris_df.min())\n",
    "print('\\nfeature들의 최대 값')\n",
    "print(iris_df.max())\n",
    "print('\\n'*2)\n",
    "\n",
    "scaler = MinMaxScaler()\n",
    "scaler.fit(iris_df)\n",
    "iris_scaled2 = scaler.transform(iris_df)\n",
    "\n",
    "iris_df_scaled2 = pd.DataFrame(data=iris_scaled2, columns=iris.feature_names)\n",
    "print('feature들의 최소 값')\n",
    "print(iris_df_scaled2.min())\n",
    "print('\\nfeature들의 최대 값')\n",
    "print(iris_df_scaled2.max())\n"
   ]
  },
  {
   "cell_type": "code",
   "execution_count": null,
   "id": "e18941c4",
   "metadata": {},
   "outputs": [],
   "source": [
    "iris_df_scaled.head(5)"
   ]
  },
  {
   "cell_type": "code",
   "execution_count": null,
   "id": "b0dde21c",
   "metadata": {},
   "outputs": [],
   "source": [
    "iris_df_scaled2.head(5)"
   ]
  },
  {
   "cell_type": "code",
   "execution_count": null,
   "id": "a2352715",
   "metadata": {},
   "outputs": [],
   "source": [
    "iris_label = iris.target\n",
    "\n",
    "X_train, X_test, y_train, y_test = train_test_split(iris_df_scaled2, iris_label, \n",
    "                                                    test_size=0.2, random_state=11)"
   ]
  },
  {
   "cell_type": "code",
   "execution_count": null,
   "id": "347148e9",
   "metadata": {},
   "outputs": [],
   "source": [
    "model_kn = KNeighborsClassifier()\n",
    "\n",
    "model_kn.fit(X_train, y_train)"
   ]
  },
  {
   "cell_type": "code",
   "execution_count": null,
   "id": "9b6eb265",
   "metadata": {},
   "outputs": [],
   "source": [
    "# StandardScaler() 적용시 값 \n",
    "# 0.9666666666666667, 0.9333333333333333"
   ]
  },
  {
   "cell_type": "code",
   "execution_count": null,
   "id": "1e817643",
   "metadata": {},
   "outputs": [],
   "source": [
    "model_kn.score(X_train, y_train), model_kn.score(X_test, y_test)"
   ]
  },
  {
   "cell_type": "code",
   "execution_count": null,
   "id": "a6de46b8",
   "metadata": {},
   "outputs": [],
   "source": []
  },
  {
   "cell_type": "markdown",
   "id": "15d099cc",
   "metadata": {},
   "source": [
    "## 스케일링 변환시 주의 사항 \n",
    "\n",
    "- 가능하다면 전체 데이터의 스케일링 변환을 적용한 뒤 학습과 테스트 데이터로 분리한다. \n",
    "- 1이 여의치 않다면 테스트 데이터 변환시에는 fit(), fit_transform()을 적용하지 않고 \n",
    "<br>학습 데이터로 이미 fit()된 Scaler 객체를 이용해 transform() 으로 변경한다. "
   ]
  },
  {
   "cell_type": "code",
   "execution_count": null,
   "id": "0d63f3a3",
   "metadata": {},
   "outputs": [],
   "source": [
    "train_array = np.arange(0, 11).reshape(-1, 1)\n",
    "test_array = np.arange(0, 6).reshape(-1, 1)\n",
    "\n",
    "print(train_array)\n",
    "print()\n",
    "print(test_array)"
   ]
  },
  {
   "cell_type": "code",
   "execution_count": null,
   "id": "143913bd",
   "metadata": {},
   "outputs": [],
   "source": [
    "scaler = MinMaxScaler()\n",
    "\n",
    "scaler.fit(train_array)\n",
    "train_scaled = scaler.transform(train_array)\n",
    "print(train_scaled)\n",
    "print('='*50)\n",
    "\n",
    "scaler.fit(test_array)\n",
    "test_scaled1 = scaler.transform(test_array)\n",
    "print(test_scaled1)\n",
    "print('='*50)"
   ]
  },
  {
   "cell_type": "code",
   "execution_count": null,
   "id": "1bee3801",
   "metadata": {},
   "outputs": [],
   "source": [
    "train_array = np.arange(0, 11).reshape(-1, 1)\n",
    "test_array = np.arange(0, 6).reshape(-1, 1)\n",
    "\n",
    "scaler = MinMaxScaler()\n",
    "\n",
    "scaler.fit(train_array)\n",
    "train_scaled = scaler.transform(train_array)\n",
    "print(train_scaled)\n",
    "print('='*50)\n",
    "\n",
    "test_scaled2 = scaler.transform(test_array)\n",
    "print(test_scaled2)\n",
    "print('='*50)"
   ]
  },
  {
   "cell_type": "raw",
   "id": "0bf3ffea",
   "metadata": {},
   "source": [
    "\n",
    "\n",
    "\n"
   ]
  },
  {
   "cell_type": "markdown",
   "id": "1a199d1d",
   "metadata": {},
   "source": [
    "# 퀴즈 : 도미와  빙어 분류 : 스케일링 활용\n",
    "\n",
    "1) 아래의 데이타셋을 이용하여 사이킷런에서 제공되어지는 스케일러 StandardScaler() 를 이용하여 데이타 전처리 후 모델을 생성하여라 \n",
    "\n",
    "  : 훈련데이타 세트와 테스트 데이타세트 분리시 test_size=0.2, random_state=11\n",
    "  \n",
    "  : 모델은 KNeighborsClassifier()를 이용한다\n",
    "\n",
    "2) 새로운 데이타 (25, 150)와 (9.5 , 6.2)는 도미일까 빙어일까? (도미는 1, 빙어는 0)"
   ]
  },
  {
   "cell_type": "code",
   "execution_count": null,
   "id": "57b316e4",
   "metadata": {},
   "outputs": [],
   "source": [
    "fish_length = [25.4, 26.3, 26.5, 29.0, 29.0, 29.7, 29.7, 30.0, 30.0, 30.7, 31.0, 31.0, \n",
    "                31.5, 32.0, 32.0, 32.0, 33.0, 33.0, 33.5, 33.5, 34.0, 34.0, 34.5, 35.0, \n",
    "                35.0, 35.0, 35.0, 36.0, 36.0, 37.0, 38.5, 38.5, 39.5, 41.0, 41.0, 9.8, \n",
    "                10.5, 10.6, 11.0, 11.2, 11.3, 11.8, 11.8, 12.0, 12.2, 12.4, 13.0, 14.3, 15.0]\n",
    "\n",
    "fish_weight = [242.0, 290.0, 340.0, 363.0, 430.0, 450.0, 500.0, 390.0, 450.0, 500.0, 475.0, 500.0, \n",
    "                500.0, 340.0, 600.0, 600.0, 700.0, 700.0, 610.0, 650.0, 575.0, 685.0, 620.0, 680.0, \n",
    "                700.0, 725.0, 720.0, 714.0, 850.0, 1000.0, 920.0, 955.0, 925.0, 975.0, 950.0, 6.7, \n",
    "                7.5, 7.0, 9.7, 9.8, 8.7, 10.0, 9.9, 9.8, 12.2, 13.4, 12.2, 19.7, 19.9]\n",
    "\n",
    "fish_target = np.concatenate((np.ones(35), np.zeros(14)))\n",
    "\n",
    "\n",
    "fish_data = pd.DataFrame(columns=['fish_length', 'fish_weight', 'label'])\n",
    "\n",
    "\n",
    "fish_data['fish_length'] = fish_length\n",
    "fish_data['fish_weight'] = fish_weight\n",
    "\n",
    "\n",
    "fish_data['label'] = fish_target\n",
    "fish_data.sample(5)"
   ]
  }
 ],
 "metadata": {
  "kernelspec": {
   "display_name": "Python 3",
   "language": "python",
   "name": "python3"
  },
  "language_info": {
   "codemirror_mode": {
    "name": "ipython",
    "version": 3
   },
   "file_extension": ".py",
   "mimetype": "text/x-python",
   "name": "python",
   "nbconvert_exporter": "python",
   "pygments_lexer": "ipython3",
   "version": "3.8.8"
  }
 },
 "nbformat": 4,
 "nbformat_minor": 5
}
