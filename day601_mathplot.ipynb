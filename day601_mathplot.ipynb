{
 "cells": [
  {
   "cell_type": "code",
   "execution_count": 2,
   "metadata": {},
   "outputs": [
    {
     "data": {
      "text/html": [
       "<style>.container { font-weight: bold !important; }</style>"
      ],
      "text/plain": [
       "<IPython.core.display.HTML object>"
      ]
     },
     "metadata": {},
     "output_type": "display_data"
    },
    {
     "data": {
      "text/html": [
       "<style>.container { width: 100% !important; }</style>"
      ],
      "text/plain": [
       "<IPython.core.display.HTML object>"
      ]
     },
     "metadata": {},
     "output_type": "display_data"
    }
   ],
   "source": [
    "# 쥬피터노트북 셀 스타일 조절 \n",
    "from IPython.core.display import display, HTML\n",
    "display(HTML(\"<style>.container { font-weight: bold !important; }</style>\"))\n",
    "display(HTML(\"<style>.container { width: 100% !important; }</style>\"))\n",
    "\n",
    "# 경고 메세지 숨기기 \n",
    "import warnings\n",
    "warnings.filterwarnings(action='ignore')"
   ]
  },
  {
   "cell_type": "markdown",
   "metadata": {},
   "source": [
    "# Matplotlib 시각화\n",
    "\n",
    "- 데이터 시각화를 위한 파이썬 라이브러리 \n",
    "- https://matplotlib.org/"
   ]
  },
  {
   "cell_type": "code",
   "execution_count": 3,
   "metadata": {},
   "outputs": [],
   "source": [
    "import numpy as np\n",
    "import pandas as pd\n",
    "import os"
   ]
  },
  {
   "cell_type": "markdown",
   "metadata": {},
   "source": [
    "## matplotlib 임포트와 매직명령어"
   ]
  },
  {
   "cell_type": "code",
   "execution_count": 4,
   "metadata": {},
   "outputs": [],
   "source": [
    "import matplotlib\n",
    "import matplotlib.pyplot as plt\n",
    "\n",
    "# 매직명령어 => 쥬피터노트북에서 그래프 삽입 기능 \n",
    "%matplotlib inline"
   ]
  },
  {
   "cell_type": "code",
   "execution_count": 5,
   "metadata": {
    "scrolled": false
   },
   "outputs": [
    {
     "data": {
      "text/plain": [
       "'3.3.4'"
      ]
     },
     "execution_count": 5,
     "metadata": {},
     "output_type": "execute_result"
    }
   ],
   "source": [
    "matplotlib.__version__"
   ]
  },
  {
   "cell_type": "code",
   "execution_count": 7,
   "metadata": {},
   "outputs": [],
   "source": [
    "# print(dir(plt))"
   ]
  },
  {
   "cell_type": "markdown",
   "metadata": {},
   "source": [
    "## 플랏의 한글 폰트 처리 "
   ]
  },
  {
   "cell_type": "code",
   "execution_count": 8,
   "metadata": {},
   "outputs": [],
   "source": [
    "# 관련 라이브러리 임포트 \n",
    "import matplotlib.font_manager as fm\n",
    "\n",
    "#  한글글꼴로 변경\n",
    "# plt.rcParams['font.family'] = '한글글꼴명'\n",
    "plt.rcParams['font.size'] = 11.0\n",
    "# plt.rcParams['font.family'] = 'batang'\n",
    "plt.rcParams['font.family'] = 'Malgun Gothic'\n",
    "\n",
    "# 그래프에서 마이너스 폰트 깨지는 문제에 대한 대처\n",
    "matplotlib.rcParams['axes.unicode_minus'] = False\n",
    "\n",
    "\n"
   ]
  },
  {
   "cell_type": "code",
   "execution_count": 9,
   "metadata": {},
   "outputs": [
    {
     "name": "stdout",
     "output_type": "stream",
     "text": [
      "['Malgun Gothic']\n",
      "11.0\n"
     ]
    }
   ],
   "source": [
    "# 설정되어 있는 글꼴과 크기  확인 \n",
    "print(plt.rcParams['font.family'])\n",
    "print(plt.rcParams['font.size'])"
   ]
  },
  {
   "cell_type": "markdown",
   "metadata": {},
   "source": [
    "# 구성요소\n",
    "\n",
    "<img src=\"https://matplotlib.org/stable/_images/anatomy.png\" width=70%>"
   ]
  },
  {
   "cell_type": "markdown",
   "metadata": {},
   "source": [
    "# Figure  객체 생성하기\n",
    "\n",
    "- Figure : 도식. 그래프가 삽입되는 객체\n",
    "- var = plt.figure()"
   ]
  },
  {
   "cell_type": "markdown",
   "metadata": {},
   "source": [
    "\n",
    "## plot 객체 생성하기 - 파이플롯 스타일\n",
    "\n",
    "- figVar = plt.figure(figsize=(가로,세로)) : 가로*세로 크기에 해당하는 fig 생성 \n",
    "- figVar, plt.plot(xData,yData,label=labelName) : figure에 플랏 생성하기 \n",
    "- plt.xlabel(X축)\n",
    "- plt.ylabel(Y축)\n",
    "- plt.title(제목)\n",
    "- plt.legend() : 범례 표시 \n",
    "- plt.show() : plot 다시 그리기 "
   ]
  },
  {
   "cell_type": "code",
   "execution_count": 23,
   "metadata": {},
   "outputs": [
    {
     "name": "stdout",
     "output_type": "stream",
     "text": [
      "<class 'matplotlib.figure.Figure'>\n",
      "[-5 -4 -3 -2 -1  0  1  2  3  4]\n",
      "[-10  -8  -6  -4  -2   0   2   4   6   8]\n"
     ]
    },
    {
     "data": {
      "image/png": "[encoded data removed]",
      "text/plain": [
       "<Figure size 360x360 with 1 Axes>"
      ]
     },
     "metadata": {
      "needs_background": "light"
     },
     "output_type": "display_data"
    }
   ],
   "source": [
    "# 그래프 변수 설정 \n",
    "# figVar = plt.figure(figsize=(가로,세로))\n",
    "# figVar = plt.figure(figsize=[가로,세로])\n",
    "\n",
    "fig1 = plt.figure(figsize=(5,5))\n",
    "print(type(fig1))\n",
    "\n",
    "# 데이타 생성 \n",
    "x = np.arange(-5,5)\n",
    "y = 2*x\n",
    "print(x)\n",
    "print(y)\n",
    "\n",
    "# 그래프화 \n",
    "# plt.plot(xData,yData,label=labelName)\n",
    "# label은 그래프 범례 \n",
    "plt.plot(x, y, label='직선 2*x')\n",
    "\n",
    "# 범례 표시 \n",
    "plt.legend()\n",
    "\n",
    "# 그래프 제목 달기 \n",
    "plt.title('직선 그래프 그리기')\n",
    "\n",
    "# 그리드 표시 \n",
    "plt.grid()\n",
    "\n",
    "# 그래프 다시 그리기 => 항상 마지막에 위치 \n",
    "plt.show()"
   ]
  },
  {
   "cell_type": "code",
   "execution_count": 21,
   "metadata": {},
   "outputs": [
    {
     "data": {
      "image/png": "[encoded data removed]",
      "text/plain": [
       "<Figure size 360x360 with 1 Axes>"
      ]
     },
     "execution_count": 21,
     "metadata": {},
     "output_type": "execute_result"
    }
   ],
   "source": [
    "# 그래프변수 다시 호출\n",
    "fig1"
   ]
  },
  {
   "cell_type": "code",
   "execution_count": null,
   "metadata": {},
   "outputs": [],
   "source": []
  },
  {
   "cell_type": "markdown",
   "metadata": {},
   "source": [
    "# 다중 그래프\n",
    "\n",
    "- 여러개의 그래프가 하나의 plot에 표시 "
   ]
  },
  {
   "cell_type": "code",
   "execution_count": 29,
   "metadata": {},
   "outputs": [
    {
     "name": "stdout",
     "output_type": "stream",
     "text": [
      "[-5.         -4.8989899  -4.7979798  -4.6969697  -4.5959596  -4.49494949\n",
      " -4.39393939 -4.29292929 -4.19191919 -4.09090909 -3.98989899 -3.88888889\n",
      " -3.78787879 -3.68686869 -3.58585859 -3.48484848 -3.38383838 -3.28282828\n",
      " -3.18181818 -3.08080808 -2.97979798 -2.87878788 -2.77777778 -2.67676768\n",
      " -2.57575758 -2.47474747 -2.37373737 -2.27272727 -2.17171717 -2.07070707\n",
      " -1.96969697 -1.86868687 -1.76767677 -1.66666667 -1.56565657 -1.46464646\n",
      " -1.36363636 -1.26262626 -1.16161616 -1.06060606 -0.95959596 -0.85858586\n",
      " -0.75757576 -0.65656566 -0.55555556 -0.45454545 -0.35353535 -0.25252525\n",
      " -0.15151515 -0.05050505  0.05050505  0.15151515  0.25252525  0.35353535\n",
      "  0.45454545  0.55555556  0.65656566  0.75757576  0.85858586  0.95959596\n",
      "  1.06060606  1.16161616  1.26262626  1.36363636  1.46464646  1.56565657\n",
      "  1.66666667  1.76767677  1.86868687  1.96969697  2.07070707  2.17171717\n",
      "  2.27272727  2.37373737  2.47474747  2.57575758  2.67676768  2.77777778\n",
      "  2.87878788  2.97979798  3.08080808  3.18181818  3.28282828  3.38383838\n",
      "  3.48484848  3.58585859  3.68686869  3.78787879  3.88888889  3.98989899\n",
      "  4.09090909  4.19191919  4.29292929  4.39393939  4.49494949  4.5959596\n",
      "  4.6969697   4.7979798   4.8989899   5.        ]\n"
     ]
    },
    {
     "data": {
      "image/png": "[encoded data removed]",
      "text/plain": [
       "<Figure size 1440x504 with 1 Axes>"
      ]
     },
     "metadata": {
      "needs_background": "light"
     },
     "output_type": "display_data"
    }
   ],
   "source": [
    "fig2 = plt.figure(figsize=(20,7))\n",
    "\n",
    "# np.linspace(start, end, 갯수)\n",
    "x = np.linspace(-5,5,100)\n",
    "print(x)\n",
    "\n",
    "# sin(), cos() 함수 이용 \n",
    "y1 = np.sin(x)\n",
    "y2 = np.cos(x)\n",
    "\n",
    "# 그래프화 \n",
    "plt.plot(x, y1, label='sin')\n",
    "plt.plot(x, y2, label='cos')\n",
    "\n",
    "plt.title('sin, cos 그래프')\n",
    "plt.legend()\n",
    "plt.grid()\n",
    "\n",
    "# 축이름 지정 \n",
    "plt.xlabel('x axis')\n",
    "plt.ylabel('y axis')\n",
    "\n",
    "plt.show()"
   ]
  },
  {
   "cell_type": "code",
   "execution_count": 33,
   "metadata": {},
   "outputs": [
    {
     "name": "stdout",
     "output_type": "stream",
     "text": [
      "Figure(360x360)\n",
      "Figure(1440x504)\n"
     ]
    }
   ],
   "source": [
    "print(fig1)\n",
    "print(fig2)"
   ]
  },
  {
   "cell_type": "code",
   "execution_count": 34,
   "metadata": {},
   "outputs": [
    {
     "data": {
      "image/png": "[encoded data removed]",
      "text/plain": [
       "<Figure size 360x360 with 1 Axes>"
      ]
     },
     "execution_count": 34,
     "metadata": {},
     "output_type": "execute_result"
    }
   ],
   "source": [
    "fig1"
   ]
  },
  {
   "cell_type": "code",
   "execution_count": 30,
   "metadata": {},
   "outputs": [
    {
     "data": {
      "image/png": "[encoded data removed]",
      "text/plain": [
       "<Figure size 1440x504 with 1 Axes>"
      ]
     },
     "execution_count": 30,
     "metadata": {},
     "output_type": "execute_result"
    }
   ],
   "source": [
    "fig2"
   ]
  },
  {
   "cell_type": "code",
   "execution_count": null,
   "metadata": {},
   "outputs": [],
   "source": []
  },
  {
   "cell_type": "code",
   "execution_count": null,
   "metadata": {},
   "outputs": [],
   "source": []
  },
  {
   "cell_type": "markdown",
   "metadata": {},
   "source": [
    "# 색상 + 선 + 마커 \n",
    "\n",
    "```\n",
    "plt.plot(x,y, label='범례', \n",
    "        color='색상값', linestyle='선스타일', linewidth=선굵기, \n",
    "        markerfacecolor='색상값', marker='마커모양', markersize=마커크기 )\n",
    "\n",
    "plt.plot(x,y, '포맷문자열', label='labelName') :라벨명 위치 주의 \n",
    "예) plt.plot(x,y, 'bo--', label='labelName')\n",
    "```        "
   ]
  },
  {
   "cell_type": "markdown",
   "metadata": {},
   "source": [
    "## 색상 \n",
    "```\n",
    "  plt.plot(x,y, c='colorValue')\n",
    "  plt.plot(x,y, color='colorValue')\n",
    "  ```\n",
    "```\n",
    "``'b'``          blue\n",
    "``'g'``          green\n",
    "``'r'``          red\n",
    "``'c'``          cyan\n",
    "``'m'``          magenta\n",
    "``'y'``          yellow\n",
    "``'k'``          black\n",
    "``'w'``          white \n",
    "```"
   ]
  },
  {
   "cell_type": "markdown",
   "metadata": {},
   "source": [
    "## 선스타일\n",
    "\n",
    "plt.plot(x, y, linestyle='선스타일')\n",
    "\n",
    "```\n",
    "character        description\n",
    "=============    ===============================\n",
    "``'-'``          solid line style\n",
    "``'--'``         dashed line style\n",
    "``':'``          dotted line style\n",
    "```"
   ]
  },
  {
   "cell_type": "markdown",
   "metadata": {},
   "source": [
    "## 마커 표시 \n",
    "\n",
    "```\n",
    "plt.plot(x, y, marker='value', markerfacecolor=colorValue, markersize=floatValue)\n",
    "\n",
    "\n",
    "``'.'``          point marker\n",
    "``','``          pixel marker\n",
    "``'o'``          circle marker\n",
    "``'v'``          triangle_down marker\n",
    "``'^'``          triangle_up marker\n",
    "``'<'``          triangle_left marker\n",
    "``'>'``          triangle_right marker\n",
    "``'1'``          tri_down marker\n",
    "``'2'``          tri_up marker\n",
    "``'3'``          tri_left marker\n",
    "``'4'``          tri_right marker\n",
    "``'s'``          square marker\n",
    "``'p'``          pentagon marker\n",
    "``'*'``          star marker\n",
    "``'h'``          hexagon1 marker\n",
    "``'H'``          hexagon2 marker\n",
    "``'+'``          plus marker\n",
    "``'x'``          x marker\n",
    "``'D'``          diamond marker\n",
    "``'d'``          thin_diamond marker\n",
    "``'|'``          vline marker\n",
    "``'_'``          hline marker"
   ]
  },
  {
   "cell_type": "code",
   "execution_count": null,
   "metadata": {
    "scrolled": true
   },
   "outputs": [],
   "source": [
    "fig3 = plt.figure(figsize=(20,7))\n",
    "\n",
    "x = np.linspace(-5,5,100)\n",
    "\n",
    "plt.plot(x,np.sin(x),label='sin', \n",
    "         color='r', linewidth=5, \n",
    "         marker='o', markersize=10,  markerfacecolor='b')\n",
    "\n",
    "plt.plot(x,np.cos(x),'gv--', label='cos', markerfacecolor='r', markersize=5)\n",
    "\n",
    "plt.grid()\n",
    "plt.xlabel('x axis')\n",
    "plt.ylabel('y axis')\n",
    "\n",
    "plt.title('sin, cos 그래프')\n",
    "plt.legend()\n",
    "\n",
    "plt.show()"
   ]
  },
  {
   "cell_type": "code",
   "execution_count": null,
   "metadata": {},
   "outputs": [],
   "source": []
  },
  {
   "cell_type": "markdown",
   "metadata": {},
   "source": [
    "# 제목, 범례, 그래프 속성 \n",
    "\n",
    "- https://matplotlib.org/stable/tutorials/text/text_intro.html\n",
    "\n",
    "### fig 객체 속성 \n",
    "```\n",
    " plt.figure((옵션속성=값)\n",
    "       - fig변수 = plt.figure(옵션속성=값)\n",
    "       - figsize는 ~10. 그래프전체틀 크기 \n",
    "       - facecolor= 영문색상명이나 16진수색상값 # 배경색상\n",
    "       - frameon=True/False # 테두리프레임 Show/Hide\n",
    "       - edgecolor = 영문색상명이나 16진수색상값 #테두리색상\n",
    "```\n",
    "\n",
    "### 그래프제목 속성\n",
    "\n",
    "```\n",
    "plt.title('그래프제목', \n",
    "          fontdict={'폰트속성':값, '폰트속성':값 ...}, \n",
    "          loc=위치예약어, # left/right/center\n",
    "           pad=숫자)\n",
    "\n",
    "예) fontdict\n",
    "fontdict={'fontsize':30, \n",
    "            'color':'white', \n",
    "            'fontweight':'bold',\n",
    "             'fontfamily':'Georgia'}         \n",
    "```\n",
    "\n",
    "### 범례(legend) 속성 \n",
    "```\n",
    "plt.legend(loc=숫자나위치예약어, \n",
    "            labels=[범례1, 범례2, 범례3], \n",
    "            labelspacing=숫자,  #숫자가 높을수록 범례간격이 넓어진다. \n",
    "             facecolor=배경색상값,\n",
    "             borderaxespad = 숫자, #숫자가 높을수록 바깥여백이 커진다.\n",
    "             edgecolor=테두리색상\n",
    "             )\n",
    "```\n",
    "\n",
    "```\n",
    "loc 예약어와 코드값\n",
    "\n",
    "        'best'            0\n",
    "        'upper right'     1\n",
    "        'upper left'      2\n",
    "        'lower left'      3\n",
    "        'lower right'     4\n",
    "        'right'           5\n",
    "        'center left'     6\n",
    "        'center right'    7\n",
    "        'lower center'    8\n",
    "        'upper center'    9\n",
    "        'center'          10\n",
    "```"
   ]
  },
  {
   "cell_type": "code",
   "execution_count": null,
   "metadata": {},
   "outputs": [],
   "source": [
    "# ?plt.figure\n",
    "?plt.legend\n",
    "# ?plt.title\n",
    "# ?plt.xlabel\n",
    "# ?plt.axis"
   ]
  },
  {
   "cell_type": "code",
   "execution_count": null,
   "metadata": {
    "scrolled": true
   },
   "outputs": [],
   "source": [
    "fig4 = plt.figure(figsize=(20,7), facecolor='yellowgreen', frameon=True, edgecolor='black')\n",
    "\n",
    "x = np.linspace(-5,5,100)\n",
    "\n",
    "plt.plot(x,np.sin(x),label='sin', color='r', linewidth=5, marker='o', markersize=10,  markerfacecolor='b')\n",
    "plt.plot(x,np.cos(x),'gv--', label='cos', markerfacecolor='r', markersize=5)\n",
    "\n",
    "plt.grid()\n",
    "plt.xlabel('x axis')\n",
    "plt.ylabel('y axis')\n",
    "\n",
    "plt.title(\"Cos , Sin plot\", \n",
    "          fontdict={'fontsize':30, 'color':'darkgreen', 'fontweight':'bold'}, \n",
    "          loc='center', pad=50)\n",
    "\n",
    "plt.legend(loc='lower right', facecolor='yellow', borderaxespad=0.5, edgecolor='crimson', ncol=2)\n",
    "\n",
    "plt.savefig('output/fif4.png')\n",
    "\n",
    "plt.show()"
   ]
  },
  {
   "cell_type": "markdown",
   "metadata": {},
   "source": [
    "# 눈금과 눈금 라벨"
   ]
  },
  {
   "cell_type": "code",
   "execution_count": null,
   "metadata": {},
   "outputs": [],
   "source": [
    "fig5 = plt.figure()\n",
    "\n",
    "x = np.linspace(-5,5,100)\n",
    "plt.plot(x, np.sin(x))\n",
    "\n",
    "# 눈금라벨 글자 속성 : labelsize\n",
    "# color 눈금색상, colors=라벨색상\n",
    "# 눈금길이 : length\n",
    "# 눈금굵기 : width\n",
    "# 라벨 회전 : rotation \n",
    "\n",
    "# 각 축만 속성 지정 \n",
    "# plt.tick_params(axis='x', labelsize=20)\n",
    "# plt.tick_params(axis='y', labelsize=10)\n",
    "\n",
    "# 눈금길이와 라벨의 굵기, 색상, 회전 지정 \n",
    "# plt.tick_params(labelsize=20, color='red', colors='green', width='3', rotation=45)\n",
    "\n",
    "# 눈금과 라벨 표시 방향 설정 \n",
    "# bottom=False/True, left=False/True, right=False/True\n",
    "# labelbottom=False/True, labelleft=False/True, labelright=False/True\n",
    "# plt.tick_params(labelright=True, labelleft=False, labelbottom=False, labeltop=True,\n",
    "#                 bottom=False, top=True, left=False, right=True, length=10, width=10, colors='crimson')\n",
    "\n",
    "# 눈금범위 \n",
    "# plt.xticks(리스트), plt.yticks(리스트)\n",
    "plt.yticks(np.arange(-1,1, 0.2))\n",
    "plt.xticks(np.arange(-5,5))\n",
    "\n",
    "plt.show()"
   ]
  },
  {
   "cell_type": "code",
   "execution_count": null,
   "metadata": {},
   "outputs": [],
   "source": [
    "plt.figure()\n",
    "\n",
    "x = np.linspace(-5,5,100)\n",
    "plt.plot(x, np.sin(x))\n",
    "\n",
    "plt.show()"
   ]
  },
  {
   "cell_type": "markdown",
   "metadata": {},
   "source": [
    "# 그래프 범위 설정 "
   ]
  },
  {
   "cell_type": "code",
   "execution_count": null,
   "metadata": {
    "scrolled": true
   },
   "outputs": [],
   "source": [
    "plt.figure()\n",
    "\n",
    "x = np.linspace(-5,5,100)\n",
    "plt.plot(x, np.sin(x))\n",
    "\n",
    "plt.xlim([-3, 3])\n",
    "plt.ylim([-0.7, 0.7])\n",
    "plt.show()"
   ]
  },
  {
   "cell_type": "code",
   "execution_count": null,
   "metadata": {
    "scrolled": true
   },
   "outputs": [],
   "source": [
    "plt.figure()\n",
    "\n",
    "x = np.linspace(-5,5,100)\n",
    "plt.plot(x, np.sin(x))\n",
    "\n",
    "plt.show()"
   ]
  },
  {
   "cell_type": "code",
   "execution_count": null,
   "metadata": {},
   "outputs": [],
   "source": [
    "\n",
    "\n",
    "\n",
    "\n"
   ]
  },
  {
   "cell_type": "markdown",
   "metadata": {},
   "source": [
    "# add_subplot 방식의 그래프 \n",
    "\n",
    "```\n",
    "fig_a = plt.figure(frameon=True, figsize=[8, 10])\n",
    "\n",
    "ax = fig_a.add_subplot()\n",
    "\n",
    "ax.plot( x,y, label='y=2*x')\n",
    "```"
   ]
  },
  {
   "cell_type": "code",
   "execution_count": null,
   "metadata": {},
   "outputs": [],
   "source": [
    "fig = plt.figure(figsize=[5, 5], frameon=True, dpi=100)\n",
    "\n",
    "x = np.arange(-5,5)\n",
    "y = 2*x\n",
    "\n",
    "ax = fig.add_subplot()\n",
    "\n",
    "ax.plot(x,y,label='y=2*x')\n",
    "ax.legend(  loc=1 , \n",
    "              facecolor='GhostWhite',\n",
    "              borderaxespad = 2, \n",
    "              edgecolor='darkblue',\n",
    "              fontsize = 15\n",
    "           )\n",
    "\n",
    "ax.set_title(\"직선 그래프\", \n",
    "          fontdict={'fontsize':30, 'color':'darkgreen', 'fontweight':'bold'}, \n",
    "          loc='center', pad=50)\n",
    "\n",
    "ax.set_xlabel('x axis')\n",
    "ax.set_ylabel('y axis')\n",
    "\n",
    "ax.set_xticks([i for i in range(-5,5)])\n",
    "ax.set_yticks([i for i in range(-10,10)])\n",
    "\n",
    "ax.set_xlim([-5,5])\n",
    "ax.set_ylim([-9,9])\n",
    "\n",
    "ax.grid()\n",
    "plt.show()\n"
   ]
  },
  {
   "cell_type": "code",
   "execution_count": null,
   "metadata": {},
   "outputs": [],
   "source": [
    "\n",
    "\n",
    "\n"
   ]
  },
  {
   "cell_type": "markdown",
   "metadata": {},
   "source": [
    "# Subplot 생성하기1\n",
    "\n",
    "- plt.subplot(행열순서)"
   ]
  },
  {
   "cell_type": "code",
   "execution_count": null,
   "metadata": {
    "scrolled": true
   },
   "outputs": [],
   "source": [
    "fig = plt.figure()\n",
    "fig, plt.subplot(221)\n",
    "fig, plt.subplot(222)\n",
    "fig, plt.subplot(223)\n",
    "fig, plt.subplot(224)\n",
    "plt.show()"
   ]
  },
  {
   "cell_type": "code",
   "execution_count": null,
   "metadata": {
    "scrolled": true
   },
   "outputs": [],
   "source": [
    "fig6 = plt.figure()\n",
    "fig6, plt.subplot(131)\n",
    "fig6, plt.subplot(132)\n",
    "fig6, plt.subplot(133)"
   ]
  },
  {
   "cell_type": "code",
   "execution_count": null,
   "metadata": {},
   "outputs": [],
   "source": [
    "fig7 = plt.figure()\n",
    "fig7, plt.subplot(311, facecolor='b')\n",
    "fig7, plt.subplot(312, facecolor='y')\n",
    "fig7, plt.subplot(313, facecolor='r')"
   ]
  },
  {
   "cell_type": "code",
   "execution_count": null,
   "metadata": {},
   "outputs": [],
   "source": [
    "fig8 = plt.figure()\n",
    "fig8, plt.subplot(331)\n",
    "fig8, plt.subplot(332)\n",
    "fig8, plt.subplot(333)\n",
    "fig8, plt.subplot(334)\n",
    "fig8, plt.subplot(335)\n",
    "fig8, plt.subplot(336)\n",
    "fig8, plt.subplot(337)\n",
    "fig8, plt.subplot(338)\n",
    "fig8, plt.subplot(339)"
   ]
  },
  {
   "cell_type": "markdown",
   "metadata": {},
   "source": [
    "# Subplot에 데이터 삽입하기 1\n",
    "\n",
    "- plt.subplot(행열순서)\n",
    "- plt.plot(xData, yData, label=LabelName)"
   ]
  },
  {
   "cell_type": "code",
   "execution_count": null,
   "metadata": {
    "scrolled": true
   },
   "outputs": [],
   "source": [
    "names = ['group_a', 'group_b', 'group_c']\n",
    "values1 = [1, 10, 100]\n",
    "values2 = [100, 50, 10]\n",
    "values3 = [100, 40, 100]\n",
    "\n",
    "plt.figure(figsize=(9,3))\n",
    "plt.subplot(131)\n",
    "plt.plot(names, values1)\n",
    "\n",
    "plt.subplot(132)\n",
    "plt.plot(names, values2)\n",
    "\n",
    "plt.subplot(133)\n",
    "plt.plot(names, values3)\n",
    "\n",
    "plt.suptitle('1*3 subplot')\n",
    "plt.show()"
   ]
  },
  {
   "cell_type": "markdown",
   "metadata": {},
   "source": [
    "### 서로다른 형태의 그래프 "
   ]
  },
  {
   "cell_type": "code",
   "execution_count": null,
   "metadata": {},
   "outputs": [],
   "source": [
    "names = ['group_a', 'group_b', 'group_c']\n",
    "values = [1, 10, 100]\n",
    "\n",
    "plt.figure(1, figsize=(9, 3))\n",
    "\n",
    "plt.subplot(131)\n",
    "plt.bar(names, values)\n",
    "plt.subplot(132, facecolor='b')\n",
    "plt.scatter(names, values, c='w')\n",
    "plt.subplot(133)\n",
    "plt.plot(names, values)\n",
    "plt.suptitle('Categorical Plotting')\n",
    "plt.show()"
   ]
  },
  {
   "cell_type": "markdown",
   "metadata": {},
   "source": [
    "## Subplot 생성하기2\n",
    "\n",
    "- 변수=plt.subplots(가로수, 세로수)"
   ]
  },
  {
   "cell_type": "code",
   "execution_count": null,
   "metadata": {
    "scrolled": true
   },
   "outputs": [],
   "source": [
    "fig = plt.figure(figsize=(9,3))\n",
    "fig, plt.figure()\n",
    "ax_lst = plt.subplots(2, 2)  # a figure with a 2x2 grid of Axes"
   ]
  },
  {
   "cell_type": "code",
   "execution_count": null,
   "metadata": {
    "scrolled": false
   },
   "outputs": [],
   "source": [
    "fig = plt.figure()\n",
    "fig, plt.figure()\n",
    "ax_lst2 = plt.subplots(3, 1) "
   ]
  },
  {
   "cell_type": "markdown",
   "metadata": {},
   "source": [
    "# Subplot에 데이터 삽입하기 2\n",
    "\n",
    "- figure 생성\n",
    "- figureVar, subplotVar=plt.subplots(rowNum , columnNum)\n",
    "- subPlot[xIndex,yIndex].plot(xData,yData,label=labelName)"
   ]
  },
  {
   "cell_type": "code",
   "execution_count": null,
   "metadata": {
    "scrolled": false
   },
   "outputs": [],
   "source": [
    "names = ['group_a', 'group_b', 'group_c']\n",
    "values1 = [1, 10, 100]\n",
    "values2 = [100, 50, 10]\n",
    "values3 = [100, 40, 100]\n",
    "values4 = [10, 100, 50]\n",
    "\n",
    "fig = plt.figure(figsize=(9,3))\n",
    "fig, ax = plt.subplots(2,2)\n",
    "ax[0,0].plot(names, values1)\n",
    "ax[0,1].plot(names, values2)\n",
    "ax[1,0].plot(names, values3)\n",
    "ax[1,1].plot(names, values4)\n",
    "plt.suptitle('Multi Subplots')\n",
    "plt.show()"
   ]
  },
  {
   "cell_type": "code",
   "execution_count": null,
   "metadata": {
    "scrolled": true
   },
   "outputs": [],
   "source": [
    "names = ['group_a', 'group_b', 'group_c']\n",
    "values = [1, 10, 100]\n",
    "\n",
    "fig11 = plt.figure()\n",
    "fig11, ax2 = plt.subplots(1,3)\n",
    "ax2[0].bar(names, values)\n",
    "ax2[1].plot(names, values)\n",
    "ax2[2].scatter(names, values)\n",
    "plt.suptitle('Multi Subplots')\n",
    "plt.show()\n"
   ]
  },
  {
   "cell_type": "code",
   "execution_count": null,
   "metadata": {
    "scrolled": false
   },
   "outputs": [],
   "source": [
    "names = ['group_a', 'group_b', 'group_c']\n",
    "values = [1, 10, 100]\n",
    "\n",
    "fig12 = plt.figure()\n",
    "fig12, ax3 = plt.subplots(3,1)\n",
    "ax3[0].bar(names, values)\n",
    "ax3[1].plot(names, values)\n",
    "ax3[2].scatter(names, values)\n",
    "plt.suptitle('Multi Subplots')\n",
    "plt.show()"
   ]
  },
  {
   "cell_type": "markdown",
   "metadata": {},
   "source": [
    "## Bar Plot \n",
    "\n",
    "- plt.bar(xData, yData, label=labelName, color=colorName, width=float)"
   ]
  },
  {
   "cell_type": "code",
   "execution_count": null,
   "metadata": {
    "scrolled": true
   },
   "outputs": [],
   "source": [
    "x = range(10)\n",
    "y = np.random.randint(10,100,10)\n",
    "fig14 = plt.figure()\n",
    "fig14, plt.bar(x,y,width=0.9,color='red')\n",
    "fig14, plt.title('Bar Plot Sample')\n",
    "fig14, plt.show()"
   ]
  },
  {
   "cell_type": "markdown",
   "metadata": {},
   "source": [
    "## barh plot\n",
    "\n",
    "- figure 변수 생성 \n",
    "- subPlots() 가변 \n",
    "``` \n",
    "figure, subplotVar = plt.subplots() \n",
    "```\n",
    "- x, y 데이타 생성\n",
    "- subplotVar.barh(dataList, Value, color=color Name, widtgh=float)\n",
    "- y축의 눈금을 데이타로 지정하기 \n",
    "```\n",
    " subplotVar.set_yticks(xData)\n",
    " subplotVar.set_yticklabels(xDataList)\n",
    "```"
   ]
  },
  {
   "cell_type": "code",
   "execution_count": null,
   "metadata": {
    "scrolled": false
   },
   "outputs": [],
   "source": [
    "people = ('Tom', 'Dick', 'Harry', 'Slim', 'Jim', 'Kyle')\n",
    "y_pos = np.arange(len(people))\n",
    "performance = np.random.rand(len(people)) \n",
    "\n",
    "fig16 = plt.figure(figsize=(4,4))\n",
    "\n",
    "fig16, ax = plt.subplots()\n",
    "\n",
    "ax.barh(y_pos, performance, color='green')\n",
    "\n",
    "ax.set_yticks(y_pos)\n",
    "ax.set_yticklabels(people)\n",
    "\n",
    "ax.set_xlabel('Performance')\n",
    "\n",
    "ax.set_title('Today\\' Man ')\n",
    "\n",
    "fig16, plt.show()"
   ]
  },
  {
   "cell_type": "markdown",
   "metadata": {},
   "source": [
    "## Scatter Plot\n",
    "\n",
    "- fiqure 생성 \n",
    "- plt.sctter(xData,yData,s=Size, c=colorName, marker=markerName)"
   ]
  },
  {
   "cell_type": "code",
   "execution_count": null,
   "metadata": {},
   "outputs": [],
   "source": [
    "names = ['a', 'b', 'c', 'd', 'e']\n",
    "values = np.random.randint(30,50,5)\n",
    "\n",
    "fig_s1 = plt.figure()\n",
    "fig_s1, plt.scatter(names, values, s=200, c='blue', marker='x')\n",
    "fig_s1, plt.suptitle('Scatter Plot Sample')\n",
    "fig_s1, plt.show()\n"
   ]
  },
  {
   "cell_type": "markdown",
   "metadata": {},
   "source": [
    "## Pie Plot\n",
    "\n",
    "- plt.pie(values, labels=labelList, autopct='%digit.pointNum%Unit')"
   ]
  },
  {
   "cell_type": "code",
   "execution_count": null,
   "metadata": {
    "scrolled": false
   },
   "outputs": [],
   "source": [
    "# Label + Value \n",
    "labels = 'Frogs', 'Hogs', 'Dogs', 'Logs'\n",
    "sizes = [15, 30, 45, 10]\n",
    "fig_p1 = plt.figure(figsize=(5,5))\n",
    "fig_p1, plt.pie(sizes, labels=labels, autopct='%1.1f%%')\n",
    "plt.show()"
   ]
  },
  {
   "cell_type": "markdown",
   "metadata": {},
   "source": [
    "## Pie Plot - Explode\n",
    "\n",
    "- plt.pie(dataValue, explode=explodeList, labels=labels, autopct='%digit.pointNum%Unit', shadow=True, startangle=angleValue)"
   ]
  },
  {
   "cell_type": "code",
   "execution_count": null,
   "metadata": {
    "scrolled": true
   },
   "outputs": [],
   "source": [
    "labels = 'Frogs', 'Hogs', 'Dogs', 'Logs'\n",
    "sizes = [15, 30, 45, 10]\n",
    "\n",
    "explode = (0.05, 0.1, 0.15, 0.05)  \n",
    "\n",
    "fig_p2 = plt.figure(figsize=(5,5))\n",
    "fig_p2, plt.pie(sizes, explode=explode, labels=labels, autopct='%1.1f%%', shadow=True, startangle=180)\n",
    "\n",
    "plt.show()"
   ]
  },
  {
   "cell_type": "markdown",
   "metadata": {},
   "source": [
    "# Histogram plot\n",
    "\n",
    "- figure 생성 \n",
    "- plt.hist(dataVales, bins=number, color='colorName')"
   ]
  },
  {
   "cell_type": "code",
   "execution_count": null,
   "metadata": {},
   "outputs": [],
   "source": [
    "points = np.random.randn(10000)\n",
    "print(points)\n",
    "\n",
    "fig_hist = plt.figure()\n",
    "fig_hist, plt.hist(points, bins=20, color='hotpink')\n",
    "\n",
    "plt.show()"
   ]
  },
  {
   "cell_type": "code",
   "execution_count": null,
   "metadata": {},
   "outputs": [],
   "source": []
  },
  {
   "cell_type": "markdown",
   "metadata": {},
   "source": [
    "# 판다스의 데이타프레임 그래프"
   ]
  },
  {
   "cell_type": "markdown",
   "metadata": {},
   "source": [
    "### 데이타프레임\n",
    "데이타프레임명.plot( kind=그래프형태, figsize=(가로,세로), title=제목)\n",
    "\n",
    "### 시리즈\n",
    "데이타프레임명[컬럼명].plot( kind=그래프형태, figsize=(가로,세로), title=제목)\n",
    "\n",
    "### 서브플랏 스타일 \n",
    "데이타프레임명.plot( kind=그래프형태, figsize=(가로,세로), title=제목 ,\n",
    "                        subplots=True, layout(행수, 열수) )"
   ]
  },
  {
   "cell_type": "code",
   "execution_count": null,
   "metadata": {},
   "outputs": [],
   "source": [
    "data = {'kor':[40, 55, 66, 77, 34],\n",
    "        'math':[70, 55, 66, 20, 40],\n",
    "        'eng':[80, 95, 100, 77, 90],\n",
    "        'sci':[90, 45, 77, 90, 67]}\n",
    "        \n",
    "name_list = ['고길동','김희동','신윤지','이민호','박준희']    \n",
    "\n",
    "df = pd.DataFrame(data, index=name_list)\n",
    "df"
   ]
  },
  {
   "cell_type": "code",
   "execution_count": null,
   "metadata": {},
   "outputs": [],
   "source": [
    "df.plot(kind='bar', title='중간고사 성적', figsize=(8,5))\n",
    "plt.tick_params(axis='x', labelsize=20, colors='black', width='3', rotation=45)\n"
   ]
  },
  {
   "cell_type": "code",
   "execution_count": null,
   "metadata": {},
   "outputs": [],
   "source": [
    "df.plot(kind='barh', title='중간고사 성적', figsize=(8,5))\n",
    "plt.tick_params(axis='y', labelsize=15, colors='black', width='3', rotation=45)"
   ]
  },
  {
   "cell_type": "code",
   "execution_count": null,
   "metadata": {},
   "outputs": [],
   "source": [
    "df.plot?"
   ]
  },
  {
   "cell_type": "markdown",
   "metadata": {},
   "source": [
    "#### 각 시리즈별 그래프"
   ]
  },
  {
   "cell_type": "code",
   "execution_count": null,
   "metadata": {},
   "outputs": [],
   "source": [
    "df.loc['고길동']"
   ]
  },
  {
   "cell_type": "code",
   "execution_count": null,
   "metadata": {},
   "outputs": [],
   "source": [
    "df.loc['고길동'].plot(kind='bar', title='고길동', color=['r','b','g','k']);"
   ]
  },
  {
   "cell_type": "code",
   "execution_count": null,
   "metadata": {},
   "outputs": [],
   "source": [
    "df['kor'].plot(kind='bar', title='국어', color=['g','r','c','m','y']);\n",
    "plt.tick_params(axis='x', labelsize=15, colors='black', rotation=45);"
   ]
  },
  {
   "cell_type": "code",
   "execution_count": null,
   "metadata": {},
   "outputs": [],
   "source": [
    "df.index"
   ]
  },
  {
   "cell_type": "code",
   "execution_count": null,
   "metadata": {},
   "outputs": [],
   "source": [
    "plt.figure(figsize=(10,12))\n",
    "plt.subplot(221)\n",
    "df.iloc[0].plot(kind='bar', title=df.index[0], color=['r','b','g','c']);\n",
    "\n",
    "plt.subplot(222)\n",
    "df.iloc[1].plot(kind='bar', title=df.index[1], color=['r','b','g','c']);\n",
    "\n",
    "plt.subplot(223)\n",
    "df.iloc[2].plot(kind='bar', title=df.index[2], color=['r','b','g','c']);\n",
    "\n",
    "plt.subplot(224)\n",
    "df.iloc[3].plot(kind='bar', title=df.index[3], color=['r','b','g','c']);\n",
    "\n",
    "plt.suptitle('학생별 중간고사 성적')\n",
    "plt.axis('auto')\n",
    "plt.show()"
   ]
  },
  {
   "cell_type": "code",
   "execution_count": null,
   "metadata": {},
   "outputs": [],
   "source": [
    "df.iloc[0]"
   ]
  },
  {
   "cell_type": "code",
   "execution_count": null,
   "metadata": {},
   "outputs": [],
   "source": [
    "df.iloc[0]"
   ]
  },
  {
   "cell_type": "code",
   "execution_count": null,
   "metadata": {},
   "outputs": [],
   "source": [
    "plt.figure(figsize=(10,12))\n",
    "for i in range(4):    \n",
    "    plt.subplot(221+i)\n",
    "    df.iloc[i].plot(kind='bar', title=df.index[i], color=['r','b','g','c']);\n",
    "\n",
    "plt.suptitle('학생별 중간고사 성적')\n",
    "plt.axis('auto')\n",
    "plt.show()"
   ]
  },
  {
   "cell_type": "raw",
   "metadata": {},
   "source": [
    "데이타프레임명.plot( kind=그래프형태, figsize=(가로,세로), \n",
    "                    title=제목 , subplots=True, layout(행수, 열수) )"
   ]
  },
  {
   "cell_type": "code",
   "execution_count": null,
   "metadata": {},
   "outputs": [],
   "source": [
    "df.plot(kind='bar', figsize=(10,12), title='중간고사 성적' ,subplots=True,  \n",
    "        grid=True, layout=(2,2), sharey=True, legend=False );\n"
   ]
  },
  {
   "cell_type": "code",
   "execution_count": null,
   "metadata": {},
   "outputs": [],
   "source": [
    "df.plot?"
   ]
  },
  {
   "cell_type": "markdown",
   "metadata": {},
   "source": [
    "# 서울의 온도"
   ]
  },
  {
   "cell_type": "code",
   "execution_count": 2,
   "metadata": {},
   "outputs": [],
   "source": [
    "# df_weather = pd.read_csv('data/seoul.csv', encoding='cp949')"
   ]
  },
  {
   "cell_type": "code",
   "execution_count": null,
   "metadata": {},
   "outputs": [],
   "source": []
  },
  {
   "cell_type": "code",
   "execution_count": null,
   "metadata": {},
   "outputs": [],
   "source": []
  },
  {
   "cell_type": "code",
   "execution_count": null,
   "metadata": {},
   "outputs": [],
   "source": []
  },
  {
   "cell_type": "code",
   "execution_count": null,
   "metadata": {},
   "outputs": [],
   "source": []
  },
  {
   "cell_type": "code",
   "execution_count": null,
   "metadata": {},
   "outputs": [],
   "source": []
  },
  {
   "cell_type": "code",
   "execution_count": null,
   "metadata": {},
   "outputs": [],
   "source": []
  },
  {
   "cell_type": "code",
   "execution_count": null,
   "metadata": {},
   "outputs": [],
   "source": []
  },
  {
   "cell_type": "code",
   "execution_count": null,
   "metadata": {},
   "outputs": [],
   "source": []
  }
 ],
 "metadata": {
  "kernelspec": {
   "display_name": "Python 3",
   "language": "python",
   "name": "python3"
  },
  "language_info": {
   "codemirror_mode": {
    "name": "ipython",
    "version": 3
   },
   "file_extension": ".py",
   "mimetype": "text/x-python",
   "name": "python",
   "nbconvert_exporter": "python",
   "pygments_lexer": "ipython3",
   "version": "3.8.8"
  }
 },
 "nbformat": 4,
 "nbformat_minor": 2
}
