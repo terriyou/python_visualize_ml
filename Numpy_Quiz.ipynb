{
 "cells": [
  {
   "cell_type": "markdown",
   "metadata": {},
   "source": [
    "# Q1 넘파이 모듈을 np 별칭으로 임포트해라 "
   ]
  },
  {
   "cell_type": "code",
   "execution_count": 3,
   "metadata": {},
   "outputs": [],
   "source": [
    "import numpy as np"
   ]
  },
  {
   "cell_type": "markdown",
   "metadata": {},
   "source": [
    "# Q2 다음과 같은 리스트를 이용하여 \n",
    "\n",
    "# 넘파이 배열을 만들고 \n",
    "\n",
    "# 전체 갯수, 차원, 데이터형, 구조를 출력하여라 \n",
    "\n",
    "```\n",
    "['강아지', '원숭이', '꽃', '45', '100']\n",
    "\n",
    "array(['강아지', '원숭이', '꽃', '45', '100'], dtype='<U3')\n",
    "차원 ? 1\n",
    "전체 갯수 ? 5\n",
    "데이터형 ? <U3\n",
    "전체 구조  ? (5,)\n",
    "\n",
    "\n",
    "```"
   ]
  },
  {
   "cell_type": "code",
   "execution_count": null,
   "metadata": {},
   "outputs": [],
   "source": []
  },
  {
   "cell_type": "code",
   "execution_count": null,
   "metadata": {},
   "outputs": [],
   "source": []
  },
  {
   "cell_type": "code",
   "execution_count": null,
   "metadata": {},
   "outputs": [],
   "source": []
  },
  {
   "cell_type": "code",
   "execution_count": null,
   "metadata": {},
   "outputs": [],
   "source": []
  },
  {
   "cell_type": "markdown",
   "metadata": {},
   "source": [
    "# Q3 np.ones()를 이용하여 \n",
    "\n",
    "# 2행 3열의 넘파이 배열을 생성하여라\n",
    "\n",
    "```\n",
    "\n",
    "array([[1., 1., 1.],\n",
    "       [1., 1., 1.]])\n",
    "\n",
    "\n",
    "```"
   ]
  },
  {
   "cell_type": "code",
   "execution_count": null,
   "metadata": {},
   "outputs": [],
   "source": []
  },
  {
   "cell_type": "code",
   "execution_count": null,
   "metadata": {},
   "outputs": [],
   "source": []
  },
  {
   "cell_type": "code",
   "execution_count": null,
   "metadata": {},
   "outputs": [],
   "source": []
  },
  {
   "cell_type": "markdown",
   "metadata": {},
   "source": [
    "# Q4. np.arange(), np.reshape()를 이용하여\n",
    "# 다음과 같은 넘파이 배열을 생성하여라\n",
    "\n",
    "```\n",
    "array([[51, 52, 53, 54, 55],\n",
    "       [56, 57, 58, 59, 60],\n",
    "       [61, 62, 63, 64, 65],\n",
    "       [66, 67, 68, 69, 70],\n",
    "       [71, 72, 73, 74, 75],\n",
    "       [76, 77, 78, 79, 80]])\n",
    "       ```"
   ]
  },
  {
   "cell_type": "code",
   "execution_count": null,
   "metadata": {},
   "outputs": [],
   "source": []
  },
  {
   "cell_type": "code",
   "execution_count": null,
   "metadata": {},
   "outputs": [],
   "source": []
  },
  {
   "cell_type": "code",
   "execution_count": null,
   "metadata": {},
   "outputs": [],
   "source": []
  },
  {
   "cell_type": "markdown",
   "metadata": {},
   "source": [
    "# Q5. Q4의 넘파이 배열의 자료형을 \n",
    "\n",
    "# float로 변경하고 데이터형을 출력하여라 \n",
    "\n",
    "```\n",
    "\n",
    "array([[51., 52., 53., 54., 55.],\n",
    "       [56., 57., 58., 59., 60.],\n",
    "       [61., 62., 63., 64., 65.],\n",
    "       [66., 67., 68., 69., 70.],\n",
    "       [71., 72., 73., 74., 75.],\n",
    "       [76., 77., 78., 79., 80.]])\n",
    "       \n",
    "-------------------------------------  \n",
    "  \n",
    "dtype('float64')\n",
    "       \n",
    "       ```"
   ]
  },
  {
   "cell_type": "code",
   "execution_count": null,
   "metadata": {},
   "outputs": [],
   "source": []
  },
  {
   "cell_type": "code",
   "execution_count": null,
   "metadata": {},
   "outputs": [],
   "source": []
  },
  {
   "cell_type": "code",
   "execution_count": null,
   "metadata": {},
   "outputs": [],
   "source": []
  },
  {
   "cell_type": "code",
   "execution_count": null,
   "metadata": {},
   "outputs": [],
   "source": []
  },
  {
   "cell_type": "markdown",
   "metadata": {},
   "source": [
    "# Q6. 다음과 같이 넘파이 배열을 생성한 후 \n",
    "# 1차원 배열로 변경하고 슬라이싱하여라 \n",
    "\n",
    "```\n",
    "array([[ 1,  4,  5,  6],\n",
    "       [56, 23, 45, 67],\n",
    "       [ 8,  4,  6, 10]])\n",
    "       \n",
    "array([ 1,  4,  5,  6, 56, 23, 45, 67,  8,  4,  6, 10])\n",
    "\n",
    "\n",
    "array([23, 45, 67,  8,  4,  6])\n",
    "```       "
   ]
  },
  {
   "cell_type": "code",
   "execution_count": null,
   "metadata": {},
   "outputs": [],
   "source": []
  },
  {
   "cell_type": "code",
   "execution_count": null,
   "metadata": {},
   "outputs": [],
   "source": []
  },
  {
   "cell_type": "code",
   "execution_count": null,
   "metadata": {},
   "outputs": [],
   "source": []
  },
  {
   "cell_type": "markdown",
   "metadata": {},
   "source": [
    "# Q7. 다음과 같은 넘파이 배열을 생성한 후 \n",
    "# 아이템을 교체하여라 \n",
    "\n",
    "```\n",
    "array([ 1,  2,  3,  4,  5,  6,  7,  8,  9, 10])\n",
    "\n",
    "array([10,  2,  3,  4,  5,  6,  7,  0,  0,  0])\n",
    "\n",
    "```"
   ]
  },
  {
   "cell_type": "code",
   "execution_count": null,
   "metadata": {},
   "outputs": [],
   "source": []
  },
  {
   "cell_type": "code",
   "execution_count": null,
   "metadata": {},
   "outputs": [],
   "source": []
  },
  {
   "cell_type": "code",
   "execution_count": null,
   "metadata": {},
   "outputs": [],
   "source": []
  },
  {
   "cell_type": "code",
   "execution_count": null,
   "metadata": {},
   "outputs": [],
   "source": []
  },
  {
   "cell_type": "markdown",
   "metadata": {},
   "source": [
    "# Q8. 2자리의 숫자로 구성된 넘파이 배열(5행5열)을 만들어라.\n",
    "\n",
    "# 숫자는 난수를 이용한다. \n",
    "\n",
    "```\n",
    "[[63 85 71 67 15]\n",
    " [31 81 69 17 97]\n",
    " [25 41 33 23 39]\n",
    " [39 43 59 33 43]\n",
    " [23 51 65 91 23]]\n",
    "\n",
    "```"
   ]
  },
  {
   "cell_type": "code",
   "execution_count": null,
   "metadata": {},
   "outputs": [],
   "source": []
  },
  {
   "cell_type": "code",
   "execution_count": null,
   "metadata": {},
   "outputs": [],
   "source": []
  },
  {
   "cell_type": "code",
   "execution_count": null,
   "metadata": {},
   "outputs": [],
   "source": []
  },
  {
   "cell_type": "code",
   "execution_count": null,
   "metadata": {},
   "outputs": [],
   "source": []
  },
  {
   "cell_type": "markdown",
   "metadata": {},
   "source": [
    "# Q9. 1~100 사이의 정수중 7개의 숫자를 무작위로 추출한 후 가장 큰값과 가장 작은 값을 출력하여라. \n",
    "\n",
    "```\n",
    "[91, 65, 14, 66, 65, 98, 34]\n",
    "\n",
    "max = 98\n",
    "min = 14\n",
    "```"
   ]
  },
  {
   "cell_type": "code",
   "execution_count": null,
   "metadata": {},
   "outputs": [],
   "source": []
  },
  {
   "cell_type": "code",
   "execution_count": null,
   "metadata": {},
   "outputs": [],
   "source": []
  },
  {
   "cell_type": "code",
   "execution_count": null,
   "metadata": {},
   "outputs": [],
   "source": []
  },
  {
   "cell_type": "markdown",
   "metadata": {},
   "source": [
    "# Q10. 다음과 같은 3개의 넘파이 배열을 생성한 후 다음과 같이 합쳐라 \n",
    "\n",
    "\n",
    "```\n",
    "[[1, 2, 3],\n",
    " [4, 5, 6],\n",
    " [7, 8, 9]]\n",
    " \n",
    "\n",
    "[[11, 12, 13],\n",
    " [14, 15, 16],\n",
    " [17, 18, 19]]\n",
    "\n",
    "\n",
    "[[21, 22, 23],\n",
    " [24, 25, 26],\n",
    " [27, 28, 29]]\n",
    " \n",
    " ----------\n",
    "  Result1 \n",
    "  \n",
    " [[ 1,  2,  3, 11, 12, 13, 21, 22, 23],\n",
    "  [ 4,  5,  6, 14, 15, 16, 24, 25, 26],\n",
    "  [ 7,  8,  9, 17, 18, 19, 27, 28, 29]] \n",
    "  \n",
    "  \n",
    "  ----------\n",
    "  Result2\n",
    "   \n",
    " [[ 1,  2,  3],\n",
    "  [ 4,  5,  6],\n",
    "  [ 7,  8,  9],\n",
    "  [11, 12, 13],\n",
    "  [14, 15, 16],\n",
    "  [17, 18, 19],\n",
    "  [21, 22, 23],\n",
    "  [24, 25, 26],\n",
    "  [27, 28, 29]] \n",
    "```\n"
   ]
  },
  {
   "cell_type": "code",
   "execution_count": null,
   "metadata": {},
   "outputs": [],
   "source": []
  },
  {
   "cell_type": "code",
   "execution_count": null,
   "metadata": {},
   "outputs": [],
   "source": []
  },
  {
   "cell_type": "code",
   "execution_count": null,
   "metadata": {},
   "outputs": [],
   "source": []
  },
  {
   "cell_type": "code",
   "execution_count": null,
   "metadata": {},
   "outputs": [],
   "source": []
  },
  {
   "cell_type": "code",
   "execution_count": null,
   "metadata": {},
   "outputs": [],
   "source": []
  },
  {
   "cell_type": "markdown",
   "metadata": {},
   "source": [
    "# Q11. 아래와 같이 넘파이 배열을 생성한 후 \n",
    "\n",
    "# 50보다 큰 숫자만 필터링하여라. \n",
    "\n",
    "```\n",
    "arr = np.random.choice(100, 40, replace=False)\n",
    "\n",
    "Before => \n",
    "\n",
    "[40, 63,  8,  2, 35, 84, 72, 48, 78, 86, 87, 58,  0, 49, 14, 55, 11,\n",
    "       73, 39, 26, 75, 27, 99, 46, 25, 22, 34, 83, 24, 47, 31, 57, 62, 19,\n",
    "       36, 15, 17, 10, 98, 90]\n",
    "\n",
    "\n",
    "After =>\n",
    "\n",
    "[63, 84, 72, 78, 86, 87, 58, 55, 73, 75, 99, 83, 57, 62, 98, 90]\n",
    "\n",
    "\n",
    "```"
   ]
  },
  {
   "cell_type": "code",
   "execution_count": null,
   "metadata": {},
   "outputs": [],
   "source": []
  },
  {
   "cell_type": "code",
   "execution_count": null,
   "metadata": {},
   "outputs": [],
   "source": []
  },
  {
   "cell_type": "markdown",
   "metadata": {},
   "source": [
    "# Quiz 12\n",
    "\n",
    "```\n",
    "\n",
    "kor = np.array( [60,55,70,30,20,90])\n",
    "\n",
    "\n",
    "1. 국어점수가 가장큰값을 구하여라\n",
    "2. 국어점수가 80점이상인 값을 구하여라\n",
    "3. 국어 점수가 50점이상 80점 이하인 값을 구하여라\n",
    "4. 국어점수의 평균을 구하여라\n",
    "5. 국어점수의 총합을 구하여라.\n",
    "6. 국어점수가 40점이하인 데이터를 삭제하여라\n",
    "7. 국어점수가 50점이상인 데이터에 가산점 10%를 부여하여라\n",
    "8. 국어점수 top 5를 구하여라\n",
    "9. 국어점수가 70점이상이면 '합격' , 아니면 '불합격으로' 아래와 같이 출력하시요\n",
    "\n",
    "60 '불합격'\n",
    "55 '불합격'\n",
    "```"
   ]
  },
  {
   "cell_type": "code",
   "execution_count": null,
   "metadata": {},
   "outputs": [],
   "source": []
  },
  {
   "cell_type": "code",
   "execution_count": null,
   "metadata": {},
   "outputs": [],
   "source": []
  },
  {
   "cell_type": "markdown",
   "metadata": {},
   "source": [
    "# Quiz 13\n",
    "\n",
    "```\n",
    "1) 아래 명령을 이용하여 ratings.dat 파일의 데이타를 넘파이 배열로 생성하여라\n",
    "\n",
    "    np.loadtxt('data/ratings.dat', delimiter='::', dtype=np.int64)\n",
    "\n",
    "    데이타형태는 다음과 같다. \n",
    "    ratings.dat => 무비렌즈의 영화평점데이타 \n",
    "    (userId / movieId/rating/ timestamp)\n",
    "     예) 1::1193::5:: 978300760\n",
    "\n",
    "2) movieId 가 55인 데이타의 갯수는?\n",
    "\n",
    "3) movieId 가 55인 데이타의 평균평점은? \n",
    "\n",
    "4) timestamp는 시계열데이타이다. timestamp 데이타를 이용하여 97년도 데이타만 추출한 후 \n",
    "   총 데이타 갯수와 평균 평점을 구하여라\n",
    "   \n",
    " ```"
   ]
  },
  {
   "cell_type": "code",
   "execution_count": null,
   "metadata": {},
   "outputs": [],
   "source": []
  },
  {
   "cell_type": "code",
   "execution_count": null,
   "metadata": {},
   "outputs": [],
   "source": []
  },
  {
   "cell_type": "markdown",
   "metadata": {},
   "source": [
    "# Quiz 14\n",
    "\n",
    "```\n",
    "1) 'jeju2021.csv' 제주의 온도 데이타를 csv 파일로 저장한 후 \n",
    "   np.loadtxt() 명령을 이용하여 필요한 컬럼과 데이터만 로딩하여라 \n",
    "   \n",
    "   '일시', '평균기온(℃)', '최고기온(℃)', '최저기온(℃)'\n",
    "   \n",
    "    data = np.loadtxt('data/jeju2021.csv', \n",
    "                        delimiter=',' , \n",
    "                        dtype=np.str ,\n",
    "                       usecols=(2,3,5,8))\n",
    "   \n",
    "   \n",
    "\n",
    "2) 1)의 넘파이 배열의 데이타 형태를 실수 형태로 변경하여라 \n",
    "   데이타의 결측치나 이상값은 -99로 지정한다. \n",
    "\n",
    "[[20210101.0, 6.8, 18.2, -4.6],\n",
    " [20201201.0, 8.0, 16.3, -2.8],\n",
    " [20201101.0, 14.6, 26.7, 4.8],\n",
    " [20201001.0, 18.5, 25.8, 10.2],\n",
    " [20200901.0, 22.5, 32.5, 14.9],\n",
    " [20200801.0, 28.4, 36.3, 22.3],\n",
    " [20200701.0, 23.8, 34.3, 16.8],\n",
    " [20200601.0, 22.4, 30.9, 11.7],\n",
    " [20200501.0, 18.8, 29.5, 10.3],\n",
    " ...\n",
    "\n",
    "3) 아래의 명령어를 이용하여 데이타값의 소숫점 처리를 3자리로 변경하여라 \n",
    "\n",
    "np.set_printoptions(precision=3)\n",
    "np.set_printoptions(formatter={'float_kind': lambda x: \"{0:0.3f}\".format(x)})\n",
    "\n",
    "4) 제주도의 최고 기온은?\n",
    "\n",
    "5) 2018년도 제주도 기온 데이타만 출력하여라. \n",
    "\n",
    "6) 최저 기온이 -5도 이하인 데이타만 출력하여라. \n",
    "\n",
    "7) 2018년도 기온 데이타에서 최고 기온이 28도 보다 높은 경우의 데이타만 출력하여라.\n",
    "   \n",
    " ```"
   ]
  },
  {
   "cell_type": "markdown",
   "metadata": {},
   "source": [
    "# Quiz 15\n",
    "\n",
    "```\n",
    "birthArr = np.loadtxt('data/births.txt',delimiter=',', dtype=np.int64)\n",
    "\n",
    "1. 남아 ,여아 출생 평균을 구하여라\n",
    "2. 남아출생이 가장많은 top5  를 구하여라(년도와 남아수)\n",
    "3. 남아율(%) 을 구하고 각년도별  남아수가 차지하는비율을 데이터로  출력하여라 \n",
    "\n",
    "년도    남아    여아    남아율\n",
    "=================================\n",
    "..\n",
    "4. 2000년도 이후데이터 에 대해  출생량 을 구하고 \n",
    "남아수가 1800000 이상이면 '많음'아니면 '적음' 이라고 출력하여라\n",
    "\n",
    "\n",
    "\t남아수 출생량\n",
    "2000   1814601   '많음'\n",
    "2001   1799049   '적음'\n",
    "\n",
    "\n",
    "5.1800년대,1900년대,2000년대 각 남아,여야수 평균을 구하여라\n",
    "\n",
    "```"
   ]
  },
  {
   "cell_type": "code",
   "execution_count": null,
   "metadata": {},
   "outputs": [],
   "source": []
  },
  {
   "cell_type": "code",
   "execution_count": null,
   "metadata": {},
   "outputs": [],
   "source": []
  },
  {
   "cell_type": "code",
   "execution_count": null,
   "metadata": {},
   "outputs": [],
   "source": []
  }
 ],
 "metadata": {
  "kernelspec": {
   "display_name": "Python 3",
   "language": "python",
   "name": "python3"
  },
  "language_info": {
   "codemirror_mode": {
    "name": "ipython",
    "version": 3
   },
   "file_extension": ".py",
   "mimetype": "text/x-python",
   "name": "python",
   "nbconvert_exporter": "python",
   "pygments_lexer": "ipython3",
   "version": "3.8.8"
  }
 },
 "nbformat": 4,
 "nbformat_minor": 2
}
