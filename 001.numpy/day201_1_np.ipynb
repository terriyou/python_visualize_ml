{
 "cells": [
  {
   "cell_type": "code",
   "execution_count": 1,
   "id": "da4386e5",
   "metadata": {},
   "outputs": [
    {
     "data": {
      "text/html": [
       "<style>.container { font-weight: bold !important; }</style>"
      ],
      "text/plain": [
       "<IPython.core.display.HTML object>"
      ]
     },
     "metadata": {},
     "output_type": "display_data"
    },
    {
     "data": {
      "text/html": [
       "<style>.container { width: 100% !important; }</style>"
      ],
      "text/plain": [
       "<IPython.core.display.HTML object>"
      ]
     },
     "metadata": {},
     "output_type": "display_data"
    }
   ],
   "source": [
    "# 쥬피터노트북 셀 스타일 조절 \n",
    "from IPython.core.display import display, HTML\n",
    "display(HTML(\"<style>.container { font-weight: bold !important; }</style>\"))\n",
    "display(HTML(\"<style>.container { width: 100% !important; }</style>\"))\n",
    "\n",
    "# 경고 메세지 숨기기 \n",
    "import warnings\n",
    "warnings.filterwarnings(action='ignore')"
   ]
  },
  {
   "cell_type": "code",
   "execution_count": 3,
   "id": "a6567819",
   "metadata": {},
   "outputs": [],
   "source": [
    "import numpy as np"
   ]
  },
  {
   "cell_type": "markdown",
   "id": "30ef9d5b",
   "metadata": {},
   "source": [
    "# 불린 마스크 \n",
    "조건절의 결과는 True, False 로 반환 <br>\n",
    "True인 결과의 데이타프레임 반환 \n",
    "\n",
    "```\n",
    " 넘파이배열[조건절] \n",
    " == , !=, <=, >=\n",
    " &, |, ~\n",
    " \n",
    "```"
   ]
  },
  {
   "cell_type": "code",
   "execution_count": 4,
   "id": "c945ff58",
   "metadata": {},
   "outputs": [
    {
     "data": {
      "text/plain": [
       "array([ 1,  2,  3,  4,  5,  6,  7,  8,  9, 10, 11, 12, 13, 14, 15, 16, 17,\n",
       "       18, 19, 20])"
      ]
     },
     "execution_count": 4,
     "metadata": {},
     "output_type": "execute_result"
    }
   ],
   "source": [
    "matrix = np.arange(1,21)\n",
    "matrix "
   ]
  },
  {
   "cell_type": "code",
   "execution_count": 5,
   "id": "863f545a",
   "metadata": {},
   "outputs": [
    {
     "data": {
      "text/plain": [
       "array([False, False, False, False, False, False, False, False, False,\n",
       "       False,  True,  True,  True,  True,  True,  True,  True,  True,\n",
       "        True,  True])"
      ]
     },
     "execution_count": 5,
     "metadata": {},
     "output_type": "execute_result"
    }
   ],
   "source": [
    "# 넘파이 배열에 비교 연산자 적용 => True/False 값 반환 \n",
    "matrix > 10"
   ]
  },
  {
   "cell_type": "code",
   "execution_count": 7,
   "id": "39bba63e",
   "metadata": {},
   "outputs": [
    {
     "data": {
      "text/plain": [
       "10"
      ]
     },
     "execution_count": 7,
     "metadata": {},
     "output_type": "execute_result"
    }
   ],
   "source": [
    "# True 반환값의 갯수 \n",
    "(matrix > 10).sum()"
   ]
  },
  {
   "cell_type": "code",
   "execution_count": 8,
   "id": "10f5de96",
   "metadata": {},
   "outputs": [
    {
     "data": {
      "text/plain": [
       "array([11, 12, 13, 14, 15, 16, 17, 18, 19, 20])"
      ]
     },
     "execution_count": 8,
     "metadata": {},
     "output_type": "execute_result"
    }
   ],
   "source": [
    "# 넘파이배열[조건절] => 조건절을 만족하는 실제값 반환 \n",
    "matrix[matrix > 10]"
   ]
  },
  {
   "cell_type": "code",
   "execution_count": null,
   "id": "aeaa6451",
   "metadata": {},
   "outputs": [],
   "source": [
    "# 퀴즈 : \n",
    "# 1~100 사이의 숫자중에서 30개를 추출하여 랜덤하게 넘파이 배열을 생성하고 \n",
    "# 30보다 크거나 70보다 작은 숫자를 출력하여라. \n",
    "# n>30 ? n<70"
   ]
  },
  {
   "cell_type": "code",
   "execution_count": 9,
   "id": "dc8c6e6b",
   "metadata": {},
   "outputs": [
    {
     "data": {
      "text/plain": [
       "array([65, 60, 66, 16, 48, 54, 64, 75, 31, 53, 96, 15, 89, 33, 71, 12, 63,\n",
       "       19, 50, 10,  6, 84, 50, 99, 31, 21, 34, 66, 47, 74])"
      ]
     },
     "execution_count": 9,
     "metadata": {},
     "output_type": "execute_result"
    }
   ],
   "source": [
    "matrix2 = np.random.randint(1,100,30)\n",
    "matrix2"
   ]
  },
  {
   "cell_type": "code",
   "execution_count": 10,
   "id": "cff6b569",
   "metadata": {},
   "outputs": [
    {
     "data": {
      "text/plain": [
       "array([ True,  True,  True, False,  True,  True,  True,  True,  True,\n",
       "        True,  True, False,  True,  True,  True, False,  True, False,\n",
       "        True, False, False,  True,  True,  True,  True, False,  True,\n",
       "        True,  True,  True])"
      ]
     },
     "execution_count": 10,
     "metadata": {},
     "output_type": "execute_result"
    }
   ],
   "source": [
    "matrix2 > 30"
   ]
  },
  {
   "cell_type": "code",
   "execution_count": 11,
   "id": "9f93d97b",
   "metadata": {},
   "outputs": [
    {
     "data": {
      "text/plain": [
       "array([65, 60, 66, 48, 54, 64, 75, 31, 53, 96, 89, 33, 71, 63, 50, 84, 50,\n",
       "       99, 31, 34, 66, 47, 74])"
      ]
     },
     "execution_count": 11,
     "metadata": {},
     "output_type": "execute_result"
    }
   ],
   "source": [
    "matrix2[matrix2 > 30]"
   ]
  },
  {
   "cell_type": "code",
   "execution_count": 14,
   "id": "34c67f98",
   "metadata": {},
   "outputs": [
    {
     "data": {
      "text/plain": [
       "23"
      ]
     },
     "execution_count": 14,
     "metadata": {},
     "output_type": "execute_result"
    }
   ],
   "source": [
    "(matrix2 > 30).sum()"
   ]
  },
  {
   "cell_type": "code",
   "execution_count": 12,
   "id": "5b680a9d",
   "metadata": {},
   "outputs": [
    {
     "data": {
      "text/plain": [
       "array([ True,  True,  True,  True,  True,  True,  True, False,  True,\n",
       "        True, False,  True, False,  True, False,  True,  True,  True,\n",
       "        True,  True,  True, False,  True, False,  True,  True,  True,\n",
       "        True,  True, False])"
      ]
     },
     "execution_count": 12,
     "metadata": {},
     "output_type": "execute_result"
    }
   ],
   "source": [
    "matrix2 < 70"
   ]
  },
  {
   "cell_type": "code",
   "execution_count": 15,
   "id": "76c8a7b2",
   "metadata": {},
   "outputs": [
    {
     "data": {
      "text/plain": [
       "23"
      ]
     },
     "execution_count": 15,
     "metadata": {},
     "output_type": "execute_result"
    }
   ],
   "source": [
    "(matrix2 < 70).sum()"
   ]
  },
  {
   "cell_type": "code",
   "execution_count": 16,
   "id": "259be5fa",
   "metadata": {},
   "outputs": [
    {
     "data": {
      "text/plain": [
       "array([65, 60, 66, 16, 48, 54, 64, 31, 53, 15, 33, 12, 63, 19, 50, 10,  6,\n",
       "       50, 31, 21, 34, 66, 47])"
      ]
     },
     "execution_count": 16,
     "metadata": {},
     "output_type": "execute_result"
    }
   ],
   "source": [
    "matrix2[matrix2 < 70]"
   ]
  },
  {
   "cell_type": "code",
   "execution_count": 21,
   "id": "a909fcfc",
   "metadata": {},
   "outputs": [
    {
     "data": {
      "text/plain": [
       "array([ True,  True,  True, False,  True,  True,  True, False,  True,\n",
       "        True, False, False, False,  True, False, False,  True, False,\n",
       "        True, False, False, False,  True, False,  True, False,  True,\n",
       "        True,  True, False])"
      ]
     },
     "execution_count": 21,
     "metadata": {},
     "output_type": "execute_result"
    }
   ],
   "source": [
    "# 30 < n < 70\n",
    "(matrix2 > 30) & (matrix2 < 70)"
   ]
  },
  {
   "cell_type": "code",
   "execution_count": 18,
   "id": "1f19e6a5",
   "metadata": {},
   "outputs": [
    {
     "data": {
      "text/plain": [
       "16"
      ]
     },
     "execution_count": 18,
     "metadata": {},
     "output_type": "execute_result"
    }
   ],
   "source": [
    "((matrix2 > 30) & (matrix2 < 70)).sum()"
   ]
  },
  {
   "cell_type": "code",
   "execution_count": 22,
   "id": "1d17ed52",
   "metadata": {},
   "outputs": [
    {
     "data": {
      "text/plain": [
       "array([65, 60, 66, 48, 54, 64, 31, 53, 33, 63, 50, 50, 31, 34, 66, 47])"
      ]
     },
     "execution_count": 22,
     "metadata": {},
     "output_type": "execute_result"
    }
   ],
   "source": [
    "matrix2[(matrix2 > 30) & (matrix2 < 70)]"
   ]
  },
  {
   "cell_type": "code",
   "execution_count": 25,
   "id": "05a763bc",
   "metadata": {},
   "outputs": [
    {
     "data": {
      "text/plain": [
       "array([65, 60, 66, 48, 54, 64, 31, 53, 33, 63, 50, 50, 31, 34, 66, 47])"
      ]
     },
     "execution_count": 25,
     "metadata": {},
     "output_type": "execute_result"
    }
   ],
   "source": [
    "matrix2[(matrix2 > 30) & (matrix2 < 70)]"
   ]
  },
  {
   "cell_type": "code",
   "execution_count": 26,
   "id": "f7c0ba54",
   "metadata": {},
   "outputs": [
    {
     "data": {
      "text/plain": [
       "array([96,  6, 99])"
      ]
     },
     "execution_count": 26,
     "metadata": {},
     "output_type": "execute_result"
    }
   ],
   "source": [
    "#  (n <10 ) or (n > 90)\n",
    "matrix2[(matrix2 < 10) | (matrix2 > 90)]"
   ]
  },
  {
   "cell_type": "code",
   "execution_count": 27,
   "id": "a6d6536e",
   "metadata": {},
   "outputs": [
    {
     "data": {
      "text/plain": [
       "array([65, 60, 66, 16, 48, 54, 64, 75, 31, 53, 15, 89, 33, 71, 12, 63, 19,\n",
       "       50, 10, 84, 50, 31, 21, 34, 66, 47, 74])"
      ]
     },
     "execution_count": 27,
     "metadata": {},
     "output_type": "execute_result"
    }
   ],
   "source": [
    "# not ~  => 10 <= n <=90\n",
    "matrix2[~((matrix2 < 10) | (matrix2 > 90))]"
   ]
  },
  {
   "cell_type": "markdown",
   "id": "89c252f1",
   "metadata": {},
   "source": [
    "# 팬시 인덱싱 \n",
    "```\n",
    " 넘파이배열1[넘파이배열2]\n",
    " 넘파이배열2 => 인덱스 역할 \n",
    "```"
   ]
  },
  {
   "cell_type": "code",
   "execution_count": 28,
   "id": "e4c5e552",
   "metadata": {},
   "outputs": [
    {
     "data": {
      "text/plain": [
       "array([55, 92, 39, 92, 13, 73,  4, 51, 23,  8, 95, 52, 68, 84, 33, 92, 74,\n",
       "       24, 14, 43, 69, 52,  5, 12, 23, 73, 76, 23, 56, 87])"
      ]
     },
     "execution_count": 28,
     "metadata": {},
     "output_type": "execute_result"
    }
   ],
   "source": [
    "matrix3 = np.random.randint(1,100,30)\n",
    "matrix3"
   ]
  },
  {
   "cell_type": "code",
   "execution_count": 37,
   "id": "51577846",
   "metadata": {},
   "outputs": [
    {
     "data": {
      "text/plain": [
       "array([ 0,  0,  0,  2,  3, 10, 20, -1])"
      ]
     },
     "execution_count": 37,
     "metadata": {},
     "output_type": "execute_result"
    }
   ],
   "source": [
    "# 필터링 인덱스 => 팬시 인덱싱 \n",
    "# 정수 형태이어야 한다. \n",
    "matrix4 = np.array([0, 0, 0, 2, 3, 10, 20, -1])\n",
    "matrix4"
   ]
  },
  {
   "cell_type": "code",
   "execution_count": 38,
   "id": "45b8ffa0",
   "metadata": {},
   "outputs": [
    {
     "data": {
      "text/plain": [
       "array([55, 55, 55, 39, 92, 95, 69, 87])"
      ]
     },
     "execution_count": 38,
     "metadata": {},
     "output_type": "execute_result"
    }
   ],
   "source": [
    "matrix3[matrix4]"
   ]
  },
  {
   "cell_type": "code",
   "execution_count": 39,
   "id": "d27c258d",
   "metadata": {},
   "outputs": [
    {
     "data": {
      "text/plain": [
       "array([[82, 38, 37, 31, 19],\n",
       "       [62, 51, 32, 89, 63],\n",
       "       [66, 17, 52, 98, 60],\n",
       "       [53, 23, 81, 26, 58],\n",
       "       [80, 53, 91, 35,  2],\n",
       "       [68, 80, 18, 66, 41]])"
      ]
     },
     "execution_count": 39,
     "metadata": {},
     "output_type": "execute_result"
    }
   ],
   "source": [
    "matrix4 = np.random.randint(1,100,30).reshape(6,5)\n",
    "matrix4"
   ]
  },
  {
   "cell_type": "code",
   "execution_count": 71,
   "id": "a2e13cca",
   "metadata": {},
   "outputs": [],
   "source": [
    "matrix5 = [ 0, 1, -1 ]"
   ]
  },
  {
   "cell_type": "code",
   "execution_count": 72,
   "id": "d2649cd9",
   "metadata": {},
   "outputs": [
    {
     "data": {
      "text/plain": [
       "array([[82, 38, 37, 31, 19],\n",
       "       [62, 51, 32, 89, 63],\n",
       "       [66, 17, 52, 98, 60],\n",
       "       [53, 23, 81, 26, 58],\n",
       "       [80, 53, 91, 35,  2],\n",
       "       [68, 80, 18, 66, 41]])"
      ]
     },
     "execution_count": 72,
     "metadata": {},
     "output_type": "execute_result"
    }
   ],
   "source": [
    "matrix4"
   ]
  },
  {
   "cell_type": "code",
   "execution_count": 73,
   "id": "69e6fe83",
   "metadata": {
    "scrolled": true
   },
   "outputs": [
    {
     "data": {
      "text/plain": [
       "array([[82, 38, 37, 31, 19],\n",
       "       [62, 51, 32, 89, 63],\n",
       "       [68, 80, 18, 66, 41]])"
      ]
     },
     "execution_count": 73,
     "metadata": {},
     "output_type": "execute_result"
    }
   ],
   "source": [
    "# 1행, 2행, 마지막행 출력 \n",
    "matrix4[ matrix5 ]"
   ]
  },
  {
   "cell_type": "code",
   "execution_count": 86,
   "id": "6fbe3393",
   "metadata": {},
   "outputs": [
    {
     "data": {
      "text/plain": [
       "array([[ 1,  2,  3,  4,  5],\n",
       "       [ 6,  7,  8,  9, 10],\n",
       "       [11, 12, 13, 14, 15],\n",
       "       [16, 17, 18, 19, 20],\n",
       "       [21, 22, 23, 24, 25]])"
      ]
     },
     "execution_count": 86,
     "metadata": {},
     "output_type": "execute_result"
    }
   ],
   "source": [
    "matrix4 = np.arange(1,26).reshape(5,5)\n",
    "matrix4"
   ]
  },
  {
   "cell_type": "code",
   "execution_count": 94,
   "id": "ec040e71",
   "metadata": {},
   "outputs": [
    {
     "data": {
      "text/plain": [
       "array([[ 1,  2,  3,  4,  5],\n",
       "       [ 6,  7,  8,  9, 10],\n",
       "       [11, 12, 13, 14, 15]])"
      ]
     },
     "execution_count": 94,
     "metadata": {},
     "output_type": "execute_result"
    }
   ],
   "source": [
    "# 배열[[행인덱스1, 행인덱스2 ...]]\n",
    "matrix4[[0, 1, 2]]"
   ]
  },
  {
   "cell_type": "code",
   "execution_count": 99,
   "id": "fa191429",
   "metadata": {},
   "outputs": [
    {
     "data": {
      "text/plain": [
       "array([ 1,  7, 13, 19, 25])"
      ]
     },
     "execution_count": 99,
     "metadata": {},
     "output_type": "execute_result"
    }
   ],
   "source": [
    "# 배열이름[ [i1, i2, i3 ... ], [j1, j2, j3 ... ]]\n",
    "# [i1,j1], [i2,j2] ... \n",
    "# 대각선의 값만 출력\n",
    "matrix4[[0, 1, 2, 3, 4], [0, 1, 2, 3, 4]]"
   ]
  },
  {
   "cell_type": "code",
   "execution_count": 105,
   "id": "835698b9",
   "metadata": {},
   "outputs": [
    {
     "data": {
      "text/plain": [
       "array([ 1,  7, 13, 19, 25])"
      ]
     },
     "execution_count": 105,
     "metadata": {},
     "output_type": "execute_result"
    }
   ],
   "source": [
    "# 별도 배열로 정의할려면 모두 튜플로 정의 \n",
    "fancy = ((0, 1, 2, 3, 4), (0, 1, 2, 3, 4))\n",
    "matrix4[fancy]"
   ]
  },
  {
   "cell_type": "code",
   "execution_count": 97,
   "id": "271f3e3f",
   "metadata": {},
   "outputs": [
    {
     "data": {
      "text/plain": [
       "array([[ 1,  2],\n",
       "       [ 6,  7],\n",
       "       [11, 12]])"
      ]
     },
     "execution_count": 97,
     "metadata": {},
     "output_type": "execute_result"
    }
   ],
   "source": [
    "matrix4[[0, 1, 2], 0:2]"
   ]
  },
  {
   "cell_type": "code",
   "execution_count": 102,
   "id": "b0f6a245",
   "metadata": {},
   "outputs": [
    {
     "data": {
      "text/plain": [
       "array([[ 1,  3,  5],\n",
       "       [ 6,  8, 10],\n",
       "       [11, 13, 15]])"
      ]
     },
     "execution_count": 102,
     "metadata": {},
     "output_type": "execute_result"
    }
   ],
   "source": [
    "matrix4[[0, 1, 2], ::2]"
   ]
  },
  {
   "cell_type": "code",
   "execution_count": 101,
   "id": "ce761faf",
   "metadata": {},
   "outputs": [
    {
     "data": {
      "text/plain": [
       "array([[ 1,  2,  3,  4,  5],\n",
       "       [ 6,  7,  8,  9, 10],\n",
       "       [11, 12, 13, 14, 15],\n",
       "       [16, 17, 18, 19, 20],\n",
       "       [21, 22, 23, 24, 25]])"
      ]
     },
     "execution_count": 101,
     "metadata": {},
     "output_type": "execute_result"
    }
   ],
   "source": [
    "matrix4"
   ]
  },
  {
   "cell_type": "markdown",
   "id": "8f7486ea",
   "metadata": {},
   "source": [
    "##### 대각선 값 뽑기 "
   ]
  },
  {
   "cell_type": "code",
   "execution_count": 106,
   "id": "882e856a",
   "metadata": {},
   "outputs": [
    {
     "data": {
      "text/plain": [
       "array([[ 1,  2,  3,  4,  5],\n",
       "       [ 6,  7,  8,  9, 10],\n",
       "       [11, 12, 13, 14, 15],\n",
       "       [16, 17, 18, 19, 20],\n",
       "       [21, 22, 23, 24, 25]])"
      ]
     },
     "execution_count": 106,
     "metadata": {},
     "output_type": "execute_result"
    }
   ],
   "source": [
    "matrix4 = np.arange(1,26).reshape(5,5)\n",
    "matrix4"
   ]
  },
  {
   "cell_type": "code",
   "execution_count": 112,
   "id": "205411ac",
   "metadata": {},
   "outputs": [
    {
     "data": {
      "text/plain": [
       "(1, 7, 13, 19, 25)"
      ]
     },
     "execution_count": 112,
     "metadata": {},
     "output_type": "execute_result"
    }
   ],
   "source": [
    "# 방법1\n",
    "matrix4[0,0], matrix4[1,1], matrix4[2,2], matrix4[3,3], matrix4[4,4]"
   ]
  },
  {
   "cell_type": "code",
   "execution_count": 113,
   "id": "1ca8e10e",
   "metadata": {},
   "outputs": [
    {
     "name": "stdout",
     "output_type": "stream",
     "text": [
      "1\t7\t13\t19\t25\t"
     ]
    }
   ],
   "source": [
    "# 방법2\n",
    "for i in range(len(matrix4)):\n",
    "    print(matrix4[i, i], end='\\t')"
   ]
  },
  {
   "cell_type": "code",
   "execution_count": 114,
   "id": "6e9a0181",
   "metadata": {},
   "outputs": [
    {
     "data": {
      "text/plain": [
       "array([ 1,  7, 13, 19, 25])"
      ]
     },
     "execution_count": 114,
     "metadata": {},
     "output_type": "execute_result"
    }
   ],
   "source": [
    "# 방법3 - 팬시인덱싱 \n",
    "matrix4[[0, 1, 2, 3, 4], [0, 1, 2, 3, 4]]"
   ]
  },
  {
   "cell_type": "code",
   "execution_count": 115,
   "id": "3188f127",
   "metadata": {},
   "outputs": [
    {
     "data": {
      "text/plain": [
       "array([ 1,  7, 13, 19, 25])"
      ]
     },
     "execution_count": 115,
     "metadata": {},
     "output_type": "execute_result"
    }
   ],
   "source": [
    "# 방법4\n",
    "# 별도 배열로 정의할려면 모두 튜플이나 리스트로 정의 \n",
    "# fancy = ((0, 1, 2, 3, 4), (0, 1, 2, 3, 4))\n",
    "fancy = [[0, 1, 2, 3, 4], [0, 1, 2, 3, 4]]\n",
    "matrix4[fancy]"
   ]
  },
  {
   "cell_type": "markdown",
   "id": "b49f07d8",
   "metadata": {},
   "source": [
    "# np.where() 를 이용한 필터링 \n",
    "\n",
    "```\n",
    "np.where(조건식) => 조건식을 만족하는 인덱스 반환 \n",
    "\n",
    "np.where(조건식, T, F) \n",
    "=> 조건식을 만족하면 T 값 그렇지않다면 F 값 \n",
    "\n",
    "배열 [np.where(조건식)]\n",
    "=> 조건식을 만족하는 실제 배열값이 반환 \n",
    "```\n"
   ]
  },
  {
   "cell_type": "code",
   "execution_count": 116,
   "id": "f430f4b3",
   "metadata": {},
   "outputs": [],
   "source": [
    "np.where?"
   ]
  },
  {
   "cell_type": "code",
   "execution_count": 121,
   "id": "a4b7377b",
   "metadata": {},
   "outputs": [
    {
     "data": {
      "text/plain": [
       "array([20, 21, 22, 23, 24, 25, 26, 27, 28, 29, 30])"
      ]
     },
     "execution_count": 121,
     "metadata": {},
     "output_type": "execute_result"
    }
   ],
   "source": [
    "a = np.arange(20, 31)\n",
    "a"
   ]
  },
  {
   "cell_type": "code",
   "execution_count": 125,
   "id": "9fd71ae6",
   "metadata": {},
   "outputs": [
    {
     "data": {
      "text/plain": [
       "(array([0, 1, 2, 3, 4], dtype=int64),)"
      ]
     },
     "execution_count": 125,
     "metadata": {},
     "output_type": "execute_result"
    }
   ],
   "source": [
    "# 조건식을 만족하는 인덱스 반환\n",
    "np.where(a < 25)"
   ]
  },
  {
   "cell_type": "code",
   "execution_count": 124,
   "id": "8219a7a3",
   "metadata": {},
   "outputs": [
    {
     "data": {
      "text/plain": [
       "array([ 20,  21,  22,  23,  24, 250, 260, 270, 280, 290, 300])"
      ]
     },
     "execution_count": 124,
     "metadata": {},
     "output_type": "execute_result"
    }
   ],
   "source": [
    "# 조건식을 만족하면 현재값 유지, 그렇지 않다면 10를 곱한다.\n",
    "np.where(a < 25, a, 10*a)"
   ]
  },
  {
   "cell_type": "code",
   "execution_count": 128,
   "id": "038e9743",
   "metadata": {},
   "outputs": [
    {
     "data": {
      "text/plain": [
       "array([1, 1, 1, 1, 1, 0, 0, 0, 0, 0, 0])"
      ]
     },
     "execution_count": 128,
     "metadata": {},
     "output_type": "execute_result"
    }
   ],
   "source": [
    "np.where(a < 25, 1, 0)"
   ]
  },
  {
   "cell_type": "code",
   "execution_count": 127,
   "id": "7a446ecc",
   "metadata": {},
   "outputs": [
    {
     "data": {
      "text/plain": [
       "array([20, 21, 22, 23, 24])"
      ]
     },
     "execution_count": 127,
     "metadata": {},
     "output_type": "execute_result"
    }
   ],
   "source": [
    "# 조건식을 만족하는 배열의 실제값 반환 \n",
    "a[np.where(a < 25)]"
   ]
  },
  {
   "cell_type": "code",
   "execution_count": null,
   "id": "c0647382",
   "metadata": {},
   "outputs": [],
   "source": []
  },
  {
   "cell_type": "code",
   "execution_count": null,
   "id": "840e81ac",
   "metadata": {},
   "outputs": [],
   "source": []
  },
  {
   "cell_type": "code",
   "execution_count": null,
   "id": "feb548e7",
   "metadata": {},
   "outputs": [],
   "source": []
  }
 ],
 "metadata": {
  "kernelspec": {
   "display_name": "Python 3",
   "language": "python",
   "name": "python3"
  },
  "language_info": {
   "codemirror_mode": {
    "name": "ipython",
    "version": 3
   },
   "file_extension": ".py",
   "mimetype": "text/x-python",
   "name": "python",
   "nbconvert_exporter": "python",
   "pygments_lexer": "ipython3",
   "version": "3.8.8"
  }
 },
 "nbformat": 4,
 "nbformat_minor": 5
}
