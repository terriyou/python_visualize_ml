{
 "cells": [
  {
   "cell_type": "raw",
   "id": "1f76ccab",
   "metadata": {},
   "source": [
    "조건 : 아나콘다가 환경패스로 지정 \n",
    "0) 쥬피터노트북의 시작 작업폴더 생성및 경로 확인 \n",
    "EX - C:\\workspace211123\n",
    "1) 쥬피터노트북 실행 파일 찾기 \n",
    "C:\\ProgramData\\Anaconda3\\Scripts 폴더안에 \n",
    "    jupyter-notebook.exe\n",
    "2)  jupyter-notebook.exe 마우스 우측 버튼 클릭 후 \n",
    "[보내기]-[바탕화면에 바로가기 만들기]\n",
    "3) 바탕화면에 아이콘 확인 하고 \n",
    "마우스 우측버튼 클릭후 [속성] 탭 클릭 \n",
    "[시작위치]를 위에서 생성한 작업폴더경로로 설정한다. \n",
    "C:\\workspace211123\n",
    "    "
   ]
  },
  {
   "cell_type": "raw",
   "id": "df879fac",
   "metadata": {},
   "source": [
    "작업 설정\n",
    "- 작업 폴더 생성 예) C:\\workspace211123\n",
    "- 작업 폴더안에 데이타 폴더(data) 생성 후 공유자료실에 있는 자료 복사하기 \n",
    "- 쥬피터노트북 실행 후 파일 생성 \n",
    "- ls data 명령으로 data 폴더안에 파일 확인 "
   ]
  },
  {
   "cell_type": "raw",
   "id": "ff012ac4",
   "metadata": {},
   "source": [
    "# 현재 작업폴더 및 특정 폴더 위치 확인하기 \n",
    "ls - 현재 작업폴더의 파일과 폴더 출력 \n",
    "ls 폴더명 - 특정 폴더안의 파일과 폴더 출력 "
   ]
  },
  {
   "cell_type": "code",
   "execution_count": 2,
   "id": "cbb9c3bc",
   "metadata": {},
   "outputs": [
    {
     "name": "stdout",
     "output_type": "stream",
     "text": [
      " C 드라이브의 볼륨에는 이름이 없습니다.\n",
      " 볼륨 일련 번호: 2819-FF50\n",
      "\n",
      " C:\\workspace211123 디렉터리\n",
      "\n",
      "2021-11-23  오전 11:43    <DIR>          .\n",
      "2021-11-23  오전 11:43    <DIR>          ..\n",
      "2021-11-23  오전 09:31    <DIR>          .ipynb_checkpoints\n",
      "2021-11-23  오전 09:29    <DIR>          data\n",
      "2021-11-23  오전 11:43            18,659 day101_np.ipynb\n",
      "2021-11-23  오전 09:27    <DIR>          step1_Numpy\n",
      "2021-11-20  오전 11:12    <DIR>          step2_Pandas\n",
      "2021-11-20  오전 11:13    <DIR>          step3_Visual\n",
      "2021-11-20  오후 10:13    <DIR>          step4_ML\n",
      "2021-11-20  오후 01:26    <DIR>          산출물샘플\n",
      "2021-11-23  오전 10:16    <DIR>          참조\n",
      "               1개 파일              18,659 바이트\n",
      "              10개 디렉터리  73,054,425,088 바이트 남음\n"
     ]
    }
   ],
   "source": [
    "ls"
   ]
  },
  {
   "cell_type": "code",
   "execution_count": 3,
   "id": "1cebc230",
   "metadata": {},
   "outputs": [
    {
     "name": "stdout",
     "output_type": "stream",
     "text": [
      " C 드라이브의 볼륨에는 이름이 없습니다.\n",
      " 볼륨 일련 번호: 2819-FF50\n",
      "\n",
      " C:\\workspace211123\\data 디렉터리\n",
      "\n",
      "2021-11-23  오전 09:29    <DIR>          .\n",
      "2021-11-23  오전 09:29    <DIR>          ..\n",
      "2021-11-23  오전 12:12             3,088 births.txt\n",
      "2021-11-23  오전 12:25            35,455 Jeju2021.csv\n",
      "2016-07-17  오후 09:46           171,308 movies.dat\n",
      "2018-04-24  오전 10:42        24,594,131 ratings.dat\n",
      "2019-03-20  오전 10:54         1,185,149 seoul.csv\n",
      "2021-01-31  오후 08:49            93,805 seoul2021.csv\n",
      "               6개 파일          26,082,936 바이트\n",
      "               2개 디렉터리  73,054,425,088 바이트 남음\n"
     ]
    }
   ],
   "source": [
    "ls data"
   ]
  },
  {
   "cell_type": "code",
   "execution_count": 4,
   "id": "7f5d3b13",
   "metadata": {},
   "outputs": [
    {
     "data": {
      "text/plain": [
       "'C:\\\\workspace211123'"
      ]
     },
     "execution_count": 4,
     "metadata": {},
     "output_type": "execute_result"
    }
   ],
   "source": [
    "import os \n",
    "\n",
    "# 현재 작업폴더 위치 확인 \n",
    "os.getcwd()"
   ]
  },
  {
   "cell_type": "code",
   "execution_count": 38,
   "id": "5f51b82c",
   "metadata": {},
   "outputs": [
    {
     "data": {
      "text/html": [
       "<style>.container { font-weight: bold !important; }</style>"
      ],
      "text/plain": [
       "<IPython.core.display.HTML object>"
      ]
     },
     "metadata": {},
     "output_type": "display_data"
    },
    {
     "data": {
      "text/html": [
       "<style>.container { width: 100% !important; }</style>"
      ],
      "text/plain": [
       "<IPython.core.display.HTML object>"
      ]
     },
     "metadata": {},
     "output_type": "display_data"
    }
   ],
   "source": [
    "# 쥬피터노트북 셀 스타일 조절 \n",
    "from IPython.core.display import display, HTML\n",
    "display(HTML(\"<style>.container { font-weight: bold !important; }</style>\"))\n",
    "display(HTML(\"<style>.container { width: 100% !important; }</style>\"))\n",
    "\n",
    "# 경고 메세지 숨기기 \n",
    "import warnings\n",
    "warnings.filterwarnings(action='ignore')"
   ]
  },
  {
   "cell_type": "markdown",
   "id": "ab05da03",
   "metadata": {},
   "source": [
    "# Numpy 개요\n",
    "\n",
    "- Numeric + Python = Numpy\n",
    "- 수학 및 과학 연산을 위한 파이썬 패키지\n",
    "- 배열이나 행렬 계산에 용이한 메서드를 제공\n",
    "- 한글로 넘파이로 주로 통칭, 넘피/늄파이라고 부르기도 함\n",
    "- 관련 사이트 : http://www.numpy.or"
   ]
  },
  {
   "cell_type": "markdown",
   "id": "3e651871",
   "metadata": {},
   "source": [
    "# Numpy 임포트 및 정보 확인 "
   ]
  },
  {
   "cell_type": "code",
   "execution_count": 39,
   "id": "c1f61247",
   "metadata": {},
   "outputs": [],
   "source": [
    "import numpy as np"
   ]
  },
  {
   "cell_type": "code",
   "execution_count": 7,
   "id": "26aff90e",
   "metadata": {},
   "outputs": [
    {
     "data": {
      "text/plain": [
       "'1.20.1'"
      ]
     },
     "execution_count": 7,
     "metadata": {},
     "output_type": "execute_result"
    }
   ],
   "source": [
    "#  버전 확인 \n",
    "np.__version__"
   ]
  },
  {
   "cell_type": "code",
   "execution_count": 8,
   "id": "10c396e7",
   "metadata": {},
   "outputs": [],
   "source": [
    "# 메소드와 속성 확인 \n",
    "# print(dir(np))"
   ]
  },
  {
   "cell_type": "code",
   "execution_count": 9,
   "id": "393509de",
   "metadata": {},
   "outputs": [],
   "source": [
    "# 넘파이 각 속성과 메서드 레퍼런스 확인은?\n",
    "# 넘파이명령어?\n",
    "np.mean?"
   ]
  },
  {
   "cell_type": "markdown",
   "id": "a9695648",
   "metadata": {},
   "source": [
    "# 넘파이 배열 생성 \n",
    "\n",
    "- 리스트 => 넘파이 배열 \n",
    "```\n",
    "np.array(리스트)\n",
    "```\n",
    "- 관련 속성 \n",
    "```\n",
    "ndim : 차원 반환 => int\n",
    "size : 전체 길이 반환  => int\n",
    "shape : 구조 반환 => tuple \n",
    "```"
   ]
  },
  {
   "cell_type": "code",
   "execution_count": 10,
   "id": "e4ba2cbe",
   "metadata": {},
   "outputs": [
    {
     "name": "stdout",
     "output_type": "stream",
     "text": [
      "[10, 56, 77, 23, 44] <class 'list'> 5\n"
     ]
    }
   ],
   "source": [
    "# 1차원 리스트 => 1차원 넘파이 배열 \n",
    "myList = [10, 56, 77, 23, 44]\n",
    "print(myList, type(myList), len(myList) )"
   ]
  },
  {
   "cell_type": "code",
   "execution_count": 11,
   "id": "bef0e42e",
   "metadata": {},
   "outputs": [
    {
     "name": "stdout",
     "output_type": "stream",
     "text": [
      "[10 56 77 23 44] <class 'numpy.ndarray'> 5\n",
      "차원은? 1\n",
      "구조는? (5,), <class 'tuple'>\n",
      "길이는? 5\n"
     ]
    }
   ],
   "source": [
    "myArr = np.array(myList)\n",
    "print(myArr, type(myArr), len(myArr) )\n",
    "print(f'차원은? {myArr.ndim}')\n",
    "print(f'구조는? {myArr.shape}, {type(myArr.shape)}')\n",
    "print(f'길이는? {myArr.size}')"
   ]
  },
  {
   "cell_type": "code",
   "execution_count": 12,
   "id": "4f52d559",
   "metadata": {},
   "outputs": [
    {
     "data": {
      "text/plain": [
       "array([10, 56, 77, 23, 44])"
      ]
     },
     "execution_count": 12,
     "metadata": {},
     "output_type": "execute_result"
    }
   ],
   "source": [
    "# print() 문을 사용하지 않고 넘파이 배열 출력\n",
    "myArr"
   ]
  },
  {
   "cell_type": "code",
   "execution_count": 13,
   "id": "2027eb2f",
   "metadata": {},
   "outputs": [
    {
     "data": {
      "text/plain": [
       "[[1, 2, 3], [10, 20, 30], [100, 200, 300]]"
      ]
     },
     "execution_count": 13,
     "metadata": {},
     "output_type": "execute_result"
    }
   ],
   "source": [
    "# 2차원 리스트 => 넘파이 배열 \n",
    "myList2 = [[1, 2, 3], [10, 20, 30], [100, 200, 300]]\n",
    "myList2"
   ]
  },
  {
   "cell_type": "code",
   "execution_count": 14,
   "id": "8ec114cd",
   "metadata": {},
   "outputs": [
    {
     "name": "stdout",
     "output_type": "stream",
     "text": [
      "[[  1   2   3]\n",
      " [ 10  20  30]\n",
      " [100 200 300]] <class 'numpy.ndarray'> 3\n",
      "차원은? 2\n",
      "구조는? (3, 3), <class 'tuple'>\n",
      "길이는? 9\n",
      "넘파이 배열은 3 행 3 열\n"
     ]
    }
   ],
   "source": [
    "myArr2 = np.array(myList2)\n",
    "# len() 결과값이 2차원인 경우에는 행수로 출력 \n",
    "print(myArr2, type(myArr2), len(myArr2) )\n",
    "print(f'차원은? {myArr2.ndim}')\n",
    "print(f'구조는? {myArr2.shape}, {type(myArr2.shape)}')\n",
    "print(f'길이는? {myArr2.size}')\n",
    "print(f'넘파이 배열은 {myArr2.shape[0]} 행 {myArr2.shape[1]} 열')"
   ]
  },
  {
   "cell_type": "code",
   "execution_count": 15,
   "id": "4970fcac",
   "metadata": {},
   "outputs": [
    {
     "data": {
      "text/plain": [
       "array([[  1,   2,   3],\n",
       "       [ 10,  20,  30],\n",
       "       [100, 200, 300]])"
      ]
     },
     "execution_count": 15,
     "metadata": {},
     "output_type": "execute_result"
    }
   ],
   "source": [
    "myArr2"
   ]
  },
  {
   "cell_type": "code",
   "execution_count": 16,
   "id": "ec16de09",
   "metadata": {},
   "outputs": [
    {
     "data": {
      "text/plain": [
       "([[1, 2], [10, 20, 30], [100, 200, 300, 400, 500]], 3)"
      ]
     },
     "execution_count": 16,
     "metadata": {},
     "output_type": "execute_result"
    }
   ],
   "source": [
    "# 2차원 리스트에서 각 행 수가 틀린 경우 테스트 \n",
    "# 넘파이 배열은?\n",
    "myList3 = [[1, 2], [10, 20, 30], [100, 200, 300, 400, 500]]\n",
    "myList3, len(myList3)"
   ]
  },
  {
   "cell_type": "code",
   "execution_count": 17,
   "id": "dc593522",
   "metadata": {},
   "outputs": [
    {
     "data": {
      "text/plain": [
       "array([list([1, 2]), list([10, 20, 30]), list([100, 200, 300, 400, 500])],\n",
       "      dtype=object)"
      ]
     },
     "execution_count": 17,
     "metadata": {},
     "output_type": "execute_result"
    }
   ],
   "source": [
    "# 각행의 갯수가 틀린 경우  넘파이배열로 생성하면 \n",
    "# list([값...]) 형태로 삽입된다. \n",
    "myArr3 = np.array(myList3)\n",
    "myArr3"
   ]
  },
  {
   "cell_type": "markdown",
   "id": "e1139615",
   "metadata": {},
   "source": [
    "# 넘파이 배열과 리스트와의 차이점은?\n",
    "\n",
    "- 연산이 가능 => 브로드캐스팅 \n",
    "- 배열간의 연산도 가능 \n",
    "- 리스트는 자료형 혼합 가능. 넘파이 배열은 하나의 자료형만 가능 \n",
    "- 넘파이에서 지원되는 메서드 사용 가능 : 평균, 상관계수, 분산, 표준편차, 최빈값"
   ]
  },
  {
   "cell_type": "code",
   "execution_count": 18,
   "id": "beee227b",
   "metadata": {},
   "outputs": [
    {
     "data": {
      "text/plain": [
       "[10, 40, 50, 10, 40, 50]"
      ]
     },
     "execution_count": 18,
     "metadata": {},
     "output_type": "execute_result"
    }
   ],
   "source": [
    "# 리스트의 경우 + - 리스트간의 연결 \n",
    "listA = [10, 40, 50]\n",
    "listB = [10, 40, 50]\n",
    "listA + listB"
   ]
  },
  {
   "cell_type": "code",
   "execution_count": 19,
   "id": "21da0506",
   "metadata": {},
   "outputs": [
    {
     "data": {
      "text/plain": [
       "[10, 40, 50, 10, 40, 50]"
      ]
     },
     "execution_count": 19,
     "metadata": {},
     "output_type": "execute_result"
    }
   ],
   "source": [
    "# 리스트의 경우 * - 리스트의 반복 \n",
    "# listA * listB => Type error\n",
    "listA * 2"
   ]
  },
  {
   "cell_type": "code",
   "execution_count": 20,
   "id": "fa60a18d",
   "metadata": {},
   "outputs": [
    {
     "name": "stdout",
     "output_type": "stream",
     "text": [
      "[15 44 53]\n",
      "[ 5 36 47]\n",
      "[ 50 160 150]\n",
      "[ 2.         10.         16.66666667]\n",
      "[ 2 10 16]\n",
      "[0 0 2]\n"
     ]
    }
   ],
   "source": [
    "# 넘파이 배열간의 연산 \n",
    "# 각 위치에 해당하는 요소간의 연산으로 반환 \n",
    "arrA = np.array([10, 40, 50])\n",
    "arrB = np.array([5, 4, 3])\n",
    "print(arrA + arrB)\n",
    "print(arrA - arrB)\n",
    "print(arrA * arrB)\n",
    "print(arrA / arrB)\n",
    "print(arrA // arrB)\n",
    "print(arrA % arrB)"
   ]
  },
  {
   "cell_type": "code",
   "execution_count": 21,
   "id": "6be51ea6",
   "metadata": {},
   "outputs": [
    {
     "name": "stdout",
     "output_type": "stream",
     "text": [
      "[10 40 50]\n",
      "[ 20  80 100]\n",
      "[ 3 13 16]\n"
     ]
    }
   ],
   "source": [
    "# 브로드캐스팅 \n",
    "# 넘파이배열 연산자 숫자 \n",
    "# 넘파이배열 각각에 연산이 적용된다. \n",
    "arrA\n",
    "print(arrA)\n",
    "print(arrA * 2)\n",
    "print(arrA // 3)"
   ]
  },
  {
   "cell_type": "code",
   "execution_count": 22,
   "id": "7e998238",
   "metadata": {},
   "outputs": [
    {
     "data": {
      "text/plain": [
       "(['홍길동', 100, 3.14, True, False], list)"
      ]
     },
     "execution_count": 22,
     "metadata": {},
     "output_type": "execute_result"
    }
   ],
   "source": [
    "# 리스트와 넘파이배열의 자료형 테스트 \n",
    "myList_c = ['홍길동', 100, 3.14, True, False]\n",
    "myList_c, type(myList_c)"
   ]
  },
  {
   "cell_type": "code",
   "execution_count": 23,
   "id": "2989cbc8",
   "metadata": {},
   "outputs": [
    {
     "data": {
      "text/plain": [
       "(array(['홍길동', '100', '3.14', 'True', 'False'], dtype='<U32'),\n",
       " numpy.ndarray,\n",
       " dtype('<U32'))"
      ]
     },
     "execution_count": 23,
     "metadata": {},
     "output_type": "execute_result"
    }
   ],
   "source": [
    "# 넘파이 배열의 구성 요소의 자료형 확인은?\n",
    "# 넘파이배열명.dtype\n",
    "\n",
    "# 데이타가 혼합되어 있는 경우 자동형변환이 된다. \n",
    "# 문자열 넘파이 배열로 변경 \n",
    "myArr_c = np.array(['홍길동', 100, 3.14, True, False])\n",
    "myArr_c, type(myArr_c), myArr_c.dtype"
   ]
  },
  {
   "cell_type": "code",
   "execution_count": 24,
   "id": "1a11a6ac",
   "metadata": {},
   "outputs": [
    {
     "data": {
      "text/plain": [
       "(array([100.  ,   3.14,  23.5 ,   0.  ]), numpy.ndarray, dtype('float64'))"
      ]
     },
     "execution_count": 24,
     "metadata": {},
     "output_type": "execute_result"
    }
   ],
   "source": [
    "# 정수랑 실수 혼합된 넘파이 배열 생성 \n",
    "myArr_d = np.array([100, 3.14, 23.5, 0])\n",
    "myArr_d, type(myArr_d), myArr_d.dtype"
   ]
  },
  {
   "cell_type": "code",
   "execution_count": 25,
   "id": "8ba34d7a",
   "metadata": {},
   "outputs": [
    {
     "data": {
      "text/plain": [
       "array([100.  ,   3.14,  23.5 ,   0.  ])"
      ]
     },
     "execution_count": 25,
     "metadata": {},
     "output_type": "execute_result"
    }
   ],
   "source": [
    "# 통계함수 적용하기 \n",
    "# np.통계함수명(넘파이배열명, 옵션)\n",
    "# 넘파이배열명.통계함수명(옵션)\n",
    "myArr_d"
   ]
  },
  {
   "cell_type": "code",
   "execution_count": 26,
   "id": "29a1e02b",
   "metadata": {},
   "outputs": [
    {
     "name": "stdout",
     "output_type": "stream",
     "text": [
      " 배열의 모든합은? 126.64  126.64\n",
      " 배열의 평균은? 31.66  31.66\n",
      " 배열의 최댓값은? 100.0  100.0\n",
      " 배열의 최솟값은? 0.0  0.0\n"
     ]
    }
   ],
   "source": [
    "print(f' 배열의 모든합은? {np.sum(myArr_d)}  {myArr_d.sum()}')\n",
    "print(f' 배열의 평균은? {np.mean(myArr_d)}  {myArr_d.mean()}')\n",
    "print(f' 배열의 최댓값은? {np.max(myArr_d)}  {myArr_d.max()}')\n",
    "print(f' 배열의 최솟값은? {np.min(myArr_d)}  {myArr_d.min()}')"
   ]
  },
  {
   "cell_type": "code",
   "execution_count": 28,
   "id": "12f8938e",
   "metadata": {},
   "outputs": [
    {
     "name": "stdout",
     "output_type": "stream",
     "text": [
      " 배열의 중앙값은? 13.32\n"
     ]
    }
   ],
   "source": [
    "print(f' 배열의 중앙값은? {np.median(myArr_d)}')"
   ]
  },
  {
   "cell_type": "code",
   "execution_count": 41,
   "id": "b2e9f7d6",
   "metadata": {},
   "outputs": [],
   "source": [
    "# 아래는 에러발생함 중앙값을 출력하는 함수의 경우 \n",
    "# AttributeError \n",
    "# np.median(넘파이배열) 만 됨 \n",
    "# print(f' 배열의 중앙값은? {myArr_d.median()}')"
   ]
  },
  {
   "cell_type": "code",
   "execution_count": null,
   "id": "b617015f",
   "metadata": {},
   "outputs": [],
   "source": []
  },
  {
   "cell_type": "code",
   "execution_count": null,
   "id": "79e75f17",
   "metadata": {},
   "outputs": [],
   "source": []
  },
  {
   "cell_type": "code",
   "execution_count": null,
   "id": "81657282",
   "metadata": {},
   "outputs": [],
   "source": []
  },
  {
   "cell_type": "code",
   "execution_count": null,
   "id": "6f492a58",
   "metadata": {},
   "outputs": [],
   "source": []
  },
  {
   "cell_type": "code",
   "execution_count": null,
   "id": "c3393168",
   "metadata": {},
   "outputs": [],
   "source": []
  },
  {
   "cell_type": "code",
   "execution_count": 32,
   "id": "fdc54f60",
   "metadata": {},
   "outputs": [],
   "source": [
    "# dir(np)"
   ]
  }
 ],
 "metadata": {
  "kernelspec": {
   "display_name": "Python 3",
   "language": "python",
   "name": "python3"
  },
  "language_info": {
   "codemirror_mode": {
    "name": "ipython",
    "version": 3
   },
   "file_extension": ".py",
   "mimetype": "text/x-python",
   "name": "python",
   "nbconvert_exporter": "python",
   "pygments_lexer": "ipython3",
   "version": "3.8.8"
  }
 },
 "nbformat": 4,
 "nbformat_minor": 5
}
