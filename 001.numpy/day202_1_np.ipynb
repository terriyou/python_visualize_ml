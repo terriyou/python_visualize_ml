{
 "cells": [
  {
   "cell_type": "code",
   "execution_count": 1,
   "id": "e8303d47",
   "metadata": {},
   "outputs": [
    {
     "data": {
      "text/html": [
       "<style>.container { font-weight: bold !important; }</style>"
      ],
      "text/plain": [
       "<IPython.core.display.HTML object>"
      ]
     },
     "metadata": {},
     "output_type": "display_data"
    },
    {
     "data": {
      "text/html": [
       "<style>.container { width: 100% !important; }</style>"
      ],
      "text/plain": [
       "<IPython.core.display.HTML object>"
      ]
     },
     "metadata": {},
     "output_type": "display_data"
    }
   ],
   "source": [
    "# 쥬피터노트북 셀 스타일 조절 \n",
    "from IPython.core.display import display, HTML\n",
    "display(HTML(\"<style>.container { font-weight: bold !important; }</style>\"))\n",
    "display(HTML(\"<style>.container { width: 100% !important; }</style>\"))\n",
    "\n",
    "# 경고 메세지 숨기기 \n",
    "import warnings\n",
    "warnings.filterwarnings(action='ignore')"
   ]
  },
  {
   "cell_type": "code",
   "execution_count": 2,
   "id": "dad80ebb",
   "metadata": {},
   "outputs": [],
   "source": [
    "import numpy as np"
   ]
  },
  {
   "cell_type": "code",
   "execution_count": 5,
   "id": "d8be9d38",
   "metadata": {
    "scrolled": true
   },
   "outputs": [
    {
     "name": "stdout",
     "output_type": "stream",
     "text": [
      " C 드라이브의 볼륨에는 이름이 없습니다.\n",
      " 볼륨 일련 번호: 2819-FF50\n",
      "\n",
      " C:\\workspace211123\\data 디렉터리\n",
      "\n",
      "2021-11-23  오전 09:29    <DIR>          .\n",
      "2021-11-23  오전 09:29    <DIR>          ..\n",
      "2021-11-23  오전 12:12             3,088 births.txt\n",
      "2021-11-23  오전 12:25            35,455 Jeju2021.csv\n",
      "2016-07-17  오후 09:46           171,308 movies.dat\n",
      "2018-04-24  오전 10:42        24,594,131 ratings.dat\n",
      "2019-03-20  오전 10:54         1,185,149 seoul.csv\n",
      "2021-01-31  오후 08:49            93,805 seoul2021.csv\n",
      "               6개 파일          26,082,936 바이트\n",
      "               2개 디렉터리  71,939,358,720 바이트 남음\n"
     ]
    }
   ],
   "source": [
    "ls data"
   ]
  },
  {
   "cell_type": "markdown",
   "id": "b61ec470",
   "metadata": {},
   "source": [
    "# 외부 파일 연동 \n",
    "```\n",
    "배열명 = np.loadtxt('파일경로', delimeter='구분자', dtype=데이터형)\n",
    "```"
   ]
  },
  {
   "cell_type": "code",
   "execution_count": 7,
   "id": "31b1b555",
   "metadata": {},
   "outputs": [],
   "source": [
    "np.loadtxt?"
   ]
  },
  {
   "cell_type": "code",
   "execution_count": 9,
   "id": "3fdcf90a",
   "metadata": {},
   "outputs": [],
   "source": [
    "# rating.dat 로딩 \n",
    "rating = np.loadtxt('data/ratings.dat', delimiter='::', dtype=int)"
   ]
  },
  {
   "cell_type": "code",
   "execution_count": 11,
   "id": "33ee35c7",
   "metadata": {},
   "outputs": [
    {
     "data": {
      "text/plain": [
       "((1000209, 4), 2, dtype('int32'))"
      ]
     },
     "execution_count": 11,
     "metadata": {},
     "output_type": "execute_result"
    }
   ],
   "source": [
    "rating.shape, rating.ndim, rating.dtype"
   ]
  },
  {
   "cell_type": "code",
   "execution_count": 12,
   "id": "3239d0d6",
   "metadata": {},
   "outputs": [
    {
     "data": {
      "text/plain": [
       "array([[        1,      1193,         5, 978300760],\n",
       "       [        1,       661,         3, 978302109],\n",
       "       [        1,       914,         3, 978301968]])"
      ]
     },
     "execution_count": 12,
     "metadata": {},
     "output_type": "execute_result"
    }
   ],
   "source": [
    "# 3개만 출력 \n",
    "rating[:3, :]"
   ]
  },
  {
   "cell_type": "code",
   "execution_count": 18,
   "id": "8b38b7a1",
   "metadata": {},
   "outputs": [],
   "source": [
    "# 3열이 평점 \n",
    "# 3열의 평점의 평균은?"
   ]
  },
  {
   "cell_type": "code",
   "execution_count": 19,
   "id": "5ae4ab2d",
   "metadata": {},
   "outputs": [
    {
     "data": {
      "text/plain": [
       "array([5, 3, 3, ..., 5, 4, 4])"
      ]
     },
     "execution_count": 19,
     "metadata": {},
     "output_type": "execute_result"
    }
   ],
   "source": [
    "rating[:, 2]"
   ]
  },
  {
   "cell_type": "code",
   "execution_count": 20,
   "id": "375b5b5f",
   "metadata": {},
   "outputs": [
    {
     "data": {
      "text/plain": [
       "3.581564453029317"
      ]
     },
     "execution_count": 20,
     "metadata": {},
     "output_type": "execute_result"
    }
   ],
   "source": [
    "rating[:, 2].mean()"
   ]
  },
  {
   "cell_type": "code",
   "execution_count": 23,
   "id": "5d8afbe0",
   "metadata": {},
   "outputs": [],
   "source": [
    "# 중복값 없이 배열값 표시 \n",
    "np.unique?"
   ]
  },
  {
   "cell_type": "code",
   "execution_count": 25,
   "id": "3f9e92fb",
   "metadata": {},
   "outputs": [],
   "source": [
    "# 사용자 수?"
   ]
  },
  {
   "cell_type": "code",
   "execution_count": 26,
   "id": "1058dde3",
   "metadata": {},
   "outputs": [
    {
     "data": {
      "text/plain": [
       "array([   1,    1,    1, ..., 6040, 6040, 6040])"
      ]
     },
     "execution_count": 26,
     "metadata": {},
     "output_type": "execute_result"
    }
   ],
   "source": [
    "rating[:, 0] # 1열 "
   ]
  },
  {
   "cell_type": "code",
   "execution_count": 27,
   "id": "19176d6d",
   "metadata": {},
   "outputs": [
    {
     "data": {
      "text/plain": [
       "array([   1,    2,    3, ..., 6038, 6039, 6040])"
      ]
     },
     "execution_count": 27,
     "metadata": {},
     "output_type": "execute_result"
    }
   ],
   "source": [
    "np.unique(rating[:, 0])"
   ]
  },
  {
   "cell_type": "code",
   "execution_count": 28,
   "id": "7c874259",
   "metadata": {},
   "outputs": [
    {
     "data": {
      "text/plain": [
       "6040"
      ]
     },
     "execution_count": 28,
     "metadata": {},
     "output_type": "execute_result"
    }
   ],
   "source": [
    "np.unique(rating[:, 0]).size"
   ]
  },
  {
   "cell_type": "code",
   "execution_count": 29,
   "id": "11fb41b2",
   "metadata": {},
   "outputs": [
    {
     "data": {
      "text/plain": [
       "6040"
      ]
     },
     "execution_count": 29,
     "metadata": {},
     "output_type": "execute_result"
    }
   ],
   "source": [
    "len(np.unique(rating[:, 0]))"
   ]
  },
  {
   "cell_type": "code",
   "execution_count": null,
   "id": "ca7e4415",
   "metadata": {},
   "outputs": [],
   "source": [
    "# 퀴즈 : \n",
    "# 1) userId가 2인 배열값만 출력?\n",
    "# 2) userId가 2인 사람의 평점의 평균은?"
   ]
  },
  {
   "cell_type": "code",
   "execution_count": 31,
   "id": "ef3d3ca9",
   "metadata": {},
   "outputs": [
    {
     "data": {
      "text/plain": [
       "array([False, False, False, ..., False, False, False])"
      ]
     },
     "execution_count": 31,
     "metadata": {},
     "output_type": "execute_result"
    }
   ],
   "source": [
    "rating[:,0] == 2"
   ]
  },
  {
   "cell_type": "code",
   "execution_count": 35,
   "id": "c5436525",
   "metadata": {},
   "outputs": [
    {
     "data": {
      "text/plain": [
       "array([[        2,      1357,         5, 978298709],\n",
       "       [        2,      3068,         4, 978299000],\n",
       "       [        2,      1537,         4, 978299620],\n",
       "       [        2,       647,         3, 978299351],\n",
       "       [        2,      2194,         4, 978299297]])"
      ]
     },
     "execution_count": 35,
     "metadata": {},
     "output_type": "execute_result"
    }
   ],
   "source": [
    "user2 = rating[rating[:,0] == 2]\n",
    "user2[:5, :]"
   ]
  },
  {
   "cell_type": "code",
   "execution_count": 37,
   "id": "9cacadb0",
   "metadata": {},
   "outputs": [
    {
     "data": {
      "text/plain": [
       "3.7131782945736433"
      ]
     },
     "execution_count": 37,
     "metadata": {},
     "output_type": "execute_result"
    }
   ],
   "source": [
    "user2[:, 2].mean()"
   ]
  },
  {
   "cell_type": "raw",
   "id": "7484cc65",
   "metadata": {},
   "source": [
    "파이썬 3.6 이상 부터 지원 \n",
    "f' 문자열 ...{변수:포맷팅} ....'\n",
    ">숫자 \n",
    "<숫자 "
   ]
  },
  {
   "cell_type": "code",
   "execution_count": 38,
   "id": "41e17e4b",
   "metadata": {},
   "outputs": [
    {
     "data": {
      "text/plain": [
       "'user id 가 2인 사람의 평점의 평균은? 3.71'"
      ]
     },
     "execution_count": 38,
     "metadata": {},
     "output_type": "execute_result"
    }
   ],
   "source": [
    "f'user id 가 2인 사람의 평점의 평균은? {user2[:, 2].mean():.2f}'"
   ]
  },
  {
   "cell_type": "markdown",
   "id": "48fc6cf1",
   "metadata": {},
   "source": [
    "# np.savetxt()\n",
    "\n",
    "- 파일 저장 \n",
    "```\n",
    "np.savetxt('파일경로', 배열이름, fmt='포맷형식', delimiter='구분자') \n",
    "```"
   ]
  },
  {
   "cell_type": "code",
   "execution_count": 41,
   "id": "4b7df35c",
   "metadata": {},
   "outputs": [
    {
     "data": {
      "text/plain": [
       "100"
      ]
     },
     "execution_count": 41,
     "metadata": {},
     "output_type": "execute_result"
    }
   ],
   "source": [
    "# 100개의 데이타만 output 폴더안에 csv 파일 형태로 저장하기 \n",
    "rating100 = rating[:100, :]\n",
    "len(rating100)"
   ]
  },
  {
   "cell_type": "code",
   "execution_count": 44,
   "id": "70ab7de2",
   "metadata": {},
   "outputs": [
    {
     "name": "stdout",
     "output_type": "stream",
     "text": [
      "폴더가 이미 생성되었어요 !!! \n"
     ]
    }
   ],
   "source": [
    "import os \n",
    "\n",
    "try:\n",
    "    # 현재 폴더를 기준으로 폴더 생성 \n",
    "    os.mkdir('output')\n",
    "except:\n",
    "    print('폴더가 이미 생성되었어요 !!! ')"
   ]
  },
  {
   "cell_type": "code",
   "execution_count": 48,
   "id": "32efd9d6",
   "metadata": {},
   "outputs": [],
   "source": [
    "# 파일과 폴더 목록보기 "
   ]
  },
  {
   "cell_type": "code",
   "execution_count": 49,
   "id": "1b6bc272",
   "metadata": {},
   "outputs": [],
   "source": [
    "# ls"
   ]
  },
  {
   "cell_type": "code",
   "execution_count": 50,
   "id": "bbcfc178",
   "metadata": {},
   "outputs": [],
   "source": [
    "np.savetxt?"
   ]
  },
  {
   "cell_type": "code",
   "execution_count": 56,
   "id": "af8a7d89",
   "metadata": {},
   "outputs": [],
   "source": [
    "# np.savetxt('output/rating100.csv', rating100, delimiter=',', fmt='%.2f')\n",
    "np.savetxt('output/rating100.csv', rating100, delimiter=',', fmt='%d')"
   ]
  },
  {
   "cell_type": "code",
   "execution_count": 53,
   "id": "019a4ea1",
   "metadata": {},
   "outputs": [
    {
     "name": "stdout",
     "output_type": "stream",
     "text": [
      " C 드라이브의 볼륨에는 이름이 없습니다.\n",
      " 볼륨 일련 번호: 2819-FF50\n",
      "\n",
      " C:\\workspace211123\\output 디렉터리\n",
      "\n",
      "2021-11-24  오후 02:34    <DIR>          .\n",
      "2021-11-24  오후 02:34    <DIR>          ..\n",
      "2021-11-24  오후 02:34            10,100 rating100.csv\n",
      "               1개 파일              10,100 바이트\n",
      "               2개 디렉터리  70,292,295,680 바이트 남음\n"
     ]
    }
   ],
   "source": [
    "ls output"
   ]
  },
  {
   "cell_type": "code",
   "execution_count": null,
   "id": "9df735e7",
   "metadata": {},
   "outputs": [],
   "source": []
  },
  {
   "cell_type": "code",
   "execution_count": null,
   "id": "4202f589",
   "metadata": {},
   "outputs": [],
   "source": []
  },
  {
   "cell_type": "code",
   "execution_count": null,
   "id": "fc0931a0",
   "metadata": {},
   "outputs": [],
   "source": []
  }
 ],
 "metadata": {
  "kernelspec": {
   "display_name": "Python 3",
   "language": "python",
   "name": "python3"
  },
  "language_info": {
   "codemirror_mode": {
    "name": "ipython",
    "version": 3
   },
   "file_extension": ".py",
   "mimetype": "text/x-python",
   "name": "python",
   "nbconvert_exporter": "python",
   "pygments_lexer": "ipython3",
   "version": "3.8.8"
  }
 },
 "nbformat": 4,
 "nbformat_minor": 5
}
