{
 "cells": [
  {
   "cell_type": "code",
   "execution_count": 9,
   "metadata": {},
   "outputs": [
    {
     "data": {
      "text/html": [
       "<style>.container { font-weight: bold !important; }</style>"
      ],
      "text/plain": [
       "<IPython.core.display.HTML object>"
      ]
     },
     "metadata": {},
     "output_type": "display_data"
    },
    {
     "data": {
      "text/html": [
       "<style>.container { width: 100% !important; }</style>"
      ],
      "text/plain": [
       "<IPython.core.display.HTML object>"
      ]
     },
     "metadata": {},
     "output_type": "display_data"
    }
   ],
   "source": [
    "# 쥬피터노트북 셀 스타일 조절 \n",
    "from IPython.core.display import display, HTML\n",
    "display(HTML(\"<style>.container { font-weight: bold !important; }</style>\"))\n",
    "display(HTML(\"<style>.container { width: 100% !important; }</style>\"))\n",
    "\n",
    "# 경고 메세지 숨기기 \n",
    "import warnings\n",
    "warnings.filterwarnings(action='ignore')"
   ]
  },
  {
   "cell_type": "markdown",
   "metadata": {},
   "source": [
    "# Q1 넘파이 모듈을 np 별칭으로 임포트해라 "
   ]
  },
  {
   "cell_type": "code",
   "execution_count": 10,
   "metadata": {},
   "outputs": [],
   "source": [
    "import numpy as np"
   ]
  },
  {
   "cell_type": "markdown",
   "metadata": {},
   "source": [
    "# Q2 다음과 같은 리스트를 이용하여 \n",
    "\n",
    "# 넘파이 배열을 만들고 \n",
    "\n",
    "# 전체 갯수, 차원, 데이터형, 구조를 출력하여라 \n",
    "\n",
    "```\n",
    "['강아지', '원숭이', '꽃', '45', '100']\n",
    "\n",
    "array(['강아지', '원숭이', '꽃', '45', '100'], dtype='<U3')\n",
    "차원 ? 1\n",
    "전체 갯수 ? 5\n",
    "데이터형 ? <U3\n",
    "전체 구조  ? (5,)\n",
    "\n",
    "\n",
    "```"
   ]
  },
  {
   "cell_type": "code",
   "execution_count": 4,
   "metadata": {},
   "outputs": [
    {
     "name": "stdout",
     "output_type": "stream",
     "text": [
      "['강아지' '원숭이' '꽃' '45' '100']\n",
      "차원 ?  1\n",
      "데이터형 ? <U11\n",
      "전체 구조  ?  (5,)\n"
     ]
    }
   ],
   "source": [
    "myList = ['강아지','원숭이','꽃',45,100]\n",
    "myListMatrix =  np.array(myList)\n",
    "print(myListMatrix)\n",
    "print('차원 ? ', myListMatrix.ndim)\n",
    "print('데이터형 ?', myListMatrix.dtype)\n",
    "print('전체 구조  ? ', myListMatrix.shape)"
   ]
  },
  {
   "cell_type": "code",
   "execution_count": null,
   "metadata": {},
   "outputs": [],
   "source": []
  },
  {
   "cell_type": "code",
   "execution_count": null,
   "metadata": {},
   "outputs": [],
   "source": []
  },
  {
   "cell_type": "code",
   "execution_count": null,
   "metadata": {},
   "outputs": [],
   "source": []
  },
  {
   "cell_type": "markdown",
   "metadata": {},
   "source": [
    "# Q3 np.ones()를 이용하여 \n",
    "\n",
    "# 2행 3열의 넘파이 배열을 생성하여라\n",
    "\n",
    "```\n",
    "\n",
    "array([[1., 1., 1.],\n",
    "       [1., 1., 1.]])\n",
    "\n",
    "\n",
    "```"
   ]
  },
  {
   "cell_type": "code",
   "execution_count": 5,
   "metadata": {},
   "outputs": [
    {
     "data": {
      "text/plain": [
       "array([[1., 1., 1.],\n",
       "       [1., 1., 1.]])"
      ]
     },
     "execution_count": 5,
     "metadata": {},
     "output_type": "execute_result"
    }
   ],
   "source": [
    "np.ones([2,3])"
   ]
  },
  {
   "cell_type": "code",
   "execution_count": 10,
   "metadata": {},
   "outputs": [
    {
     "data": {
      "text/plain": [
       "array([[1., 1., 1.],\n",
       "       [1., 1., 1.]])"
      ]
     },
     "execution_count": 10,
     "metadata": {},
     "output_type": "execute_result"
    }
   ],
   "source": [
    "np.ones((2,3))"
   ]
  },
  {
   "cell_type": "code",
   "execution_count": 8,
   "metadata": {},
   "outputs": [
    {
     "data": {
      "text/plain": [
       "array([[1, 1, 1],\n",
       "       [1, 1, 1]])"
      ]
     },
     "execution_count": 8,
     "metadata": {},
     "output_type": "execute_result"
    }
   ],
   "source": [
    "np.ones(6).reshape(2,3).astype(int)"
   ]
  },
  {
   "cell_type": "code",
   "execution_count": null,
   "metadata": {},
   "outputs": [],
   "source": []
  },
  {
   "cell_type": "markdown",
   "metadata": {},
   "source": [
    "# Q4. np.arange(), np.reshape()를 이용하여\n",
    "# 다음과 같은 넘파이 배열을 생성하여라\n",
    "\n",
    "```\n",
    "array([[51, 52, 53, 54, 55],\n",
    "       [56, 57, 58, 59, 60],\n",
    "       [61, 62, 63, 64, 65],\n",
    "       [66, 67, 68, 69, 70],\n",
    "       [71, 72, 73, 74, 75],\n",
    "       [76, 77, 78, 79, 80]])\n",
    "       ```"
   ]
  },
  {
   "cell_type": "code",
   "execution_count": 11,
   "metadata": {},
   "outputs": [
    {
     "data": {
      "text/plain": [
       "array([[51, 52, 53, 54, 55],\n",
       "       [56, 57, 58, 59, 60],\n",
       "       [61, 62, 63, 64, 65],\n",
       "       [66, 67, 68, 69, 70],\n",
       "       [71, 72, 73, 74, 75],\n",
       "       [76, 77, 78, 79, 80]])"
      ]
     },
     "execution_count": 11,
     "metadata": {},
     "output_type": "execute_result"
    }
   ],
   "source": [
    "np.arange(51,81).reshape(6,5)"
   ]
  },
  {
   "cell_type": "code",
   "execution_count": 13,
   "metadata": {},
   "outputs": [
    {
     "data": {
      "text/plain": [
       "array([[51, 52, 53, 54, 55],\n",
       "       [56, 57, 58, 59, 60],\n",
       "       [61, 62, 63, 64, 65],\n",
       "       [66, 67, 68, 69, 70],\n",
       "       [71, 72, 73, 74, 75],\n",
       "       [76, 77, 78, 79, 80]])"
      ]
     },
     "execution_count": 13,
     "metadata": {},
     "output_type": "execute_result"
    }
   ],
   "source": [
    "arr = np.arange(51,81).reshape(-1,5)\n",
    "arr"
   ]
  },
  {
   "cell_type": "code",
   "execution_count": null,
   "metadata": {},
   "outputs": [],
   "source": []
  },
  {
   "cell_type": "markdown",
   "metadata": {},
   "source": [
    "# Q5. Q4의 넘파이 배열의 자료형을 \n",
    "\n",
    "# float로 변경하고 데이터형을 출력하여라 \n",
    "\n",
    "```\n",
    "\n",
    "array([[51., 52., 53., 54., 55.],\n",
    "       [56., 57., 58., 59., 60.],\n",
    "       [61., 62., 63., 64., 65.],\n",
    "       [66., 67., 68., 69., 70.],\n",
    "       [71., 72., 73., 74., 75.],\n",
    "       [76., 77., 78., 79., 80.]])\n",
    "       \n",
    "-------------------------------------  \n",
    "  \n",
    "dtype('float64')\n",
    "       \n",
    "       ```"
   ]
  },
  {
   "cell_type": "code",
   "execution_count": 14,
   "metadata": {},
   "outputs": [
    {
     "data": {
      "text/plain": [
       "dtype('int32')"
      ]
     },
     "execution_count": 14,
     "metadata": {},
     "output_type": "execute_result"
    }
   ],
   "source": [
    "arr = np.arange(51,81).reshape(-1,5)\n",
    "arr.dtype"
   ]
  },
  {
   "cell_type": "code",
   "execution_count": 17,
   "metadata": {},
   "outputs": [],
   "source": [
    "arr = arr.astype(float)"
   ]
  },
  {
   "cell_type": "code",
   "execution_count": 19,
   "metadata": {},
   "outputs": [
    {
     "data": {
      "text/plain": [
       "dtype('float64')"
      ]
     },
     "execution_count": 19,
     "metadata": {},
     "output_type": "execute_result"
    }
   ],
   "source": [
    "arr.dtype"
   ]
  },
  {
   "cell_type": "code",
   "execution_count": null,
   "metadata": {},
   "outputs": [],
   "source": []
  },
  {
   "cell_type": "markdown",
   "metadata": {},
   "source": [
    "# Q6. 다음과 같이 넘파이 배열을 생성한 후 \n",
    "# 1차원 배열로 변경하고 슬라이싱하여라 \n",
    "\n",
    "```\n",
    "array([[ 1,  4,  5,  6],\n",
    "       [56, 23, 45, 67],\n",
    "       [ 8,  4,  6, 10]])\n",
    "       \n",
    "array([ 1,  4,  5,  6, 56, 23, 45, 67,  8,  4,  6, 10])\n",
    "\n",
    "\n",
    "array([23, 45, 67,  8,  4,  6])\n",
    "```       "
   ]
  },
  {
   "cell_type": "code",
   "execution_count": 20,
   "metadata": {},
   "outputs": [
    {
     "data": {
      "text/plain": [
       "array([[ 1,  4,  5,  6],\n",
       "       [56, 23, 45, 67],\n",
       "       [ 8,  4,  6, 10]])"
      ]
     },
     "execution_count": 20,
     "metadata": {},
     "output_type": "execute_result"
    }
   ],
   "source": [
    "arr2d = np.array([[1,4,5,6],[56,23,45,67],[8,4,6,10]])\n",
    "arr2d"
   ]
  },
  {
   "cell_type": "code",
   "execution_count": 28,
   "metadata": {},
   "outputs": [
    {
     "data": {
      "text/plain": [
       "array([ 1,  4,  5,  6, 56, 23, 45, 67,  8,  4,  6, 10])"
      ]
     },
     "execution_count": 28,
     "metadata": {},
     "output_type": "execute_result"
    }
   ],
   "source": [
    "arr2d= arr2d.flatten()\n",
    "arr2d"
   ]
  },
  {
   "cell_type": "code",
   "execution_count": 27,
   "metadata": {},
   "outputs": [
    {
     "data": {
      "text/plain": [
       "(array([23, 45, 67,  8,  4,  6]), array([23, 45, 67,  8,  4,  6]))"
      ]
     },
     "execution_count": 27,
     "metadata": {},
     "output_type": "execute_result"
    }
   ],
   "source": [
    "arr2d[5:-1], arr2d[5:11]"
   ]
  },
  {
   "cell_type": "markdown",
   "metadata": {},
   "source": [
    "# Q7. 다음과 같은 넘파이 배열을 생성한 후 \n",
    "# 아이템을 교체하여라 \n",
    "\n",
    "```\n",
    "array([ 1,  2,  3,  4,  5,  6,  7,  8,  9, 10])\n",
    "\n",
    "array([10,  2,  3,  4,  5,  6,  7,  0,  0,  0])\n",
    "\n",
    "```"
   ]
  },
  {
   "cell_type": "code",
   "execution_count": 29,
   "metadata": {},
   "outputs": [
    {
     "data": {
      "text/plain": [
       "array([ 1,  2,  3,  4,  5,  6,  7,  8,  9, 10])"
      ]
     },
     "execution_count": 29,
     "metadata": {},
     "output_type": "execute_result"
    }
   ],
   "source": [
    "matrix = np.arange(1,11)\n",
    "matrix"
   ]
  },
  {
   "cell_type": "code",
   "execution_count": 30,
   "metadata": {},
   "outputs": [
    {
     "data": {
      "text/plain": [
       "array([10,  2,  3,  4,  5,  6,  7,  8,  9, 10])"
      ]
     },
     "execution_count": 30,
     "metadata": {},
     "output_type": "execute_result"
    }
   ],
   "source": [
    "matrix[0] = 10\n",
    "matrix"
   ]
  },
  {
   "cell_type": "code",
   "execution_count": 31,
   "metadata": {},
   "outputs": [
    {
     "data": {
      "text/plain": [
       "array([10,  2,  3,  4,  5,  6,  7,  0,  0,  0])"
      ]
     },
     "execution_count": 31,
     "metadata": {},
     "output_type": "execute_result"
    }
   ],
   "source": [
    "matrix[7:] = 0\n",
    "matrix"
   ]
  },
  {
   "cell_type": "code",
   "execution_count": null,
   "metadata": {},
   "outputs": [],
   "source": []
  },
  {
   "cell_type": "markdown",
   "metadata": {},
   "source": [
    "# Q8. 2자리의 숫자로 구성된 넘파이 배열(5행5열)을 만들어라.\n",
    "\n",
    "# 숫자는 난수를 이용한다. \n",
    "\n",
    "```\n",
    "[[63 85 71 67 15]\n",
    " [31 81 69 17 97]\n",
    " [25 41 33 23 39]\n",
    " [39 43 59 33 43]\n",
    " [23 51 65 91 23]]\n",
    "\n",
    "```"
   ]
  },
  {
   "cell_type": "code",
   "execution_count": 32,
   "metadata": {},
   "outputs": [
    {
     "data": {
      "text/plain": [
       "array([[71, 51, 87, 69, 54],\n",
       "       [11, 90, 77, 75, 74],\n",
       "       [39, 73, 46, 87, 45],\n",
       "       [28, 93, 75, 83, 81],\n",
       "       [77, 34, 61, 71, 97]])"
      ]
     },
     "execution_count": 32,
     "metadata": {},
     "output_type": "execute_result"
    }
   ],
   "source": [
    "np.random.randint(10,99,25).reshape(5,5)"
   ]
  },
  {
   "cell_type": "code",
   "execution_count": 33,
   "metadata": {},
   "outputs": [
    {
     "data": {
      "text/plain": [
       "array([[90, 28, 31, 63, 95],\n",
       "       [90, 37, 44, 90, 91],\n",
       "       [38, 12, 86, 69, 75],\n",
       "       [72, 32, 76, 11, 17],\n",
       "       [55, 85, 51, 15, 57]])"
      ]
     },
     "execution_count": 33,
     "metadata": {},
     "output_type": "execute_result"
    }
   ],
   "source": [
    "np.random.randint(10,99,25).reshape(-1,5)"
   ]
  },
  {
   "cell_type": "code",
   "execution_count": 34,
   "metadata": {},
   "outputs": [
    {
     "data": {
      "text/plain": [
       "array([[76, 10, 23, 82, 88],\n",
       "       [37, 15, 67, 79, 31],\n",
       "       [26, 84, 98, 29, 68],\n",
       "       [40, 29, 74, 52, 97],\n",
       "       [10, 85, 21, 91, 79]])"
      ]
     },
     "execution_count": 34,
     "metadata": {},
     "output_type": "execute_result"
    }
   ],
   "source": [
    "np.random.randint(10,99,(5,5))"
   ]
  },
  {
   "cell_type": "code",
   "execution_count": null,
   "metadata": {},
   "outputs": [],
   "source": []
  },
  {
   "cell_type": "markdown",
   "metadata": {},
   "source": [
    "# Q9. 1~100 사이의 정수중 7개의 숫자를 무작위로 추출한 후 가장 큰값과 가장 작은 값을 출력하여라. \n",
    "\n",
    "```\n",
    "[91, 65, 14, 66, 65, 98, 34]\n",
    "\n",
    "max = 98\n",
    "min = 14\n",
    "```"
   ]
  },
  {
   "cell_type": "code",
   "execution_count": 35,
   "metadata": {},
   "outputs": [
    {
     "data": {
      "text/plain": [
       "array([40, 79, 15, 19, 93,  7, 86])"
      ]
     },
     "execution_count": 35,
     "metadata": {},
     "output_type": "execute_result"
    }
   ],
   "source": [
    "arr = np.random.randint(1,100,7)\n",
    "arr"
   ]
  },
  {
   "cell_type": "code",
   "execution_count": 36,
   "metadata": {},
   "outputs": [
    {
     "data": {
      "text/plain": [
       "(93, 7)"
      ]
     },
     "execution_count": 36,
     "metadata": {},
     "output_type": "execute_result"
    }
   ],
   "source": [
    "np.max(arr), np.min(arr)"
   ]
  },
  {
   "cell_type": "code",
   "execution_count": 37,
   "metadata": {},
   "outputs": [
    {
     "data": {
      "text/plain": [
       "(93, 7)"
      ]
     },
     "execution_count": 37,
     "metadata": {},
     "output_type": "execute_result"
    }
   ],
   "source": [
    "arr.max(), arr.min()"
   ]
  },
  {
   "cell_type": "markdown",
   "metadata": {},
   "source": [
    "# Q10. 다음과 같은 3개의 넘파이 배열을 생성한 후 다음과 같이 합쳐라 \n",
    "\n",
    "\n",
    "```\n",
    "[[1, 2, 3],\n",
    " [4, 5, 6],\n",
    " [7, 8, 9]]\n",
    " \n",
    "\n",
    "[[11, 12, 13],\n",
    " [14, 15, 16],\n",
    " [17, 18, 19]]\n",
    "\n",
    "\n",
    "[[21, 22, 23],\n",
    " [24, 25, 26],\n",
    " [27, 28, 29]]\n",
    " \n",
    " ----------\n",
    "  Result1 \n",
    "  \n",
    " [[ 1,  2,  3, 11, 12, 13, 21, 22, 23],\n",
    "  [ 4,  5,  6, 14, 15, 16, 24, 25, 26],\n",
    "  [ 7,  8,  9, 17, 18, 19, 27, 28, 29]] \n",
    "  \n",
    "  \n",
    "  ----------\n",
    "  Result2\n",
    "   \n",
    " [[ 1,  2,  3],\n",
    "  [ 4,  5,  6],\n",
    "  [ 7,  8,  9],\n",
    "  [11, 12, 13],\n",
    "  [14, 15, 16],\n",
    "  [17, 18, 19],\n",
    "  [21, 22, 23],\n",
    "  [24, 25, 26],\n",
    "  [27, 28, 29]] \n",
    "```\n"
   ]
  },
  {
   "cell_type": "code",
   "execution_count": 38,
   "metadata": {},
   "outputs": [],
   "source": [
    "arr1 = np.arange(1,10).reshape(3,3)\n",
    "arr2 = np.arange(11,20).reshape(3,3)\n",
    "arr3 = np.arange(21,30).reshape(3,3)"
   ]
  },
  {
   "cell_type": "code",
   "execution_count": 39,
   "metadata": {},
   "outputs": [
    {
     "name": "stdout",
     "output_type": "stream",
     "text": [
      "[[1 2 3]\n",
      " [4 5 6]\n",
      " [7 8 9]]\n",
      "\n",
      "[[11 12 13]\n",
      " [14 15 16]\n",
      " [17 18 19]]\n",
      "\n",
      "[[21 22 23]\n",
      " [24 25 26]\n",
      " [27 28 29]]\n"
     ]
    }
   ],
   "source": [
    "print(arr1)\n",
    "print()\n",
    "print(arr2)\n",
    "print()\n",
    "print(arr3)"
   ]
  },
  {
   "cell_type": "code",
   "execution_count": 43,
   "metadata": {},
   "outputs": [
    {
     "data": {
      "text/plain": [
       "array([[ 1,  2,  3, 11, 12, 13, 21, 22, 23],\n",
       "       [ 4,  5,  6, 14, 15, 16, 24, 25, 26],\n",
       "       [ 7,  8,  9, 17, 18, 19, 27, 28, 29]])"
      ]
     },
     "execution_count": 43,
     "metadata": {},
     "output_type": "execute_result"
    }
   ],
   "source": [
    "np.hstack((arr1, arr2, arr3))"
   ]
  },
  {
   "cell_type": "code",
   "execution_count": 46,
   "metadata": {},
   "outputs": [
    {
     "data": {
      "text/plain": [
       "array([[ 1,  2,  3, 11, 12, 13, 21, 22, 23],\n",
       "       [ 4,  5,  6, 14, 15, 16, 24, 25, 26],\n",
       "       [ 7,  8,  9, 17, 18, 19, 27, 28, 29]])"
      ]
     },
     "execution_count": 46,
     "metadata": {},
     "output_type": "execute_result"
    }
   ],
   "source": [
    "np.concatenate( (arr1, arr2, arr3), axis=1)"
   ]
  },
  {
   "cell_type": "code",
   "execution_count": 44,
   "metadata": {},
   "outputs": [
    {
     "data": {
      "text/plain": [
       "array([[ 1,  2,  3],\n",
       "       [ 4,  5,  6],\n",
       "       [ 7,  8,  9],\n",
       "       [11, 12, 13],\n",
       "       [14, 15, 16],\n",
       "       [17, 18, 19],\n",
       "       [21, 22, 23],\n",
       "       [24, 25, 26],\n",
       "       [27, 28, 29]])"
      ]
     },
     "execution_count": 44,
     "metadata": {},
     "output_type": "execute_result"
    }
   ],
   "source": [
    "np.vstack((arr1, arr2, arr3))"
   ]
  },
  {
   "cell_type": "code",
   "execution_count": 45,
   "metadata": {},
   "outputs": [
    {
     "data": {
      "text/plain": [
       "array([[ 1,  2,  3],\n",
       "       [ 4,  5,  6],\n",
       "       [ 7,  8,  9],\n",
       "       [11, 12, 13],\n",
       "       [14, 15, 16],\n",
       "       [17, 18, 19],\n",
       "       [21, 22, 23],\n",
       "       [24, 25, 26],\n",
       "       [27, 28, 29]])"
      ]
     },
     "execution_count": 45,
     "metadata": {},
     "output_type": "execute_result"
    }
   ],
   "source": [
    "np.concatenate( (arr1, arr2, arr3), axis=0)"
   ]
  },
  {
   "cell_type": "code",
   "execution_count": null,
   "metadata": {},
   "outputs": [],
   "source": []
  },
  {
   "cell_type": "code",
   "execution_count": null,
   "metadata": {},
   "outputs": [],
   "source": []
  },
  {
   "cell_type": "markdown",
   "metadata": {},
   "source": [
    "# Q11. 아래와 같이 넘파이 배열을 생성한 후 \n",
    "\n",
    "# 50보다 큰 숫자만 필터링하여라. \n",
    "\n",
    "```\n",
    "arr = np.random.choice(100, 40, replace=False)\n",
    "\n",
    "Before => \n",
    "\n",
    "[40, 63,  8,  2, 35, 84, 72, 48, 78, 86, 87, 58,  0, 49, 14, 55, 11,\n",
    "       73, 39, 26, 75, 27, 99, 46, 25, 22, 34, 83, 24, 47, 31, 57, 62, 19,\n",
    "       36, 15, 17, 10, 98, 90]\n",
    "\n",
    "\n",
    "After =>\n",
    "\n",
    "[63, 84, 72, 78, 86, 87, 58, 55, 73, 75, 99, 83, 57, 62, 98, 90]\n",
    "\n",
    "\n",
    "```"
   ]
  },
  {
   "cell_type": "code",
   "execution_count": 53,
   "metadata": {},
   "outputs": [],
   "source": [
    "np.random.choice?"
   ]
  },
  {
   "cell_type": "code",
   "execution_count": 59,
   "metadata": {},
   "outputs": [
    {
     "data": {
      "text/plain": [
       "array([38, 83, 50, 30, 73, 95, 74, 52, 18, 57, 58, 91, 13, 86,  5,  6, 72,\n",
       "       85, 28, 23, 33, 20, 69, 78, 26, 82, 98,  9, 36, 90, 87, 61, 43, 49,\n",
       "       64, 39, 75,  3, 59, 92])"
      ]
     },
     "execution_count": 59,
     "metadata": {},
     "output_type": "execute_result"
    }
   ],
   "source": [
    "# 중복값없이 뽑기 \n",
    "arr = np.random.choice(100, 40, replace=False)\n",
    "arr"
   ]
  },
  {
   "cell_type": "code",
   "execution_count": 58,
   "metadata": {},
   "outputs": [
    {
     "data": {
      "text/plain": [
       "array([1, 6, 4, 0, 6, 7, 9, 9])"
      ]
     },
     "execution_count": 58,
     "metadata": {},
     "output_type": "execute_result"
    }
   ],
   "source": [
    "# np.random.randint(0,10, 8)"
   ]
  },
  {
   "cell_type": "code",
   "execution_count": 60,
   "metadata": {},
   "outputs": [
    {
     "data": {
      "text/plain": [
       "array([False,  True,  True, False,  True,  True,  True,  True, False,\n",
       "        True,  True,  True, False,  True, False, False,  True,  True,\n",
       "       False, False, False, False,  True,  True, False,  True,  True,\n",
       "       False, False,  True,  True,  True, False, False,  True, False,\n",
       "        True, False,  True,  True])"
      ]
     },
     "execution_count": 60,
     "metadata": {},
     "output_type": "execute_result"
    }
   ],
   "source": [
    "arr >= 50"
   ]
  },
  {
   "cell_type": "code",
   "execution_count": 61,
   "metadata": {},
   "outputs": [
    {
     "data": {
      "text/plain": [
       "array([83, 50, 73, 95, 74, 52, 57, 58, 91, 86, 72, 85, 69, 78, 82, 98, 90,\n",
       "       87, 61, 64, 75, 59, 92])"
      ]
     },
     "execution_count": 61,
     "metadata": {},
     "output_type": "execute_result"
    }
   ],
   "source": [
    "arr[arr >= 50]"
   ]
  },
  {
   "cell_type": "code",
   "execution_count": 67,
   "metadata": {},
   "outputs": [
    {
     "data": {
      "text/plain": [
       "array([83, 50, 73, 95, 74, 52, 57, 58, 91, 86, 72, 85, 69, 78, 82, 98, 90,\n",
       "       87, 61, 64, 75, 59, 92])"
      ]
     },
     "execution_count": 67,
     "metadata": {},
     "output_type": "execute_result"
    }
   ],
   "source": [
    "arr[np.where(arr >= 50)]"
   ]
  },
  {
   "cell_type": "code",
   "execution_count": 65,
   "metadata": {},
   "outputs": [
    {
     "data": {
      "text/plain": [
       "array([ 0, 83, 50,  0, 73, 95, 74, 52,  0, 57, 58, 91,  0, 86,  0,  0, 72,\n",
       "       85,  0,  0,  0,  0, 69, 78,  0, 82, 98,  0,  0, 90, 87, 61,  0,  0,\n",
       "       64,  0, 75,  0, 59, 92])"
      ]
     },
     "execution_count": 65,
     "metadata": {},
     "output_type": "execute_result"
    }
   ],
   "source": [
    "np.where(arr >= 50, arr, 0)"
   ]
  },
  {
   "cell_type": "markdown",
   "metadata": {},
   "source": [
    "# Quiz 12\n",
    "\n",
    "```\n",
    "\n",
    "kor = np.array( [60,55,70,30,20,90])\n",
    "\n",
    "\n",
    "1. 국어점수가 가장큰값을 구하여라\n",
    "2. 국어점수가 80점이상인 값을 구하여라\n",
    "3. 국어 점수가 50점이상 80점 이하인 값을 구하여라\n",
    "4. 국어점수의 평균을 구하여라\n",
    "5. 국어점수의 총합을 구하여라.\n",
    "6. 국어점수가 40점이하인 데이터를 삭제하여라\n",
    "7. 국어점수가 50점이상인 데이터에 가산점 10%를 부여하여라\n",
    "8. 국어점수 top 3를 구하여라\n",
    "9. 국어점수가 70점이상이면 '합격' , 아니면 '불합격으로' 아래와 같이 출력하시요\n",
    "\n",
    "60 '불합격'\n",
    "55 '불합격'\n",
    "```"
   ]
  },
  {
   "cell_type": "code",
   "execution_count": 68,
   "metadata": {},
   "outputs": [],
   "source": [
    "kor = np.array( [60,55,70,30,20,90])"
   ]
  },
  {
   "cell_type": "code",
   "execution_count": 69,
   "metadata": {},
   "outputs": [
    {
     "data": {
      "text/plain": [
       "90"
      ]
     },
     "execution_count": 69,
     "metadata": {},
     "output_type": "execute_result"
    }
   ],
   "source": [
    "# 1)\n",
    "kor.max()"
   ]
  },
  {
   "cell_type": "code",
   "execution_count": 71,
   "metadata": {},
   "outputs": [
    {
     "data": {
      "text/plain": [
       "array([90])"
      ]
     },
     "execution_count": 71,
     "metadata": {},
     "output_type": "execute_result"
    }
   ],
   "source": [
    "# 2)\n",
    "kor[kor>=80]"
   ]
  },
  {
   "cell_type": "code",
   "execution_count": 73,
   "metadata": {},
   "outputs": [
    {
     "data": {
      "text/plain": [
       "array([60, 55, 70])"
      ]
     },
     "execution_count": 73,
     "metadata": {},
     "output_type": "execute_result"
    }
   ],
   "source": [
    "# 3) 50점이상 80점 이하\n",
    "kor[(kor>=50) & (kor<=80)]"
   ]
  },
  {
   "cell_type": "code",
   "execution_count": 76,
   "metadata": {},
   "outputs": [
    {
     "data": {
      "text/plain": [
       "54.167"
      ]
     },
     "execution_count": 76,
     "metadata": {},
     "output_type": "execute_result"
    }
   ],
   "source": [
    "# 4) 평균 \n",
    "round(kor.mean(),3)"
   ]
  },
  {
   "cell_type": "code",
   "execution_count": 77,
   "metadata": {},
   "outputs": [
    {
     "data": {
      "text/plain": [
       "325"
      ]
     },
     "execution_count": 77,
     "metadata": {},
     "output_type": "execute_result"
    }
   ],
   "source": [
    "# 5) 총합 \n",
    "kor.sum()"
   ]
  },
  {
   "cell_type": "code",
   "execution_count": null,
   "metadata": {},
   "outputs": [],
   "source": [
    "# 6. 국어점수가 40점이하인 데이터를 삭제하시요"
   ]
  },
  {
   "cell_type": "code",
   "execution_count": 78,
   "metadata": {},
   "outputs": [
    {
     "data": {
      "text/plain": [
       "(array([3, 4], dtype=int64),)"
      ]
     },
     "execution_count": 78,
     "metadata": {},
     "output_type": "execute_result"
    }
   ],
   "source": [
    "# 40점이하인 데이터의 인덱스 반환 \n",
    "np.where( kor<=40)"
   ]
  },
  {
   "cell_type": "code",
   "execution_count": 79,
   "metadata": {},
   "outputs": [
    {
     "data": {
      "text/plain": [
       "array([60, 55, 70, 90])"
      ]
     },
     "execution_count": 79,
     "metadata": {},
     "output_type": "execute_result"
    }
   ],
   "source": [
    "np.delete(kor, np.where( kor<=40) )"
   ]
  },
  {
   "cell_type": "code",
   "execution_count": 82,
   "metadata": {},
   "outputs": [
    {
     "data": {
      "text/plain": [
       "array([60, 55, 70, 90])"
      ]
     },
     "execution_count": 82,
     "metadata": {},
     "output_type": "execute_result"
    }
   ],
   "source": [
    "kor2 = np.delete(kor, np.where( kor<=40) )\n",
    "kor2"
   ]
  },
  {
   "cell_type": "code",
   "execution_count": 85,
   "metadata": {},
   "outputs": [
    {
     "data": {
      "text/plain": [
       "array([60, 55, 70, 30, 20, 90])"
      ]
     },
     "execution_count": 85,
     "metadata": {},
     "output_type": "execute_result"
    }
   ],
   "source": [
    "# 7. 국어점수가 50점이상인 데이터에 가산점 10%를  부여하시요\n",
    "kor"
   ]
  },
  {
   "cell_type": "code",
   "execution_count": 86,
   "metadata": {},
   "outputs": [
    {
     "data": {
      "text/plain": [
       "array([60, 55, 70, 90])"
      ]
     },
     "execution_count": 86,
     "metadata": {},
     "output_type": "execute_result"
    }
   ],
   "source": [
    "kor[ kor>=50 ]"
   ]
  },
  {
   "cell_type": "code",
   "execution_count": 88,
   "metadata": {},
   "outputs": [
    {
     "data": {
      "text/plain": [
       "array([66. , 60.5, 77. , 99. ])"
      ]
     },
     "execution_count": 88,
     "metadata": {},
     "output_type": "execute_result"
    }
   ],
   "source": [
    "# 자동 float 형으로 변경\n",
    "kor[ kor>=50 ]*1.1"
   ]
  },
  {
   "cell_type": "code",
   "execution_count": 89,
   "metadata": {},
   "outputs": [
    {
     "data": {
      "text/plain": [
       "array([66. , 60.5, 77. , 30. , 20. , 99. ])"
      ]
     },
     "execution_count": 89,
     "metadata": {},
     "output_type": "execute_result"
    }
   ],
   "source": [
    "np.where(kor>=50, kor*1.1, kor)"
   ]
  },
  {
   "cell_type": "code",
   "execution_count": 90,
   "metadata": {},
   "outputs": [],
   "source": [
    "# 8. 국어점수 top 3를 구하시요"
   ]
  },
  {
   "cell_type": "code",
   "execution_count": 92,
   "metadata": {},
   "outputs": [
    {
     "data": {
      "text/plain": [
       "array([90, 70, 60, 55, 30, 20])"
      ]
     },
     "execution_count": 92,
     "metadata": {},
     "output_type": "execute_result"
    }
   ],
   "source": [
    "np.sort(kor)[::-1]"
   ]
  },
  {
   "cell_type": "code",
   "execution_count": 93,
   "metadata": {},
   "outputs": [
    {
     "data": {
      "text/plain": [
       "array([90, 70, 60])"
      ]
     },
     "execution_count": 93,
     "metadata": {},
     "output_type": "execute_result"
    }
   ],
   "source": [
    "np.sort(kor)[::-1][:3]"
   ]
  },
  {
   "cell_type": "code",
   "execution_count": null,
   "metadata": {},
   "outputs": [],
   "source": [
    "tmp_14 = kor[kor.argsort()[-3:][::-1]]\n",
    "print(tmp_14)"
   ]
  },
  {
   "cell_type": "code",
   "execution_count": 96,
   "metadata": {},
   "outputs": [
    {
     "data": {
      "text/plain": [
       "(array([4, 3, 1, 0, 2, 5], dtype=int64), array([60, 70, 90]))"
      ]
     },
     "execution_count": 96,
     "metadata": {},
     "output_type": "execute_result"
    }
   ],
   "source": [
    "kor.argsort(), kor[kor.argsort()[-3:]]"
   ]
  },
  {
   "cell_type": "code",
   "execution_count": 112,
   "metadata": {},
   "outputs": [],
   "source": [
    "kor = np.array( [60,55,70,30,20,90])"
   ]
  },
  {
   "cell_type": "code",
   "execution_count": 113,
   "metadata": {},
   "outputs": [
    {
     "data": {
      "text/plain": [
       "(array([4, 3, 1, 0, 2, 5], dtype=int64), array([90, 70, 60]))"
      ]
     },
     "execution_count": 113,
     "metadata": {},
     "output_type": "execute_result"
    }
   ],
   "source": [
    "kor.argsort(), kor[kor.argsort()[-3:][::-1]]"
   ]
  },
  {
   "cell_type": "code",
   "execution_count": 98,
   "metadata": {},
   "outputs": [
    {
     "data": {
      "text/plain": [
       "array([90, 70, 60])"
      ]
     },
     "execution_count": 98,
     "metadata": {},
     "output_type": "execute_result"
    }
   ],
   "source": [
    "np.sort(kor)[-1:-4:-1]"
   ]
  },
  {
   "cell_type": "code",
   "execution_count": 99,
   "metadata": {},
   "outputs": [],
   "source": [
    "# 9. 국어점수가 70점이상이면 '합격' , 아니면 '불합격으로'\n",
    "# 아래와 같이 출력하시요\n",
    "# 60 '불합격'\n",
    "# 55 '불합격'"
   ]
  },
  {
   "cell_type": "code",
   "execution_count": 100,
   "metadata": {},
   "outputs": [
    {
     "name": "stdout",
     "output_type": "stream",
     "text": [
      "60 불합격\n",
      "55 불합격\n",
      "70 합격\n",
      "30 불합격\n",
      "20 불합격\n",
      "90 합격\n"
     ]
    }
   ],
   "source": [
    "for n in kor:\n",
    "    if n>=70: \n",
    "        print(n, '합격')\n",
    "    else:\n",
    "        print(n, '불합격')"
   ]
  },
  {
   "cell_type": "code",
   "execution_count": 101,
   "metadata": {},
   "outputs": [
    {
     "data": {
      "text/plain": [
       "array(['불합격', '불합격', '합격', '불합격', '불합격', '합격'], dtype='<U3')"
      ]
     },
     "execution_count": 101,
     "metadata": {},
     "output_type": "execute_result"
    }
   ],
   "source": [
    "np.where(kor>=70,\"합격\",\"불합격\")"
   ]
  },
  {
   "cell_type": "code",
   "execution_count": 105,
   "metadata": {},
   "outputs": [
    {
     "data": {
      "text/plain": [
       "array(['불합격', '불합격', '합격', '불합격', '불합격', '합격'], dtype='<U3')"
      ]
     },
     "execution_count": 105,
     "metadata": {},
     "output_type": "execute_result"
    }
   ],
   "source": [
    "result = np.where(kor>=70,\"합격\",\"불합격\")\n",
    "result"
   ]
  },
  {
   "cell_type": "code",
   "execution_count": 107,
   "metadata": {},
   "outputs": [
    {
     "data": {
      "text/plain": [
       "array([60, 55, 70, 30, 20, 90])"
      ]
     },
     "execution_count": 107,
     "metadata": {},
     "output_type": "execute_result"
    }
   ],
   "source": [
    "kor"
   ]
  },
  {
   "cell_type": "code",
   "execution_count": 108,
   "metadata": {},
   "outputs": [
    {
     "name": "stdout",
     "output_type": "stream",
     "text": [
      "60 불합격\n",
      "55 불합격\n",
      "70 합격\n",
      "30 불합격\n",
      "20 불합격\n",
      "90 합격\n"
     ]
    }
   ],
   "source": [
    "for i in range(len(result)):\n",
    "    print(kor[i], result[i])"
   ]
  },
  {
   "cell_type": "markdown",
   "metadata": {},
   "source": [
    "# Quiz 13\n",
    "\n",
    "```\n",
    "1) 아래 명령을 이용하여 ratings.dat 파일의 데이타를 넘파이 배열로 생성하여라\n",
    "\n",
    "    np.loadtxt('data/ratings.dat', delimiter='::', dtype=np.int64)\n",
    "\n",
    "    데이타형태는 다음과 같다. \n",
    "    ratings.dat => 무비렌즈의 영화평점데이타 \n",
    "    (userId / movieId/rating/ timestamp)\n",
    "     예) 1::1193::5:: 978300760\n",
    "\n",
    "2) movieId 가 55인 데이타의 갯수는?\n",
    "\n",
    "3) movieId 가 55인 데이타의 평균평점은? \n",
    "\n",
    "4) timestamp는 시계열데이타이다. timestamp 데이타를 이용하여 97년도 데이타만 추출한 후 \n",
    "   총 데이타 갯수와 평균 평점을 구하여라\n",
    "   \n",
    " ```"
   ]
  },
  {
   "cell_type": "code",
   "execution_count": null,
   "metadata": {},
   "outputs": [],
   "source": [
    "# 1) \n",
    "data = np.loadtxt('data/jeju2021.csv', delimiter=',' , dtype=np.str ,\n",
    "                   usecols=(2,3,5,8))\n",
    "data[11:, :]"
   ]
  },
  {
   "cell_type": "code",
   "execution_count": null,
   "metadata": {},
   "outputs": [],
   "source": []
  },
  {
   "cell_type": "markdown",
   "metadata": {},
   "source": [
    "# Quiz 14\n",
    "\n",
    "```\n",
    "1) 'jeju2021.csv' 제주의 온도 데이타를 csv 파일로 저장한 후 \n",
    "   np.loadtxt() 명령을 이용하여 필요한 컬럼과 데이터만 로딩하여라 \n",
    "   \n",
    "   '일시', '평균기온(℃)', '최고기온(℃)', '최저기온(℃)'\n",
    "   \n",
    "    data = np.loadtxt('data/jeju2021.csv', \n",
    "                        delimiter=',' , \n",
    "                        dtype=np.str ,\n",
    "                       usecols=(2,3,5,8))\n",
    "   \n",
    "   \n",
    "\n",
    "2) 1)의 넘파이 배열의 데이타 형태를 실수 형태로 변경하여라 \n",
    "   데이타의 결측치나 이상값은 -99로 지정한다. \n",
    "\n",
    "[[20210101.0, 6.8, 18.2, -4.6],\n",
    " [20201201.0, 8.0, 16.3, -2.8],\n",
    " [20201101.0, 14.6, 26.7, 4.8],\n",
    " [20201001.0, 18.5, 25.8, 10.2],\n",
    " [20200901.0, 22.5, 32.5, 14.9],\n",
    " [20200801.0, 28.4, 36.3, 22.3],\n",
    " [20200701.0, 23.8, 34.3, 16.8],\n",
    " [20200601.0, 22.4, 30.9, 11.7],\n",
    " [20200501.0, 18.8, 29.5, 10.3],\n",
    " ...\n",
    "\n",
    "3) 아래의 명령어를 이용하여 데이타값의 소숫점 처리를 3자리로 변경하여라 \n",
    "( 지수형태의 숫자 => 소숫점 형태 )\n",
    "np.set_printoptions(precision=3)\n",
    "np.set_printoptions(formatter={'float_kind': lambda x: \"{0:0.3f}\".format(x)})\n",
    "\n",
    "4) 제주도의 최고 기온은?\n",
    "\n",
    "5) 2018년도 제주도 기온 데이타만 출력하여라. \n",
    "\n",
    "6) 최저 기온이 -5도 이하인 데이타만 출력하여라. \n",
    "\n",
    "7) 2018년도 기온 데이타에서 최고 기온이 28도 보다 높은 경우의 데이타만 출력하여라.\n",
    "   \n",
    " ```"
   ]
  },
  {
   "cell_type": "code",
   "execution_count": 154,
   "metadata": {},
   "outputs": [],
   "source": [
    "np.set_printoptions?"
   ]
  },
  {
   "cell_type": "code",
   "execution_count": 16,
   "metadata": {},
   "outputs": [
    {
     "data": {
      "text/plain": [
       "array([['10', '제주', '2021-01-01', ..., '', '', ''],\n",
       "       ['10', '제주', '2020-12-01', ..., '', '', ''],\n",
       "       ['10', '제주', '2020-11-01', ..., '', '', ''],\n",
       "       ...,\n",
       "       ['\\t', '', '', ..., '', '', ''],\n",
       "       ['\\t', '', '', ..., '', '', ''],\n",
       "       ['\\t', '', '', ..., '', '', '']], dtype='<U10')"
      ]
     },
     "execution_count": 16,
     "metadata": {},
     "output_type": "execute_result"
    }
   ],
   "source": [
    "# 전체 모두 텍스트 형식으로 넘파이 배열 생성 \n",
    "data = np.loadtxt('data/jeju2021.csv', \n",
    "                        delimiter=',' , \n",
    "                        dtype=np.str)\n",
    "data"
   ]
  },
  {
   "cell_type": "code",
   "execution_count": 17,
   "metadata": {},
   "outputs": [
    {
     "data": {
      "text/plain": [
       "array(['10', '제주', '2020-12-01', '8', '11.3', '16.3', '성산', '5.1', '-2.8',\n",
       "       '성산', '', '', ''], dtype='<U10')"
      ]
     },
     "execution_count": 17,
     "metadata": {},
     "output_type": "execute_result"
    }
   ],
   "source": [
    "data[1,:]"
   ]
  },
  {
   "cell_type": "code",
   "execution_count": 18,
   "metadata": {},
   "outputs": [
    {
     "data": {
      "text/plain": [
       "(583, 13)"
      ]
     },
     "execution_count": 18,
     "metadata": {},
     "output_type": "execute_result"
    }
   ],
   "source": [
    "data.shape"
   ]
  },
  {
   "cell_type": "code",
   "execution_count": 19,
   "metadata": {},
   "outputs": [
    {
     "data": {
      "text/plain": [
       "array([['2021-01-01', '6.8', '18.2', '-4.6'],\n",
       "       ['2020-12-01', '8', '16.3', '-2.8'],\n",
       "       ['2020-11-01', '14.6', '26.7', '4.8'],\n",
       "       ...,\n",
       "       ['', '', '', ''],\n",
       "       ['', '', '', ''],\n",
       "       ['', '', '', '']], dtype='<U10')"
      ]
     },
     "execution_count": 19,
     "metadata": {},
     "output_type": "execute_result"
    }
   ],
   "source": [
    "# '일시', '평균기온(℃)', '최고기온(℃)', '최저기온(℃)'\n",
    "# 컬럼만 넘파이 배열로 생성 \n",
    "data = np.loadtxt('data/jeju2021.csv', \n",
    "                        delimiter=',' , \n",
    "                        dtype=np.str ,\n",
    "                       usecols=(2,3,5,8))\n",
    "data"
   ]
  },
  {
   "cell_type": "code",
   "execution_count": 20,
   "metadata": {},
   "outputs": [
    {
     "data": {
      "text/plain": [
       "(583, 4)"
      ]
     },
     "execution_count": 20,
     "metadata": {},
     "output_type": "execute_result"
    }
   ],
   "source": [
    "data.shape"
   ]
  },
  {
   "cell_type": "code",
   "execution_count": null,
   "metadata": {},
   "outputs": [],
   "source": [
    "# 2) 1)의 넘파이 배열의 데이타 형태를 실수 형태로 변경하여라 \n",
    "#   데이타의 결측치나 이상값은 -99로 지정한다. "
   ]
  },
  {
   "cell_type": "code",
   "execution_count": 22,
   "metadata": {},
   "outputs": [],
   "source": [
    "# ValueError 발생 \n",
    "# data.astype(float)"
   ]
  },
  {
   "cell_type": "code",
   "execution_count": 23,
   "metadata": {},
   "outputs": [
    {
     "data": {
      "text/plain": [
       "6"
      ]
     },
     "execution_count": 23,
     "metadata": {},
     "output_type": "execute_result"
    }
   ],
   "source": [
    "# 데이타가 없는 갯수는?\n",
    "len(data[data[:, 0] == ''])"
   ]
  },
  {
   "cell_type": "code",
   "execution_count": 26,
   "metadata": {},
   "outputs": [
    {
     "data": {
      "text/plain": [
       "array([['', '', '', ''],\n",
       "       ['', '', '', ''],\n",
       "       ['', '', '', ''],\n",
       "       ['', '', '', ''],\n",
       "       ['', '', '', ''],\n",
       "       ['', '', '', '']], dtype='<U10')"
      ]
     },
     "execution_count": 26,
     "metadata": {},
     "output_type": "execute_result"
    }
   ],
   "source": [
    "# 값이 없는 데이타 출력 \n",
    "# data[:, 0] == ''\n",
    "data[data[:, 0] == '']"
   ]
  },
  {
   "cell_type": "code",
   "execution_count": 27,
   "metadata": {},
   "outputs": [
    {
     "data": {
      "text/plain": [
       "array(['2021-01-01', '6.8', '18.2', '-4.6'], dtype='<U10')"
      ]
     },
     "execution_count": 27,
     "metadata": {},
     "output_type": "execute_result"
    }
   ],
   "source": [
    "data[0]"
   ]
  },
  {
   "cell_type": "code",
   "execution_count": 30,
   "metadata": {},
   "outputs": [
    {
     "data": {
      "text/plain": [
       "20210101.0"
      ]
     },
     "execution_count": 30,
     "metadata": {},
     "output_type": "execute_result"
    }
   ],
   "source": [
    "float('2021-01-01'.replace('-',''))"
   ]
  },
  {
   "cell_type": "code",
   "execution_count": 31,
   "metadata": {},
   "outputs": [],
   "source": [
    "# 빈 리스트 생성 \n",
    "result = []\n",
    "for row in data:\n",
    "    temp = []\n",
    "    try:\n",
    "        if row[0]:\n",
    "            # '2021-01-01' => 20210101\n",
    "            date = float(row[0].replace('-',''))\n",
    "        else:\n",
    "            date=-99\n",
    "        temp.append(date) # [20210101.0, 6.8, 18.2, -4.6]\n",
    "        # 각행의 2,3,4 값 처리 \n",
    "        # 숫자.숫자 형태라면 실수형태로 변경해서 삽입 \n",
    "        # 그외에는 -99 입력 \n",
    "        for item in row[1:]:            \n",
    "            try:\n",
    "                temp.append(float(item)) \n",
    "            except:\n",
    "                temp.append(-99)\n",
    "\n",
    "    except:\n",
    "        pass\n",
    "    \n",
    "    else:\n",
    "        result.append(temp)  "
   ]
  },
  {
   "cell_type": "code",
   "execution_count": 32,
   "metadata": {},
   "outputs": [
    {
     "data": {
      "text/plain": [
       "(583, 583)"
      ]
     },
     "execution_count": 32,
     "metadata": {},
     "output_type": "execute_result"
    }
   ],
   "source": [
    "len(data), len(result)"
   ]
  },
  {
   "cell_type": "code",
   "execution_count": 33,
   "metadata": {},
   "outputs": [
    {
     "data": {
      "text/plain": [
       "[[19730101.0, 7.5, 19.6, -1.6],\n",
       " [-99, -99, -99, -99],\n",
       " [-99, -99, -99, -99],\n",
       " [-99, -99, -99, -99],\n",
       " [-99, -99, -99, -99],\n",
       " [-99, -99, -99, -99],\n",
       " [-99, -99, -99, -99]]"
      ]
     },
     "execution_count": 33,
     "metadata": {},
     "output_type": "execute_result"
    }
   ],
   "source": [
    "result[-7:]"
   ]
  },
  {
   "cell_type": "code",
   "execution_count": 34,
   "metadata": {},
   "outputs": [
    {
     "data": {
      "text/plain": [
       "array([[ 2.0210101e+07,  6.8000000e+00,  1.8200000e+01, -4.6000000e+00],\n",
       "       [ 2.0201201e+07,  8.0000000e+00,  1.6300000e+01, -2.8000000e+00],\n",
       "       [ 2.0201101e+07,  1.4600000e+01,  2.6700000e+01,  4.8000000e+00],\n",
       "       ...,\n",
       "       [-9.9000000e+01, -9.9000000e+01, -9.9000000e+01, -9.9000000e+01],\n",
       "       [-9.9000000e+01, -9.9000000e+01, -9.9000000e+01, -9.9000000e+01],\n",
       "       [-9.9000000e+01, -9.9000000e+01, -9.9000000e+01, -9.9000000e+01]])"
      ]
     },
     "execution_count": 34,
     "metadata": {},
     "output_type": "execute_result"
    }
   ],
   "source": [
    "# 넘파이 배열화 \n",
    "arr_jeju = np.array(result)\n",
    "arr_jeju"
   ]
  },
  {
   "cell_type": "code",
   "execution_count": 36,
   "metadata": {},
   "outputs": [],
   "source": [
    "# Q2\n",
    "# 지수 => 소숫점화 해서 표시 \n",
    "np.set_printoptions(precision=3)\n",
    "np.set_printoptions(formatter={'float_kind': lambda x: \"{0:0.3f}\".format(x)})"
   ]
  },
  {
   "cell_type": "code",
   "execution_count": 37,
   "metadata": {},
   "outputs": [
    {
     "data": {
      "text/plain": [
       "array([[20210101.000, 6.800, 18.200, -4.600],\n",
       "       [20201201.000, 8.000, 16.300, -2.800],\n",
       "       [20201101.000, 14.600, 26.700, 4.800],\n",
       "       ...,\n",
       "       [-99.000, -99.000, -99.000, -99.000],\n",
       "       [-99.000, -99.000, -99.000, -99.000],\n",
       "       [-99.000, -99.000, -99.000, -99.000]])"
      ]
     },
     "execution_count": 37,
     "metadata": {},
     "output_type": "execute_result"
    }
   ],
   "source": [
    "arr_jeju"
   ]
  },
  {
   "cell_type": "code",
   "execution_count": null,
   "metadata": {},
   "outputs": [],
   "source": [
    "# 4) 제주도의 최고 기온은? 그리고 날짜는?\n",
    "#  '일시', '평균기온(℃)', '최고기온(℃)', '최저기온(℃)'"
   ]
  },
  {
   "cell_type": "code",
   "execution_count": 38,
   "metadata": {},
   "outputs": [],
   "source": [
    "# arr_jeju2 : 최고기온 에서 -99 가 없는 넘파이 배열 생성 \n",
    "arr_jeju2 = arr_jeju[arr_jeju[:,2]!=-99]"
   ]
  },
  {
   "cell_type": "code",
   "execution_count": 39,
   "metadata": {},
   "outputs": [
    {
     "data": {
      "text/plain": [
       "((583, 4), (577, 4))"
      ]
     },
     "execution_count": 39,
     "metadata": {},
     "output_type": "execute_result"
    }
   ],
   "source": [
    "arr_jeju.shape, arr_jeju2.shape"
   ]
  },
  {
   "cell_type": "code",
   "execution_count": 40,
   "metadata": {},
   "outputs": [
    {
     "data": {
      "text/plain": [
       "37.4"
      ]
     },
     "execution_count": 40,
     "metadata": {},
     "output_type": "execute_result"
    }
   ],
   "source": [
    "# 최고기온의 max\n",
    "arr_jeju_max = np.max(arr_jeju2[:,2])\n",
    "arr_jeju_max"
   ]
  },
  {
   "cell_type": "code",
   "execution_count": 42,
   "metadata": {},
   "outputs": [
    {
     "data": {
      "text/plain": [
       "array([[19980801.000, 27.900, 37.400, 19.100]])"
      ]
     },
     "execution_count": 42,
     "metadata": {},
     "output_type": "execute_result"
    }
   ],
   "source": [
    "# 최고기온 max의 날짜는?\n",
    "arr_jeju2[arr_jeju2[:, 2]==arr_jeju_max]"
   ]
  },
  {
   "cell_type": "code",
   "execution_count": 43,
   "metadata": {},
   "outputs": [
    {
     "data": {
      "text/plain": [
       "19980801.0"
      ]
     },
     "execution_count": 43,
     "metadata": {},
     "output_type": "execute_result"
    }
   ],
   "source": [
    "arr_jeju2[arr_jeju2[:, 2]==arr_jeju_max][0,0]"
   ]
  },
  {
   "cell_type": "code",
   "execution_count": 44,
   "metadata": {},
   "outputs": [
    {
     "data": {
      "text/plain": [
       "'19980801'"
      ]
     },
     "execution_count": 44,
     "metadata": {},
     "output_type": "execute_result"
    }
   ],
   "source": [
    "arr_jeju_max_date = str(int(arr_jeju[arr_jeju[:, 2]==arr_jeju_max][0, 0]))\n",
    "arr_jeju_max_date"
   ]
  },
  {
   "cell_type": "code",
   "execution_count": 47,
   "metadata": {},
   "outputs": [],
   "source": [
    "arr_jeju_max_date2 = (arr_jeju_max_date[:4], arr_jeju_max_date[4:6], arr_jeju_max_date[-2:])"
   ]
  },
  {
   "cell_type": "code",
   "execution_count": 48,
   "metadata": {},
   "outputs": [
    {
     "data": {
      "text/plain": [
       "'날짜 : 1998년 08월 01일  기온 : 37.4'"
      ]
     },
     "execution_count": 48,
     "metadata": {},
     "output_type": "execute_result"
    }
   ],
   "source": [
    "f'날짜 : {arr_jeju_max_date2[0]}년 {arr_jeju_max_date2[1]}월 {arr_jeju_max_date2[2]}일  기온 : {arr_jeju_max}'"
   ]
  },
  {
   "cell_type": "code",
   "execution_count": 50,
   "metadata": {},
   "outputs": [
    {
     "data": {
      "text/plain": [
       "array([[20181201.000, 9.300, 22.900, -1.000],\n",
       "       [20181101.000, 14.200, 21.800, 3.800],\n",
       "       [20181001.000, 17.900, 27.000, 7.900],\n",
       "       [20180901.000, 23.700, 31.200, 21.300],\n",
       "       [20180801.000, 28.300, 35.500, 22.300],\n",
       "       [20180701.000, 27.000, 35.000, 19.400],\n",
       "       [20180601.000, 22.200, 32.300, 13.100],\n",
       "       [20180501.000, 18.900, 31.100, 6.700],\n",
       "       [20180401.000, 15.900, 26.100, 0.500],\n",
       "       [20180301.000, 11.600, 23.200, 1.700],\n",
       "       [20180201.000, 5.900, 17.500, -3.800],\n",
       "       [20180101.000, 5.400, 16.200, -3.700]])"
      ]
     },
     "execution_count": 50,
     "metadata": {},
     "output_type": "execute_result"
    }
   ],
   "source": [
    "# 5) 2018년도 제주도 기온 데이타만 출력하여라\n",
    "\n",
    "arr_jeju2018 = arr_jeju[(arr_jeju[:, 0] >= 20180000) & (arr_jeju[:, 0] < 20190000)]\n",
    "arr_jeju2018"
   ]
  },
  {
   "cell_type": "code",
   "execution_count": 53,
   "metadata": {},
   "outputs": [
    {
     "data": {
      "text/plain": [
       "array([[20160101.000, 6.200, 17.500, -6.900],\n",
       "       [20010201.000, 7.600, 22.600, -5.100],\n",
       "       [19900101.000, 5.600, 18.600, -7.000],\n",
       "       [19810201.000, 5.800, 16.200, -5.700],\n",
       "       [19810101.000, 4.100, 15.000, -5.000],\n",
       "       [19770201.000, 4.500, 17.500, -6.400]])"
      ]
     },
     "execution_count": 53,
     "metadata": {},
     "output_type": "execute_result"
    }
   ],
   "source": [
    "# 6) 최저 기온이 -5도 이하인 데이타만 출력하여라.\n",
    "arr_jeju2[(arr_jeju2[:, 3] <= -5) & (arr_jeju2[:, 3] > -99 )]"
   ]
  },
  {
   "cell_type": "code",
   "execution_count": 54,
   "metadata": {},
   "outputs": [],
   "source": [
    "# 7) 2018년도 기온 데이타에서 최고 기온이 28도 보다 높은 경우의 데이타만 출력하여라."
   ]
  },
  {
   "cell_type": "code",
   "execution_count": 55,
   "metadata": {},
   "outputs": [
    {
     "data": {
      "text/plain": [
       "array([[20180901.000, 23.700, 31.200, 21.300],\n",
       "       [20180801.000, 28.300, 35.500, 22.300],\n",
       "       [20180701.000, 27.000, 35.000, 19.400],\n",
       "       [20180601.000, 22.200, 32.300, 13.100],\n",
       "       [20180501.000, 18.900, 31.100, 6.700]])"
      ]
     },
     "execution_count": 55,
     "metadata": {},
     "output_type": "execute_result"
    }
   ],
   "source": [
    "arr_jeju2018[arr_jeju2018[:, 2] >= 28 ]"
   ]
  },
  {
   "cell_type": "code",
   "execution_count": null,
   "metadata": {},
   "outputs": [],
   "source": []
  },
  {
   "cell_type": "markdown",
   "metadata": {},
   "source": [
    "# Quiz 15\n",
    "\n",
    "```\n",
    "birthArr = np.loadtxt('data/births.txt',delimiter=',', dtype=np.int64)\n",
    "데이타 구성은?\n",
    "년도  남아  여아 \n",
    "\n",
    "\n",
    "1. 남아 ,여아 출생 평균을 구하여라\n",
    "2. 남아출생이 가장많은 top5  를 구하여라(년도와 남아수)\n",
    "3. 남아율(%) 을 구하고 각년도별  남아수가 차지하는비율을 데이터로  출력하여라 \n",
    "\n",
    "년도    남아    여아    남아율\n",
    "=================================\n",
    "..\n",
    "4. 2000년도 이후데이터 에 대해  출생량 을 구하고 \n",
    "남아수가 1800000 이상이면 '많음'아니면 '적음' 이라고 출력하여라\n",
    "\n",
    "\n",
    "\t남아수 출생량\n",
    "2000   1814601   '많음'\n",
    "2001   1799049   '적음'\n",
    "\n",
    "\n",
    "5.1800년대,1900년대,2000년대 각 남아,여야수 평균을 구하여라\n",
    "\n",
    "```"
   ]
  },
  {
   "cell_type": "code",
   "execution_count": null,
   "metadata": {},
   "outputs": [],
   "source": []
  },
  {
   "cell_type": "code",
   "execution_count": 141,
   "metadata": {},
   "outputs": [
    {
     "data": {
      "text/plain": [
       "(132, 3)"
      ]
     },
     "execution_count": 141,
     "metadata": {},
     "output_type": "execute_result"
    }
   ],
   "source": [
    "birthArr = np.loadtxt('data/births.txt',delimiter=',',\n",
    "                     dtype=int)\n",
    "birthArr.shape"
   ]
  },
  {
   "cell_type": "code",
   "execution_count": 118,
   "metadata": {},
   "outputs": [
    {
     "name": "stdout",
     "output_type": "stream",
     "text": [
      "남아평균: 1225776.07 1225776.07\n",
      "여아평균: 1245399.21 1245399.21\n"
     ]
    }
   ],
   "source": [
    "# 1. 남아 ,여아 출생 평균을 구하시요\n",
    "result = birthArr.mean(axis=0)\n",
    "print( '남아평균:', round( result[1],2), round(birthArr[:, 1].mean(),2) )\n",
    "print( '여아평균:', round( result[2],2), round(birthArr[:, 2].mean(),2) )"
   ]
  },
  {
   "cell_type": "code",
   "execution_count": null,
   "metadata": {},
   "outputs": [],
   "source": [
    "# 2. 남아출생이 가장많은 top5 구하시요(년도와 남아수)"
   ]
  },
  {
   "cell_type": "code",
   "execution_count": 124,
   "metadata": {},
   "outputs": [
    {
     "name": "stdout",
     "output_type": "stream",
     "text": [
      "[2044160 2023044 2022093 2017316 2010884]\n",
      "[77 79 80 81 78]\n"
     ]
    },
    {
     "data": {
      "text/plain": [
       "array([[   1957, 2044160],\n",
       "       [   1959, 2023044],\n",
       "       [   1960, 2022093],\n",
       "       [   1961, 2017316],\n",
       "       [   1958, 2010884]])"
      ]
     },
     "execution_count": 124,
     "metadata": {},
     "output_type": "execute_result"
    }
   ],
   "source": [
    "top5 = np.sort(birthArr[:, 1])[::-1][:5]\n",
    "print(top5)\n",
    "idx = np.argsort(birthArr[:, 1])[::-1][:5]\n",
    "print(idx)\n",
    "birthArr[ idx ][:, :2]"
   ]
  },
  {
   "cell_type": "code",
   "execution_count": 123,
   "metadata": {},
   "outputs": [
    {
     "data": {
      "text/plain": [
       "array([[   1957, 2044160],\n",
       "       [   1959, 2023044],\n",
       "       [   1960, 2022093],\n",
       "       [   1961, 2017316],\n",
       "       [   1958, 2010884]])"
      ]
     },
     "execution_count": 123,
     "metadata": {},
     "output_type": "execute_result"
    }
   ],
   "source": [
    "# 2번째 방법\n",
    "idx = np.argsort( birthArr[:, 1]  )[-1:-6:-1]\n",
    "birthArr[ idx ][:, 0:-1]"
   ]
  },
  {
   "cell_type": "code",
   "execution_count": 125,
   "metadata": {},
   "outputs": [],
   "source": [
    "# 3. 남아율(%) 을 구하고 각년도별  남아수가 차지하는비율을 데이터로 보여주시요.\n",
    "# 년도    남아    여아    남아율\n",
    "# =================================\n",
    "# .."
   ]
  },
  {
   "cell_type": "code",
   "execution_count": 126,
   "metadata": {},
   "outputs": [
    {
     "name": "stdout",
     "output_type": "stream",
     "text": [
      "년도 남아 여아 남아율\n",
      "=================================\n",
      "1880 90993 110491 45.16\n",
      "1881 91954 100745 47.72\n",
      "1882 107850 113688 48.68\n",
      "1883 112321 104629 51.77\n",
      "1884 129022 114445 52.99\n",
      "1885 133055 107800 55.24\n",
      "1886 144535 110784 56.61\n",
      "1887 145982 101414 59.01\n",
      "1888 178627 120853 59.65\n",
      "1889 178366 110584 61.73\n",
      "1890 190377 111025 63.16\n",
      "1891 185482 101196 64.7\n",
      "1892 212346 122037 63.5\n",
      "1893 212906 112317 65.46\n",
      "1894 222922 115772 65.82\n",
      "1895 233630 117398 66.56\n",
      "1896 237920 119570 66.55\n",
      "1897 234202 112758 67.5\n",
      "1898 258770 122693 67.84\n",
      "1899 233023 106212 68.69\n",
      "1900 299828 150499 66.58\n",
      "1901 239348 106471 69.21\n",
      "1902 264077 122659 68.28\n",
      "1903 261973 119234 68.72\n",
      "1904 275371 128125 68.25\n",
      "1905 291629 132319 68.79\n",
      "1906 295303 133159 68.92\n",
      "1907 318566 146833 68.45\n",
      "1908 334313 154344 68.41\n",
      "1909 347228 163999 67.92\n",
      "1910 396501 194218 67.12\n",
      "1911 418299 225968 64.93\n",
      "1912 558103 429945 56.49\n",
      "1913 624518 512557 54.92\n",
      "1914 761548 654762 53.77\n",
      "1915 983874 848603 53.69\n",
      "1916 1044323 890099 53.99\n",
      "1917 1081280 925511 53.88\n",
      "1918 1157647 1013537 53.32\n",
      "1919 1130145 980149 53.55\n",
      "1920 1198283 1064463 52.96\n",
      "1921 1232999 1101457 52.82\n",
      "1922 1200919 1088287 52.46\n",
      "1923 1206330 1096168 52.39\n",
      "1924 1248876 1132751 52.44\n",
      "1925 1217352 1115958 52.17\n",
      "1926 1185304 1110505 51.63\n",
      "1927 1192330 1126717 51.41\n",
      "1928 1153117 1107518 51.01\n",
      "1929 1116422 1075313 50.94\n",
      "1930 1125761 1097176 50.64\n",
      "1931 1064497 1039127 50.6\n",
      "1932 1066994 1043808 50.55\n",
      "1933 1007710 991127 50.41\n",
      "1934 1044039 1032291 50.28\n",
      "1935 1048428 1040930 50.18\n",
      "1936 1040202 1036974 50.08\n",
      "1937 1063872 1066309 49.94\n",
      "1938 1103277 1108841 49.87\n",
      "1939 1096518 1106544 49.77\n",
      "1940 1143325 1158900 49.66\n",
      "1941 1207919 1227941 49.59\n",
      "1942 1350545 1380774 49.45\n",
      "1943 1395082 1426846 49.44\n",
      "1944 1327104 1362555 49.34\n",
      "1945 1307028 1345610 49.27\n",
      "1946 1571184 1623650 49.18\n",
      "1947 1772644 1829223 49.21\n",
      "1948 1697814 1754469 49.18\n",
      "1949 1710825 1773725 49.1\n",
      "1950 1713180 1790673 48.89\n",
      "1951 1800042 1881080 48.9\n",
      "1952 1854698 1944277 48.82\n",
      "1953 1880326 1969777 48.84\n",
      "1954 1941682 2037374 48.8\n",
      "1955 1954664 2057918 48.71\n",
      "1956 2007512 2113694 48.71\n",
      "1957 2044160 2155866 48.67\n",
      "1958 2010884 2120712 48.67\n",
      "1959 2023044 2133509 48.67\n",
      "1960 2022093 2132717 48.67\n",
      "1961 2017316 2122502 48.73\n",
      "1962 1966548 2068945 48.73\n",
      "1963 1927217 2031755 48.68\n",
      "1964 1894594 1993270 48.73\n",
      "1965 1765001 1861378 48.67\n",
      "1966 1691868 1783964 48.68\n",
      "1967 1650764 1744527 48.62\n",
      "1968 1640103 1738928 48.54\n",
      "1969 1686947 1789732 48.52\n",
      "1970 1748147 1859594 48.46\n",
      "1971 1663475 1769201 48.46\n",
      "1972 1521185 1622666 48.39\n",
      "1973 1458139 1559338 48.32\n",
      "1974 1467413 1573105 48.26\n",
      "1975 1457699 1562207 48.27\n",
      "1976 1465096 1569904 48.27\n",
      "1977 1532997 1643684 48.26\n",
      "1978 1531658 1642250 48.26\n",
      "1979 1605051 1721947 48.24\n",
      "1980 1659933 1783876 48.2\n",
      "1981 1667465 1790907 48.22\n",
      "1982 1692678 1813970 48.27\n",
      "1983 1670061 1791732 48.24\n",
      "1984 1682973 1803830 48.27\n",
      "1985 1720036 1847032 48.22\n",
      "1986 1714664 1840164 48.23\n",
      "1987 1737891 1865662 48.23\n",
      "1988 1779839 1912602 48.2\n",
      "1989 1843105 1999999 47.96\n",
      "1990 1897709 2052543 48.04\n",
      "1991 1874434 2019463 48.14\n",
      "1992 1843304 1996388 48.01\n",
      "1993 1808379 1960397 47.98\n",
      "1994 1785074 1931157 48.03\n",
      "1995 1757927 1902832 48.02\n",
      "1996 1752249 1893378 48.06\n",
      "1997 1739806 1884122 48.01\n",
      "1998 1765915 1910250 48.04\n",
      "1999 1772632 1918809 48.02\n",
      "2000 1814601 1962406 48.04\n",
      "2001 1799049 1941251 48.1\n",
      "2002 1795206 1939815 48.06\n",
      "2003 1825359 1973434 48.05\n",
      "2004 1834145 1982794 48.05\n",
      "2005 1845379 1994841 48.05\n",
      "2006 1898463 2052377 48.05\n",
      "2007 1919408 2072139 48.09\n",
      "2008 1887234 2036289 48.1\n",
      "2009 1832925 1979303 48.08\n",
      "2010 1772738 1913851 48.09\n",
      "2011 1753500 1893230 48.08\n"
     ]
    }
   ],
   "source": [
    "print( '년도','남아','여아','남아율')\n",
    "print('=================================')\n",
    "for y, m, f in birthArr:\n",
    "    print( y,m,f, round(m/(m+f)*100,2) )"
   ]
  },
  {
   "cell_type": "code",
   "execution_count": 127,
   "metadata": {},
   "outputs": [],
   "source": [
    "# 4. 2000년도 이후데이터 에 대해\n",
    "# 출생량 을 구하고\n",
    "# 남아수가 1800000 이상이면 '많음'아니면 '적음'\n",
    "# 이라고 보여 주시요\n",
    "# \t남아수 출생량\n",
    "# 2000   1814601   '많음'\n",
    "# 2001   1799049   '적음'"
   ]
  },
  {
   "cell_type": "code",
   "execution_count": 133,
   "metadata": {},
   "outputs": [
    {
     "name": "stdout",
     "output_type": "stream",
     "text": [
      "남아수 출생량\n",
      "2000 1814601 많음\n",
      "2001 1799049 적음\n",
      "2002 1795206 적음\n",
      "2003 1825359 많음\n",
      "2004 1834145 많음\n",
      "2005 1845379 많음\n",
      "2006 1898463 많음\n",
      "2007 1919408 많음\n",
      "2008 1887234 많음\n",
      "2009 1832925 많음\n",
      "2010 1772738 적음\n",
      "2011 1753500 적음\n"
     ]
    }
   ],
   "source": [
    "arr2000 = birthArr[ birthArr[:,0]>=2000 ]\n",
    "print('남아수 출생량')\n",
    "for y,m,f in arr2000:\n",
    "    print( y, m, end=' ' )\n",
    "    if m>=1800000:\n",
    "        print('많음')\n",
    "    else:\n",
    "        print('적음')"
   ]
  },
  {
   "cell_type": "code",
   "execution_count": 131,
   "metadata": {},
   "outputs": [],
   "source": [
    "# 5.1800년대,1900년대,2000년대 각 남아,여야수 평균을 구하시요"
   ]
  },
  {
   "cell_type": "code",
   "execution_count": 134,
   "metadata": {},
   "outputs": [
    {
     "name": "stdout",
     "output_type": "stream",
     "text": [
      "1800년대 남아평균 176714.15\n",
      "1800년대 여아평균 111820.55\n"
     ]
    }
   ],
   "source": [
    "arr1800 = birthArr[ (birthArr[:,0]>=1800) & (birthArr[:,0]<=1899)]\n",
    "a1800Mean = arr1800.mean(axis=0)\n",
    "print( '1800년대 남아평균', a1800Mean[1])\n",
    "print( '1800년대 여아평균', a1800Mean[2])"
   ]
  },
  {
   "cell_type": "code",
   "execution_count": 135,
   "metadata": {},
   "outputs": [
    {
     "name": "stdout",
     "output_type": "stream",
     "text": [
      "1900년대 남아평균 1362901.51\n",
      "1900년대 여아평균 1384145.55\n"
     ]
    }
   ],
   "source": [
    "arr1900 = birthArr[ (birthArr[:,0]>=1900) & (birthArr[:,0]<=1999)]\n",
    "a1900Mean = arr1900.mean(axis=0)\n",
    "print( '1900년대 남아평균', a1900Mean[1])\n",
    "print( '1900년대 여아평균', a1900Mean[2])"
   ]
  },
  {
   "cell_type": "code",
   "execution_count": 136,
   "metadata": {},
   "outputs": [
    {
     "name": "stdout",
     "output_type": "stream",
     "text": [
      "2000 년도 남아평균 1831500.5833333333\n",
      "2000 년도 여아평균 1978477.5\n"
     ]
    }
   ],
   "source": [
    "arr2000 = birthArr[ birthArr[:,0]>=2000]\n",
    "a2000Mean = arr2000.mean(axis=0)\n",
    "print( '2000 년도 남아평균', a2000Mean[1])\n",
    "print( '2000 년도 여아평균', a2000Mean[2])"
   ]
  },
  {
   "cell_type": "code",
   "execution_count": null,
   "metadata": {},
   "outputs": [],
   "source": []
  },
  {
   "cell_type": "code",
   "execution_count": null,
   "metadata": {},
   "outputs": [],
   "source": []
  },
  {
   "cell_type": "code",
   "execution_count": null,
   "metadata": {},
   "outputs": [],
   "source": []
  },
  {
   "cell_type": "code",
   "execution_count": null,
   "metadata": {},
   "outputs": [],
   "source": []
  },
  {
   "cell_type": "code",
   "execution_count": null,
   "metadata": {},
   "outputs": [],
   "source": []
  },
  {
   "cell_type": "code",
   "execution_count": null,
   "metadata": {},
   "outputs": [],
   "source": []
  },
  {
   "cell_type": "code",
   "execution_count": null,
   "metadata": {},
   "outputs": [],
   "source": []
  }
 ],
 "metadata": {
  "kernelspec": {
   "display_name": "Python 3",
   "language": "python",
   "name": "python3"
  },
  "language_info": {
   "codemirror_mode": {
    "name": "ipython",
    "version": 3
   },
   "file_extension": ".py",
   "mimetype": "text/x-python",
   "name": "python",
   "nbconvert_exporter": "python",
   "pygments_lexer": "ipython3",
   "version": "3.8.8"
  }
 },
 "nbformat": 4,
 "nbformat_minor": 2
}
