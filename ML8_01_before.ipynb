{
 "cells": [
  {
   "cell_type": "code",
   "execution_count": null,
   "id": "9f210540",
   "metadata": {},
   "outputs": [],
   "source": [
    "# 주피터 노트북 환경설정\n",
    "import warnings\n",
    "warnings.filterwarnings('ignore')\n",
    "warnings.simplefilter('ignore')\n",
    "\n",
    "from IPython.display import set_matplotlib_formats\n",
    "set_matplotlib_formats(\"retina\")\n",
    "\n",
    "from IPython.display import Image\n",
    "\n",
    "from IPython.core.display import display, HTML\n",
    "# display(HTML(\"<style>.container { font-weight: bold !important; font-family:'Malgun Gothic' !important;}</style>\"))\n",
    "display(HTML(\"<style>.container { font-weight: bold !important;}</style>\"))\n",
    "display(HTML(\"<style>.container { width: 98% !important; }</style>\"))"
   ]
  },
  {
   "cell_type": "code",
   "execution_count": null,
   "id": "ca421184",
   "metadata": {},
   "outputs": [],
   "source": [
    "import numpy as np\n",
    "import pandas as pd\n",
    "import os\n",
    "\n",
    "import matplotlib\n",
    "import matplotlib.pyplot as plt\n",
    "import seaborn as sns\n",
    "\n",
    "%matplotlib inline\n",
    "\n",
    "# 관련 라이브러리 임포트 \n",
    "import matplotlib.font_manager as fm\n",
    "\n",
    "#  한글글꼴로 변경\n",
    "# plt.rcParams['font.family'] = '한글글꼴명'\n",
    "plt.rcParams['font.size'] = 11.0\n",
    "# plt.rcParams['font.family'] = 'batang'\n",
    "plt.rcParams['font.family'] = 'Malgun Gothic'\n",
    "\n",
    "# 그래프에서 마이너스 폰트 깨지는 문제에 대한 대처\n",
    "matplotlib.rcParams['axes.unicode_minus'] = False\n",
    "\n",
    "# 그래프 기본 크기 설정 \n",
    "plt.rcParams['figure.figsize'] = [10, 6]"
   ]
  },
  {
   "cell_type": "markdown",
   "id": "8d0c904d",
   "metadata": {},
   "source": [
    "# 군집화(Clustering)\n",
    "\n",
    "- 비지도학습의 대표적인 기술로 x에 대한 레이블이 지정 되어있지 않은 데이터를 그룹핑하는 분석 알고리즘\n",
    "- 데이터들의 특성을 고려해 데이터 집단(클러스터)을 정의하고 데이터 집단의 대표할 수 있는 중심점을 찾는 것으로 데이터 마이닝의 한 방법.\n",
    "- 클러스터란 비슷한 특성을 가진 데이터들의 집단이며 반대로 데이터의 특성이 다르면 다른 클러스터에 속해야 한다. \n",
    "\n",
    "### 군집 알고리즘의 종류 \n",
    "\n",
    "- K 평균  (K-Means)\n",
    "    - 각 군집의 평균(mean)을 활용하여 K개의 군집으로 묶는다는 의미다. 여기서 평균(Means)이란 각 클러스터의 중심과 데이터들의 평균 거리를 의미한다\n",
    "    - 특정한 임의의 지점을 선택해 해당 중심에 가장 가까운 포인트들을 선택하는 군집화기법.\n",
    "    - 선택된 포인트의 평균지점으로 이동하고  이동된 중심점에서 다시 가까운 포인트를 선택,\n",
    "        다시 중심점을 평균 지점으로 이동하는 프로세스를 반복적으로 수행 \n",
    "    - 일반적으로 군집화에서 가장 많이 사용되는 알고리즘\n",
    "    - 거리기반 알고리즘으로 속성의 개수가 매우 많을수록 군집화 정확도가 떨어짐\n",
    "    \n",
    "    <img src='https://media.vlpt.us/images/jhlee508/post/f5b48f20-25ac-4582-a65e-92783d91b877/image.png' width='500'>\n",
    "    \n",
    "    <img src='https://img1.daumcdn.net/thumb/R1280x0/?scode=mtistory2&fname=https%3A%2F%2Fblog.kakaocdn.net%2Fdn%2Flr0M5%2FbtqGgxdBrBJ%2F8F7LMrETuqwVgj7sWyKhHk%2Fimg.png'>\n",
    "    \n",
    "\n",
    "- 평균이동(Mean Shift) \n",
    "    - K 평균과 유사하지만 거리 중심이 아니라 데이터가 모여있는 밀도가 가장 높은쪽으로 군집 중심점을 이동하면서 군집화를 수행함\n",
    "    - 정형 데이터 세트보다 컴퓨터 비전 영역에서 이미지나 영상 데이터에서 특정 개체를 구분하거나 움직임을 추적하는데 역할을 수행하는 알고리즘\n",
    "    - 데이터 세트의 형태를 특정 형태로 가정한다던가, 특정 분포도 기반의 모델로 가정하지 않기 때문에 좀 더 유연한 군집화 가능. 이상치의 영향력 크지 않음. 미리 군집의 개수 정할 필요 없음 \n",
    "    \n",
    "    <img src='https://img1.daumcdn.net/thumb/R1280x0/?scode=mtistory2&fname=https%3A%2F%2Fblog.kakaocdn.net%2Fdn%2FAj0LE%2FbtqGg52g3fm%2FMKvz1DKBP0tmLoRdoAPA9K%2Fimg.png'>\n",
    "    \n",
    "    \n",
    "- GMM(Gaussian Mixture Model)\n",
    "    - 군집화를 적용하는 데이터가 여러개의 가우시안분포를 모델을 섞어서 생성된 모델로 가정해 수행하는 방식\n",
    "    - Gaussian 분포가 여러 개 혼합된 clustering 알고리즘\n",
    "    - 전체 데이터 세트는 서로 다른 정규분포를 가진 여러가지 확률 분포 곡선으로 구성되어 있으며, 정규분포에 기반에 군집화를 수행\n",
    "    -  여러개의 정규 분포 곡선 추출 뒤, 개별 데이터가 이 중 어떤 정규분포에 속하는지 결정한다. \n",
    "        이러한 방식을 모수추정이라고 하며 \"개별 정규 분포의 평균과 분산\", \n",
    "        \"각 데이터가 어떤 정규 분포에 해당되는지의 확률\"을 구하기 위해서 추정한다 \n",
    "        <img src='https://img1.daumcdn.net/thumb/R1280x0/?scode=mtistory2&fname=http%3A%2F%2Fcfile7.uf.tistory.com%2Fimage%2F99BC00385AC75F9A03072C'>\n",
    "        \n",
    "        \n",
    "- DBSCAN\n",
    "    - Density Based Spatial Clustering of Applications with Noise\n",
    "    - 밀도 기반 군집화의 대표적 예\n",
    "    - 데이터의 분포가 기하학적으로 복잡한 데이터 세트에도 효과적인 군집화가 가능 \n",
    "    \n",
    "    <img src ='https://img1.daumcdn.net/thumb/R1280x0/?scode=mtistory2&fname=https%3A%2F%2Fblog.kakaocdn.net%2Fdn%2FeGhb0G%2FbtqGnHS7GKm%2FGza0SloJNeB38XEsjbu70K%2Fimg.png' width='500'>\n",
    "    \n",
    "  "
   ]
  },
  {
   "cell_type": "code",
   "execution_count": null,
   "id": "c2829826",
   "metadata": {},
   "outputs": [],
   "source": [
    "\n"
   ]
  },
  {
   "cell_type": "markdown",
   "id": "47ca0936",
   "metadata": {},
   "source": [
    "# K-Means를 이용한 붓꽃(Iris) 데이터 셋 Clustering\n",
    "\n",
    "```\n",
    "KMeans(n_clusters=3, init='k-means++', max_iter=300, random_state=111)\n",
    "\n",
    "n_clusters : 군집 갯수. 군집중심점의 갯수 \n",
    "init : 초기 군집중심점. k-means++ 알고리즘이 알아서 처리 \n",
    "max-iter : 최대반복횟수\n",
    "labels : 데이터포인트가 속한 군집 중심점 레이블\n",
    "cluster_centers : 각 군집중심점 좌표\n",
    "```"
   ]
  },
  {
   "cell_type": "code",
   "execution_count": null,
   "id": "413a6f4d",
   "metadata": {},
   "outputs": [],
   "source": [
    "from sklearn.datasets import load_iris\n",
    "from sklearn.cluster import KMeans"
   ]
  },
  {
   "cell_type": "code",
   "execution_count": null,
   "id": "4be9cf85",
   "metadata": {},
   "outputs": [],
   "source": [
    "iris = load_iris()\n",
    "\n",
    "df_iris = pd.DataFrame(data=iris.data, columns=['sepal_length','sepal_width','petal_length','petal_width'])\n",
    "df_iris.head(3)"
   ]
  },
  {
   "cell_type": "code",
   "execution_count": null,
   "id": "7239079f",
   "metadata": {},
   "outputs": [],
   "source": [
    "model_kmeans = KMeans(n_clusters=3, init='k-means++', max_iter=300, random_state=111)\n",
    "# 군집 실행 \n",
    "model_kmeans.fit(df_iris)\n",
    "\n",
    "model_kmeans.labels_"
   ]
  },
  {
   "cell_type": "code",
   "execution_count": null,
   "id": "92d7a857",
   "metadata": {},
   "outputs": [],
   "source": [
    "model_kmeans.predict(df_iris)"
   ]
  },
  {
   "cell_type": "code",
   "execution_count": null,
   "id": "991367aa",
   "metadata": {},
   "outputs": [],
   "source": [
    "df_iris['cluster'] = model_kmeans.labels_"
   ]
  },
  {
   "cell_type": "code",
   "execution_count": null,
   "id": "bdb46a02",
   "metadata": {},
   "outputs": [],
   "source": [
    "df_iris.sample(3)"
   ]
  },
  {
   "cell_type": "code",
   "execution_count": null,
   "id": "49afb28b",
   "metadata": {},
   "outputs": [],
   "source": [
    "df_iris['target'] = iris.target\n",
    "df_iris.sample(3)"
   ]
  },
  {
   "cell_type": "code",
   "execution_count": null,
   "id": "60a23e3a",
   "metadata": {},
   "outputs": [],
   "source": [
    "df_iris.groupby(['target','cluster'])['sepal_length'].count()"
   ]
  },
  {
   "cell_type": "code",
   "execution_count": null,
   "id": "20437114",
   "metadata": {},
   "outputs": [],
   "source": [
    "df_iris.groupby(['target'])['sepal_length'].count()"
   ]
  },
  {
   "cell_type": "code",
   "execution_count": null,
   "id": "eb41f50a",
   "metadata": {},
   "outputs": [],
   "source": [
    "iris.target_names"
   ]
  },
  {
   "cell_type": "markdown",
   "id": "e6abf3b2",
   "metadata": {},
   "source": [
    "### 데이터 차원축소"
   ]
  },
  {
   "cell_type": "code",
   "execution_count": null,
   "id": "706a56c0",
   "metadata": {},
   "outputs": [],
   "source": [
    "from sklearn.decomposition import PCA\n",
    "\n",
    "pca = PCA(n_components=2)\n",
    "\n",
    "pca_transformed = pca.fit_transform(iris.data)\n",
    "\n",
    "df_iris['pca_x'] = pca_transformed[:,0]\n",
    "df_iris['pca_y'] = pca_transformed[:,1]\n",
    "df_iris.head(3)"
   ]
  },
  {
   "cell_type": "code",
   "execution_count": null,
   "id": "0e697fe0",
   "metadata": {},
   "outputs": [],
   "source": [
    "plt.scatter(x=df_iris.loc[:, 'pca_x'], y=df_iris.loc[:, 'pca_y'], c=df_iris['cluster']) "
   ]
  },
  {
   "cell_type": "code",
   "execution_count": null,
   "id": "b75a980a",
   "metadata": {},
   "outputs": [],
   "source": [
    "sns.scatterplot(x='pca_x', y='pca_y', data=df_iris, hue='cluster', style='cluster', palette='deep')"
   ]
  },
  {
   "cell_type": "markdown",
   "id": "1b3e5e68",
   "metadata": {},
   "source": [
    "### 군집화 데이타셋 활용\n",
    "\n",
    "make_blobs(n_samples=200, n_features=2, centers=3, cluster_std=0.8, random_state=111)\n",
    "\n",
    "- n_samples: 총 데이터의 개수. default=100\n",
    "- n_features: 데이터의 피처 갯수, 시각화를 필요로 한다면 주로 2개, x 좌표, y 좌표\n",
    "- centers: 정수형이면 군집수. ndarray 형태로 표현할 경우 개별 군 집 중심점의 좌표.\n",
    "- cluster_std: 생성 군집 데이터의 표준 편차. 군집 내의 데이터가 표준편차 ? 로 생성 \n",
    "   [0.8, 1,2, 0.6]과 같은 형태로 표현되면 3개의 군집에서 첫 번째 군집 내 데이터의 표준편차는 0.8, 두 번째 군집 내 데이터의 표준 편차는 1.2, 세 번째 군집 내 데이터의 표준편차는 0.6으로 정의 \n",
    "- center_box : 생성 클러스터의 bounding box, (-10,10) 디폴트 "
   ]
  },
  {
   "cell_type": "code",
   "execution_count": null,
   "id": "13b09e02",
   "metadata": {},
   "outputs": [],
   "source": [
    "from sklearn.datasets import make_blobs"
   ]
  },
  {
   "cell_type": "code",
   "execution_count": null,
   "id": "7cc8fe9a",
   "metadata": {},
   "outputs": [],
   "source": [
    "X, y = make_blobs(n_samples=200, n_features=2, centers=3, cluster_std=0.8, random_state=111)\n",
    "print(X.shape, y.shape)"
   ]
  },
  {
   "cell_type": "code",
   "execution_count": null,
   "id": "9a9fa406",
   "metadata": {},
   "outputs": [],
   "source": [
    "unique, counts = np.unique(y, return_counts=True)\n",
    "unique,counts"
   ]
  },
  {
   "cell_type": "code",
   "execution_count": null,
   "id": "c1a24b54",
   "metadata": {},
   "outputs": [],
   "source": [
    "df_cluster = pd.DataFrame(data=X, columns=['ftr1', 'ftr2'])\n",
    "df_cluster['target'] = y\n",
    "df_cluster.sample(5)"
   ]
  },
  {
   "cell_type": "code",
   "execution_count": null,
   "id": "ed26dcc7",
   "metadata": {},
   "outputs": [],
   "source": [
    "sns.color_palette(\"Paired\")\n",
    "sns.scatterplot(x='ftr1', y='ftr2', data=df_cluster, hue='target', style='target', palette='Paired')"
   ]
  },
  {
   "cell_type": "code",
   "execution_count": null,
   "id": "369a3c7e",
   "metadata": {},
   "outputs": [],
   "source": [
    "kmeans = KMeans(n_clusters=3, init='k-means++', max_iter=200, random_state=0)\n",
    "cluster_labels = kmeans.fit_predict(X)\n",
    "\n",
    "df_cluster['kmeans_label']  = cluster_labels\n",
    "\n",
    "df_cluster.sample(5)"
   ]
  },
  {
   "cell_type": "code",
   "execution_count": null,
   "id": "c7c10152",
   "metadata": {},
   "outputs": [],
   "source": [
    "centers = kmeans.cluster_centers_\n",
    "centers"
   ]
  },
  {
   "cell_type": "code",
   "execution_count": null,
   "id": "4c84a076",
   "metadata": {},
   "outputs": [],
   "source": [
    "df_cluster.groupby('target')['kmeans_label'].value_counts()"
   ]
  },
  {
   "cell_type": "code",
   "execution_count": null,
   "id": "c727e5bb",
   "metadata": {},
   "outputs": [],
   "source": [
    "sns.color_palette(\"Paired\")\n",
    "sns.scatterplot(x='ftr1', y='ftr2', data=df_cluster, hue='target', style='target', palette='Paired')"
   ]
  },
  {
   "cell_type": "code",
   "execution_count": null,
   "id": "c1d351b6",
   "metadata": {},
   "outputs": [],
   "source": []
  },
  {
   "cell_type": "code",
   "execution_count": null,
   "id": "424a3731",
   "metadata": {},
   "outputs": [],
   "source": []
  },
  {
   "cell_type": "code",
   "execution_count": null,
   "id": "83b90aa8",
   "metadata": {},
   "outputs": [],
   "source": []
  },
  {
   "cell_type": "code",
   "execution_count": null,
   "id": "b67ccae8",
   "metadata": {},
   "outputs": [],
   "source": []
  },
  {
   "cell_type": "code",
   "execution_count": null,
   "id": "1bc98d6b",
   "metadata": {},
   "outputs": [],
   "source": []
  },
  {
   "cell_type": "code",
   "execution_count": null,
   "id": "9fa0817a",
   "metadata": {},
   "outputs": [],
   "source": []
  },
  {
   "cell_type": "code",
   "execution_count": null,
   "id": "d2d075a9",
   "metadata": {},
   "outputs": [],
   "source": []
  },
  {
   "cell_type": "code",
   "execution_count": null,
   "id": "0ee9b2e6",
   "metadata": {},
   "outputs": [],
   "source": []
  },
  {
   "cell_type": "code",
   "execution_count": null,
   "id": "d1e9104b",
   "metadata": {},
   "outputs": [],
   "source": []
  },
  {
   "cell_type": "code",
   "execution_count": null,
   "id": "54c47a2f",
   "metadata": {},
   "outputs": [],
   "source": []
  },
  {
   "cell_type": "code",
   "execution_count": null,
   "id": "74eec8bd",
   "metadata": {},
   "outputs": [],
   "source": []
  },
  {
   "cell_type": "code",
   "execution_count": null,
   "id": "391d8630",
   "metadata": {},
   "outputs": [],
   "source": []
  },
  {
   "cell_type": "code",
   "execution_count": null,
   "id": "b84fbbfb",
   "metadata": {},
   "outputs": [],
   "source": []
  },
  {
   "cell_type": "code",
   "execution_count": null,
   "id": "cbd9192f",
   "metadata": {},
   "outputs": [],
   "source": []
  },
  {
   "cell_type": "code",
   "execution_count": null,
   "id": "728bc945",
   "metadata": {},
   "outputs": [],
   "source": []
  },
  {
   "cell_type": "code",
   "execution_count": null,
   "id": "f78c58ef",
   "metadata": {},
   "outputs": [],
   "source": []
  },
  {
   "cell_type": "code",
   "execution_count": null,
   "id": "f00813c6",
   "metadata": {},
   "outputs": [],
   "source": []
  },
  {
   "cell_type": "code",
   "execution_count": null,
   "id": "c3f737d5",
   "metadata": {},
   "outputs": [],
   "source": []
  },
  {
   "cell_type": "code",
   "execution_count": null,
   "id": "9c095307",
   "metadata": {},
   "outputs": [],
   "source": []
  },
  {
   "cell_type": "code",
   "execution_count": null,
   "id": "0c7ff7a5",
   "metadata": {},
   "outputs": [],
   "source": []
  },
  {
   "cell_type": "code",
   "execution_count": null,
   "id": "16b8cd15",
   "metadata": {},
   "outputs": [],
   "source": []
  },
  {
   "cell_type": "code",
   "execution_count": null,
   "id": "c7e8e087",
   "metadata": {},
   "outputs": [],
   "source": []
  },
  {
   "cell_type": "code",
   "execution_count": null,
   "id": "79243c59",
   "metadata": {},
   "outputs": [],
   "source": []
  },
  {
   "cell_type": "code",
   "execution_count": null,
   "id": "04759066",
   "metadata": {},
   "outputs": [],
   "source": []
  }
 ],
 "metadata": {
  "kernelspec": {
   "display_name": "Python 3",
   "language": "python",
   "name": "python3"
  },
  "language_info": {
   "codemirror_mode": {
    "name": "ipython",
    "version": 3
   },
   "file_extension": ".py",
   "mimetype": "text/x-python",
   "name": "python",
   "nbconvert_exporter": "python",
   "pygments_lexer": "ipython3",
   "version": "3.8.8"
  }
 },
 "nbformat": 4,
 "nbformat_minor": 5
}
